{
 "cells": [
  {
   "cell_type": "code",
   "execution_count": 24,
   "id": "16d87348",
   "metadata": {},
   "outputs": [],
   "source": [
    "def fac(n):\n",
    "    res=1\n",
    "    for i in range(1,n+1):\n",
    "        res=res*i\n",
    "    return res"
   ]
  },
  {
   "cell_type": "code",
   "execution_count": 100,
   "id": "4e58d8b7",
   "metadata": {},
   "outputs": [],
   "source": [
    "def count_rep(string):\n",
    "    c=1\n",
    "    for i in set(string):\n",
    "        x=string.count(i)\n",
    "        if x>1:\n",
    "            c*=fac(string.count(i))\n",
    "    return c"
   ]
  },
  {
   "cell_type": "code",
   "execution_count": 101,
   "id": "27740fd2",
   "metadata": {},
   "outputs": [],
   "source": [
    "def funx(string):\n",
    "    if len(list(set(string)))==1:\n",
    "        return 1\n",
    "    arr=string.split(' ')\n",
    "    res=1\n",
    "    for i in range(len(arr)):\n",
    "        t0=len(arr[i])\n",
    "        t1=count_rep(arr[i])\n",
    "        r=fac(t0)//t1\n",
    "        res=res*r\n",
    "    return res%(10**9+7)"
   ]
  },
  {
   "cell_type": "code",
   "execution_count": 102,
   "id": "b1373e1f",
   "metadata": {},
   "outputs": [
    {
     "data": {
      "text/plain": [
       "18"
      ]
     },
     "execution_count": 102,
     "metadata": {},
     "output_type": "execute_result"
    }
   ],
   "source": [
    "funx('too hot')"
   ]
  },
  {
   "cell_type": "code",
   "execution_count": 103,
   "id": "d94d92e5",
   "metadata": {},
   "outputs": [
    {
     "data": {
      "text/plain": [
       "1"
      ]
     },
     "execution_count": 103,
     "metadata": {},
     "output_type": "execute_result"
    }
   ],
   "source": [
    "funx('aa')"
   ]
  },
  {
   "cell_type": "code",
   "execution_count": 104,
   "id": "5cef3cc1",
   "metadata": {},
   "outputs": [
    {
     "data": {
      "text/plain": [
       "2520"
      ]
     },
     "execution_count": 104,
     "metadata": {},
     "output_type": "execute_result"
    }
   ],
   "source": [
    "funx('ptx cccbhbq')"
   ]
  },
  {
   "cell_type": "code",
   "execution_count": 105,
   "id": "5c6378ab",
   "metadata": {},
   "outputs": [
    {
     "data": {
      "text/plain": [
       "210324488"
      ]
     },
     "execution_count": 105,
     "metadata": {},
     "output_type": "execute_result"
    }
   ],
   "source": [
    "funx('b okzojaporykbmq tybq zrztwlolvcyumcsq jjuowpp')"
   ]
  },
  {
   "cell_type": "code",
   "execution_count": null,
   "id": "b79857d4",
   "metadata": {},
   "outputs": [],
   "source": []
  }
 ],
 "metadata": {
  "kernelspec": {
   "display_name": "Python 3 (ipykernel)",
   "language": "python",
   "name": "python3"
  },
  "language_info": {
   "codemirror_mode": {
    "name": "ipython",
    "version": 3
   },
   "file_extension": ".py",
   "mimetype": "text/x-python",
   "name": "python",
   "nbconvert_exporter": "python",
   "pygments_lexer": "ipython3",
   "version": "3.10.1"
  }
 },
 "nbformat": 4,
 "nbformat_minor": 5
}
