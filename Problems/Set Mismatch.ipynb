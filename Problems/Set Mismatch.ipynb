{
 "cells": [
  {
   "cell_type": "markdown",
   "id": "d1b97935",
   "metadata": {},
   "source": [
    "You have a set of integers s, which originally contains all the numbers from 1 to n. Unfortunately, due to some error, one of the numbers in s got duplicated to another number in the set, which results in repetition of one number and loss of another number.\n",
    "\n",
    "You are given an integer array nums representing the data status of this set after the error.\n",
    "\n",
    "Find the number that occurs twice and the number that is missing and return them in the form of an array.\n",
    "\n",
    " \n",
    "\n",
    "Example 1:\n",
    "\n",
    "Input: nums = [1,2,2,4]\n",
    "Output: [2,3]\n",
    "    \n",
    "Example 2:\n",
    "\n",
    "Input: nums = [1,1]\n",
    "Output: [1,2]"
   ]
  },
  {
   "cell_type": "code",
   "execution_count": 1,
   "id": "0b0b7a2d",
   "metadata": {},
   "outputs": [],
   "source": [
    "from collections import Counter\n",
    "def fx(nums):\n",
    "    freq=Counter(nums)\n",
    "    for i in range(1,len(nums)+1):\n",
    "        if i not in freq.keys():\n",
    "            sec=i\n",
    "            break\n",
    "    for i in freq.keys():\n",
    "        if freq[i]==2:\n",
    "            fir=i\n",
    "            break\n",
    "    return [fir,sec]"
   ]
  },
  {
   "cell_type": "code",
   "execution_count": 2,
   "id": "bb62c680",
   "metadata": {},
   "outputs": [
    {
     "data": {
      "text/plain": [
       "[2, 3]"
      ]
     },
     "execution_count": 2,
     "metadata": {},
     "output_type": "execute_result"
    }
   ],
   "source": [
    "fx([1,2,2,4])"
   ]
  },
  {
   "cell_type": "code",
   "execution_count": 3,
   "id": "6634ac95",
   "metadata": {},
   "outputs": [
    {
     "data": {
      "text/plain": [
       "[1, 2]"
      ]
     },
     "execution_count": 3,
     "metadata": {},
     "output_type": "execute_result"
    }
   ],
   "source": [
    "fx([1,1])"
   ]
  },
  {
   "cell_type": "code",
   "execution_count": null,
   "id": "2edf4930",
   "metadata": {},
   "outputs": [],
   "source": []
  }
 ],
 "metadata": {
  "kernelspec": {
   "display_name": "Python 3 (ipykernel)",
   "language": "python",
   "name": "python3"
  },
  "language_info": {
   "codemirror_mode": {
    "name": "ipython",
    "version": 3
   },
   "file_extension": ".py",
   "mimetype": "text/x-python",
   "name": "python",
   "nbconvert_exporter": "python",
   "pygments_lexer": "ipython3",
   "version": "3.10.6"
  }
 },
 "nbformat": 4,
 "nbformat_minor": 5
}
