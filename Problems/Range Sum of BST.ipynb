{
 "cells": [
  {
   "cell_type": "markdown",
   "id": "cfa71525",
   "metadata": {},
   "source": [
    "Given the root node of a binary search tree and two integers low and high, return the sum of values of all nodes with a value in the inclusive range [low, high].\n",
    "\n",
    " \n",
    "\n",
    "Example 1:\n",
    "\n",
    "\n",
    "Input: root = [10,5,15,3,7,null,18], low = 7, high = 15\n",
    "    \n",
    "Output: 32\n",
    "    \n",
    "Explanation: Nodes 7, 10, and 15 are in the range [7, 15]. 7 + 10 + 15 = 32.\n",
    "    \n",
    "Example 2:\n",
    "\n",
    "\n",
    "Input: root = [10,5,15,3,7,13,18,1,null,6], low = 6, high = 10\n",
    "    \n",
    "Output: 23\n",
    "    \n",
    "Explanation: Nodes 6, 7, and 10 are in the range [6, 10]. 6 + 7 + 10 = 23."
   ]
  },
  {
   "cell_type": "code",
   "execution_count": 2,
   "id": "d5e46876",
   "metadata": {},
   "outputs": [],
   "source": [
    "class TreeNode:\n",
    "    def __init__(self, val=0, left=None, right=None):\n",
    "        self.val = val\n",
    "        self.left = left\n",
    "        self.right = right"
   ]
  },
  {
   "cell_type": "code",
   "execution_count": 4,
   "id": "091321b5",
   "metadata": {},
   "outputs": [],
   "source": [
    "def inorder(self,root):\n",
    "    res=[]\n",
    "    if root is None : return\n",
    "    if root.left:\n",
    "        res=res+inorder(root.left)\n",
    "    res.append(root.val)\n",
    "    if root.right:\n",
    "        res=res+inorder(root.right)\n",
    "    return res\n"
   ]
  },
  {
   "cell_type": "code",
   "execution_count": 5,
   "id": "a587b599",
   "metadata": {},
   "outputs": [],
   "source": [
    "def rangeSumBST( root, low: int, high: int) -> int:\n",
    "    arr=inorder(root)\n",
    "    s=0\n",
    "    for i in arr:\n",
    "        if i>=low and i<=high:\n",
    "            s+=i\n",
    "    return s"
   ]
  },
  {
   "cell_type": "code",
   "execution_count": null,
   "id": "a1d9507f",
   "metadata": {},
   "outputs": [],
   "source": []
  }
 ],
 "metadata": {
  "kernelspec": {
   "display_name": "Python 3 (ipykernel)",
   "language": "python",
   "name": "python3"
  },
  "language_info": {
   "codemirror_mode": {
    "name": "ipython",
    "version": 3
   },
   "file_extension": ".py",
   "mimetype": "text/x-python",
   "name": "python",
   "nbconvert_exporter": "python",
   "pygments_lexer": "ipython3",
   "version": "3.10.6"
  }
 },
 "nbformat": 4,
 "nbformat_minor": 5
}
