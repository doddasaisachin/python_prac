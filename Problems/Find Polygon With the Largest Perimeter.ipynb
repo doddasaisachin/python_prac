{
 "cells": [
  {
   "cell_type": "markdown",
   "id": "fa297dff",
   "metadata": {},
   "source": [
    "You are given an array of positive integers nums of length n.\n",
    "\n",
    "A polygon is a closed plane figure that has at least 3 sides. The longest side of a polygon is smaller than the sum of its other sides.\n",
    "\n",
    "Conversely, if you have k (k >= 3) positive real numbers a1, a2, a3, ..., ak where a1 <= a2 <= a3 <= ... <= ak and a1 + a2 + a3 + ... + ak-1 > ak, then there always exists a polygon with k sides whose lengths are a1, a2, a3, ..., ak.\n",
    "\n",
    "The perimeter of a polygon is the sum of lengths of its sides.\n",
    "\n",
    "Return the largest possible perimeter of a polygon whose sides can be formed from nums, or -1 if it is not possible to create a polygon.m"
   ]
  },
  {
   "cell_type": "code",
   "execution_count": 2,
   "id": "f271562c",
   "metadata": {},
   "outputs": [],
   "source": [
    "def fx(nums):\n",
    "    nums.sort()\n",
    "    max_ele=nums[-1]\n",
    "    add=sum(nums[:-1])\n",
    "    while len(nums)>=3:\n",
    "        if max_ele>=add:\n",
    "            nums=nums[:-1]\n",
    "            max_ele=nums[-1]\n",
    "            add=add-max_ele\n",
    "        else:\n",
    "            return add+max_ele\n",
    "    return -1"
   ]
  },
  {
   "cell_type": "code",
   "execution_count": 3,
   "id": "a8e4813e",
   "metadata": {},
   "outputs": [
    {
     "data": {
      "text/plain": [
       "12"
      ]
     },
     "execution_count": 3,
     "metadata": {},
     "output_type": "execute_result"
    }
   ],
   "source": [
    "fx([1,12,1,2,5,50,3])"
   ]
  },
  {
   "cell_type": "code",
   "execution_count": 4,
   "id": "e30da15a",
   "metadata": {},
   "outputs": [
    {
     "data": {
      "text/plain": [
       "-1"
      ]
     },
     "execution_count": 4,
     "metadata": {},
     "output_type": "execute_result"
    }
   ],
   "source": [
    "fx([5,5,50])"
   ]
  },
  {
   "cell_type": "code",
   "execution_count": null,
   "id": "68fa4f80",
   "metadata": {},
   "outputs": [],
   "source": []
  }
 ],
 "metadata": {
  "kernelspec": {
   "display_name": "Python 3 (ipykernel)",
   "language": "python",
   "name": "python3"
  },
  "language_info": {
   "codemirror_mode": {
    "name": "ipython",
    "version": 3
   },
   "file_extension": ".py",
   "mimetype": "text/x-python",
   "name": "python",
   "nbconvert_exporter": "python",
   "pygments_lexer": "ipython3",
   "version": "3.10.6"
  }
 },
 "nbformat": 4,
 "nbformat_minor": 5
}
