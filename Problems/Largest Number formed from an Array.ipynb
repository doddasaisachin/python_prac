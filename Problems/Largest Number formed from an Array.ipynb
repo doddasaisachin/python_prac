{
 "cells": [
  {
   "cell_type": "markdown",
   "id": "13685088",
   "metadata": {},
   "source": [
    "Given a list of non negative integers, arrange them in such a manner that they form the largest number possible.The result is going to be very large, hence return the result in the form of a string."
   ]
  },
  {
   "cell_type": "markdown",
   "id": "55c6abe2",
   "metadata": {},
   "source": [
    "##### Example 1:\n",
    "\n",
    "Input: \n",
    "N = 5\n",
    "Arr[] = [3, 30, 34, 5, 9]\n",
    "\n",
    "Output: 9534330\n",
    "    \n",
    "Explanation: Given numbers are [3, 30, 34,\n",
    "5, 9], the arrangement 9534330 gives the\n",
    "largest value."
   ]
  },
  {
   "cell_type": "markdown",
   "id": "766cfbeb",
   "metadata": {},
   "source": [
    "##### Example 2:\n",
    "\n",
    "Input: \n",
    "N = 4\n",
    "Arr[] = [54, 546, 548, 60]\n",
    "\n",
    "Output: 6054854654\n",
    "    \n",
    "Explanation: Given numbers are [54, 546,\n",
    "548, 60], the arrangement 6054854654 \n",
    "gives the largest value"
   ]
  },
  {
   "cell_type": "code",
   "execution_count": 5,
   "id": "516d081e",
   "metadata": {},
   "outputs": [],
   "source": [
    "from itertools import permutations\n",
    "\n",
    "def func(n,arr):\n",
    "    arr=[str(i) for i in arr]\n",
    "    a=(tuple(permutations(arr,n)))\n",
    "    no=[]\n",
    "    for i in a:\n",
    "        tem=''\n",
    "        tem=tem.join(list(i))\n",
    "        no.append(int(tem))\n",
    "    return max(no)"
   ]
  },
  {
   "cell_type": "code",
   "execution_count": 6,
   "id": "654e20de",
   "metadata": {
    "scrolled": true
   },
   "outputs": [
    {
     "data": {
      "text/plain": [
       "9534330"
      ]
     },
     "execution_count": 6,
     "metadata": {},
     "output_type": "execute_result"
    }
   ],
   "source": [
    "func(5,[3,30,34,5,9])"
   ]
  },
  {
   "cell_type": "code",
   "execution_count": 7,
   "id": "f0faaf28",
   "metadata": {
    "scrolled": true
   },
   "outputs": [
    {
     "data": {
      "text/plain": [
       "6054854654"
      ]
     },
     "execution_count": 7,
     "metadata": {},
     "output_type": "execute_result"
    }
   ],
   "source": [
    "func(4,[54,546,548,60])"
   ]
  }
 ],
 "metadata": {
  "kernelspec": {
   "display_name": "Python 3 (ipykernel)",
   "language": "python",
   "name": "python3"
  },
  "language_info": {
   "codemirror_mode": {
    "name": "ipython",
    "version": 3
   },
   "file_extension": ".py",
   "mimetype": "text/x-python",
   "name": "python",
   "nbconvert_exporter": "python",
   "pygments_lexer": "ipython3",
   "version": "3.10.6"
  }
 },
 "nbformat": 4,
 "nbformat_minor": 5
}
