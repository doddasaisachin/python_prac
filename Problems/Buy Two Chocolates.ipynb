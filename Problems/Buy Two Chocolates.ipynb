{
 "cells": [
  {
   "cell_type": "markdown",
   "id": "15d8f3b1",
   "metadata": {},
   "source": [
    "You are given an integer array prices representing the prices of various chocolates in a store. You are also given a single integer money, which represents your initial amount of money.\n",
    "\n",
    "You must buy exactly two chocolates in such a way that you still have some non-negative leftover money. You would like to minimize the sum of the prices of the two chocolates you buy.\n",
    "\n",
    "Return the amount of money you will have leftover after buying the two chocolates. If there is no way for you to buy two chocolates without ending up in debt, return money. Note that the leftover must be non-negative.\n",
    "\n",
    " \n",
    "\n",
    "Example 1:\n",
    "\n",
    "Input: prices = [1,2,2], money = 3\n",
    "Output: 0\n",
    "Explanation: Purchase the chocolates priced at 1 and 2 units respectively. You will have 3 - 3 = 0 units of money afterwards. Thus, we return 0.\n",
    "\n",
    "Example 2:\n",
    "\n",
    "Input: prices = [3,2,3], money = 3\n",
    "Output: 3\n",
    "Explanation: You cannot buy 2 chocolates without going in debt, so we return 3."
   ]
  },
  {
   "cell_type": "code",
   "execution_count": 1,
   "id": "867dc08b",
   "metadata": {},
   "outputs": [],
   "source": [
    "def fx(prices,money):\n",
    "    prices.sort()\n",
    "    if (prices[0]+prices[1])-money>0:\n",
    "        return money\n",
    "    return money-(prices[0]+prices[1])"
   ]
  },
  {
   "cell_type": "code",
   "execution_count": 2,
   "id": "169eca3c",
   "metadata": {},
   "outputs": [
    {
     "data": {
      "text/plain": [
       "0"
      ]
     },
     "execution_count": 2,
     "metadata": {},
     "output_type": "execute_result"
    }
   ],
   "source": [
    "fx([1,2,3],3)"
   ]
  },
  {
   "cell_type": "code",
   "execution_count": 3,
   "id": "d19f5021",
   "metadata": {},
   "outputs": [
    {
     "data": {
      "text/plain": [
       "3"
      ]
     },
     "execution_count": 3,
     "metadata": {},
     "output_type": "execute_result"
    }
   ],
   "source": [
    "fx([3,2,3],3)"
   ]
  },
  {
   "cell_type": "code",
   "execution_count": null,
   "id": "b15008a5",
   "metadata": {},
   "outputs": [],
   "source": []
  }
 ],
 "metadata": {
  "kernelspec": {
   "display_name": "Python 3 (ipykernel)",
   "language": "python",
   "name": "python3"
  },
  "language_info": {
   "codemirror_mode": {
    "name": "ipython",
    "version": 3
   },
   "file_extension": ".py",
   "mimetype": "text/x-python",
   "name": "python",
   "nbconvert_exporter": "python",
   "pygments_lexer": "ipython3",
   "version": "3.10.6"
  }
 },
 "nbformat": 4,
 "nbformat_minor": 5
}
