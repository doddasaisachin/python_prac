{
 "cells": [
  {
   "cell_type": "markdown",
   "id": "b61379e6",
   "metadata": {},
   "source": [
    "You are given an integer array height of length n. There are n vertical lines drawn such that the two endpoints of the ith line are (i, 0) and (i, height[i]).\n",
    "\n",
    "Find two lines that together with the x-axis form a container, such that the container contains the most water.\n",
    "\n",
    "Return the maximum amount of water a container can store.\n",
    "\n",
    "Notice that you may not slant the container."
   ]
  },
  {
   "cell_type": "code",
   "execution_count": 1,
   "id": "267b13c5",
   "metadata": {},
   "outputs": [],
   "source": [
    "def fx(height):\n",
    "    left=0\n",
    "    right=len(height)-1\n",
    "    Max=0\n",
    "    while left<right:\n",
    "        if height[left]<height[right]:\n",
    "            temp=height[left]*(right-left)\n",
    "            left+=1\n",
    "        else:\n",
    "            temp=height[right]*(right-left)\n",
    "            right-=1\n",
    "        Max=max(Max,temp)\n",
    "    return Max"
   ]
  },
  {
   "cell_type": "code",
   "execution_count": 2,
   "id": "73963733",
   "metadata": {},
   "outputs": [
    {
     "data": {
      "text/plain": [
       "49"
      ]
     },
     "execution_count": 2,
     "metadata": {},
     "output_type": "execute_result"
    }
   ],
   "source": [
    "fx([1,8,6,2,5,4,8,3,7])"
   ]
  },
  {
   "cell_type": "code",
   "execution_count": 3,
   "id": "b084b046",
   "metadata": {},
   "outputs": [
    {
     "data": {
      "text/plain": [
       "1"
      ]
     },
     "execution_count": 3,
     "metadata": {},
     "output_type": "execute_result"
    }
   ],
   "source": [
    "fx([1,1])"
   ]
  },
  {
   "cell_type": "code",
   "execution_count": null,
   "id": "8ae15da8",
   "metadata": {},
   "outputs": [],
   "source": []
  }
 ],
 "metadata": {
  "kernelspec": {
   "display_name": "Python 3 (ipykernel)",
   "language": "python",
   "name": "python3"
  },
  "language_info": {
   "codemirror_mode": {
    "name": "ipython",
    "version": 3
   },
   "file_extension": ".py",
   "mimetype": "text/x-python",
   "name": "python",
   "nbconvert_exporter": "python",
   "pygments_lexer": "ipython3",
   "version": "3.10.6"
  }
 },
 "nbformat": 4,
 "nbformat_minor": 5
}
