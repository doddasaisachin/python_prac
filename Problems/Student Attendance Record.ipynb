{
 "cells": [
  {
   "cell_type": "markdown",
   "id": "889ee1c0",
   "metadata": {},
   "source": [
    "You are given a string s representing an attendance record for a student where each character signifies whether the student was absent, late, or present on that day. The record only contains the following three characters:\n",
    "\n",
    "'A': Absent.\n",
    "'L': Late.\n",
    "'P': Present.\n",
    "The student is eligible for an attendance award if they meet both of the following criteria:\n",
    "\n",
    "The student was absent ('A') for strictly fewer than 2 days total.\n",
    "The student was never late ('L') for 3 or more consecutive days.\n",
    "Return true if the student is eligible for an attendance award, or false otherwise.\n",
    "\n",
    " \n",
    "\n",
    "Example 1:\n",
    "\n",
    "Input: s = \"PPALLP\"\n",
    "Output: true\n",
    "Explanation: The student has fewer than 2 absences and was never late 3 or more consecutive days.\n",
    "    \n",
    "Example 2:\n",
    "\n",
    "Input: s = \"PPALLL\"\n",
    "Output: false\n",
    "Explanation: The student was late 3 consecutive days in the last 3 days, so is not eligible for the award."
   ]
  },
  {
   "cell_type": "code",
   "execution_count": 1,
   "id": "df83c110",
   "metadata": {},
   "outputs": [],
   "source": [
    "def fx(s):\n",
    "    if s.count('A')>1:\n",
    "        return False\n",
    "    elif 'LLL' in s:\n",
    "        return False\n",
    "    return True"
   ]
  },
  {
   "cell_type": "code",
   "execution_count": 2,
   "id": "ef68ef2a",
   "metadata": {},
   "outputs": [
    {
     "data": {
      "text/plain": [
       "True"
      ]
     },
     "execution_count": 2,
     "metadata": {},
     "output_type": "execute_result"
    }
   ],
   "source": [
    "fx(\"PPALLP\")"
   ]
  },
  {
   "cell_type": "code",
   "execution_count": 3,
   "id": "6f65de0b",
   "metadata": {},
   "outputs": [
    {
     "data": {
      "text/plain": [
       "False"
      ]
     },
     "execution_count": 3,
     "metadata": {},
     "output_type": "execute_result"
    }
   ],
   "source": [
    "fx(\"PPALLL\")"
   ]
  },
  {
   "cell_type": "code",
   "execution_count": null,
   "id": "ba2d3b9a",
   "metadata": {},
   "outputs": [],
   "source": []
  }
 ],
 "metadata": {
  "kernelspec": {
   "display_name": "Python 3 (ipykernel)",
   "language": "python",
   "name": "python3"
  },
  "language_info": {
   "codemirror_mode": {
    "name": "ipython",
    "version": 3
   },
   "file_extension": ".py",
   "mimetype": "text/x-python",
   "name": "python",
   "nbconvert_exporter": "python",
   "pygments_lexer": "ipython3",
   "version": "3.10.6"
  }
 },
 "nbformat": 4,
 "nbformat_minor": 5
}
