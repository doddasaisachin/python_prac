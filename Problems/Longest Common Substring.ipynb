{
 "cells": [
  {
   "cell_type": "markdown",
   "id": "e0cc05c7",
   "metadata": {},
   "source": [
    "Given two strings. The task is to find the length of the longest common substring."
   ]
  },
  {
   "cell_type": "markdown",
   "id": "4c6e5885",
   "metadata": {},
   "source": [
    "##### Example 1:\n",
    "    \n",
    "Input: S1 = \"ABCDGH\", S2 = \"ACDGHR\", n = 6, m = 6\n",
    "    \n",
    "Output: 4\n",
    "    \n",
    "Explanation: The longest common substring\n",
    "is \"CDGH\" which has length 4."
   ]
  },
  {
   "cell_type": "markdown",
   "id": "0b3a239b",
   "metadata": {},
   "source": [
    "##### Example 2:\n",
    "\n",
    "Input: S1 = \"ABC\", S2 \"ACB\", n = 3, m = 3\n",
    "    \n",
    "Output: 1\n",
    "    \n",
    "Explanation: The longest common substrings\n",
    "are \"A\", \"B\", \"C\" all having length 1."
   ]
  },
  {
   "cell_type": "code",
   "execution_count": 35,
   "id": "8cafa9fe",
   "metadata": {},
   "outputs": [],
   "source": [
    "def func(s1):\n",
    "    s1list=[]\n",
    "    for i in range(len(s1)):\n",
    "        res=s1[i]\n",
    "        s1list.append(res)\n",
    "        for j in s1[i+1:]:\n",
    "            res=res+j\n",
    "            s1list.append(res)\n",
    "    return s1list"
   ]
  },
  {
   "cell_type": "code",
   "execution_count": 38,
   "id": "ff5c1518",
   "metadata": {},
   "outputs": [],
   "source": [
    "def main(s1,s2):\n",
    "    s1list=func(s1)\n",
    "    s2list=func(s2)\n",
    "    s1list.sort(key=len,reverse=True)\n",
    "    s2list.sort(key=len,reverse=True)\n",
    "    for i in s1list:\n",
    "        for j in s2list:\n",
    "            if i==j:\n",
    "                return len(i)\n",
    "    "
   ]
  },
  {
   "cell_type": "code",
   "execution_count": 39,
   "id": "2566a9c1",
   "metadata": {},
   "outputs": [
    {
     "data": {
      "text/plain": [
       "4"
      ]
     },
     "execution_count": 39,
     "metadata": {},
     "output_type": "execute_result"
    }
   ],
   "source": [
    "main('ABCDGH','ACDGHR')"
   ]
  },
  {
   "cell_type": "code",
   "execution_count": 32,
   "id": "0a4875d3",
   "metadata": {},
   "outputs": [
    {
     "data": {
      "text/plain": [
       "1"
      ]
     },
     "execution_count": 32,
     "metadata": {},
     "output_type": "execute_result"
    }
   ],
   "source": [
    "main('ABC','ACD')"
   ]
  }
 ],
 "metadata": {
  "kernelspec": {
   "display_name": "Python 3 (ipykernel)",
   "language": "python",
   "name": "python3"
  },
  "language_info": {
   "codemirror_mode": {
    "name": "ipython",
    "version": 3
   },
   "file_extension": ".py",
   "mimetype": "text/x-python",
   "name": "python",
   "nbconvert_exporter": "python",
   "pygments_lexer": "ipython3",
   "version": "3.10.6"
  }
 },
 "nbformat": 4,
 "nbformat_minor": 5
}
