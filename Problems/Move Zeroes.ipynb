{
 "cells": [
  {
   "cell_type": "code",
   "execution_count": 13,
   "id": "8cecc85c",
   "metadata": {},
   "outputs": [],
   "source": [
    "def function(array):\n",
    "    c=array.count(0)\n",
    "    idx=0\n",
    "    while idx<len(array):\n",
    "        if array[idx]==0:\n",
    "            array.pop(idx)\n",
    "        else:\n",
    "            idx+=1\n",
    "    for i in range(c):\n",
    "        array.append(0)\n",
    "    return array"
   ]
  },
  {
   "cell_type": "code",
   "execution_count": 14,
   "id": "5a738c66",
   "metadata": {},
   "outputs": [
    {
     "data": {
      "text/plain": [
       "[1, 2, 1, 2, 4, 5, 5, 8, 0, 0, 0, 0, 0, 0, 0]"
      ]
     },
     "execution_count": 14,
     "metadata": {},
     "output_type": "execute_result"
    }
   ],
   "source": [
    "function([1,0,2,1,0,2,4,0,5,0,5,0,0,0,8])"
   ]
  }
 ],
 "metadata": {
  "kernelspec": {
   "display_name": "Python 3 (ipykernel)",
   "language": "python",
   "name": "python3"
  },
  "language_info": {
   "codemirror_mode": {
    "name": "ipython",
    "version": 3
   },
   "file_extension": ".py",
   "mimetype": "text/x-python",
   "name": "python",
   "nbconvert_exporter": "python",
   "pygments_lexer": "ipython3",
   "version": "3.10.6"
  }
 },
 "nbformat": 4,
 "nbformat_minor": 5
}
