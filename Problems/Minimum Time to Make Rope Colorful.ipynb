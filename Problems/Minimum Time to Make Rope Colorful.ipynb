{
 "cells": [
  {
   "cell_type": "markdown",
   "id": "fdd5d041",
   "metadata": {},
   "source": [
    "Alice has n balloons arranged on a rope. You are given a 0-indexed string colors where colors[i] is the color of the ith balloon.\n",
    "\n",
    "Alice wants the rope to be colorful. She does not want two consecutive balloons to be of the same color, so she asks Bob for help. Bob can remove some balloons from the rope to make it colorful. You are given a 0-indexed integer array neededTime where neededTime[i] is the time (in seconds) that Bob needs to remove the ith balloon from the rope.\n",
    "\n",
    "Return the minimum time Bob needs to make the rope colorful."
   ]
  },
  {
   "cell_type": "markdown",
   "id": "26ea8ef7",
   "metadata": {},
   "source": [
    " \n",
    "Example 1:\n",
    "\n",
    "Input: colors = \"abaac\", neededTime = [1,2,3,4,5]\n",
    "Output: 3\n",
    "Explanation: In the above image, 'a' is blue, 'b' is red, and 'c' is green.\n",
    "Bob can remove the blue balloon at index 2. This takes 3 seconds.\n",
    "There are no longer two consecutive balloons of the same color. Total time = 3.\n",
    "\n",
    "Example 2:\n",
    "\n",
    "Input: colors = \"abc\", neededTime = [1,2,3]\n",
    "Output: 0\n",
    "Explanation: The rope is already colorful. Bob does not need to remove any balloons from the rope.\n",
    "    \n",
    "Example 3:\n",
    "\n",
    "Input: colors = \"aabaa\", neededTime = [1,2,3,4,1]\n",
    "Output: 2\n",
    "Explanation: Bob will remove the ballons at indices 0 and 4. Each ballon takes 1 second to remove.\n",
    "There are no longer two consecutive balloons of the same color. Total time = 1 + 1 = 2."
   ]
  },
  {
   "cell_type": "code",
   "execution_count": 1,
   "id": "05817f9a",
   "metadata": {},
   "outputs": [],
   "source": [
    "def func(colors,time):\n",
    "    idx=0\n",
    "    res=0\n",
    "    while idx<len(colors)-1:\n",
    "        while idx<len(colors)-1 and colors[idx]!=colors[idx+1]:\n",
    "            idx+=1\n",
    "        temp=[]\n",
    "        while idx<len(colors)-1 and colors[idx]==colors[idx+1]:\n",
    "            temp.append(time[idx])\n",
    "            idx+=1\n",
    "        if len(temp)>0:\n",
    "            temp.append(time[idx])\n",
    "            temp=sorted(temp)\n",
    "            res+=sum(temp[:-1])\n",
    "    return res"
   ]
  },
  {
   "cell_type": "code",
   "execution_count": 2,
   "id": "f4ecb6ae",
   "metadata": {},
   "outputs": [
    {
     "data": {
      "text/plain": [
       "3"
      ]
     },
     "execution_count": 2,
     "metadata": {},
     "output_type": "execute_result"
    }
   ],
   "source": [
    "func(\"abaac\",[1,2,3,4,5])"
   ]
  },
  {
   "cell_type": "code",
   "execution_count": 3,
   "id": "06977954",
   "metadata": {},
   "outputs": [
    {
     "data": {
      "text/plain": [
       "0"
      ]
     },
     "execution_count": 3,
     "metadata": {},
     "output_type": "execute_result"
    }
   ],
   "source": [
    "func(\"abc\", [1,2,3])"
   ]
  },
  {
   "cell_type": "code",
   "execution_count": 4,
   "id": "bd8ac799",
   "metadata": {},
   "outputs": [
    {
     "data": {
      "text/plain": [
       "2"
      ]
     },
     "execution_count": 4,
     "metadata": {},
     "output_type": "execute_result"
    }
   ],
   "source": [
    "func(\"aabaa\", [1,2,3,4,1])"
   ]
  },
  {
   "cell_type": "code",
   "execution_count": null,
   "id": "6a5fa646",
   "metadata": {},
   "outputs": [],
   "source": []
  }
 ],
 "metadata": {
  "kernelspec": {
   "display_name": "Python 3 (ipykernel)",
   "language": "python",
   "name": "python3"
  },
  "language_info": {
   "codemirror_mode": {
    "name": "ipython",
    "version": 3
   },
   "file_extension": ".py",
   "mimetype": "text/x-python",
   "name": "python",
   "nbconvert_exporter": "python",
   "pygments_lexer": "ipython3",
   "version": "3.10.6"
  }
 },
 "nbformat": 4,
 "nbformat_minor": 5
}
