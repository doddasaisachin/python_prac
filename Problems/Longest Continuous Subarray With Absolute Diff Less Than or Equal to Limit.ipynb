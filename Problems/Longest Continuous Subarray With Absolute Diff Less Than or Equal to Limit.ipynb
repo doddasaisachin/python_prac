{
 "cells": [
  {
   "cell_type": "markdown",
   "id": "0e0b3f92",
   "metadata": {},
   "source": [
    "Given an array of integers nums and an integer limit, return the size of the longest non-empty subarray such that the absolute difference between any two elements of this subarray is less than or equal to limit."
   ]
  },
  {
   "cell_type": "code",
   "execution_count": 1,
   "id": "cdbe993a",
   "metadata": {},
   "outputs": [],
   "source": [
    "def longestSubarray( nums, limit: int) -> int:\n",
    "    n=len(nums)\n",
    "    ans=0\n",
    "    for i in range(n):\n",
    "        Max=float('-inf')\n",
    "        Min=float('inf')\n",
    "        c=0\n",
    "        for j in range(i,n):\n",
    "            c+=1\n",
    "            Min=min(Min,nums[j])\n",
    "            Max=max(Max,nums[j])\n",
    "            val=abs(Max-Min)\n",
    "            if val<=limit:\n",
    "                # print(temp)\n",
    "                ans=max(ans,c)\n",
    "            else:\n",
    "                break\n",
    "        if ans==n:\n",
    "            return ans\n",
    "    return ans\n"
   ]
  },
  {
   "cell_type": "code",
   "execution_count": 2,
   "id": "895b5a3b",
   "metadata": {},
   "outputs": [
    {
     "data": {
      "text/plain": [
       "2"
      ]
     },
     "execution_count": 2,
     "metadata": {},
     "output_type": "execute_result"
    }
   ],
   "source": [
    "longestSubarray(nums = [8,2,4,7], limit = 4)"
   ]
  },
  {
   "cell_type": "code",
   "execution_count": null,
   "id": "6763bc7a",
   "metadata": {},
   "outputs": [],
   "source": []
  }
 ],
 "metadata": {
  "kernelspec": {
   "display_name": "Python 3 (ipykernel)",
   "language": "python",
   "name": "python3"
  },
  "language_info": {
   "codemirror_mode": {
    "name": "ipython",
    "version": 3
   },
   "file_extension": ".py",
   "mimetype": "text/x-python",
   "name": "python",
   "nbconvert_exporter": "python",
   "pygments_lexer": "ipython3",
   "version": "3.11.7"
  }
 },
 "nbformat": 4,
 "nbformat_minor": 5
}
