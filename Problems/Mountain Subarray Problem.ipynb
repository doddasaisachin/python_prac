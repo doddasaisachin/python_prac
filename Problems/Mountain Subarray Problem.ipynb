{
 "cells": [
  {
   "cell_type": "markdown",
   "id": "6fe8e55d",
   "metadata": {},
   "source": [
    "We are given an array of integers and a range, we need to find whether the subarray which falls in this range has values in the form of a mountain or not. All values of the subarray are said to be in the form of a mountain if either all values are increasing or decreasing or first increasing and then decreasing. More formally a subarray [a1, a2, a3 … aN] is said to be in form of a mountain if there exists an integer K, 1 <= K <= N such that,\n",
    "a1 <= a2 <= a3 .. <= aK >= a(K+1) >= a(K+2) …. >= aN\n",
    "You have to process Q queries. In each query you are given two integer L and R, denoting starting and last index of the subarrays respectively."
   ]
  },
  {
   "cell_type": "markdown",
   "id": "09f9a0e7",
   "metadata": {},
   "source": [
    "##### Example 1:\n",
    "\n",
    "Input:\n",
    "N = 8\n",
    "a[] = [2,3,2,4,4,6,3,2]\n",
    "Q = 2\n",
    "Queries = (0,2), (1,3)\n",
    "\n",
    "Output:\n",
    "Yes\n",
    "No\n",
    "\n",
    "Explanation: For L = 0 and R = 2, a0 = 2,\n",
    "a1 = 3 and a2 = 2, since they are in the\n",
    "valid order,answer is Yes.\n",
    "For L = 1 and R = 3, a1 = 3, a2 = 2 and\n",
    "a3 = 4, since a1 > a2 and a2 < a4 the\n",
    "order isn't valid, hence the answer is\n",
    "No"
   ]
  },
  {
   "cell_type": "code",
   "execution_count": 87,
   "id": "6fcc3e21",
   "metadata": {},
   "outputs": [],
   "source": [
    "def mount(arr):\n",
    "    if sorted(arr)==arr:\n",
    "        return True\n",
    "    elif sorted(arr,reverse=True)==arr:\n",
    "        return True\n",
    "    elif arr[0]<arr[1]:\n",
    "        ele=max(arr)\n",
    "        idx=arr.index(ele)\n",
    "        pre=arr[:idx]\n",
    "        post=arr[idx:]\n",
    "        if (sorted(pre)==pre) and (sorted(post,reverse=True)==post):\n",
    "            return True\n",
    "    return False"
   ]
  },
  {
   "cell_type": "code",
   "execution_count": 88,
   "id": "8b80580a",
   "metadata": {},
   "outputs": [],
   "source": [
    "def func(n,arr,m,Q):\n",
    "    res=[]\n",
    "    for tup in Q:\n",
    "        pre=arr[tup[0]:tup[1]+1]\n",
    "        res.append(mount(pre))\n",
    "    return res"
   ]
  },
  {
   "cell_type": "code",
   "execution_count": 89,
   "id": "fd67355d",
   "metadata": {},
   "outputs": [
    {
     "data": {
      "text/plain": [
       "[True, False]"
      ]
     },
     "execution_count": 89,
     "metadata": {},
     "output_type": "execute_result"
    }
   ],
   "source": [
    "func(8,[2,3,2,4,4,6,3,2],2,[(0,2),(1,3)])"
   ]
  },
  {
   "cell_type": "code",
   "execution_count": 90,
   "id": "03275191",
   "metadata": {},
   "outputs": [
    {
     "data": {
      "text/plain": [
       "[False]"
      ]
     },
     "execution_count": 90,
     "metadata": {},
     "output_type": "execute_result"
    }
   ],
   "source": [
    "func(6,[14126, 31676 ,1420 ,5296 ,10659 ,15370, 26862, 26985, 19554 ,17919 ,17183 ,12297, 11456, 2012],1,[(0,7)])"
   ]
  },
  {
   "cell_type": "code",
   "execution_count": null,
   "id": "2c109fc9",
   "metadata": {},
   "outputs": [],
   "source": []
  }
 ],
 "metadata": {
  "kernelspec": {
   "display_name": "Python 3 (ipykernel)",
   "language": "python",
   "name": "python3"
  },
  "language_info": {
   "codemirror_mode": {
    "name": "ipython",
    "version": 3
   },
   "file_extension": ".py",
   "mimetype": "text/x-python",
   "name": "python",
   "nbconvert_exporter": "python",
   "pygments_lexer": "ipython3",
   "version": "3.10.6"
  }
 },
 "nbformat": 4,
 "nbformat_minor": 5
}
