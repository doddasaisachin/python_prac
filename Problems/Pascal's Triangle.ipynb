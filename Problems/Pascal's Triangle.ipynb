{
 "cells": [
  {
   "cell_type": "markdown",
   "id": "a552501a",
   "metadata": {},
   "source": [
    "## Pascals's Triangle"
   ]
  },
  {
   "cell_type": "code",
   "execution_count": null,
   "id": "847d6e81",
   "metadata": {},
   "outputs": [],
   "source": []
  },
  {
   "cell_type": "code",
   "execution_count": 8,
   "id": "8cab002b",
   "metadata": {},
   "outputs": [],
   "source": [
    "def create_list(size):\n",
    "    if size==1:\n",
    "        return [1]\n",
    "    list=[None for i in range(size)]\n",
    "    list[0]=1\n",
    "    list[-1]=1\n",
    "    return list\n",
    "\n",
    "def fnx(n):\n",
    "    if n==1:\n",
    "        return [[1]]\n",
    "    mat=[]\n",
    "    for i in range(1,n+1):\n",
    "        if i<3:\n",
    "            mat.append(create_list(i))\n",
    "        if i>2:\n",
    "            ref=mat[i-2]\n",
    "            temp=create_list(i)\n",
    "            for i in range(1,len(ref)):\n",
    "                temp[i]=ref[i-1]+ref[i]\n",
    "            mat.append(temp)\n",
    "    return mat"
   ]
  },
  {
   "cell_type": "code",
   "execution_count": 37,
   "id": "12953ba5",
   "metadata": {},
   "outputs": [
    {
     "data": {
      "text/plain": [
       "[[1], [1, 1], [1, 2, 1], [1, 3, 3, 1], [1, 4, 6, 4, 1]]"
      ]
     },
     "execution_count": 37,
     "metadata": {},
     "output_type": "execute_result"
    }
   ],
   "source": [
    "fnx(5)"
   ]
  },
  {
   "cell_type": "code",
   "execution_count": null,
   "id": "debdf268",
   "metadata": {},
   "outputs": [],
   "source": []
  }
 ],
 "metadata": {
  "kernelspec": {
   "display_name": "Python 3 (ipykernel)",
   "language": "python",
   "name": "python3"
  },
  "language_info": {
   "codemirror_mode": {
    "name": "ipython",
    "version": 3
   },
   "file_extension": ".py",
   "mimetype": "text/x-python",
   "name": "python",
   "nbconvert_exporter": "python",
   "pygments_lexer": "ipython3",
   "version": "3.10.6"
  }
 },
 "nbformat": 4,
 "nbformat_minor": 5
}
