{
 "cells": [
  {
   "cell_type": "code",
   "execution_count": 17,
   "id": "7e94e7b6",
   "metadata": {},
   "outputs": [],
   "source": [
    "def function(prices):\n",
    "    profits=[]\n",
    "    max_profit=0\n",
    "    for i in range(len(prices)):\n",
    "        for j in range(i+1,len(prices)):\n",
    "            dif=prices[j]-prices[i]\n",
    "            if dif>max_profit:\n",
    "                max_profit=dif\n",
    "    return max_profit"
   ]
  },
  {
   "cell_type": "code",
   "execution_count": 29,
   "id": "a8346e4a",
   "metadata": {},
   "outputs": [
    {
     "data": {
      "text/plain": [
       "5"
      ]
     },
     "execution_count": 29,
     "metadata": {},
     "output_type": "execute_result"
    }
   ],
   "source": [
    "function([7,1,5,3,6,4])"
   ]
  },
  {
   "cell_type": "code",
   "execution_count": 33,
   "id": "413ad1f4",
   "metadata": {},
   "outputs": [
    {
     "data": {
      "text/plain": [
       "5"
      ]
     },
     "execution_count": 33,
     "metadata": {},
     "output_type": "execute_result"
    }
   ],
   "source": [
    "function([7,6,4,3,8])"
   ]
  },
  {
   "cell_type": "markdown",
   "id": "efed0341",
   "metadata": {},
   "source": [
    "more optimized one"
   ]
  },
  {
   "cell_type": "code",
   "execution_count": 37,
   "id": "44237120",
   "metadata": {},
   "outputs": [],
   "source": [
    "\n",
    "def maxProfit(prices):\n",
    "    min_price = prices[0]\n",
    "    max_profit = 0\n",
    "\n",
    "    for price in prices[:]:\n",
    "        max_profit = max(max_profit, price - min_price)\n",
    "        min_price = min(min_price, price)\n",
    "        print(f\"max_profit :{max_profit} , min_price : {min_price}\")\n",
    "\n",
    "    return max_profit"
   ]
  },
  {
   "cell_type": "code",
   "execution_count": 38,
   "id": "6c68da1c",
   "metadata": {},
   "outputs": [
    {
     "name": "stdout",
     "output_type": "stream",
     "text": [
      "max_profit :0 , min_price : 5\n",
      "max_profit :0 , min_price : 4\n",
      "max_profit :0 , min_price : 3\n",
      "max_profit :0 , min_price : 2\n",
      "max_profit :0 , min_price : 1\n",
      "max_profit :4 , min_price : 1\n"
     ]
    },
    {
     "data": {
      "text/plain": [
       "4"
      ]
     },
     "execution_count": 38,
     "metadata": {},
     "output_type": "execute_result"
    }
   ],
   "source": [
    "maxProfit([5,4,3,2,1,5])"
   ]
  },
  {
   "cell_type": "code",
   "execution_count": null,
   "id": "52eb0b6c",
   "metadata": {},
   "outputs": [],
   "source": []
  }
 ],
 "metadata": {
  "kernelspec": {
   "display_name": "Python 3 (ipykernel)",
   "language": "python",
   "name": "python3"
  },
  "language_info": {
   "codemirror_mode": {
    "name": "ipython",
    "version": 3
   },
   "file_extension": ".py",
   "mimetype": "text/x-python",
   "name": "python",
   "nbconvert_exporter": "python",
   "pygments_lexer": "ipython3",
   "version": "3.10.6"
  }
 },
 "nbformat": 4,
 "nbformat_minor": 5
}
