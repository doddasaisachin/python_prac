{
 "cells": [
  {
   "cell_type": "markdown",
   "id": "594697d0",
   "metadata": {},
   "source": [
    "Given two linked list head1 and head2 with distinct elements, determine the count of all distinct pairs from both lists whose sum is equal to the given value x.\n",
    "\n",
    "Note: A valid pair would be in the form (x, y) where x is from first linked list and y is from second linked list."
   ]
  },
  {
   "cell_type": "code",
   "execution_count": 1,
   "id": "49fc077f",
   "metadata": {},
   "outputs": [],
   "source": [
    "def countPair(head1,head2,x):\n",
    "    itr1=head1\n",
    "    c=0\n",
    "    while itr1 is not None:\n",
    "        itr2=head2\n",
    "        while itr2 is not None:\n",
    "            if itr1.data+itr2.data==x:\n",
    "                c+=1\n",
    "                break\n",
    "            itr2=itr2.next\n",
    "        itr1=itr1.next\n",
    "    return c"
   ]
  },
  {
   "cell_type": "code",
   "execution_count": null,
   "id": "be0e36c3",
   "metadata": {},
   "outputs": [],
   "source": []
  }
 ],
 "metadata": {
  "kernelspec": {
   "display_name": "Python 3 (ipykernel)",
   "language": "python",
   "name": "python3"
  },
  "language_info": {
   "codemirror_mode": {
    "name": "ipython",
    "version": 3
   },
   "file_extension": ".py",
   "mimetype": "text/x-python",
   "name": "python",
   "nbconvert_exporter": "python",
   "pygments_lexer": "ipython3",
   "version": "3.10.6"
  }
 },
 "nbformat": 4,
 "nbformat_minor": 5
}
