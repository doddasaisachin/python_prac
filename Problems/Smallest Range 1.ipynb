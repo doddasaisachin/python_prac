{
 "cells": [
  {
   "cell_type": "markdown",
   "id": "23221728",
   "metadata": {},
   "source": [
    "You are given an integer array nums and an integer k.\n",
    "\n",
    "In one operation, you can choose any index i where 0 <= i < nums.length and change nums[i] to nums[i] + x where x is an integer from the range [-k, k]. You can apply this operation at most once for each index i.\n",
    "\n",
    "The score of nums is the difference between the maximum and minimum elements in nums.\n",
    "\n",
    "Return the minimum score of nums after applying the mentioned operation at most once for each index in it.1`"
   ]
  },
  {
   "cell_type": "code",
   "execution_count": 2,
   "id": "58a48cc1",
   "metadata": {},
   "outputs": [],
   "source": [
    "def fx(nums,k):\n",
    "    Min=min(nums)\n",
    "    Max=max(nums)\n",
    "    if Max==Min:\n",
    "        return 0\n",
    "    elif Min+k>Max-k:\n",
    "        return 0\n",
    "    else:\n",
    "        return (Max-k)-(Min+k)"
   ]
  },
  {
   "cell_type": "code",
   "execution_count": 3,
   "id": "267b18cd",
   "metadata": {},
   "outputs": [
    {
     "data": {
      "text/plain": [
       "0"
      ]
     },
     "execution_count": 3,
     "metadata": {},
     "output_type": "execute_result"
    }
   ],
   "source": [
    "fx([1],0)"
   ]
  },
  {
   "cell_type": "code",
   "execution_count": 4,
   "id": "2ad57922",
   "metadata": {},
   "outputs": [
    {
     "data": {
      "text/plain": [
       "6"
      ]
     },
     "execution_count": 4,
     "metadata": {},
     "output_type": "execute_result"
    }
   ],
   "source": [
    "fx([0,10],2)"
   ]
  },
  {
   "cell_type": "code",
   "execution_count": 5,
   "id": "93682498",
   "metadata": {},
   "outputs": [
    {
     "data": {
      "text/plain": [
       "0"
      ]
     },
     "execution_count": 5,
     "metadata": {},
     "output_type": "execute_result"
    }
   ],
   "source": [
    "fx([1,3,6],3)"
   ]
  },
  {
   "cell_type": "code",
   "execution_count": null,
   "id": "36c6abdb",
   "metadata": {},
   "outputs": [],
   "source": []
  }
 ],
 "metadata": {
  "kernelspec": {
   "display_name": "Python 3 (ipykernel)",
   "language": "python",
   "name": "python3"
  },
  "language_info": {
   "codemirror_mode": {
    "name": "ipython",
    "version": 3
   },
   "file_extension": ".py",
   "mimetype": "text/x-python",
   "name": "python",
   "nbconvert_exporter": "python",
   "pygments_lexer": "ipython3",
   "version": "3.10.6"
  }
 },
 "nbformat": 4,
 "nbformat_minor": 5
}
