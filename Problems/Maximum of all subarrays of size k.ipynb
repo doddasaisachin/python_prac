{
 "cells": [
  {
   "cell_type": "markdown",
   "id": "24495a48",
   "metadata": {},
   "source": [
    "Given an array arr[] of size N and an integer K. Find the maximum for each and every contiguous subarray of size K."
   ]
  },
  {
   "cell_type": "markdown",
   "id": "a1acbaee",
   "metadata": {},
   "source": [
    "##### Example 1:\n",
    "\n",
    "Input:\n",
    "N = 9, K = 3\n",
    "arr[] = 1 2 3 1 4 5 2 3 6\n",
    "\n",
    "Output: \n",
    "3 3 4 5 5 5 6 \n",
    "\n",
    "Explanation: \n",
    "1st contiguous subarray = {1 2 3} Max = 3\n",
    "\n",
    "2nd contiguous subarray = {2 3 1} Max = 3\n",
    "\n",
    "3rd contiguous subarray = {3 1 4} Max = 4\n",
    "\n",
    "4th contiguous subarray = {1 4 5} Max = 5\n",
    "\n",
    "5th contiguous subarray = {4 5 2} Max = 5\n",
    "\n",
    "6th contiguous subarray = {5 2 3} Max = 5\n",
    "\n",
    "7th contiguous subarray = {2 3 6} Max = 6"
   ]
  },
  {
   "cell_type": "markdown",
   "id": "34e05e10",
   "metadata": {},
   "source": [
    "##### Example 2:\n",
    "\n",
    "Input:\n",
    "N = 10, K = 4\n",
    "arr[] = 8 5 10 7 9 4 15 12 90 13\n",
    "\n",
    "Output: \n",
    "10 10 10 15 15 90 90\n",
    "\n",
    "Explanation: \n",
    "1st contiguous subarray = {8 5 10 7}, Max = 10\n",
    "\n",
    "2nd contiguous subarray = {5 10 7 9}, Max = 10\n",
    "\n",
    "3rd contiguous subarray = {10 7 9 4}, Max = 10\n",
    "\n",
    "4th contiguous subarray = {7 9 4 15}, Max = 15\n",
    "\n",
    "5th contiguous subarray = {9 4 15 12},Max = 15\n",
    "\n",
    "6th contiguous subarray = {4 15 12 90},Max = 90\n",
    "\n",
    "7th contiguous subarray = {15 12 90 13},Max = 90"
   ]
  },
  {
   "cell_type": "code",
   "execution_count": 1,
   "id": "4dd09988",
   "metadata": {},
   "outputs": [],
   "source": [
    "def func(n,k,arr):\n",
    "    res=[]\n",
    "    for i in range(n):\n",
    "        temp=[]\n",
    "        for j in arr[i:]:\n",
    "            temp.append(j)\n",
    "            if len(temp)==k:\n",
    "                res.append(max(temp))\n",
    "                break\n",
    "    return res"
   ]
  },
  {
   "cell_type": "code",
   "execution_count": 2,
   "id": "c916e1fc",
   "metadata": {},
   "outputs": [
    {
     "data": {
      "text/plain": [
       "[3, 3, 4, 5, 5, 5, 6]"
      ]
     },
     "execution_count": 2,
     "metadata": {},
     "output_type": "execute_result"
    }
   ],
   "source": [
    "func(9,3,[1,2,3,1,4,5,2,3,6])"
   ]
  },
  {
   "cell_type": "code",
   "execution_count": 10,
   "id": "5be84c63",
   "metadata": {},
   "outputs": [
    {
     "data": {
      "text/plain": [
       "[10, 10, 10, 15, 15, 90, 90]"
      ]
     },
     "execution_count": 10,
     "metadata": {},
     "output_type": "execute_result"
    }
   ],
   "source": [
    "func(10,4,[8,5,10,7,9,4,15,12,90,13])"
   ]
  },
  {
   "cell_type": "code",
   "execution_count": 9,
   "id": "6560e6d1",
   "metadata": {},
   "outputs": [],
   "source": [
    "def func(n,k,arr):\n",
    "    res=[]\n",
    "    for i in range(n-k+1):\n",
    "        res.append(max(arr[i:i+k]))\n",
    "    return res"
   ]
  },
  {
   "cell_type": "code",
   "execution_count": 11,
   "id": "d2098e9d",
   "metadata": {},
   "outputs": [
    {
     "data": {
      "text/plain": [
       "[3, 3, 4, 5, 5, 5, 6]"
      ]
     },
     "execution_count": 11,
     "metadata": {},
     "output_type": "execute_result"
    }
   ],
   "source": [
    "func(9,3,[1,2,3,1,4,5,2,3,6])"
   ]
  },
  {
   "cell_type": "code",
   "execution_count": 12,
   "id": "586f2066",
   "metadata": {},
   "outputs": [
    {
     "data": {
      "text/plain": [
       "[10, 10, 10, 15, 15, 90, 90]"
      ]
     },
     "execution_count": 12,
     "metadata": {},
     "output_type": "execute_result"
    }
   ],
   "source": [
    "func(10,4,[8,5,10,7,9,4,15,12,90,13])"
   ]
  },
  {
   "cell_type": "code",
   "execution_count": null,
   "id": "09424012",
   "metadata": {},
   "outputs": [],
   "source": []
  }
 ],
 "metadata": {
  "kernelspec": {
   "display_name": "Python 3 (ipykernel)",
   "language": "python",
   "name": "python3"
  },
  "language_info": {
   "codemirror_mode": {
    "name": "ipython",
    "version": 3
   },
   "file_extension": ".py",
   "mimetype": "text/x-python",
   "name": "python",
   "nbconvert_exporter": "python",
   "pygments_lexer": "ipython3",
   "version": "3.10.6"
  }
 },
 "nbformat": 4,
 "nbformat_minor": 5
}
