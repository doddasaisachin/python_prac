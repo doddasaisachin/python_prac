{
 "cells": [
  {
   "cell_type": "markdown",
   "id": "26c9da2f",
   "metadata": {},
   "source": [
    "Orchards are a piece of enclosed land planted with different fruit trees in an orderly manner. The owners will manage those trees and fulfill all the needs like pesticides, water, fertilizers for a better yielding.\n",
    "\n",
    "Ashok and Anand are friends. On a fine day they went to an orchard where lemon and mango trees are planted in rows. The owner planted these trees in rows but in random order. Some trees have plenty of fruits and some other plants didn't give good yield. While they are walking through the rows, both of them selected a row of trees. The trees in the row are represented by M and L which represents mango and lemon respectively. After selecting the rows, they both argued for sometime over the number of fruits. Then they saw Akhil walking towards them. They asked Akhil to declare which row holds more number of fruits. Akhil understood that guessing the row with maximum number of fruits will be quite difficult.\n",
    "\n",
    "So he asked to follow the below rules.\n",
    "\n",
    "Each time one has to select three trees from the row and form a set out of them, such that no two adjacent trees in the set should be same.\n",
    "Once a tree is selected, they cannot walk back and select another tree.\n",
    "Trees need not to be adjacent for selection.\n",
    "Who ever have the more number of possibilities will be considered as winners.\n",
    "Given two strings denoting the trees in the selected rows, find who is the winner. If the string is invalid, print \"Invalid input\" and if no one wins, print \"Draw\"."
   ]
  },
  {
   "cell_type": "markdown",
   "id": "2bfcf4b2",
   "metadata": {},
   "source": [
    "Example 1\n",
    "\n",
    "Input\n",
    "\n",
    "MMLMLLM\n",
    "\n",
    "LMLLLMLM\n",
    "\n",
    "Output\n",
    "\n",
    "Anand\n",
    "\n",
    "Explanation\n",
    "\n",
    "Ashok's possibilities are (1,3,4), (2,3,4), (3,4,6), (4,6,7), (1,3,7), (3,4,5), (1,5,7), (2,6,7), (2,3,7), (2,5,7), (4,6,7), (1,6,7) ie., 12 possibilities.\n",
    "\n",
    "Anand's possibilities are (2,3,6), (1,2,3), (1,6,7), (1,2,4), (3,6,7), (2,3,8), (1,2,5), (2,4,6), (4,6,7), (1,2,7), (2,4,8), (5,6,7), (2,5,6), (2,7,8), (2,5,8), (6,7,8) ie., 16 possibilities. Hence he wins.\n",
    "\n",
    "Example 2\n",
    "\n",
    "Input\n",
    "\n",
    "MLLM\n",
    "\n",
    "LMLL\n",
    "\n",
    "Output\n",
    "\n",
    "Draw\n",
    "\n",
    "Explanation\n",
    "\n",
    "Ashok's possibilities are (1,3,4), (1,2,4) ie., 2 possibilities.\n",
    "\n",
    "Anand's possibilities are (1,2,4), (1,2,3) ie., 2 possibilities.\n",
    "\n",
    "So no one wins and we print draw."
   ]
  },
  {
   "cell_type": "code",
   "execution_count": 22,
   "id": "935a7e2a",
   "metadata": {},
   "outputs": [],
   "source": [
    "a='MLLM'\n",
    "\n",
    "b='LMLL'"
   ]
  },
  {
   "cell_type": "code",
   "execution_count": 23,
   "id": "a1d2a418",
   "metadata": {},
   "outputs": [
    {
     "name": "stdout",
     "output_type": "stream",
     "text": [
      "Draw\n"
     ]
    }
   ],
   "source": [
    "def func(a,ele):\n",
    "    count=0\n",
    "    for i in range(len(a)-2):\n",
    "        for j in range(i+1,len(a)-1):\n",
    "            for k in range(j+1,len(a)):\n",
    "                if a[i]==ele and a[j]!=ele and a[k]==ele:\n",
    "                    count+=1\n",
    "                elif a[i]!=ele and a[j]==ele and a[k]!=ele:\n",
    "                    count+=1\n",
    "    return count\n",
    "\n",
    "def main():\n",
    "    ashok=func(a,'M')\n",
    "    anand=func(b,'L')\n",
    "    if ashok>anand:\n",
    "        print('Ashok')\n",
    "    elif anand>ashok:\n",
    "        print('Anand')\n",
    "    else:\n",
    "        print('Draw')\n",
    "main()"
   ]
  },
  {
   "cell_type": "code",
   "execution_count": null,
   "id": "45d23381",
   "metadata": {},
   "outputs": [],
   "source": []
  }
 ],
 "metadata": {
  "kernelspec": {
   "display_name": "Python 3 (ipykernel)",
   "language": "python",
   "name": "python3"
  },
  "language_info": {
   "codemirror_mode": {
    "name": "ipython",
    "version": 3
   },
   "file_extension": ".py",
   "mimetype": "text/x-python",
   "name": "python",
   "nbconvert_exporter": "python",
   "pygments_lexer": "ipython3",
   "version": "3.10.6"
  }
 },
 "nbformat": 4,
 "nbformat_minor": 5
}
