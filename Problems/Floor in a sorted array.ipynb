{
 "cells": [
  {
   "cell_type": "markdown",
   "id": "92c5fa0e",
   "metadata": {},
   "source": [
    "Given a sorted array arr[] of size N without duplicates, and given a value x. Floor of x is defined as the largest element K in arr[] such that K is smaller than or equal to x. Find the index of K(0-based indexing)."
   ]
  },
  {
   "cell_type": "markdown",
   "id": "bc95c6bf",
   "metadata": {},
   "source": [
    "##### Example 1:\n",
    "\n",
    "Input:\n",
    "N = 7, x = 0 \n",
    "arr[] = [1,2,8,10,11,12,19]\n",
    "\n",
    "Output: -1\n",
    "    \n",
    "Explanation: No element less \n",
    "than 0 is found. So output \n",
    "is \"-1\"."
   ]
  },
  {
   "cell_type": "markdown",
   "id": "80f46b71",
   "metadata": {},
   "source": [
    "##### Example 2:\n",
    "\n",
    "Input:\n",
    "N = 7, x = 5 \n",
    "arr[] = [1,2,8,10,11,12,19]\n",
    "\n",
    "Output: 1\n",
    "    \n",
    "Explanation: Largest Number less than 5 is\n",
    "2 (i.e K = 2), whose index is 1(0-based \n",
    "indexing)."
   ]
  },
  {
   "cell_type": "code",
   "execution_count": 1,
   "id": "26b536f0",
   "metadata": {},
   "outputs": [],
   "source": [
    "def findFloor(arr,N,X):\n",
    "    #Your code here\n",
    "    for i in range(N):\n",
    "        if arr[i]>X:\n",
    "            return i-1\n",
    "        elif arr[i]==X:\n",
    "            return i\n",
    "    return N-1"
   ]
  },
  {
   "cell_type": "code",
   "execution_count": 2,
   "id": "b76aa622",
   "metadata": {},
   "outputs": [
    {
     "data": {
      "text/plain": [
       "1"
      ]
     },
     "execution_count": 2,
     "metadata": {},
     "output_type": "execute_result"
    }
   ],
   "source": [
    "findFloor([1,2,8,10,11,12,19],7,5)"
   ]
  },
  {
   "cell_type": "code",
   "execution_count": 3,
   "id": "5b1c68cc",
   "metadata": {},
   "outputs": [
    {
     "data": {
      "text/plain": [
       "-1"
      ]
     },
     "execution_count": 3,
     "metadata": {},
     "output_type": "execute_result"
    }
   ],
   "source": [
    "findFloor([1,2,8,10,11,12,19],7,0)"
   ]
  }
 ],
 "metadata": {
  "kernelspec": {
   "display_name": "Python 3 (ipykernel)",
   "language": "python",
   "name": "python3"
  },
  "language_info": {
   "codemirror_mode": {
    "name": "ipython",
    "version": 3
   },
   "file_extension": ".py",
   "mimetype": "text/x-python",
   "name": "python",
   "nbconvert_exporter": "python",
   "pygments_lexer": "ipython3",
   "version": "3.10.6"
  }
 },
 "nbformat": 4,
 "nbformat_minor": 5
}
