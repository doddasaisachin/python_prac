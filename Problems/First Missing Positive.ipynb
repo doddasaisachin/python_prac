{
 "cells": [
  {
   "cell_type": "markdown",
   "id": "9791d7da",
   "metadata": {},
   "source": [
    "Given an unsorted integer array nums, return the smallest missing positive integer.\n",
    "\n",
    "You must implement an algorithm that runs in O(n) time and uses O(1) auxiliary space."
   ]
  },
  {
   "cell_type": "code",
   "execution_count": 4,
   "id": "b1e69bf7",
   "metadata": {},
   "outputs": [],
   "source": [
    "import heapq\n",
    "def fx( nums) -> int:\n",
    "    nums=list(set(nums))\n",
    "    heapq.heapify(nums)\n",
    "    cur=heapq.heappop(nums)\n",
    "    while cur<=0:\n",
    "        if len(nums)==0:\n",
    "            return 1\n",
    "        cur=heapq.heappop(nums)\n",
    "    temp=1\n",
    "    while temp==cur:\n",
    "        if len(nums)==0:\n",
    "            return temp+1\n",
    "        cur=heapq.heappop(nums)\n",
    "        temp+=1\n",
    "    return temp"
   ]
  },
  {
   "cell_type": "code",
   "execution_count": 5,
   "id": "3619b6ae",
   "metadata": {},
   "outputs": [
    {
     "data": {
      "text/plain": [
       "2"
      ]
     },
     "execution_count": 5,
     "metadata": {},
     "output_type": "execute_result"
    }
   ],
   "source": [
    "fx([3,4,-1,1])"
   ]
  },
  {
   "cell_type": "code",
   "execution_count": 6,
   "id": "b854af9c",
   "metadata": {},
   "outputs": [
    {
     "data": {
      "text/plain": [
       "1"
      ]
     },
     "execution_count": 6,
     "metadata": {},
     "output_type": "execute_result"
    }
   ],
   "source": [
    "fx([7,8,9,11,12])"
   ]
  },
  {
   "cell_type": "code",
   "execution_count": null,
   "id": "fdf2973b",
   "metadata": {},
   "outputs": [],
   "source": []
  }
 ],
 "metadata": {
  "kernelspec": {
   "display_name": "Python 3 (ipykernel)",
   "language": "python",
   "name": "python3"
  },
  "language_info": {
   "codemirror_mode": {
    "name": "ipython",
    "version": 3
   },
   "file_extension": ".py",
   "mimetype": "text/x-python",
   "name": "python",
   "nbconvert_exporter": "python",
   "pygments_lexer": "ipython3",
   "version": "3.10.6"
  }
 },
 "nbformat": 4,
 "nbformat_minor": 5
}
