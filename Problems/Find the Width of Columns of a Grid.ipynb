{
 "cells": [
  {
   "cell_type": "markdown",
   "id": "4d5e6742",
   "metadata": {},
   "source": [
    "You are given a 0-indexed m x n integer matrix grid. The width of a column is the maximum length of its integers.\n",
    "\n",
    "* For example, if grid = [[-10], [3], [12]], the width of the only column is 3 since -10 is of length 3.\n",
    "\n",
    "Return an integer array ans of size n where ans[i] is the width of the ith column.\n",
    "\n",
    "The length of an integer x with len digits is equal to len if x is non-negative, and len + 1 otherwise."
   ]
  },
  {
   "cell_type": "code",
   "execution_count": 1,
   "id": "998476cb",
   "metadata": {},
   "outputs": [],
   "source": [
    "def fx(grid):\n",
    "    res=[]\n",
    "    for j in range(len(grid[0])):\n",
    "        ans=0\n",
    "        for i in range(len(grid)):\n",
    "            ans=max(ans,len(str(grid[i][j])))\n",
    "        res.append(ans)\n",
    "    return res"
   ]
  },
  {
   "cell_type": "code",
   "execution_count": 2,
   "id": "08117517",
   "metadata": {},
   "outputs": [
    {
     "data": {
      "text/plain": [
       "[3, 1, 2]"
      ]
     },
     "execution_count": 2,
     "metadata": {},
     "output_type": "execute_result"
    }
   ],
   "source": [
    "fx([[-15,1,3],[15,7,12],[5,6,-2]])"
   ]
  },
  {
   "cell_type": "code",
   "execution_count": null,
   "id": "49529f34",
   "metadata": {},
   "outputs": [],
   "source": []
  }
 ],
 "metadata": {
  "kernelspec": {
   "display_name": "Python 3 (ipykernel)",
   "language": "python",
   "name": "python3"
  },
  "language_info": {
   "codemirror_mode": {
    "name": "ipython",
    "version": 3
   },
   "file_extension": ".py",
   "mimetype": "text/x-python",
   "name": "python",
   "nbconvert_exporter": "python",
   "pygments_lexer": "ipython3",
   "version": "3.10.6"
  }
 },
 "nbformat": 4,
 "nbformat_minor": 5
}
