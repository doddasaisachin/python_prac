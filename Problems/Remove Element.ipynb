{
 "cells": [
  {
   "cell_type": "code",
   "execution_count": 5,
   "id": "b0144648",
   "metadata": {},
   "outputs": [],
   "source": [
    "def removeduplicates(numbers : list[int],key : int) -> list[int]:\n",
    "        idx=0\n",
    "        while idx<len (numbers):\n",
    "            if numbers[idx]==key:\n",
    "                numbers.pop(idx)\n",
    "            idx+=1\n",
    "        return numbers"
   ]
  },
  {
   "cell_type": "code",
   "execution_count": 6,
   "id": "ba35d092",
   "metadata": {},
   "outputs": [
    {
     "data": {
      "text/plain": [
       "[22, 2]"
      ]
     },
     "execution_count": 6,
     "metadata": {},
     "output_type": "execute_result"
    }
   ],
   "source": [
    "removeduplicates([3,22,3,2],3)"
   ]
  }
 ],
 "metadata": {
  "kernelspec": {
   "display_name": "Python 3 (ipykernel)",
   "language": "python",
   "name": "python3"
  },
  "language_info": {
   "codemirror_mode": {
    "name": "ipython",
    "version": 3
   },
   "file_extension": ".py",
   "mimetype": "text/x-python",
   "name": "python",
   "nbconvert_exporter": "python",
   "pygments_lexer": "ipython3",
   "version": "3.10.6"
  }
 },
 "nbformat": 4,
 "nbformat_minor": 5
}
