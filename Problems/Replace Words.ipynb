{
 "cells": [
  {
   "cell_type": "markdown",
   "id": "e08c5edf",
   "metadata": {},
   "source": [
    "In English, we have a concept called root, which can be followed by some other word to form another longer word - let's call this word derivative. For example, when the root \"help\" is followed by the word \"ful\", we can form a derivative \"helpful\".\n",
    "\n",
    "Given a dictionary consisting of many roots and a sentence consisting of words separated by spaces, replace all the derivatives in the sentence with the root forming it. If a derivative can be replaced by more than one root, replace it with the root that has the shortest length.\n",
    "\n",
    "Return the sentence after the replacement."
   ]
  },
  {
   "cell_type": "code",
   "execution_count": 1,
   "id": "a5468a07",
   "metadata": {},
   "outputs": [],
   "source": [
    "def replaceWords(dic, sent: str) -> str:\n",
    "    arr=sent.split(' ')\n",
    "    idx=0\n",
    "    for i in arr:\n",
    "        m=len(i)\n",
    "        for j in dic:\n",
    "            n=len(j)\n",
    "            if m>n and i[:n]==j:\n",
    "                arr[idx]=j\n",
    "                i=j\n",
    "        idx+=1\n",
    "    return ' '.join(arr)"
   ]
  },
  {
   "cell_type": "code",
   "execution_count": 2,
   "id": "bb4e8917",
   "metadata": {},
   "outputs": [
    {
     "data": {
      "text/plain": [
       "'the cat was rat by the bat'"
      ]
     },
     "execution_count": 2,
     "metadata": {},
     "output_type": "execute_result"
    }
   ],
   "source": [
    "replaceWords([\"cat\",\"bat\",\"rat\"], \"the cattle was rattled by the battery\")"
   ]
  },
  {
   "cell_type": "code",
   "execution_count": null,
   "id": "97028a02",
   "metadata": {},
   "outputs": [],
   "source": []
  }
 ],
 "metadata": {
  "kernelspec": {
   "display_name": "Python 3 (ipykernel)",
   "language": "python",
   "name": "python3"
  },
  "language_info": {
   "codemirror_mode": {
    "name": "ipython",
    "version": 3
   },
   "file_extension": ".py",
   "mimetype": "text/x-python",
   "name": "python",
   "nbconvert_exporter": "python",
   "pygments_lexer": "ipython3",
   "version": "3.11.7"
  }
 },
 "nbformat": 4,
 "nbformat_minor": 5
}
