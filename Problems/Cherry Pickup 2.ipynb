{
 "cells": [
  {
   "cell_type": "markdown",
   "id": "984dd1df",
   "metadata": {},
   "source": [
    "You are given a rows x cols matrix grid representing a field of cherries where grid[i][j] represents the number of cherries that you can collect from the (i, j) cell.\n",
    "\n",
    "You have two robots that can collect cherries for you:\n",
    "\n",
    "* Robot #1 is located at the top-left corner (0, 0), and\n",
    "* Robot #2 is located at the top-right corner (0, cols - 1).\n",
    "\n",
    "Return the maximum number of cherries collection using both robots by following the rules below:\n",
    "\n",
    "* From a cell (i, j), robots can move to cell (i + 1, j - 1), (i + 1, j), or (i + 1, j + 1).\n",
    "* When any robot passes through a cell, It picks up all cherries, and the cell becomes an empty cell.\n",
    "* When both robots stay in the same cell, only one takes the cherries.\n",
    "* Both robots cannot move outside of the grid at any moment.\n",
    "* Both robots should reach the bottom row in grid."
   ]
  },
  {
   "cell_type": "code",
   "execution_count": 15,
   "id": "46c983e8",
   "metadata": {},
   "outputs": [],
   "source": [
    "def recursion(i,j1,j2,grid):\n",
    "    if (j1<0 or j1>=len(grid[0]) or j2<0 or j2>=len(grid[0])):\n",
    "        return float('-inf')\n",
    "    if i==len(grid)-1:\n",
    "        if j1==j2:\n",
    "            return grid[i][j1]\n",
    "        else:\n",
    "            return grid[i][j1]+grid[i][j2]\n",
    "    else:\n",
    "        Max=float('-inf')\n",
    "        for temp1 in range(-1,2,1):\n",
    "            for temp2 in range(-1,2,1):\n",
    "                if j1==j2:\n",
    "                    val=grid[i][j1]\n",
    "                else:\n",
    "                    val=grid[i][j1]+grid[i][j2]\n",
    "                val+=recursion(i+1,j1+temp1,j2+temp2,grid)\n",
    "                Max=max(Max,val)\n",
    "    return Max"
   ]
  },
  {
   "cell_type": "code",
   "execution_count": 16,
   "id": "e65875fd",
   "metadata": {},
   "outputs": [
    {
     "data": {
      "text/plain": [
       "24"
      ]
     },
     "execution_count": 16,
     "metadata": {},
     "output_type": "execute_result"
    }
   ],
   "source": [
    "recursion(0,0,2,[[3,1,1],[2,5,1],[1,5,5],[2,1,1]])"
   ]
  },
  {
   "cell_type": "code",
   "execution_count": 17,
   "id": "f4c0c9a0",
   "metadata": {},
   "outputs": [
    {
     "data": {
      "text/plain": [
       "28"
      ]
     },
     "execution_count": 17,
     "metadata": {},
     "output_type": "execute_result"
    }
   ],
   "source": [
    "recursion(0,0,6,[[1,0,0,0,0,0,1],[2,0,0,0,0,3,0],[2,0,9,0,0,0,0],[0,3,0,5,4,0,0],[1,0,2,3,0,0,6]])"
   ]
  },
  {
   "cell_type": "code",
   "execution_count": null,
   "id": "f37f6e13",
   "metadata": {},
   "outputs": [],
   "source": []
  }
 ],
 "metadata": {
  "kernelspec": {
   "display_name": "Python 3 (ipykernel)",
   "language": "python",
   "name": "python3"
  },
  "language_info": {
   "codemirror_mode": {
    "name": "ipython",
    "version": 3
   },
   "file_extension": ".py",
   "mimetype": "text/x-python",
   "name": "python",
   "nbconvert_exporter": "python",
   "pygments_lexer": "ipython3",
   "version": "3.10.6"
  }
 },
 "nbformat": 4,
 "nbformat_minor": 5
}
