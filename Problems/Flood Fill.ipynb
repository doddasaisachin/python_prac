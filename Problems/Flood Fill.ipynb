{
 "cells": [
  {
   "cell_type": "markdown",
   "id": "b8cad1be",
   "metadata": {},
   "source": [
    "An image is represented by an m x n integer grid image where image[i][j] represents the pixel value of the image.\n",
    "\n",
    "You are also given three integers sr, sc, and color. You should perform a flood fill on the image starting from the pixel image[sr][sc].\n",
    "\n",
    "To perform a flood fill, consider the starting pixel, plus any pixels connected 4-directionally to the starting pixel of the same color as the starting pixel, plus any pixels connected 4-directionally to those pixels (also with the same color), and so on. Replace the color of all of the aforementioned pixels with color.\n",
    "\n",
    "Return the modified image after performing the flood fill."
   ]
  },
  {
   "cell_type": "code",
   "execution_count": 1,
   "id": "be9eaf9a",
   "metadata": {},
   "outputs": [],
   "source": [
    "def floodFill( image, sr: int, sc: int, color: int) :\n",
    "    start=image[sr][sc]\n",
    "    m,n=len(image),len(image[0])\n",
    "    mat=[[False]*n for i in range(m)]\n",
    "    image[sr][sc]=color\n",
    "    def dfs(i,j):\n",
    "        if mat[i][j]:\n",
    "            return\n",
    "        mat[i][j]=True\n",
    "        image[i][j]=color\n",
    "        if i+1<m and image[i+1][j]==start:\n",
    "            dfs(i+1,j)\n",
    "        if i-1>=0 and image[i-1][j]==start:\n",
    "            dfs(i-1,j)\n",
    "        if j+1<n and image[i][j+1]==start:\n",
    "            dfs(i,j+1)\n",
    "        if j-1>= 0 and image[i][j-1]==start:\n",
    "            dfs(i,j-1)\n",
    "    dfs(sr,sc)\n",
    "    return image\n"
   ]
  },
  {
   "cell_type": "code",
   "execution_count": 2,
   "id": "3879ff3d",
   "metadata": {},
   "outputs": [
    {
     "data": {
      "text/plain": [
       "[[2, 2, 2], [2, 2, 0], [2, 0, 1]]"
      ]
     },
     "execution_count": 2,
     "metadata": {},
     "output_type": "execute_result"
    }
   ],
   "source": [
    "floodFill(image = [[1,1,1],[1,1,0],[1,0,1]], sr = 1, sc = 1, color = 2)"
   ]
  },
  {
   "cell_type": "code",
   "execution_count": null,
   "id": "e68140f4",
   "metadata": {},
   "outputs": [],
   "source": []
  }
 ],
 "metadata": {
  "kernelspec": {
   "display_name": "Python 3 (ipykernel)",
   "language": "python",
   "name": "python3"
  },
  "language_info": {
   "codemirror_mode": {
    "name": "ipython",
    "version": 3
   },
   "file_extension": ".py",
   "mimetype": "text/x-python",
   "name": "python",
   "nbconvert_exporter": "python",
   "pygments_lexer": "ipython3",
   "version": "3.11.7"
  }
 },
 "nbformat": 4,
 "nbformat_minor": 5
}
