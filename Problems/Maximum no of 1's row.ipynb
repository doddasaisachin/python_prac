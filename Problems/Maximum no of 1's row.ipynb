{
 "cells": [
  {
   "cell_type": "markdown",
   "id": "dc8feb28",
   "metadata": {},
   "source": [
    "Given a boolean 2D array, where each row is sorted. Find the row with the maximum number of 1s."
   ]
  },
  {
   "cell_type": "markdown",
   "id": "5c43ed49",
   "metadata": {},
   "source": [
    "##### Example 1:\n",
    "\n",
    "Input:\n",
    "N = 3, M = 4\n",
    "\n",
    "Mat[] = [[0 1 1 1],\n",
    "         [0 0 1 1],\n",
    "         [0 0 1 1]]\n",
    "\n",
    "Output: 0\n",
    "    \n",
    "Explanation: Row 0 has 3 ones whereas\n",
    "rows 1 and 2 have just 2 ones."
   ]
  },
  {
   "cell_type": "markdown",
   "id": "3e2be279",
   "metadata": {},
   "source": [
    "##### Example 2:\n",
    "\n",
    "Input: \n",
    "N = 2, M = 2\n",
    "\n",
    "Mat[] = [[0 1],\n",
    "         [1 1]]\n",
    "\n",
    "Output: 1\n",
    "    \n",
    "Explanation: Row 1 has 2 ones whereas\n",
    "row 0 has just a single one. "
   ]
  },
  {
   "cell_type": "code",
   "execution_count": 21,
   "id": "4facb16d",
   "metadata": {},
   "outputs": [],
   "source": [
    "def func(mat):\n",
    "    idx=0\n",
    "    d=dict()\n",
    "    for rows in mat:\n",
    "        c=0\n",
    "        for ele in rows:\n",
    "            if ele==1:\n",
    "                c+=1\n",
    "        d[idx]=c\n",
    "        c=c+1\n",
    "        idx+=1\n",
    "    return sorted(d.keys(),key=lambda x : d[x],reverse=True)[0]"
   ]
  },
  {
   "cell_type": "code",
   "execution_count": 23,
   "id": "b1136a14",
   "metadata": {},
   "outputs": [
    {
     "data": {
      "text/plain": [
       "0"
      ]
     },
     "execution_count": 23,
     "metadata": {},
     "output_type": "execute_result"
    }
   ],
   "source": [
    "func([[0,1,1,1],[0,0,1,1],[0,0,1,1]])"
   ]
  },
  {
   "cell_type": "code",
   "execution_count": 25,
   "id": "82274591",
   "metadata": {},
   "outputs": [
    {
     "data": {
      "text/plain": [
       "1"
      ]
     },
     "execution_count": 25,
     "metadata": {},
     "output_type": "execute_result"
    }
   ],
   "source": [
    "func([[0,1],[1,1]])"
   ]
  }
 ],
 "metadata": {
  "kernelspec": {
   "display_name": "Python 3 (ipykernel)",
   "language": "python",
   "name": "python3"
  },
  "language_info": {
   "codemirror_mode": {
    "name": "ipython",
    "version": 3
   },
   "file_extension": ".py",
   "mimetype": "text/x-python",
   "name": "python",
   "nbconvert_exporter": "python",
   "pygments_lexer": "ipython3",
   "version": "3.10.6"
  }
 },
 "nbformat": 4,
 "nbformat_minor": 5
}
