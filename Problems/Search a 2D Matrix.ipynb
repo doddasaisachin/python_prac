{
 "cells": [
  {
   "cell_type": "markdown",
   "id": "dd6226b9",
   "metadata": {},
   "source": [
    "You are given an m x n integer matrix matrix with the following two properties:\n",
    "\n",
    "* Each row is sorted in non-decreasing order.\n",
    "* The first integer of each row is greater than the last integer of the previous row.\n",
    "\n",
    "Given an integer target, return true if target is in matrix or false otherwise.\n"
   ]
  },
  {
   "cell_type": "code",
   "execution_count": 1,
   "id": "50afb91b",
   "metadata": {},
   "outputs": [],
   "source": [
    "def searchMatrix(matrix,target: int) -> bool:\n",
    "    found=False\n",
    "    for i in range(len(matrix)):\n",
    "        if target>=matrix[i][0] and target<=matrix[i][-1]:\n",
    "            for j in range(len(matrix[0])):\n",
    "                if matrix[i][j]==target:\n",
    "                    found=True\n",
    "        if found:\n",
    "            return found\n",
    "    return found"
   ]
  },
  {
   "cell_type": "code",
   "execution_count": 2,
   "id": "92bc5ad3",
   "metadata": {},
   "outputs": [
    {
     "data": {
      "text/plain": [
       "True"
      ]
     },
     "execution_count": 2,
     "metadata": {},
     "output_type": "execute_result"
    }
   ],
   "source": [
    "searchMatrix(matrix = [[1,3,5,7],[10,11,16,20],[23,30,34,60]], target = 3)"
   ]
  },
  {
   "cell_type": "code",
   "execution_count": null,
   "id": "3640dbf9",
   "metadata": {},
   "outputs": [],
   "source": []
  }
 ],
 "metadata": {
  "kernelspec": {
   "display_name": "Python 3 (ipykernel)",
   "language": "python",
   "name": "python3"
  },
  "language_info": {
   "codemirror_mode": {
    "name": "ipython",
    "version": 3
   },
   "file_extension": ".py",
   "mimetype": "text/x-python",
   "name": "python",
   "nbconvert_exporter": "python",
   "pygments_lexer": "ipython3",
   "version": "3.10.6"
  }
 },
 "nbformat": 4,
 "nbformat_minor": 5
}
