{
 "cells": [
  {
   "cell_type": "markdown",
   "id": "44ed6cca",
   "metadata": {},
   "source": [
    "You are given an integer array nums. Two players are playing a game with this array: player 1 and player 2.\n",
    "\n",
    "Player 1 and player 2 take turns, with player 1 starting first. Both players start the game with a score of 0. At each turn, the player takes one of the numbers from either end of the array (i.e., nums[0] or nums[nums.length - 1]) which reduces the size of the array by 1. The player adds the chosen number to their score. The game ends when there are no more elements in the array.\n",
    "\n",
    "Return true if Player 1 can win the game. If the scores of both players are equal, then player 1 is still the winner, and you should also return true. You may assume that both players are playing optimally."
   ]
  },
  {
   "cell_type": "code",
   "execution_count": 14,
   "id": "f1cc0d51",
   "metadata": {},
   "outputs": [],
   "source": [
    "def fx(arr,score1,score2,choice,i,j):\n",
    "    if i>j:\n",
    "        if score1>=score2:\n",
    "            return True\n",
    "        else:\n",
    "            return False\n",
    "    if choice==1:\n",
    "        return fx(arr,score1+arr[i],score2,2,i+1,j) or fx(arr,score1+arr[j],score2,2,i,j-1)\n",
    "    else:\n",
    "        return fx(arr,score1,score2+arr[i],1,i+1,j) and fx(arr,score1,score2+arr[j],1,i,j-1)"
   ]
  },
  {
   "cell_type": "code",
   "execution_count": 15,
   "id": "6f7061b7",
   "metadata": {},
   "outputs": [
    {
     "data": {
      "text/plain": [
       "True"
      ]
     },
     "execution_count": 15,
     "metadata": {},
     "output_type": "execute_result"
    }
   ],
   "source": [
    "fx([1,5,2,4,6],0,0,1,0,4)"
   ]
  },
  {
   "cell_type": "code",
   "execution_count": 16,
   "id": "595329e3",
   "metadata": {
    "scrolled": true
   },
   "outputs": [
    {
     "data": {
      "text/plain": [
       "False"
      ]
     },
     "execution_count": 16,
     "metadata": {},
     "output_type": "execute_result"
    }
   ],
   "source": [
    "fx([2,4,55,6,8],0,0,1,0,4)"
   ]
  },
  {
   "cell_type": "code",
   "execution_count": 17,
   "id": "c54864b4",
   "metadata": {
    "scrolled": false
   },
   "outputs": [
    {
     "data": {
      "text/plain": [
       "True"
      ]
     },
     "execution_count": 17,
     "metadata": {},
     "output_type": "execute_result"
    }
   ],
   "source": [
    "fx([1,5,233,7],0,0,1,0,3)"
   ]
  },
  {
   "cell_type": "code",
   "execution_count": 18,
   "id": "5a640028",
   "metadata": {},
   "outputs": [
    {
     "data": {
      "text/plain": [
       "False"
      ]
     },
     "execution_count": 18,
     "metadata": {},
     "output_type": "execute_result"
    }
   ],
   "source": [
    "fx([1,5,2],0,0,1,0,2)"
   ]
  },
  {
   "cell_type": "code",
   "execution_count": null,
   "id": "7437d2ea",
   "metadata": {},
   "outputs": [],
   "source": []
  }
 ],
 "metadata": {
  "kernelspec": {
   "display_name": "Python 3 (ipykernel)",
   "language": "python",
   "name": "python3"
  },
  "language_info": {
   "codemirror_mode": {
    "name": "ipython",
    "version": 3
   },
   "file_extension": ".py",
   "mimetype": "text/x-python",
   "name": "python",
   "nbconvert_exporter": "python",
   "pygments_lexer": "ipython3",
   "version": "3.10.6"
  }
 },
 "nbformat": 4,
 "nbformat_minor": 5
}
