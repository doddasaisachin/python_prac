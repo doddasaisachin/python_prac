{
 "cells": [
  {
   "cell_type": "markdown",
   "id": "be325adb",
   "metadata": {},
   "source": [
    "Given two sorted matrices mat1 and mat2 of size n x n of elements. Each matrix contains numbers arranged in strictly ascending order, with each row sorted from left to right, and the last element of a row being smaller than the first element of the next row. You're given a target value, x, your task is to find and count all pairs {a, b} such that a is from mat1 and b is from mat2 where sum of a and b is equal to x."
   ]
  },
  {
   "cell_type": "markdown",
   "id": "4704f018",
   "metadata": {},
   "source": [
    "Example 1:\n",
    "\n",
    "INPUT: \n",
    "\n",
    "n = 3, x = 21\n",
    "\n",
    "mat1 = {{1, 5, 6},\n",
    "        {8, 10, 11},\n",
    "        {15, 16, 18}}\n",
    "        \n",
    "mat2 = {{2, 4, 7},\n",
    "        {9, 10, 12},\n",
    "        {13, 16, 20}}\n",
    "        \n",
    "OUTPUT: 4\n",
    "\n",
    "EXPLANATION: \n",
    "\n",
    "The pairs whose sum is found to be 21 are (1, 20), (5, 16), (8, 13), (11, 10)."
   ]
  },
  {
   "cell_type": "code",
   "execution_count": 25,
   "id": "57b24819",
   "metadata": {},
   "outputs": [],
   "source": [
    "def countPairs( mat1, mat2, n, x):\n",
    "    arr1=[None]*(n*n)\n",
    "    arr2=[None]*(n*n)\n",
    "    idx=0\n",
    "    for i in range(n):\n",
    "        for j in range(n):\n",
    "            arr1[idx]=mat1[i][j]\n",
    "            arr2[idx]=mat2[i][j]\n",
    "            idx+=1\n",
    "    res=0\n",
    "    left=0\n",
    "    right=(n*n)-1\n",
    "    while left<(n*n) and right>=0:\n",
    "        if arr1[left]+arr2[right]==x:\n",
    "            res+=1\n",
    "            left+=1\n",
    "            right-=1\n",
    "        elif arr1[left]+arr2[right]<x:\n",
    "            left+=1\n",
    "        elif arr1[left]+arr2[right]>x:\n",
    "            right-=1\n",
    "    return res"
   ]
  },
  {
   "cell_type": "code",
   "execution_count": 26,
   "id": "c7be7fae",
   "metadata": {},
   "outputs": [
    {
     "data": {
      "text/plain": [
       "1"
      ]
     },
     "execution_count": 26,
     "metadata": {},
     "output_type": "execute_result"
    }
   ],
   "source": [
    "countPairs([[1]],[[2]],1,3)"
   ]
  },
  {
   "cell_type": "code",
   "execution_count": 27,
   "id": "f32cc087",
   "metadata": {},
   "outputs": [
    {
     "data": {
      "text/plain": [
       "4"
      ]
     },
     "execution_count": 27,
     "metadata": {},
     "output_type": "execute_result"
    }
   ],
   "source": [
    "countPairs(n = 3, x = 21,mat1 = [[1, 5, 6],\n",
    "                                 [8, 10, 11],\n",
    "                                 [15, 16, 18]],mat2 = [[2, 4, 7],\n",
    "                                                       [9, 10, 12],\n",
    "                                                       [13, 16, 20]])"
   ]
  },
  {
   "cell_type": "code",
   "execution_count": null,
   "id": "66c53c3b",
   "metadata": {},
   "outputs": [],
   "source": []
  }
 ],
 "metadata": {
  "kernelspec": {
   "display_name": "Python 3 (ipykernel)",
   "language": "python",
   "name": "python3"
  },
  "language_info": {
   "codemirror_mode": {
    "name": "ipython",
    "version": 3
   },
   "file_extension": ".py",
   "mimetype": "text/x-python",
   "name": "python",
   "nbconvert_exporter": "python",
   "pygments_lexer": "ipython3",
   "version": "3.10.6"
  }
 },
 "nbformat": 4,
 "nbformat_minor": 5
}
