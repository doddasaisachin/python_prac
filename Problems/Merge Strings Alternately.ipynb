{
 "cells": [
  {
   "cell_type": "markdown",
   "id": "9d2fb3e5",
   "metadata": {},
   "source": [
    "You are given two strings word1 and word2. Merge the strings by adding letters in alternating order, starting with word1. If a string is longer than the other, append the additional letters onto the end of the merged string.\n",
    "\n",
    "Return the merged string.\n",
    "\n",
    " \n",
    "\n",
    "Example 1:\n",
    "\n",
    "Input: word1 = \"abc\", word2 = \"pqr\"\n",
    "Output: \"apbqcr\"\n",
    "Explanation: The merged string will be merged as so:\n",
    "word1:  a   b   c\n",
    "word2:    p   q   r\n",
    "merged: a p b q c r\n",
    "    \n",
    "Example 2:\n",
    "\n",
    "Input: word1 = \"ab\", word2 = \"pqrs\"\n",
    "Output: \"apbqrs\"\n",
    "Explanation: Notice that as word2 is longer, \"rs\" is appended to the end.\n",
    "word1:  a   b \n",
    "word2:    p   q   r   s\n",
    "merged: a p b q   r   s"
   ]
  },
  {
   "cell_type": "code",
   "execution_count": 1,
   "id": "eb05b764",
   "metadata": {},
   "outputs": [],
   "source": [
    "def func(word1,word2):\n",
    "    min_len=min(len(word1),len(word2))\n",
    "    res=''\n",
    "    for i in range(min_len):\n",
    "        res+=word1[i]+word2[i]\n",
    "    max_len=max(len(word1),len(word2))\n",
    "    if min_len==max_len:\n",
    "        return res\n",
    "    elif len(word1)<len(word2):\n",
    "        res+=word2[min_len:]\n",
    "    else:\n",
    "        res+=word1[min_len:]\n",
    "    return res"
   ]
  },
  {
   "cell_type": "code",
   "execution_count": 2,
   "id": "3aec7c3b",
   "metadata": {},
   "outputs": [
    {
     "data": {
      "text/plain": [
       "'apbqcr'"
      ]
     },
     "execution_count": 2,
     "metadata": {},
     "output_type": "execute_result"
    }
   ],
   "source": [
    "func(word1 = \"abc\", word2 = \"pqr\")"
   ]
  },
  {
   "cell_type": "code",
   "execution_count": 3,
   "id": "7d90b140",
   "metadata": {},
   "outputs": [
    {
     "data": {
      "text/plain": [
       "'apbqrs'"
      ]
     },
     "execution_count": 3,
     "metadata": {},
     "output_type": "execute_result"
    }
   ],
   "source": [
    "func(word1 = \"ab\", word2 = \"pqrs\")"
   ]
  },
  {
   "cell_type": "code",
   "execution_count": null,
   "id": "786e6379",
   "metadata": {},
   "outputs": [],
   "source": []
  }
 ],
 "metadata": {
  "kernelspec": {
   "display_name": "Python 3 (ipykernel)",
   "language": "python",
   "name": "python3"
  },
  "language_info": {
   "codemirror_mode": {
    "name": "ipython",
    "version": 3
   },
   "file_extension": ".py",
   "mimetype": "text/x-python",
   "name": "python",
   "nbconvert_exporter": "python",
   "pygments_lexer": "ipython3",
   "version": "3.10.1"
  }
 },
 "nbformat": 4,
 "nbformat_minor": 5
}
