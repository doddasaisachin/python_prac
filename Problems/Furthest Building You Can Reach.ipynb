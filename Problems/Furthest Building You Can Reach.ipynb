{
 "cells": [
  {
   "cell_type": "markdown",
   "id": "d32b4f36",
   "metadata": {},
   "source": [
    "You are given an integer array heights representing the heights of buildings, some bricks, and some ladders.\n",
    "\n",
    "You start your journey from building 0 and move to the next building by possibly using bricks or ladders.\n",
    "\n",
    "While moving from building i to building i+1 (0-indexed),\n",
    "\n",
    "* If the current building's height is greater than or equal to the next building's height, you do not need a ladder or bricks.\n",
    "* If the current building's height is less than the next building's height, you can either use one ladder or (h[i+1] - h[i]) bricks.\n",
    "Return the furthest building index (0-indexed) you can reach if you use the given ladders and bricks optimally."
   ]
  },
  {
   "cell_type": "code",
   "execution_count": 70,
   "id": "0325ca6d",
   "metadata": {},
   "outputs": [],
   "source": [
    "def fx(h,b,l,i):\n",
    "    if i>=len(h)-1:\n",
    "        return 0\n",
    "    elif h[i]>=h[i+1]:\n",
    "        return 1+fx(h,b,l,i+1)\n",
    "    elif b<=0 and l<=0:\n",
    "            return 0\n",
    "    else:\n",
    "        if h[i+1]-h[i]<=b and l>0:\n",
    "            return 1+max(fx(h,b-(h[i+1]-h[i]),l,i+1),fx(h,b,l-1,i+1))\n",
    "        elif h[i+1]-h[i]>b and l>0:\n",
    "            return 1+fx(h,b,l-1,i+1)\n",
    "        elif h[i+1]-h[i]<=b and l<=0:\n",
    "            return 1+fx(h,b-(h[i+1]-h[i]),l,i+1)\n",
    "        else:\n",
    "            return 0"
   ]
  },
  {
   "cell_type": "code",
   "execution_count": 71,
   "id": "9f1c5798",
   "metadata": {
    "scrolled": true
   },
   "outputs": [
    {
     "data": {
      "text/plain": [
       "4"
      ]
     },
     "execution_count": 71,
     "metadata": {},
     "output_type": "execute_result"
    }
   ],
   "source": [
    "fx([4,2,7,6,9,14,12],5, 1,0)"
   ]
  },
  {
   "cell_type": "code",
   "execution_count": 72,
   "id": "72691b01",
   "metadata": {},
   "outputs": [
    {
     "data": {
      "text/plain": [
       "7"
      ]
     },
     "execution_count": 72,
     "metadata": {},
     "output_type": "execute_result"
    }
   ],
   "source": [
    "fx([4,12,2,7,3,18,20,3,19],10,2,0)"
   ]
  },
  {
   "cell_type": "code",
   "execution_count": 73,
   "id": "0a16e7da",
   "metadata": {},
   "outputs": [
    {
     "data": {
      "text/plain": [
       "3"
      ]
     },
     "execution_count": 73,
     "metadata": {},
     "output_type": "execute_result"
    }
   ],
   "source": [
    "fx([14,3,19,3],17,0,0)"
   ]
  },
  {
   "cell_type": "code",
   "execution_count": 74,
   "id": "1320b45c",
   "metadata": {},
   "outputs": [
    {
     "data": {
      "text/plain": [
       "5"
      ]
     },
     "execution_count": 74,
     "metadata": {},
     "output_type": "execute_result"
    }
   ],
   "source": [
    "fx([15,14,13,12,11,10,15],0,0,0)"
   ]
  }
 ],
 "metadata": {
  "kernelspec": {
   "display_name": "Python 3 (ipykernel)",
   "language": "python",
   "name": "python3"
  },
  "language_info": {
   "codemirror_mode": {
    "name": "ipython",
    "version": 3
   },
   "file_extension": ".py",
   "mimetype": "text/x-python",
   "name": "python",
   "nbconvert_exporter": "python",
   "pygments_lexer": "ipython3",
   "version": "3.10.6"
  }
 },
 "nbformat": 4,
 "nbformat_minor": 5
}
