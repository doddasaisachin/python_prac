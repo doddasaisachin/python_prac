{
 "cells": [
  {
   "cell_type": "markdown",
   "id": "4df153b3",
   "metadata": {},
   "source": [
    "The product difference between two pairs (a, b) and (c, d) is defined as (a * b) - (c * d).\n",
    "\n",
    "For example, the product difference between (5, 6) and (2, 7) is (5 * 6) - (2 * 7) = 16.\n",
    "Given an integer array nums, choose four distinct indices w, x, y, and z such that the product difference between pairs (nums[w], nums[x]) and (nums[y], nums[z]) is maximized.\n",
    "\n",
    "Return the maximum such product difference.\n",
    "\n",
    " \n",
    "\n",
    "Example 1:\n",
    "\n",
    "Input: nums = [5,6,2,7,4]\n",
    "Output: 34\n",
    "Explanation: We can choose indices 1 and 3 for the first pair (6, 7) and indices 2 and 4 for the second pair (2, 4).\n",
    "The product difference is (6 * 7) - (2 * 4) = 34.\n",
    "\n",
    "Example 2:\n",
    "\n",
    "Input: nums = [4,2,5,9,7,4,8]\n",
    "Output: 64\n",
    "Explanation: We can choose indices 3 and 6 for the first pair (9, 8) and indices 1 and 5 for the second pair (2, 4).\n",
    "The product difference is (9 * 8) - (2 * 4) = 64."
   ]
  },
  {
   "cell_type": "code",
   "execution_count": 1,
   "id": "9cafaae4",
   "metadata": {},
   "outputs": [],
   "source": [
    "def fx(nums):\n",
    "    nums.sort()\n",
    "    return (nums[-1]*nums[-2])-(nums[0]*nums[1])"
   ]
  },
  {
   "cell_type": "code",
   "execution_count": 2,
   "id": "eed91dac",
   "metadata": {},
   "outputs": [
    {
     "data": {
      "text/plain": [
       "34"
      ]
     },
     "execution_count": 2,
     "metadata": {},
     "output_type": "execute_result"
    }
   ],
   "source": [
    "fx([5,6,2,7,4])"
   ]
  },
  {
   "cell_type": "code",
   "execution_count": 3,
   "id": "47b66c7e",
   "metadata": {},
   "outputs": [
    {
     "data": {
      "text/plain": [
       "64"
      ]
     },
     "execution_count": 3,
     "metadata": {},
     "output_type": "execute_result"
    }
   ],
   "source": [
    "fx([4,2,5,9,7,4,8])"
   ]
  },
  {
   "cell_type": "code",
   "execution_count": null,
   "id": "766a7b66",
   "metadata": {},
   "outputs": [],
   "source": []
  }
 ],
 "metadata": {
  "kernelspec": {
   "display_name": "Python 3 (ipykernel)",
   "language": "python",
   "name": "python3"
  },
  "language_info": {
   "codemirror_mode": {
    "name": "ipython",
    "version": 3
   },
   "file_extension": ".py",
   "mimetype": "text/x-python",
   "name": "python",
   "nbconvert_exporter": "python",
   "pygments_lexer": "ipython3",
   "version": "3.10.6"
  }
 },
 "nbformat": 4,
 "nbformat_minor": 5
}
