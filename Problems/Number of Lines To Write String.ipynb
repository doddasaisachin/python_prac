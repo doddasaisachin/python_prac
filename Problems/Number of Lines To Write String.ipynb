{
 "cells": [
  {
   "cell_type": "markdown",
   "id": "9cc9ce60",
   "metadata": {},
   "source": [
    "You are given a string s of lowercase English letters and an array widths denoting how many pixels wide each lowercase English letter is. Specifically, widths[0] is the width of 'a', widths[1] is the width of 'b', and so on.\n",
    "\n",
    "You are trying to write s across several lines, where each line is no longer than 100 pixels. Starting at the beginning of s, write as many letters on the first line such that the total width does not exceed 100 pixels. Then, from where you stopped in s, continue writing as many letters as you can on the second line. Continue this process until you have written all of s.\n",
    "\n",
    "Return an array result of length 2 where:\n",
    "\n",
    "result[0] is the total number of lines.\n",
    "result[1] is the width of the last line in pixels.\n",
    " \n",
    "\n",
    "Example 1:\n",
    "\n",
    "Input: widths = [10,10,10,10,10,10,10,10,10,10,10,10,10,10,10,10,10,10,10,10,10,10,10,10,10,10], s = \"abcdefghijklmnopqrstuvwxyz\"\n",
    "Output: [3,60]\n",
    "Explanation: You can write s as follows:\n",
    "abcdefghij  // 100 pixels wide\n",
    "klmnopqrst  // 100 pixels wide\n",
    "uvwxyz      // 60 pixels wide\n",
    "There are a total of 3 lines, and the last line is 60 pixels wide.\n",
    "\n",
    "Example 2:\n",
    "\n",
    "Input: widths = [4,10,10,10,10,10,10,10,10,10,10,10,10,10,10,10,10,10,10,10,10,10,10,10,10,10], s = \"bbbcccdddaaa\"\n",
    "Output: [2,4]\n",
    "Explanation: You can write s as follows:\n",
    "bbbcccdddaa  // 98 pixels wide\n",
    "a            // 4 pixels wide\n",
    "There are a total of 2 lines, and the last line is 4 pixels wide."
   ]
  },
  {
   "cell_type": "code",
   "execution_count": 1,
   "id": "2eb50e24",
   "metadata": {},
   "outputs": [],
   "source": [
    "def fx(wid,s):\n",
    "    temp,c=0,1\n",
    "    for i in s:\n",
    "        idx=ord(i)-97\n",
    "        pix=wid[idx]\n",
    "        if temp+pix<=100:\n",
    "            temp=temp+pix\n",
    "        else:\n",
    "            c+=1\n",
    "            temp=pix\n",
    "    return [c,temp]"
   ]
  },
  {
   "cell_type": "code",
   "execution_count": 3,
   "id": "41acee60",
   "metadata": {},
   "outputs": [
    {
     "data": {
      "text/plain": [
       "[3, 60]"
      ]
     },
     "execution_count": 3,
     "metadata": {},
     "output_type": "execute_result"
    }
   ],
   "source": [
    "fx([10,10,10,10,10,10,10,10,10,10,10,10,10,10,10,10,10,10,10,10,10,10,10,10,10,10],\n",
    "   s = \"abcdefghijklmnopqrstuvwxyz\")"
   ]
  },
  {
   "cell_type": "code",
   "execution_count": 4,
   "id": "63b8f378",
   "metadata": {},
   "outputs": [
    {
     "data": {
      "text/plain": [
       "[2, 4]"
      ]
     },
     "execution_count": 4,
     "metadata": {},
     "output_type": "execute_result"
    }
   ],
   "source": [
    "fx([4,10,10,10,10,10,10,10,10,10,10,10,10,10,10,10,10,10,10,10,10,10,10,10,10,10],\n",
    "   s = \"bbbcccdddaaa\")"
   ]
  },
  {
   "cell_type": "code",
   "execution_count": null,
   "id": "58f09aa4",
   "metadata": {},
   "outputs": [],
   "source": []
  }
 ],
 "metadata": {
  "kernelspec": {
   "display_name": "Python 3 (ipykernel)",
   "language": "python",
   "name": "python3"
  },
  "language_info": {
   "codemirror_mode": {
    "name": "ipython",
    "version": 3
   },
   "file_extension": ".py",
   "mimetype": "text/x-python",
   "name": "python",
   "nbconvert_exporter": "python",
   "pygments_lexer": "ipython3",
   "version": "3.10.6"
  }
 },
 "nbformat": 4,
 "nbformat_minor": 5
}
