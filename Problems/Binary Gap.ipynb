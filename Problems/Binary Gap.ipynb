{
 "cells": [
  {
   "cell_type": "markdown",
   "id": "0ce60cf6",
   "metadata": {},
   "source": [
    "Given a positive integer n, find and return the longest distance between any two adjacent 1's in the binary representation of n. If there are no two adjacent 1's, return 0.\n",
    "\n",
    "Two 1's are adjacent if there are only 0's separating them (possibly no 0's). The distance between two 1's is the absolute difference between their bit positions. For example, the two 1's in \"1001\" have a distance of 3.\n",
    "\n",
    " \n",
    "\n",
    "Example 1:\n",
    "\n",
    "Input: n = 22\n",
    "Output: 2\n",
    "Explanation: 22 in binary is \"10110\".\n",
    "The first adjacent pair of 1's is \"10110\" with a distance of 2.\n",
    "The second adjacent pair of 1's is \"10110\" with a distance of 1.\n",
    "The answer is the largest of these two distances, which is 2.\n",
    "Note that \"10110\" is not a valid pair since there is a 1 separating the two 1's underlined.\n",
    "                                                            \n",
    "Example 2:\n",
    "\n",
    "Input: n = 8\n",
    "Output: 0\n",
    "Explanation: 8 in binary is \"1000\".\n",
    "There are not any adjacent pairs of 1's in the binary representation of 8, so we return 0.\n",
    "                                                            \n",
    "Example 3:\n",
    "\n",
    "Input: n = 5\n",
    "Output: 2\n",
    "Explanation: 5 in binary is \"101\"."
   ]
  },
  {
   "cell_type": "code",
   "execution_count": 9,
   "id": "22200679",
   "metadata": {},
   "outputs": [],
   "source": [
    "def fx(n):\n",
    "    s=bin(n)[2:]\n",
    "    temp=0\n",
    "    a=0\n",
    "    c=0\n",
    "    idx=0\n",
    "#     print(s)\n",
    "    while idx<len(s):\n",
    "        if s[idx]=='1':\n",
    "            if c==0:\n",
    "                c+=1\n",
    "                a=idx\n",
    "            elif c>=1:\n",
    "                temp=max(temp,idx-a)\n",
    "#                 print(idx,a,temp)\n",
    "                a=idx\n",
    "        idx+=1\n",
    "    return temp"
   ]
  },
  {
   "cell_type": "code",
   "execution_count": 10,
   "id": "7dfa0336",
   "metadata": {},
   "outputs": [
    {
     "data": {
      "text/plain": [
       "2"
      ]
     },
     "execution_count": 10,
     "metadata": {},
     "output_type": "execute_result"
    }
   ],
   "source": [
    "fx(22)"
   ]
  },
  {
   "cell_type": "code",
   "execution_count": 11,
   "id": "5d64b003",
   "metadata": {},
   "outputs": [
    {
     "data": {
      "text/plain": [
       "0"
      ]
     },
     "execution_count": 11,
     "metadata": {},
     "output_type": "execute_result"
    }
   ],
   "source": [
    "fx(8)"
   ]
  },
  {
   "cell_type": "code",
   "execution_count": 12,
   "id": "6bbc65fb",
   "metadata": {},
   "outputs": [
    {
     "data": {
      "text/plain": [
       "2"
      ]
     },
     "execution_count": 12,
     "metadata": {},
     "output_type": "execute_result"
    }
   ],
   "source": [
    "fx(5)"
   ]
  },
  {
   "cell_type": "code",
   "execution_count": null,
   "id": "a9c1bb31",
   "metadata": {},
   "outputs": [],
   "source": []
  }
 ],
 "metadata": {
  "kernelspec": {
   "display_name": "Python 3 (ipykernel)",
   "language": "python",
   "name": "python3"
  },
  "language_info": {
   "codemirror_mode": {
    "name": "ipython",
    "version": 3
   },
   "file_extension": ".py",
   "mimetype": "text/x-python",
   "name": "python",
   "nbconvert_exporter": "python",
   "pygments_lexer": "ipython3",
   "version": "3.10.6"
  }
 },
 "nbformat": 4,
 "nbformat_minor": 5
}
