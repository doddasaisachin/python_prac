{
 "cells": [
  {
   "cell_type": "markdown",
   "id": "bb860a8f",
   "metadata": {},
   "source": [
    "Given a signed 32-bit integer x, return x with its digits reversed. If reversing x causes the value to go outside the signed 32-bit integer range [-231, 231 - 1], then return 0.\n",
    "\n",
    "Assume the environment does not allow you to store 64-bit integers (signed or unsigned).\n",
    "\n",
    " \n",
    "\n",
    "Example 1:\n",
    "\n",
    "Input: x = 123\n",
    "Output: 321\n",
    "    \n",
    "Example 2:\n",
    "\n",
    "Input: x = -123\n",
    "Output: -321\n",
    "    \n",
    "Example 3:\n",
    "\n",
    "Input: x = 120\n",
    "Output: 21"
   ]
  },
  {
   "cell_type": "code",
   "execution_count": 4,
   "id": "bfb20298",
   "metadata": {},
   "outputs": [],
   "source": [
    "def fx(x):\n",
    "    if x>=0:\n",
    "        v=int(str(x)[::-1])\n",
    "        if v>2147483647:\n",
    "            return 0\n",
    "        else:\n",
    "            return v \n",
    "    else:\n",
    "        v=-int(str(x)[1:][::-1])\n",
    "        if v<-2147483648:\n",
    "            return 0\n",
    "        else:\n",
    "            return v "
   ]
  },
  {
   "cell_type": "code",
   "execution_count": 5,
   "id": "68e5b2e4",
   "metadata": {},
   "outputs": [
    {
     "data": {
      "text/plain": [
       "321"
      ]
     },
     "execution_count": 5,
     "metadata": {},
     "output_type": "execute_result"
    }
   ],
   "source": [
    "fx(123)"
   ]
  },
  {
   "cell_type": "code",
   "execution_count": 6,
   "id": "3ce20141",
   "metadata": {},
   "outputs": [
    {
     "data": {
      "text/plain": [
       "-321"
      ]
     },
     "execution_count": 6,
     "metadata": {},
     "output_type": "execute_result"
    }
   ],
   "source": [
    "fx(-123)"
   ]
  },
  {
   "cell_type": "code",
   "execution_count": null,
   "id": "4fd6767a",
   "metadata": {},
   "outputs": [],
   "source": []
  }
 ],
 "metadata": {
  "kernelspec": {
   "display_name": "Python 3 (ipykernel)",
   "language": "python",
   "name": "python3"
  },
  "language_info": {
   "codemirror_mode": {
    "name": "ipython",
    "version": 3
   },
   "file_extension": ".py",
   "mimetype": "text/x-python",
   "name": "python",
   "nbconvert_exporter": "python",
   "pygments_lexer": "ipython3",
   "version": "3.10.6"
  }
 },
 "nbformat": 4,
 "nbformat_minor": 5
}
