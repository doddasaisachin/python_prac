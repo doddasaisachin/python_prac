{
 "cells": [
  {
   "cell_type": "markdown",
   "id": "bb27ce4a",
   "metadata": {},
   "source": [
    "Given n pairs of parentheses, write a function to generate all combinations of well-formed parentheses.\n",
    "\n",
    " \n",
    "\n",
    "Example 1:\n",
    "\n",
    "Input: n = 3\n",
    "Output: [\"((()))\",\"(()())\",\"(())()\",\"()(())\",\"()()()\"]\n",
    "    \n",
    "Example 2:\n",
    "\n",
    "Input: n = 1\n",
    "Output: [\"()\"]"
   ]
  },
  {
   "cell_type": "code",
   "execution_count": 92,
   "id": "5e9c06f4",
   "metadata": {},
   "outputs": [],
   "source": [
    "def func(n):\n",
    "    arr=[[\"()\"]]\n",
    "    if n==1:\n",
    "        return arr[0]\n",
    "    for i in range(1,n):\n",
    "        temp=[]\n",
    "        last=arr[-1]\n",
    "        for j in last:\n",
    "            for i in range(len(j)):\n",
    "                s=list(j)\n",
    "                s.insert(i,\"()\")\n",
    "                s=''.join(s)\n",
    "                if s not in temp:\n",
    "                    temp.append(s)\n",
    "        arr.append(temp)\n",
    "    return arr[-1]"
   ]
  },
  {
   "cell_type": "code",
   "execution_count": 95,
   "id": "305b45d4",
   "metadata": {},
   "outputs": [
    {
     "data": {
      "text/plain": [
       "['()()()', '(())()', '()(())', '(()())', '((()))']"
      ]
     },
     "execution_count": 95,
     "metadata": {},
     "output_type": "execute_result"
    }
   ],
   "source": [
    "func(3)"
   ]
  },
  {
   "cell_type": "code",
   "execution_count": 93,
   "id": "7c8a1ed5",
   "metadata": {},
   "outputs": [],
   "source": [
    "def generateParenthesis( n: int):\n",
    "    def dfs(left, right, s):\n",
    "        if len(s) == n * 2:\n",
    "            res.append(s)\n",
    "            return \n",
    "        if left < n:\n",
    "            dfs(left + 1, right, s + '(')\n",
    "\n",
    "        if right < left:\n",
    "            dfs(left, right + 1, s + ')')\n",
    "    res = []\n",
    "    dfs(0, 0, '')\n",
    "    return res"
   ]
  },
  {
   "cell_type": "code",
   "execution_count": 94,
   "id": "bdae7b73",
   "metadata": {},
   "outputs": [
    {
     "data": {
      "text/plain": [
       "['((()))', '(()())', '(())()', '()(())', '()()()']"
      ]
     },
     "execution_count": 94,
     "metadata": {},
     "output_type": "execute_result"
    }
   ],
   "source": [
    "generateParenthesis(3)"
   ]
  },
  {
   "cell_type": "code",
   "execution_count": null,
   "id": "7c3a5f6a",
   "metadata": {},
   "outputs": [],
   "source": []
  }
 ],
 "metadata": {
  "kernelspec": {
   "display_name": "Python 3 (ipykernel)",
   "language": "python",
   "name": "python3"
  },
  "language_info": {
   "codemirror_mode": {
    "name": "ipython",
    "version": 3
   },
   "file_extension": ".py",
   "mimetype": "text/x-python",
   "name": "python",
   "nbconvert_exporter": "python",
   "pygments_lexer": "ipython3",
   "version": "3.10.6"
  }
 },
 "nbformat": 4,
 "nbformat_minor": 5
}
