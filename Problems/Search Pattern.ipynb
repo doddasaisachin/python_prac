{
 "cells": [
  {
   "cell_type": "markdown",
   "id": "2548a0eb",
   "metadata": {},
   "source": [
    "Given two strings, one is a text string and other is a pattern string. The task is to print the indexes of all the occurences of pattern string in the text string. For printing, Starting Index of a string should be taken as 1. The strings will only contain lowercase English alphabets ('a' to 'z')."
   ]
  },
  {
   "cell_type": "code",
   "execution_count": 1,
   "id": "b9c92b8b",
   "metadata": {},
   "outputs": [],
   "source": [
    "def search( pattern, text):\n",
    "    # code here\n",
    "    ans=[]\n",
    "    m=len(text)\n",
    "    n=len(pattern)\n",
    "    if m<n:return False\n",
    "    for i in range(m-n+1):\n",
    "        if text[i:i+n]==pattern:\n",
    "            ans.append(i+1)\n",
    "    return ans"
   ]
  },
  {
   "cell_type": "code",
   "execution_count": 2,
   "id": "cdc3d45a",
   "metadata": {},
   "outputs": [
    {
     "data": {
      "text/plain": [
       "[1]"
      ]
     },
     "execution_count": 2,
     "metadata": {},
     "output_type": "execute_result"
    }
   ],
   "source": [
    "search(text = \"birthdayboy\",pattern = \"birth\")"
   ]
  },
  {
   "cell_type": "code",
   "execution_count": null,
   "id": "3ff5bf2c",
   "metadata": {},
   "outputs": [],
   "source": []
  }
 ],
 "metadata": {
  "kernelspec": {
   "display_name": "Python 3 (ipykernel)",
   "language": "python",
   "name": "python3"
  },
  "language_info": {
   "codemirror_mode": {
    "name": "ipython",
    "version": 3
   },
   "file_extension": ".py",
   "mimetype": "text/x-python",
   "name": "python",
   "nbconvert_exporter": "python",
   "pygments_lexer": "ipython3",
   "version": "3.10.1"
  }
 },
 "nbformat": 4,
 "nbformat_minor": 5
}
