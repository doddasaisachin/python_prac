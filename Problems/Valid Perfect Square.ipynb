{
 "cells": [
  {
   "cell_type": "code",
   "execution_count": 36,
   "id": "1184760a",
   "metadata": {},
   "outputs": [],
   "source": [
    "def func(n):\n",
    "    c=0\n",
    "    idx=2\n",
    "    while n>1:\n",
    "        while n%idx==0:\n",
    "            c+=1\n",
    "            n=n//idx\n",
    "        if c%2!=0:\n",
    "            return False\n",
    "        idx+=1\n",
    "        c=0\n",
    "    return True"
   ]
  },
  {
   "cell_type": "code",
   "execution_count": 37,
   "id": "0b6821eb",
   "metadata": {},
   "outputs": [
    {
     "data": {
      "text/plain": [
       "False"
      ]
     },
     "execution_count": 37,
     "metadata": {},
     "output_type": "execute_result"
    }
   ],
   "source": [
    "func(14)"
   ]
  },
  {
   "cell_type": "code",
   "execution_count": 38,
   "id": "bf348236",
   "metadata": {},
   "outputs": [
    {
     "data": {
      "text/plain": [
       "True"
      ]
     },
     "execution_count": 38,
     "metadata": {},
     "output_type": "execute_result"
    }
   ],
   "source": [
    "func(16)"
   ]
  },
  {
   "cell_type": "code",
   "execution_count": 47,
   "id": "34ed7c43",
   "metadata": {},
   "outputs": [],
   "source": [
    "import math\n",
    "def fx(num):\n",
    "    return True if num==(int(math.sqrt(num))*int(math.sqrt(num))) else False"
   ]
  },
  {
   "cell_type": "code",
   "execution_count": 48,
   "id": "41acb913",
   "metadata": {},
   "outputs": [
    {
     "data": {
      "text/plain": [
       "True"
      ]
     },
     "execution_count": 48,
     "metadata": {},
     "output_type": "execute_result"
    }
   ],
   "source": [
    "fx(4)"
   ]
  },
  {
   "cell_type": "code",
   "execution_count": null,
   "id": "b4b2a715",
   "metadata": {},
   "outputs": [],
   "source": []
  }
 ],
 "metadata": {
  "kernelspec": {
   "display_name": "Python 3 (ipykernel)",
   "language": "python",
   "name": "python3"
  },
  "language_info": {
   "codemirror_mode": {
    "name": "ipython",
    "version": 3
   },
   "file_extension": ".py",
   "mimetype": "text/x-python",
   "name": "python",
   "nbconvert_exporter": "python",
   "pygments_lexer": "ipython3",
   "version": "3.10.6"
  }
 },
 "nbformat": 4,
 "nbformat_minor": 5
}
