{
 "cells": [
  {
   "cell_type": "markdown",
   "id": "7bcdb7e7",
   "metadata": {},
   "source": [
    "A frog jumps either 1, 2, or 3 steps to go to the top. In how many ways can it reach the top of Nth step.\n",
    "\n",
    "### Example 1:\n",
    "\n",
    "Input:\n",
    "N = 1\n",
    "Output: 1\n",
    "    \n",
    "### Example 2:\n",
    "Input:\n",
    "N = 4\n",
    "Output: 7\n",
    "Explanation:\n",
    "Below are the 7 ways to reach\n",
    "\n",
    "[1 step + 1 step + 1 step + 1 step],\n",
    "[1 step + 2 step + 1 step],\n",
    "[2 step + 1 step + 1 step],\n",
    "[1 step + 1 step + 2 step],\n",
    "[2 step + 2 step],\n",
    "[3 step + 1 step],\n",
    "[1 step + 3 step]"
   ]
  },
  {
   "cell_type": "code",
   "execution_count": 12,
   "id": "2821f83a",
   "metadata": {},
   "outputs": [],
   "source": [
    "def frog_hop(target : int )->int:\n",
    "    if target==1:\n",
    "        return 1\n",
    "    if target==2:\n",
    "        return 2\n",
    "    array=[None for i in range(target+1)]\n",
    "    array[0]=array[1]=1\n",
    "    array[2]=2\n",
    "    for i in range(3,target+1):\n",
    "        array[i]=array[i-1]+array[i-2]+array[i-3]\n",
    "    return array[-1]"
   ]
  },
  {
   "cell_type": "code",
   "execution_count": 14,
   "id": "ff213eb6",
   "metadata": {},
   "outputs": [
    {
     "data": {
      "text/plain": [
       "7"
      ]
     },
     "execution_count": 14,
     "metadata": {},
     "output_type": "execute_result"
    }
   ],
   "source": [
    "frog_hop(4)"
   ]
  },
  {
   "cell_type": "code",
   "execution_count": null,
   "id": "68028a8b",
   "metadata": {},
   "outputs": [],
   "source": []
  }
 ],
 "metadata": {
  "kernelspec": {
   "display_name": "Python 3 (ipykernel)",
   "language": "python",
   "name": "python3"
  },
  "language_info": {
   "codemirror_mode": {
    "name": "ipython",
    "version": 3
   },
   "file_extension": ".py",
   "mimetype": "text/x-python",
   "name": "python",
   "nbconvert_exporter": "python",
   "pygments_lexer": "ipython3",
   "version": "3.10.6"
  }
 },
 "nbformat": 4,
 "nbformat_minor": 5
}
