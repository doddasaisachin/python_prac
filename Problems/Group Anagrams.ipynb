{
 "cells": [
  {
   "cell_type": "markdown",
   "id": "c29ccfa0",
   "metadata": {},
   "source": [
    "Given an array of strings strs, group the anagrams together. You can return the answer in any order.\n",
    "\n",
    "An Anagram is a word or phrase formed by rearranging the letters of a different word or phrase, typically using all the original letters exactly once.\n",
    "\n",
    " \n",
    "\n",
    "##### Example 1:\n",
    "\n",
    "Input: strs = [\"eat\",\"tea\",\"tan\",\"ate\",\"nat\",\"bat\"]\n",
    "    \n",
    "Output: [[\"bat\"],[\"nat\",\"tan\"],[\"ate\",\"eat\",\"tea\"]]\n",
    "    \n",
    "##### Example 2:\n",
    "\n",
    "Input: strs = [\"\"]\n",
    "    \n",
    "Output: [[\"\"]]\n",
    "    \n",
    "##### Example 3:\n",
    "\n",
    "Input: strs = [\"a\"]\n",
    "    \n",
    "Output: [[\"a\"]]\n"
   ]
  },
  {
   "cell_type": "code",
   "execution_count": 1,
   "id": "81ca1e02",
   "metadata": {},
   "outputs": [],
   "source": [
    "def groupAnagrams(strs):\n",
    "    d=dict()\n",
    "    for i in strs:\n",
    "        temp=tuple(sorted(i))\n",
    "        if temp not in d.keys():\n",
    "            d[temp]=[i]\n",
    "        else:\n",
    "            d[temp].append(i)\n",
    "    res=[]\n",
    "    for i in d.values():\n",
    "        res.append(i)\n",
    "    return res\n"
   ]
  },
  {
   "cell_type": "code",
   "execution_count": null,
   "id": "01481660",
   "metadata": {},
   "outputs": [],
   "source": []
  }
 ],
 "metadata": {
  "kernelspec": {
   "display_name": "Python 3 (ipykernel)",
   "language": "python",
   "name": "python3"
  },
  "language_info": {
   "codemirror_mode": {
    "name": "ipython",
    "version": 3
   },
   "file_extension": ".py",
   "mimetype": "text/x-python",
   "name": "python",
   "nbconvert_exporter": "python",
   "pygments_lexer": "ipython3",
   "version": "3.10.6"
  }
 },
 "nbformat": 4,
 "nbformat_minor": 5
}
