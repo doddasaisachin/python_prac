{
 "cells": [
  {
   "cell_type": "markdown",
   "id": "b86779b6",
   "metadata": {},
   "source": [
    "Given strings s1, s2, and s3, find whether s3 is formed by an interleaving of s1 and s2.\n",
    "\n",
    "An interleaving of two strings s and t is a configuration where s and t are divided into n and m \n",
    "substrings\n",
    " respectively, such that:\n",
    "\n",
    "* s = s1 + s2 + ... + sn\n",
    "* t = t1 + t2 + ... + tm\n",
    "* |n - m| <= 1\n",
    "* The interleaving is s1 + t1 + s2 + t2 + s3 + t3 + ... or t1 + s1 + t2 + s2 + t3 + s3 + ...\n",
    "\n",
    "Note: a + b is the concatenation of strings a and b."
   ]
  },
  {
   "cell_type": "code",
   "execution_count": 66,
   "id": "d9760384",
   "metadata": {},
   "outputs": [],
   "source": [
    "def fx(s1,s2,s3):\n",
    "    m=len(s1)\n",
    "    n=len(s2)\n",
    "    dp=[[None]*(n+1) for i in range(m+1)]\n",
    "    dp[0][0]=[\"\"]\n",
    "    for i in range(1,n+1):\n",
    "        dp[0][i]=[s2[:i]]\n",
    "    for i in range(1,m+1):\n",
    "        dp[i][0]=[s1[:i]]\n",
    "    for i in range(1,m+1):\n",
    "        for j in range(1,n+1):\n",
    "            dp[i][j]=[]\n",
    "            for k in dp[i][j-1]:\n",
    "                if k+s2[j-1]==s3[:i+j] and k+s2[j-1] not in dp[i][j]:\n",
    "                    dp[i][j].append(k+s2[j-1])\n",
    "            for k in dp[i-1][j]:\n",
    "                if k+s1[i-1]==s3[:i+j] and k+s1[i-1] not in dp[i][j]:\n",
    "                    dp[i][j].append(k+s1[i-1])\n",
    "#     for i in dp:\n",
    "#         for j in i:\n",
    "#             print(j,end=\" \")\n",
    "#         print()\n",
    "    if dp[-1][-1]==[s3]:\n",
    "        return True\n",
    "    return False"
   ]
  },
  {
   "cell_type": "code",
   "execution_count": 67,
   "id": "3190c68c",
   "metadata": {},
   "outputs": [
    {
     "data": {
      "text/plain": [
       "False"
      ]
     },
     "execution_count": 67,
     "metadata": {},
     "output_type": "execute_result"
    }
   ],
   "source": [
    "fx(s1 = \"aabcc\", s2 = \"dbbca\", s3 = \"aadbbbaccc\")"
   ]
  },
  {
   "cell_type": "code",
   "execution_count": null,
   "id": "059aaf5f",
   "metadata": {},
   "outputs": [],
   "source": []
  }
 ],
 "metadata": {
  "kernelspec": {
   "display_name": "Python 3 (ipykernel)",
   "language": "python",
   "name": "python3"
  },
  "language_info": {
   "codemirror_mode": {
    "name": "ipython",
    "version": 3
   },
   "file_extension": ".py",
   "mimetype": "text/x-python",
   "name": "python",
   "nbconvert_exporter": "python",
   "pygments_lexer": "ipython3",
   "version": "3.10.6"
  }
 },
 "nbformat": 4,
 "nbformat_minor": 5
}
