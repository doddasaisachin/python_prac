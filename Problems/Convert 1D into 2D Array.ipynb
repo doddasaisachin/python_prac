{
 "cells": [
  {
   "cell_type": "markdown",
   "id": "c2a1e8ce",
   "metadata": {},
   "source": [
    "You are given a 0-indexed 1-dimensional (1D) integer array original, and two integers, m and n. You are tasked with creating a 2-dimensional (2D) array with  m rows and n columns using all the elements from original.\n",
    "\n",
    "The elements from indices 0 to n - 1 (inclusive) of original should form the first row of the constructed 2D array, the elements from indices n to 2 * n - 1 (inclusive) should form the second row of the constructed 2D array, and so on.\n",
    "\n",
    "Return an m x n 2D array constructed according to the above procedure, or an empty 2D array if it is impossible."
   ]
  },
  {
   "cell_type": "markdown",
   "id": "ee5ef3f1",
   "metadata": {},
   "source": [
    "Example 1:\n",
    "Input: original = [1,2,3,4], m = 2, n = 2\n",
    "Output: [[1,2],[3,4]]\n",
    "Explanation: The constructed 2D array should contain 2 rows and 2 columns.\n",
    "The first group of n=2 elements in original, [1,2], becomes the first row in the constructed 2D array.\n",
    "The second group of n=2 elements in original, [3,4], becomes the second row in the constructed 2D array.\n",
    "\n",
    "\n",
    "Example 2:\n",
    "Input: original = [1,2,3], m = 1, n = 3\n",
    "Output: [[1,2,3]]\n",
    "Explanation: The constructed 2D array should contain 1 row and 3 columns.\n",
    "Put all three elements in original into the first row of the constructed 2D array.\n",
    "\n",
    "\n",
    "Example 3:\n",
    "Input: original = [1,2], m = 1, n = 1\n",
    "Output: []\n",
    "Explanation: There are 2 elements in original.\n",
    "It is impossible to fit 2 elements in a 1x1 2D array, so return an empty 2D array."
   ]
  },
  {
   "cell_type": "code",
   "execution_count": 6,
   "id": "dbb91f4f",
   "metadata": {},
   "outputs": [],
   "source": [
    "def function(array,m,n):\n",
    "    if (m*n)!=len(array):\n",
    "        return []\n",
    "    final=[]\n",
    "    idx=0\n",
    "    for i in range(m):\n",
    "        temp=[]\n",
    "        itr=0\n",
    "        while itr<n:\n",
    "            temp.append(array[idx])\n",
    "            idx+=1\n",
    "            itr+=1\n",
    "        final.append(temp)\n",
    "    return final"
   ]
  },
  {
   "cell_type": "code",
   "execution_count": 7,
   "id": "2cca8438",
   "metadata": {},
   "outputs": [
    {
     "data": {
      "text/plain": [
       "[[1, 2], [3, 4]]"
      ]
     },
     "execution_count": 7,
     "metadata": {},
     "output_type": "execute_result"
    }
   ],
   "source": [
    "function([1,2,3,4],2,2)"
   ]
  },
  {
   "cell_type": "code",
   "execution_count": 8,
   "id": "fcfc9fb5",
   "metadata": {},
   "outputs": [
    {
     "data": {
      "text/plain": [
       "[[1, 2, 3]]"
      ]
     },
     "execution_count": 8,
     "metadata": {},
     "output_type": "execute_result"
    }
   ],
   "source": [
    "function([1,2,3],1,3)"
   ]
  },
  {
   "cell_type": "code",
   "execution_count": 9,
   "id": "4c9eec93",
   "metadata": {},
   "outputs": [
    {
     "data": {
      "text/plain": [
       "[]"
      ]
     },
     "execution_count": 9,
     "metadata": {},
     "output_type": "execute_result"
    }
   ],
   "source": [
    "function([1,2],1,1)"
   ]
  }
 ],
 "metadata": {
  "kernelspec": {
   "display_name": "Python 3 (ipykernel)",
   "language": "python",
   "name": "python3"
  },
  "language_info": {
   "codemirror_mode": {
    "name": "ipython",
    "version": 3
   },
   "file_extension": ".py",
   "mimetype": "text/x-python",
   "name": "python",
   "nbconvert_exporter": "python",
   "pygments_lexer": "ipython3",
   "version": "3.10.6"
  }
 },
 "nbformat": 4,
 "nbformat_minor": 5
}
