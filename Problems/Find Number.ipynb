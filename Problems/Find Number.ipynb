{
 "cells": [
  {
   "cell_type": "markdown",
   "id": "0d633183",
   "metadata": {},
   "source": [
    "Given an integer N, You need to find the Nth smallest number which only contains odd digits i.e. 1,3,5,7,9 means no even digits are allowed on that number (12 will not consider). For example, the starting numbers which only contain odd digits are 1,3,5,7,9,11,13,15,17,19,31,33,35 and so on."
   ]
  },
  {
   "cell_type": "markdown",
   "id": "3bf791ca",
   "metadata": {},
   "source": [
    "##### Example 1:\n",
    "\n",
    "Input:\n",
    "N=3\n",
    "Output:\n",
    "5\n",
    "Explanation:\n",
    "First three numbers are 1, 3, 5.\n",
    "Here 5 is the 3rd number, where contains\n",
    "only odd digits."
   ]
  },
  {
   "cell_type": "markdown",
   "id": "f9073943",
   "metadata": {},
   "source": [
    "##### Example 2:\n",
    "\n",
    "Input:\n",
    "N=13\n",
    "Output:\n",
    "35\n",
    "Explanation:\n",
    "First 13 numbers are 1,3,5,7,9,\n",
    "11,13,15,17,19,31,33,35, here 35 \n",
    "is the answer."
   ]
  },
  {
   "cell_type": "code",
   "execution_count": 7,
   "id": "82a2ff38",
   "metadata": {},
   "outputs": [],
   "source": [
    "def iseven(string):\n",
    "    for i in string:\n",
    "        if int(i)%2==0:\n",
    "            return False\n",
    "    return True\n",
    "def func(n):\n",
    "    even=[0,2,4,6,8]\n",
    "    res=[]\n",
    "    idx=1\n",
    "    while len(res)<n:\n",
    "        if not iseven(str(idx)):\n",
    "            pass\n",
    "        else:\n",
    "            res.append(idx)\n",
    "        idx+=1\n",
    "    return res[-1]"
   ]
  },
  {
   "cell_type": "code",
   "execution_count": 8,
   "id": "8dce6942",
   "metadata": {},
   "outputs": [
    {
     "data": {
      "text/plain": [
       "5"
      ]
     },
     "execution_count": 8,
     "metadata": {},
     "output_type": "execute_result"
    }
   ],
   "source": [
    "func(3)"
   ]
  },
  {
   "cell_type": "code",
   "execution_count": 9,
   "id": "93813277",
   "metadata": {
    "scrolled": true
   },
   "outputs": [
    {
     "data": {
      "text/plain": [
       "35"
      ]
     },
     "execution_count": 9,
     "metadata": {},
     "output_type": "execute_result"
    }
   ],
   "source": [
    "func(13)"
   ]
  }
 ],
 "metadata": {
  "kernelspec": {
   "display_name": "Python 3 (ipykernel)",
   "language": "python",
   "name": "python3"
  },
  "language_info": {
   "codemirror_mode": {
    "name": "ipython",
    "version": 3
   },
   "file_extension": ".py",
   "mimetype": "text/x-python",
   "name": "python",
   "nbconvert_exporter": "python",
   "pygments_lexer": "ipython3",
   "version": "3.10.6"
  }
 },
 "nbformat": 4,
 "nbformat_minor": 5
}
