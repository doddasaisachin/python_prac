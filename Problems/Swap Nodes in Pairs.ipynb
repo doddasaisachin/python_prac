{
 "cells": [
  {
   "cell_type": "markdown",
   "id": "03c56a03",
   "metadata": {},
   "source": [
    "Given a linked list, swap every two adjacent nodes and return its head. "
   ]
  },
  {
   "cell_type": "code",
   "execution_count": 1,
   "id": "74c94312",
   "metadata": {},
   "outputs": [],
   "source": [
    "def swapPairs(head):\n",
    "    if head is None:\n",
    "        return\n",
    "    itr1=head\n",
    "    itr2=head.next\n",
    "    while itr2 is not None:\n",
    "        itr1.val,itr2.val=itr2.val,itr1.val\n",
    "        itr1=itr2.next\n",
    "        if itr1 is not None:\n",
    "            itr2=itr1.next\n",
    "        else:\n",
    "            break\n",
    "    return head"
   ]
  },
  {
   "cell_type": "code",
   "execution_count": null,
   "id": "af0236ed",
   "metadata": {},
   "outputs": [],
   "source": []
  }
 ],
 "metadata": {
  "kernelspec": {
   "display_name": "Python 3 (ipykernel)",
   "language": "python",
   "name": "python3"
  },
  "language_info": {
   "codemirror_mode": {
    "name": "ipython",
    "version": 3
   },
   "file_extension": ".py",
   "mimetype": "text/x-python",
   "name": "python",
   "nbconvert_exporter": "python",
   "pygments_lexer": "ipython3",
   "version": "3.10.6"
  }
 },
 "nbformat": 4,
 "nbformat_minor": 5
}
