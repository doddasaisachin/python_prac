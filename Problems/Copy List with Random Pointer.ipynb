{
 "cells": [
  {
   "cell_type": "markdown",
   "id": "79e3bac0",
   "metadata": {},
   "source": [
    "A linked list of length n is given such that each node contains an additional random pointer, which could point to any node in the list, or null.\n",
    "\n",
    "Construct a deep copy of the list. The deep copy should consist of exactly n brand new nodes, where each new node has its value set to the value of its corresponding original node. Both the next and random pointer of the new nodes should point to new nodes in the copied list such that the pointers in the original list and copied list represent the same list state. None of the pointers in the new list should point to nodes in the original list.\n",
    "\n",
    "For example, if there are two nodes X and Y in the original list, where X.random --> Y, then for the corresponding two nodes x and y in the copied list, x.random --> y.\n",
    "\n",
    "Return the head of the copied linked list.\n",
    "\n",
    "The linked list is represented in the input/output as a list of n nodes. Each node is represented as a pair of [val, random_index] where:\n",
    "\n",
    "* val: an integer representing Node.val\n",
    "* random_index: the index of the node (range from 0 to n-1) that the random pointer points to, or null if it does not point to any node.\n",
    "    \n",
    "Your code will only be given the head of the original linked list."
   ]
  },
  {
   "cell_type": "code",
   "execution_count": 1,
   "id": "2e81255b",
   "metadata": {},
   "outputs": [],
   "source": [
    "class Node:\n",
    "    def __init__(self, x, next = None, random = None):\n",
    "        self.val = int(x)\n",
    "        self.next = next\n",
    "        self.random = random"
   ]
  },
  {
   "cell_type": "code",
   "execution_count": 2,
   "id": "c3f7aac5",
   "metadata": {},
   "outputs": [],
   "source": [
    "def copyRandomList(head):\n",
    "    itr=head\n",
    "    res=None\n",
    "    point=None\n",
    "    while itr is not None:\n",
    "        temp=Node(itr.val)\n",
    "        if res is None:\n",
    "            res=temp\n",
    "            point=res\n",
    "        else:\n",
    "            point.next=temp\n",
    "            point=point.next\n",
    "        itr=itr.next\n",
    "\n",
    "    itr=head\n",
    "    point=res\n",
    "    while itr is not None:\n",
    "        if itr.random is None:\n",
    "            point.random=None\n",
    "        else:\n",
    "            c=0\n",
    "            t1=head\n",
    "            while itr.random!=t1:\n",
    "                t1=t1.next\n",
    "                c+=1\n",
    "            t2=res\n",
    "            for i in range(c):\n",
    "                t2=t2.next\n",
    "            point.random=t2\n",
    "        itr=itr.next\n",
    "        point=point.next\n",
    "    return res\n"
   ]
  },
  {
   "cell_type": "code",
   "execution_count": null,
   "id": "a74f88e8",
   "metadata": {},
   "outputs": [],
   "source": []
  }
 ],
 "metadata": {
  "kernelspec": {
   "display_name": "Python 3 (ipykernel)",
   "language": "python",
   "name": "python3"
  },
  "language_info": {
   "codemirror_mode": {
    "name": "ipython",
    "version": 3
   },
   "file_extension": ".py",
   "mimetype": "text/x-python",
   "name": "python",
   "nbconvert_exporter": "python",
   "pygments_lexer": "ipython3",
   "version": "3.10.6"
  }
 },
 "nbformat": 4,
 "nbformat_minor": 5
}
