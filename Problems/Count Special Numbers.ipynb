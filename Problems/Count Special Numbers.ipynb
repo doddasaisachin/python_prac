{
 "cells": [
  {
   "cell_type": "markdown",
   "id": "01e6f4ca",
   "metadata": {},
   "source": [
    "You are given an array arr[ ] of size N consisting of only positive integers. Your task is to find the count of special numbers in the array. A number is said to be a special number if it is divisible by at least 1 other element of the array."
   ]
  },
  {
   "cell_type": "markdown",
   "id": "d4e91e1a",
   "metadata": {},
   "source": [
    "##### Example 1:\n",
    "\n",
    "Input:\n",
    "N = 3\n",
    "arr[] = [2, 3, 6]\n",
    "\n",
    "Output:\n",
    "1\n",
    "\n",
    "Explanation:\n",
    "The number 6 is the only special number in the\n",
    "array as it is divisible by the array elements 2 \n",
    "and 3. Hence, the answer is 1 in this case."
   ]
  },
  {
   "cell_type": "markdown",
   "id": "f168392a",
   "metadata": {},
   "source": [
    "##### Example 2:\n",
    "\n",
    "Input: \n",
    "N = 4\n",
    "arr[] = [5, 5, 5, 5]\n",
    "\n",
    "Output:\n",
    "4\n",
    "\n",
    "Explanation: \n",
    "All the array elements are special. Hence, \n",
    "the answer is 4 in this case."
   ]
  },
  {
   "cell_type": "code",
   "execution_count": 33,
   "id": "393f1d7a",
   "metadata": {},
   "outputs": [],
   "source": [
    "def func(n,arr):\n",
    "    c=0\n",
    "    for i in range(n):\n",
    "        for j in range(n):\n",
    "            if i==j:\n",
    "                pass\n",
    "            else:\n",
    "                if arr[i]%arr[j]==0:\n",
    "                    c+=1\n",
    "                    break\n",
    "    return c"
   ]
  },
  {
   "cell_type": "code",
   "execution_count": 34,
   "id": "fa4d9fe6",
   "metadata": {},
   "outputs": [
    {
     "data": {
      "text/plain": [
       "1"
      ]
     },
     "execution_count": 34,
     "metadata": {},
     "output_type": "execute_result"
    }
   ],
   "source": [
    "func(3,[2,3,6])"
   ]
  },
  {
   "cell_type": "code",
   "execution_count": 35,
   "id": "54d3080e",
   "metadata": {},
   "outputs": [
    {
     "data": {
      "text/plain": [
       "4"
      ]
     },
     "execution_count": 35,
     "metadata": {},
     "output_type": "execute_result"
    }
   ],
   "source": [
    "func(4,[5,5,5,5])"
   ]
  }
 ],
 "metadata": {
  "kernelspec": {
   "display_name": "Python 3 (ipykernel)",
   "language": "python",
   "name": "python3"
  },
  "language_info": {
   "codemirror_mode": {
    "name": "ipython",
    "version": 3
   },
   "file_extension": ".py",
   "mimetype": "text/x-python",
   "name": "python",
   "nbconvert_exporter": "python",
   "pygments_lexer": "ipython3",
   "version": "3.10.6"
  }
 },
 "nbformat": 4,
 "nbformat_minor": 5
}
