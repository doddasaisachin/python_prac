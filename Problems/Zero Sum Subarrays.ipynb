{
 "cells": [
  {
   "cell_type": "markdown",
   "id": "30814cbd",
   "metadata": {},
   "source": [
    "You are given an array arr[] of size n. Find the total count of sub-arrays having their sum equal to 0."
   ]
  },
  {
   "cell_type": "markdown",
   "id": "0cff7874",
   "metadata": {},
   "source": [
    "##### Example 1:\n",
    "Input:\n",
    "n = 6\n",
    "arr[] = [0,0,5,5,0,0]\n",
    "\n",
    "Output: 6\n",
    "    \n",
    "Explanation: The 6 subarrays are \n",
    "[0], [0], [0], [0], [0,0], and [0,0]."
   ]
  },
  {
   "cell_type": "markdown",
   "id": "acdba6fa",
   "metadata": {},
   "source": [
    "##### Example 2:\n",
    "\n",
    "Input:\n",
    "n = 10\n",
    "arr[] = [6,-1,-3,4,-2,2,4,6,-12,-7]\n",
    "\n",
    "Output: 4\n",
    "    \n",
    "Explanation: The 4 subarrays are [-1 -3 4]\n",
    "[-2 2], [2 4 6 -12], and [-1 -3 4 -2 2]"
   ]
  },
  {
   "cell_type": "code",
   "execution_count": 57,
   "id": "c987bda7",
   "metadata": {},
   "outputs": [],
   "source": [
    "def func(n,arr):\n",
    "    res=0\n",
    "    for i in range(n):\n",
    "        temp=[]\n",
    "        for j in (arr[i:]):\n",
    "            temp.append(j)\n",
    "            if sum(temp)==0:\n",
    "                res+=1\n",
    "    return res"
   ]
  },
  {
   "cell_type": "code",
   "execution_count": 58,
   "id": "aff1bed8",
   "metadata": {},
   "outputs": [
    {
     "data": {
      "text/plain": [
       "6"
      ]
     },
     "execution_count": 58,
     "metadata": {},
     "output_type": "execute_result"
    }
   ],
   "source": [
    "func(6,[0,0,5,5,0,0])"
   ]
  },
  {
   "cell_type": "code",
   "execution_count": 59,
   "id": "03395636",
   "metadata": {},
   "outputs": [
    {
     "data": {
      "text/plain": [
       "4"
      ]
     },
     "execution_count": 59,
     "metadata": {},
     "output_type": "execute_result"
    }
   ],
   "source": [
    "func(10,[6,-1,-3,4,-2,2,4,6,-12,-7])"
   ]
  },
  {
   "cell_type": "code",
   "execution_count": null,
   "id": "390c1873",
   "metadata": {},
   "outputs": [],
   "source": []
  }
 ],
 "metadata": {
  "kernelspec": {
   "display_name": "Python 3 (ipykernel)",
   "language": "python",
   "name": "python3"
  },
  "language_info": {
   "codemirror_mode": {
    "name": "ipython",
    "version": 3
   },
   "file_extension": ".py",
   "mimetype": "text/x-python",
   "name": "python",
   "nbconvert_exporter": "python",
   "pygments_lexer": "ipython3",
   "version": "3.10.6"
  }
 },
 "nbformat": 4,
 "nbformat_minor": 5
}
