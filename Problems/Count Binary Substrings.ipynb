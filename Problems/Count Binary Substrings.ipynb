{
 "cells": [
  {
   "cell_type": "markdown",
   "id": "a95e07f8",
   "metadata": {},
   "source": [
    "Given a binary string s, return the number of non-empty substrings that have the same number of 0's and 1's, and all the 0's and all the 1's in these substrings are grouped consecutively.\n",
    "\n",
    "Substrings that occur multiple times are counted the number of times they occur.\n",
    "\n",
    " \n",
    "\n",
    "Example 1:\n",
    "\n",
    "Input: s = \"00110011\"\n",
    "Output: 6\n",
    "Explanation: There are 6 substrings that have equal number of consecutive 1's and 0's: \"0011\", \"01\", \"1100\", \"10\", \"0011\", and \"01\".\n",
    "Notice that some of these substrings repeat and are counted the number of times they occur.\n",
    "Also, \"00110011\" is not a valid substring because all the 0's (and 1's) are not grouped together.\n",
    "\n",
    "Example 2:\n",
    "\n",
    "Input: s = \"10101\"\n",
    "Output: 4\n",
    "Explanation: There are 4 substrings: \"10\", \"01\", \"10\", \"01\" that have equal number of consecutive 1's and 0's."
   ]
  },
  {
   "cell_type": "code",
   "execution_count": 67,
   "id": "b5464d95",
   "metadata": {},
   "outputs": [],
   "source": [
    "def fx(binary):\n",
    "    c,i=0,0\n",
    "    while i<len(binary):\n",
    "        if binary[i]=='0':\n",
    "            idx=i\n",
    "            z,o=0,0\n",
    "            while idx<len(binary) and binary[idx]=='0':\n",
    "                z+=1\n",
    "                idx+=1\n",
    "            temp=idx\n",
    "            while idx<len(binary) and binary[idx]=='1':\n",
    "                    o+=1\n",
    "                    if o>z:\n",
    "                        break\n",
    "                    idx+=1\n",
    "            c+=min(o,z)\n",
    "            i=temp\n",
    "        else:\n",
    "            idx=i\n",
    "            z,o=0,0\n",
    "            while idx<len(binary) and binary[idx]=='1':\n",
    "                o+=1\n",
    "                idx+=1\n",
    "            temp=idx\n",
    "            while idx<len(binary) and binary[idx]=='0':\n",
    "                z+=1\n",
    "                if z>o:\n",
    "                    break\n",
    "                idx+=1\n",
    "            c+=min(o,z)\n",
    "            i=temp\n",
    "    return c"
   ]
  },
  {
   "cell_type": "code",
   "execution_count": 68,
   "id": "86b1fee6",
   "metadata": {},
   "outputs": [
    {
     "data": {
      "text/plain": [
       "6"
      ]
     },
     "execution_count": 68,
     "metadata": {},
     "output_type": "execute_result"
    }
   ],
   "source": [
    "fx(\"00110011\")"
   ]
  },
  {
   "cell_type": "code",
   "execution_count": 69,
   "id": "608d8fc8",
   "metadata": {},
   "outputs": [
    {
     "data": {
      "text/plain": [
       "4"
      ]
     },
     "execution_count": 69,
     "metadata": {},
     "output_type": "execute_result"
    }
   ],
   "source": [
    "fx(\"10101\")"
   ]
  },
  {
   "cell_type": "code",
   "execution_count": null,
   "id": "5e99c57a",
   "metadata": {},
   "outputs": [],
   "source": []
  }
 ],
 "metadata": {
  "kernelspec": {
   "display_name": "Python 3 (ipykernel)",
   "language": "python",
   "name": "python3"
  },
  "language_info": {
   "codemirror_mode": {
    "name": "ipython",
    "version": 3
   },
   "file_extension": ".py",
   "mimetype": "text/x-python",
   "name": "python",
   "nbconvert_exporter": "python",
   "pygments_lexer": "ipython3",
   "version": "3.10.6"
  }
 },
 "nbformat": 4,
 "nbformat_minor": 5
}
