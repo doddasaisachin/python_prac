{
 "cells": [
  {
   "cell_type": "markdown",
   "id": "56fb4ef6",
   "metadata": {},
   "source": [
    "You are given two linked lists that represent two large positive numbers. From the two numbers represented by the linked lists, subtract the smaller number from the larger one. Look at the examples to get a better understanding of the task.\n",
    "\n",
    "Example 1:\n",
    "\n",
    "Input:\n",
    "    \n",
    "* L1 = 1->0->0\n",
    "* L2 = 1->2\n",
    "\n",
    "Output: 88\n",
    "    \n",
    "Explanation:  \n",
    "First linked list represents 100 and the\n",
    "second one represents 12. 12 subtracted from 100\n",
    "gives us 88 as the result. It is represented\n",
    "as 8->8 in the linked list.\n",
    "\n",
    "Example 2:\n",
    "\n",
    "Input:\n",
    "    \n",
    "* L1 = 0->0->6->3\n",
    "* L2 = 7->1->0\n",
    "\n",
    "Output: 647\n",
    "    \n",
    "Explanation: \n",
    "First linked list represents 0063 => 63 and \n",
    "the second one represents 710. 63 subtracted \n",
    "from 710 gives us 647 as the result. It is\n",
    "represented as 6->4->7 in the linked list."
   ]
  },
  {
   "cell_type": "code",
   "execution_count": 1,
   "id": "61b89477",
   "metadata": {},
   "outputs": [],
   "source": [
    "def subLinkedList(l1, l2): \n",
    "    ans1,ans2=0,0\n",
    "    temp1=l1\n",
    "    while temp1 is not None:\n",
    "        ans1=ans1*10+temp1.data\n",
    "        temp1=temp1.next\n",
    "    temp2=l2\n",
    "    while temp2 is not None:\n",
    "        ans2=ans2*10+temp2.data\n",
    "        temp2=temp2.next\n",
    "    if ans1>ans2:\n",
    "        res=str(ans1-ans2)\n",
    "    else:\n",
    "        res=str(ans2-ans1)\n",
    "    head=LinkedList()\n",
    "    for i in res:\n",
    "        head.insert(int(i))\n",
    "    return head.head"
   ]
  },
  {
   "cell_type": "code",
   "execution_count": 6,
   "id": "39be275f",
   "metadata": {},
   "outputs": [],
   "source": [
    "class Node:\n",
    "    def __init__(self,data):\n",
    "        self.data=data\n",
    "        self.next=None"
   ]
  },
  {
   "cell_type": "code",
   "execution_count": 7,
   "id": "45bd4161",
   "metadata": {},
   "outputs": [],
   "source": [
    "class LinkedList:\n",
    "    def __init__(self):\n",
    "        self.head=None\n",
    "        self.tail=None\n",
    "    def insert(self,val):\n",
    "        if self.head is None:\n",
    "            self.head=Node(val)\n",
    "            self.tail=self.head\n",
    "        else:\n",
    "            self.tail.next=Node(val)\n",
    "            self.tail=self.tail.next"
   ]
  },
  {
   "cell_type": "code",
   "execution_count": 10,
   "id": "85d41ac2",
   "metadata": {},
   "outputs": [],
   "source": [
    "def PrintList(head):\n",
    "    while head:\n",
    "        print(head.data,end=\"->\")\n",
    "        head=head.next"
   ]
  },
  {
   "cell_type": "code",
   "execution_count": 15,
   "id": "c0d8f7e7",
   "metadata": {},
   "outputs": [],
   "source": [
    "l1=LinkedList()\n",
    "for i in [1,0,0]:\n",
    "    l1.insert(i)\n",
    "l2=LinkedList()\n",
    "for i in [1,2]:\n",
    "    l2.insert(i)"
   ]
  },
  {
   "cell_type": "code",
   "execution_count": 17,
   "id": "89fa1ae1",
   "metadata": {},
   "outputs": [
    {
     "name": "stdout",
     "output_type": "stream",
     "text": [
      "1->0->0->\n",
      "1->2->"
     ]
    }
   ],
   "source": [
    "PrintList(l1.head)\n",
    "print()\n",
    "PrintList(l2.head)"
   ]
  },
  {
   "cell_type": "code",
   "execution_count": 19,
   "id": "3f919ca0",
   "metadata": {},
   "outputs": [
    {
     "name": "stdout",
     "output_type": "stream",
     "text": [
      "8->8->"
     ]
    }
   ],
   "source": [
    "PrintList(subLinkedList(l1.head,l2.head))"
   ]
  },
  {
   "cell_type": "code",
   "execution_count": null,
   "id": "c0049fe1",
   "metadata": {},
   "outputs": [],
   "source": []
  }
 ],
 "metadata": {
  "kernelspec": {
   "display_name": "Python 3 (ipykernel)",
   "language": "python",
   "name": "python3"
  },
  "language_info": {
   "codemirror_mode": {
    "name": "ipython",
    "version": 3
   },
   "file_extension": ".py",
   "mimetype": "text/x-python",
   "name": "python",
   "nbconvert_exporter": "python",
   "pygments_lexer": "ipython3",
   "version": "3.10.6"
  }
 },
 "nbformat": 4,
 "nbformat_minor": 5
}
