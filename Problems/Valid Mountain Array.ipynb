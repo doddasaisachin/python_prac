{
 "cells": [
  {
   "cell_type": "markdown",
   "id": "1e0387f7",
   "metadata": {},
   "source": [
    "Given an array of integers arr, return true if and only if it is a valid mountain array.\n",
    "\n",
    "Recall that arr is a mountain array if and only if:\n",
    "\n",
    "arr.length >= 3\n",
    "There exists some i with 0 < i < arr.length - 1 such that:\n",
    "arr[0] < arr[1] < ... < arr[i - 1] < arr[i] \n",
    "arr[i] > arr[i + 1] > ... > arr[arr.length - 1]\n",
    "\n",
    " \n",
    "\n",
    "Example 1:\n",
    "\n",
    "Input: arr = [2,1]\n",
    "Output: false\n",
    "    \n",
    "Example 2:\n",
    "\n",
    "Input: arr = [3,5,5]\n",
    "Output: false\n",
    "    \n",
    "Example 3:\n",
    "\n",
    "Input: arr = [0,3,2,1]\n",
    "Output: true"
   ]
  },
  {
   "cell_type": "code",
   "execution_count": 1,
   "id": "96116484",
   "metadata": {},
   "outputs": [],
   "source": [
    "def fx(arr):\n",
    "    if len(arr)<3:\n",
    "        return False\n",
    "    idx=0\n",
    "    while True:\n",
    "        while idx+1<len(arr) and arr[idx]<arr[idx+1]:\n",
    "            idx+=1\n",
    "        if idx==0:\n",
    "            return False\n",
    "        idx+=1\n",
    "        if idx==len(arr):\n",
    "            return False\n",
    "        while idx<len(arr) and arr[idx]<arr[idx-1]:\n",
    "            idx+=1\n",
    "        if idx==len(arr):\n",
    "            return True\n",
    "        else:\n",
    "            return False"
   ]
  },
  {
   "cell_type": "code",
   "execution_count": 2,
   "id": "e70cedbc",
   "metadata": {},
   "outputs": [
    {
     "data": {
      "text/plain": [
       "True"
      ]
     },
     "execution_count": 2,
     "metadata": {},
     "output_type": "execute_result"
    }
   ],
   "source": [
    "fx([0,3,2,1])"
   ]
  },
  {
   "cell_type": "code",
   "execution_count": null,
   "id": "bc1efec2",
   "metadata": {},
   "outputs": [],
   "source": []
  }
 ],
 "metadata": {
  "kernelspec": {
   "display_name": "Python 3 (ipykernel)",
   "language": "python",
   "name": "python3"
  },
  "language_info": {
   "codemirror_mode": {
    "name": "ipython",
    "version": 3
   },
   "file_extension": ".py",
   "mimetype": "text/x-python",
   "name": "python",
   "nbconvert_exporter": "python",
   "pygments_lexer": "ipython3",
   "version": "3.10.6"
  }
 },
 "nbformat": 4,
 "nbformat_minor": 5
}
