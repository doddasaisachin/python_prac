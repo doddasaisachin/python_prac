{
 "cells": [
  {
   "cell_type": "markdown",
   "id": "63286133",
   "metadata": {},
   "source": [
    "There are n 1-indexed robots, each having a position on a line, health, and movement direction.\n",
    "\n",
    "You are given 0-indexed integer arrays positions, healths, and a string directions (directions[i] is either 'L' for left or 'R' for right). All integers in positions are unique.\n",
    "\n",
    "All robots start moving on the line simultaneously at the same speed in their given directions. If two robots ever share the same position while moving, they will collide.\n",
    "\n",
    "If two robots collide, the robot with lower health is removed from the line, and the health of the other robot decreases by one. The surviving robot continues in the same direction it was going. If both robots have the same health, they are both removed from the line.\n",
    "\n",
    "Your task is to determine the health of the robots that survive the collisions, in the same order that the robots were given, i.e. final heath of robot 1 (if survived), final health of robot 2 (if survived), and so on. If there are no survivors, return an empty array.\n",
    "\n",
    "Return an array containing the health of the remaining robots (in the order they were given in the input), after no further collisions can occur.\n",
    "\n",
    "Note: The positions may be unsorted."
   ]
  },
  {
   "cell_type": "code",
   "execution_count": 1,
   "id": "1e096882",
   "metadata": {},
   "outputs": [],
   "source": [
    "def binary_search(arr, low, high, x):\n",
    "    if high >= low:\n",
    "        mid = (high + low) // 2\n",
    "        if arr[mid] == x:\n",
    "            return True\n",
    "        elif arr[mid] > x:\n",
    "            return binary_search(arr, low, mid - 1, x)\n",
    "        else:\n",
    "            return binary_search(arr, mid + 1, high, x)\n",
    "    else:\n",
    "        return False\n",
    "def survivedRobotsHealths( positions, healths, directions: str) :\n",
    "    dic=dict()\n",
    "    for i in range(len(positions)):\n",
    "        dic[positions[i]]=[healths[i],directions[i]]\n",
    "    pos_arr=sorted(list(dic.keys()))\n",
    "    stack=[]\n",
    "    for i in pos_arr:\n",
    "        fill=False\n",
    "        if len(stack)==0:\n",
    "            stack.append(i)\n",
    "        else:\n",
    "            if dic[stack[-1]][1]=='L' and dic[i][1]=='R':\n",
    "                stack.append(i)\n",
    "            else:\n",
    "                if dic[i][1]==dic[stack[-1]][1] :\n",
    "                    stack.append(i)\n",
    "                else:\n",
    "                    while len(stack)>0 and dic[stack[-1]][1]!=dic[i][1]:\n",
    "                        if dic[stack[-1]][0]==dic[i][0]:\n",
    "                            fill=False\n",
    "                            stack.pop()\n",
    "                            break\n",
    "                        elif dic[stack[-1]][0]>dic[i][0]:\n",
    "                            fill=False\n",
    "                            dic[stack[-1]][0]=dic[stack[-1]][0]-1\n",
    "                            break\n",
    "                        else:\n",
    "                            stack.pop()\n",
    "                            fill=True\n",
    "                            dic[i][0]=dic[i][0]-1  \n",
    "                    if fill:\n",
    "                        stack.append(i)          \n",
    "    ans=[]\n",
    "    stack.sort()\n",
    "    for i in positions:\n",
    "        if binary_search(stack, 0, len(stack)-1, i):\n",
    "            ans.append(dic[i][0])\n",
    "    return ans"
   ]
  },
  {
   "cell_type": "code",
   "execution_count": null,
   "id": "0a87500e",
   "metadata": {},
   "outputs": [],
   "source": []
  }
 ],
 "metadata": {
  "kernelspec": {
   "display_name": "Python 3 (ipykernel)",
   "language": "python",
   "name": "python3"
  },
  "language_info": {
   "codemirror_mode": {
    "name": "ipython",
    "version": 3
   },
   "file_extension": ".py",
   "mimetype": "text/x-python",
   "name": "python",
   "nbconvert_exporter": "python",
   "pygments_lexer": "ipython3",
   "version": "3.11.7"
  }
 },
 "nbformat": 4,
 "nbformat_minor": 5
}
