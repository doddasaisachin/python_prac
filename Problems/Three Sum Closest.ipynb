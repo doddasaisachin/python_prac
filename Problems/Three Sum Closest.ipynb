{
 "cells": [
  {
   "cell_type": "markdown",
   "id": "88d423ad",
   "metadata": {},
   "source": [
    "Given an array, Arr of N numbers, and another number target, find three integers in the array such that the sum is closest to the target. Return the sum of the three integers.\n",
    "\n",
    "Note: If there are multiple solutions, print the maximum one."
   ]
  },
  {
   "cell_type": "markdown",
   "id": "98d5c123",
   "metadata": {},
   "source": [
    "##### Example 1:\n",
    "\n",
    "Input:\n",
    "N = 6, target = 2\n",
    "A[] = [-7,9,8,3,1,1]\n",
    "\n",
    "Output: 2\n",
    "    \n",
    "Explanation: There is one triplet with sum\n",
    "2 in the array. Triplet elements are -7,8,\n",
    "1 whose sum is 2."
   ]
  },
  {
   "cell_type": "markdown",
   "id": "634c5a41",
   "metadata": {},
   "source": [
    "##### Example 2:\n",
    "\n",
    "Input:\n",
    "N = 4, target = 13\n",
    "A[] = [5,2,7,5]\n",
    "\n",
    "Output: 14\n",
    "    \n",
    "Explanation: There is one triplet with sum\n",
    "12 and other with sum 14 in the array.\n",
    "Triplet elements are 5, 2, 5 and 2, 7, 5\n",
    "respectively. Since abs(13-12) ==\n",
    "abs(13-14) maximum triplet sum will be\n",
    "preferred i.e 14."
   ]
  },
  {
   "cell_type": "code",
   "execution_count": 13,
   "id": "a1a3d1b6",
   "metadata": {},
   "outputs": [],
   "source": [
    "from itertools import combinations as cmb\n",
    "\n",
    "def func(arr,target):\n",
    "    possible=list(cmb(arr,3))\n",
    "    for i in possible:\n",
    "            if sum(i)==target:\n",
    "                return target\n",
    "    dic={}\n",
    "    for i in possible:\n",
    "        dic[i]=(abs(sum(i)-target))\n",
    "    near=min(dic.values())\n",
    "    res=[]\n",
    "    for  i in dic.keys():\n",
    "        if dic[i]==near:\n",
    "            res.append(i)\n",
    "    final=sorted(res,key=lambda x : sum(x))\n",
    "    return (sum(final[-1]))"
   ]
  },
  {
   "cell_type": "code",
   "execution_count": 14,
   "id": "307a28c6",
   "metadata": {},
   "outputs": [
    {
     "data": {
      "text/plain": [
       "2"
      ]
     },
     "execution_count": 14,
     "metadata": {},
     "output_type": "execute_result"
    }
   ],
   "source": [
    "func([-7,9,8,3,1,1],2)"
   ]
  },
  {
   "cell_type": "code",
   "execution_count": 15,
   "id": "64a2c7ce",
   "metadata": {},
   "outputs": [
    {
     "data": {
      "text/plain": [
       "14"
      ]
     },
     "execution_count": 15,
     "metadata": {},
     "output_type": "execute_result"
    }
   ],
   "source": [
    "func([5,2,7,5],13)"
   ]
  },
  {
   "cell_type": "code",
   "execution_count": 16,
   "id": "0c22fee1",
   "metadata": {},
   "outputs": [],
   "source": [
    "from itertools import combinations as cmb\n",
    "\n",
    "def func(arr,target):\n",
    "    def sample_gene(arr,t):\n",
    "        yield (cmb(arr,t))\n",
    "    dic={}\n",
    "    possible=sample_gene(arr,3)\n",
    "    for tup in possible:\n",
    "        for i in tup:\n",
    "            if sum(i)==target:\n",
    "                return target\n",
    "            else:\n",
    "                dic[i]=(abs(sum(i)-target))\n",
    "    temp=sorted(dic,key=lambda x : dic[x])\n",
    "    near=dic[temp[0]]\n",
    "    res=[]\n",
    "    for  i in temp:\n",
    "        if dic[i]==near:\n",
    "            res.append(i)\n",
    "        else:\n",
    "            break\n",
    "    final=sorted(res,key=lambda x : sum(x))\n",
    "    return (sum(final[-1]))"
   ]
  },
  {
   "cell_type": "code",
   "execution_count": 17,
   "id": "0088b83e",
   "metadata": {},
   "outputs": [
    {
     "data": {
      "text/plain": [
       "14"
      ]
     },
     "execution_count": 17,
     "metadata": {},
     "output_type": "execute_result"
    }
   ],
   "source": [
    "func([5,2,7,5],13)"
   ]
  },
  {
   "cell_type": "code",
   "execution_count": null,
   "id": "4d310b51",
   "metadata": {},
   "outputs": [],
   "source": []
  }
 ],
 "metadata": {
  "kernelspec": {
   "display_name": "Python 3 (ipykernel)",
   "language": "python",
   "name": "python3"
  },
  "language_info": {
   "codemirror_mode": {
    "name": "ipython",
    "version": 3
   },
   "file_extension": ".py",
   "mimetype": "text/x-python",
   "name": "python",
   "nbconvert_exporter": "python",
   "pygments_lexer": "ipython3",
   "version": "3.10.6"
  }
 },
 "nbformat": 4,
 "nbformat_minor": 5
}
