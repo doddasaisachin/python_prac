{
 "cells": [
  {
   "cell_type": "markdown",
   "id": "c1b045d6",
   "metadata": {},
   "source": [
    "You are given an array of strings words and a string chars.\n",
    "\n",
    "A string is good if it can be formed by characters from chars (each character can only be used once).\n",
    "\n",
    "Return the sum of lengths of all good strings in words.\n",
    "\n",
    " \n",
    "\n",
    "Example 1:\n",
    "\n",
    "Input: words = [\"cat\",\"bt\",\"hat\",\"tree\"], chars = \"atach\"\n",
    "Output: 6\n",
    "Explanation: The strings that can be formed are \"cat\" and \"hat\" so the answer is 3 + 3 = 6.\n",
    "    \n",
    "Example 2:\n",
    "\n",
    "Input: words = [\"hello\",\"world\",\"leetcode\"], chars = \"welldonehoneyr\"\n",
    "Output: 10\n",
    "Explanation: The strings that can be formed are \"hello\" and \"world\" so the answer is 5 + 5 = 10."
   ]
  },
  {
   "cell_type": "code",
   "execution_count": 90,
   "id": "a4d438a3",
   "metadata": {},
   "outputs": [],
   "source": [
    "def function(array,chars):\n",
    "    d=dict()\n",
    "    res=0\n",
    "    for char in set(chars):\n",
    "        d[char]=chars.count(char)\n",
    "#     print(d)\n",
    "    for ele in array:\n",
    "        temp=0\n",
    "        for k in set(ele):\n",
    "            c=ele.count(k)\n",
    "            if ( k in d.keys() and (c<=d[k])):\n",
    "                temp+=c\n",
    "            else:\n",
    "                break\n",
    "        if temp==len(ele):\n",
    "            res+=len(ele)\n",
    "    return res"
   ]
  },
  {
   "cell_type": "code",
   "execution_count": 91,
   "id": "0b432e09",
   "metadata": {},
   "outputs": [
    {
     "data": {
      "text/plain": [
       "6"
      ]
     },
     "execution_count": 91,
     "metadata": {},
     "output_type": "execute_result"
    }
   ],
   "source": [
    "function([\"cat\",\"bt\",\"hat\",\"tree\"], chars = \"atach\")"
   ]
  },
  {
   "cell_type": "code",
   "execution_count": 92,
   "id": "e3909152",
   "metadata": {},
   "outputs": [
    {
     "data": {
      "text/plain": [
       "10"
      ]
     },
     "execution_count": 92,
     "metadata": {},
     "output_type": "execute_result"
    }
   ],
   "source": [
    "function([\"hello\",\"world\",\"leetcode\"], chars = \"welldonehoneyr\")"
   ]
  },
  {
   "cell_type": "markdown",
   "id": "f6205f3b",
   "metadata": {},
   "source": [
    "## Worst Code "
   ]
  },
  {
   "cell_type": "code",
   "execution_count": 93,
   "id": "3a67005a",
   "metadata": {},
   "outputs": [],
   "source": [
    "def fx(array,chars):\n",
    "    char_arr=list(chars)\n",
    "    res=0\n",
    "    for ele in array:\n",
    "        temp=char_arr.copy()\n",
    "        ele_arr=list(ele)\n",
    "        c=0\n",
    "        for j in ele_arr:\n",
    "            if j in temp:\n",
    "                temp.remove(j)\n",
    "                c+=1\n",
    "        if c==len(ele_arr):\n",
    "            res+=len(ele_arr)\n",
    "    return res"
   ]
  },
  {
   "cell_type": "code",
   "execution_count": 94,
   "id": "9e2b9849",
   "metadata": {},
   "outputs": [
    {
     "data": {
      "text/plain": [
       "10"
      ]
     },
     "execution_count": 94,
     "metadata": {},
     "output_type": "execute_result"
    }
   ],
   "source": [
    "fx([\"hello\",\"world\",\"leetcode\"], chars = \"welldonehoneyr\")"
   ]
  },
  {
   "cell_type": "code",
   "execution_count": 95,
   "id": "5fe49ffb",
   "metadata": {},
   "outputs": [
    {
     "data": {
      "text/plain": [
       "6"
      ]
     },
     "execution_count": 95,
     "metadata": {},
     "output_type": "execute_result"
    }
   ],
   "source": [
    "fx([\"cat\",\"bt\",\"hat\",\"tree\"], chars = \"atach\")"
   ]
  },
  {
   "cell_type": "code",
   "execution_count": 96,
   "id": "81042294",
   "metadata": {},
   "outputs": [],
   "source": [
    "def opt(array,chars):\n",
    "    res=0\n",
    "    for ele in array:\n",
    "        temp=0\n",
    "        for k in (ele):\n",
    "            c=ele.count(k)\n",
    "            if (c<=chars.count(k)):\n",
    "                temp+=1\n",
    "            else:\n",
    "                break\n",
    "        if temp==len(ele):\n",
    "            res+=len(ele)\n",
    "    return res"
   ]
  },
  {
   "cell_type": "code",
   "execution_count": 97,
   "id": "4f4dae7f",
   "metadata": {},
   "outputs": [
    {
     "data": {
      "text/plain": [
       "10"
      ]
     },
     "execution_count": 97,
     "metadata": {},
     "output_type": "execute_result"
    }
   ],
   "source": [
    "opt([\"hello\",\"world\",\"leetcode\"], chars = \"welldonehoneyr\")"
   ]
  },
  {
   "cell_type": "code",
   "execution_count": 98,
   "id": "755ad970",
   "metadata": {},
   "outputs": [
    {
     "data": {
      "text/plain": [
       "6"
      ]
     },
     "execution_count": 98,
     "metadata": {},
     "output_type": "execute_result"
    }
   ],
   "source": [
    "opt([\"cat\",\"bt\",\"hat\",\"tree\"], chars = \"atach\")"
   ]
  },
  {
   "cell_type": "code",
   "execution_count": null,
   "id": "c214c39a",
   "metadata": {},
   "outputs": [],
   "source": []
  }
 ],
 "metadata": {
  "kernelspec": {
   "display_name": "Python 3 (ipykernel)",
   "language": "python",
   "name": "python3"
  },
  "language_info": {
   "codemirror_mode": {
    "name": "ipython",
    "version": 3
   },
   "file_extension": ".py",
   "mimetype": "text/x-python",
   "name": "python",
   "nbconvert_exporter": "python",
   "pygments_lexer": "ipython3",
   "version": "3.10.6"
  }
 },
 "nbformat": 4,
 "nbformat_minor": 5
}
