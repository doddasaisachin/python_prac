{
 "cells": [
  {
   "cell_type": "code",
   "execution_count": 9,
   "id": "987eec25",
   "metadata": {},
   "outputs": [],
   "source": [
    "def function(array):\n",
    "    d=dict()\n",
    "    res=[]\n",
    "    for i in array:\n",
    "        d[i]=array.count(i)\n",
    "    print(d)\n",
    "    for j in d.keys():\n",
    "        if d[j]>len(array)/3:\n",
    "            res.append(j)\n",
    "    return res"
   ]
  },
  {
   "cell_type": "code",
   "execution_count": 10,
   "id": "4d29b6f2",
   "metadata": {},
   "outputs": [
    {
     "name": "stdout",
     "output_type": "stream",
     "text": [
      "{3: 2, 2: 1}\n"
     ]
    },
    {
     "data": {
      "text/plain": [
       "[3]"
      ]
     },
     "execution_count": 10,
     "metadata": {},
     "output_type": "execute_result"
    }
   ],
   "source": [
    "function([3,2,3])"
   ]
  },
  {
   "cell_type": "code",
   "execution_count": 11,
   "id": "0138e674",
   "metadata": {},
   "outputs": [
    {
     "name": "stdout",
     "output_type": "stream",
     "text": [
      "{1: 1}\n"
     ]
    },
    {
     "data": {
      "text/plain": [
       "[1]"
      ]
     },
     "execution_count": 11,
     "metadata": {},
     "output_type": "execute_result"
    }
   ],
   "source": [
    "function([1])"
   ]
  },
  {
   "cell_type": "code",
   "execution_count": 12,
   "id": "81b11766",
   "metadata": {},
   "outputs": [
    {
     "name": "stdout",
     "output_type": "stream",
     "text": [
      "{1: 1, 2: 1}\n"
     ]
    },
    {
     "data": {
      "text/plain": [
       "[1, 2]"
      ]
     },
     "execution_count": 12,
     "metadata": {},
     "output_type": "execute_result"
    }
   ],
   "source": [
    "function([1,2])"
   ]
  },
  {
   "cell_type": "code",
   "execution_count": null,
   "id": "583f52f2",
   "metadata": {},
   "outputs": [],
   "source": []
  }
 ],
 "metadata": {
  "kernelspec": {
   "display_name": "Python 3 (ipykernel)",
   "language": "python",
   "name": "python3"
  },
  "language_info": {
   "codemirror_mode": {
    "name": "ipython",
    "version": 3
   },
   "file_extension": ".py",
   "mimetype": "text/x-python",
   "name": "python",
   "nbconvert_exporter": "python",
   "pygments_lexer": "ipython3",
   "version": "3.10.6"
  }
 },
 "nbformat": 4,
 "nbformat_minor": 5
}
