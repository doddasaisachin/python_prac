{
 "cells": [
  {
   "cell_type": "markdown",
   "id": "21bfc001",
   "metadata": {},
   "source": [
    "Given an array A[] of size N, find the longest subsequence such that difference between adjacent elements is one."
   ]
  },
  {
   "cell_type": "markdown",
   "id": "8e6d03e4",
   "metadata": {},
   "source": [
    "#### Example 1\n",
    "N = 7\n",
    "A = [10, 9, 4, 5, 4, 8, 6]\n",
    "\n",
    "Output: 3\n",
    "\n",
    "Explaination: The three possible subsequences \n",
    "{10, 9, 8} , {4, 5, 4} and {4, 5, 6}."
   ]
  },
  {
   "cell_type": "code",
   "execution_count": 1,
   "id": "b0079f88",
   "metadata": {},
   "outputs": [],
   "source": [
    "def fx(n,arr):\n",
    "    dp=[1]*(n+1)\n",
    "    for i in range(1,n):\n",
    "        for j in range(i):\n",
    "            if abs(arr[i]-arr[j])==1:\n",
    "                dp[i]=max(dp[i],dp[j]+1)\n",
    "    return max(dp)"
   ]
  },
  {
   "cell_type": "code",
   "execution_count": 2,
   "id": "1535f1d6",
   "metadata": {},
   "outputs": [
    {
     "data": {
      "text/plain": [
       "3"
      ]
     },
     "execution_count": 2,
     "metadata": {},
     "output_type": "execute_result"
    }
   ],
   "source": [
    "fx(7,[10, 9, 4, 5, 4, 8, 6])"
   ]
  },
  {
   "cell_type": "code",
   "execution_count": null,
   "id": "6bdd4d6f",
   "metadata": {},
   "outputs": [],
   "source": []
  }
 ],
 "metadata": {
  "kernelspec": {
   "display_name": "Python 3 (ipykernel)",
   "language": "python",
   "name": "python3"
  },
  "language_info": {
   "codemirror_mode": {
    "name": "ipython",
    "version": 3
   },
   "file_extension": ".py",
   "mimetype": "text/x-python",
   "name": "python",
   "nbconvert_exporter": "python",
   "pygments_lexer": "ipython3",
   "version": "3.10.6"
  }
 },
 "nbformat": 4,
 "nbformat_minor": 5
}
