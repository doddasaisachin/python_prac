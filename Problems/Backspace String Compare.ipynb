{
 "cells": [
  {
   "cell_type": "markdown",
   "id": "d9fbc095",
   "metadata": {},
   "source": [
    "Given two strings s and t, return true if they are equal when both are typed into empty text editors. '#' means a backspace character."
   ]
  },
  {
   "cell_type": "code",
   "execution_count": 25,
   "id": "2d1a0e15",
   "metadata": {},
   "outputs": [],
   "source": [
    "def function(s1,s2):\n",
    "    array1=[]\n",
    "    array2=[]\n",
    "    for i in s1:\n",
    "        array1.append(i)\n",
    "    for j in s2:\n",
    "        array2.append(j)\n",
    "    \n",
    "    def remove(arr):\n",
    "        idx=arr.index('#')\n",
    "        arr.pop(idx-1)\n",
    "        arr.pop(idx-1)\n",
    "        \n",
    "    while \"#\" in array1:\n",
    "        if array1[0]=='#':\n",
    "            array1.pop(0)\n",
    "        else:\n",
    "            remove(array1)\n",
    "\n",
    "    while \"#\" in array2:\n",
    "        if array2[0]=='#':\n",
    "            array2.pop(0)\n",
    "        else:\n",
    "            remove(array2)\n",
    "    if array1==array2:\n",
    "        return True\n",
    "    return False"
   ]
  },
  {
   "cell_type": "code",
   "execution_count": 27,
   "id": "3bfb44d3",
   "metadata": {},
   "outputs": [
    {
     "data": {
      "text/plain": [
       "True"
      ]
     },
     "execution_count": 27,
     "metadata": {},
     "output_type": "execute_result"
    }
   ],
   "source": [
    "function(\"y#fo##f\",\"y#f#o##f\")"
   ]
  },
  {
   "cell_type": "code",
   "execution_count": 28,
   "id": "1b172a32",
   "metadata": {
    "scrolled": true
   },
   "outputs": [
    {
     "data": {
      "text/plain": [
       "True"
      ]
     },
     "execution_count": 28,
     "metadata": {},
     "output_type": "execute_result"
    }
   ],
   "source": [
    "function('ab##','')"
   ]
  },
  {
   "cell_type": "code",
   "execution_count": 29,
   "id": "24b6f877",
   "metadata": {},
   "outputs": [
    {
     "data": {
      "text/plain": [
       "True"
      ]
     },
     "execution_count": 29,
     "metadata": {},
     "output_type": "execute_result"
    }
   ],
   "source": [
    "function('ab#c','ad#c')"
   ]
  },
  {
   "cell_type": "code",
   "execution_count": 30,
   "id": "0b101278",
   "metadata": {},
   "outputs": [
    {
     "data": {
      "text/plain": [
       "True"
      ]
     },
     "execution_count": 30,
     "metadata": {},
     "output_type": "execute_result"
    }
   ],
   "source": [
    "function('ab##','c#d#')"
   ]
  },
  {
   "cell_type": "code",
   "execution_count": 31,
   "id": "effd72b0",
   "metadata": {},
   "outputs": [
    {
     "data": {
      "text/plain": [
       "False"
      ]
     },
     "execution_count": 31,
     "metadata": {},
     "output_type": "execute_result"
    }
   ],
   "source": [
    "function('a#c','b')"
   ]
  },
  {
   "cell_type": "code",
   "execution_count": null,
   "id": "27aaef67",
   "metadata": {},
   "outputs": [],
   "source": []
  }
 ],
 "metadata": {
  "kernelspec": {
   "display_name": "Python 3 (ipykernel)",
   "language": "python",
   "name": "python3"
  },
  "language_info": {
   "codemirror_mode": {
    "name": "ipython",
    "version": 3
   },
   "file_extension": ".py",
   "mimetype": "text/x-python",
   "name": "python",
   "nbconvert_exporter": "python",
   "pygments_lexer": "ipython3",
   "version": "3.10.6"
  }
 },
 "nbformat": 4,
 "nbformat_minor": 5
}
