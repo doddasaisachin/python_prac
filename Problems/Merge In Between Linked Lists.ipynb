{
 "cells": [
  {
   "cell_type": "markdown",
   "id": "2ed2545e",
   "metadata": {},
   "source": [
    "You are given two linked lists: list1 and list2 of sizes n and m respectively.\n",
    "\n",
    "Remove list1's nodes from the ath node to the bth node, and put list2 in their place.\n",
    "\n",
    "The blue edges and nodes in the following figure indicate the result:\n",
    "\n",
    "\n",
    "Build the result list and return its head."
   ]
  },
  {
   "cell_type": "code",
   "execution_count": 1,
   "id": "997d5483",
   "metadata": {},
   "outputs": [],
   "source": [
    "\n",
    "class ListNode:\n",
    "    def __init__(self, val=0, next=None):\n",
    "        self.val = val\n",
    "        self.next = next"
   ]
  },
  {
   "cell_type": "code",
   "execution_count": 2,
   "id": "e17b1d96",
   "metadata": {},
   "outputs": [],
   "source": [
    "\n",
    "def mergeInBetween(list1, a: int, b: int, list2) :\n",
    "    x,y=0,0\n",
    "    itr1=list1\n",
    "    while itr1:\n",
    "        if x==a:\n",
    "            first=before\n",
    "        if y==b:\n",
    "            itr2=list2\n",
    "            while itr2.next:\n",
    "                itr2=itr2.next\n",
    "            itr2.next=itr1.next\n",
    "            itr1.next=None\n",
    "            break\n",
    "        before=itr1\n",
    "        itr1=itr1.next\n",
    "        x+=1\n",
    "        y+=1\n",
    "    itr1=list1\n",
    "    while itr1:\n",
    "        if itr1==first:\n",
    "            itr1.next=list2\n",
    "            break\n",
    "        itr1=itr1.next\n",
    "    return list1"
   ]
  },
  {
   "cell_type": "code",
   "execution_count": null,
   "id": "fd911de4",
   "metadata": {},
   "outputs": [],
   "source": []
  }
 ],
 "metadata": {
  "kernelspec": {
   "display_name": "Python 3 (ipykernel)",
   "language": "python",
   "name": "python3"
  },
  "language_info": {
   "codemirror_mode": {
    "name": "ipython",
    "version": 3
   },
   "file_extension": ".py",
   "mimetype": "text/x-python",
   "name": "python",
   "nbconvert_exporter": "python",
   "pygments_lexer": "ipython3",
   "version": "3.10.6"
  }
 },
 "nbformat": 4,
 "nbformat_minor": 5
}
