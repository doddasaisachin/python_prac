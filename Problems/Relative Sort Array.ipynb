{
 "cells": [
  {
   "cell_type": "markdown",
   "id": "9bb4182e",
   "metadata": {},
   "source": [
    "Given two arrays arr1 and arr2, the elements of arr2 are distinct, and all elements in arr2 are also in arr1.\n",
    "\n",
    "Sort the elements of arr1 such that the relative ordering of items in arr1 are the same as in arr2. Elements that do not appear in arr2 should be placed at the end of arr1 in ascending order."
   ]
  },
  {
   "cell_type": "code",
   "execution_count": 77,
   "id": "edf112f2",
   "metadata": {},
   "outputs": [],
   "source": [
    "def fx(arr1,arr2):\n",
    "    d=dict()\n",
    "    extra=[]\n",
    "    front=[]\n",
    "    for i in range(len(arr2)):\n",
    "        d[arr2[i]]=i\n",
    "    for i in arr1:\n",
    "        try:\n",
    "            d[i]\n",
    "            front.append(i)\n",
    "        except:\n",
    "            extra.append(i)\n",
    "    extra.sort()\n",
    "    front=sorted(front,key=lambda x : d[x])\n",
    "    front.extend(extra)\n",
    "    return front"
   ]
  },
  {
   "cell_type": "code",
   "execution_count": 78,
   "id": "d2f376b4",
   "metadata": {},
   "outputs": [
    {
     "data": {
      "text/plain": [
       "[2, 2, 2, 1, 4, 3, 3, 9, 6, 7, 19]"
      ]
     },
     "execution_count": 78,
     "metadata": {},
     "output_type": "execute_result"
    }
   ],
   "source": [
    "fx(arr1 = [2,3,1,3,2,4,6,7,9,2,19], arr2 = [2,1,4,3,9,6])"
   ]
  },
  {
   "cell_type": "code",
   "execution_count": 79,
   "id": "de9821fa",
   "metadata": {},
   "outputs": [
    {
     "data": {
      "text/plain": [
       "[2, 42, 38, 0, 43, 21, 5, 7, 12, 12, 13, 23, 24, 24, 27, 29, 30, 31, 33, 48]"
      ]
     },
     "execution_count": 79,
     "metadata": {},
     "output_type": "execute_result"
    }
   ],
   "source": [
    "fx([2,21,43,38,0,42,33,7,24,13,12,27,12,24,5,23,29,48,30,31],[2,42,38,0,43,21])"
   ]
  },
  {
   "cell_type": "code",
   "execution_count": null,
   "id": "876dd07d",
   "metadata": {},
   "outputs": [],
   "source": []
  }
 ],
 "metadata": {
  "kernelspec": {
   "display_name": "Python 3 (ipykernel)",
   "language": "python",
   "name": "python3"
  },
  "language_info": {
   "codemirror_mode": {
    "name": "ipython",
    "version": 3
   },
   "file_extension": ".py",
   "mimetype": "text/x-python",
   "name": "python",
   "nbconvert_exporter": "python",
   "pygments_lexer": "ipython3",
   "version": "3.10.6"
  }
 },
 "nbformat": 4,
 "nbformat_minor": 5
}
