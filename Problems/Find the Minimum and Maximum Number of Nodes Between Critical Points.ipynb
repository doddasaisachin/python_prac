{
 "cells": [
  {
   "cell_type": "markdown",
   "id": "924f6a2b",
   "metadata": {},
   "source": [
    "A critical point in a linked list is defined as either a local maxima or a local minima.\n",
    "\n",
    "A node is a local maxima if the current node has a value strictly greater than the previous node and the next node.\n",
    "\n",
    "A node is a local minima if the current node has a value strictly smaller than the previous node and the next node.\n",
    "\n",
    "Note that a node can only be a local maxima/minima if there exists both a previous node and a next node.\n",
    "\n",
    "Given a linked list head, return an array of length 2 containing [minDistance, maxDistance] where minDistance is the minimum distance between any two distinct critical points and maxDistance is the maximum distance between any two distinct critical points. If there are fewer than two critical points, return [-1, -1]."
   ]
  },
  {
   "cell_type": "code",
   "execution_count": 1,
   "id": "eda05f09",
   "metadata": {},
   "outputs": [],
   "source": [
    "# Definition for singly-linked list.\n",
    "# class ListNode:\n",
    "#     def __init__(self, val=0, next=None):\n",
    "#         self.val = val\n",
    "#         self.next = next\n",
    "\n",
    "def nodesBetweenCriticalPoints( head):\n",
    "    arr=[]\n",
    "    itr=head\n",
    "    seen=itr.val\n",
    "    itr=itr.next\n",
    "    idx=1\n",
    "    while itr.next is not None:\n",
    "        # print(seen,itr.val,itr.next.val)\n",
    "        if seen<itr.val>itr.next.val or seen>itr.val<itr.next.val:\n",
    "            arr.append(idx)\n",
    "        seen=itr.val\n",
    "        itr=itr.next\n",
    "        idx+=1\n",
    "    arr.sort()\n",
    "    if len(arr)<2:\n",
    "        return [-1,-1]\n",
    "    res=[float('inf'),-1]\n",
    "    for i in range(len(arr)-1):\n",
    "        res[0]=min(arr[i+1]-arr[i],res[0])\n",
    "    res[1]=arr[-1]-arr[0]\n",
    "    return res\n"
   ]
  },
  {
   "cell_type": "code",
   "execution_count": null,
   "id": "174f80d7",
   "metadata": {},
   "outputs": [],
   "source": []
  }
 ],
 "metadata": {
  "kernelspec": {
   "display_name": "Python 3 (ipykernel)",
   "language": "python",
   "name": "python3"
  },
  "language_info": {
   "codemirror_mode": {
    "name": "ipython",
    "version": 3
   },
   "file_extension": ".py",
   "mimetype": "text/x-python",
   "name": "python",
   "nbconvert_exporter": "python",
   "pygments_lexer": "ipython3",
   "version": "3.11.7"
  }
 },
 "nbformat": 4,
 "nbformat_minor": 5
}
