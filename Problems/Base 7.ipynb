{
 "cells": [
  {
   "cell_type": "markdown",
   "id": "428807fd",
   "metadata": {},
   "source": [
    "Given an integer num, return a string of its base 7 representation.\n",
    "\n",
    "Example 1:\n",
    "\n",
    "Input: num = 100\n",
    "Output: \"202\"\n",
    "\n",
    "Example 2:\n",
    "\n",
    "Input: num = -7\n",
    "Output: \"-10\""
   ]
  },
  {
   "cell_type": "code",
   "execution_count": 4,
   "id": "66745df2",
   "metadata": {},
   "outputs": [],
   "source": [
    "def fx(num):\n",
    "    ans=''\n",
    "    a=num\n",
    "    num=abs(num)\n",
    "    while num>0:\n",
    "        ans=ans+str(num%7)\n",
    "        num=num//7\n",
    "    if a<0:\n",
    "        ans=ans+'-'\n",
    "    if a==0: return '0'\n",
    "    return ans[::-1]"
   ]
  },
  {
   "cell_type": "code",
   "execution_count": 5,
   "id": "05ac16b1",
   "metadata": {},
   "outputs": [
    {
     "data": {
      "text/plain": [
       "'202'"
      ]
     },
     "execution_count": 5,
     "metadata": {},
     "output_type": "execute_result"
    }
   ],
   "source": [
    "fx(100)"
   ]
  },
  {
   "cell_type": "code",
   "execution_count": 7,
   "id": "fdb5ec82",
   "metadata": {},
   "outputs": [
    {
     "data": {
      "text/plain": [
       "'-10'"
      ]
     },
     "execution_count": 7,
     "metadata": {},
     "output_type": "execute_result"
    }
   ],
   "source": [
    "fx(-7)"
   ]
  },
  {
   "cell_type": "code",
   "execution_count": null,
   "id": "22967bb4",
   "metadata": {},
   "outputs": [],
   "source": []
  }
 ],
 "metadata": {
  "kernelspec": {
   "display_name": "Python 3 (ipykernel)",
   "language": "python",
   "name": "python3"
  },
  "language_info": {
   "codemirror_mode": {
    "name": "ipython",
    "version": 3
   },
   "file_extension": ".py",
   "mimetype": "text/x-python",
   "name": "python",
   "nbconvert_exporter": "python",
   "pygments_lexer": "ipython3",
   "version": "3.10.6"
  }
 },
 "nbformat": 4,
 "nbformat_minor": 5
}
