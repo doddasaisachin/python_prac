{
 "cells": [
  {
   "cell_type": "markdown",
   "id": "e01deb71",
   "metadata": {},
   "source": [
    "You are given an integer array coins representing coins of different denominations and an integer amount representing a total amount of money.\n",
    "\n",
    "Return the fewest number of coins that you need to make up that amount. If that amount of money cannot be made up by any combination of the coins, return -1.\n",
    "\n",
    "You may assume that you have an infinite number of each kind of coin.\n",
    "\n",
    " \n",
    "\n",
    "###### Example 1:\n",
    "\n",
    "Input: coins = [1,2,5], amount = 11\n",
    "    \n",
    "Output: 3\n",
    "    \n",
    "Explanation: 11 = 5 + 5 + 1\n",
    "    \n",
    "###### Example 2:\n",
    "\n",
    "Input: coins = [2], amount = 3\n",
    "    \n",
    "Output: -1\n",
    "    \n",
    "###### Example 3:\n",
    "\n",
    "Input: coins = [1], amount = 0\n",
    "    \n",
    "Output: 0"
   ]
  },
  {
   "cell_type": "code",
   "execution_count": 6,
   "id": "07acd3b2",
   "metadata": {},
   "outputs": [],
   "source": [
    "def coinChange_recursion(coins ,amount) -> int:\n",
    "    if len(coins)==1:\n",
    "        if amount%coins[0]==0:\n",
    "            return amount//coins[0]\n",
    "        else:\n",
    "            return 999999999999\n",
    "    n= coinChange(coins[:-1],amount)\n",
    "    t=999999999999\n",
    "    if coins[-1]<=amount:\n",
    "        t=1+ coinChange(coins,amount-coins[-1])\n",
    "    return min(n,t)"
   ]
  },
  {
   "cell_type": "markdown",
   "id": "e66d2f66",
   "metadata": {},
   "source": [
    "## Dynamic Programming"
   ]
  },
  {
   "cell_type": "code",
   "execution_count": 16,
   "id": "77db59b0",
   "metadata": {},
   "outputs": [],
   "source": [
    "def coinChange(coins,amount):\n",
    "    mat=[[0 for i in range(amount+1)] for j in range(len(coins))]\n",
    "    for i in range(len(coins)):\n",
    "        for j in range(amount+1):\n",
    "            if i==0:\n",
    "                if j%coins[i]==0:\n",
    "                    mat[i][j]=j//coins[i]\n",
    "                else:\n",
    "                    mat[i][j]=999999999999\n",
    "            elif j==0:\n",
    "                mat[i][j]=0\n",
    "            else:\n",
    "                n=mat[i-1][j]\n",
    "                t=999999999999\n",
    "                if (coins[i]<=j):\n",
    "                    t=1+mat[i][j-coins[i]]\n",
    "                mat[i][j]=min(n,t)\n",
    "    if mat[i][j]==999999999999:\n",
    "        return -1\n",
    "    else:\n",
    "        return mat[i][j]"
   ]
  },
  {
   "cell_type": "code",
   "execution_count": 17,
   "id": "cb32c19b",
   "metadata": {},
   "outputs": [
    {
     "data": {
      "text/plain": [
       "3"
      ]
     },
     "execution_count": 17,
     "metadata": {},
     "output_type": "execute_result"
    }
   ],
   "source": [
    "coinChange(coins = [1,2,5], amount = 11)"
   ]
  },
  {
   "cell_type": "code",
   "execution_count": 18,
   "id": "9eefe338",
   "metadata": {},
   "outputs": [
    {
     "data": {
      "text/plain": [
       "20"
      ]
     },
     "execution_count": 18,
     "metadata": {},
     "output_type": "execute_result"
    }
   ],
   "source": [
    "coinChange([185,429,111,150,414,203,418],8197)"
   ]
  },
  {
   "cell_type": "code",
   "execution_count": null,
   "id": "b75abd9f",
   "metadata": {},
   "outputs": [],
   "source": []
  }
 ],
 "metadata": {
  "kernelspec": {
   "display_name": "Python 3 (ipykernel)",
   "language": "python",
   "name": "python3"
  },
  "language_info": {
   "codemirror_mode": {
    "name": "ipython",
    "version": 3
   },
   "file_extension": ".py",
   "mimetype": "text/x-python",
   "name": "python",
   "nbconvert_exporter": "python",
   "pygments_lexer": "ipython3",
   "version": "3.10.6"
  }
 },
 "nbformat": 4,
 "nbformat_minor": 5
}
