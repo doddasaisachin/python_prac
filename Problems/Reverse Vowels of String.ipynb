{
 "cells": [
  {
   "cell_type": "markdown",
   "id": "e743015f",
   "metadata": {},
   "source": [
    "Given a string s, reverse only all the vowels in the string and return it.\n",
    "\n",
    "The vowels are 'a', 'e', 'i', 'o', and 'u', and they can appear in both lower and upper cases, more than once.\n",
    "\n",
    " \n",
    "\n",
    "Example 1:\n",
    "\n",
    "Input: s = \"hello\"\n",
    "Output: \"holle\"\n",
    "    \n",
    "Example 2:\n",
    "\n",
    "Input: s = \"leetcode\"\n",
    "Output: \"leotcede\""
   ]
  },
  {
   "cell_type": "code",
   "execution_count": 126,
   "id": "d7ccf61f",
   "metadata": {},
   "outputs": [],
   "source": [
    "def fx(string):\n",
    "    if len(string)<=1:\n",
    "        return string\n",
    "    vw=['a','e','i','o','u']\n",
    "    res=''\n",
    "    left=0\n",
    "    right=len(string)-1\n",
    "    while left<len(string):\n",
    "        while (left<len(string)) and string[left].lower() not in vw:\n",
    "            res=res+string[left]\n",
    "            left+=1\n",
    "        while (right>0) and string[right].lower() not in vw:\n",
    "            right-=1\n",
    "        left+=1\n",
    "        if right>=0 and string[right].lower() in vw:\n",
    "            res+=string[right]\n",
    "            right-=1\n",
    "    return res"
   ]
  },
  {
   "cell_type": "code",
   "execution_count": 130,
   "id": "8b2c151c",
   "metadata": {},
   "outputs": [
    {
     "data": {
      "text/plain": [
       "'holle'"
      ]
     },
     "execution_count": 130,
     "metadata": {},
     "output_type": "execute_result"
    }
   ],
   "source": [
    "fx('hello')"
   ]
  },
  {
   "cell_type": "code",
   "execution_count": 131,
   "id": "313bcb14",
   "metadata": {},
   "outputs": [
    {
     "data": {
      "text/plain": [
       "'leotcede'"
      ]
     },
     "execution_count": 131,
     "metadata": {},
     "output_type": "execute_result"
    }
   ],
   "source": [
    "fx('leetcode')"
   ]
  },
  {
   "cell_type": "code",
   "execution_count": 133,
   "id": "52e79431",
   "metadata": {},
   "outputs": [
    {
     "data": {
      "text/plain": [
       "'whit is at'"
      ]
     },
     "execution_count": 133,
     "metadata": {},
     "output_type": "execute_result"
    }
   ],
   "source": [
    "fx('what is it')"
   ]
  },
  {
   "cell_type": "code",
   "execution_count": 134,
   "id": "769e6b0a",
   "metadata": {},
   "outputs": [
    {
     "data": {
      "text/plain": [
       "'sdfghjkl'"
      ]
     },
     "execution_count": 134,
     "metadata": {},
     "output_type": "execute_result"
    }
   ],
   "source": [
    "fx('sdfghjkl')"
   ]
  },
  {
   "cell_type": "markdown",
   "id": "85f2bc4d",
   "metadata": {},
   "source": [
    "## Bit Better"
   ]
  },
  {
   "cell_type": "code",
   "execution_count": 145,
   "id": "f104396c",
   "metadata": {},
   "outputs": [],
   "source": [
    "def func(s):\n",
    "    v=['a','e','i','o','u']\n",
    "    vw=''\n",
    "    res=''\n",
    "    for i in s:\n",
    "        if i.lower() in v:\n",
    "            vw=vw+i\n",
    "    vw=vw[::-1]\n",
    "    idx=0\n",
    "    for i in s:\n",
    "        if i.lower() not in v:\n",
    "            res=res+i\n",
    "        else:\n",
    "            res=res+vw[idx]\n",
    "            idx+=1\n",
    "    return res"
   ]
  },
  {
   "cell_type": "code",
   "execution_count": 146,
   "id": "91edf329",
   "metadata": {},
   "outputs": [
    {
     "data": {
      "text/plain": [
       "'sichan'"
      ]
     },
     "execution_count": 146,
     "metadata": {},
     "output_type": "execute_result"
    }
   ],
   "source": [
    "func('sachin')"
   ]
  },
  {
   "cell_type": "code",
   "execution_count": 147,
   "id": "2c740305",
   "metadata": {},
   "outputs": [
    {
     "data": {
      "text/plain": [
       "'leotcede'"
      ]
     },
     "execution_count": 147,
     "metadata": {},
     "output_type": "execute_result"
    }
   ],
   "source": [
    "func('leetcode')"
   ]
  },
  {
   "cell_type": "code",
   "execution_count": 148,
   "id": "c2848772",
   "metadata": {},
   "outputs": [
    {
     "data": {
      "text/plain": [
       "'Aa'"
      ]
     },
     "execution_count": 148,
     "metadata": {},
     "output_type": "execute_result"
    }
   ],
   "source": [
    "func('aA')"
   ]
  },
  {
   "cell_type": "code",
   "execution_count": null,
   "id": "92f3e981",
   "metadata": {},
   "outputs": [],
   "source": [
    "    "
   ]
  }
 ],
 "metadata": {
  "kernelspec": {
   "display_name": "Python 3 (ipykernel)",
   "language": "python",
   "name": "python3"
  },
  "language_info": {
   "codemirror_mode": {
    "name": "ipython",
    "version": 3
   },
   "file_extension": ".py",
   "mimetype": "text/x-python",
   "name": "python",
   "nbconvert_exporter": "python",
   "pygments_lexer": "ipython3",
   "version": "3.10.6"
  }
 },
 "nbformat": 4,
 "nbformat_minor": 5
}
