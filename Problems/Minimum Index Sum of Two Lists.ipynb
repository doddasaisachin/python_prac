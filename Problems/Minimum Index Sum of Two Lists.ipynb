{
 "cells": [
  {
   "cell_type": "markdown",
   "id": "779b3b97",
   "metadata": {},
   "source": [
    "Given two arrays of strings list1 and list2, find the common strings with the least index sum.\n",
    "\n",
    "A common string is a string that appeared in both list1 and list2.\n",
    "\n",
    "A common string with the least index sum is a common string such that if it appeared at list1[i] and list2[j] then i + j should be the minimum value among all the other common strings.\n",
    "\n",
    "Return all the common strings with the least index sum. Return the answer in any order.\n",
    "\n",
    " \n",
    "\n",
    "Example 1:\n",
    "\n",
    "Input: list1 = [\"Shogun\",\"Tapioca Express\",\"Burger King\",\"KFC\"], list2 = [\"Piatti\",\"The Grill at Torrey Pines\",\"Hungry Hunter Steakhouse\",\"Shogun\"]\n",
    "Output: [\"Shogun\"]\n",
    "Explanation: The only common string is \"Shogun\".\n",
    "    \n",
    "Example 2:\n",
    "\n",
    "Input: list1 = [\"Shogun\",\"Tapioca Express\",\"Burger King\",\"KFC\"], list2 = [\"KFC\",\"Shogun\",\"Burger King\"]\n",
    "Output: [\"Shogun\"]\n",
    "Explanation: The common string with the least index sum is \"Shogun\" with index sum = (0 + 1) = 1.\n",
    "    \n",
    "Example 3:\n",
    "\n",
    "Input: list1 = [\"happy\",\"sad\",\"good\"], list2 = [\"sad\",\"happy\",\"good\"]\n",
    "Output: [\"sad\",\"happy\"]\n",
    "Explanation: There are three common strings:\n",
    "\"happy\" with index sum = (0 + 1) = 1.\n",
    "\"sad\" with index sum = (1 + 0) = 1.\n",
    "\"good\" with index sum = (2 + 2) = 4.\n",
    "The strings with the least index sum are \"sad\" and \"happy\"."
   ]
  },
  {
   "cell_type": "code",
   "execution_count": 5,
   "id": "ec4a8601",
   "metadata": {},
   "outputs": [],
   "source": [
    "def func(list1,list2):\n",
    "    d=dict()\n",
    "    res=[]\n",
    "    for i in range(len(list1)):\n",
    "        ele=list1[i]\n",
    "        if ele in list2:\n",
    "            d[ele]=i+list2.index(ele)\n",
    "    min_idx=min(d.values())\n",
    "    for i in d.keys():\n",
    "        if d[i]==min_idx:\n",
    "            res.append(i)\n",
    "    return res"
   ]
  },
  {
   "cell_type": "markdown",
   "id": "e2621cbe",
   "metadata": {},
   "source": [
    "### A bit Optimized using HashTable"
   ]
  },
  {
   "cell_type": "code",
   "execution_count": 1,
   "id": "1e18ecb2",
   "metadata": {},
   "outputs": [],
   "source": [
    "def fx(list1,list2):\n",
    "    d1=dict()\n",
    "    d2=dict()\n",
    "    res=dict()\n",
    "    m,n=len(list1),len(list2)\n",
    "    for i in range(min(m,n)):\n",
    "        d1[list1[i]]=i\n",
    "        d2[list2[i]]=i\n",
    "    if m!=n and m>n:\n",
    "        for j in range(n,m):\n",
    "            d1[list1[j]]=j\n",
    "    elif m!=n and m<n:\n",
    "        for j in range(m,n):\n",
    "            d2[list2[j]]=j\n",
    "    for k in d1.keys():\n",
    "        if k in d2.keys():\n",
    "            res[k]=d1[k]+d2[k]\n",
    "    min_idx=min(res.values())\n",
    "    f=[]\n",
    "    for i in res.keys():\n",
    "        if res[i]==min_idx:\n",
    "            f.append(i)\n",
    "    return f"
   ]
  },
  {
   "cell_type": "code",
   "execution_count": 2,
   "id": "72d8d2f4",
   "metadata": {},
   "outputs": [
    {
     "data": {
      "text/plain": [
       "['Shogun']"
      ]
     },
     "execution_count": 2,
     "metadata": {},
     "output_type": "execute_result"
    }
   ],
   "source": [
    "fx(list1 = [\"Shogun\",\"Tapioca Express\",\"Burger King\",\"KFC\"], list2 = [\"Piatti\",\"The Grill at Torrey Pines\",\"Hungry Hunter Steakhouse\",\"Shogun\"])"
   ]
  },
  {
   "cell_type": "code",
   "execution_count": 3,
   "id": "711d1577",
   "metadata": {},
   "outputs": [
    {
     "data": {
      "text/plain": [
       "['Shogun']"
      ]
     },
     "execution_count": 3,
     "metadata": {},
     "output_type": "execute_result"
    }
   ],
   "source": [
    "fx(list1 = [\"Shogun\",\"Tapioca Express\",\"Burger King\",\"KFC\"], list2 = [\"KFC\",\"Shogun\",\"Burger King\"])"
   ]
  },
  {
   "cell_type": "code",
   "execution_count": 4,
   "id": "1b7cff1f",
   "metadata": {},
   "outputs": [
    {
     "data": {
      "text/plain": [
       "['happy', 'sad']"
      ]
     },
     "execution_count": 4,
     "metadata": {},
     "output_type": "execute_result"
    }
   ],
   "source": [
    "fx(list1 = [\"happy\",\"sad\",\"good\"], list2 = [\"sad\",\"happy\",\"good\"])"
   ]
  },
  {
   "cell_type": "code",
   "execution_count": null,
   "id": "0f31dc9c",
   "metadata": {},
   "outputs": [],
   "source": []
  }
 ],
 "metadata": {
  "kernelspec": {
   "display_name": "Python 3 (ipykernel)",
   "language": "python",
   "name": "python3"
  },
  "language_info": {
   "codemirror_mode": {
    "name": "ipython",
    "version": 3
   },
   "file_extension": ".py",
   "mimetype": "text/x-python",
   "name": "python",
   "nbconvert_exporter": "python",
   "pygments_lexer": "ipython3",
   "version": "3.10.6"
  }
 },
 "nbformat": 4,
 "nbformat_minor": 5
}
