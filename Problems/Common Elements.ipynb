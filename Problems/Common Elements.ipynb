{
 "cells": [
  {
   "cell_type": "code",
   "execution_count": 5,
   "id": "9bb9d7ad",
   "metadata": {},
   "outputs": [],
   "source": [
    "def func(arr1,arr2,arr3):\n",
    "    temp=[]\n",
    "    fin=[]\n",
    "    for i in arr2:\n",
    "        if i in arr1:\n",
    "            temp.append(i)\n",
    "    for j in arr3:\n",
    "        if j in temp:\n",
    "            fin.append(j)\n",
    "    s=list(set(fin))\n",
    "    s.sort()\n",
    "    return s"
   ]
  },
  {
   "cell_type": "code",
   "execution_count": 4,
   "id": "02688e89",
   "metadata": {},
   "outputs": [
    {
     "data": {
      "text/plain": [
       "[20, 80]"
      ]
     },
     "execution_count": 4,
     "metadata": {},
     "output_type": "execute_result"
    }
   ],
   "source": [
    "func([1,2,3,20,4,5,80],[2,5,6,20,545,80],[20,80])"
   ]
  }
 ],
 "metadata": {
  "kernelspec": {
   "display_name": "Python 3 (ipykernel)",
   "language": "python",
   "name": "python3"
  },
  "language_info": {
   "codemirror_mode": {
    "name": "ipython",
    "version": 3
   },
   "file_extension": ".py",
   "mimetype": "text/x-python",
   "name": "python",
   "nbconvert_exporter": "python",
   "pygments_lexer": "ipython3",
   "version": "3.10.6"
  }
 },
 "nbformat": 4,
 "nbformat_minor": 5
}
