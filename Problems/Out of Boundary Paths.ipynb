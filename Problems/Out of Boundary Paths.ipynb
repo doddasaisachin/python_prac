{
 "cells": [
  {
   "cell_type": "markdown",
   "id": "77e101a4",
   "metadata": {},
   "source": [
    "There is an m x n grid with a ball. The ball is initially at the position [startRow, startColumn]. You are allowed to move the ball to one of the four adjacent cells in the grid (possibly out of the grid crossing the grid boundary). You can apply at most maxMove moves to the ball.\n",
    "\n",
    "Given the five integers m, n, maxMove, startRow, startColumn, return the number of paths to move the ball out of the grid boundary. Since the answer can be very large, return it modulo 109 + 7.\n",
    "\n",
    " \n",
    "\n",
    "Example 1:\n",
    "\n",
    "\n",
    "Input: m = 2, n = 2, maxMove = 2, startRow = 0, startColumn = 0\n",
    "Output: 6\n",
    "    \n",
    "Example 2:\n",
    "\n",
    "\n",
    "Input: m = 1, n = 3, maxMove = 3, startRow = 0, startColumn = 1\n",
    "Output: 12"
   ]
  },
  {
   "cell_type": "markdown",
   "id": "34f45800",
   "metadata": {},
   "source": [
    "## Recursive Solution"
   ]
  },
  {
   "cell_type": "code",
   "execution_count": 21,
   "id": "e6d5ed4f",
   "metadata": {},
   "outputs": [],
   "source": [
    "def func(m,n,moves,st_row,st_col):\n",
    "    if st_row<0 or st_col<0:\n",
    "        return 1\n",
    "    elif st_row>=m or st_col>=n:\n",
    "        return 1\n",
    "    elif moves<=0:\n",
    "        return 0\n",
    "    else:\n",
    "        return (func(m,n,moves-1,st_row+1,st_col)+\n",
    "                func(m,n,moves-1,st_row,st_col+1)+\n",
    "                func(m,n,moves-1,st_row-1,st_col)+\n",
    "                func(m,n,moves-1,st_row,st_col-1))"
   ]
  },
  {
   "cell_type": "code",
   "execution_count": 32,
   "id": "a8c1d04f",
   "metadata": {},
   "outputs": [
    {
     "data": {
      "text/plain": [
       "6"
      ]
     },
     "execution_count": 32,
     "metadata": {},
     "output_type": "execute_result"
    }
   ],
   "source": [
    "func(2,2,2,0,0)"
   ]
  },
  {
   "cell_type": "code",
   "execution_count": 33,
   "id": "2dabf611",
   "metadata": {},
   "outputs": [
    {
     "data": {
      "text/plain": [
       "12"
      ]
     },
     "execution_count": 33,
     "metadata": {},
     "output_type": "execute_result"
    }
   ],
   "source": [
    "func(1,3,3,0,1)"
   ]
  },
  {
   "cell_type": "code",
   "execution_count": null,
   "id": "06f0565e",
   "metadata": {},
   "outputs": [],
   "source": []
  }
 ],
 "metadata": {
  "kernelspec": {
   "display_name": "Python 3 (ipykernel)",
   "language": "python",
   "name": "python3"
  },
  "language_info": {
   "codemirror_mode": {
    "name": "ipython",
    "version": 3
   },
   "file_extension": ".py",
   "mimetype": "text/x-python",
   "name": "python",
   "nbconvert_exporter": "python",
   "pygments_lexer": "ipython3",
   "version": "3.10.6"
  }
 },
 "nbformat": 4,
 "nbformat_minor": 5
}
