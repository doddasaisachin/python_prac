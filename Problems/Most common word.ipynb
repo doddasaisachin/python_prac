{
 "cells": [
  {
   "cell_type": "markdown",
   "id": "604d57ae",
   "metadata": {},
   "source": [
    "Given a string paragraph and a string array of the banned words banned, return the most frequent word that is not banned. It is guaranteed there is at least one word that is not banned, and that the answer is unique.\n",
    "\n",
    "The words in paragraph are case-insensitive and the answer should be returned in lowercase.\n",
    "\n",
    " \n",
    "\n",
    "Example 1:\n",
    "\n",
    "Input: paragraph = \"Bob hit a ball, the hit BALL flew far after it was hit.\", banned = [\"hit\"]\n",
    "Output: \"ball\"\n",
    "Explanation: \n",
    "\"hit\" occurs 3 times, but it is a banned word.\n",
    "\"ball\" occurs twice (and no other word does), so it is the most frequent non-banned word in the paragraph. \n",
    "Note that words in the paragraph are not case sensitive,\n",
    "that punctuation is ignored (even if adjacent to words, such as \"ball,\"), \n",
    "and that \"hit\" isn't the answer even though it occurs more because it is banned.\n",
    "\n",
    "Example 2:\n",
    "\n",
    "Input: paragraph = \"a.\", banned = []\n",
    "Output: \"a\""
   ]
  },
  {
   "cell_type": "code",
   "execution_count": 1,
   "id": "06709fda",
   "metadata": {},
   "outputs": [],
   "source": [
    "def fx(paragraph,banned):\n",
    "    temp=''\n",
    "    d=dict()\n",
    "    for i in paragraph:\n",
    "        if i.isalpha():\n",
    "            temp+=i.lower()\n",
    "        else:\n",
    "            if temp in d.keys():\n",
    "                d[temp]+=1\n",
    "            if len(temp)>0 and temp not in d.keys():\n",
    "                d[temp]=1\n",
    "            temp=''\n",
    "    if len(temp)>0 and temp not in d.keys():\n",
    "        d[temp]=1\n",
    "    arr=sorted(d,key=lambda x : d[x],reverse=True)\n",
    "    for i in arr:\n",
    "        if i not in banned:\n",
    "            return i"
   ]
  },
  {
   "cell_type": "code",
   "execution_count": 2,
   "id": "837a154e",
   "metadata": {},
   "outputs": [
    {
     "data": {
      "text/plain": [
       "'ball'"
      ]
     },
     "execution_count": 2,
     "metadata": {},
     "output_type": "execute_result"
    }
   ],
   "source": [
    "fx(paragraph = \"Bob hit a ball, the hit BALL flew far after it was hit.\", banned = [\"hit\"])"
   ]
  },
  {
   "cell_type": "code",
   "execution_count": 3,
   "id": "e7e29cf6",
   "metadata": {},
   "outputs": [
    {
     "data": {
      "text/plain": [
       "'a'"
      ]
     },
     "execution_count": 3,
     "metadata": {},
     "output_type": "execute_result"
    }
   ],
   "source": [
    "fx('a.',[])"
   ]
  },
  {
   "cell_type": "code",
   "execution_count": null,
   "id": "ab6afd05",
   "metadata": {},
   "outputs": [],
   "source": []
  }
 ],
 "metadata": {
  "kernelspec": {
   "display_name": "Python 3 (ipykernel)",
   "language": "python",
   "name": "python3"
  },
  "language_info": {
   "codemirror_mode": {
    "name": "ipython",
    "version": 3
   },
   "file_extension": ".py",
   "mimetype": "text/x-python",
   "name": "python",
   "nbconvert_exporter": "python",
   "pygments_lexer": "ipython3",
   "version": "3.10.6"
  }
 },
 "nbformat": 4,
 "nbformat_minor": 5
}
