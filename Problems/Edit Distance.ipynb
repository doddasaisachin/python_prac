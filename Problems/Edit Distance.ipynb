{
 "cells": [
  {
   "cell_type": "markdown",
   "id": "ac0ca6b0",
   "metadata": {},
   "source": [
    "Given two strings word1 and word2, return the minimum number of operations required to convert word1 to word2.\n",
    "\n",
    "You have the following three operations permitted on a word:\n",
    "\n",
    "Insert a character\n",
    "Delete a character\n",
    "Replace a character\n",
    " \n",
    "\n",
    "Example 1:\n",
    "\n",
    "Input: word1 = \"horse\", word2 = \"ros\"\n",
    "    \n",
    "Output: 3\n",
    "\n",
    "Explanation: \n",
    "horse -> rorse (replace 'h' with 'r')\n",
    "rorse -> rose (remove 'r')\n",
    "rose -> ros (remove 'e')\n",
    "\n",
    "Example 2:\n",
    "\n",
    "Input: word1 = \"intention\", word2 = \"execution\"\n",
    "    \n",
    "Output: 5\n",
    "\n",
    "Explanation: \n",
    "intention -> inention (remove 't')\n",
    "inention -> enention (replace 'i' with 'e')\n",
    "enention -> exention (replace 'n' with 'x')\n",
    "exention -> exection (replace 'n' with 'c')\n",
    "exection -> execution (insert 'u')"
   ]
  },
  {
   "cell_type": "markdown",
   "id": "795a2ce7",
   "metadata": {},
   "source": [
    "#### Recursive Solution"
   ]
  },
  {
   "cell_type": "code",
   "execution_count": 6,
   "id": "21471157",
   "metadata": {},
   "outputs": [],
   "source": [
    "def fx(str1,str2,i,j):\n",
    "    if i==-1:\n",
    "        return j+1\n",
    "    if j==-1:\n",
    "        return i+1\n",
    "    elif str1[i]==str2[j]:\n",
    "        return fx(str1,str2,i-1,j-1)\n",
    "    else:\n",
    "        return 1+min(fx(str1,str2,i-1,j),fx(str1,str2,i,j-1),fx(str1,str2,i-1,j-1))\n"
   ]
  },
  {
   "cell_type": "markdown",
   "id": "e6e0e0eb",
   "metadata": {},
   "source": [
    "#### Dynamic Programming"
   ]
  },
  {
   "cell_type": "code",
   "execution_count": 5,
   "id": "9ae19dd0",
   "metadata": {},
   "outputs": [],
   "source": [
    "def minDistance(word1: str, word2: str) -> int:\n",
    "    m=len(word1)\n",
    "    n=len(word2)\n",
    "    dp=[[0]*(m+1) for i in range(n+1)]\n",
    "    for i in range(1,m+1):\n",
    "        dp[0][i]=i\n",
    "    for i in range(1,n+1):\n",
    "        dp[i][0]=i\n",
    "    print(dp)\n",
    "    for i in range(1,n+1):\n",
    "        for j in range(1,m+1):\n",
    "            if word1[j-1]==word2[i-1]:\n",
    "                dp[i][j]=dp[i-1][j-1]\n",
    "            else:\n",
    "                dp[i][j]=1+min(dp[i-1][j-1],dp[i][j-1],dp[i-1][j])\n",
    "    return dp[-1][-1]"
   ]
  },
  {
   "cell_type": "code",
   "execution_count": null,
   "id": "280b0a05",
   "metadata": {},
   "outputs": [],
   "source": []
  }
 ],
 "metadata": {
  "kernelspec": {
   "display_name": "Python 3 (ipykernel)",
   "language": "python",
   "name": "python3"
  },
  "language_info": {
   "codemirror_mode": {
    "name": "ipython",
    "version": 3
   },
   "file_extension": ".py",
   "mimetype": "text/x-python",
   "name": "python",
   "nbconvert_exporter": "python",
   "pygments_lexer": "ipython3",
   "version": "3.10.6"
  }
 },
 "nbformat": 4,
 "nbformat_minor": 5
}
