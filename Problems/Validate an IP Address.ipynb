{
 "cells": [
  {
   "cell_type": "markdown",
   "id": "571fa5b5",
   "metadata": {},
   "source": [
    "Write a program to Validate an IPv4 Address.\n",
    "According to Wikipedia, IPv4 addresses are canonically represented in dot-decimal notation, which consists of four decimal numbers, each ranging from 0 to 255, separated by dots, e.g., 172.16.254.1 .\n",
    "A valid IPv4 Address is of the form x1.x2.x3.x4 where 0 <= (x1, x2, x3, x4) <= 255.\n",
    "Thus, we can write the generalized form of an IPv4 address as (0-255).(0-255).(0-255).(0-255).\n",
    "Note: Here we are considering numbers only from 0 to 255 and any additional leading zeroes will be considered invalid.\n",
    "\n",
    "Your task is to complete the function isValid which returns 1 if the given IPv4 address is valid else returns 0. The function takes the IPv4 address as the only argument in the form of string."
   ]
  },
  {
   "cell_type": "markdown",
   "id": "b68aec1e",
   "metadata": {},
   "source": [
    "### Example 1:\n",
    "\n",
    "Input:\n",
    "IPv4 address = 222.111.111.111\n",
    "\n",
    "Output: 1\n",
    "\n",
    "Explanation: Here, the IPv4 address is as\n",
    "per the criteria mentioned and also all\n",
    "four decimal numbers lies in the mentioned\n",
    "range.\n"
   ]
  },
  {
   "cell_type": "markdown",
   "id": "c541ba24",
   "metadata": {},
   "source": [
    "### Example 2:\n",
    "\n",
    "Input:\n",
    "IPv4 address = 5555..555\n",
    "\n",
    "Output: 0\n",
    "    \n",
    "Explanation: 5555..555 is not a valid\n",
    "IPv4 address, as the middle two portions\n",
    "are missing."
   ]
  },
  {
   "cell_type": "code",
   "execution_count": 88,
   "id": "9a6105da",
   "metadata": {},
   "outputs": [],
   "source": [
    "def isValid(ip):\n",
    "    ip_list=ip.split('.')\n",
    "    for i in ip_list:\n",
    "        if i.isalpha():\n",
    "            return 0\n",
    "    if len(ip_list)==4:\n",
    "        if len(ip_list[0])>=2 and int(ip_list[0])==0:\n",
    "            return 0\n",
    "        for i in ip_list:\n",
    "            if len(i)>3 or i=='':\n",
    "                return 0\n",
    "            ele=int(i)\n",
    "            if ele>0 and len(i)>ele:\n",
    "                return 0\n",
    "            if (ele>=0) and (ele<=255):\n",
    "                pass\n",
    "            else:\n",
    "                return 0\n",
    "        return 1\n",
    "    else:\n",
    "        return 0"
   ]
  },
  {
   "cell_type": "code",
   "execution_count": 80,
   "id": "6919a752",
   "metadata": {},
   "outputs": [
    {
     "data": {
      "text/plain": [
       "1"
      ]
     },
     "execution_count": 80,
     "metadata": {},
     "output_type": "execute_result"
    }
   ],
   "source": [
    "validate('127.0.0.1')"
   ]
  },
  {
   "cell_type": "code",
   "execution_count": 81,
   "id": "7b8e9529",
   "metadata": {},
   "outputs": [
    {
     "data": {
      "text/plain": [
       "0"
      ]
     },
     "execution_count": 81,
     "metadata": {},
     "output_type": "execute_result"
    }
   ],
   "source": [
    "validate('127...2')"
   ]
  },
  {
   "cell_type": "code",
   "execution_count": 82,
   "id": "f922356f",
   "metadata": {},
   "outputs": [
    {
     "data": {
      "text/plain": [
       "0"
      ]
     },
     "execution_count": 82,
     "metadata": {},
     "output_type": "execute_result"
    }
   ],
   "source": [
    "validate('125.3.4.555')"
   ]
  },
  {
   "cell_type": "code",
   "execution_count": 83,
   "id": "6e74d4e9",
   "metadata": {},
   "outputs": [
    {
     "data": {
      "text/plain": [
       "0"
      ]
     },
     "execution_count": 83,
     "metadata": {},
     "output_type": "execute_result"
    }
   ],
   "source": [
    "validate('0000.0000.0000.0000')"
   ]
  },
  {
   "cell_type": "code",
   "execution_count": 84,
   "id": "e8b87abd",
   "metadata": {},
   "outputs": [
    {
     "data": {
      "text/plain": [
       "0"
      ]
     },
     "execution_count": 84,
     "metadata": {},
     "output_type": "execute_result"
    }
   ],
   "source": [
    "validate('00.00.00.00')"
   ]
  },
  {
   "cell_type": "code",
   "execution_count": 85,
   "id": "5c0577ae",
   "metadata": {},
   "outputs": [
    {
     "data": {
      "text/plain": [
       "0"
      ]
     },
     "execution_count": 85,
     "metadata": {},
     "output_type": "execute_result"
    }
   ],
   "source": [
    "int('00')"
   ]
  },
  {
   "cell_type": "code",
   "execution_count": 86,
   "id": "8714317d",
   "metadata": {},
   "outputs": [
    {
     "data": {
      "text/plain": [
       "0"
      ]
     },
     "execution_count": 86,
     "metadata": {},
     "output_type": "execute_result"
    }
   ],
   "source": [
    "validate('172.16.254.01')"
   ]
  },
  {
   "cell_type": "code",
   "execution_count": 87,
   "id": "2b08bd4d",
   "metadata": {},
   "outputs": [
    {
     "data": {
      "text/plain": [
       "0"
      ]
     },
     "execution_count": 87,
     "metadata": {},
     "output_type": "execute_result"
    }
   ],
   "source": [
    "validate('a.b.c.d')"
   ]
  }
 ],
 "metadata": {
  "kernelspec": {
   "display_name": "Python 3 (ipykernel)",
   "language": "python",
   "name": "python3"
  },
  "language_info": {
   "codemirror_mode": {
    "name": "ipython",
    "version": 3
   },
   "file_extension": ".py",
   "mimetype": "text/x-python",
   "name": "python",
   "nbconvert_exporter": "python",
   "pygments_lexer": "ipython3",
   "version": "3.10.6"
  }
 },
 "nbformat": 4,
 "nbformat_minor": 5
}
