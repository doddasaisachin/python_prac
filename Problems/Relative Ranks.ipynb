{
 "cells": [
  {
   "cell_type": "markdown",
   "id": "8a10ab46",
   "metadata": {},
   "source": [
    "You are given an integer array score of size n, where score[i] is the score of the ith athlete in a competition. All the scores are guaranteed to be unique.\n",
    "\n",
    "The athletes are placed based on their scores, where the 1st place athlete has the highest score, the 2nd place athlete has the 2nd highest score, and so on. The placement of each athlete determines their rank:\n",
    "\n",
    "The 1st place athlete's rank is \"Gold Medal\".\n",
    "The 2nd place athlete's rank is \"Silver Medal\".\n",
    "The 3rd place athlete's rank is \"Bronze Medal\".\n",
    "For the 4th place to the nth place athlete, their rank is their placement number (i.e., the xth place athlete's rank is \"x\").\n",
    "Return an array answer of size n where answer[i] is the rank of the ith athlete.\n",
    "\n",
    " \n",
    "\n",
    "Example 1:\n",
    "\n",
    "Input: score = [5,4,3,2,1]\n",
    "Output: [\"Gold Medal\",\"Silver Medal\",\"Bronze Medal\",\"4\",\"5\"]\n",
    "Explanation: The placements are [1st, 2nd, 3rd, 4th, 5th].\n",
    "                                                                                  \n",
    "Example 2:\n",
    "                                                                                  \n",
    "Input: score = [10,3,8,9,4]\n",
    "Output: [\"Gold Medal\",\"5\",\"Bronze Medal\",\"Silver Medal\",\"4\"]\n",
    "Explanation: The placements are [1st, 5th, 3rd, 2nd, 4th]."
   ]
  },
  {
   "cell_type": "code",
   "execution_count": 2,
   "id": "abe72e8d",
   "metadata": {},
   "outputs": [],
   "source": [
    "def fx(score):\n",
    "    ans=[0 for i in range(len(score))]\n",
    "    temp=0\n",
    "    while temp<len(score):\n",
    "        ele=max(score)\n",
    "        idx=score.index(ele)\n",
    "        if temp==0:\n",
    "            ans[idx]='Gold Medal'\n",
    "        elif temp==1:\n",
    "            ans[idx]='Silver Medal'\n",
    "        elif temp==2:\n",
    "            ans[idx]='Bronze Medal'\n",
    "        else:\n",
    "            ans[idx]=str(temp+1)\n",
    "        temp+=1\n",
    "        score[idx]=-1\n",
    "    return ans"
   ]
  },
  {
   "cell_type": "code",
   "execution_count": 3,
   "id": "dc4c0816",
   "metadata": {},
   "outputs": [
    {
     "data": {
      "text/plain": [
       "['Gold Medal', 'Silver Medal', 'Bronze Medal', '4', '5']"
      ]
     },
     "execution_count": 3,
     "metadata": {},
     "output_type": "execute_result"
    }
   ],
   "source": [
    "fx([5,4,3,2,1])"
   ]
  },
  {
   "cell_type": "code",
   "execution_count": null,
   "id": "206e43df",
   "metadata": {},
   "outputs": [],
   "source": []
  }
 ],
 "metadata": {
  "kernelspec": {
   "display_name": "Python 3 (ipykernel)",
   "language": "python",
   "name": "python3"
  },
  "language_info": {
   "codemirror_mode": {
    "name": "ipython",
    "version": 3
   },
   "file_extension": ".py",
   "mimetype": "text/x-python",
   "name": "python",
   "nbconvert_exporter": "python",
   "pygments_lexer": "ipython3",
   "version": "3.10.6"
  }
 },
 "nbformat": 4,
 "nbformat_minor": 5
}
