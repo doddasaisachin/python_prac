{
 "cells": [
  {
   "cell_type": "markdown",
   "id": "86ab9c07",
   "metadata": {},
   "source": [
    "Consider a game where a player can score 3 or 5 or 10 points in a move. Given a total score n, find number of distinct combinations to reach the given score."
   ]
  },
  {
   "cell_type": "markdown",
   "id": "eef8722a",
   "metadata": {},
   "source": [
    "### Recursive Approach"
   ]
  },
  {
   "cell_type": "code",
   "execution_count": 110,
   "id": "4b75d0ef",
   "metadata": {},
   "outputs": [],
   "source": [
    "def fx(n,seen,temp):\n",
    "    if (n>0 and n<3) or n<0:\n",
    "        return 0 \n",
    "    if n==0:\n",
    "        if tuple(set(temp)) not in seen:\n",
    "#             print(temp)\n",
    "            seen.add(tuple(set(temp)))\n",
    "            return 1\n",
    "        else:\n",
    "            return 0\n",
    "    return (fx(n-3,seen,temp=temp+[3])+\n",
    "            fx(n-5,seen,temp=temp+[5])+\n",
    "            fx(n-10,seen,temp=temp+[10]))"
   ]
  },
  {
   "cell_type": "code",
   "execution_count": 112,
   "id": "6f1b731f",
   "metadata": {},
   "outputs": [
    {
     "data": {
      "text/plain": [
       "3"
      ]
     },
     "execution_count": 112,
     "metadata": {},
     "output_type": "execute_result"
    }
   ],
   "source": [
    "fx(15,set(),[])"
   ]
  },
  {
   "cell_type": "code",
   "execution_count": 113,
   "id": "c60cadf0",
   "metadata": {
    "scrolled": true
   },
   "outputs": [
    {
     "data": {
      "text/plain": [
       "4"
      ]
     },
     "execution_count": 113,
     "metadata": {},
     "output_type": "execute_result"
    }
   ],
   "source": [
    "fx(20,set(),[])"
   ]
  },
  {
   "cell_type": "markdown",
   "id": "df6d06c1",
   "metadata": {},
   "source": [
    "### Dynamic Programming"
   ]
  },
  {
   "cell_type": "code",
   "execution_count": 107,
   "id": "059a12af",
   "metadata": {},
   "outputs": [],
   "source": [
    "def fux(n):\n",
    "    dp=[0]*(n+1)\n",
    "    dp[0]=1\n",
    "    for i in range(3,n+1):\n",
    "        dp[i]=dp[i]+dp[i-3]\n",
    "    for i in range(5,n+1):\n",
    "        dp[i]=dp[i]+dp[i-5]\n",
    "    for i in range(10,n+1):\n",
    "        dp[i]=dp[i]+dp[i-10]\n",
    "    return dp[-1]"
   ]
  },
  {
   "cell_type": "code",
   "execution_count": 114,
   "id": "a7d732b3",
   "metadata": {},
   "outputs": [
    {
     "data": {
      "text/plain": [
       "2"
      ]
     },
     "execution_count": 114,
     "metadata": {},
     "output_type": "execute_result"
    }
   ],
   "source": [
    "fux(13)"
   ]
  },
  {
   "cell_type": "code",
   "execution_count": 115,
   "id": "27482327",
   "metadata": {},
   "outputs": [
    {
     "data": {
      "text/plain": [
       "3"
      ]
     },
     "execution_count": 115,
     "metadata": {},
     "output_type": "execute_result"
    }
   ],
   "source": [
    "fux(18)"
   ]
  }
 ],
 "metadata": {
  "kernelspec": {
   "display_name": "Python 3 (ipykernel)",
   "language": "python",
   "name": "python3"
  },
  "language_info": {
   "codemirror_mode": {
    "name": "ipython",
    "version": 3
   },
   "file_extension": ".py",
   "mimetype": "text/x-python",
   "name": "python",
   "nbconvert_exporter": "python",
   "pygments_lexer": "ipython3",
   "version": "3.10.6"
  }
 },
 "nbformat": 4,
 "nbformat_minor": 5
}
