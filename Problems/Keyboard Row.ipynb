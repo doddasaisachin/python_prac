{
 "cells": [
  {
   "cell_type": "markdown",
   "id": "d5f3c135",
   "metadata": {},
   "source": [
    "Given an array of strings words, return the words that can be typed using letters of the alphabet on only one row of American keyboard like the image below.\n",
    "\n",
    "In the American keyboard:\n",
    "\n",
    "the first row consists of the characters \"qwertyuiop\",\n",
    "the second row consists of the characters \"asdfghjkl\", and\n",
    "the third row consists of the characters \"zxcvbnm\".\n",
    "\n",
    " \n",
    "\n",
    "Example 1:\n",
    "\n",
    "Input: words = [\"Hello\",\"Alaska\",\"Dad\",\"Peace\"]\n",
    "Output: [\"Alaska\",\"Dad\"]\n",
    "    \n",
    "Example 2:\n",
    "\n",
    "Input: words = [\"omk\"]\n",
    "Output: []\n",
    "    \n",
    "Example 3:\n",
    "\n",
    "Input: words = [\"adsdf\",\"sfd\"]\n",
    "Output: [\"adsdf\",\"sfd\"]"
   ]
  },
  {
   "cell_type": "code",
   "execution_count": 1,
   "id": "f9757231",
   "metadata": {},
   "outputs": [],
   "source": [
    "def fx(s,string):\n",
    "    for i in set(s):\n",
    "        if i.lower() not in set(string):\n",
    "            return False\n",
    "    return True\n",
    "def findWords(words):\n",
    "    ans=[]\n",
    "    for i in words:\n",
    "        if fx(i,'qwertyuiop') or fx(i,'asdfghjkl') or fx(i,'zxcvbnm'):\n",
    "            ans.append(i)\n",
    "    return ans"
   ]
  },
  {
   "cell_type": "code",
   "execution_count": 2,
   "id": "62d2c29d",
   "metadata": {},
   "outputs": [
    {
     "data": {
      "text/plain": [
       "['Alaska', 'Dad']"
      ]
     },
     "execution_count": 2,
     "metadata": {},
     "output_type": "execute_result"
    }
   ],
   "source": [
    "findWords([\"Hello\",\"Alaska\",\"Dad\",\"Peace\"])"
   ]
  },
  {
   "cell_type": "code",
   "execution_count": 3,
   "id": "7d419269",
   "metadata": {},
   "outputs": [
    {
     "data": {
      "text/plain": [
       "['adsdf', 'sfd']"
      ]
     },
     "execution_count": 3,
     "metadata": {},
     "output_type": "execute_result"
    }
   ],
   "source": [
    "findWords([\"adsdf\",\"sfd\"])"
   ]
  },
  {
   "cell_type": "code",
   "execution_count": null,
   "id": "dbaa8ba7",
   "metadata": {},
   "outputs": [],
   "source": []
  }
 ],
 "metadata": {
  "kernelspec": {
   "display_name": "Python 3 (ipykernel)",
   "language": "python",
   "name": "python3"
  },
  "language_info": {
   "codemirror_mode": {
    "name": "ipython",
    "version": 3
   },
   "file_extension": ".py",
   "mimetype": "text/x-python",
   "name": "python",
   "nbconvert_exporter": "python",
   "pygments_lexer": "ipython3",
   "version": "3.10.6"
  }
 },
 "nbformat": 4,
 "nbformat_minor": 5
}
