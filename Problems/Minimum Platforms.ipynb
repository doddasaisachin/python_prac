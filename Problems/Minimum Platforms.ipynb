{
 "cells": [
  {
   "cell_type": "markdown",
   "id": "f9888ffb",
   "metadata": {},
   "source": [
    "Given arrival and departure times of all trains that reach a railway station. Find the minimum number of platforms required for the railway station so that no train is kept waiting.\n",
    "Consider that all the trains arrive on the same day and leave on the same day. Arrival and departure time can never be the same for a train but we can have arrival time of one train equal to departure time of the other. At any given instance of time, same platform can not be used for both departure of a train and arrival of another train. In such cases, we need different platforms.\n",
    "\n"
   ]
  },
  {
   "cell_type": "markdown",
   "id": "ce717502",
   "metadata": {},
   "source": [
    "## Example 1:\n",
    "\n",
    "Input: n = 3\n",
    "\n",
    "arr[] = [0900, 1100, 1235]\n",
    "\n",
    "dep[] = [1000, 1200, 1240]\n",
    "\n",
    "Output: 1"
   ]
  },
  {
   "cell_type": "markdown",
   "id": "b44fd327",
   "metadata": {},
   "source": [
    "## Example 2:\n",
    "\n",
    "Input: n = 6 \n",
    "\n",
    "arr[] = [0900, 0940, 0950, 1100, 1500, 1800]\n",
    "\n",
    "dep[] = [0910, 1200, 1120, 1130, 1900, 2000]\n",
    "\n",
    "Output: 3"
   ]
  },
  {
   "cell_type": "code",
   "execution_count": 62,
   "id": "c2bfa1ce",
   "metadata": {},
   "outputs": [],
   "source": [
    "def func(arr,dep):\n",
    "    trains=[]\n",
    "    trains.append(int(dep[0]))\n",
    "    for i in range(1,len(arr)):\n",
    "        for j in range(len(trains)):\n",
    "            if int(arr[i])>int(trains[j]):\n",
    "                trains[j]=int(dep[i])\n",
    "                break\n",
    "                \n",
    "        else:\n",
    "            trains.append(int(dep[i]))                \n",
    "                \n",
    "    return len(trains)"
   ]
  },
  {
   "cell_type": "code",
   "execution_count": 63,
   "id": "a5a8683d",
   "metadata": {},
   "outputs": [
    {
     "data": {
      "text/plain": [
       "1"
      ]
     },
     "execution_count": 63,
     "metadata": {},
     "output_type": "execute_result"
    }
   ],
   "source": [
    "func([900,1100,1235],[1000,1200,1240])"
   ]
  },
  {
   "cell_type": "code",
   "execution_count": 64,
   "id": "b85fa31d",
   "metadata": {
    "scrolled": false
   },
   "outputs": [
    {
     "data": {
      "text/plain": [
       "3"
      ]
     },
     "execution_count": 64,
     "metadata": {},
     "output_type": "execute_result"
    }
   ],
   "source": [
    "func([900,940,950,1100,1500,1800],[910,1200,1120,1130,1900,2000])"
   ]
  },
  {
   "cell_type": "code",
   "execution_count": 65,
   "id": "82ad5361",
   "metadata": {},
   "outputs": [
    {
     "data": {
      "text/plain": [
       "3"
      ]
     },
     "execution_count": 65,
     "metadata": {},
     "output_type": "execute_result"
    }
   ],
   "source": [
    "func([600,700,800,900,950,1000,1100],[800,900,830,950,955,1500,1200])"
   ]
  },
  {
   "cell_type": "code",
   "execution_count": null,
   "id": "d05aebaa",
   "metadata": {},
   "outputs": [],
   "source": []
  }
 ],
 "metadata": {
  "kernelspec": {
   "display_name": "Python 3 (ipykernel)",
   "language": "python",
   "name": "python3"
  },
  "language_info": {
   "codemirror_mode": {
    "name": "ipython",
    "version": 3
   },
   "file_extension": ".py",
   "mimetype": "text/x-python",
   "name": "python",
   "nbconvert_exporter": "python",
   "pygments_lexer": "ipython3",
   "version": "3.10.6"
  }
 },
 "nbformat": 4,
 "nbformat_minor": 5
}
