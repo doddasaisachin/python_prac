{
 "cells": [
  {
   "cell_type": "markdown",
   "id": "993ef6ba",
   "metadata": {},
   "source": [
    "A web developer needs to know how to design a web page's size. So, given a specific rectangular web page’s area, your job by now is to design a rectangular web page, whose length L and width W satisfy the following requirements:\n",
    "\n",
    "The area of the rectangular web page you designed must equal to the given target area.\n",
    "The width W should not be larger than the length L, which means L >= W.\n",
    "The difference between length L and width W should be as small as possible.\n",
    "Return an array [L, W] where L and W are the length and width of the web page you designed in sequence.\n",
    "\n",
    " \n",
    "\n",
    "Example 1:\n",
    "\n",
    "Input: area = 4\n",
    "Output: [2,2]\n",
    "Explanation: The target area is 4, and all the possible ways to construct it are [1,4], [2,2], [4,1]. \n",
    "But according to requirement 2, [1,4] is illegal; according to requirement 3,  [4,1] is not optimal compared to [2,2]. So the length L is 2, and the width W is 2.\n",
    "\n",
    "Example 2:\n",
    "\n",
    "Input: area = 37\n",
    "Output: [37,1]\n",
    "    \n",
    "Example 3:\n",
    "\n",
    "Input: area = 122122\n",
    "Output: [427,286]"
   ]
  },
  {
   "cell_type": "code",
   "execution_count": 1,
   "id": "409b80b9",
   "metadata": {},
   "outputs": [],
   "source": [
    "def fx(area):\n",
    "    l,w=9999999,0\n",
    "    if area==1 : return [1,1]\n",
    "    for i in range(1,area//2+1):\n",
    "        if area%i==0:\n",
    "            if area//i-i>=0:\n",
    "                if (area//i-i)<(l-w):\n",
    "                    l,w=area//i,i\n",
    "            else:\n",
    "                break\n",
    "    return [l,w]"
   ]
  },
  {
   "cell_type": "code",
   "execution_count": 2,
   "id": "042c0f3b",
   "metadata": {},
   "outputs": [
    {
     "data": {
      "text/plain": [
       "[2, 2]"
      ]
     },
     "execution_count": 2,
     "metadata": {},
     "output_type": "execute_result"
    }
   ],
   "source": [
    "fx(4)"
   ]
  },
  {
   "cell_type": "code",
   "execution_count": 3,
   "id": "5f947c82",
   "metadata": {},
   "outputs": [
    {
     "data": {
      "text/plain": [
       "[37, 1]"
      ]
     },
     "execution_count": 3,
     "metadata": {},
     "output_type": "execute_result"
    }
   ],
   "source": [
    "fx(37)"
   ]
  },
  {
   "cell_type": "code",
   "execution_count": 4,
   "id": "239a7016",
   "metadata": {},
   "outputs": [
    {
     "data": {
      "text/plain": [
       "[427, 286]"
      ]
     },
     "execution_count": 4,
     "metadata": {},
     "output_type": "execute_result"
    }
   ],
   "source": [
    "fx(122122)"
   ]
  },
  {
   "cell_type": "code",
   "execution_count": null,
   "id": "2b9fe1fb",
   "metadata": {},
   "outputs": [],
   "source": []
  }
 ],
 "metadata": {
  "kernelspec": {
   "display_name": "Python 3 (ipykernel)",
   "language": "python",
   "name": "python3"
  },
  "language_info": {
   "codemirror_mode": {
    "name": "ipython",
    "version": 3
   },
   "file_extension": ".py",
   "mimetype": "text/x-python",
   "name": "python",
   "nbconvert_exporter": "python",
   "pygments_lexer": "ipython3",
   "version": "3.10.6"
  }
 },
 "nbformat": 4,
 "nbformat_minor": 5
}
