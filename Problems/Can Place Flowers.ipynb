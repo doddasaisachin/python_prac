{
 "cells": [
  {
   "cell_type": "markdown",
   "id": "34d9590c",
   "metadata": {},
   "source": [
    "You have a long flowerbed in which some of the plots are planted, and some are not. However, flowers cannot be planted in adjacent plots.\n",
    "\n",
    "Given an integer array flowerbed containing 0's and 1's, where 0 means empty and 1 means not empty, and an integer n, return true if n new flowers can be planted in the flowerbed without violating the no-adjacent-flowers rule and false otherwise.\n",
    "\n",
    " \n",
    "\n",
    "Example 1:\n",
    "\n",
    "Input: flowerbed = [1,0,0,0,1], n = 1\n",
    "Output: true\n",
    "    \n",
    "Example 2:\n",
    "\n",
    "Input: flowerbed = [1,0,0,0,1], n = 2\n",
    "Output: false"
   ]
  },
  {
   "cell_type": "code",
   "execution_count": 21,
   "id": "b68ca9a2",
   "metadata": {},
   "outputs": [],
   "source": [
    "def check(array):\n",
    "    if len(array)==1 and array[0]==0:\n",
    "        return 0\n",
    "    if array[0]==0 and array[1]==0:\n",
    "        return 0\n",
    "    if len(array)>=3:\n",
    "        for i in range(1,len(array)-1):\n",
    "            if array[i]==0 and array[i-1]==0 and array[i+1]==0:\n",
    "                return i\n",
    "    if array[-1]==0 and array[-2]==0:\n",
    "        return len(array)-1\n",
    "    return -1"
   ]
  },
  {
   "cell_type": "code",
   "execution_count": 22,
   "id": "1190bedb",
   "metadata": {},
   "outputs": [],
   "source": [
    "def main(array,n):\n",
    "    while n>0:\n",
    "        idx=check(array)\n",
    "        if idx>=0:\n",
    "            array[idx]=1\n",
    "        else:\n",
    "            break\n",
    "        n=n-1\n",
    "    if n==0:\n",
    "        return True\n",
    "    else:\n",
    "        return False"
   ]
  },
  {
   "cell_type": "code",
   "execution_count": 23,
   "id": "fa34275d",
   "metadata": {},
   "outputs": [
    {
     "data": {
      "text/plain": [
       "True"
      ]
     },
     "execution_count": 23,
     "metadata": {},
     "output_type": "execute_result"
    }
   ],
   "source": [
    "main([1,0,0,0,1,0,0],2)"
   ]
  },
  {
   "cell_type": "code",
   "execution_count": 24,
   "id": "d550c9cb",
   "metadata": {},
   "outputs": [
    {
     "data": {
      "text/plain": [
       "True"
      ]
     },
     "execution_count": 24,
     "metadata": {},
     "output_type": "execute_result"
    }
   ],
   "source": [
    "main([1,0,0,0,1],1)"
   ]
  },
  {
   "cell_type": "code",
   "execution_count": 25,
   "id": "f358c605",
   "metadata": {},
   "outputs": [
    {
     "data": {
      "text/plain": [
       "False"
      ]
     },
     "execution_count": 25,
     "metadata": {},
     "output_type": "execute_result"
    }
   ],
   "source": [
    "main([1,0,0,0,1],2)"
   ]
  },
  {
   "cell_type": "code",
   "execution_count": null,
   "id": "bd5de02b",
   "metadata": {},
   "outputs": [],
   "source": []
  }
 ],
 "metadata": {
  "kernelspec": {
   "display_name": "Python 3 (ipykernel)",
   "language": "python",
   "name": "python3"
  },
  "language_info": {
   "codemirror_mode": {
    "name": "ipython",
    "version": 3
   },
   "file_extension": ".py",
   "mimetype": "text/x-python",
   "name": "python",
   "nbconvert_exporter": "python",
   "pygments_lexer": "ipython3",
   "version": "3.10.6"
  }
 },
 "nbformat": 4,
 "nbformat_minor": 5
}
