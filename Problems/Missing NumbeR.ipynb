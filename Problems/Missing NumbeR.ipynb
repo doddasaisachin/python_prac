{
 "cells": [
  {
   "cell_type": "code",
   "execution_count": 27,
   "id": "6e779bb0",
   "metadata": {},
   "outputs": [],
   "source": [
    "def func(array):\n",
    "    array.sort()\n",
    "    left=0\n",
    "    right=len(array)-1\n",
    "    while left<=len(array)//2:\n",
    "        if array[left]!=left:\n",
    "            return left\n",
    "        if array[right]!=right+1:\n",
    "            return right+1\n",
    "        left+=1\n",
    "        right-=1"
   ]
  },
  {
   "cell_type": "code",
   "execution_count": 28,
   "id": "494d5917",
   "metadata": {},
   "outputs": [
    {
     "data": {
      "text/plain": [
       "2"
      ]
     },
     "execution_count": 28,
     "metadata": {},
     "output_type": "execute_result"
    }
   ],
   "source": [
    "func([0,1])"
   ]
  },
  {
   "cell_type": "code",
   "execution_count": 30,
   "id": "8cd709cb",
   "metadata": {},
   "outputs": [
    {
     "data": {
      "text/plain": [
       "8"
      ]
     },
     "execution_count": 30,
     "metadata": {},
     "output_type": "execute_result"
    }
   ],
   "source": [
    "func([9,6,4,2,3,5,7,0,1])"
   ]
  },
  {
   "cell_type": "code",
   "execution_count": 35,
   "id": "754ed750",
   "metadata": {},
   "outputs": [],
   "source": [
    "def opt_func(array):\n",
    "    Sum=(len(array)*(len(array)+1))/2\n",
    "    for i in array:\n",
    "        Sum=Sum-i\n",
    "    return int(Sum)"
   ]
  },
  {
   "cell_type": "code",
   "execution_count": 69,
   "id": "d2b635b9",
   "metadata": {},
   "outputs": [
    {
     "data": {
      "text/plain": [
       "2"
      ]
     },
     "execution_count": 69,
     "metadata": {},
     "output_type": "execute_result"
    }
   ],
   "source": [
    "opt_func([3,0,1])"
   ]
  },
  {
   "cell_type": "code",
   "execution_count": 71,
   "id": "1bc7ad4a",
   "metadata": {
    "scrolled": true
   },
   "outputs": [
    {
     "data": {
      "text/plain": [
       "1"
      ]
     },
     "execution_count": 71,
     "metadata": {},
     "output_type": "execute_result"
    }
   ],
   "source": [
    "opt_func([0,2])"
   ]
  },
  {
   "cell_type": "code",
   "execution_count": 72,
   "id": "f9879dc0",
   "metadata": {},
   "outputs": [],
   "source": [
    "def bokada_approach(array):\n",
    "    Sum=(len(array)*(len(array)+1))//2\n",
    "    left=0\n",
    "    right=len(array)-1\n",
    "    while left<=right:\n",
    "        if left==right:\n",
    "            Sum=Sum-array[left]\n",
    "        else:\n",
    "            Sum=Sum-array[left]-array[right]\n",
    "        left+=1\n",
    "        right-=1\n",
    "    return Sum"
   ]
  }
 ],
 "metadata": {
  "kernelspec": {
   "display_name": "Python 3 (ipykernel)",
   "language": "python",
   "name": "python3"
  },
  "language_info": {
   "codemirror_mode": {
    "name": "ipython",
    "version": 3
   },
   "file_extension": ".py",
   "mimetype": "text/x-python",
   "name": "python",
   "nbconvert_exporter": "python",
   "pygments_lexer": "ipython3",
   "version": "3.10.6"
  }
 },
 "nbformat": 4,
 "nbformat_minor": 5
}
