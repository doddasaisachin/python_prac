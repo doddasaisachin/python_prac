{
 "cells": [
  {
   "cell_type": "markdown",
   "id": "5a7370cf",
   "metadata": {},
   "source": [
    "You are given an m x n integer array grid. There is a robot initially located at the top-left corner (i.e., grid[0][0]). The robot tries to move to the bottom-right corner (i.e., grid[m - 1][n - 1]). The robot can only move either down or right at any point in time.\n",
    "\n",
    "An obstacle and space are marked as 1 or 0 respectively in grid. A path that the robot takes cannot include any square that is an obstacle.\n",
    "\n",
    "Return the number of possible unique paths that the robot can take to reach the bottom-right corner.\n",
    "\n",
    "The testcases are generated so that the answer will be less than or equal to 2 * 109.\n",
    "\n",
    " \n",
    "\n",
    "Example 1:\n",
    "\n",
    "\n",
    "Input: obstacleGrid = [[0,0,0],[0,1,0],[0,0,0]]\n",
    "Output: 2\n",
    "Explanation: There is one obstacle in the middle of the 3x3 grid above.\n",
    "There are two ways to reach the bottom-right corner:\n",
    "1. Right -> Right -> Down -> Down\n",
    "2. Down -> Down -> Right -> Right\n",
    "\n",
    "Example 2:\n",
    "\n",
    "Input: obstacleGrid = [[0,1],[0,0]]\n",
    "Output: 1"
   ]
  },
  {
   "cell_type": "code",
   "execution_count": 1,
   "id": "376fa094",
   "metadata": {},
   "outputs": [],
   "source": [
    "def fx(grid):\n",
    "    mat=[[0 for _ in range(len(grid[0]))] for i in range(len(grid))]\n",
    "    s,t=-1,-1\n",
    "    for i in range(len(grid)):\n",
    "        if grid[i][0]==1:\n",
    "            s=i\n",
    "            break\n",
    "        else:\n",
    "            mat[i][0]=1\n",
    "    for i in range(len(grid[0])):\n",
    "        if grid[0][i]==1:\n",
    "            t=i\n",
    "            break\n",
    "        else:\n",
    "            mat[0][i]=1\n",
    "    for i in range(1,len(grid)):\n",
    "        for j in range(1,len(grid[0])):\n",
    "            if grid[i][j]==0:\n",
    "                mat[i][j]=mat[i-1][j]+mat[i][j-1]\n",
    "    return mat[-1][-1] "
   ]
  },
  {
   "cell_type": "code",
   "execution_count": 2,
   "id": "b20fe3e4",
   "metadata": {},
   "outputs": [
    {
     "data": {
      "text/plain": [
       "2"
      ]
     },
     "execution_count": 2,
     "metadata": {},
     "output_type": "execute_result"
    }
   ],
   "source": [
    "fx([[0,0,0],[0,1,0],[0,0,0]])"
   ]
  },
  {
   "cell_type": "code",
   "execution_count": 3,
   "id": "8c909df7",
   "metadata": {},
   "outputs": [
    {
     "data": {
      "text/plain": [
       "1"
      ]
     },
     "execution_count": 3,
     "metadata": {},
     "output_type": "execute_result"
    }
   ],
   "source": [
    "fx([[0,1],[0,0]])"
   ]
  },
  {
   "cell_type": "code",
   "execution_count": null,
   "id": "53753043",
   "metadata": {},
   "outputs": [],
   "source": []
  }
 ],
 "metadata": {
  "kernelspec": {
   "display_name": "Python 3 (ipykernel)",
   "language": "python",
   "name": "python3"
  },
  "language_info": {
   "codemirror_mode": {
    "name": "ipython",
    "version": 3
   },
   "file_extension": ".py",
   "mimetype": "text/x-python",
   "name": "python",
   "nbconvert_exporter": "python",
   "pygments_lexer": "ipython3",
   "version": "3.10.6"
  }
 },
 "nbformat": 4,
 "nbformat_minor": 5
}
