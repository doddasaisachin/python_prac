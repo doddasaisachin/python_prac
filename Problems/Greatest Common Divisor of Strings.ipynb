{
 "cells": [
  {
   "cell_type": "markdown",
   "id": "c6c9c0fc",
   "metadata": {},
   "source": [
    "For two strings s and t, we say \"t divides s\" if and only if s = t + ... + t (i.e., t is concatenated with itself one or more times).\n",
    "\n",
    "Given two strings str1 and str2, return the largest string x such that x divides both str1 and str2.\n",
    "\n",
    " \n",
    "\n",
    "Example 1:\n",
    "\n",
    "Input: str1 = \"ABCABC\", str2 = \"ABC\"\n",
    "Output: \"ABC\"\n",
    "    \n",
    "Example 2:\n",
    "\n",
    "Input: str1 = \"ABABAB\", str2 = \"ABAB\"\n",
    "Output: \"AB\"\n",
    "    \n",
    "Example 3:\n",
    "\n",
    "Input: str1 = \"LEET\", str2 = \"CODE\"\n",
    "Output: \"\""
   ]
  },
  {
   "cell_type": "code",
   "execution_count": 24,
   "id": "e3a9f797",
   "metadata": {},
   "outputs": [],
   "source": [
    "def funt(str1: str, str2: str) -> str:\n",
    "    fin=''\n",
    "    if len(str1)>len(str2):\n",
    "        res=str2[0]\n",
    "        for i in range(1,len(str2)+1):\n",
    "            if (len(str1)%len(res)==0 and len(str2)%len(res)==0):\n",
    "                if (res*(len(str1)//len(res)))==str1 and (res*(len(str2)//len(res)))==str2:\n",
    "                    fin=res\n",
    "            if i<len(str2):\n",
    "                res=res+str2[i]\n",
    "    else:\n",
    "        res=str1[0]\n",
    "        for i in range(1,len(str1)+1):\n",
    "            if (len(str1)%len(res)==0 and len(str2)%len(res)==0):\n",
    "                if (res*(len(str1)//len(res)))==str1 and (res*(len(str2)//len(res)))==str2:\n",
    "                    fin=res\n",
    "            if i<len(str1):\n",
    "                res=res+str1[i]\n",
    "    return fin"
   ]
  },
  {
   "cell_type": "code",
   "execution_count": 25,
   "id": "a9241134",
   "metadata": {},
   "outputs": [
    {
     "data": {
      "text/plain": [
       "'ABC'"
      ]
     },
     "execution_count": 25,
     "metadata": {},
     "output_type": "execute_result"
    }
   ],
   "source": [
    "funt(\"ABCABC\", str2 = \"ABC\")"
   ]
  },
  {
   "cell_type": "code",
   "execution_count": 26,
   "id": "37a774af",
   "metadata": {},
   "outputs": [
    {
     "data": {
      "text/plain": [
       "'AB'"
      ]
     },
     "execution_count": 26,
     "metadata": {},
     "output_type": "execute_result"
    }
   ],
   "source": [
    "funt(\"ABABAB\", str2 = \"ABAB\")"
   ]
  },
  {
   "cell_type": "code",
   "execution_count": 27,
   "id": "fe30cb20",
   "metadata": {},
   "outputs": [
    {
     "data": {
      "text/plain": [
       "''"
      ]
     },
     "execution_count": 27,
     "metadata": {},
     "output_type": "execute_result"
    }
   ],
   "source": [
    "funt(str1 = \"LEET\", str2 = \"CODE\")"
   ]
  }
 ],
 "metadata": {
  "kernelspec": {
   "display_name": "Python 3 (ipykernel)",
   "language": "python",
   "name": "python3"
  },
  "language_info": {
   "codemirror_mode": {
    "name": "ipython",
    "version": 3
   },
   "file_extension": ".py",
   "mimetype": "text/x-python",
   "name": "python",
   "nbconvert_exporter": "python",
   "pygments_lexer": "ipython3",
   "version": "3.10.1"
  }
 },
 "nbformat": 4,
 "nbformat_minor": 5
}
