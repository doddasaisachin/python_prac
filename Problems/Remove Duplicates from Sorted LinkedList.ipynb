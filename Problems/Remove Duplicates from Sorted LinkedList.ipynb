{
 "cells": [
  {
   "cell_type": "markdown",
   "id": "9bf1316b",
   "metadata": {},
   "source": [
    "Given the head of a sorted linked list, delete all duplicates such that each element appears only once. Return the linked list sorted as well.\n",
    "\n",
    " \n",
    "\n",
    "### Example 1:\n",
    "\n",
    "\n",
    "Input: head = [1,1,2]\n",
    "Output: [1,2]\n",
    "    \n",
    "### Example 2:\n",
    "\n",
    "\n",
    "Input: head = [1,1,2,3,3]\n",
    "Output: [1,2,3]"
   ]
  },
  {
   "cell_type": "code",
   "execution_count": 26,
   "id": "8de18ece",
   "metadata": {},
   "outputs": [],
   "source": [
    "class Node:\n",
    "    def __init__(self,data):\n",
    "        self.data=data\n",
    "        self.next=None"
   ]
  },
  {
   "cell_type": "code",
   "execution_count": 27,
   "id": "5536e026",
   "metadata": {},
   "outputs": [],
   "source": [
    "def Add_Nodes(elements,head):\n",
    "    temp=head\n",
    "    idx=0\n",
    "    while idx<len(elements):\n",
    "        temp.next=Node(elements[idx])\n",
    "        idx+=1\n",
    "        temp=temp.next"
   ]
  },
  {
   "cell_type": "code",
   "execution_count": 28,
   "id": "194faa8b",
   "metadata": {},
   "outputs": [],
   "source": [
    "def Print_list(head):\n",
    "    itr=head\n",
    "    array=[]\n",
    "    while itr:\n",
    "        array.append(itr.data)\n",
    "        itr=itr.next\n",
    "    return array"
   ]
  },
  {
   "cell_type": "code",
   "execution_count": 29,
   "id": "e6f27c8d",
   "metadata": {},
   "outputs": [],
   "source": [
    "head1=Node(1)"
   ]
  },
  {
   "cell_type": "code",
   "execution_count": 30,
   "id": "729bea42",
   "metadata": {},
   "outputs": [],
   "source": [
    "Add_Nodes([1,2,3,3],head1)"
   ]
  },
  {
   "cell_type": "code",
   "execution_count": 31,
   "id": "c34df193",
   "metadata": {},
   "outputs": [
    {
     "data": {
      "text/plain": [
       "[1, 1, 2, 3, 3]"
      ]
     },
     "execution_count": 31,
     "metadata": {},
     "output_type": "execute_result"
    }
   ],
   "source": [
    "Print_list(head1)"
   ]
  },
  {
   "cell_type": "code",
   "execution_count": 32,
   "id": "5f47d4d2",
   "metadata": {},
   "outputs": [],
   "source": [
    "def remove_dup(head) :\n",
    "    temp=head\n",
    "    if head is None:\n",
    "        return \n",
    "    if temp.next is None:\n",
    "        return head\n",
    "    while temp.next.next is not None:\n",
    "        if temp.data==temp.next.data:\n",
    "            temp.next=temp.next.next\n",
    "        else:\n",
    "            temp=temp.next\n",
    "    if temp.data==temp.next.data:\n",
    "        temp.next=None       \n",
    "    return head"
   ]
  },
  {
   "cell_type": "code",
   "execution_count": 33,
   "id": "8137b65c",
   "metadata": {},
   "outputs": [
    {
     "data": {
      "text/plain": [
       "<__main__.Node at 0x178130ab0d0>"
      ]
     },
     "execution_count": 33,
     "metadata": {},
     "output_type": "execute_result"
    }
   ],
   "source": [
    "remove_dup(head1)"
   ]
  },
  {
   "cell_type": "code",
   "execution_count": 34,
   "id": "de0f23f5",
   "metadata": {},
   "outputs": [
    {
     "data": {
      "text/plain": [
       "[1, 2, 3]"
      ]
     },
     "execution_count": 34,
     "metadata": {},
     "output_type": "execute_result"
    }
   ],
   "source": [
    "Print_list(head1)"
   ]
  },
  {
   "cell_type": "code",
   "execution_count": null,
   "id": "26e2414d",
   "metadata": {},
   "outputs": [],
   "source": []
  }
 ],
 "metadata": {
  "kernelspec": {
   "display_name": "Python 3 (ipykernel)",
   "language": "python",
   "name": "python3"
  },
  "language_info": {
   "codemirror_mode": {
    "name": "ipython",
    "version": 3
   },
   "file_extension": ".py",
   "mimetype": "text/x-python",
   "name": "python",
   "nbconvert_exporter": "python",
   "pygments_lexer": "ipython3",
   "version": "3.10.6"
  }
 },
 "nbformat": 4,
 "nbformat_minor": 5
}
