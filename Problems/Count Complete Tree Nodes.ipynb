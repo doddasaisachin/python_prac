{
 "cells": [
  {
   "cell_type": "markdown",
   "id": "427715e1",
   "metadata": {},
   "source": [
    "Given the root of a complete binary tree, return the number of the nodes in the tree.\n",
    "\n",
    "According to Wikipedia, every level, except possibly the last, is completely filled in a complete binary tree, and all nodes in the last level are as far left as possible. It can have between 1 and 2h nodes inclusive at the last level h."
   ]
  },
  {
   "cell_type": "code",
   "execution_count": 1,
   "id": "c17ddc5e",
   "metadata": {},
   "outputs": [],
   "source": [
    "def inorder(root):\n",
    "    res=0\n",
    "    if root is None:\n",
    "        return 0\n",
    "    if root.left:\n",
    "        res+=inorder(root.left)\n",
    "    res+=1\n",
    "    if root.right:\n",
    "        res+=inorder(root.right)\n",
    "    return res\n",
    "def countNodes(root):\n",
    "        return inorder(root)"
   ]
  }
 ],
 "metadata": {
  "kernelspec": {
   "display_name": "Python 3 (ipykernel)",
   "language": "python",
   "name": "python3"
  },
  "language_info": {
   "codemirror_mode": {
    "name": "ipython",
    "version": 3
   },
   "file_extension": ".py",
   "mimetype": "text/x-python",
   "name": "python",
   "nbconvert_exporter": "python",
   "pygments_lexer": "ipython3",
   "version": "3.10.6"
  }
 },
 "nbformat": 4,
 "nbformat_minor": 5
}
