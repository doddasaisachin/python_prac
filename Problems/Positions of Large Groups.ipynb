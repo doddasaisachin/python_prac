{
 "cells": [
  {
   "cell_type": "markdown",
   "id": "f0df8569",
   "metadata": {},
   "source": [
    "In a string s of lowercase letters, these letters form consecutive groups of the same character.\n",
    "\n",
    "For example, a string like s = \"abbxxxxzyy\" has the groups \"a\", \"bb\", \"xxxx\", \"z\", and \"yy\".\n",
    "\n",
    "A group is identified by an interval [start, end], where start and end denote the start and end indices (inclusive) of the group. In the above example, \"xxxx\" has the interval [3,6].\n",
    "\n",
    "A group is considered large if it has 3 or more characters.\n",
    "\n",
    "Return the intervals of every large group sorted in increasing order by start index.\n",
    "\n",
    " \n",
    "\n",
    "Example 1:\n",
    "\n",
    "Input: s = \"abbxxxxzzy\"\n",
    "Output: [[3,6]]\n",
    "Explanation: \"xxxx\" is the only large group with start index 3 and end index 6.\n",
    "    \n",
    "Example 2:\n",
    "\n",
    "Input: s = \"abc\"\n",
    "Output: []\n",
    "Explanation: We have groups \"a\", \"b\", and \"c\", none of which are large groups.\n",
    "    \n",
    "Example 3:\n",
    "\n",
    "Input: s = \"abcdddeeeeaabbbcd\"\n",
    "Output: [[3,5],[6,9],[12,14]]\n",
    "Explanation: The large groups are \"ddd\", \"eeee\", and \"bbb\"."
   ]
  },
  {
   "cell_type": "code",
   "execution_count": 1,
   "id": "b9bbbe57",
   "metadata": {},
   "outputs": [],
   "source": [
    "def fx(s):\n",
    "    idx=0\n",
    "    l,r=0,0\n",
    "    res=[]\n",
    "    while idx<len(s)-1:\n",
    "        ele=s[idx]\n",
    "        c=1\n",
    "        l=idx\n",
    "        while idx+1<len(s) and s[idx+1]==ele:\n",
    "            idx+=1\n",
    "            c+=1\n",
    "        r=idx\n",
    "        if c>=3:\n",
    "            res.append([l,r])\n",
    "        idx+=1\n",
    "    return res"
   ]
  },
  {
   "cell_type": "code",
   "execution_count": 2,
   "id": "0382d43a",
   "metadata": {},
   "outputs": [
    {
     "data": {
      "text/plain": [
       "[[3, 6]]"
      ]
     },
     "execution_count": 2,
     "metadata": {},
     "output_type": "execute_result"
    }
   ],
   "source": [
    "fx(\"abbxxxxzzy\")"
   ]
  },
  {
   "cell_type": "code",
   "execution_count": 3,
   "id": "0f64632a",
   "metadata": {},
   "outputs": [
    {
     "data": {
      "text/plain": [
       "[[3, 5], [6, 9], [12, 14]]"
      ]
     },
     "execution_count": 3,
     "metadata": {},
     "output_type": "execute_result"
    }
   ],
   "source": [
    "fx(\"abcdddeeeeaabbbcd\")"
   ]
  },
  {
   "cell_type": "code",
   "execution_count": null,
   "id": "f12e01d0",
   "metadata": {},
   "outputs": [],
   "source": []
  }
 ],
 "metadata": {
  "kernelspec": {
   "display_name": "Python 3 (ipykernel)",
   "language": "python",
   "name": "python3"
  },
  "language_info": {
   "codemirror_mode": {
    "name": "ipython",
    "version": 3
   },
   "file_extension": ".py",
   "mimetype": "text/x-python",
   "name": "python",
   "nbconvert_exporter": "python",
   "pygments_lexer": "ipython3",
   "version": "3.10.6"
  }
 },
 "nbformat": 4,
 "nbformat_minor": 5
}
