{
 "cells": [
  {
   "cell_type": "markdown",
   "id": "8c61f8c4",
   "metadata": {},
   "source": [
    "You are given a positive integer array skill of even length n where skill[i] denotes the skill of the ith player. Divide the players into n / 2 teams of size 2 such that the total skill of each team is equal.\n",
    "\n",
    "The chemistry of a team is equal to the product of the skills of the players on that team.\n",
    "\n",
    "Return the sum of the chemistry of all the teams, or return -1 if there is no way to divide the players into teams such that the total skill of each team is equal."
   ]
  },
  {
   "cell_type": "code",
   "execution_count": 1,
   "id": "be81a474",
   "metadata": {},
   "outputs": [],
   "source": [
    "def fx(skill):\n",
    "    skill.sort()\n",
    "    left=0\n",
    "    right=len(skill)-1\n",
    "    com=skill[0]+skill[-1]\n",
    "    res=0\n",
    "    while left<right:\n",
    "        temp=skill[left]+skill[right]\n",
    "        if temp==com:\n",
    "            res=res+(skill[left]*skill[right])\n",
    "        else:\n",
    "            return -1\n",
    "        left+=1\n",
    "        right-=1\n",
    "    return res"
   ]
  },
  {
   "cell_type": "code",
   "execution_count": 2,
   "id": "b594357d",
   "metadata": {},
   "outputs": [
    {
     "data": {
      "text/plain": [
       "22"
      ]
     },
     "execution_count": 2,
     "metadata": {},
     "output_type": "execute_result"
    }
   ],
   "source": [
    "fx([1,3,2,3,5,4])"
   ]
  },
  {
   "cell_type": "code",
   "execution_count": null,
   "id": "33de00be",
   "metadata": {},
   "outputs": [],
   "source": []
  }
 ],
 "metadata": {
  "kernelspec": {
   "display_name": "Python 3 (ipykernel)",
   "language": "python",
   "name": "python3"
  },
  "language_info": {
   "codemirror_mode": {
    "name": "ipython",
    "version": 3
   },
   "file_extension": ".py",
   "mimetype": "text/x-python",
   "name": "python",
   "nbconvert_exporter": "python",
   "pygments_lexer": "ipython3",
   "version": "3.10.6"
  }
 },
 "nbformat": 4,
 "nbformat_minor": 5
}
