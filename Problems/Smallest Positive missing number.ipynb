{
 "cells": [
  {
   "cell_type": "markdown",
   "id": "17b1eafb",
   "metadata": {},
   "source": [
    "Given an array arr[] of size N, find the smallest positive number missing from the array."
   ]
  },
  {
   "cell_type": "markdown",
   "id": "3f728a18",
   "metadata": {},
   "source": [
    "##### Example 1:\n",
    "\n",
    "Input:\n",
    "N = 5\n",
    "arr[] = {1,2,3,4,5}\n",
    "Output: 6\n",
    "Explanation: Smallest positive missing\n",
    "number is 6."
   ]
  },
  {
   "cell_type": "markdown",
   "id": "d85ae691",
   "metadata": {},
   "source": [
    "##### Example 2:\n",
    "\n",
    "Input:\n",
    "N = 5\n",
    "arr[] = {0,-10,1,3,-20}\n",
    "Output: 2"
   ]
  },
  {
   "cell_type": "code",
   "execution_count": 12,
   "id": "c0a713ba",
   "metadata": {},
   "outputs": [],
   "source": [
    "def func(arr):\n",
    "    new=[]\n",
    "    for i in arr:\n",
    "        if i>0:\n",
    "            new.append(i)\n",
    "    new=sorted(new)\n",
    "    idx=1\n",
    "    while True:\n",
    "        if idx==new[-1]:\n",
    "            return (new[-1]+1)\n",
    "        if idx not in new:\n",
    "            return idx\n",
    "        idx=idx+1"
   ]
  },
  {
   "cell_type": "code",
   "execution_count": 13,
   "id": "2cf384c6",
   "metadata": {},
   "outputs": [
    {
     "data": {
      "text/plain": [
       "6"
      ]
     },
     "execution_count": 13,
     "metadata": {},
     "output_type": "execute_result"
    }
   ],
   "source": [
    "func([1,2,3,4,5])"
   ]
  },
  {
   "cell_type": "code",
   "execution_count": 14,
   "id": "02b34031",
   "metadata": {},
   "outputs": [
    {
     "data": {
      "text/plain": [
       "2"
      ]
     },
     "execution_count": 14,
     "metadata": {},
     "output_type": "execute_result"
    }
   ],
   "source": [
    "func([0,-10,1,3,-20])"
   ]
  },
  {
   "cell_type": "code",
   "execution_count": 18,
   "id": "72268142",
   "metadata": {},
   "outputs": [],
   "source": [
    "def fun(arr):\n",
    "#     new=[]\n",
    "#     for i in arr:\n",
    "#         if i>0:\n",
    "#             new.append(i)\n",
    "    arr=sorted(arr)\n",
    "    ele=max(arr)\n",
    "    idx=1\n",
    "    while True:\n",
    "        if idx==ele:\n",
    "            return (ele+1)\n",
    "        if idx not in arr:\n",
    "            return idx\n",
    "        idx=idx+1"
   ]
  },
  {
   "cell_type": "code",
   "execution_count": 19,
   "id": "a970c247",
   "metadata": {},
   "outputs": [
    {
     "data": {
      "text/plain": [
       "6"
      ]
     },
     "execution_count": 19,
     "metadata": {},
     "output_type": "execute_result"
    }
   ],
   "source": [
    "fun([1,2,3,4,5])"
   ]
  },
  {
   "cell_type": "code",
   "execution_count": 20,
   "id": "d7c88c2f",
   "metadata": {},
   "outputs": [
    {
     "data": {
      "text/plain": [
       "1"
      ]
     },
     "execution_count": 20,
     "metadata": {},
     "output_type": "execute_result"
    }
   ],
   "source": [
    "fun([-1,-2,-0,3,2])"
   ]
  },
  {
   "cell_type": "code",
   "execution_count": null,
   "id": "e7a3aa16",
   "metadata": {},
   "outputs": [],
   "source": []
  }
 ],
 "metadata": {
  "kernelspec": {
   "display_name": "Python 3 (ipykernel)",
   "language": "python",
   "name": "python3"
  },
  "language_info": {
   "codemirror_mode": {
    "name": "ipython",
    "version": 3
   },
   "file_extension": ".py",
   "mimetype": "text/x-python",
   "name": "python",
   "nbconvert_exporter": "python",
   "pygments_lexer": "ipython3",
   "version": "3.10.6"
  }
 },
 "nbformat": 4,
 "nbformat_minor": 5
}
