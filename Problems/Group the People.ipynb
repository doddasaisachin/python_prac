{
 "cells": [
  {
   "cell_type": "markdown",
   "id": "9835b726",
   "metadata": {},
   "source": [
    "There are n people that are split into some unknown number of groups. Each person is labeled with a unique ID from 0 to n - 1.\n",
    "\n",
    "You are given an integer array groupSizes, where groupSizes[i] is the size of the group that person i is in. For example, if groupSizes[1] = 3, then person 1 must be in a group of size 3.\n",
    "\n",
    "Return a list of groups such that each person i is in a group of size groupSizes[i].\n",
    "\n",
    "Each person should appear in exactly one group, and every person must be in a group. If there are multiple answers, return any of them. It is guaranteed that there will be at least one valid solution for the given input.\n",
    "\n",
    " "
   ]
  },
  {
   "cell_type": "markdown",
   "id": "3ce6e4f6",
   "metadata": {},
   "source": [
    "### Example 1:\n",
    "\n",
    "Input: groupSizes = [3,3,3,3,3,1,3]\n",
    "Output: [[5],[0,1,2],[3,4,6]]\n",
    "Explanation: \n",
    "The first group is [5]. The size is 1, and groupSizes[5] = 1.\n",
    "The second group is [0,1,2]. The size is 3, and groupSizes[0] = groupSizes[1] = groupSizes[2] = 3.\n",
    "The third group is [3,4,6]. The size is 3, and groupSizes[3] = groupSizes[4] = groupSizes[6] = 3.\n",
    "Other possible solutions are [[2,1,6],[5],[0,4,3]] and [[5],[0,6,2],[4,3,1]]."
   ]
  },
  {
   "cell_type": "markdown",
   "id": "3cbfa9ac",
   "metadata": {},
   "source": [
    "### Example 2:\n",
    "\n",
    "Input: groupSizes = [2,1,3,3,3,2]\n",
    "Output: [[1],[0,5],[2,3,4]]"
   ]
  },
  {
   "cell_type": "code",
   "execution_count": 1,
   "id": "108f21e8",
   "metadata": {},
   "outputs": [],
   "source": [
    "from typing import List"
   ]
  },
  {
   "cell_type": "code",
   "execution_count": 73,
   "id": "a5c793f0",
   "metadata": {},
   "outputs": [],
   "source": [
    "def GroupThePeople(groupSizes : List[int]) -> List[List[int]]:\n",
    "    dictionary=dict()\n",
    "    for i in range(len(groupSizes)):\n",
    "        ele=groupSizes[i]\n",
    "        if ele not in dictionary.keys():\n",
    "            temp=[]\n",
    "            temp.append(i)\n",
    "            dictionary[ele]=temp\n",
    "        else:\n",
    "            dictionary[ele].append(i)\n",
    "    dix=sorted(dictionary)\n",
    "    print(dix)\n",
    "    print(dictionary)\n",
    "    result_array=[]\n",
    "    for i in dix:\n",
    "        if len(dictionary[i])==i:\n",
    "            result_array.append(dictionary[i])\n",
    "        else:\n",
    "            fac=len(dictionary[i])//i\n",
    "            for k in range(fac):\n",
    "                result_array.append(dictionary[i][(k*i):(k*i)+i])\n",
    "    return result_array"
   ]
  },
  {
   "cell_type": "code",
   "execution_count": 74,
   "id": "55216e0d",
   "metadata": {},
   "outputs": [
    {
     "name": "stdout",
     "output_type": "stream",
     "text": [
      "[1, 3]\n",
      "{3: [0, 1, 2, 3, 4, 6], 1: [5]}\n"
     ]
    },
    {
     "data": {
      "text/plain": [
       "[[5], [0, 1, 2], [3, 4, 6]]"
      ]
     },
     "execution_count": 74,
     "metadata": {},
     "output_type": "execute_result"
    }
   ],
   "source": [
    "GroupThePeople([3,3,3,3,3,1,3])"
   ]
  },
  {
   "cell_type": "code",
   "execution_count": 75,
   "id": "4b3d620e",
   "metadata": {},
   "outputs": [
    {
     "name": "stdout",
     "output_type": "stream",
     "text": [
      "[1, 2, 3]\n",
      "{2: [0, 5], 1: [1], 3: [2, 3, 4]}\n"
     ]
    },
    {
     "data": {
      "text/plain": [
       "[[1], [0, 5], [2, 3, 4]]"
      ]
     },
     "execution_count": 75,
     "metadata": {},
     "output_type": "execute_result"
    }
   ],
   "source": [
    "GroupThePeople([2,1,3,3,3,2])"
   ]
  },
  {
   "cell_type": "code",
   "execution_count": null,
   "id": "19b4c106",
   "metadata": {},
   "outputs": [],
   "source": []
  }
 ],
 "metadata": {
  "kernelspec": {
   "display_name": "Python 3 (ipykernel)",
   "language": "python",
   "name": "python3"
  },
  "language_info": {
   "codemirror_mode": {
    "name": "ipython",
    "version": 3
   },
   "file_extension": ".py",
   "mimetype": "text/x-python",
   "name": "python",
   "nbconvert_exporter": "python",
   "pygments_lexer": "ipython3",
   "version": "3.10.6"
  }
 },
 "nbformat": 4,
 "nbformat_minor": 5
}
