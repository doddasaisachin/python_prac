{
 "cells": [
  {
   "cell_type": "raw",
   "id": "33737b18",
   "metadata": {},
   "source": [
    "Given a string S. In one operation, you can remove the substring \"pr\" from the string S \n",
    "and get amount X or you can remove the substring \"rp\" and get the amount Y. \n",
    "Find the maximum amount you can get if you perform zero or more such operations optimally. "
   ]
  },
  {
   "cell_type": "raw",
   "id": "e37e4a4a",
   "metadata": {},
   "source": [
    "Example :\n",
    "Input :\n",
    "X = 5, Y = 4\n",
    "S = \"abppprrr\"\n",
    "Output: 15\n",
    "Explanation: \n",
    "Here, S = \"abppprrr\" \n",
    "X= 5, Y=4.\n",
    "Remove \"pr\", new string S = \"abpprr\".\n",
    "Remove \"pr\", new string S = \"abpr\".\n",
    "Remove \"pr\", new string S = \"ab\".\n",
    "In total, we removed \"pr\" 3 times, \n",
    "so total score is 3*X + 0*Y = 3*5 =15."
   ]
  },
  {
   "cell_type": "code",
   "execution_count": 24,
   "id": "35c21c42",
   "metadata": {},
   "outputs": [],
   "source": [
    "xstr='pr'\n",
    "ystr='rp'\n",
    "def join(l):\n",
    "    res=''\n",
    "    for i in l:\n",
    "        res+=i\n",
    "    return res\n",
    "def func(X,Y,S):\n",
    "    xt=''\n",
    "    yt=''\n",
    "    while (xstr in S) or (ystr in S):\n",
    "        s=[i for i in S]\n",
    "        if X>Y:\n",
    "            while xstr in S:\n",
    "                for i in range(len(s)-1):\n",
    "                    if s[i]==xstr[0] and s[i+1]==xstr[1]:\n",
    "                        s.pop(i)\n",
    "                        s.pop(i)\n",
    "                        xt+='x'\n",
    "                        S=join(s)\n",
    "                        break\n",
    "            for i in range(len(s)-1):\n",
    "                if s[i]==ystr[0] and s[i+1]==ystr[1]:\n",
    "                    s.pop(i)\n",
    "                    s.pop(i)\n",
    "                    yt+='y'\n",
    "                    S=join(s)\n",
    "                    break\n",
    "        else:\n",
    "            while ystr in S:\n",
    "                for i in range(len(s)-1):\n",
    "                    if s[i]==ystr[0] and s[i+1]==ystr[1]:\n",
    "                        s.pop(i)\n",
    "                        s.pop(i)\n",
    "                        yt+='y'\n",
    "                        S=join(s)\n",
    "                        break\n",
    "            for i in range(len(s)-1):\n",
    "                if s[i]==xstr[0] and s[i+1]==xstr[1]:\n",
    "                    s.pop(i)\n",
    "                    s.pop(i)\n",
    "                    xt+='x'\n",
    "                    S=join(s)\n",
    "                    break            \n",
    "    return ((X*(len(xt)))+(Y*(len(yt))))"
   ]
  },
  {
   "cell_type": "code",
   "execution_count": 26,
   "id": "468d3ba6",
   "metadata": {},
   "outputs": [
    {
     "data": {
      "text/plain": [
       "15"
      ]
     },
     "execution_count": 26,
     "metadata": {},
     "output_type": "execute_result"
    }
   ],
   "source": [
    "func(5,4,\"abppprrr\")"
   ]
  }
 ],
 "metadata": {
  "kernelspec": {
   "display_name": "Python 3 (ipykernel)",
   "language": "python",
   "name": "python3"
  },
  "language_info": {
   "codemirror_mode": {
    "name": "ipython",
    "version": 3
   },
   "file_extension": ".py",
   "mimetype": "text/x-python",
   "name": "python",
   "nbconvert_exporter": "python",
   "pygments_lexer": "ipython3",
   "version": "3.10.6"
  }
 },
 "nbformat": 4,
 "nbformat_minor": 5
}
