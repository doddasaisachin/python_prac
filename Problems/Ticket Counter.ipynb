{
 "cells": [
  {
   "cell_type": "markdown",
   "id": "dc8eff83",
   "metadata": {},
   "source": [
    "N people from 1 to N are standing in the queue at a movie ticket counter. It is a weird counter, as it distributes tickets to the first K people and then the last K people and again first K people and so on, once a person gets a ticket moves out of the queue. The task is to find the last person to get the ticket."
   ]
  },
  {
   "cell_type": "markdown",
   "id": "58662fdd",
   "metadata": {},
   "source": [
    "Example 1\n",
    "\n",
    "Input:\n",
    "N = 9\n",
    "K = 3\n",
    "Output:\n",
    "6\n",
    "Explanation:\n",
    "Starting queue will like {1, 2, 3, 4, 5, 6, 7, 8, 9}. After the first distribution queue will look like {4, 5, 6, 7, 8, 9}. And after the second distribution queue will look like {4, 5, 6}. The last person to get the ticket will be 6."
   ]
  },
  {
   "cell_type": "markdown",
   "id": "fc7d484c",
   "metadata": {},
   "source": [
    "Example 2\n",
    "\n",
    "Input:\n",
    "N = 5\n",
    "K = 1\n",
    "Output:\n",
    "3\n",
    "Explanation:\n",
    "Queue start as {1, 2, 3, 4, 5} -> {2, 3, 4, 5} -> {2, 3, 4} -> {3, 4} -> {3}\n",
    "Last person to get ticket will be 3."
   ]
  },
  {
   "cell_type": "code",
   "execution_count": 58,
   "id": "e80d94dd",
   "metadata": {},
   "outputs": [],
   "source": [
    "def check(arr,k):\n",
    "    if len(arr)==k:\n",
    "        return True\n",
    "def func(n,k):\n",
    "    arr=[i for i in range(1,n+1)]\n",
    "    while len(arr)>k:\n",
    "        if check(arr,k):\n",
    "            return arr[-1]\n",
    "        arr=arr[k:]\n",
    "        if check(arr,k):\n",
    "            return arr[0]\n",
    "        if len(arr)>k:\n",
    "            arr=arr[:len(arr)-k]\n",
    "        else:\n",
    "            return arr[0]\n",
    "    return arr[-1]"
   ]
  },
  {
   "cell_type": "code",
   "execution_count": 59,
   "id": "1d63e3d8",
   "metadata": {},
   "outputs": [
    {
     "data": {
      "text/plain": [
       "18"
      ]
     },
     "execution_count": 59,
     "metadata": {},
     "output_type": "execute_result"
    }
   ],
   "source": [
    "func(28,10)"
   ]
  },
  {
   "cell_type": "code",
   "execution_count": 60,
   "id": "42934cc4",
   "metadata": {},
   "outputs": [
    {
     "data": {
      "text/plain": [
       "3"
      ]
     },
     "execution_count": 60,
     "metadata": {},
     "output_type": "execute_result"
    }
   ],
   "source": [
    "func(5,1)"
   ]
  },
  {
   "cell_type": "code",
   "execution_count": 61,
   "id": "05d18f4b",
   "metadata": {},
   "outputs": [
    {
     "data": {
      "text/plain": [
       "6"
      ]
     },
     "execution_count": 61,
     "metadata": {},
     "output_type": "execute_result"
    }
   ],
   "source": [
    "func(9,3)"
   ]
  },
  {
   "cell_type": "code",
   "execution_count": 62,
   "id": "5272d911",
   "metadata": {},
   "outputs": [
    {
     "data": {
      "text/plain": [
       "100"
      ]
     },
     "execution_count": 62,
     "metadata": {},
     "output_type": "execute_result"
    }
   ],
   "source": [
    "func(100,99)"
   ]
  },
  {
   "cell_type": "code",
   "execution_count": 63,
   "id": "3639bf71",
   "metadata": {},
   "outputs": [
    {
     "data": {
      "text/plain": [
       "10"
      ]
     },
     "execution_count": 63,
     "metadata": {},
     "output_type": "execute_result"
    }
   ],
   "source": [
    "func(14,9)"
   ]
  }
 ],
 "metadata": {
  "kernelspec": {
   "display_name": "Python 3 (ipykernel)",
   "language": "python",
   "name": "python3"
  },
  "language_info": {
   "codemirror_mode": {
    "name": "ipython",
    "version": 3
   },
   "file_extension": ".py",
   "mimetype": "text/x-python",
   "name": "python",
   "nbconvert_exporter": "python",
   "pygments_lexer": "ipython3",
   "version": "3.10.6"
  }
 },
 "nbformat": 4,
 "nbformat_minor": 5
}
