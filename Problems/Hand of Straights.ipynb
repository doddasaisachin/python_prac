{
 "cells": [
  {
   "cell_type": "markdown",
   "id": "f7f8c6a0",
   "metadata": {},
   "source": [
    "Alice has some number of cards and she wants to rearrange the cards into groups so that each group is of size groupSize, and consists of groupSize consecutive cards.\n",
    "\n",
    "Given an integer array hand where hand[i] is the value written on the ith card and an integer groupSize, return true if she can rearrange the cards, or false otherwise."
   ]
  },
  {
   "cell_type": "code",
   "execution_count": 12,
   "id": "80af5884",
   "metadata": {},
   "outputs": [],
   "source": [
    "def isNStraightHand(arr, n: int) -> bool:\n",
    "    st=min(arr)\n",
    "    if len(arr)%n!=0:\n",
    "        return False\n",
    "    while len(arr)>0:\n",
    "        if len(arr)!=n:\n",
    "            temp=list(set(arr))\n",
    "            temp.sort()\n",
    "            temp=temp[:n]\n",
    "        else:\n",
    "            temp=sorted(arr)\n",
    "        for i in range(n-1):\n",
    "            if temp[i]+1!=temp[i+1]:\n",
    "                return False\n",
    "        for k in temp:\n",
    "            arr.remove(k)\n",
    "    return True"
   ]
  },
  {
   "cell_type": "code",
   "execution_count": 13,
   "id": "5b00f9ff",
   "metadata": {},
   "outputs": [
    {
     "data": {
      "text/plain": [
       "True"
      ]
     },
     "execution_count": 13,
     "metadata": {},
     "output_type": "execute_result"
    }
   ],
   "source": [
    "isNStraightHand([8,8,9,7,7,7,6,7,10,6],2)"
   ]
  },
  {
   "cell_type": "code",
   "execution_count": null,
   "id": "b04333a9",
   "metadata": {},
   "outputs": [],
   "source": []
  }
 ],
 "metadata": {
  "kernelspec": {
   "display_name": "Python 3 (ipykernel)",
   "language": "python",
   "name": "python3"
  },
  "language_info": {
   "codemirror_mode": {
    "name": "ipython",
    "version": 3
   },
   "file_extension": ".py",
   "mimetype": "text/x-python",
   "name": "python",
   "nbconvert_exporter": "python",
   "pygments_lexer": "ipython3",
   "version": "3.11.7"
  }
 },
 "nbformat": 4,
 "nbformat_minor": 5
}
