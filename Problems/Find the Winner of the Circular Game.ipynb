{
 "cells": [
  {
   "cell_type": "markdown",
   "id": "a4d90a7e",
   "metadata": {},
   "source": [
    "There are n friends that are playing a game. The friends are sitting in a circle and are numbered from 1 to n in clockwise order. More formally, moving clockwise from the ith friend brings you to the (i+1)th friend for 1 <= i < n, and moving clockwise from the nth friend brings you to the 1st friend.\n",
    "\n",
    "The rules of the game are as follows:\n",
    "\n",
    "Start at the 1st friend.\n",
    "Count the next k friends in the clockwise direction including the friend you started at. The counting wraps around the circle and may count some friends more than once.\n",
    "The last friend you counted leaves the circle and loses the game.\n",
    "If there is still more than one friend in the circle, go back to step 2 starting from the friend immediately clockwise of the friend who just lost and repeat.\n",
    "Else, the last friend in the circle wins the game.\n",
    "Given the number of friends, n, and an integer k, return the winner of the game."
   ]
  },
  {
   "cell_type": "code",
   "execution_count": 3,
   "id": "b698301c",
   "metadata": {},
   "outputs": [],
   "source": [
    "def findTheWinner( n: int, k: int) -> int:\n",
    "    rem=0\n",
    "    arr=[i for i in range(1,n+1)]\n",
    "    idx=0\n",
    "    while rem<n-1:\n",
    "        for i in range(k-1):\n",
    "            if idx>=len(arr)-1:\n",
    "                idx=0\n",
    "            else:\n",
    "                idx+=1\n",
    "        arr.pop(idx)\n",
    "        if idx>=len(arr):\n",
    "            idx=len(arr)-idx\n",
    "        rem+=1\n",
    "#     print(arr,idx)\n",
    "    return arr[0]"
   ]
  },
  {
   "cell_type": "code",
   "execution_count": 4,
   "id": "a86939a0",
   "metadata": {},
   "outputs": [
    {
     "data": {
      "text/plain": [
       "3"
      ]
     },
     "execution_count": 4,
     "metadata": {},
     "output_type": "execute_result"
    }
   ],
   "source": [
    "findTheWinner(n = 5, k = 2)"
   ]
  },
  {
   "cell_type": "code",
   "execution_count": null,
   "id": "20e632a5",
   "metadata": {},
   "outputs": [],
   "source": []
  }
 ],
 "metadata": {
  "kernelspec": {
   "display_name": "Python 3 (ipykernel)",
   "language": "python",
   "name": "python3"
  },
  "language_info": {
   "codemirror_mode": {
    "name": "ipython",
    "version": 3
   },
   "file_extension": ".py",
   "mimetype": "text/x-python",
   "name": "python",
   "nbconvert_exporter": "python",
   "pygments_lexer": "ipython3",
   "version": "3.11.7"
  }
 },
 "nbformat": 4,
 "nbformat_minor": 5
}
