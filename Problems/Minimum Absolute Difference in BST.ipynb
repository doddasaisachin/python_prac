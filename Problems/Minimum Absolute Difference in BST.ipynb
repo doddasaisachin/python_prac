{
 "cells": [
  {
   "cell_type": "markdown",
   "id": "36c41eba",
   "metadata": {},
   "source": [
    "Given the root of a Binary Search Tree (BST), return the minimum absolute difference between the values of any two different nodes in the tree."
   ]
  },
  {
   "cell_type": "code",
   "execution_count": 2,
   "id": "d20ebe5f",
   "metadata": {},
   "outputs": [],
   "source": [
    "class TreeNode:\n",
    "    def __init__(self, val=0, left=None, right=None):\n",
    "        self.val = val\n",
    "        self.left = left\n",
    "        self.right = right"
   ]
  },
  {
   "cell_type": "code",
   "execution_count": 3,
   "id": "7f4cfa75",
   "metadata": {},
   "outputs": [],
   "source": [
    "def fx(root):\n",
    "    def inorder(r):\n",
    "        res=[]\n",
    "        if r.left:\n",
    "            res+=inorder(r.left)\n",
    "        res.append(r.val)\n",
    "        if r.right:\n",
    "            res+=inorder(r.right)\n",
    "        return res\n",
    "    arr=inorder(root)\n",
    "    m=float('inf')\n",
    "    for i in range(len(arr)-1):\n",
    "        m=min(m,arr[i+1]-arr[i])\n",
    "    return m"
   ]
  },
  {
   "cell_type": "code",
   "execution_count": null,
   "id": "ddb9aeed",
   "metadata": {},
   "outputs": [],
   "source": []
  }
 ],
 "metadata": {
  "kernelspec": {
   "display_name": "Python 3 (ipykernel)",
   "language": "python",
   "name": "python3"
  },
  "language_info": {
   "codemirror_mode": {
    "name": "ipython",
    "version": 3
   },
   "file_extension": ".py",
   "mimetype": "text/x-python",
   "name": "python",
   "nbconvert_exporter": "python",
   "pygments_lexer": "ipython3",
   "version": "3.10.6"
  }
 },
 "nbformat": 4,
 "nbformat_minor": 5
}
