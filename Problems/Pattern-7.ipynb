{
 "cells": [
  {
   "cell_type": "code",
   "execution_count": 6,
   "id": "bb2b27f3",
   "metadata": {},
   "outputs": [],
   "source": [
    "def pattern(n):\n",
    "    spaces=n-1\n",
    "    pat=1\n",
    "    while spaces>=0:\n",
    "        print(f\"{' '*spaces}{'X'*pat}{' '*spaces}\")\n",
    "        spaces-=1\n",
    "        pat+=2"
   ]
  },
  {
   "cell_type": "code",
   "execution_count": 10,
   "id": "8ad422db",
   "metadata": {},
   "outputs": [
    {
     "name": "stdout",
     "output_type": "stream",
     "text": [
      "   X   \n",
      "  XXX  \n",
      " XXXXX \n",
      "XXXXXXX\n"
     ]
    }
   ],
   "source": [
    "pattern(4)"
   ]
  },
  {
   "cell_type": "code",
   "execution_count": 11,
   "id": "12dbc4b8",
   "metadata": {},
   "outputs": [
    {
     "name": "stdout",
     "output_type": "stream",
     "text": [
      "      X      \n",
      "     XXX     \n",
      "    XXXXX    \n",
      "   XXXXXXX   \n",
      "  XXXXXXXXX  \n",
      " XXXXXXXXXXX \n",
      "XXXXXXXXXXXXX\n"
     ]
    }
   ],
   "source": [
    "pattern(7)"
   ]
  },
  {
   "cell_type": "code",
   "execution_count": null,
   "id": "338bb17b",
   "metadata": {},
   "outputs": [],
   "source": []
  }
 ],
 "metadata": {
  "kernelspec": {
   "display_name": "Python 3 (ipykernel)",
   "language": "python",
   "name": "python3"
  },
  "language_info": {
   "codemirror_mode": {
    "name": "ipython",
    "version": 3
   },
   "file_extension": ".py",
   "mimetype": "text/x-python",
   "name": "python",
   "nbconvert_exporter": "python",
   "pygments_lexer": "ipython3",
   "version": "3.10.6"
  }
 },
 "nbformat": 4,
 "nbformat_minor": 5
}
