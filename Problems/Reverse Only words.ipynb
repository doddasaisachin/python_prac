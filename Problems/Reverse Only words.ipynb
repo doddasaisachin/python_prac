{
 "cells": [
  {
   "cell_type": "markdown",
   "id": "e8b9bb81",
   "metadata": {},
   "source": [
    "Example 1 :\n",
    "\n",
    "\"a-bC-dEf-ghIj\"\n",
    "\n",
    "Output:\n",
    "\n",
    "\"a-Cb-fEd-jIhg\""
   ]
  },
  {
   "cell_type": "markdown",
   "id": "c152d58e",
   "metadata": {},
   "source": [
    "Example 2:\n",
    "\n",
    "\"Test1ng-Leet=code-Q!\"\n",
    "\n",
    "Output\n",
    "\n",
    "\"tseT1gn-teeL=edoc-Q!\""
   ]
  },
  {
   "cell_type": "code",
   "execution_count": 2,
   "id": "d7cadd72",
   "metadata": {},
   "outputs": [],
   "source": [
    "def fx(s):\n",
    "    res=\"\"\n",
    "    idx=0\n",
    "    n=len(s)\n",
    "    while idx<n:\n",
    "        temp=\"\"\n",
    "        while idx<n and s[idx].isalpha():\n",
    "            temp+=s[idx]\n",
    "            idx+=1\n",
    "        temp=temp[::-1]\n",
    "        if idx<n:\n",
    "            res+=temp+s[idx]\n",
    "        idx+=1\n",
    "    if s[-1].isalpha():\n",
    "        res=res+temp\n",
    "    return res"
   ]
  },
  {
   "cell_type": "code",
   "execution_count": 3,
   "id": "cd0cbe17",
   "metadata": {},
   "outputs": [
    {
     "data": {
      "text/plain": [
       "'tseT1gn-teeL=edoc-Q!'"
      ]
     },
     "execution_count": 3,
     "metadata": {},
     "output_type": "execute_result"
    }
   ],
   "source": [
    "fx(\"Test1ng-Leet=code-Q!\")"
   ]
  },
  {
   "cell_type": "code",
   "execution_count": null,
   "id": "c1e12cd1",
   "metadata": {},
   "outputs": [],
   "source": []
  }
 ],
 "metadata": {
  "kernelspec": {
   "display_name": "Python 3 (ipykernel)",
   "language": "python",
   "name": "python3"
  },
  "language_info": {
   "codemirror_mode": {
    "name": "ipython",
    "version": 3
   },
   "file_extension": ".py",
   "mimetype": "text/x-python",
   "name": "python",
   "nbconvert_exporter": "python",
   "pygments_lexer": "ipython3",
   "version": "3.10.6"
  }
 },
 "nbformat": 4,
 "nbformat_minor": 5
}
