{
 "cells": [
  {
   "cell_type": "markdown",
   "id": "fe081bd8",
   "metadata": {},
   "source": [
    "You are given an integer array nums consisting of n elements, and an integer k.\n",
    "\n",
    "Find a contiguous subarray whose length is equal to k that has the maximum average value and return this value. Any answer with a calculation error less than 10-5 will be accepted.\n",
    "\n",
    " \n",
    "\n",
    "Example 1:\n",
    "\n",
    "Input: nums = [1,12,-5,-6,50,3], k = 4\n",
    "Output: 12.75000\n",
    "Explanation: Maximum average is (12 - 5 - 6 + 50) / 4 = 51 / 4 = 12.75\n",
    "    \n",
    "Example 2:\n",
    "\n",
    "Input: nums = [5], k = 1\n",
    "Output: 5.00000"
   ]
  },
  {
   "cell_type": "code",
   "execution_count": 18,
   "id": "d3414038",
   "metadata": {},
   "outputs": [],
   "source": [
    "def fx(nums,k):\n",
    "    avg=-9999999\n",
    "    temp=0\n",
    "    idx=0\n",
    "    for i in range(len(nums)):\n",
    "        if idx<k:\n",
    "            temp+=nums[i]\n",
    "            idx+=1\n",
    "        else:\n",
    "            temp+=nums[i]\n",
    "            temp-=nums[idx-k]\n",
    "            idx+=1\n",
    "        if idx>=k and (temp/k)>avg:\n",
    "            avg=temp/k\n",
    "    return avg"
   ]
  },
  {
   "cell_type": "code",
   "execution_count": 19,
   "id": "21a9a94f",
   "metadata": {},
   "outputs": [
    {
     "data": {
      "text/plain": [
       "12.75"
      ]
     },
     "execution_count": 19,
     "metadata": {},
     "output_type": "execute_result"
    }
   ],
   "source": [
    "fx([1,12,-5,-6,50,3], k = 4)"
   ]
  },
  {
   "cell_type": "code",
   "execution_count": 20,
   "id": "81a8a4c8",
   "metadata": {},
   "outputs": [
    {
     "data": {
      "text/plain": [
       "5.0"
      ]
     },
     "execution_count": 20,
     "metadata": {},
     "output_type": "execute_result"
    }
   ],
   "source": [
    "fx([5],1)"
   ]
  },
  {
   "cell_type": "code",
   "execution_count": null,
   "id": "8c553fd8",
   "metadata": {},
   "outputs": [],
   "source": []
  }
 ],
 "metadata": {
  "kernelspec": {
   "display_name": "Python 3 (ipykernel)",
   "language": "python",
   "name": "python3"
  },
  "language_info": {
   "codemirror_mode": {
    "name": "ipython",
    "version": 3
   },
   "file_extension": ".py",
   "mimetype": "text/x-python",
   "name": "python",
   "nbconvert_exporter": "python",
   "pygments_lexer": "ipython3",
   "version": "3.10.6"
  }
 },
 "nbformat": 4,
 "nbformat_minor": 5
}
