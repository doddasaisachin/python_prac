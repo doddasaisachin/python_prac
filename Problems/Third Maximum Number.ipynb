{
 "cells": [
  {
   "cell_type": "markdown",
   "id": "b5e1af81",
   "metadata": {},
   "source": [
    "Given an integer array nums, return the third distinct maximum number in this array. If the third maximum does not exist, return the maximum number."
   ]
  },
  {
   "cell_type": "markdown",
   "id": "86cdaf35",
   "metadata": {},
   "source": [
    "Example 2:\n",
    "\n",
    "Input: nums = [1,2]\n",
    "Output: 2\n",
    "\n",
    "Explanation:\n",
    "The first distinct maximum is 2.\n",
    "The second distinct maximum is 1.\n",
    "The third distinct maximum does not exist, so the maximum (2) is returned instead."
   ]
  },
  {
   "cell_type": "code",
   "execution_count": 13,
   "id": "adf894bf",
   "metadata": {},
   "outputs": [],
   "source": [
    "def func(nums):\n",
    "    if len(set(nums))>=3:\n",
    "        temp=list(set(nums))\n",
    "        temp.sort()\n",
    "        return temp[-3]\n",
    "    else:\n",
    "        return list(set(nums))[-1]"
   ]
  },
  {
   "cell_type": "code",
   "execution_count": 14,
   "id": "d71b21d7",
   "metadata": {},
   "outputs": [
    {
     "data": {
      "text/plain": [
       "1"
      ]
     },
     "execution_count": 14,
     "metadata": {},
     "output_type": "execute_result"
    }
   ],
   "source": [
    "func([3,2,1])"
   ]
  },
  {
   "cell_type": "code",
   "execution_count": 15,
   "id": "094203ab",
   "metadata": {},
   "outputs": [
    {
     "data": {
      "text/plain": [
       "2"
      ]
     },
     "execution_count": 15,
     "metadata": {},
     "output_type": "execute_result"
    }
   ],
   "source": [
    "func([1,2])"
   ]
  },
  {
   "cell_type": "code",
   "execution_count": 16,
   "id": "507090a1",
   "metadata": {},
   "outputs": [
    {
     "data": {
      "text/plain": [
       "1"
      ]
     },
     "execution_count": 16,
     "metadata": {},
     "output_type": "execute_result"
    }
   ],
   "source": [
    "func([2,2,3,1])"
   ]
  },
  {
   "cell_type": "code",
   "execution_count": null,
   "id": "365722c1",
   "metadata": {},
   "outputs": [],
   "source": []
  }
 ],
 "metadata": {
  "kernelspec": {
   "display_name": "Python 3 (ipykernel)",
   "language": "python",
   "name": "python3"
  },
  "language_info": {
   "codemirror_mode": {
    "name": "ipython",
    "version": 3
   },
   "file_extension": ".py",
   "mimetype": "text/x-python",
   "name": "python",
   "nbconvert_exporter": "python",
   "pygments_lexer": "ipython3",
   "version": "3.10.6"
  }
 },
 "nbformat": 4,
 "nbformat_minor": 5
}
