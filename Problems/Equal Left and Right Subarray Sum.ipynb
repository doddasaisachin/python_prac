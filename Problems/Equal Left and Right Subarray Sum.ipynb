{
 "cells": [
  {
   "cell_type": "markdown",
   "id": "1e8fa66e",
   "metadata": {},
   "source": [
    "Given an array A of n positive numbers. The task is to find the first index in the array such that the sum of elements before it is equal to the sum of elements after it."
   ]
  },
  {
   "cell_type": "markdown",
   "id": "6cef2b82",
   "metadata": {},
   "source": [
    "##### Example 1:\n",
    "\n",
    "Input: \n",
    "n = 5 \n",
    "A[] = [1,3,5,2,2]\n",
    "\n",
    "Output: 3 \n",
    "    \n",
    "Explanation: For second test case \n",
    "at position 3 elements before it \n",
    "(1+3) = elements after it (2+2). "
   ]
  },
  {
   "cell_type": "markdown",
   "id": "7af48562",
   "metadata": {},
   "source": [
    "##### Example 2:\n",
    "\n",
    "Input:\n",
    "n = 1\n",
    "A[] = [1]\n",
    "\n",
    "Output: 1\n",
    "    \n",
    "Explanation:\n",
    "Since its the only element hence\n",
    "it is the only point."
   ]
  },
  {
   "cell_type": "code",
   "execution_count": 70,
   "id": "7d1e382e",
   "metadata": {},
   "outputs": [],
   "source": [
    "def func(n,arr):\n",
    "    total=sum(arr)\n",
    "    for i in range(n):\n",
    "        ls=sum(arr[:i])\n",
    "        rs=total-ls-arr[i]\n",
    "        if ls==(rs):\n",
    "            return i+1\n",
    "    return -1"
   ]
  },
  {
   "cell_type": "code",
   "execution_count": 71,
   "id": "cf29bc10",
   "metadata": {},
   "outputs": [
    {
     "data": {
      "text/plain": [
       "3"
      ]
     },
     "execution_count": 71,
     "metadata": {},
     "output_type": "execute_result"
    }
   ],
   "source": [
    "func(5,[1,3,5,2,2])"
   ]
  },
  {
   "cell_type": "code",
   "execution_count": 72,
   "id": "41e48974",
   "metadata": {},
   "outputs": [
    {
     "data": {
      "text/plain": [
       "1"
      ]
     },
     "execution_count": 72,
     "metadata": {},
     "output_type": "execute_result"
    }
   ],
   "source": [
    "func(1,[1])"
   ]
  }
 ],
 "metadata": {
  "kernelspec": {
   "display_name": "Python 3 (ipykernel)",
   "language": "python",
   "name": "python3"
  },
  "language_info": {
   "codemirror_mode": {
    "name": "ipython",
    "version": 3
   },
   "file_extension": ".py",
   "mimetype": "text/x-python",
   "name": "python",
   "nbconvert_exporter": "python",
   "pygments_lexer": "ipython3",
   "version": "3.10.6"
  }
 },
 "nbformat": 4,
 "nbformat_minor": 5
}
