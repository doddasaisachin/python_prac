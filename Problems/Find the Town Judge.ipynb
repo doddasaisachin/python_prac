{
 "cells": [
  {
   "cell_type": "markdown",
   "id": "0a3554df",
   "metadata": {},
   "source": [
    "In a town, there are n people labeled from 1 to n. There is a rumor that one of these people is secretly the town judge.\n",
    "\n",
    "If the town judge exists, then:\n",
    "\n",
    "1. The town judge trusts nobody.\n",
    "2. Everybody (except for the town judge) trusts the town judge.\n",
    "3. There is exactly one person that satisfies properties 1 and 2.\n",
    "\n",
    "You are given an array trust where trust[i] = [ai, bi] representing that the person labeled ai trusts the person labeled bi. If a trust relationship does not exist in trust array, then such a trust relationship does not exist.\n",
    "\n",
    "Return the label of the town judge if the town judge exists and can be identified, or return -1 otherwise."
   ]
  },
  {
   "cell_type": "code",
   "execution_count": 1,
   "id": "d37e85f9",
   "metadata": {},
   "outputs": [],
   "source": [
    "def fx(n,trust):\n",
    "    d=dict()\n",
    "    for i in trust:\n",
    "        if i[0] not in d.keys():\n",
    "            d[i[0]]=set([i[1]])\n",
    "        else:\n",
    "            d[i[0]].add(i[1])\n",
    "    if len(set(d.keys()))==n-1:\n",
    "        ele=((n*(n+1))//2)-(sum(d.keys()))\n",
    "        c=0\n",
    "        for i in d.keys():\n",
    "            if ele in d[i]:c+=1\n",
    "        if c==n-1:\n",
    "            return ele\n",
    "        return -1\n",
    "    else:\n",
    "        return -1"
   ]
  },
  {
   "cell_type": "code",
   "execution_count": 3,
   "id": "bb923124",
   "metadata": {},
   "outputs": [
    {
     "data": {
      "text/plain": [
       "3"
      ]
     },
     "execution_count": 3,
     "metadata": {},
     "output_type": "execute_result"
    }
   ],
   "source": [
    "fx(n = 3, trust = [[1,3],[2,3]])"
   ]
  },
  {
   "cell_type": "code",
   "execution_count": 4,
   "id": "564311a2",
   "metadata": {},
   "outputs": [
    {
     "data": {
      "text/plain": [
       "-1"
      ]
     },
     "execution_count": 4,
     "metadata": {},
     "output_type": "execute_result"
    }
   ],
   "source": [
    "fx(n = 3, trust = [[1,3],[2,3],[3,1]])"
   ]
  }
 ],
 "metadata": {
  "kernelspec": {
   "display_name": "Python 3 (ipykernel)",
   "language": "python",
   "name": "python3"
  },
  "language_info": {
   "codemirror_mode": {
    "name": "ipython",
    "version": 3
   },
   "file_extension": ".py",
   "mimetype": "text/x-python",
   "name": "python",
   "nbconvert_exporter": "python",
   "pygments_lexer": "ipython3",
   "version": "3.10.6"
  }
 },
 "nbformat": 4,
 "nbformat_minor": 5
}
