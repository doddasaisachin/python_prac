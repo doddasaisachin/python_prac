{
 "cells": [
  {
   "cell_type": "markdown",
   "id": "210f67f7",
   "metadata": {},
   "source": [
    "Given a string array words, return an array of all characters that show up in all strings within the words (including duplicates). You may return the answer in any order."
   ]
  },
  {
   "cell_type": "code",
   "execution_count": 1,
   "id": "7736f8f2",
   "metadata": {},
   "outputs": [],
   "source": [
    "def fx(words):\n",
    "    d=dict()\n",
    "    res=[]\n",
    "    for ele in words[0]:\n",
    "        if ele not in d:\n",
    "            d[ele]=[1]\n",
    "        else:\n",
    "            d[ele][0]+=1\n",
    "    for i in range(1,len(words)):\n",
    "        for ele in words[i]:\n",
    "            if ele in d.keys():\n",
    "                if len(d[ele])==i:\n",
    "                    d[ele].append(1)\n",
    "                else:\n",
    "                    d[ele][-1]+=1\n",
    "    for key in d.keys():\n",
    "        if len(d[key])==len(words):\n",
    "            temp=key*min(d[key])\n",
    "            temp.split()\n",
    "            res+=temp\n",
    "    return res"
   ]
  },
  {
   "cell_type": "code",
   "execution_count": null,
   "id": "21978e9b",
   "metadata": {},
   "outputs": [],
   "source": []
  }
 ],
 "metadata": {
  "kernelspec": {
   "display_name": "Python 3 (ipykernel)",
   "language": "python",
   "name": "python3"
  },
  "language_info": {
   "codemirror_mode": {
    "name": "ipython",
    "version": 3
   },
   "file_extension": ".py",
   "mimetype": "text/x-python",
   "name": "python",
   "nbconvert_exporter": "python",
   "pygments_lexer": "ipython3",
   "version": "3.10.6"
  }
 },
 "nbformat": 4,
 "nbformat_minor": 5
}
