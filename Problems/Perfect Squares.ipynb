{
 "cells": [
  {
   "cell_type": "markdown",
   "id": "a0baad8d",
   "metadata": {},
   "source": [
    "Given an integer n, return the least number of perfect square numbers that sum to n.\n",
    "\n",
    "A perfect square is an integer that is the square of an integer; in other words, it is the product of some integer with itself. For example, 1, 4, 9, and 16 are perfect squares while 3 and 11 are not."
   ]
  },
  {
   "cell_type": "code",
   "execution_count": 3,
   "id": "07ca9ad8",
   "metadata": {},
   "outputs": [],
   "source": [
    "import math\n",
    "def numSquares( n: int) -> int:\n",
    "    ### RECURSION\n",
    "    '''\n",
    "    arr=[]\n",
    "    for i in range(1,int(math.sqrt(n))+1):\n",
    "        arr.append(i*i)\n",
    "    def recursive(n):\n",
    "        if n==0:\n",
    "            return 0\n",
    "        if n==1:\n",
    "            return 1\n",
    "        ans=999999\n",
    "        for k in arr:\n",
    "            if k==n:\n",
    "                return 1\n",
    "            elif k<n:\n",
    "                ans=min(ans,1+recursive(n-k))\n",
    "        return ans\n",
    "    x=recursive(n)\n",
    "    return x\n",
    "    '''\n",
    "    dp=[9999999]*(n+1)\n",
    "    arr=[]\n",
    "    for i in range(1,int(math.sqrt(n))+1):\n",
    "        arr.append(i*i)\n",
    "    dp[0],dp[1]=0,1\n",
    "    for i in range(2,n+1):\n",
    "        for k in arr:\n",
    "            if k<=i:\n",
    "                dp[i]=min(dp[i],1+dp[i-k])\n",
    "            else:\n",
    "                break\n",
    "    # print(dp)\n",
    "    return dp[-1]"
   ]
  },
  {
   "cell_type": "code",
   "execution_count": 4,
   "id": "c7d70510",
   "metadata": {},
   "outputs": [
    {
     "data": {
      "text/plain": [
       "4"
      ]
     },
     "execution_count": 4,
     "metadata": {},
     "output_type": "execute_result"
    }
   ],
   "source": [
    "numSquares(15)"
   ]
  },
  {
   "cell_type": "code",
   "execution_count": 5,
   "id": "ef3f22a8",
   "metadata": {},
   "outputs": [
    {
     "data": {
      "text/plain": [
       "2"
      ]
     },
     "execution_count": 5,
     "metadata": {},
     "output_type": "execute_result"
    }
   ],
   "source": [
    "numSquares(13)"
   ]
  },
  {
   "cell_type": "code",
   "execution_count": null,
   "id": "1fab003e",
   "metadata": {},
   "outputs": [],
   "source": []
  }
 ],
 "metadata": {
  "kernelspec": {
   "display_name": "Python 3 (ipykernel)",
   "language": "python",
   "name": "python3"
  },
  "language_info": {
   "codemirror_mode": {
    "name": "ipython",
    "version": 3
   },
   "file_extension": ".py",
   "mimetype": "text/x-python",
   "name": "python",
   "nbconvert_exporter": "python",
   "pygments_lexer": "ipython3",
   "version": "3.10.6"
  }
 },
 "nbformat": 4,
 "nbformat_minor": 5
}
