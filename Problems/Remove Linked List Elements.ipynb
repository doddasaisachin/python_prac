{
 "cells": [
  {
   "cell_type": "code",
   "execution_count": 1,
   "id": "6eda5710",
   "metadata": {},
   "outputs": [],
   "source": [
    "class Node:\n",
    "    def __init__(self,val=0,next=None):\n",
    "        self.val=val\n",
    "        self.next=None"
   ]
  },
  {
   "cell_type": "code",
   "execution_count": 2,
   "id": "c35b28f0",
   "metadata": {},
   "outputs": [],
   "source": [
    "class Linked_list:\n",
    "    def __init__(self):\n",
    "        self.head=None\n",
    "    def append(self,data):\n",
    "        if self.head is None:\n",
    "            self.head=Node(data)\n",
    "            return \n",
    "        temp=self.head\n",
    "        while temp.next is not None:\n",
    "            temp=temp.next\n",
    "        temp.next=Node(data)\n",
    "    def print_list(self):\n",
    "        temp=self.head\n",
    "        while temp.next:\n",
    "            print(temp.val,end=\"->\")\n",
    "            temp=temp.next\n",
    "        print(temp.val)"
   ]
  },
  {
   "cell_type": "code",
   "execution_count": 3,
   "id": "17ee1c13",
   "metadata": {},
   "outputs": [],
   "source": [
    "l1=Linked_list()"
   ]
  },
  {
   "cell_type": "code",
   "execution_count": 4,
   "id": "c31d1225",
   "metadata": {},
   "outputs": [],
   "source": [
    "for i in [1,3,5,7,9,9,7,7,7,14,8,26,25,10]:\n",
    "    l1.append(i)"
   ]
  },
  {
   "cell_type": "code",
   "execution_count": 5,
   "id": "0ba2a47e",
   "metadata": {},
   "outputs": [
    {
     "name": "stdout",
     "output_type": "stream",
     "text": [
      "1->3->5->7->9->9->7->7->7->14->8->26->25->10\n"
     ]
    }
   ],
   "source": [
    "l1.print_list()"
   ]
  },
  {
   "cell_type": "code",
   "execution_count": 6,
   "id": "1141e8f7",
   "metadata": {},
   "outputs": [],
   "source": [
    "def print_list(head):\n",
    "    temp=head\n",
    "    if head is None:\n",
    "        return \n",
    "    while temp.next is not None:\n",
    "        print(temp.val,end=\"->\")\n",
    "        temp=temp.next\n",
    "    print(temp.val)"
   ]
  },
  {
   "cell_type": "code",
   "execution_count": 7,
   "id": "fcd8f30f",
   "metadata": {},
   "outputs": [],
   "source": [
    "def function(head,val):\n",
    "    dummy=Node(next=head)\n",
    "    curr=head\n",
    "    prev=dummy\n",
    "\n",
    "    while curr:\n",
    "        next=curr.next\n",
    "        if curr.val==val:\n",
    "            prev.next=next\n",
    "        else:\n",
    "            prev=curr\n",
    "        curr=next\n",
    "    return dummy.next"
   ]
  },
  {
   "cell_type": "code",
   "execution_count": null,
   "id": "6224bc42",
   "metadata": {},
   "outputs": [],
   "source": []
  }
 ],
 "metadata": {
  "kernelspec": {
   "display_name": "Python 3 (ipykernel)",
   "language": "python",
   "name": "python3"
  },
  "language_info": {
   "codemirror_mode": {
    "name": "ipython",
    "version": 3
   },
   "file_extension": ".py",
   "mimetype": "text/x-python",
   "name": "python",
   "nbconvert_exporter": "python",
   "pygments_lexer": "ipython3",
   "version": "3.10.6"
  }
 },
 "nbformat": 4,
 "nbformat_minor": 5
}
