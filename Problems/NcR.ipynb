{
 "cells": [
  {
   "cell_type": "code",
   "execution_count": 96,
   "id": "06d3519b",
   "metadata": {},
   "outputs": [],
   "source": [
    "def func(n,r):\n",
    "    n_fac=1\n",
    "    r_fac=1\n",
    "    nr_fac=1\n",
    "    if r>n:\n",
    "        return 0\n",
    "    for i in range(1,n+1):\n",
    "        n_fac=(i*n_fac)\n",
    "    for i in range(1,(n-r)+1):\n",
    "        nr_fac=(nr_fac*i)\n",
    "    for i in range(1,r+1):\n",
    "        r_fac=(r_fac*i)\n",
    "    res=n_fac\n",
    "    fin=res//(r_fac*nr_fac)\n",
    "    return fin%(10**9+7)"
   ]
  },
  {
   "cell_type": "code",
   "execution_count": 97,
   "id": "f95cc9cb",
   "metadata": {},
   "outputs": [
    {
     "data": {
      "text/plain": [
       "432202409"
      ]
     },
     "execution_count": 97,
     "metadata": {},
     "output_type": "execute_result"
    }
   ],
   "source": [
    "func(69,43)"
   ]
  },
  {
   "cell_type": "code",
   "execution_count": 98,
   "id": "d9235f31",
   "metadata": {},
   "outputs": [
    {
     "data": {
      "text/plain": [
       "4"
      ]
     },
     "execution_count": 98,
     "metadata": {},
     "output_type": "execute_result"
    }
   ],
   "source": [
    "func(4,3)"
   ]
  },
  {
   "cell_type": "code",
   "execution_count": 99,
   "id": "8e4f4f08",
   "metadata": {},
   "outputs": [
    {
     "data": {
      "text/plain": [
       "10"
      ]
     },
     "execution_count": 99,
     "metadata": {},
     "output_type": "execute_result"
    }
   ],
   "source": [
    "func(5,2)"
   ]
  }
 ],
 "metadata": {
  "kernelspec": {
   "display_name": "Python 3 (ipykernel)",
   "language": "python",
   "name": "python3"
  },
  "language_info": {
   "codemirror_mode": {
    "name": "ipython",
    "version": 3
   },
   "file_extension": ".py",
   "mimetype": "text/x-python",
   "name": "python",
   "nbconvert_exporter": "python",
   "pygments_lexer": "ipython3",
   "version": "3.10.6"
  }
 },
 "nbformat": 4,
 "nbformat_minor": 5
}
