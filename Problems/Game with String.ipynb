{
 "cells": [
  {
   "cell_type": "markdown",
   "id": "8ebcab56",
   "metadata": {},
   "source": [
    "Given a string s of lowercase alphabets and a number k, the task is to print the minimum value of the string after removal of k characters. The value of a string is defined as the sum of squares of the count of each distinct character present in the string. "
   ]
  },
  {
   "cell_type": "code",
   "execution_count": 10,
   "id": "ff89b3d7",
   "metadata": {},
   "outputs": [],
   "source": [
    "import heapq"
   ]
  },
  {
   "cell_type": "code",
   "execution_count": 73,
   "id": "ab1f77c3",
   "metadata": {},
   "outputs": [],
   "source": [
    "def fx(s,k):\n",
    "    d=dict()\n",
    "    for i in s:\n",
    "        if i not in d.keys():\n",
    "            d[i]=1\n",
    "        else:\n",
    "            d[i]+=1\n",
    "    arr=list(d.values())\n",
    "    arr= [-x for x in arr]\n",
    "    heapq.heapify(arr)\n",
    "    while k>0:\n",
    "        cur_item=-heapq.heappop(arr)\n",
    "        cur_item-=1\n",
    "        heapq.heappush(arr,-cur_item)\n",
    "        k-=1\n",
    "    x=0\n",
    "    for i in arr:\n",
    "        x+=i*i\n",
    "    return x"
   ]
  },
  {
   "cell_type": "code",
   "execution_count": 74,
   "id": "b058cdf0",
   "metadata": {},
   "outputs": [
    {
     "data": {
      "text/plain": [
       "6"
      ]
     },
     "execution_count": 74,
     "metadata": {},
     "output_type": "execute_result"
    }
   ],
   "source": [
    "fx(\"abccc\",1)"
   ]
  },
  {
   "cell_type": "code",
   "execution_count": 75,
   "id": "86935778",
   "metadata": {},
   "outputs": [
    {
     "data": {
      "text/plain": [
       "27"
      ]
     },
     "execution_count": 75,
     "metadata": {},
     "output_type": "execute_result"
    }
   ],
   "source": [
    "fx(\"aabcbcbcabcc\",3)"
   ]
  },
  {
   "cell_type": "code",
   "execution_count": null,
   "id": "4d9f5291",
   "metadata": {},
   "outputs": [],
   "source": []
  }
 ],
 "metadata": {
  "kernelspec": {
   "display_name": "Python 3 (ipykernel)",
   "language": "python",
   "name": "python3"
  },
  "language_info": {
   "codemirror_mode": {
    "name": "ipython",
    "version": 3
   },
   "file_extension": ".py",
   "mimetype": "text/x-python",
   "name": "python",
   "nbconvert_exporter": "python",
   "pygments_lexer": "ipython3",
   "version": "3.10.6"
  }
 },
 "nbformat": 4,
 "nbformat_minor": 5
}
