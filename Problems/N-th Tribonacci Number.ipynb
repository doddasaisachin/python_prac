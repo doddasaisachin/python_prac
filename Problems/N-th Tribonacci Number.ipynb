{
 "cells": [
  {
   "cell_type": "markdown",
   "id": "3dea9b16",
   "metadata": {},
   "source": [
    "The Tribonacci sequence Tn is defined as follows: \n",
    "\n",
    "T0 = 0, T1 = 1, T2 = 1, and Tn+3 = Tn + Tn+1 + Tn+2 for n >= 0.\n",
    "\n",
    "Given n, return the value of Tn.\n",
    "\n",
    " \n",
    "\n",
    "Example 1:\n",
    "\n",
    "Input: n = 4\n",
    "Output: 4\n",
    "Explanation:\n",
    "T_3 = 0 + 1 + 1 = 2\n",
    "T_4 = 1 + 1 + 2 = 4\n",
    "\n",
    "Example 2:\n",
    "\n",
    "Input: n = 25\n",
    "Output: 1389537"
   ]
  },
  {
   "cell_type": "code",
   "execution_count": 1,
   "id": "015b54ff",
   "metadata": {},
   "outputs": [],
   "source": [
    "def fx(n):\n",
    "    arr=[0 for _ in range(n+1)]\n",
    "    for i in range(n+1):\n",
    "        if i<=2:\n",
    "            if i==0:\n",
    "                arr[i]=0\n",
    "            else:\n",
    "                arr[i]=1\n",
    "        else:\n",
    "            arr[i]=arr[i-1]+arr[i-2]+arr[i-3]\n",
    "    return arr[-1]"
   ]
  },
  {
   "cell_type": "code",
   "execution_count": 2,
   "id": "98655001",
   "metadata": {},
   "outputs": [
    {
     "data": {
      "text/plain": [
       "4"
      ]
     },
     "execution_count": 2,
     "metadata": {},
     "output_type": "execute_result"
    }
   ],
   "source": [
    "fx(4)"
   ]
  },
  {
   "cell_type": "code",
   "execution_count": 4,
   "id": "c00ffb97",
   "metadata": {},
   "outputs": [
    {
     "data": {
      "text/plain": [
       "1389537"
      ]
     },
     "execution_count": 4,
     "metadata": {},
     "output_type": "execute_result"
    }
   ],
   "source": [
    "fx(25)"
   ]
  },
  {
   "cell_type": "code",
   "execution_count": null,
   "id": "ddc1d605",
   "metadata": {},
   "outputs": [],
   "source": []
  }
 ],
 "metadata": {
  "kernelspec": {
   "display_name": "Python 3 (ipykernel)",
   "language": "python",
   "name": "python3"
  },
  "language_info": {
   "codemirror_mode": {
    "name": "ipython",
    "version": 3
   },
   "file_extension": ".py",
   "mimetype": "text/x-python",
   "name": "python",
   "nbconvert_exporter": "python",
   "pygments_lexer": "ipython3",
   "version": "3.10.6"
  }
 },
 "nbformat": 4,
 "nbformat_minor": 5
}
