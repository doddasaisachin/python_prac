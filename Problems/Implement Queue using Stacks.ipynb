{
 "cells": [
  {
   "cell_type": "markdown",
   "id": "c272c32a",
   "metadata": {},
   "source": [
    "Implement a first in first out (FIFO) queue using only two stacks. The implemented queue should support all the functions of a normal queue (push, peek, pop, and empty).\n",
    "\n",
    "Implement the MyQueue class:\n",
    "\n",
    "void push(int x) Pushes element x to the back of the queue.\n",
    "int pop() Removes the element from the front of the queue and returns it.\n",
    "int peek() Returns the element at the front of the queue.\n",
    "boolean empty() Returns true if the queue is empty, false otherwise.\n",
    "Notes:\n",
    "\n",
    "You must use only standard operations of a stack, which means only push to top, peek/pop from top, size, and is empty operations are valid.\n",
    "Depending on your language, the stack may not be supported natively. You may simulate a stack using a list or deque (double-ended queue) as long as you use only a stack's standard operations.\n",
    " \n",
    "\n",
    "Example 1:\n",
    "\n",
    "Input\n",
    "[\"MyQueue\", \"push\", \"push\", \"peek\", \"pop\", \"empty\"]\n",
    "[[], [1], [2], [], [], []]\n",
    "Output\n",
    "[null, null, null, 1, 1, false]\n",
    "\n",
    "Explanation\n",
    "MyQueue myQueue = new MyQueue();\n",
    "myQueue.push(1); // queue is: [1]\n",
    "myQueue.push(2); // queue is: [1, 2] (leftmost is front of the queue)\n",
    "myQueue.peek(); // return 1\n",
    "myQueue.pop(); // return 1, queue is [2]\n",
    "myQueue.empty(); // return false"
   ]
  },
  {
   "cell_type": "code",
   "execution_count": 1,
   "id": "ee68b867",
   "metadata": {},
   "outputs": [],
   "source": [
    "class MyQueue:\n",
    "    def __init__(self):\n",
    "        self.que=[]\n",
    "    def push(self, x: int) -> None:\n",
    "        self.que.append(x)\n",
    "    def pop(self) -> int:\n",
    "        return self.que.pop(0)\n",
    "    def peek(self) -> int:\n",
    "        if len(self.que)>0:\n",
    "            return self.que[0]\n",
    "        return None\n",
    "    def empty(self) -> bool:\n",
    "        if len(self.que)>0:\n",
    "            return False\n",
    "        return True"
   ]
  },
  {
   "cell_type": "code",
   "execution_count": 3,
   "id": "ecc12a9c",
   "metadata": {},
   "outputs": [],
   "source": [
    "obj = MyQueue()\n",
    "obj.push(5)\n",
    "param_2 = obj.pop()\n",
    "param_3 = obj.peek()\n",
    "param_4 = obj.empty()"
   ]
  },
  {
   "cell_type": "code",
   "execution_count": 4,
   "id": "fc3445fb",
   "metadata": {},
   "outputs": [
    {
     "name": "stdout",
     "output_type": "stream",
     "text": [
      "5 None True\n"
     ]
    }
   ],
   "source": [
    "print(param_2,param_3,param_4)"
   ]
  },
  {
   "cell_type": "code",
   "execution_count": null,
   "id": "2987364b",
   "metadata": {},
   "outputs": [],
   "source": []
  }
 ],
 "metadata": {
  "kernelspec": {
   "display_name": "Python 3 (ipykernel)",
   "language": "python",
   "name": "python3"
  },
  "language_info": {
   "codemirror_mode": {
    "name": "ipython",
    "version": 3
   },
   "file_extension": ".py",
   "mimetype": "text/x-python",
   "name": "python",
   "nbconvert_exporter": "python",
   "pygments_lexer": "ipython3",
   "version": "3.10.6"
  }
 },
 "nbformat": 4,
 "nbformat_minor": 5
}
