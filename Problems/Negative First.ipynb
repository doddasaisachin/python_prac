{
 "cells": [
  {
   "cell_type": "code",
   "execution_count": 38,
   "id": "5a080331",
   "metadata": {},
   "outputs": [],
   "source": [
    "def func(arr):\n",
    "    pos=[]\n",
    "    idx=0\n",
    "    while idx<len(arr):\n",
    "        if arr[idx]>=0:\n",
    "            ele=arr.pop(idx)\n",
    "            pos.append(ele)\n",
    "            idx-=1\n",
    "        idx+=1\n",
    "    arr.extend(pos)\n",
    "    return arr"
   ]
  },
  {
   "cell_type": "code",
   "execution_count": 39,
   "id": "a5c359d3",
   "metadata": {},
   "outputs": [
    {
     "data": {
      "text/plain": [
       "[-3, 1, 2]"
      ]
     },
     "execution_count": 39,
     "metadata": {},
     "output_type": "execute_result"
    }
   ],
   "source": [
    "func([-3,3-2,2])"
   ]
  },
  {
   "cell_type": "code",
   "execution_count": 40,
   "id": "026ed7eb",
   "metadata": {},
   "outputs": [
    {
     "data": {
      "text/plain": [
       "[-2, -1, -9, -8, 8, 5, 4, 0, 5, 4, 1, 40]"
      ]
     },
     "execution_count": 40,
     "metadata": {},
     "output_type": "execute_result"
    }
   ],
   "source": [
    "func([-2,8,5,-1,4,0,-9,5,4,-8,1,40])"
   ]
  },
  {
   "cell_type": "code",
   "execution_count": 41,
   "id": "468a2de2",
   "metadata": {},
   "outputs": [
    {
     "data": {
      "text/plain": [
       "[-3, -2, 3, 2]"
      ]
     },
     "execution_count": 41,
     "metadata": {},
     "output_type": "execute_result"
    }
   ],
   "source": [
    "func([-3,3,-2,2])"
   ]
  },
  {
   "cell_type": "code",
   "execution_count": 43,
   "id": "36c24497",
   "metadata": {},
   "outputs": [
    {
     "data": {
      "text/plain": [
       "[-3, -2, 1, 0]"
      ]
     },
     "execution_count": 43,
     "metadata": {},
     "output_type": "execute_result"
    }
   ],
   "source": [
    "func([-3,1,0,-2])"
   ]
  }
 ],
 "metadata": {
  "kernelspec": {
   "display_name": "Python 3 (ipykernel)",
   "language": "python",
   "name": "python3"
  },
  "language_info": {
   "codemirror_mode": {
    "name": "ipython",
    "version": 3
   },
   "file_extension": ".py",
   "mimetype": "text/x-python",
   "name": "python",
   "nbconvert_exporter": "python",
   "pygments_lexer": "ipython3",
   "version": "3.10.6"
  }
 },
 "nbformat": 4,
 "nbformat_minor": 5
}
