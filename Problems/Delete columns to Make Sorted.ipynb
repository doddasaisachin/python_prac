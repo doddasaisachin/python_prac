{
 "cells": [
  {
   "cell_type": "markdown",
   "id": "230b78bd",
   "metadata": {},
   "source": [
    "You are given an array of n strings strs, all of the same length.\n",
    "\n",
    "The strings can be arranged such that there is one on each line, making a grid.\n",
    "\n",
    "For example, strs = [\"abc\", \"bce\", \"cae\"] can be arranged as follows:\n",
    "* abc\n",
    "\n",
    "  bce\n",
    "  \n",
    "  cae\n",
    "  \n",
    "You want to delete the columns that are not sorted lexicographically. In the above example (0-indexed), columns 0 ('a', 'b', 'c') and 2 ('c', 'e', 'e') are sorted, while column 1 ('b', 'c', 'a') is not, so you would delete column 1.\n",
    "\n",
    "Return the number of columns that you will delete."
   ]
  },
  {
   "cell_type": "code",
   "execution_count": 4,
   "id": "abf32aa1",
   "metadata": {},
   "outputs": [],
   "source": [
    "def fx(strs):\n",
    "    idx=0\n",
    "    ans=0\n",
    "    while idx<len(strs[0]):\n",
    "        for i in range(len(strs)-1):\n",
    "            if ord(strs[i][idx])>ord(strs[i+1][idx]):\n",
    "                ans+=1\n",
    "                break\n",
    "        idx+=1\n",
    "    return ans"
   ]
  },
  {
   "cell_type": "code",
   "execution_count": 5,
   "id": "b981c66c",
   "metadata": {},
   "outputs": [
    {
     "data": {
      "text/plain": [
       "1"
      ]
     },
     "execution_count": 5,
     "metadata": {},
     "output_type": "execute_result"
    }
   ],
   "source": [
    "fx([\"cba\",\"daf\",\"ghi\"])"
   ]
  },
  {
   "cell_type": "code",
   "execution_count": null,
   "id": "2566f304",
   "metadata": {},
   "outputs": [],
   "source": []
  }
 ],
 "metadata": {
  "kernelspec": {
   "display_name": "Python 3 (ipykernel)",
   "language": "python",
   "name": "python3"
  },
  "language_info": {
   "codemirror_mode": {
    "name": "ipython",
    "version": 3
   },
   "file_extension": ".py",
   "mimetype": "text/x-python",
   "name": "python",
   "nbconvert_exporter": "python",
   "pygments_lexer": "ipython3",
   "version": "3.10.6"
  }
 },
 "nbformat": 4,
 "nbformat_minor": 5
}
