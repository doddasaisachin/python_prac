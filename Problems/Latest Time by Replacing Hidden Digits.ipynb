{
 "cells": [
  {
   "cell_type": "markdown",
   "id": "c3779029",
   "metadata": {},
   "source": [
    "You are given a string time in the form of  hh:mm, where some of the digits in the string are hidden (represented by ?).\n",
    "\n",
    "The valid times are those inclusively between 00:00 and 23:59.\n",
    "\n",
    "Return the latest valid time you can get from time by replacing the hidden digits."
   ]
  },
  {
   "cell_type": "code",
   "execution_count": 1,
   "id": "99a2870c",
   "metadata": {},
   "outputs": [],
   "source": [
    "def fx(time):\n",
    "    hours=[time[0],time[1]]\n",
    "    mins=[time[3],time[4]]\n",
    "    if hours[0]=='?' and hours[1]=='?':\n",
    "        hours[0],hours[1]='2','3'\n",
    "    if hours[0]=='?':\n",
    "        if int(hours[1])>3:\n",
    "            hours[0]='1'\n",
    "        else:\n",
    "            hours[0]='2'\n",
    "    if hours[1]=='?':\n",
    "        if hours[0]=='2':\n",
    "            hours[1]='3'\n",
    "        else:\n",
    "            hours[1]='9'\n",
    "    if mins[0]=='?':\n",
    "        mins[0]='5'\n",
    "    if mins[1]=='?':\n",
    "        mins[1]='9'\n",
    "    res=hours[0]+hours[1]+':'+mins[0]+mins[1]\n",
    "    return res"
   ]
  },
  {
   "cell_type": "code",
   "execution_count": 2,
   "id": "13c7d56a",
   "metadata": {},
   "outputs": [
    {
     "data": {
      "text/plain": [
       "'23:50'"
      ]
     },
     "execution_count": 2,
     "metadata": {},
     "output_type": "execute_result"
    }
   ],
   "source": [
    "fx(\"2?:?0\")"
   ]
  },
  {
   "cell_type": "code",
   "execution_count": 3,
   "id": "5e0c425e",
   "metadata": {},
   "outputs": [
    {
     "data": {
      "text/plain": [
       "'09:39'"
      ]
     },
     "execution_count": 3,
     "metadata": {},
     "output_type": "execute_result"
    }
   ],
   "source": [
    "fx(\"0?:3?\")"
   ]
  },
  {
   "cell_type": "code",
   "execution_count": null,
   "id": "febfabe5",
   "metadata": {},
   "outputs": [],
   "source": []
  }
 ],
 "metadata": {
  "kernelspec": {
   "display_name": "Python 3 (ipykernel)",
   "language": "python",
   "name": "python3"
  },
  "language_info": {
   "codemirror_mode": {
    "name": "ipython",
    "version": 3
   },
   "file_extension": ".py",
   "mimetype": "text/x-python",
   "name": "python",
   "nbconvert_exporter": "python",
   "pygments_lexer": "ipython3",
   "version": "3.10.6"
  }
 },
 "nbformat": 4,
 "nbformat_minor": 5
}
