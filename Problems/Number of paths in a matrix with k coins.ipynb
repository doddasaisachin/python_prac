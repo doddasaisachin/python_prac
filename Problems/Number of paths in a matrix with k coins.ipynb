{
 "cells": [
  {
   "cell_type": "markdown",
   "id": "8d2cddb2",
   "metadata": {},
   "source": [
    "Given a n x n matrix such that each of its cells contains some coins. Count the number of ways to collect exactly k coins while moving from top left corner of the matrix to the bottom right. From a cell (i, j), you can only move to (i+1, j) or (i, j+1)."
   ]
  },
  {
   "cell_type": "markdown",
   "id": "bbaa0f67",
   "metadata": {},
   "source": [
    "##### Example \n",
    "Input:\n",
    "k = 12, n = 3\n",
    "arr[] =\n",
    "\n",
    "       [[1, 2, 3], \n",
    "\n",
    "       [4, 6, 5], \n",
    "       \n",
    "       [3, 2, 1]]\n",
    "       \n",
    "Output: \n",
    "2\n",
    "Explanation: \n",
    "There are 2 possible paths with exactly 12 coins, (1 + 2 + 6 + 2 + 1) and (1 + 2 + 3 + 5 + 1)."
   ]
  },
  {
   "cell_type": "code",
   "execution_count": 1,
   "id": "81e3590d",
   "metadata": {},
   "outputs": [],
   "source": [
    "def numberOfPath(n,arr,k):\n",
    "    ans=0\n",
    "    dp=[[None]*n for i in range(n)]\n",
    "    dp[0][0]=[arr[0][0]]\n",
    "    for i in range(1,n):\n",
    "        dp[0][i]=[arr[0][i]+dp[0][i-1][0]]\n",
    "        dp[i][0]=[arr[i][0]+dp[i-1][0][0]]\n",
    "    for i in range(1,n):\n",
    "        for j in range(1,n):\n",
    "            dp[i][j]=[]\n",
    "            for _ in dp[i-1][j]+dp[i][j-1]:\n",
    "                if _+arr[i][j]<=k:\n",
    "                    dp[i][j].append(_+arr[i][j])\n",
    "    for i in dp[-1][-1]:\n",
    "        if i==k:\n",
    "            ans+=1\n",
    "    return ans"
   ]
  },
  {
   "cell_type": "markdown",
   "id": "d80cbba8",
   "metadata": {},
   "source": [
    "## Some What Optimized"
   ]
  },
  {
   "cell_type": "code",
   "execution_count": 2,
   "id": "3094abdf",
   "metadata": {},
   "outputs": [],
   "source": [
    "def fx(n,arr,k):\n",
    "    dp=[[None]*n for i in range(n)]\n",
    "    dp[0][0]=[arr[0][0]]\n",
    "    for i in range(1,n):\n",
    "        dp[0][i]=[arr[0][i]+dp[0][i-1][0]]\n",
    "        dp[i][0]=[arr[i][0]+dp[i-1][0][0]]\n",
    "    for i in range(1,n):\n",
    "        for j in range(1,n):\n",
    "            temp=[]\n",
    "            if dp[i-1][j] is not None:\n",
    "                for _ in dp[i-1][j]:\n",
    "                    if _+arr[i][j]<=k:\n",
    "                        temp.append(_+arr[i][j])\n",
    "                    else:\n",
    "                        break\n",
    "            if dp[i][j-1] is not None:\n",
    "                for _ in dp[i][j-1]:\n",
    "                    if _+arr[i][j]<=k:\n",
    "                        temp.append(_+arr[i][j])\n",
    "                    else:\n",
    "                        break\n",
    "            dp[i][j]=sorted(temp)\n",
    "    ans=0\n",
    "    for i in dp[-1][-1]:\n",
    "        if i==k:\n",
    "            ans+=1\n",
    "    return ans"
   ]
  },
  {
   "cell_type": "code",
   "execution_count": 3,
   "id": "30ebb099",
   "metadata": {},
   "outputs": [
    {
     "data": {
      "text/plain": [
       "2"
      ]
     },
     "execution_count": 3,
     "metadata": {},
     "output_type": "execute_result"
    }
   ],
   "source": [
    "fx(3,[[1, 2, 3], [4, 6, 5], [3, 2, 1]],12)"
   ]
  },
  {
   "cell_type": "code",
   "execution_count": 4,
   "id": "49cef7dc",
   "metadata": {},
   "outputs": [],
   "source": [
    "arr=[[2,1,4,5,1],\n",
    "[3,3,3,4,3],\n",
    "[4,2,2,3,4],\n",
    "[5,5,3,3,2],\n",
    "[3,5,5,5,1]]"
   ]
  },
  {
   "cell_type": "code",
   "execution_count": 5,
   "id": "30e1c39c",
   "metadata": {},
   "outputs": [
    {
     "data": {
      "text/plain": [
       "3"
      ]
     },
     "execution_count": 5,
     "metadata": {},
     "output_type": "execute_result"
    }
   ],
   "source": [
    "fx(5,arr,20)"
   ]
  },
  {
   "cell_type": "code",
   "execution_count": 6,
   "id": "4961ef52",
   "metadata": {},
   "outputs": [
    {
     "data": {
      "text/plain": [
       "3"
      ]
     },
     "execution_count": 6,
     "metadata": {},
     "output_type": "execute_result"
    }
   ],
   "source": [
    "numberOfPath(5,arr,20)"
   ]
  },
  {
   "cell_type": "code",
   "execution_count": null,
   "id": "99d6140c",
   "metadata": {},
   "outputs": [],
   "source": []
  }
 ],
 "metadata": {
  "kernelspec": {
   "display_name": "Python 3 (ipykernel)",
   "language": "python",
   "name": "python3"
  },
  "language_info": {
   "codemirror_mode": {
    "name": "ipython",
    "version": 3
   },
   "file_extension": ".py",
   "mimetype": "text/x-python",
   "name": "python",
   "nbconvert_exporter": "python",
   "pygments_lexer": "ipython3",
   "version": "3.10.6"
  }
 },
 "nbformat": 4,
 "nbformat_minor": 5
}
