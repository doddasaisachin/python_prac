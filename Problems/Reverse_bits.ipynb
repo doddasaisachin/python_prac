{
 "cells": [
  {
   "cell_type": "code",
   "execution_count": 47,
   "id": "ddce58a2",
   "metadata": {},
   "outputs": [],
   "source": [
    "def binary_to_number(binary):\n",
    "    number=0\n",
    "    rev=binary[::-1]\n",
    "    for i in range(len(binary)):\n",
    "        number+=(2**i)*int(rev[i])\n",
    "    return number"
   ]
  },
  {
   "cell_type": "code",
   "execution_count": 49,
   "id": "9890bbb6",
   "metadata": {},
   "outputs": [],
   "source": [
    "def main(n: int) -> int:\n",
    "    binary=bin(n)[2:]\n",
    "    if len(binary)!=32:\n",
    "        remaining=32-len(binary)\n",
    "        prefix='0'*remaining\n",
    "        binary=prefix+binary\n",
    "    rev=binary[::-1]\n",
    "    return binary_to_number(rev)"
   ]
  },
  {
   "cell_type": "code",
   "execution_count": 50,
   "id": "5ee4c97e",
   "metadata": {},
   "outputs": [
    {
     "data": {
      "text/plain": [
       "43261596"
      ]
     },
     "execution_count": 50,
     "metadata": {},
     "output_type": "execute_result"
    }
   ],
   "source": [
    "main(964176192)"
   ]
  },
  {
   "cell_type": "code",
   "execution_count": 51,
   "id": "72a7ad6b",
   "metadata": {},
   "outputs": [
    {
     "data": {
      "text/plain": [
       "4294967293"
      ]
     },
     "execution_count": 51,
     "metadata": {},
     "output_type": "execute_result"
    }
   ],
   "source": [
    "main(3221225471)"
   ]
  }
 ],
 "metadata": {
  "kernelspec": {
   "display_name": "Python 3 (ipykernel)",
   "language": "python",
   "name": "python3"
  },
  "language_info": {
   "codemirror_mode": {
    "name": "ipython",
    "version": 3
   },
   "file_extension": ".py",
   "mimetype": "text/x-python",
   "name": "python",
   "nbconvert_exporter": "python",
   "pygments_lexer": "ipython3",
   "version": "3.10.6"
  }
 },
 "nbformat": 4,
 "nbformat_minor": 5
}
