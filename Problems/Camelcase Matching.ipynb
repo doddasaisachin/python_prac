{
 "cells": [
  {
   "cell_type": "markdown",
   "id": "0b924183",
   "metadata": {},
   "source": [
    "Given an array of strings queries and a string pattern, return a boolean array answer where answer[i] is true if queries[i] matches pattern, and false otherwise.\n",
    "\n",
    "A query word queries[i] matches pattern if you can insert lowercase English letters pattern so that it equals the query. You may insert each character at any position and you may not insert any characters."
   ]
  },
  {
   "cell_type": "code",
   "execution_count": 60,
   "id": "20f201c9",
   "metadata": {},
   "outputs": [],
   "source": [
    "def fx(q,p):\n",
    "    arr=[]\n",
    "    res=[]\n",
    "    c=0\n",
    "    for i in p:\n",
    "        if i.isupper():\n",
    "            arr.append(i)\n",
    "            c+=1\n",
    "        elif i.islower():\n",
    "            arr.append(i)\n",
    "#     print(arr)\n",
    "    for ele in q:\n",
    "        temp=0\n",
    "        for i in ele:\n",
    "            if i.isupper():\n",
    "                temp+=1\n",
    "        if temp==c:\n",
    "            found=True\n",
    "            idx,pos=0,0\n",
    "            while idx<len(ele) and pos<len(arr):\n",
    "                if ele[idx]==arr[pos]:\n",
    "                    pos+=1\n",
    "                    idx+=1\n",
    "                else:\n",
    "                    idx+=1\n",
    "#             print(ele,pos,idx)\n",
    "            if pos<len(arr):\n",
    "                found=False\n",
    "            idx+=1\n",
    "            while idx<len(ele):\n",
    "                if ele[idx].isupper():\n",
    "                    found=False\n",
    "                idx+=1\n",
    "        else:\n",
    "            found=False\n",
    "        res.append(found)\n",
    "    return res"
   ]
  },
  {
   "cell_type": "code",
   "execution_count": 61,
   "id": "3d15081f",
   "metadata": {},
   "outputs": [
    {
     "data": {
      "text/plain": [
       "[False, False, True]"
      ]
     },
     "execution_count": 61,
     "metadata": {},
     "output_type": "execute_result"
    }
   ],
   "source": [
    "fx([\"CompetitiveProgramming\",\"CounterPick\",\"ControlPanel\"],\"CooP\")"
   ]
  },
  {
   "cell_type": "code",
   "execution_count": 62,
   "id": "6127460e",
   "metadata": {},
   "outputs": [
    {
     "data": {
      "text/plain": [
       "[True, False, True, True, False]"
      ]
     },
     "execution_count": 62,
     "metadata": {},
     "output_type": "execute_result"
    }
   ],
   "source": [
    "fx([\"FooBar\",\"FooBarTest\",\"FootBall\",\"FrameBuffer\",\"ForceFeedBack\"],  \"FB\")"
   ]
  },
  {
   "cell_type": "code",
   "execution_count": 63,
   "id": "4782d47f",
   "metadata": {},
   "outputs": [
    {
     "data": {
      "text/plain": [
       "[True, False, True, False, False]"
      ]
     },
     "execution_count": 63,
     "metadata": {},
     "output_type": "execute_result"
    }
   ],
   "source": [
    "fx([\"FooBar\",\"FooBarTest\",\"FootBall\",\"FrameBuffer\",\"ForceFeedBack\"],   \"FoBa\")"
   ]
  },
  {
   "cell_type": "code",
   "execution_count": 64,
   "id": "91901d9d",
   "metadata": {
    "scrolled": true
   },
   "outputs": [
    {
     "data": {
      "text/plain": [
       "[False, True, False, False, False]"
      ]
     },
     "execution_count": 64,
     "metadata": {},
     "output_type": "execute_result"
    }
   ],
   "source": [
    "fx([\"FooBar\",\"FooBarTest\",\"FootBall\",\"FrameBuffer\",\"ForceFeedBack\"],'FoBaT')"
   ]
  },
  {
   "cell_type": "code",
   "execution_count": null,
   "id": "822d2e61",
   "metadata": {},
   "outputs": [],
   "source": []
  },
  {
   "cell_type": "code",
   "execution_count": null,
   "id": "6ec6e69d",
   "metadata": {},
   "outputs": [],
   "source": []
  }
 ],
 "metadata": {
  "kernelspec": {
   "display_name": "Python 3 (ipykernel)",
   "language": "python",
   "name": "python3"
  },
  "language_info": {
   "codemirror_mode": {
    "name": "ipython",
    "version": 3
   },
   "file_extension": ".py",
   "mimetype": "text/x-python",
   "name": "python",
   "nbconvert_exporter": "python",
   "pygments_lexer": "ipython3",
   "version": "3.10.6"
  }
 },
 "nbformat": 4,
 "nbformat_minor": 5
}
