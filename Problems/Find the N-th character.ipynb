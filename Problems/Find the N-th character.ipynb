{
 "cells": [
  {
   "cell_type": "markdown",
   "id": "c4d20bfb",
   "metadata": {},
   "source": [
    "Given a binary string s. Perform r iterations on string s, where in each iteration 0 becomes 01 and 1 becomes 10. Find the nth character (considering 0 based indexing) of the string after performing these r iterations (see examples for better understanding)."
   ]
  },
  {
   "cell_type": "code",
   "execution_count": 33,
   "id": "f017b770",
   "metadata": {},
   "outputs": [],
   "source": [
    "def fx(s,r,n):\n",
    "    itr=0\n",
    "    while itr<r: \n",
    "        idx=0\n",
    "        res=''\n",
    "        while idx<n+1:\n",
    "            if s[idx]=='0':\n",
    "                res+='01'\n",
    "            else:\n",
    "                res+='10'\n",
    "            idx+=1\n",
    "        s=res\n",
    "        itr+=1\n",
    "    return s[n]"
   ]
  },
  {
   "cell_type": "code",
   "execution_count": 34,
   "id": "b626091b",
   "metadata": {},
   "outputs": [
    {
     "data": {
      "text/plain": [
       "'1'"
      ]
     },
     "execution_count": 34,
     "metadata": {},
     "output_type": "execute_result"
    }
   ],
   "source": [
    "fx('1100',2,3)"
   ]
  },
  {
   "cell_type": "code",
   "execution_count": 35,
   "id": "c2c56d19",
   "metadata": {},
   "outputs": [
    {
     "data": {
      "text/plain": [
       "'0'"
      ]
     },
     "execution_count": 35,
     "metadata": {},
     "output_type": "execute_result"
    }
   ],
   "source": [
    "fx(\"1010\",1,2)"
   ]
  }
 ],
 "metadata": {
  "kernelspec": {
   "display_name": "Python 3 (ipykernel)",
   "language": "python",
   "name": "python3"
  },
  "language_info": {
   "codemirror_mode": {
    "name": "ipython",
    "version": 3
   },
   "file_extension": ".py",
   "mimetype": "text/x-python",
   "name": "python",
   "nbconvert_exporter": "python",
   "pygments_lexer": "ipython3",
   "version": "3.10.6"
  }
 },
 "nbformat": 4,
 "nbformat_minor": 5
}
