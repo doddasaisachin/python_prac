{
 "cells": [
  {
   "cell_type": "markdown",
   "id": "6908fc5b",
   "metadata": {},
   "source": [
    "Given an integer array nums and an integer k, return the k most frequent elements. You may return the answer in any order.\n",
    "\n",
    " "
   ]
  },
  {
   "cell_type": "code",
   "execution_count": 19,
   "id": "1c2e7124",
   "metadata": {},
   "outputs": [],
   "source": [
    "def function(nums,k):\n",
    "    d=dict()\n",
    "    for i in nums:\n",
    "        if i not in d.keys():\n",
    "            d[i]=1\n",
    "        else:\n",
    "            d[i]+=1\n",
    "    arr=sorted(d,key=lambda x : d[x],reverse=True)\n",
    "    return arr[:k]"
   ]
  },
  {
   "cell_type": "markdown",
   "id": "f4d06874",
   "metadata": {},
   "source": [
    "### Using Heap"
   ]
  },
  {
   "cell_type": "code",
   "execution_count": 18,
   "id": "aba4a5f7",
   "metadata": {},
   "outputs": [],
   "source": [
    "import heapq\n",
    "\n",
    "def fx(nums,k):\n",
    "    d=dict()\n",
    "    for i in nums:\n",
    "        if i not in d.keys():\n",
    "            d[i]=1\n",
    "        else:\n",
    "            d[i]+=1\n",
    "    arr=d.values()\n",
    "    arr=[-x for x in arr]\n",
    "    heapq.heapify(arr)\n",
    "    temp=[]\n",
    "    while k>0:\n",
    "        cur=-heapq.heappop(arr)\n",
    "        temp.append(cur)\n",
    "        k-=1\n",
    "#     print(temp)\n",
    "    res=[None for i in range(len(temp))]\n",
    "    for i in range(len(temp)):\n",
    "        for key in d.keys():\n",
    "            if d[key]==temp[i]:\n",
    "                d[key]=-1\n",
    "                res[i]=key\n",
    "                break\n",
    "    return res"
   ]
  },
  {
   "cell_type": "code",
   "execution_count": 20,
   "id": "64812531",
   "metadata": {},
   "outputs": [
    {
     "data": {
      "text/plain": [
       "[1, 2]"
      ]
     },
     "execution_count": 20,
     "metadata": {},
     "output_type": "execute_result"
    }
   ],
   "source": [
    "fx(nums =  [1,1,1,2,2,3], k = 2)"
   ]
  }
 ],
 "metadata": {
  "kernelspec": {
   "display_name": "Python 3 (ipykernel)",
   "language": "python",
   "name": "python3"
  },
  "language_info": {
   "codemirror_mode": {
    "name": "ipython",
    "version": 3
   },
   "file_extension": ".py",
   "mimetype": "text/x-python",
   "name": "python",
   "nbconvert_exporter": "python",
   "pygments_lexer": "ipython3",
   "version": "3.10.6"
  }
 },
 "nbformat": 4,
 "nbformat_minor": 5
}
