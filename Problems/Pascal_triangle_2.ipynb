{
 "cells": [
  {
   "cell_type": "code",
   "execution_count": 30,
   "id": "702301ad",
   "metadata": {},
   "outputs": [],
   "source": [
    "def create_pascal_triangle(index):\n",
    "    main=[]\n",
    "    for i in range(1,index+2):\n",
    "        if i<3:\n",
    "            main.append([1 for j in range(i)])\n",
    "        else:\n",
    "            temp=[None for j in range(i)]\n",
    "            temp[0]=temp[-1]=1\n",
    "            for k in range(len(main[i-2])-1):\n",
    "                temp[k+1]=main[i-2][k]+main[i-2][k+1]\n",
    "            main.append(temp)\n",
    "    return main[-1]"
   ]
  },
  {
   "cell_type": "code",
   "execution_count": 32,
   "id": "e453d108",
   "metadata": {},
   "outputs": [
    {
     "data": {
      "text/plain": [
       "[1, 3, 3, 1]"
      ]
     },
     "execution_count": 32,
     "metadata": {},
     "output_type": "execute_result"
    }
   ],
   "source": [
    "create_pascal_triangle(3)"
   ]
  },
  {
   "cell_type": "code",
   "execution_count": null,
   "id": "66e6b93b",
   "metadata": {},
   "outputs": [],
   "source": []
  }
 ],
 "metadata": {
  "kernelspec": {
   "display_name": "Python 3 (ipykernel)",
   "language": "python",
   "name": "python3"
  },
  "language_info": {
   "codemirror_mode": {
    "name": "ipython",
    "version": 3
   },
   "file_extension": ".py",
   "mimetype": "text/x-python",
   "name": "python",
   "nbconvert_exporter": "python",
   "pygments_lexer": "ipython3",
   "version": "3.10.6"
  }
 },
 "nbformat": 4,
 "nbformat_minor": 5
}
