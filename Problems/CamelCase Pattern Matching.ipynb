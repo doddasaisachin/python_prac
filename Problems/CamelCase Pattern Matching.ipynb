{
 "cells": [
  {
   "cell_type": "markdown",
   "id": "276678d1",
   "metadata": {},
   "source": [
    "Given a dictionary of words where each word follows CamelCase notation, print all words (in lexicographical order) in the dictionary that match with a given pattern consisting of uppercase characters only.\n",
    "\n",
    "Example: GeeksForGeeks matches the pattern \"GFG\", because if we combine all the capital letters in GeeksForGeeks they become GFG.\n",
    "\n",
    "CamelCase is the practice of writing compound words or phrases such that each word or abbreviation begins with a capital letter. Common examples include PowerPoint and Wikipedia, GeeksForGeeks, CodeBlocks, etc."
   ]
  },
  {
   "cell_type": "markdown",
   "id": "27b57f44",
   "metadata": {},
   "source": [
    "Example 1:\n",
    "\n",
    "Input:\n",
    "N=3\n",
    "Dictionary=[\"WelcomeGeek\",\n",
    "\"WelcomeToGeeksForGeeks\",\"GeeksForGeeks\"]\n",
    "Pattern=\"WTG\"\n",
    "Output:\n",
    "WelcomeToGeeksForGeeks\n",
    "Explanation:\n",
    "Since only WelcomeToGeeksForGeeks matches \n",
    "the pattern, it is the only answer."
   ]
  },
  {
   "cell_type": "markdown",
   "id": "0a1fe9ec",
   "metadata": {},
   "source": [
    "Example 2:\n",
    "\n",
    "Input:\n",
    "N=8\n",
    "Dictionary=[\"Hi\",\"Hello\",\"HelloWorld\",\n",
    "\"HiTech\",\"HiGeek\",\"HiTechWorld\",\n",
    "\"HiTechCity\",\"HiTechLab\"]\n",
    "Pattern=\"HA\"\n",
    "Output:\n",
    "-1\n",
    "Explanation:\n",
    "Since the pattern matches none of the words\n",
    "of the string,the output is -1."
   ]
  },
  {
   "cell_type": "code",
   "execution_count": 33,
   "id": "80a3e507",
   "metadata": {},
   "outputs": [],
   "source": [
    "def uppercase(string):\n",
    "    res=''\n",
    "    for i in string:\n",
    "        if i.isupper():\n",
    "            res+=i\n",
    "    return res\n",
    "\n",
    "def func(dic,pat):\n",
    "    res=[]\n",
    "    for ele in dic:\n",
    "        lex=uppercase(ele)\n",
    "        if pat in lex and (lex[0]==pat[0]):\n",
    "            res.append(ele)\n",
    "    if len(res)==0:\n",
    "        res.append(-1)\n",
    "        return res\n",
    "    return res"
   ]
  },
  {
   "cell_type": "code",
   "execution_count": 34,
   "id": "83228c26",
   "metadata": {},
   "outputs": [],
   "source": [
    "test=[\"WelcomeGeek\",\"WelcomeToGeeksForGeeks\",\"GeeksForGeeks\"]\n",
    "pattern=\"WTG\""
   ]
  },
  {
   "cell_type": "code",
   "execution_count": 35,
   "id": "9880c2d9",
   "metadata": {},
   "outputs": [
    {
     "data": {
      "text/plain": [
       "['WelcomeToGeeksForGeeks']"
      ]
     },
     "execution_count": 35,
     "metadata": {},
     "output_type": "execute_result"
    }
   ],
   "source": [
    "func(test,pattern)"
   ]
  },
  {
   "cell_type": "code",
   "execution_count": 36,
   "id": "cd420083",
   "metadata": {},
   "outputs": [],
   "source": [
    "Dictionary=[\"Hi\",\"Hello\",\"HelloWorld\",\"HiTech\",\"HiGeek\",\"HiTechWorld\",\"HiTechCity\",\"HiTechLab\"]\n",
    "pat=\"HA\""
   ]
  },
  {
   "cell_type": "code",
   "execution_count": 37,
   "id": "3138da91",
   "metadata": {},
   "outputs": [
    {
     "data": {
      "text/plain": [
       "[-1]"
      ]
     },
     "execution_count": 37,
     "metadata": {},
     "output_type": "execute_result"
    }
   ],
   "source": [
    "func(Dictionary,pat)"
   ]
  },
  {
   "cell_type": "code",
   "execution_count": 38,
   "id": "894d3893",
   "metadata": {},
   "outputs": [],
   "source": [
    "t=['WelcomeGeek', 'WelcomeToGeeksForGeeks' ,'GeeksForGeeks']"
   ]
  },
  {
   "cell_type": "code",
   "execution_count": 39,
   "id": "20c9d5f1",
   "metadata": {},
   "outputs": [
    {
     "data": {
      "text/plain": [
       "['GeeksForGeeks']"
      ]
     },
     "execution_count": 39,
     "metadata": {},
     "output_type": "execute_result"
    }
   ],
   "source": [
    "func(t,'GFG')"
   ]
  },
  {
   "cell_type": "code",
   "execution_count": null,
   "id": "d57ab780",
   "metadata": {},
   "outputs": [],
   "source": []
  }
 ],
 "metadata": {
  "kernelspec": {
   "display_name": "Python 3 (ipykernel)",
   "language": "python",
   "name": "python3"
  },
  "language_info": {
   "codemirror_mode": {
    "name": "ipython",
    "version": 3
   },
   "file_extension": ".py",
   "mimetype": "text/x-python",
   "name": "python",
   "nbconvert_exporter": "python",
   "pygments_lexer": "ipython3",
   "version": "3.10.6"
  }
 },
 "nbformat": 4,
 "nbformat_minor": 5
}
