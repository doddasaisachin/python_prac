{
 "cells": [
  {
   "cell_type": "markdown",
   "id": "f3bbb71f",
   "metadata": {},
   "source": [
    "Consider the generalized Fibonacci number g, which is dependent on a, b and c as follows :-\n",
    "g(1) = 1, g(2) = 1. For any other number n, g(n) = a*g(n-1) + b*g(n-2) + c.\n",
    "\n",
    "For a given value of m, determine g(n)%m."
   ]
  },
  {
   "cell_type": "code",
   "execution_count": 41,
   "id": "e31bf057",
   "metadata": {},
   "outputs": [],
   "source": [
    "def fx(a,b,c,n,m):\n",
    "    if n<=2:\n",
    "        return 1\n",
    "    x,y=1,1\n",
    "    for i in range(2,n):\n",
    "        temp=a*y+b*x+c\n",
    "        x=y\n",
    "        y=temp\n",
    "    return y%m"
   ]
  },
  {
   "cell_type": "code",
   "execution_count": 42,
   "id": "b47f9531",
   "metadata": {},
   "outputs": [
    {
     "data": {
      "text/plain": [
       "2"
      ]
     },
     "execution_count": 42,
     "metadata": {},
     "output_type": "execute_result"
    }
   ],
   "source": [
    "fx(3,3,3,10,5)"
   ]
  },
  {
   "cell_type": "code",
   "execution_count": 43,
   "id": "2c7890e0",
   "metadata": {},
   "outputs": [
    {
     "data": {
      "text/plain": [
       "16"
      ]
     },
     "execution_count": 43,
     "metadata": {},
     "output_type": "execute_result"
    }
   ],
   "source": [
    "fx(2,2,2,4,100)"
   ]
  },
  {
   "cell_type": "code",
   "execution_count": null,
   "id": "30d0dbd2",
   "metadata": {},
   "outputs": [],
   "source": []
  }
 ],
 "metadata": {
  "kernelspec": {
   "display_name": "Python 3 (ipykernel)",
   "language": "python",
   "name": "python3"
  },
  "language_info": {
   "codemirror_mode": {
    "name": "ipython",
    "version": 3
   },
   "file_extension": ".py",
   "mimetype": "text/x-python",
   "name": "python",
   "nbconvert_exporter": "python",
   "pygments_lexer": "ipython3",
   "version": "3.10.6"
  }
 },
 "nbformat": 4,
 "nbformat_minor": 5
}
