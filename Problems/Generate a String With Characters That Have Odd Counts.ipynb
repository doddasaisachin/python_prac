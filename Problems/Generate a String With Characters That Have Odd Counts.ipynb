{
 "cells": [
  {
   "cell_type": "markdown",
   "id": "cada6f7a",
   "metadata": {},
   "source": [
    "Given an integer n, return a string with n characters such that each character in such string occurs an odd number of times.\n",
    "\n",
    "The returned string must contain only lowercase English letters. If there are multiples valid strings, return any of them.  "
   ]
  },
  {
   "cell_type": "code",
   "execution_count": 1,
   "id": "237b529e",
   "metadata": {},
   "outputs": [],
   "source": [
    "def fx(n):\n",
    "    return 'a'*n if n%2!=0 else 'a'*(n-1)+'b'"
   ]
  },
  {
   "cell_type": "code",
   "execution_count": 2,
   "id": "2d0b4d15",
   "metadata": {},
   "outputs": [
    {
     "data": {
      "text/plain": [
       "'ab'"
      ]
     },
     "execution_count": 2,
     "metadata": {},
     "output_type": "execute_result"
    }
   ],
   "source": [
    "fx(2)"
   ]
  },
  {
   "cell_type": "code",
   "execution_count": null,
   "id": "a671f362",
   "metadata": {},
   "outputs": [],
   "source": []
  }
 ],
 "metadata": {
  "kernelspec": {
   "display_name": "Python 3 (ipykernel)",
   "language": "python",
   "name": "python3"
  },
  "language_info": {
   "codemirror_mode": {
    "name": "ipython",
    "version": 3
   },
   "file_extension": ".py",
   "mimetype": "text/x-python",
   "name": "python",
   "nbconvert_exporter": "python",
   "pygments_lexer": "ipython3",
   "version": "3.10.6"
  }
 },
 "nbformat": 4,
 "nbformat_minor": 5
}
