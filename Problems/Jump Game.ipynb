{
 "cells": [
  {
   "cell_type": "markdown",
   "id": "bea6bf86",
   "metadata": {},
   "source": [
    "You are given an integer array nums. You are initially positioned at the array's first index, and each element in the array represents your maximum jump length at that position.\n",
    "\n",
    "Return true if you can reach the last index, or false otherwise.\n",
    "\n",
    " \n",
    "\n",
    "Example 1:\n",
    "\n",
    "Input: nums = [2,3,1,1,4]\n",
    "\n",
    "Output: true\n",
    "Explanation: Jump 1 step from index 0 to 1, then 3 steps to the last index.\n",
    "    \n",
    "Example 2:\n",
    "\n",
    "Input: nums = [3,2,1,0,4]\n",
    "\n",
    "Output: false\n",
    "Explanation: You will always arrive at index 3 no matter what. Its maximum jump length is 0, which makes it impossible to reach the last index."
   ]
  },
  {
   "cell_type": "code",
   "execution_count": 11,
   "id": "f5b7fb5f",
   "metadata": {},
   "outputs": [],
   "source": [
    "def canJump(nums) -> bool:\n",
    "    dp=[-1]*len(nums)\n",
    "    if len(nums)==1:return True\n",
    "    if nums[0]==0:return False\n",
    "    dp[0]=0\n",
    "    for i in range(len(nums)-1):\n",
    "        for j in range(i+1,nums[i]+i+1):\n",
    "            if j==len(nums)-1:\n",
    "                if sum(dp[:-1])==0:\n",
    "                    return True\n",
    "                else:\n",
    "                    return False\n",
    "            else:\n",
    "                dp[j]=0"
   ]
  },
  {
   "cell_type": "markdown",
   "id": "b9bce8bb",
   "metadata": {},
   "source": [
    "### Optimized"
   ]
  },
  {
   "cell_type": "code",
   "execution_count": 12,
   "id": "66eeaa15",
   "metadata": {},
   "outputs": [],
   "source": [
    "def fx(nums):\n",
    "    temp=0\n",
    "    for i in nums:\n",
    "        if temp<0:\n",
    "            return False\n",
    "        elif i>temp:\n",
    "            temp=i\n",
    "        temp-=1\n",
    "    return True"
   ]
  },
  {
   "cell_type": "code",
   "execution_count": null,
   "id": "3f71f966",
   "metadata": {},
   "outputs": [],
   "source": []
  }
 ],
 "metadata": {
  "kernelspec": {
   "display_name": "Python 3 (ipykernel)",
   "language": "python",
   "name": "python3"
  },
  "language_info": {
   "codemirror_mode": {
    "name": "ipython",
    "version": 3
   },
   "file_extension": ".py",
   "mimetype": "text/x-python",
   "name": "python",
   "nbconvert_exporter": "python",
   "pygments_lexer": "ipython3",
   "version": "3.10.6"
  }
 },
 "nbformat": 4,
 "nbformat_minor": 5
}
