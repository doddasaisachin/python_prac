{
 "cells": [
  {
   "cell_type": "markdown",
   "id": "4d26e785",
   "metadata": {},
   "source": [
    "Given an array of positive and negative integers. You have to make the array beautiful. An array is beautiful if two adjacent integers, arr[i] and arr[i+1] have the same sign. And you can do the following operation any number of times until the array becomes beautiful.\n",
    "\n",
    "If two adjacent integers have different signs, remove them.\n",
    "Return the beautiful array after performing the above operation."
   ]
  },
  {
   "cell_type": "markdown",
   "id": "f171ff42",
   "metadata": {},
   "source": [
    "##### Example 1:\n",
    "\n",
    "Input: 4 2 -2 1\n",
    "    \n",
    "Output: 4 1\n",
    "    \n",
    "Explanation: As at indices 1 and 2 , 2 and -2 have\n",
    "different sign, they are removed. And the  the final\n",
    "array is: 4 1."
   ]
  },
  {
   "cell_type": "markdown",
   "id": "bf79fc58",
   "metadata": {},
   "source": [
    "##### Example 2:\n",
    "\n",
    "Input: 2 -2 1 -1\n",
    "    \n",
    "Output: []\n",
    "    \n",
    "Explanation: As at indices 0 and 1, 2 and -2 have\n",
    "different sign, so they are removed. Now the array\n",
    "is 1 -1.Now 1 and -1 are also removed as they have\n",
    "different sign. So the final array is empty. "
   ]
  },
  {
   "cell_type": "code",
   "execution_count": 3,
   "id": "76da0563",
   "metadata": {},
   "outputs": [],
   "source": [
    "def func(arr):\n",
    "    idx=0\n",
    "    res=[]\n",
    "    while idx<len(arr)-1:\n",
    "        if (arr[idx]*arr[idx+1]<=0):\n",
    "            idx=idx+2\n",
    "        else:\n",
    "            res.append(arr[idx])\n",
    "            idx=idx+1\n",
    "    if idx==len(arr)-1:\n",
    "        res.append(arr[idx])\n",
    "        \n",
    "    while len(res)!=len(arr):\n",
    "        return func(res)\n",
    "    return res"
   ]
  },
  {
   "cell_type": "code",
   "execution_count": 6,
   "id": "4a4d1e47",
   "metadata": {},
   "outputs": [
    {
     "data": {
      "text/plain": [
       "[2, 2]"
      ]
     },
     "execution_count": 6,
     "metadata": {},
     "output_type": "execute_result"
    }
   ],
   "source": [
    "func([2 ,1 ,-4, 3 ,-5 ,2, 6 ,-3])"
   ]
  },
  {
   "cell_type": "code",
   "execution_count": 7,
   "id": "29fdb20f",
   "metadata": {},
   "outputs": [
    {
     "data": {
      "text/plain": [
       "[4, 1]"
      ]
     },
     "execution_count": 7,
     "metadata": {},
     "output_type": "execute_result"
    }
   ],
   "source": [
    "func([4,2,-2,1])"
   ]
  },
  {
   "cell_type": "code",
   "execution_count": 8,
   "id": "c53e4fc1",
   "metadata": {
    "scrolled": true
   },
   "outputs": [
    {
     "data": {
      "text/plain": [
       "[]"
      ]
     },
     "execution_count": 8,
     "metadata": {},
     "output_type": "execute_result"
    }
   ],
   "source": [
    "func([2,-2,1,-1])"
   ]
  },
  {
   "cell_type": "code",
   "execution_count": 9,
   "id": "5619b892",
   "metadata": {
    "scrolled": true
   },
   "outputs": [
    {
     "data": {
      "text/plain": [
       "[-1]"
      ]
     },
     "execution_count": 9,
     "metadata": {},
     "output_type": "execute_result"
    }
   ],
   "source": [
    "func([-1,-2,-3,3,4])"
   ]
  },
  {
   "cell_type": "code",
   "execution_count": 10,
   "id": "cb1aca74",
   "metadata": {},
   "outputs": [
    {
     "data": {
      "text/plain": [
       "[1, 5, 5, 8]"
      ]
     },
     "execution_count": 10,
     "metadata": {},
     "output_type": "execute_result"
    }
   ],
   "source": [
    "func([1,2,-2,5,3,-3,5,8])"
   ]
  },
  {
   "cell_type": "code",
   "execution_count": 11,
   "id": "0d73bd0c",
   "metadata": {},
   "outputs": [
    {
     "data": {
      "text/plain": [
       "[]"
      ]
     },
     "execution_count": 11,
     "metadata": {},
     "output_type": "execute_result"
    }
   ],
   "source": [
    "func([-3,-3,-3,3,3,5])"
   ]
  },
  {
   "cell_type": "code",
   "execution_count": 13,
   "id": "72f7b423",
   "metadata": {},
   "outputs": [
    {
     "data": {
      "text/plain": [
       "[-7]"
      ]
     },
     "execution_count": 13,
     "metadata": {},
     "output_type": "execute_result"
    }
   ],
   "source": [
    "func([-7])"
   ]
  }
 ],
 "metadata": {
  "kernelspec": {
   "display_name": "Python 3 (ipykernel)",
   "language": "python",
   "name": "python3"
  },
  "language_info": {
   "codemirror_mode": {
    "name": "ipython",
    "version": 3
   },
   "file_extension": ".py",
   "mimetype": "text/x-python",
   "name": "python",
   "nbconvert_exporter": "python",
   "pygments_lexer": "ipython3",
   "version": "3.10.6"
  }
 },
 "nbformat": 4,
 "nbformat_minor": 5
}
