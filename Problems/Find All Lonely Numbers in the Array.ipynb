{
 "cells": [
  {
   "cell_type": "markdown",
   "id": "654f73ff",
   "metadata": {},
   "source": [
    "You are given an integer array nums. A number x is lonely when it appears only once, and no adjacent numbers (i.e. x + 1 and x - 1) appear in the array.\n",
    "\n",
    "Return all lonely numbers in nums. You may return the answer in any order."
   ]
  },
  {
   "cell_type": "code",
   "execution_count": 7,
   "id": "5a874579",
   "metadata": {},
   "outputs": [],
   "source": [
    "\n",
    "def findLonely(nums) :\n",
    "    d=dict()\n",
    "    for i in nums:\n",
    "        try:\n",
    "            d[i]=d[i]+1\n",
    "        except:\n",
    "            d[i]=1\n",
    "    ans=[]\n",
    "    for i in nums:\n",
    "        if (d[i]==1) and (i-1 not in d) and (i+1 not in d):\n",
    "            ans.append(i)\n",
    "    return ans"
   ]
  },
  {
   "cell_type": "code",
   "execution_count": 8,
   "id": "0ba6f2c1",
   "metadata": {},
   "outputs": [
    {
     "data": {
      "text/plain": [
       "[1, 5]"
      ]
     },
     "execution_count": 8,
     "metadata": {},
     "output_type": "execute_result"
    }
   ],
   "source": [
    "findLonely([1,3,5,3])"
   ]
  },
  {
   "cell_type": "code",
   "execution_count": null,
   "id": "adf6be29",
   "metadata": {},
   "outputs": [],
   "source": []
  }
 ],
 "metadata": {
  "kernelspec": {
   "display_name": "Python 3 (ipykernel)",
   "language": "python",
   "name": "python3"
  },
  "language_info": {
   "codemirror_mode": {
    "name": "ipython",
    "version": 3
   },
   "file_extension": ".py",
   "mimetype": "text/x-python",
   "name": "python",
   "nbconvert_exporter": "python",
   "pygments_lexer": "ipython3",
   "version": "3.10.6"
  }
 },
 "nbformat": 4,
 "nbformat_minor": 5
}
