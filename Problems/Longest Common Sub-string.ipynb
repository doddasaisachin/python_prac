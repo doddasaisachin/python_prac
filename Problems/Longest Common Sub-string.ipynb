{
 "cells": [
  {
   "cell_type": "markdown",
   "id": "6e819752",
   "metadata": {},
   "source": [
    "Find the length of the longest common sub-string"
   ]
  },
  {
   "cell_type": "code",
   "execution_count": 22,
   "id": "7511608b",
   "metadata": {},
   "outputs": [],
   "source": [
    "def fx(s1,s2):\n",
    "    dp=[[0]*(len(s1)+1) for i in range(len(s2)+1)]\n",
    "    ans=0\n",
    "    for i in range(1,len(s2)+1):\n",
    "        for j in range(1,len(s1)+1):\n",
    "            if s2[i-1]==s1[j-1]:\n",
    "                dp[i][j]=dp[i-1][j-1]+1\n",
    "            ans=max(ans,dp[i][j])\n",
    "#     for i in dp:\n",
    "#         for j in i:\n",
    "#             print(j,end=' ')\n",
    "#         print()\n",
    "    return ans"
   ]
  },
  {
   "cell_type": "code",
   "execution_count": 23,
   "id": "43593766",
   "metadata": {},
   "outputs": [
    {
     "data": {
      "text/plain": [
       "6"
      ]
     },
     "execution_count": 23,
     "metadata": {},
     "output_type": "execute_result"
    }
   ],
   "source": [
    "fx('loveleetcode','hateleetcamp')"
   ]
  },
  {
   "cell_type": "code",
   "execution_count": 24,
   "id": "800a3ae2",
   "metadata": {},
   "outputs": [
    {
     "data": {
      "text/plain": [
       "5"
      ]
     },
     "execution_count": 24,
     "metadata": {},
     "output_type": "execute_result"
    }
   ],
   "source": [
    "fx(\"GeeksforGeeks\",\"GeeksQuiz\")"
   ]
  },
  {
   "cell_type": "code",
   "execution_count": null,
   "id": "00b24724",
   "metadata": {},
   "outputs": [],
   "source": []
  }
 ],
 "metadata": {
  "kernelspec": {
   "display_name": "Python 3 (ipykernel)",
   "language": "python",
   "name": "python3"
  },
  "language_info": {
   "codemirror_mode": {
    "name": "ipython",
    "version": 3
   },
   "file_extension": ".py",
   "mimetype": "text/x-python",
   "name": "python",
   "nbconvert_exporter": "python",
   "pygments_lexer": "ipython3",
   "version": "3.10.6"
  }
 },
 "nbformat": 4,
 "nbformat_minor": 5
}
