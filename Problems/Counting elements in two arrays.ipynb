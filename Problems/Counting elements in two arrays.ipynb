{
 "cells": [
  {
   "cell_type": "markdown",
   "id": "29f2b103",
   "metadata": {},
   "source": [
    "Given two unsorted arrays arr1[] and arr2[]. They may contain duplicates. For each element in arr1[] count elements less than or equal to it in array arr2[]."
   ]
  },
  {
   "cell_type": "markdown",
   "id": "6885f7ab",
   "metadata": {},
   "source": [
    "##### Example 1:\n",
    "\n",
    "Input:\n",
    "m = 6, n = 6\n",
    "arr1[] = [1,2,3,4,7,9]\n",
    "arr2[] = [0,1,2,1,1,4]\n",
    "\n",
    "Output: 4 5 5 6 6 6\n",
    "    \n",
    "Explanation: Number of elements less than\n",
    "or equal to 1, 2, 3, 4, 7, and 9 in the\n",
    "second array are respectively 4,5,5,6,6,6"
   ]
  },
  {
   "cell_type": "markdown",
   "id": "10917056",
   "metadata": {},
   "source": [
    "##### Example 2:\n",
    "\n",
    "Input:\n",
    "m = 5, n = 7\n",
    "arr1[] = [4,8,7,5,1]\n",
    "arr2[] = [4,48,3,0,1,1,5]\n",
    "\n",
    "Output: 5 6 6 6 3\n",
    "    \n",
    "Explanation: Number of elements less than\n",
    "or equal to 4, 8, 7, 5, and 1 in the\n",
    "second array are respectively 5,6,6,6,3"
   ]
  },
  {
   "cell_type": "code",
   "execution_count": 15,
   "id": "24d861bc",
   "metadata": {},
   "outputs": [],
   "source": [
    "def func(arr1,arr2):\n",
    "    res=[]\n",
    "    arr2.sort()\n",
    "    i=0\n",
    "    while i<len(arr1):\n",
    "        count=0\n",
    "        ele=arr1[i]\n",
    "        for j in arr2:\n",
    "            if j<=ele:\n",
    "                count+=1\n",
    "            else:\n",
    "                break\n",
    "        res.append(count)\n",
    "        i+=1\n",
    "    return res"
   ]
  },
  {
   "cell_type": "code",
   "execution_count": 16,
   "id": "f1051446",
   "metadata": {},
   "outputs": [
    {
     "data": {
      "text/plain": [
       "[5, 6, 6, 6, 3]"
      ]
     },
     "execution_count": 16,
     "metadata": {},
     "output_type": "execute_result"
    }
   ],
   "source": [
    "func([4,8,7,5,1],[4,48,3,0,1,1,5])"
   ]
  },
  {
   "cell_type": "code",
   "execution_count": 17,
   "id": "b041fb35",
   "metadata": {},
   "outputs": [
    {
     "data": {
      "text/plain": [
       "[4, 5, 5, 6, 6, 6]"
      ]
     },
     "execution_count": 17,
     "metadata": {},
     "output_type": "execute_result"
    }
   ],
   "source": [
    "func([1,2,3,4,7,9],[0,1,2,1,1,4])"
   ]
  }
 ],
 "metadata": {
  "kernelspec": {
   "display_name": "Python 3 (ipykernel)",
   "language": "python",
   "name": "python3"
  },
  "language_info": {
   "codemirror_mode": {
    "name": "ipython",
    "version": 3
   },
   "file_extension": ".py",
   "mimetype": "text/x-python",
   "name": "python",
   "nbconvert_exporter": "python",
   "pygments_lexer": "ipython3",
   "version": "3.10.6"
  }
 },
 "nbformat": 4,
 "nbformat_minor": 5
}
