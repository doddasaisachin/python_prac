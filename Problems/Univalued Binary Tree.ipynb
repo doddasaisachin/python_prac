{
 "cells": [
  {
   "cell_type": "markdown",
   "id": "52d0165f",
   "metadata": {},
   "source": [
    "A binary tree is uni-valued if every node in the tree has the same value.\n",
    "\n",
    "Given the root of a binary tree, return true if the given tree is uni-valued, or false otherwise."
   ]
  },
  {
   "cell_type": "code",
   "execution_count": 3,
   "id": "954ae8f9",
   "metadata": {},
   "outputs": [],
   "source": [
    "class TreeNode:\n",
    "    def __init__(self, val=0, left=None, right=None):\n",
    "        self.val = val\n",
    "        self.left = left\n",
    "        self.right = right"
   ]
  },
  {
   "cell_type": "code",
   "execution_count": 1,
   "id": "a8d028ff",
   "metadata": {},
   "outputs": [],
   "source": [
    "def fx(root,val):\n",
    "    if root.val!=val:return False\n",
    "    if root.left and root.right:\n",
    "        return fx(root.left,val) and fx(root.right,val)\n",
    "    elif root.left:\n",
    "        return fx(root.left,val)\n",
    "    elif root.right:\n",
    "        return fx(root.right,val)\n",
    "    return True"
   ]
  },
  {
   "cell_type": "code",
   "execution_count": 2,
   "id": "324c3cc9",
   "metadata": {},
   "outputs": [],
   "source": [
    "def main(root):\n",
    "    val=root.val\n",
    "    return fx(root,val)"
   ]
  },
  {
   "cell_type": "code",
   "execution_count": null,
   "id": "30f2145b",
   "metadata": {},
   "outputs": [],
   "source": []
  }
 ],
 "metadata": {
  "kernelspec": {
   "display_name": "Python 3 (ipykernel)",
   "language": "python",
   "name": "python3"
  },
  "language_info": {
   "codemirror_mode": {
    "name": "ipython",
    "version": 3
   },
   "file_extension": ".py",
   "mimetype": "text/x-python",
   "name": "python",
   "nbconvert_exporter": "python",
   "pygments_lexer": "ipython3",
   "version": "3.10.6"
  }
 },
 "nbformat": 4,
 "nbformat_minor": 5
}
