{
 "cells": [
  {
   "cell_type": "markdown",
   "id": "77b3debd",
   "metadata": {},
   "source": [
    "Given a binary tree having n nodes. Find the sum of all nodes on the longest path from root to any leaf node. If two or more paths compete for the longest path, then the path having maximum sum of nodes will be considered."
   ]
  },
  {
   "cell_type": "code",
   "execution_count": 6,
   "id": "0ef30e15",
   "metadata": {},
   "outputs": [],
   "source": [
    "def maxdepth(root):\n",
    "    if root is None:\n",
    "        return (0,0)\n",
    "    depth,Sum=max(maxdepth(root.left),maxdepth(root.right))\n",
    "    return depth+1,Sum+root.data\n",
    "\n",
    "def sumOfLongRootToLeafPath(root):\n",
    "    tup=maxdepth(root)\n",
    "    return tup[1]"
   ]
  },
  {
   "cell_type": "code",
   "execution_count": null,
   "id": "72d92f11",
   "metadata": {},
   "outputs": [],
   "source": []
  }
 ],
 "metadata": {
  "kernelspec": {
   "display_name": "Python 3 (ipykernel)",
   "language": "python",
   "name": "python3"
  },
  "language_info": {
   "codemirror_mode": {
    "name": "ipython",
    "version": 3
   },
   "file_extension": ".py",
   "mimetype": "text/x-python",
   "name": "python",
   "nbconvert_exporter": "python",
   "pygments_lexer": "ipython3",
   "version": "3.10.6"
  }
 },
 "nbformat": 4,
 "nbformat_minor": 5
}
