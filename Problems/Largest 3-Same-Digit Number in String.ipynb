{
 "cells": [
  {
   "cell_type": "markdown",
   "id": "d102b9a9",
   "metadata": {},
   "source": [
    "You are given a string num representing a large integer. An integer is good if it meets the following conditions:\n",
    "\n",
    "It is a substring of num with length 3.\n",
    "It consists of only one unique digit.\n",
    "Return the maximum good integer as a string or an empty string \"\" if no such integer exists.\n",
    "\n",
    "Note:\n",
    "\n",
    "A substring is a contiguous sequence of characters within a string.\n",
    "There may be leading zeroes in num or a good integer.\n",
    " \n",
    "\n",
    "Example 1\n",
    "\n",
    "Input: num = \"6777133339\"\n",
    "Output: \"777\"\n",
    "Explanation: There are two distinct good integers: \"777\" and \"333\".\n",
    "\"777\" is the largest, so we return \"777\".\n",
    "\n",
    "Example 2:\n",
    "\n",
    "Input: num = \"2300019\"\n",
    "Output: \"000\"\n",
    "Explanation: \"000\" is the only good integer.\n",
    "    \n",
    "Example 3:\n",
    "\n",
    "Input: num = \"42352338\"\n",
    "Output: \"\"\n",
    "Explanation: No substring of length 3 consists of only one unique digit. Therefore, there are no good integers."
   ]
  },
  {
   "cell_type": "code",
   "execution_count": 2,
   "id": "f553f3b8",
   "metadata": {},
   "outputs": [],
   "source": [
    "def func(num):\n",
    "    res=dict()\n",
    "    for i in range(len(num)-2):\n",
    "        if len(set(num[i:i+3]))==1:\n",
    "            res[num[i:i+3]]=(int(num[i:i+3]))\n",
    "    if len(res.keys())==0:\n",
    "        return \"\"\n",
    "    arr=sorted(res,key=lambda x : res[x])\n",
    "    return arr[-1]"
   ]
  },
  {
   "cell_type": "code",
   "execution_count": 4,
   "id": "ccded3c5",
   "metadata": {},
   "outputs": [
    {
     "data": {
      "text/plain": [
       "'777'"
      ]
     },
     "execution_count": 4,
     "metadata": {},
     "output_type": "execute_result"
    }
   ],
   "source": [
    "func(\"6777133339\")"
   ]
  },
  {
   "cell_type": "code",
   "execution_count": 5,
   "id": "11a814d1",
   "metadata": {},
   "outputs": [
    {
     "data": {
      "text/plain": [
       "'000'"
      ]
     },
     "execution_count": 5,
     "metadata": {},
     "output_type": "execute_result"
    }
   ],
   "source": [
    "func(\"2300019\")"
   ]
  },
  {
   "cell_type": "code",
   "execution_count": 3,
   "id": "01400402",
   "metadata": {},
   "outputs": [],
   "source": [
    "def somewhat_better(num):\n",
    "    fin=\"\"\n",
    "    for i in range(len(num)-2):\n",
    "        if len(set(num[i:i+3]))==1:\n",
    "            if fin==\"\":\n",
    "                fin=num[i:i+3]\n",
    "            else:\n",
    "                temp=num[i:i+3]\n",
    "                if int(temp)>int(fin):\n",
    "                    fin=temp\n",
    "    return fin"
   ]
  },
  {
   "cell_type": "code",
   "execution_count": 6,
   "id": "96ef3678",
   "metadata": {},
   "outputs": [
    {
     "data": {
      "text/plain": [
       "'000'"
      ]
     },
     "execution_count": 6,
     "metadata": {},
     "output_type": "execute_result"
    }
   ],
   "source": [
    "somewhat_better(\"2300019\")"
   ]
  },
  {
   "cell_type": "code",
   "execution_count": null,
   "id": "290e2442",
   "metadata": {},
   "outputs": [],
   "source": []
  }
 ],
 "metadata": {
  "kernelspec": {
   "display_name": "Python 3 (ipykernel)",
   "language": "python",
   "name": "python3"
  },
  "language_info": {
   "codemirror_mode": {
    "name": "ipython",
    "version": 3
   },
   "file_extension": ".py",
   "mimetype": "text/x-python",
   "name": "python",
   "nbconvert_exporter": "python",
   "pygments_lexer": "ipython3",
   "version": "3.10.6"
  }
 },
 "nbformat": 4,
 "nbformat_minor": 5
}
