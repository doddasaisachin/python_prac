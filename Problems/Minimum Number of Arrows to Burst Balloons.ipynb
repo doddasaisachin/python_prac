{
 "cells": [
  {
   "cell_type": "markdown",
   "id": "f81cfce6",
   "metadata": {},
   "source": [
    "There are some spherical balloons taped onto a flat wall that represents the XY-plane. The balloons are represented as a 2D integer array points where points[i] = [xstart, xend] denotes a balloon whose horizontal diameter stretches between xstart and xend. You do not know the exact y-coordinates of the balloons.\n",
    "\n",
    "Arrows can be shot up directly vertically (in the positive y-direction) from different points along the x-axis. A balloon with xstart and xend is burst by an arrow shot at x if xstart <= x <= xend. There is no limit to the number of arrows that can be shot. A shot arrow keeps traveling up infinitely, bursting any balloons in its path.\n",
    "\n",
    "Given the array points, return the minimum number of arrows that must be shot to burst all balloons.\n",
    "\n",
    " "
   ]
  },
  {
   "cell_type": "code",
   "execution_count": 39,
   "id": "f62f879e",
   "metadata": {},
   "outputs": [],
   "source": [
    "def fx(points):\n",
    "    arr=sorted(points,key=lambda x : x[1])\n",
    "    d=dict()\n",
    "    seen=[]\n",
    "    res=[]\n",
    "    for i in range(len(arr)-1):\n",
    "        if seen==[]:\n",
    "            if arr[i+1][0]<=arr[i][1]:\n",
    "                seen.append(arr[i])\n",
    "                seen.append(arr[i+1])\n",
    "            else:\n",
    "                res.append([arr[i]])\n",
    "        else:\n",
    "            if arr[i+1][0]<=seen[0][1]:\n",
    "                seen.append(arr[i+1])\n",
    "            else:\n",
    "                res.append(seen)\n",
    "                seen=[arr[i+1]]\n",
    "    if arr[-1] not in seen:\n",
    "        seen=[arr[-1]]\n",
    "    res.append(seen)\n",
    "    return len(res)"
   ]
  },
  {
   "cell_type": "code",
   "execution_count": 40,
   "id": "e2c546dd",
   "metadata": {},
   "outputs": [
    {
     "data": {
      "text/plain": [
       "2"
      ]
     },
     "execution_count": 40,
     "metadata": {},
     "output_type": "execute_result"
    }
   ],
   "source": [
    "fx([[10,16],[2,8],[1,6],[7,12]])"
   ]
  },
  {
   "cell_type": "code",
   "execution_count": 41,
   "id": "8741d372",
   "metadata": {},
   "outputs": [
    {
     "data": {
      "text/plain": [
       "4"
      ]
     },
     "execution_count": 41,
     "metadata": {},
     "output_type": "execute_result"
    }
   ],
   "source": [
    "fx([[1,2],[3,4],[5,6],[7,8]])"
   ]
  },
  {
   "cell_type": "code",
   "execution_count": 42,
   "id": "b42085df",
   "metadata": {},
   "outputs": [
    {
     "data": {
      "text/plain": [
       "2"
      ]
     },
     "execution_count": 42,
     "metadata": {},
     "output_type": "execute_result"
    }
   ],
   "source": [
    "fx([[1,2],[2,3],[3,4],[4,5]])"
   ]
  },
  {
   "cell_type": "code",
   "execution_count": null,
   "id": "d3c8826a",
   "metadata": {},
   "outputs": [],
   "source": []
  }
 ],
 "metadata": {
  "kernelspec": {
   "display_name": "Python 3 (ipykernel)",
   "language": "python",
   "name": "python3"
  },
  "language_info": {
   "codemirror_mode": {
    "name": "ipython",
    "version": 3
   },
   "file_extension": ".py",
   "mimetype": "text/x-python",
   "name": "python",
   "nbconvert_exporter": "python",
   "pygments_lexer": "ipython3",
   "version": "3.10.6"
  }
 },
 "nbformat": 4,
 "nbformat_minor": 5
}
