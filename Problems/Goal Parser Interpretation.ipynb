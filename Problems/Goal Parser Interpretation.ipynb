{
 "cells": [
  {
   "cell_type": "markdown",
   "id": "b6dba5cb",
   "metadata": {},
   "source": [
    "You own a Goal Parser that can interpret a string command. The command consists of an alphabet of \"G\", \"()\" and/or \"(al)\" in some order. The Goal Parser will interpret \"G\" as the string \"G\", \"()\" as the string \"o\", and \"(al)\" as the string \"al\". The interpreted strings are then concatenated in the original order.\n",
    "\n",
    "Given the string command, return the Goal Parser's interpretation of command."
   ]
  },
  {
   "cell_type": "code",
   "execution_count": 1,
   "id": "65b1a076",
   "metadata": {},
   "outputs": [],
   "source": [
    "def fx(command):\n",
    "    res=''\n",
    "    idx=0\n",
    "    while idx<len(command):\n",
    "        if command[idx]=='G':\n",
    "            res+='G'\n",
    "            idx+=1\n",
    "        elif command[idx]=='(' and command[idx+1]==')':\n",
    "            res+='o'\n",
    "            idx+=2\n",
    "        else:\n",
    "            res+='al'\n",
    "            idx+=4\n",
    "    return res"
   ]
  },
  {
   "cell_type": "code",
   "execution_count": 2,
   "id": "5470354c",
   "metadata": {},
   "outputs": [
    {
     "data": {
      "text/plain": [
       "'Gooooal'"
      ]
     },
     "execution_count": 2,
     "metadata": {},
     "output_type": "execute_result"
    }
   ],
   "source": [
    "fx(\"G()()()()(al)\")"
   ]
  },
  {
   "cell_type": "code",
   "execution_count": null,
   "id": "09190a99",
   "metadata": {},
   "outputs": [],
   "source": []
  }
 ],
 "metadata": {
  "kernelspec": {
   "display_name": "Python 3 (ipykernel)",
   "language": "python",
   "name": "python3"
  },
  "language_info": {
   "codemirror_mode": {
    "name": "ipython",
    "version": 3
   },
   "file_extension": ".py",
   "mimetype": "text/x-python",
   "name": "python",
   "nbconvert_exporter": "python",
   "pygments_lexer": "ipython3",
   "version": "3.10.6"
  }
 },
 "nbformat": 4,
 "nbformat_minor": 5
}
