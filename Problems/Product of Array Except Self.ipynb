{
 "cells": [
  {
   "cell_type": "markdown",
   "id": "83894ea8",
   "metadata": {},
   "source": [
    "Given an integer array nums, return an array answer such that answer[i] is equal to the product of all the elements of nums except nums[i].\n",
    "\n",
    "The product of any prefix or suffix of nums is guaranteed to fit in a 32-bit integer.\n",
    "\n",
    "You must write an algorithm that runs in O(n) time and without using the division operation."
   ]
  },
  {
   "cell_type": "code",
   "execution_count": 23,
   "id": "474affae",
   "metadata": {},
   "outputs": [],
   "source": [
    "def fx(nums):\n",
    "    n=len(nums)\n",
    "    dp1=[0 for i in range(n)]\n",
    "    dp2=[0 for i in range(n)]\n",
    "    dp1[1]=nums[0]\n",
    "    dp2[-2]=nums[-1]\n",
    "    for i in range(2,n):\n",
    "        dp1[i]=dp1[i-1]*nums[i-1]\n",
    "    for i in range(n-3,-1,-1):\n",
    "        dp2[i]=dp2[i+1]*nums[i+1]\n",
    "#     print(dp1,dp2)\n",
    "    ans=[None for i in range(n)]\n",
    "    ans[0]=dp2[0]\n",
    "    ans[-1]=dp1[-1]\n",
    "    for i in range(1,n-1):\n",
    "        ans[i]=dp2[i]*dp1[i]\n",
    "    return ans"
   ]
  },
  {
   "cell_type": "code",
   "execution_count": 24,
   "id": "4380f30c",
   "metadata": {},
   "outputs": [
    {
     "data": {
      "text/plain": [
       "[24, 12, 8, 6]"
      ]
     },
     "execution_count": 24,
     "metadata": {},
     "output_type": "execute_result"
    }
   ],
   "source": [
    "fx([1,2,3,4])"
   ]
  },
  {
   "cell_type": "code",
   "execution_count": 25,
   "id": "647c889d",
   "metadata": {},
   "outputs": [
    {
     "data": {
      "text/plain": [
       "[0, 0, 9, 0, 0]"
      ]
     },
     "execution_count": 25,
     "metadata": {},
     "output_type": "execute_result"
    }
   ],
   "source": [
    "fx([-1,1,0,-3,3])"
   ]
  },
  {
   "cell_type": "code",
   "execution_count": null,
   "id": "f7bfa873",
   "metadata": {},
   "outputs": [],
   "source": []
  }
 ],
 "metadata": {
  "kernelspec": {
   "display_name": "Python 3 (ipykernel)",
   "language": "python",
   "name": "python3"
  },
  "language_info": {
   "codemirror_mode": {
    "name": "ipython",
    "version": 3
   },
   "file_extension": ".py",
   "mimetype": "text/x-python",
   "name": "python",
   "nbconvert_exporter": "python",
   "pygments_lexer": "ipython3",
   "version": "3.10.6"
  }
 },
 "nbformat": 4,
 "nbformat_minor": 5
}
