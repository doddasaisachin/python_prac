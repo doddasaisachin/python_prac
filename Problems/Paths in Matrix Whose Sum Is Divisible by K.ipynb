{
 "cells": [
  {
   "cell_type": "markdown",
   "id": "004f58ba",
   "metadata": {},
   "source": [
    "You are given a 0-indexed m x n integer matrix grid and an integer k. You are currently at position (0, 0) and you want to reach position (m - 1, n - 1) moving only down or right.\n",
    "\n",
    "Return the number of paths where the sum of the elements on the path is divisible by k. Since the answer may be very large, return it modulo 109 + 7."
   ]
  },
  {
   "cell_type": "code",
   "execution_count": 1,
   "id": "91a4ec1a",
   "metadata": {},
   "outputs": [],
   "source": [
    "def display(mat):\n",
    "    for i in range(len(mat)):\n",
    "        for j in range(len(mat[0])):\n",
    "            print(mat[i][j],end=' ')\n",
    "        print()"
   ]
  },
  {
   "cell_type": "code",
   "execution_count": 7,
   "id": "5d0ff5a4",
   "metadata": {},
   "outputs": [],
   "source": [
    "def fx(grid):\n",
    "    m=len(grid)\n",
    "    n=len(grid[0])\n",
    "    dp=[[None]*n for i in range(m)]\n",
    "    dp[0][0]=[grid[0][0]]\n",
    "    for i in range(1,n):\n",
    "        dp[0][i]=[grid[0][i]+dp[0][i-1][0]]\n",
    "    for i in range(1,m):\n",
    "        dp[i][0]=[grid[i][0]+dp[i-1][0][0]]\n",
    "    for i in range(1,m):\n",
    "        for j in range(1,n):\n",
    "            val=grid[i][j]\n",
    "            temp=[]\n",
    "            for k in dp[i][j-1]:\n",
    "                temp.append(val+k)\n",
    "            for k in dp[i-1][j]:\n",
    "                temp.append(val+k)\n",
    "            dp[i][j]=temp\n",
    "    return dp[-1][-1]"
   ]
  },
  {
   "cell_type": "code",
   "execution_count": 8,
   "id": "ccd59c5b",
   "metadata": {},
   "outputs": [],
   "source": [
    "def main(grid,k):\n",
    "    res=0\n",
    "    for i in fx(grid):\n",
    "        if i%1==0:\n",
    "            res+=1\n",
    "    return res"
   ]
  },
  {
   "cell_type": "code",
   "execution_count": 9,
   "id": "c85e84fe",
   "metadata": {},
   "outputs": [
    {
     "data": {
      "text/plain": [
       "6"
      ]
     },
     "execution_count": 9,
     "metadata": {},
     "output_type": "execute_result"
    }
   ],
   "source": [
    "main([[5,2,4],[3,0,5],[0,7,2]],3)"
   ]
  },
  {
   "cell_type": "code",
   "execution_count": null,
   "id": "379b1374",
   "metadata": {},
   "outputs": [],
   "source": []
  }
 ],
 "metadata": {
  "kernelspec": {
   "display_name": "Python 3 (ipykernel)",
   "language": "python",
   "name": "python3"
  },
  "language_info": {
   "codemirror_mode": {
    "name": "ipython",
    "version": 3
   },
   "file_extension": ".py",
   "mimetype": "text/x-python",
   "name": "python",
   "nbconvert_exporter": "python",
   "pygments_lexer": "ipython3",
   "version": "3.10.6"
  }
 },
 "nbformat": 4,
 "nbformat_minor": 5
}
