{
 "cells": [
  {
   "cell_type": "markdown",
   "id": "cd6e0f00",
   "metadata": {},
   "source": [
    "Given a set of distinct positive integers nums, return the largest subset answer such that every pair (answer[i], answer[j]) of elements in this subset satisfies:\n",
    "\n",
    "answer[i] % answer[j] == 0, or\n",
    "answer[j] % answer[i] == 0\n",
    "If there are multiple solutions, return any of them.\n",
    "\n",
    " "
   ]
  },
  {
   "cell_type": "markdown",
   "id": "9bc0ddf0",
   "metadata": {},
   "source": [
    "## Recursive Solution"
   ]
  },
  {
   "cell_type": "code",
   "execution_count": 3,
   "id": "8589d03f",
   "metadata": {},
   "outputs": [],
   "source": [
    "def fx(arr,i,j,ans,temp):\n",
    "#     print(i,j,temp,ans)\n",
    "    if i==0:\n",
    "        if len(temp)>len(ans):\n",
    "            return temp\n",
    "        return ans\n",
    "    if j==-1:\n",
    "        i=i-1\n",
    "        if len(temp)>len(ans):\n",
    "            ans=temp\n",
    "        return fx(arr,i,i-1,ans,[arr[i]])\n",
    "    div=True\n",
    "    for k in temp:\n",
    "        if k%arr[j]!=0 and arr[j]%k!=0:\n",
    "            div=False\n",
    "            break\n",
    "    if div:\n",
    "        x=fx(arr,i,j-1,ans,temp+[arr[j]])\n",
    "        y=fx(arr,i,j-1,ans,temp)\n",
    "        if len(x)>len(y):\n",
    "            return x\n",
    "        return y\n",
    "    else:\n",
    "        return fx(arr,i,j-1,ans,temp)"
   ]
  },
  {
   "cell_type": "code",
   "execution_count": 4,
   "id": "6fe27e20",
   "metadata": {},
   "outputs": [],
   "source": [
    "arr=[1,2,3,4,5,6,7,8]\n",
    "i=len(arr)-1\n",
    "j=i-1\n",
    "ans=[]\n",
    "temp=[arr[-1]]"
   ]
  },
  {
   "cell_type": "code",
   "execution_count": 5,
   "id": "017d0a00",
   "metadata": {},
   "outputs": [
    {
     "data": {
      "text/plain": [
       "[8, 4, 2, 1]"
      ]
     },
     "execution_count": 5,
     "metadata": {},
     "output_type": "execute_result"
    }
   ],
   "source": [
    "fx(arr,i,j,ans,temp)"
   ]
  },
  {
   "cell_type": "code",
   "execution_count": null,
   "id": "9409cc40",
   "metadata": {},
   "outputs": [],
   "source": []
  }
 ],
 "metadata": {
  "kernelspec": {
   "display_name": "Python 3 (ipykernel)",
   "language": "python",
   "name": "python3"
  },
  "language_info": {
   "codemirror_mode": {
    "name": "ipython",
    "version": 3
   },
   "file_extension": ".py",
   "mimetype": "text/x-python",
   "name": "python",
   "nbconvert_exporter": "python",
   "pygments_lexer": "ipython3",
   "version": "3.10.6"
  }
 },
 "nbformat": 4,
 "nbformat_minor": 5
}
