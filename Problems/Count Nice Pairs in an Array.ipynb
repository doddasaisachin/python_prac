{
 "cells": [
  {
   "cell_type": "markdown",
   "id": "623cd1fa",
   "metadata": {},
   "source": [
    "You are given an array nums that consists of non-negative integers. Let us define rev(x) as the reverse of the non-negative integer x. For example, rev(123) = 321, and rev(120) = 21. A pair of indices (i, j) is nice if it satisfies all of the following conditions:\n",
    "\n",
    "0 <= i < j < nums.length\n",
    "nums[i] + rev(nums[j]) == nums[j] + rev(nums[i])\n",
    "Return the number of nice pairs of indices. Since that number can be too large, return it modulo 109 + 7."
   ]
  },
  {
   "cell_type": "markdown",
   "id": "abaa3039",
   "metadata": {},
   "source": [
    "Example 1:\n",
    "\n",
    "Input: nums = [42,11,1,97]\n",
    "Output: 2\n",
    "Explanation: The two pairs are:\n",
    " - (0,3) : 42 + rev(97) = 42 + 79 = 121, 97 + rev(42) = 97 + 24 = 121.\n",
    " - (1,2) : 11 + rev(1) = 11 + 1 = 12, 1 + rev(11) = 1 + 11 = 12.\n",
    " \n",
    " \n",
    "Example 2:\n",
    "\n",
    "Input: nums = [13,10,35,24,76]\n",
    "Output: 4"
   ]
  },
  {
   "cell_type": "code",
   "execution_count": 39,
   "id": "8e88c8ce",
   "metadata": {},
   "outputs": [],
   "source": [
    "def function(array):\n",
    "    idx=0\n",
    "    final=len(array)-1\n",
    "    count=0\n",
    "    n=len(array)\n",
    "    while idx<len(array)-1:\n",
    "        if array[idx]+int(str(array[final])[::-1])==array[final]+int(str(array[idx])[::-1]):\n",
    "            count+=1\n",
    "            if final-1>idx:\n",
    "                final=final-1\n",
    "            else:\n",
    "                final=n-1\n",
    "                idx+=1\n",
    "        else:\n",
    "            if final-1>idx:\n",
    "                final=final-1\n",
    "            else:\n",
    "                final=n-1\n",
    "                idx+=1\n",
    "    return count"
   ]
  },
  {
   "cell_type": "code",
   "execution_count": 40,
   "id": "7b38db13",
   "metadata": {},
   "outputs": [
    {
     "data": {
      "text/plain": [
       "2"
      ]
     },
     "execution_count": 40,
     "metadata": {},
     "output_type": "execute_result"
    }
   ],
   "source": [
    "function([42,11,1,97])"
   ]
  },
  {
   "cell_type": "code",
   "execution_count": 41,
   "id": "9f8203de",
   "metadata": {},
   "outputs": [
    {
     "data": {
      "text/plain": [
       "4"
      ]
     },
     "execution_count": 41,
     "metadata": {},
     "output_type": "execute_result"
    }
   ],
   "source": [
    "function([13,10,35,24,76])"
   ]
  },
  {
   "cell_type": "code",
   "execution_count": null,
   "id": "a64f3767",
   "metadata": {},
   "outputs": [],
   "source": []
  }
 ],
 "metadata": {
  "kernelspec": {
   "display_name": "Python 3 (ipykernel)",
   "language": "python",
   "name": "python3"
  },
  "language_info": {
   "codemirror_mode": {
    "name": "ipython",
    "version": 3
   },
   "file_extension": ".py",
   "mimetype": "text/x-python",
   "name": "python",
   "nbconvert_exporter": "python",
   "pygments_lexer": "ipython3",
   "version": "3.10.6"
  }
 },
 "nbformat": 4,
 "nbformat_minor": 5
}
