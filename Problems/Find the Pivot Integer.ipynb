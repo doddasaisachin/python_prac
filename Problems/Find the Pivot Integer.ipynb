{
 "cells": [
  {
   "cell_type": "markdown",
   "id": "a5551ffb",
   "metadata": {},
   "source": [
    "Given a positive integer n, find the pivot integer x such that:\n",
    "\n",
    "* The sum of all elements between 1 and x inclusively equals the sum of all elements between x and n inclusively.\n",
    "\n",
    "Return the pivot integer x. If no such integer exists, return -1. It is guaranteed that there will be at most one pivot index for the given input."
   ]
  },
  {
   "cell_type": "code",
   "execution_count": 7,
   "id": "3e63e269",
   "metadata": {},
   "outputs": [],
   "source": [
    "def fx(n):\n",
    "    s=(n*(n+1))//2 \n",
    "    pre=0\n",
    "    for i in range(1,n+1):\n",
    "        pre+=i\n",
    "        s=s-(i-1)\n",
    "        if pre==s:\n",
    "            return i\n",
    "    return -1"
   ]
  },
  {
   "cell_type": "code",
   "execution_count": 8,
   "id": "1227375d",
   "metadata": {},
   "outputs": [
    {
     "data": {
      "text/plain": [
       "6"
      ]
     },
     "execution_count": 8,
     "metadata": {},
     "output_type": "execute_result"
    }
   ],
   "source": [
    "fx(8)"
   ]
  },
  {
   "cell_type": "code",
   "execution_count": 9,
   "id": "02a9f72b",
   "metadata": {},
   "outputs": [
    {
     "data": {
      "text/plain": [
       "1"
      ]
     },
     "execution_count": 9,
     "metadata": {},
     "output_type": "execute_result"
    }
   ],
   "source": [
    "fx(1)"
   ]
  },
  {
   "cell_type": "code",
   "execution_count": null,
   "id": "ec1cd4ac",
   "metadata": {},
   "outputs": [],
   "source": []
  }
 ],
 "metadata": {
  "kernelspec": {
   "display_name": "Python 3 (ipykernel)",
   "language": "python",
   "name": "python3"
  },
  "language_info": {
   "codemirror_mode": {
    "name": "ipython",
    "version": 3
   },
   "file_extension": ".py",
   "mimetype": "text/x-python",
   "name": "python",
   "nbconvert_exporter": "python",
   "pygments_lexer": "ipython3",
   "version": "3.10.6"
  }
 },
 "nbformat": 4,
 "nbformat_minor": 5
}
