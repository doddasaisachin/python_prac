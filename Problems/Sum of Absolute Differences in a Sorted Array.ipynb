{
 "cells": [
  {
   "cell_type": "markdown",
   "id": "f3afda04",
   "metadata": {},
   "source": [
    "You are given an integer array nums sorted in non-decreasing order.\n",
    "\n",
    "Build and return an integer array result with the same length as nums such that result[i] is equal to the summation of absolute differences between nums[i] and all the other elements in the array.\n",
    "\n",
    "In other words, result[i] is equal to sum(|nums[i]-nums[j]|) where 0 <= j < nums.length and j != i (0-indexed).\n"
   ]
  },
  {
   "cell_type": "markdown",
   "id": "8a85ee84",
   "metadata": {},
   "source": [
    "\n",
    "Example 1:\n",
    "\n",
    "Input: nums = [2,3,5]\n",
    "Output: [4,3,5]\n",
    "Explanation: Assuming the arrays are 0-indexed, then\n",
    "result[0] = |2-2| + |2-3| + |2-5| = 0 + 1 + 3 = 4,\n",
    "result[1] = |3-2| + |3-3| + |3-5| = 1 + 0 + 2 = 3,\n",
    "result[2] = |5-2| + |5-3| + |5-5| = 3 + 2 + 0 = 5.\n",
    "\n",
    "Example 2:\n",
    "\n",
    "Input: nums = [1,4,6,8,10]\n",
    "Output: [24,15,13,15,21]"
   ]
  },
  {
   "cell_type": "code",
   "execution_count": 3,
   "id": "02bef600",
   "metadata": {},
   "outputs": [],
   "source": [
    "def function(array):\n",
    "    result=[]\n",
    "    idx=0\n",
    "    while idx<len(array):\n",
    "        s=0\n",
    "        itr=len(array)-1\n",
    "        while itr>=0:\n",
    "            s+=abs(array[itr]-array[idx])\n",
    "            itr-=1\n",
    "        result.append(s)\n",
    "        idx+=1\n",
    "    return result"
   ]
  },
  {
   "cell_type": "code",
   "execution_count": 4,
   "id": "4cf5a67c",
   "metadata": {},
   "outputs": [
    {
     "data": {
      "text/plain": [
       "[4, 3, 5]"
      ]
     },
     "execution_count": 4,
     "metadata": {},
     "output_type": "execute_result"
    }
   ],
   "source": [
    "function([2,3,5])"
   ]
  },
  {
   "cell_type": "code",
   "execution_count": 5,
   "id": "1dc1b2bc",
   "metadata": {},
   "outputs": [
    {
     "data": {
      "text/plain": [
       "[24, 15, 13, 15, 21]"
      ]
     },
     "execution_count": 5,
     "metadata": {},
     "output_type": "execute_result"
    }
   ],
   "source": [
    "function([1,4,6,8,10])"
   ]
  }
 ],
 "metadata": {
  "kernelspec": {
   "display_name": "Python 3 (ipykernel)",
   "language": "python",
   "name": "python3"
  },
  "language_info": {
   "codemirror_mode": {
    "name": "ipython",
    "version": 3
   },
   "file_extension": ".py",
   "mimetype": "text/x-python",
   "name": "python",
   "nbconvert_exporter": "python",
   "pygments_lexer": "ipython3",
   "version": "3.10.6"
  }
 },
 "nbformat": 4,
 "nbformat_minor": 5
}
