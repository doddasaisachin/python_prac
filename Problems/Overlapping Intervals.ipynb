{
 "cells": [
  {
   "cell_type": "markdown",
   "id": "32c54890",
   "metadata": {},
   "source": [
    "Given a collection of Intervals, the task is to merge all of the overlapping Intervals."
   ]
  },
  {
   "cell_type": "markdown",
   "id": "05a06223",
   "metadata": {},
   "source": [
    "##### Example 1:\n",
    "\n",
    "Input:\n",
    "Intervals = {{1,3},{2,4},{6,8},{9,10}}\n",
    "\n",
    "Output: {{1, 4}, {6, 8}, {9, 10}}\n",
    "    \n",
    "Explanation: Given intervals: [1,3],[2,4]\n",
    "[6,8],[9,10], we have only two overlapping\n",
    "intervals here,[1,3] and [2,4]. Therefore\n",
    "we will merge these two and return [1,4],\n",
    "[6,8], [9,10]."
   ]
  },
  {
   "cell_type": "markdown",
   "id": "7cf965df",
   "metadata": {},
   "source": [
    "##### Example 2:\n",
    "\n",
    "Input:\n",
    "Intervals = {{6,8},{1,9},{2,4},{4,7}}\n",
    "\n",
    "Output: {{1, 9}}"
   ]
  },
  {
   "cell_type": "code",
   "execution_count": 342,
   "id": "2adaaf5e",
   "metadata": {},
   "outputs": [],
   "source": [
    "def merge(arr):\n",
    "    res=[]\n",
    "    for tup in arr:\n",
    "        sta=tup[0][0]\n",
    "        end=tup[0][-1]\n",
    "        if tup[1][0]<end and sta<tup[1][0]:\n",
    "            res.append([sta,tup[1][-1]])\n",
    "        elif sta>tup[1][0]:\n",
    "            res.append(tup[1])\n",
    "    return res\n",
    "\n",
    "def func(arr_arr):\n",
    "    mer=[]\n",
    "    temporary=[]\n",
    "    t=[]\n",
    "    min_array=[]\n",
    "    max_array=[]\n",
    "    for arr in arr_arr:\n",
    "        min_array.append(min(arr))\n",
    "        max_array.append(max(arr))\n",
    "    min_ele=min(min_array)\n",
    "    max_ele=max(max_array)\n",
    "    res=[min_ele,max_ele]\n",
    "    if res in arr_arr:\n",
    "        return [res]\n",
    "    for i in range(len(arr_arr)):\n",
    "        start=arr_arr[i][0]\n",
    "        end=arr_arr[i][-1]\n",
    "        t.append([start,end])\n",
    "        for sub_arr in arr_arr[i+1:]:\n",
    "            if sub_arr[0]<end:\n",
    "                temporary.append([start,end])\n",
    "                temporary.append(sub_arr)\n",
    "                mer.append(([start,end],sub_arr))\n",
    "            else:\n",
    "                t.append(sub_arr) \n",
    "    ola=[]            \n",
    "    for i in range(len(t)):\n",
    "        if t[i] in t[i+1:]:\n",
    "            pass\n",
    "        else:\n",
    "            ola.append(t[i])\n",
    "    \n",
    "    repeat=True\n",
    "    while repeat:\n",
    "        for ele in ola:\n",
    "            if ele in temporary:\n",
    "                ola.remove(ele)\n",
    "                break\n",
    "        if ele not in temporary:\n",
    "            repeat=False\n",
    "    af_me = merge(mer)\n",
    "    ola.extend(af_me)\n",
    "    ola.sort()\n",
    "    return ola"
   ]
  },
  {
   "cell_type": "code",
   "execution_count": 337,
   "id": "78483ff0",
   "metadata": {
    "scrolled": true
   },
   "outputs": [
    {
     "data": {
      "text/plain": [
       "[[1, 4], [5, 8], [9, 10]]"
      ]
     },
     "execution_count": 337,
     "metadata": {},
     "output_type": "execute_result"
    }
   ],
   "source": [
    "func([[1,3],[2,4],[5,7],[6,8],[9,10]])"
   ]
  },
  {
   "cell_type": "code",
   "execution_count": 338,
   "id": "2221108f",
   "metadata": {},
   "outputs": [
    {
     "data": {
      "text/plain": [
       "[[1, 2], [3, 4], [5, 6]]"
      ]
     },
     "execution_count": 338,
     "metadata": {},
     "output_type": "execute_result"
    }
   ],
   "source": [
    "func([[1,2],[3,4],[5,6]])"
   ]
  },
  {
   "cell_type": "code",
   "execution_count": 339,
   "id": "a60f8e64",
   "metadata": {},
   "outputs": [
    {
     "data": {
      "text/plain": [
       "[[1, 4], [6, 8], [9, 10]]"
      ]
     },
     "execution_count": 339,
     "metadata": {},
     "output_type": "execute_result"
    }
   ],
   "source": [
    "func([[1,3],[2,4],[6,8],[9,10]])"
   ]
  },
  {
   "cell_type": "code",
   "execution_count": 340,
   "id": "4d91bb0f",
   "metadata": {},
   "outputs": [
    {
     "data": {
      "text/plain": [
       "[[1, 9]]"
      ]
     },
     "execution_count": 340,
     "metadata": {},
     "output_type": "execute_result"
    }
   ],
   "source": [
    "func([[6,8],[1,9],[2,4],[4,7]])"
   ]
  },
  {
   "cell_type": "code",
   "execution_count": 341,
   "id": "e78c45d7",
   "metadata": {},
   "outputs": [
    {
     "data": {
      "text/plain": [
       "[[1, 5], [6, 8], [9, 11]]"
      ]
     },
     "execution_count": 341,
     "metadata": {},
     "output_type": "execute_result"
    }
   ],
   "source": [
    "func([[2,4],[1,5],[6,8],[9,11]])"
   ]
  }
 ],
 "metadata": {
  "kernelspec": {
   "display_name": "Python 3 (ipykernel)",
   "language": "python",
   "name": "python3"
  },
  "language_info": {
   "codemirror_mode": {
    "name": "ipython",
    "version": 3
   },
   "file_extension": ".py",
   "mimetype": "text/x-python",
   "name": "python",
   "nbconvert_exporter": "python",
   "pygments_lexer": "ipython3",
   "version": "3.10.6"
  }
 },
 "nbformat": 4,
 "nbformat_minor": 5
}
