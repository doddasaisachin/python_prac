{
 "cells": [
  {
   "cell_type": "markdown",
   "id": "0246d7f6",
   "metadata": {},
   "source": [
    "Given the root of a binary tree, flatten the tree into a \"linked list\":\n",
    "\n",
    "* The \"linked list\" should use the same TreeNode class where the right child pointer points to the next node in the list and the left child pointer is always null.\n",
    "* The \"linked list\" should be in the same order as a pre-order traversal of the binary tree."
   ]
  },
  {
   "cell_type": "code",
   "execution_count": 1,
   "id": "1cf696c3",
   "metadata": {},
   "outputs": [],
   "source": [
    "class TreeNode:\n",
    "    def __init__(self, val=0, left=None, right=None):\n",
    "        self.val = val\n",
    "        self.left = left\n",
    "        self.right = right"
   ]
  },
  {
   "cell_type": "code",
   "execution_count": 2,
   "id": "5fbd151f",
   "metadata": {},
   "outputs": [],
   "source": [
    "def preorder(root):\n",
    "    res=[]\n",
    "    if not root:return\n",
    "    res.append(root.val)\n",
    "    if root.left:\n",
    "        res+=preorder(root.left)\n",
    "    if root.right:\n",
    "        res=res+preorder(root.right)\n",
    "    return res\n"
   ]
  },
  {
   "cell_type": "code",
   "execution_count": 4,
   "id": "b3d79e3f",
   "metadata": {},
   "outputs": [],
   "source": [
    "def flatten( root) -> None:\n",
    "    \"\"\"\n",
    "    Do not return anything, modify root in-place instead.\n",
    "    \"\"\"\n",
    "    if root is None : return 0\n",
    "    arr=preorder(root)\n",
    "    root.left=None\n",
    "    itr=root\n",
    "    idx=1\n",
    "    while idx<len(arr):\n",
    "        itr.right=TreeNode(arr[idx])\n",
    "        idx+=1\n",
    "        itr=itr.right"
   ]
  },
  {
   "cell_type": "code",
   "execution_count": null,
   "id": "59a124ad",
   "metadata": {},
   "outputs": [],
   "source": []
  }
 ],
 "metadata": {
  "kernelspec": {
   "display_name": "Python 3 (ipykernel)",
   "language": "python",
   "name": "python3"
  },
  "language_info": {
   "codemirror_mode": {
    "name": "ipython",
    "version": 3
   },
   "file_extension": ".py",
   "mimetype": "text/x-python",
   "name": "python",
   "nbconvert_exporter": "python",
   "pygments_lexer": "ipython3",
   "version": "3.10.6"
  }
 },
 "nbformat": 4,
 "nbformat_minor": 5
}
