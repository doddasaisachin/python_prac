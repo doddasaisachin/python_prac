{
 "cells": [
  {
   "cell_type": "markdown",
   "id": "7609b78b",
   "metadata": {},
   "source": [
    "There are N rooms in a straight line in Geekland State University's hostel, you are given a binary string S of length N where S[i] = '1' represents that there is a wifi in ith room or S[i] = '0' represents no wifi. Each wifi has range X i.e. if there is a wifi in ith room then its range will go upto X more rooms on its left as well as right. You have to find whether students in all rooms can use wifi."
   ]
  },
  {
   "cell_type": "markdown",
   "id": "6e44480f",
   "metadata": {},
   "source": [
    "##### Example 1: \n",
    "\n",
    "Input:\n",
    "N = 3, X = 0\n",
    "S = \"010\"\n",
    "\n",
    "Output:\n",
    "0\n",
    "\n",
    "Explanation: \n",
    "Since the range(X)=0, So Wifi is only \n",
    "accessible in second room & 1st & 2nd\n",
    "room have no wifi."
   ]
  },
  {
   "cell_type": "markdown",
   "id": "d0d313c6",
   "metadata": {},
   "source": [
    "##### Example 2: \n",
    "\n",
    "Input:\n",
    "N = 5, X = 1\n",
    "S = \"10010\"\n",
    "\n",
    "Output:\n",
    "1\n",
    "\n",
    "Explanation:  \n",
    "\n",
    "Index 0 : Wifi is available\n",
    "\n",
    "Index 1 : Since range of 0th Index is 1\n",
    "          so, here wifi will be available.\n",
    "          \n",
    "Index 2 : Since range of 3rd Index is 1\n",
    "          so, here also wifi available.\n",
    "          \n",
    "Index 3 : Wifi is available\n",
    "\n",
    "Index 4 : here range of 3rd Index is available.\n",
    "So all the rooms have wifi, so return true."
   ]
  },
  {
   "cell_type": "code",
   "execution_count": 75,
   "id": "2b5ca26f",
   "metadata": {},
   "outputs": [],
   "source": [
    "def func(N,s,x):\n",
    "    res=[None for i in range(N)]\n",
    "    for ele in range(N):\n",
    "        if s[ele]=='1':\n",
    "            for i in range(x+1):\n",
    "#                 print(ele,ele-i,ele+i)\n",
    "                if ele+i==0:\n",
    "                    res[ele+i]=True\n",
    "                elif (ele+i)>(N-1) and (ele-i)<=(N-1):\n",
    "                    res[ele-i]=True\n",
    "                elif (ele-i)<0 and (ele+i)<=(N-1):\n",
    "                    res[ele+i]=True\n",
    "                else:\n",
    "                    res[ele+i]=True\n",
    "                    res[ele-i]=True\n",
    "#                 print(f\"{ele} {res}\")\n",
    "    for k in res:\n",
    "        if k==None:\n",
    "            return False \n",
    "#     print(res)\n",
    "    return True"
   ]
  },
  {
   "cell_type": "code",
   "execution_count": 76,
   "id": "c299b2bd",
   "metadata": {},
   "outputs": [
    {
     "data": {
      "text/plain": [
       "True"
      ]
     },
     "execution_count": 76,
     "metadata": {},
     "output_type": "execute_result"
    }
   ],
   "source": [
    "func(5,'10010',1)"
   ]
  },
  {
   "cell_type": "code",
   "execution_count": 77,
   "id": "2ccdddfe",
   "metadata": {},
   "outputs": [
    {
     "data": {
      "text/plain": [
       "False"
      ]
     },
     "execution_count": 77,
     "metadata": {},
     "output_type": "execute_result"
    }
   ],
   "source": [
    "func(3,'010',0)"
   ]
  },
  {
   "cell_type": "code",
   "execution_count": 78,
   "id": "63914181",
   "metadata": {},
   "outputs": [
    {
     "data": {
      "text/plain": [
       "True"
      ]
     },
     "execution_count": 78,
     "metadata": {},
     "output_type": "execute_result"
    }
   ],
   "source": [
    "func(5,'10010',1)"
   ]
  },
  {
   "cell_type": "code",
   "execution_count": 79,
   "id": "2be5f376",
   "metadata": {},
   "outputs": [
    {
     "data": {
      "text/plain": [
       "False"
      ]
     },
     "execution_count": 79,
     "metadata": {},
     "output_type": "execute_result"
    }
   ],
   "source": [
    "func(7,'0111000',2)"
   ]
  },
  {
   "cell_type": "code",
   "execution_count": 80,
   "id": "aad43792",
   "metadata": {},
   "outputs": [
    {
     "data": {
      "text/plain": [
       "True"
      ]
     },
     "execution_count": 80,
     "metadata": {},
     "output_type": "execute_result"
    }
   ],
   "source": [
    "func(5,'11001',1)"
   ]
  }
 ],
 "metadata": {
  "kernelspec": {
   "display_name": "Python 3 (ipykernel)",
   "language": "python",
   "name": "python3"
  },
  "language_info": {
   "codemirror_mode": {
    "name": "ipython",
    "version": 3
   },
   "file_extension": ".py",
   "mimetype": "text/x-python",
   "name": "python",
   "nbconvert_exporter": "python",
   "pygments_lexer": "ipython3",
   "version": "3.10.6"
  }
 },
 "nbformat": 4,
 "nbformat_minor": 5
}
