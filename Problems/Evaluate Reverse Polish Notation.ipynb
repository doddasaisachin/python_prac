{
 "cells": [
  {
   "cell_type": "markdown",
   "id": "c7bedaec",
   "metadata": {},
   "source": [
    "You are given an array of strings tokens that represents an arithmetic expression in a Reverse Polish Notation.\n",
    "\n",
    "Evaluate the expression. Return an integer that represents the value of the expression.\n",
    "\n",
    "Note that:\n",
    "\n",
    "1. The valid operators are '+', '-', '*', and '/'.\n",
    "2. Each operand may be an integer or another expression.\n",
    "3. The division between two integers always truncates toward zero.\n",
    "4. There will not be any division by zero.\n",
    "5. The input represents a valid arithmetic expression in a reverse polish notation.\n",
    "6. The answer and all the intermediate calculations can be represented in a 32-bit integer."
   ]
  },
  {
   "cell_type": "raw",
   "id": "c233e5d4",
   "metadata": {},
   "source": [
    "Example 1:\n",
    "\n",
    "Input: tokens = [\"2\",\"1\",\"+\",\"3\",\"*\"]\n",
    "Output: 9\n",
    "Explanation: ((2 + 1) * 3) = 9\n",
    "    \n",
    "Example 2:\n",
    "\n",
    "Input: tokens = [\"4\",\"13\",\"5\",\"/\",\"+\"]\n",
    "Output: 6\n",
    "Explanation: (4 + (13 / 5)) = 6\n",
    "    \n",
    "Example 3:\n",
    "\n",
    "Input: tokens = [\"10\",\"6\",\"9\",\"3\",\"+\",\"-11\",\"*\",\"/\",\"*\",\"17\",\"+\",\"5\",\"+\"]\n",
    "Output: 22\n",
    "Explanation: ((10 * (6 / ((9 + 3) * -11))) + 17) + 5\n",
    "= ((10 * (6 / (12 * -11))) + 17) + 5\n",
    "= ((10 * (6 / -132)) + 17) + 5\n",
    "= ((10 * 0) + 17) + 5\n",
    "= (0 + 17) + 5\n",
    "= 17 + 5\n",
    "= 22"
   ]
  },
  {
   "cell_type": "code",
   "execution_count": 99,
   "id": "99a55d2b",
   "metadata": {},
   "outputs": [],
   "source": [
    "def func(tokens):\n",
    "    nums=[]\n",
    "    for i in tokens:\n",
    "        if i=='+':\n",
    "            last=nums.pop()\n",
    "            sec=nums.pop()\n",
    "            nums.append(sec+last)\n",
    "        elif i=='-':\n",
    "            last=nums.pop()\n",
    "            sec=nums.pop()\n",
    "            nums.append(sec-last)\n",
    "        elif i=='*':\n",
    "            last=nums.pop()\n",
    "            sec=nums.pop()\n",
    "            nums.append(sec*last)\n",
    "        elif i=='/':\n",
    "            last=nums.pop()\n",
    "            sec=nums.pop()\n",
    "            if (sec/last)<0:\n",
    "                if sec%last==0:\n",
    "                    nums.append(sec//last)\n",
    "                else:\n",
    "                    nums.append(sec//last+1)\n",
    "            else:\n",
    "                nums.append(sec//last)\n",
    "        else:\n",
    "            nums.append(int(i))\n",
    "    return nums[0]"
   ]
  },
  {
   "cell_type": "code",
   "execution_count": 100,
   "id": "f2d50ea8",
   "metadata": {},
   "outputs": [
    {
     "data": {
      "text/plain": [
       "-7"
      ]
     },
     "execution_count": 100,
     "metadata": {},
     "output_type": "execute_result"
    }
   ],
   "source": [
    "func([\"4\",\"-2\",\"/\",\"2\",\"-3\",\"-\",\"-\"])"
   ]
  },
  {
   "cell_type": "code",
   "execution_count": 101,
   "id": "1b5385ba",
   "metadata": {
    "scrolled": false
   },
   "outputs": [
    {
     "data": {
      "text/plain": [
       "22"
      ]
     },
     "execution_count": 101,
     "metadata": {},
     "output_type": "execute_result"
    }
   ],
   "source": [
    "func([\"10\",\"6\",\"9\",\"3\",\"+\",\"-11\",\"*\",\"/\",\"*\",\"17\",\"+\",\"5\",\"+\"])"
   ]
  },
  {
   "cell_type": "code",
   "execution_count": 102,
   "id": "8f4d6883",
   "metadata": {},
   "outputs": [
    {
     "data": {
      "text/plain": [
       "9"
      ]
     },
     "execution_count": 102,
     "metadata": {},
     "output_type": "execute_result"
    }
   ],
   "source": [
    "func([\"2\",\"1\",\"+\",\"3\",\"*\"])"
   ]
  },
  {
   "cell_type": "code",
   "execution_count": 78,
   "id": "6472ea75",
   "metadata": {},
   "outputs": [
    {
     "data": {
      "text/plain": [
       "6"
      ]
     },
     "execution_count": 78,
     "metadata": {},
     "output_type": "execute_result"
    }
   ],
   "source": [
    "func([\"4\",\"13\",\"5\",\"/\",\"+\"])"
   ]
  }
 ],
 "metadata": {
  "kernelspec": {
   "display_name": "Python 3 (ipykernel)",
   "language": "python",
   "name": "python3"
  },
  "language_info": {
   "codemirror_mode": {
    "name": "ipython",
    "version": 3
   },
   "file_extension": ".py",
   "mimetype": "text/x-python",
   "name": "python",
   "nbconvert_exporter": "python",
   "pygments_lexer": "ipython3",
   "version": "3.10.6"
  }
 },
 "nbformat": 4,
 "nbformat_minor": 5
}
