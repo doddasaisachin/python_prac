{
 "cells": [
  {
   "cell_type": "markdown",
   "id": "42a4386a",
   "metadata": {},
   "source": [
    "## Ignore this problem"
   ]
  },
  {
   "cell_type": "markdown",
   "id": "8dfa6f36",
   "metadata": {},
   "source": [
    "Given an integer array nums, return all the triplets [nums[i], nums[j], nums[k]] such that i != j, i != k, and j != k, and nums[i] + nums[j] + nums[k] == 0.\n",
    "\n",
    "Notice that the solution set must not contain duplicate triplets."
   ]
  },
  {
   "cell_type": "markdown",
   "id": "a1ce25d7",
   "metadata": {},
   "source": [
    "Example 1:\n",
    "\n",
    "Input: nums = [-1,0,1,2,-1,-4]\n",
    "\n",
    "Output: [[-1,-1,2],[-1,0,1]]\n"
   ]
  },
  {
   "cell_type": "markdown",
   "id": "ac1432cb",
   "metadata": {},
   "source": [
    "Example 2:\n",
    "\n",
    "Input: nums = [0,1,1]\n",
    "\n",
    "Output: []"
   ]
  },
  {
   "cell_type": "markdown",
   "id": "37eec34e",
   "metadata": {},
   "source": [
    "Example 3:\n",
    "\n",
    "Input: nums = [0,0,0]\n",
    "    \n",
    "Output: [[0,0,0]]"
   ]
  },
  {
   "cell_type": "code",
   "execution_count": 94,
   "id": "e9c7b9cb",
   "metadata": {},
   "outputs": [],
   "source": [
    "def fx(nums,i,j,k,seen,ans):\n",
    "    if(i==-1 or j==-1 or k==-1):\n",
    "        return\n",
    "    elif i!=j and j!=k and k!=i and nums[i]+nums[j]+nums[k]==0:\n",
    "        temp=[nums[i],nums[j],nums[k]]\n",
    "        x=sorted(temp)\n",
    "        if x not in seen:\n",
    "            seen.append(x)\n",
    "            ans.append(temp)\n",
    "        return ans\n",
    "    fx(nums,i-1,j,k,seen,ans)\n",
    "    fx(nums,i,j-1,k,seen,ans)\n",
    "    fx(nums,i,j,k-1,seen,ans)\n",
    "    return ans"
   ]
  },
  {
   "cell_type": "code",
   "execution_count": 95,
   "id": "aa472af2",
   "metadata": {},
   "outputs": [],
   "source": [
    "arr=[-1,0,1,2,-1,-4]"
   ]
  },
  {
   "cell_type": "code",
   "execution_count": 96,
   "id": "3e762d85",
   "metadata": {},
   "outputs": [
    {
     "data": {
      "text/plain": [
       "[[-1, 0, 1], [-1, 2, -1]]"
      ]
     },
     "execution_count": 96,
     "metadata": {},
     "output_type": "execute_result"
    }
   ],
   "source": [
    "fx(arr,len(arr)-3,len(arr)-2,len(arr)-1,[],[])"
   ]
  },
  {
   "cell_type": "code",
   "execution_count": null,
   "id": "1ac7850d",
   "metadata": {},
   "outputs": [],
   "source": []
  }
 ],
 "metadata": {
  "kernelspec": {
   "display_name": "Python 3 (ipykernel)",
   "language": "python",
   "name": "python3"
  },
  "language_info": {
   "codemirror_mode": {
    "name": "ipython",
    "version": 3
   },
   "file_extension": ".py",
   "mimetype": "text/x-python",
   "name": "python",
   "nbconvert_exporter": "python",
   "pygments_lexer": "ipython3",
   "version": "3.10.6"
  }
 },
 "nbformat": 4,
 "nbformat_minor": 5
}
