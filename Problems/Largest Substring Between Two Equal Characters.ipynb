{
 "cells": [
  {
   "cell_type": "markdown",
   "id": "ef00b0b3",
   "metadata": {},
   "source": [
    "Given a string s, return the length of the longest substring between two equal characters, excluding the two characters. If there is no such substring return -1.\n",
    "\n",
    "A substring is a contiguous sequence of characters within a string.\n",
    "\n",
    " \n",
    "\n",
    "Example 1:\n",
    "\n",
    "Input: s = \"aa\"\n",
    "Output: 0\n",
    "Explanation: The optimal substring here is an empty substring between the two 'a's.\n",
    "\n",
    "Example 2:\n",
    "\n",
    "Input: s = \"abca\"\n",
    "Output: 2\n",
    "Explanation: The optimal substring here is \"bc\".\n",
    "\n",
    "Example 3:\n",
    "\n",
    "Input: s = \"cbzxy\"\n",
    "Output: -1\n",
    "Explanation: There are no characters that appear twice in s."
   ]
  },
  {
   "cell_type": "code",
   "execution_count": 1,
   "id": "44a877bf",
   "metadata": {},
   "outputs": [],
   "source": [
    "def fx(s):\n",
    "    c=-1\n",
    "    l=0\n",
    "    r=len(s)-1\n",
    "    while l<r:\n",
    "        while l<r and s[r]!=s[l]:\n",
    "            r-=1\n",
    "        if l!=r:\n",
    "            c=max(c,len(s[l+1:r]))\n",
    "        l+=1\n",
    "        r=len(s)-1\n",
    "    return c"
   ]
  },
  {
   "cell_type": "code",
   "execution_count": 2,
   "id": "6a8ffff0",
   "metadata": {},
   "outputs": [
    {
     "data": {
      "text/plain": [
       "0"
      ]
     },
     "execution_count": 2,
     "metadata": {},
     "output_type": "execute_result"
    }
   ],
   "source": [
    "fx('aa')"
   ]
  },
  {
   "cell_type": "code",
   "execution_count": 3,
   "id": "ee3c1458",
   "metadata": {},
   "outputs": [
    {
     "data": {
      "text/plain": [
       "3"
      ]
     },
     "execution_count": 3,
     "metadata": {},
     "output_type": "execute_result"
    }
   ],
   "source": [
    "fx('asdfa')"
   ]
  },
  {
   "cell_type": "code",
   "execution_count": null,
   "id": "c84e719c",
   "metadata": {},
   "outputs": [],
   "source": []
  }
 ],
 "metadata": {
  "kernelspec": {
   "display_name": "Python 3 (ipykernel)",
   "language": "python",
   "name": "python3"
  },
  "language_info": {
   "codemirror_mode": {
    "name": "ipython",
    "version": 3
   },
   "file_extension": ".py",
   "mimetype": "text/x-python",
   "name": "python",
   "nbconvert_exporter": "python",
   "pygments_lexer": "ipython3",
   "version": "3.10.6"
  }
 },
 "nbformat": 4,
 "nbformat_minor": 5
}
