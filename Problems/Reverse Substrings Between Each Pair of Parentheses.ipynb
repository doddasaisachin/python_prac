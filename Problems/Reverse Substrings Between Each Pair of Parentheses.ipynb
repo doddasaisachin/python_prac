{
 "cells": [
  {
   "cell_type": "markdown",
   "id": "ef2d4560",
   "metadata": {},
   "source": [
    "You are given a string s that consists of lower case English letters and brackets.\n",
    "\n",
    "Reverse the strings in each pair of matching parentheses, starting from the innermost one.\n",
    "\n",
    "Your result should not contain any brackets."
   ]
  },
  {
   "cell_type": "code",
   "execution_count": 1,
   "id": "70929f08",
   "metadata": {},
   "outputs": [],
   "source": [
    "def reverseParentheses(s: str) -> str:\n",
    "    stack=['']\n",
    "    for ele in s:\n",
    "        if ele=='(':\n",
    "            stack.append('')\n",
    "        elif ele!='(' and ele!=')':\n",
    "            stack[-1]+=ele\n",
    "        else:\n",
    "            x=stack.pop()\n",
    "            x=x[::-1]\n",
    "            if len(stack)==0:\n",
    "                stack=['']\n",
    "            stack[-1]+=x\n",
    "    return stack[-1]"
   ]
  },
  {
   "cell_type": "code",
   "execution_count": null,
   "id": "c8342f9a",
   "metadata": {},
   "outputs": [],
   "source": []
  }
 ],
 "metadata": {
  "kernelspec": {
   "display_name": "Python 3 (ipykernel)",
   "language": "python",
   "name": "python3"
  },
  "language_info": {
   "codemirror_mode": {
    "name": "ipython",
    "version": 3
   },
   "file_extension": ".py",
   "mimetype": "text/x-python",
   "name": "python",
   "nbconvert_exporter": "python",
   "pygments_lexer": "ipython3",
   "version": "3.11.7"
  }
 },
 "nbformat": 4,
 "nbformat_minor": 5
}
