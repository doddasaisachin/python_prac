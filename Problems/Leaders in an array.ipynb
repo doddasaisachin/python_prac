{
 "cells": [
  {
   "cell_type": "markdown",
   "id": "ba8cd1c9",
   "metadata": {},
   "source": [
    "Given an array A of positive integers. Your task is to find the leaders in the array. An element of array is leader if it is greater than or equal to all the elements to its right side. The rightmost element is always a leader. "
   ]
  },
  {
   "cell_type": "markdown",
   "id": "1dfa48c1",
   "metadata": {},
   "source": [
    "Example 1:\n",
    "\n",
    "Input:\n",
    "n = 6\n",
    "A[] = {16,17,4,3,5,2}\n",
    "Output: 17 5 2\n",
    "Explanation: The first leader is 17 \n",
    "as it is greater than all the elements\n",
    "to its right.  Similarly, the next \n",
    "leader is 5. The right most element \n",
    "is always a leader so it is also \n",
    "included."
   ]
  },
  {
   "cell_type": "markdown",
   "id": "980ca496",
   "metadata": {},
   "source": [
    "Example 2:\n",
    "\n",
    "Input:\n",
    "n = 5\n",
    "A[] = {1,2,3,4,0}\n",
    "Output: 4 0"
   ]
  },
  {
   "cell_type": "code",
   "execution_count": 9,
   "id": "7f50a24d",
   "metadata": {},
   "outputs": [],
   "source": [
    "def func(arr):\n",
    "    res=[]\n",
    "    for i in range(len(arr)-1):\n",
    "        if arr[i]>max(arr[i+1:]):\n",
    "            res.append(arr[i])\n",
    "    res.append(arr[-1])\n",
    "    return res"
   ]
  },
  {
   "cell_type": "code",
   "execution_count": null,
   "id": "1bdf9487",
   "metadata": {},
   "outputs": [],
   "source": []
  }
 ],
 "metadata": {
  "kernelspec": {
   "display_name": "Python 3 (ipykernel)",
   "language": "python",
   "name": "python3"
  },
  "language_info": {
   "codemirror_mode": {
    "name": "ipython",
    "version": 3
   },
   "file_extension": ".py",
   "mimetype": "text/x-python",
   "name": "python",
   "nbconvert_exporter": "python",
   "pygments_lexer": "ipython3",
   "version": "3.10.6"
  }
 },
 "nbformat": 4,
 "nbformat_minor": 5
}
