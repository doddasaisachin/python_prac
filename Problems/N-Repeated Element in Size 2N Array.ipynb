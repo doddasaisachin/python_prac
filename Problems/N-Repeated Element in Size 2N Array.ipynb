{
 "cells": [
  {
   "cell_type": "markdown",
   "id": "bcab7e2c",
   "metadata": {},
   "source": [
    "You are given an integer array nums with the following properties:\n",
    "\n",
    "* nums.length == 2 * n.\n",
    "* nums contains n + 1 unique elements.\n",
    "* Exactly one element of nums is repeated n times.\n",
    "\n",
    "Return the element that is repeated n times."
   ]
  },
  {
   "cell_type": "code",
   "execution_count": 1,
   "id": "65d0cf1a",
   "metadata": {},
   "outputs": [],
   "source": [
    "def fx(nums):\n",
    "    seen=set()\n",
    "    for i in nums:\n",
    "        if i not in seen:\n",
    "            seen.add(i)\n",
    "        else:\n",
    "            return i"
   ]
  },
  {
   "cell_type": "code",
   "execution_count": null,
   "id": "040f1989",
   "metadata": {},
   "outputs": [],
   "source": []
  }
 ],
 "metadata": {
  "kernelspec": {
   "display_name": "Python 3 (ipykernel)",
   "language": "python",
   "name": "python3"
  },
  "language_info": {
   "codemirror_mode": {
    "name": "ipython",
    "version": 3
   },
   "file_extension": ".py",
   "mimetype": "text/x-python",
   "name": "python",
   "nbconvert_exporter": "python",
   "pygments_lexer": "ipython3",
   "version": "3.10.6"
  }
 },
 "nbformat": 4,
 "nbformat_minor": 5
}
