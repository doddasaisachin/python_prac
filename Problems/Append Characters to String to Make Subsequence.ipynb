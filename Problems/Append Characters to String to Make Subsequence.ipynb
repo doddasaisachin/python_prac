{
 "cells": [
  {
   "cell_type": "markdown",
   "id": "2b2d1af5",
   "metadata": {},
   "source": [
    "You are given two strings s and t consisting of only lowercase English letters.\n",
    "\n",
    "Return the minimum number of characters that need to be appended to the end of s so that t becomes a subsequence of s.\n",
    "\n",
    "A subsequence is a string that can be derived from another string by deleting some or no characters without changing the order of the remaining characters."
   ]
  },
  {
   "cell_type": "code",
   "execution_count": 1,
   "id": "d1025672",
   "metadata": {},
   "outputs": [],
   "source": [
    "\n",
    "def appendCharacters( s: str, t: str) -> int:\n",
    "    res=0\n",
    "    idx=0\n",
    "    for i in s:\n",
    "        if i==t[idx]:\n",
    "            res+=1\n",
    "            idx+=1\n",
    "            if idx==len(t):\n",
    "                break\n",
    "    return len(t)-res"
   ]
  },
  {
   "cell_type": "code",
   "execution_count": 2,
   "id": "9c857fcb",
   "metadata": {},
   "outputs": [
    {
     "data": {
      "text/plain": [
       "4"
      ]
     },
     "execution_count": 2,
     "metadata": {},
     "output_type": "execute_result"
    }
   ],
   "source": [
    "appendCharacters(s = \"coaching\", t = \"coding\")"
   ]
  },
  {
   "cell_type": "code",
   "execution_count": null,
   "id": "2e81ea4c",
   "metadata": {},
   "outputs": [],
   "source": []
  }
 ],
 "metadata": {
  "kernelspec": {
   "display_name": "Python 3 (ipykernel)",
   "language": "python",
   "name": "python3"
  },
  "language_info": {
   "codemirror_mode": {
    "name": "ipython",
    "version": 3
   },
   "file_extension": ".py",
   "mimetype": "text/x-python",
   "name": "python",
   "nbconvert_exporter": "python",
   "pygments_lexer": "ipython3",
   "version": "3.11.7"
  }
 },
 "nbformat": 4,
 "nbformat_minor": 5
}
