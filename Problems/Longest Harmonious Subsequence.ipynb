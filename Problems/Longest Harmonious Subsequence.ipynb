{
 "cells": [
  {
   "cell_type": "markdown",
   "id": "73007310",
   "metadata": {},
   "source": [
    "We define a harmonious array as an array where the difference between its maximum value and its minimum value is exactly 1\n",
    "\n",
    "Given an integer array nums, return the length of its longest harmonious subsequence among all its possible subsequences.\n",
    "\n",
    "A subsequence of array is a sequence that can be derived from the array by deleting some or no elements without changing the order of the remaining elements.\n",
    "\n",
    " \n",
    "\n",
    "Example 1:\n",
    "\n",
    "Input: nums = [1,3,2,2,5,2,3,7]\n",
    "Output: 5\n",
    "Explanation: The longest harmonious subsequence is [3,2,2,2,3].\n",
    "    \n",
    "Example 2:\n",
    "\n",
    "Input: nums = [1,2,3,4]\n",
    "Output: 2"
   ]
  },
  {
   "cell_type": "code",
   "execution_count": 4,
   "id": "f797c585",
   "metadata": {},
   "outputs": [],
   "source": [
    "from collections import Counter"
   ]
  },
  {
   "cell_type": "code",
   "execution_count": 6,
   "id": "64aef436",
   "metadata": {},
   "outputs": [],
   "source": [
    "def fx(nums):\n",
    "    freq=Counter(nums)\n",
    "    ans=0\n",
    "    for i in freq.keys():\n",
    "        if i+1 in freq.keys():\n",
    "            ans=max(ans,freq[i]+freq[i+1])\n",
    "    return ans"
   ]
  },
  {
   "cell_type": "code",
   "execution_count": 7,
   "id": "e4b81ec6",
   "metadata": {},
   "outputs": [
    {
     "data": {
      "text/plain": [
       "5"
      ]
     },
     "execution_count": 7,
     "metadata": {},
     "output_type": "execute_result"
    }
   ],
   "source": [
    "fx([1,3,2,2,5,2,3,7])"
   ]
  },
  {
   "cell_type": "code",
   "execution_count": 8,
   "id": "27fe1a1c",
   "metadata": {},
   "outputs": [
    {
     "data": {
      "text/plain": [
       "2"
      ]
     },
     "execution_count": 8,
     "metadata": {},
     "output_type": "execute_result"
    }
   ],
   "source": [
    "fx([1,2,3,4])"
   ]
  },
  {
   "cell_type": "code",
   "execution_count": null,
   "id": "358cfb99",
   "metadata": {},
   "outputs": [],
   "source": []
  }
 ],
 "metadata": {
  "kernelspec": {
   "display_name": "Python 3 (ipykernel)",
   "language": "python",
   "name": "python3"
  },
  "language_info": {
   "codemirror_mode": {
    "name": "ipython",
    "version": 3
   },
   "file_extension": ".py",
   "mimetype": "text/x-python",
   "name": "python",
   "nbconvert_exporter": "python",
   "pygments_lexer": "ipython3",
   "version": "3.10.6"
  }
 },
 "nbformat": 4,
 "nbformat_minor": 5
}
