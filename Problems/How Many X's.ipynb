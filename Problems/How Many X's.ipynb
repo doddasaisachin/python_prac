{
 "cells": [
  {
   "cell_type": "markdown",
   "id": "20baf8c4",
   "metadata": {},
   "source": [
    "Given two integers L, R, and digit X. Find the number of occurrences of X in all the numbers in the range (L, R) excluding L and R.\n",
    "\n",
    "Example 1:\n",
    "\n",
    "Input:\n",
    "L=10, R=19, X=1\n",
    "Output:\n",
    "9\n",
    "Explanation:\n",
    "There are 9 1s (11, 12, 13, 14, 15, 16, 17, 18) in the numbers in the range (10,19).\n",
    "\n",
    "Example 2:\n",
    "\n",
    "Input:\n",
    "L=18, R=81, X=9\n",
    "Output:\n",
    "7\n",
    "Explanation:\n",
    "There are 7 occurrences of the digit 9 in the numbers in the range (18,81)."
   ]
  },
  {
   "cell_type": "code",
   "execution_count": 3,
   "id": "44924af5",
   "metadata": {},
   "outputs": [],
   "source": [
    "def countX(L,R,X):\n",
    "    ans=0\n",
    "    ele=str(X)\n",
    "    for i in range(L+1,R):\n",
    "        ans=ans+str(i).count(ele)\n",
    "    return ans"
   ]
  },
  {
   "cell_type": "code",
   "execution_count": 4,
   "id": "4ca3235d",
   "metadata": {},
   "outputs": [
    {
     "data": {
      "text/plain": [
       "9"
      ]
     },
     "execution_count": 4,
     "metadata": {},
     "output_type": "execute_result"
    }
   ],
   "source": [
    "countX(L=10, R=19, X=1)"
   ]
  },
  {
   "cell_type": "code",
   "execution_count": 5,
   "id": "f3df8181",
   "metadata": {},
   "outputs": [
    {
     "data": {
      "text/plain": [
       "7"
      ]
     },
     "execution_count": 5,
     "metadata": {},
     "output_type": "execute_result"
    }
   ],
   "source": [
    "countX(L=18, R=81, X=9)"
   ]
  },
  {
   "cell_type": "code",
   "execution_count": null,
   "id": "fc0ecbad",
   "metadata": {},
   "outputs": [],
   "source": []
  }
 ],
 "metadata": {
  "kernelspec": {
   "display_name": "Python 3 (ipykernel)",
   "language": "python",
   "name": "python3"
  },
  "language_info": {
   "codemirror_mode": {
    "name": "ipython",
    "version": 3
   },
   "file_extension": ".py",
   "mimetype": "text/x-python",
   "name": "python",
   "nbconvert_exporter": "python",
   "pygments_lexer": "ipython3",
   "version": "3.10.6"
  }
 },
 "nbformat": 4,
 "nbformat_minor": 5
}
