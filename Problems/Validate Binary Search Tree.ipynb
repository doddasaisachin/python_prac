{
 "cells": [
  {
   "cell_type": "markdown",
   "id": "e5509e56",
   "metadata": {},
   "source": [
    "Given the root of a binary tree, determine if it is a valid binary search tree (BST).\n",
    "\n",
    "A valid BST is defined as follows:\n",
    "\n",
    "* The left \n",
    "subtree\n",
    " of a node contains only nodes with keys less than the node's key.\n",
    "*The right subtree of a node contains only nodes with keys greater than the node's key.\n",
    "*Both the left and right subtrees must also be binary search trees."
   ]
  },
  {
   "cell_type": "code",
   "execution_count": 1,
   "id": "809efcb8",
   "metadata": {},
   "outputs": [],
   "source": [
    "class TreeNode:\n",
    "    def __init__(self, val=0, left=None, right=None):\n",
    "        self.val = val\n",
    "        self.left = left\n",
    "        self.right = right"
   ]
  },
  {
   "cell_type": "code",
   "execution_count": 2,
   "id": "ad671cb0",
   "metadata": {},
   "outputs": [],
   "source": [
    "def inorder(root):\n",
    "    if root is None:\n",
    "        return []\n",
    "    res=[]\n",
    "    if root.left:\n",
    "        res+=self.inorder(root.left)\n",
    "    res.append(root.val)\n",
    "    if root.right:\n",
    "        res+=self.inorder(root.right)\n",
    "    return res\n",
    "def isValidBST(root) :\n",
    "    if root is None :\n",
    "        return True\n",
    "    if root.left:\n",
    "        arr=self.inorder(root.left)\n",
    "        if max(arr)>=root.val:\n",
    "            return False\n",
    "    if root.right:\n",
    "        arr=self.inorder(root.right)\n",
    "        if min(arr)<=root.val:\n",
    "            return False\n",
    "    return (self.isValidBST(root.left) and self.isValidBST(root.right))\n"
   ]
  },
  {
   "cell_type": "code",
   "execution_count": null,
   "id": "41b0ab09",
   "metadata": {},
   "outputs": [],
   "source": []
  }
 ],
 "metadata": {
  "kernelspec": {
   "display_name": "Python 3 (ipykernel)",
   "language": "python",
   "name": "python3"
  },
  "language_info": {
   "codemirror_mode": {
    "name": "ipython",
    "version": 3
   },
   "file_extension": ".py",
   "mimetype": "text/x-python",
   "name": "python",
   "nbconvert_exporter": "python",
   "pygments_lexer": "ipython3",
   "version": "3.10.6"
  }
 },
 "nbformat": 4,
 "nbformat_minor": 5
}
