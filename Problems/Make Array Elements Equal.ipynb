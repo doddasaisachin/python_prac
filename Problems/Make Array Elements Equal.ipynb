{
 "cells": [
  {
   "cell_type": "markdown",
   "id": "fe8fa02b",
   "metadata": {},
   "source": [
    "You are given an integer N. Consider an array arr having N elements where arr[i] = 2*i+1. (The array is 0-indexed)\n",
    "\n",
    "You are allowed to perform the given operation on the array any number of times:\n",
    "\n",
    "1) Select two indices i and j and increase arr[i] by 1 and decrease arr[j] by 1.\n",
    "\n",
    "Your task is to find the minimum number of such operations required to make all the elements of the array equal."
   ]
  },
  {
   "cell_type": "markdown",
   "id": "e56583f3",
   "metadata": {},
   "source": [
    "##### Example 1:\n",
    "\n",
    "Input:\n",
    "N = 3\n",
    "\n",
    "Output:\n",
    "2\n",
    "\n",
    "Explanation:\n",
    "Initially the array is {1, 3, 5}. If we perform\n",
    "the operation once on the indices 0 and 2, the \n",
    "resulting array will be {2, 3, 4}. If we again \n",
    "perform the operation once on the indices 0\n",
    "and 2, the resulting array will be {3, 3, 3}.\n",
    "Hence, the minimum operations required is 2\n",
    "in this case. "
   ]
  },
  {
   "cell_type": "markdown",
   "id": "cad9f984",
   "metadata": {},
   "source": [
    "##### Example 2:\n",
    "\n",
    "Input: \n",
    "N = 2\n",
    "\n",
    "Output:\n",
    "1\n",
    "\n",
    "Explanation: \n",
    "The array initially is {1, 3}. After performing \n",
    "an operation the array will be {2, 2}. Hence,\n",
    "the answer is 1 in this case."
   ]
  },
  {
   "cell_type": "code",
   "execution_count": 101,
   "id": "4b49ac54",
   "metadata": {},
   "outputs": [],
   "source": [
    "def func(N):\n",
    "    arr=[(2*i)+1 for i in range(N)]\n",
    "    res=0\n",
    "    if N%2==0:\n",
    "        n=int(N/2)\n",
    "        l=arr[n-1]\n",
    "        u=l+2\n",
    "        ele=l+1\n",
    "        for i in arr:\n",
    "            res+=(ele-i)\n",
    "            if i+1==ele:\n",
    "                break\n",
    "    else:\n",
    "        ele=arr[N//2]\n",
    "        for i in arr:\n",
    "            res=res+(ele-i)\n",
    "            if i==ele:\n",
    "                break\n",
    "    return res"
   ]
  },
  {
   "cell_type": "code",
   "execution_count": 103,
   "id": "c28f6600",
   "metadata": {},
   "outputs": [
    {
     "data": {
      "text/plain": [
       "2"
      ]
     },
     "execution_count": 103,
     "metadata": {},
     "output_type": "execute_result"
    }
   ],
   "source": [
    "func(3)"
   ]
  },
  {
   "cell_type": "code",
   "execution_count": 104,
   "id": "a6cb1ae7",
   "metadata": {},
   "outputs": [
    {
     "data": {
      "text/plain": [
       "1"
      ]
     },
     "execution_count": 104,
     "metadata": {},
     "output_type": "execute_result"
    }
   ],
   "source": [
    "func(2)"
   ]
  },
  {
   "cell_type": "code",
   "execution_count": 102,
   "id": "13c9b58f",
   "metadata": {},
   "outputs": [
    {
     "data": {
      "text/plain": [
       "16"
      ]
     },
     "execution_count": 102,
     "metadata": {},
     "output_type": "execute_result"
    }
   ],
   "source": [
    "func(8)"
   ]
  },
  {
   "cell_type": "code",
   "execution_count": 105,
   "id": "5b498c3e",
   "metadata": {},
   "outputs": [
    {
     "data": {
      "text/plain": [
       "6"
      ]
     },
     "execution_count": 105,
     "metadata": {},
     "output_type": "execute_result"
    }
   ],
   "source": [
    "func(5)"
   ]
  },
  {
   "cell_type": "code",
   "execution_count": 106,
   "id": "49c2bc96",
   "metadata": {},
   "outputs": [
    {
     "data": {
      "text/plain": [
       "4"
      ]
     },
     "execution_count": 106,
     "metadata": {},
     "output_type": "execute_result"
    }
   ],
   "source": [
    "func(4)"
   ]
  },
  {
   "cell_type": "code",
   "execution_count": 107,
   "id": "1bde9ec1",
   "metadata": {},
   "outputs": [
    {
     "data": {
      "text/plain": [
       "0"
      ]
     },
     "execution_count": 107,
     "metadata": {},
     "output_type": "execute_result"
    }
   ],
   "source": [
    "func(1)"
   ]
  },
  {
   "cell_type": "code",
   "execution_count": 109,
   "id": "e58a15ae",
   "metadata": {
    "scrolled": true
   },
   "outputs": [
    {
     "name": "stdout",
     "output_type": "stream",
     "text": [
      "2 : 1\n",
      "4 : 4\n",
      "6 : 9\n",
      "8 : 16\n",
      "10 : 25\n",
      "12 : 36\n",
      "14 : 49\n",
      "16 : 64\n",
      "18 : 81\n"
     ]
    }
   ],
   "source": [
    "for i in range(2,20):\n",
    "    if i%2==0:\n",
    "        print(f\"{i} : {func(i)}\")"
   ]
  },
  {
   "cell_type": "code",
   "execution_count": 110,
   "id": "b8c0b626",
   "metadata": {},
   "outputs": [
    {
     "name": "stdout",
     "output_type": "stream",
     "text": [
      "3 : 2\n",
      "5 : 6\n",
      "7 : 12\n",
      "9 : 20\n",
      "11 : 30\n",
      "13 : 42\n",
      "15 : 56\n",
      "17 : 72\n",
      "19 : 90\n"
     ]
    }
   ],
   "source": [
    "for i in range(2,20):\n",
    "    if i%2!=0:\n",
    "        print(f\"{i} : {func(i)}\")"
   ]
  },
  {
   "cell_type": "markdown",
   "id": "7b4e955a",
   "metadata": {},
   "source": [
    "BUHAAHAAAAAA....!!!\n",
    "I GOT YOU :)"
   ]
  },
  {
   "cell_type": "code",
   "execution_count": 119,
   "id": "8a70b560",
   "metadata": {},
   "outputs": [],
   "source": [
    "def func(N):\n",
    "    if N%2==0:\n",
    "        return ((N//2)**2)\n",
    "    return ((N//2)*((N//2)+1))"
   ]
  },
  {
   "cell_type": "code",
   "execution_count": 120,
   "id": "d237c470",
   "metadata": {},
   "outputs": [
    {
     "data": {
      "text/plain": [
       "6"
      ]
     },
     "execution_count": 120,
     "metadata": {},
     "output_type": "execute_result"
    }
   ],
   "source": [
    "func(5)"
   ]
  },
  {
   "cell_type": "code",
   "execution_count": 121,
   "id": "254a4c2c",
   "metadata": {},
   "outputs": [
    {
     "data": {
      "text/plain": [
       "56"
      ]
     },
     "execution_count": 121,
     "metadata": {},
     "output_type": "execute_result"
    }
   ],
   "source": [
    "func(15)"
   ]
  },
  {
   "cell_type": "code",
   "execution_count": 122,
   "id": "f0c6961e",
   "metadata": {},
   "outputs": [
    {
     "data": {
      "text/plain": [
       "4"
      ]
     },
     "execution_count": 122,
     "metadata": {},
     "output_type": "execute_result"
    }
   ],
   "source": [
    "func(4)"
   ]
  },
  {
   "cell_type": "code",
   "execution_count": null,
   "id": "677c5a2a",
   "metadata": {},
   "outputs": [],
   "source": []
  }
 ],
 "metadata": {
  "kernelspec": {
   "display_name": "Python 3 (ipykernel)",
   "language": "python",
   "name": "python3"
  },
  "language_info": {
   "codemirror_mode": {
    "name": "ipython",
    "version": 3
   },
   "file_extension": ".py",
   "mimetype": "text/x-python",
   "name": "python",
   "nbconvert_exporter": "python",
   "pygments_lexer": "ipython3",
   "version": "3.10.6"
  }
 },
 "nbformat": 4,
 "nbformat_minor": 5
}
