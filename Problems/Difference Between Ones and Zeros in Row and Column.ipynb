{
 "cells": [
  {
   "cell_type": "markdown",
   "id": "b2fdcf75",
   "metadata": {},
   "source": [
    "You are given a 0-indexed m x n binary matrix grid.\n",
    "\n",
    "A 0-indexed m x n difference matrix diff is created with the following procedure:\n",
    "\n",
    "1. Let the number of ones in the ith row be onesRowi.\n",
    "2. Let the number of ones in the jth column be onesColj.\n",
    "3. Let the number of zeros in the ith row be zerosRowi.\n",
    "4. Let the number of zeros in the jth column be zerosColj.\n",
    "5. diff[i][j] = onesRowi + onesColj - zerosRowi - zerosColj\n",
    "6. Return the difference matrix diff."
   ]
  },
  {
   "cell_type": "markdown",
   "id": "67cff3ee",
   "metadata": {},
   "source": [
    "Example 1:\n",
    "\n",
    "Input: grid = [[0,1,1],[1,0,1],[0,0,1]]\n",
    "Output: [[0,0,4],[0,0,4],[-2,-2,2]]\n",
    "Explanation:\n",
    "- diff[0][0] = onesRow0 + onesCol0 - zerosRow0 - zerosCol0 = 2 + 1 - 1 - 2 = 0 \n",
    "- diff[0][1] = onesRow0 + onesCol1 - zerosRow0 - zerosCol1 = 2 + 1 - 1 - 2 = 0 \n",
    "- diff[0][2] = onesRow0 + onesCol2 - zerosRow0 - zerosCol2 = 2 + 3 - 1 - 0 = 4 \n",
    "- diff[1][0] = onesRow1 + onesCol0 - zerosRow1 - zerosCol0 = 2 + 1 - 1 - 2 = 0 \n",
    "- diff[1][1] = onesRow1 + onesCol1 - zerosRow1 - zerosCol1 = 2 + 1 - 1 - 2 = 0 \n",
    "- diff[1][2] = onesRow1 + onesCol2 - zerosRow1 - zerosCol2 = 2 + 3 - 1 - 0 = 4 \n",
    "- diff[2][0] = onesRow2 + onesCol0 - zerosRow2 - zerosCol0 = 1 + 1 - 2 - 2 = -2\n",
    "- diff[2][1] = onesRow2 + onesCol1 - zerosRow2 - zerosCol1 = 1 + 1 - 2 - 2 = -2\n",
    "- diff[2][2] = onesRow2 + onesCol2 - zerosRow2 - zerosCol2 = 1 + 3 - 2 - 0 = 2\n",
    "\n",
    "Example 2:\n",
    "\n",
    "\n",
    "Input: grid = [[1,1,1],[1,1,1]]\n",
    "Output: [[5,5,5],[5,5,5]]\n",
    "Explanation:\n",
    "- diff[0][0] = onesRow0 + onesCol0 - zerosRow0 - zerosCol0 = 3 + 2 - 0 - 0 = 5\n",
    "- diff[0][1] = onesRow0 + onesCol1 - zerosRow0 - zerosCol1 = 3 + 2 - 0 - 0 = 5\n",
    "- diff[0][2] = onesRow0 + onesCol2 - zerosRow0 - zerosCol2 = 3 + 2 - 0 - 0 = 5\n",
    "- diff[1][0] = onesRow1 + onesCol0 - zerosRow1 - zerosCol0 = 3 + 2 - 0 - 0 = 5\n",
    "- diff[1][1] = onesRow1 + onesCol1 - zerosRow1 - zerosCol1 = 3 + 2 - 0 - 0 = 5\n",
    "- diff[1][2] = onesRow1 + onesCol2 - zerosRow1 - zerosCol2 = 3 + 2 - 0 - 0 = 5"
   ]
  },
  {
   "cell_type": "code",
   "execution_count": 2,
   "id": "bc348831",
   "metadata": {},
   "outputs": [],
   "source": [
    "def count_col(mat,n,ele,col):\n",
    "    c,d=0,0\n",
    "    for i in range(n):\n",
    "        if mat[i][col]==ele:\n",
    "            c+=1\n",
    "        else:\n",
    "            d+=1\n",
    "    return c,d\n",
    "def onesMinusZeros( grid):\n",
    "    ans=[]\n",
    "    n=len(grid)\n",
    "    N=len(grid[0])\n",
    "    col_1_dic,col_0_dic=dict(),dict()\n",
    "    for j in range(N):\n",
    "        col_1_dic[j],col_0_dic[j]=count_col(grid,n,1,j)\n",
    "    for i in range(n):\n",
    "        temp=[]\n",
    "        one_row=grid[i].count(1)\n",
    "        zero_row=N-one_row \n",
    "        for j in range(N):               \n",
    "            diff=(one_row+col_1_dic[j])-(zero_row+col_0_dic[j])\n",
    "            temp.append(diff)\n",
    "        ans.append(temp)\n",
    "    return ans"
   ]
  },
  {
   "cell_type": "code",
   "execution_count": 3,
   "id": "f0062974",
   "metadata": {},
   "outputs": [
    {
     "data": {
      "text/plain": [
       "[[0, 0, 4], [0, 0, 4], [-2, -2, 2]]"
      ]
     },
     "execution_count": 3,
     "metadata": {},
     "output_type": "execute_result"
    }
   ],
   "source": [
    "onesMinusZeros([[0,1,1],[1,0,1],[0,0,1]])"
   ]
  },
  {
   "cell_type": "code",
   "execution_count": 4,
   "id": "28580e89",
   "metadata": {},
   "outputs": [
    {
     "data": {
      "text/plain": [
       "[[5, 5, 5], [5, 5, 5]]"
      ]
     },
     "execution_count": 4,
     "metadata": {},
     "output_type": "execute_result"
    }
   ],
   "source": [
    "onesMinusZeros([[1,1,1],[1,1,1]])"
   ]
  },
  {
   "cell_type": "code",
   "execution_count": null,
   "id": "858d10a3",
   "metadata": {},
   "outputs": [],
   "source": []
  }
 ],
 "metadata": {
  "kernelspec": {
   "display_name": "Python 3 (ipykernel)",
   "language": "python",
   "name": "python3"
  },
  "language_info": {
   "codemirror_mode": {
    "name": "ipython",
    "version": 3
   },
   "file_extension": ".py",
   "mimetype": "text/x-python",
   "name": "python",
   "nbconvert_exporter": "python",
   "pygments_lexer": "ipython3",
   "version": "3.10.6"
  }
 },
 "nbformat": 4,
 "nbformat_minor": 5
}
