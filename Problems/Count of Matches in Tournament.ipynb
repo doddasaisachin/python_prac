{
 "cells": [
  {
   "cell_type": "markdown",
   "id": "9fe19dfc",
   "metadata": {},
   "source": [
    "You are given an integer n, the number of teams in a tournament that has strange rules:\n",
    "\n",
    "If the current number of teams is even, each team gets paired with another team. A total of n / 2 matches are played, and n / 2 teams advance to the next round.\n",
    "If the current number of teams is odd, one team randomly advances in the tournament, and the rest gets paired. A total of (n - 1) / 2 matches are played, and (n - 1) / 2 + 1 teams advance to the next round.\n",
    "Return the number of matches played in the tournament until a winner is decided.\n",
    "\n",
    " \n",
    "\n",
    "Example 1:\n",
    "\n",
    "Input: n = 7\n",
    "Output: 6\n",
    "Explanation: Details of the tournament: \n",
    "- 1st Round: Teams = 7, Matches = 3, and 4 teams advance.\n",
    "- 2nd Round: Teams = 4, Matches = 2, and 2 teams advance.\n",
    "- 3rd Round: Teams = 2, Matches = 1, and 1 team is declared the winner.\n",
    "Total number of matches = 3 + 2 + 1 = 6.\n",
    "Example 2:\n",
    "\n",
    "Input: n = 14\n",
    "Output: 13\n",
    "Explanation: Details of the tournament:\n",
    "- 1st Round: Teams = 14, Matches = 7, and 7 teams advance.\n",
    "- 2nd Round: Teams = 7, Matches = 3, and 4 teams advance.\n",
    "- 3rd Round: Teams = 4, Matches = 2, and 2 teams advance.\n",
    "- 4th Round: Teams = 2, Matches = 1, and 1 team is declared the winner.\n",
    "Total number of matches = 7 + 3 + 2 + 1 = 13."
   ]
  },
  {
   "cell_type": "code",
   "execution_count": 1,
   "id": "14862f19",
   "metadata": {},
   "outputs": [],
   "source": [
    "def fx(n):\n",
    "    ans=0\n",
    "    while (n>1):\n",
    "        if (n%2)==0:\n",
    "            ans+=n//2\n",
    "            n=n//2\n",
    "        else:\n",
    "            ans+=n//2\n",
    "            n=n//2+1\n",
    "    return ans"
   ]
  },
  {
   "cell_type": "code",
   "execution_count": 2,
   "id": "5bbb28c1",
   "metadata": {},
   "outputs": [
    {
     "data": {
      "text/plain": [
       "6"
      ]
     },
     "execution_count": 2,
     "metadata": {},
     "output_type": "execute_result"
    }
   ],
   "source": [
    "fx(7)"
   ]
  },
  {
   "cell_type": "code",
   "execution_count": 3,
   "id": "12e3e59e",
   "metadata": {},
   "outputs": [
    {
     "data": {
      "text/plain": [
       "13"
      ]
     },
     "execution_count": 3,
     "metadata": {},
     "output_type": "execute_result"
    }
   ],
   "source": [
    "fx(14)"
   ]
  },
  {
   "cell_type": "code",
   "execution_count": null,
   "id": "0dfa0015",
   "metadata": {},
   "outputs": [],
   "source": []
  }
 ],
 "metadata": {
  "kernelspec": {
   "display_name": "Python 3 (ipykernel)",
   "language": "python",
   "name": "python3"
  },
  "language_info": {
   "codemirror_mode": {
    "name": "ipython",
    "version": 3
   },
   "file_extension": ".py",
   "mimetype": "text/x-python",
   "name": "python",
   "nbconvert_exporter": "python",
   "pygments_lexer": "ipython3",
   "version": "3.10.6"
  }
 },
 "nbformat": 4,
 "nbformat_minor": 5
}
