{
 "cells": [
  {
   "cell_type": "markdown",
   "id": "8b60f10b",
   "metadata": {},
   "source": [
    "Given a positive integer, check whether it has alternating bits: namely, if two adjacent bits will always have different values.\n",
    "\n",
    " \n",
    "Example 1:\n",
    "\n",
    "Input: n = 5\n",
    "Output: true\n",
    "Explanation: The binary representation of 5 is: 101\n",
    "        \n",
    "Example 2:\n",
    "\n",
    "Input: n = 7\n",
    "Output: false\n",
    "Explanation: The binary representation of 7 is: 111.\n",
    "        \n",
    "Example 3:\n",
    "\n",
    "Input: n = 11\n",
    "Output: false\n",
    "Explanation: The binary representation of 11 is: 1011."
   ]
  },
  {
   "cell_type": "code",
   "execution_count": 1,
   "id": "cd3a39c8",
   "metadata": {},
   "outputs": [],
   "source": [
    "def fx(n):\n",
    "    s=bin(n)[2:]\n",
    "    for i in range(1,len(s)):\n",
    "        if s[i]=='1' and s[i-1]!='0':\n",
    "            return False\n",
    "        elif s[i]=='0' and s[i-1]!='1':\n",
    "            return False\n",
    "    return True"
   ]
  },
  {
   "cell_type": "code",
   "execution_count": 2,
   "id": "b122186f",
   "metadata": {},
   "outputs": [
    {
     "data": {
      "text/plain": [
       "True"
      ]
     },
     "execution_count": 2,
     "metadata": {},
     "output_type": "execute_result"
    }
   ],
   "source": [
    "fx(5)"
   ]
  },
  {
   "cell_type": "code",
   "execution_count": 3,
   "id": "405b5833",
   "metadata": {},
   "outputs": [
    {
     "data": {
      "text/plain": [
       "False"
      ]
     },
     "execution_count": 3,
     "metadata": {},
     "output_type": "execute_result"
    }
   ],
   "source": [
    "fx(7)"
   ]
  }
 ],
 "metadata": {
  "kernelspec": {
   "display_name": "Python 3 (ipykernel)",
   "language": "python",
   "name": "python3"
  },
  "language_info": {
   "codemirror_mode": {
    "name": "ipython",
    "version": 3
   },
   "file_extension": ".py",
   "mimetype": "text/x-python",
   "name": "python",
   "nbconvert_exporter": "python",
   "pygments_lexer": "ipython3",
   "version": "3.10.6"
  }
 },
 "nbformat": 4,
 "nbformat_minor": 5
}
