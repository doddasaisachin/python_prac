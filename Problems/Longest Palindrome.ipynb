{
 "cells": [
  {
   "cell_type": "markdown",
   "id": "f50353a7",
   "metadata": {},
   "source": [
    "Given a string s which consists of lowercase or uppercase letters, return the length of the longest palindrome that can be built with those letters.\n",
    "\n",
    "Letters are case sensitive, for example, \"Aa\" is not considered a palindrome here."
   ]
  },
  {
   "cell_type": "code",
   "execution_count": 12,
   "id": "497fd946",
   "metadata": {},
   "outputs": [],
   "source": [
    "def fx(s):\n",
    "    d=dict()\n",
    "    for i in range(len(s)):\n",
    "        if s[i] not in d.keys():\n",
    "            d[s[i]]=1\n",
    "        else:\n",
    "            d[s[i]]+=1\n",
    "    res=0\n",
    "    arr=sorted(d,key=lambda x : d[x]%2)\n",
    "    Max=0\n",
    "    temp=''\n",
    "    odd=0\n",
    "    c=0\n",
    "    for i in arr:\n",
    "        if d[i]%2==0:\n",
    "            res+=d[i]\n",
    "        else:\n",
    "            odd+=d[i]\n",
    "            c+=1\n",
    "            if d[i]>Max:\n",
    "                temp=i\n",
    "    if temp=='':\n",
    "        return res\n",
    "    else:\n",
    "        odd=odd-d[temp]\n",
    "        res+=d[temp]\n",
    "        res=res+odd-(c-1)\n",
    "        return res"
   ]
  },
  {
   "cell_type": "code",
   "execution_count": 14,
   "id": "2010b69d",
   "metadata": {},
   "outputs": [
    {
     "data": {
      "text/plain": [
       "7"
      ]
     },
     "execution_count": 14,
     "metadata": {},
     "output_type": "execute_result"
    }
   ],
   "source": [
    "fx(\"abccccdd\")"
   ]
  },
  {
   "cell_type": "code",
   "execution_count": 15,
   "id": "dd6d06a4",
   "metadata": {},
   "outputs": [
    {
     "data": {
      "text/plain": [
       "5"
      ]
     },
     "execution_count": 15,
     "metadata": {},
     "output_type": "execute_result"
    }
   ],
   "source": [
    "fx(\"bananas\")"
   ]
  },
  {
   "cell_type": "code",
   "execution_count": null,
   "id": "a67417cd",
   "metadata": {},
   "outputs": [],
   "source": []
  }
 ],
 "metadata": {
  "kernelspec": {
   "display_name": "Python 3 (ipykernel)",
   "language": "python",
   "name": "python3"
  },
  "language_info": {
   "codemirror_mode": {
    "name": "ipython",
    "version": 3
   },
   "file_extension": ".py",
   "mimetype": "text/x-python",
   "name": "python",
   "nbconvert_exporter": "python",
   "pygments_lexer": "ipython3",
   "version": "3.10.6"
  }
 },
 "nbformat": 4,
 "nbformat_minor": 5
}
