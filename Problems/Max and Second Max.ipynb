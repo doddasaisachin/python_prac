{
 "cells": [
  {
   "cell_type": "markdown",
   "id": "353f6b3a",
   "metadata": {},
   "source": [
    "Given an array arr[] of size N of positive integers which may have duplicates. The task is to find the maximum and second maximum from the array, and both of them should be different from each other, so If no second max exists, then the second max will be -1."
   ]
  },
  {
   "cell_type": "markdown",
   "id": "5c84b089",
   "metadata": {},
   "source": [
    "##### Example 1:\n",
    "\n",
    "Input:\n",
    "N = 3\n",
    "arr[] = [2,1,2]\n",
    "\n",
    "Output: 2 1\n",
    "    \n",
    "Explanation: From the given array \n",
    "elements, 2 is the largest and 1 \n",
    "is the second largest."
   ]
  },
  {
   "cell_type": "markdown",
   "id": "16ef2b9a",
   "metadata": {},
   "source": [
    "##### Example 2:\n",
    "\n",
    "Input:\n",
    "N = 5\n",
    "arr[] = [1,2,3,4,5]\n",
    "\n",
    "Output: 5 4\n",
    "    \n",
    "Explanation: From the given array \n",
    "elements, 5 is the largest and 4 \n",
    "is the second largest."
   ]
  },
  {
   "cell_type": "code",
   "execution_count": 35,
   "id": "67f69c86",
   "metadata": {},
   "outputs": [],
   "source": [
    "def func(arr):\n",
    "    res=[]\n",
    "    if len(list(set(arr)))<2:\n",
    "        res.append(arr[0])\n",
    "        res.append(-1)\n",
    "        return res\n",
    "    sor=list(set(arr))\n",
    "    sor.sort()\n",
    "    res.append(sor[-1])\n",
    "    res.append(sor[-2])\n",
    "    return res"
   ]
  },
  {
   "cell_type": "code",
   "execution_count": 36,
   "id": "93bcfb56",
   "metadata": {},
   "outputs": [
    {
     "data": {
      "text/plain": [
       "[2, 1]"
      ]
     },
     "execution_count": 36,
     "metadata": {},
     "output_type": "execute_result"
    }
   ],
   "source": [
    "func([2,1,2])"
   ]
  },
  {
   "cell_type": "code",
   "execution_count": 37,
   "id": "8a722c45",
   "metadata": {},
   "outputs": [
    {
     "data": {
      "text/plain": [
       "[2, -1]"
      ]
     },
     "execution_count": 37,
     "metadata": {},
     "output_type": "execute_result"
    }
   ],
   "source": [
    "func([2,2,2,2])"
   ]
  },
  {
   "cell_type": "code",
   "execution_count": 38,
   "id": "dd0619a5",
   "metadata": {},
   "outputs": [
    {
     "data": {
      "text/plain": [
       "[5, 4]"
      ]
     },
     "execution_count": 38,
     "metadata": {},
     "output_type": "execute_result"
    }
   ],
   "source": [
    "func([1,2,3,4,5])"
   ]
  },
  {
   "cell_type": "code",
   "execution_count": 39,
   "id": "872d23ba",
   "metadata": {},
   "outputs": [
    {
     "data": {
      "text/plain": [
       "[1000, 100]"
      ]
     },
     "execution_count": 39,
     "metadata": {},
     "output_type": "execute_result"
    }
   ],
   "source": [
    "func([1000,1000,1000,1000,1000,100])"
   ]
  },
  {
   "cell_type": "code",
   "execution_count": null,
   "id": "7122f140",
   "metadata": {},
   "outputs": [],
   "source": []
  }
 ],
 "metadata": {
  "kernelspec": {
   "display_name": "Python 3 (ipykernel)",
   "language": "python",
   "name": "python3"
  },
  "language_info": {
   "codemirror_mode": {
    "name": "ipython",
    "version": 3
   },
   "file_extension": ".py",
   "mimetype": "text/x-python",
   "name": "python",
   "nbconvert_exporter": "python",
   "pygments_lexer": "ipython3",
   "version": "3.10.6"
  }
 },
 "nbformat": 4,
 "nbformat_minor": 5
}
