{
 "cells": [
  {
   "cell_type": "markdown",
   "id": "39954b36",
   "metadata": {},
   "source": [
    "Given an array nums with n objects colored red, white, or blue, sort them in-place so that objects of the same color are adjacent, with the colors in the order red, white, and blue.\n",
    "\n",
    "We will use the integers 0, 1, and 2 to represent the color red, white, and blue, respectively.\n",
    "\n",
    "You must solve this problem without using the library's sort function."
   ]
  },
  {
   "cell_type": "code",
   "execution_count": 3,
   "id": "1766876e",
   "metadata": {},
   "outputs": [],
   "source": [
    "def sortColors( nums) -> None:\n",
    "    \"\"\"\n",
    "    Do not return anything, modify nums in-place instead.\n",
    "    \"\"\"\n",
    "    red,white,blue=0,0,0\n",
    "    for i in nums:\n",
    "        if i==0:\n",
    "            red+=1\n",
    "        elif i==1:\n",
    "            white+=1\n",
    "        else:\n",
    "            blue+=1\n",
    "    idx=0\n",
    "    for i in range(red):\n",
    "        nums[idx]=0\n",
    "        idx+=1\n",
    "    for j in range(white):\n",
    "        nums[idx]=1\n",
    "        idx+=1\n",
    "    for k in range(blue):\n",
    "        nums[idx]=2\n",
    "        idx+=1\n",
    "    print(nums)"
   ]
  },
  {
   "cell_type": "code",
   "execution_count": 4,
   "id": "b78a8489",
   "metadata": {},
   "outputs": [
    {
     "name": "stdout",
     "output_type": "stream",
     "text": [
      "[0, 0, 1, 1, 2, 2]\n"
     ]
    }
   ],
   "source": [
    "sortColors([2,0,2,1,1,0])"
   ]
  },
  {
   "cell_type": "code",
   "execution_count": null,
   "id": "afc7c8f8",
   "metadata": {},
   "outputs": [],
   "source": []
  }
 ],
 "metadata": {
  "kernelspec": {
   "display_name": "Python 3 (ipykernel)",
   "language": "python",
   "name": "python3"
  },
  "language_info": {
   "codemirror_mode": {
    "name": "ipython",
    "version": 3
   },
   "file_extension": ".py",
   "mimetype": "text/x-python",
   "name": "python",
   "nbconvert_exporter": "python",
   "pygments_lexer": "ipython3",
   "version": "3.10.6"
  }
 },
 "nbformat": 4,
 "nbformat_minor": 5
}
