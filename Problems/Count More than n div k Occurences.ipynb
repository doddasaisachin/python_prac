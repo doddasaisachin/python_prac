{
 "cells": [
  {
   "cell_type": "markdown",
   "id": "7ce3a8c4",
   "metadata": {},
   "source": [
    "Given an array arr[] of size N and an element k. The task is to find all elements in array that appear more than n/k times."
   ]
  },
  {
   "cell_type": "markdown",
   "id": "1c3fda51",
   "metadata": {},
   "source": [
    "##### Example 1:\n",
    "\n",
    "Input:\n",
    "N = 8\n",
    "arr[] = {3,1,2,2,1,2,3,3}\n",
    "k = 4\n",
    "Output: 2\n",
    "Explanation: In the given array, 3 and\n",
    " 2 are the only elements that appears \n",
    "more than n/k times."
   ]
  },
  {
   "cell_type": "markdown",
   "id": "6bcc335b",
   "metadata": {},
   "source": [
    "##### Example 2:\n",
    "\n",
    "Input:\n",
    "N = 4\n",
    "arr[] = {2,3,3,2}\n",
    "k = 3\n",
    "Output: 2\n",
    "Explanation: In the given array, 3 and 2 \n",
    "are the only elements that appears more \n",
    "than n/k times. So the count of elements \n",
    "are 2."
   ]
  },
  {
   "cell_type": "code",
   "execution_count": 33,
   "id": "b978858f",
   "metadata": {},
   "outputs": [],
   "source": [
    "def func(arr,k):\n",
    "    dic={}\n",
    "    for i in arr:\n",
    "        if i in dic.keys():\n",
    "            dic[i]=dic[i]+1\n",
    "        else:\n",
    "            dic[i]=1\n",
    "    res=0\n",
    "    for i in dic.keys():\n",
    "        if dic[i]>(len(arr)//k):\n",
    "            res+=1\n",
    "    return res"
   ]
  },
  {
   "cell_type": "code",
   "execution_count": 34,
   "id": "d076c604",
   "metadata": {},
   "outputs": [
    {
     "data": {
      "text/plain": [
       "2"
      ]
     },
     "execution_count": 34,
     "metadata": {},
     "output_type": "execute_result"
    }
   ],
   "source": [
    "func([3,1,2,2,1,2,3,3],4)"
   ]
  },
  {
   "cell_type": "code",
   "execution_count": 35,
   "id": "d42bf041",
   "metadata": {},
   "outputs": [
    {
     "data": {
      "text/plain": [
       "2"
      ]
     },
     "execution_count": 35,
     "metadata": {},
     "output_type": "execute_result"
    }
   ],
   "source": [
    "func([2,3,3,2],3)"
   ]
  }
 ],
 "metadata": {
  "kernelspec": {
   "display_name": "Python 3 (ipykernel)",
   "language": "python",
   "name": "python3"
  },
  "language_info": {
   "codemirror_mode": {
    "name": "ipython",
    "version": 3
   },
   "file_extension": ".py",
   "mimetype": "text/x-python",
   "name": "python",
   "nbconvert_exporter": "python",
   "pygments_lexer": "ipython3",
   "version": "3.10.6"
  }
 },
 "nbformat": 4,
 "nbformat_minor": 5
}
