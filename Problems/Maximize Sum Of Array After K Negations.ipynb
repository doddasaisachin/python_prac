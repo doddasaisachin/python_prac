{
 "cells": [
  {
   "cell_type": "markdown",
   "id": "d509da96",
   "metadata": {},
   "source": [
    "Given an integer array nums and an integer k, modify the array in the following way:\n",
    "\n",
    "* choose an index i and replace nums[i] with -nums[i].\n",
    "\n",
    "You should apply this process exactly k times. You may choose the same index i multiple times.\n",
    "\n",
    "Return the largest possible sum of the array after modifying it in this way."
   ]
  },
  {
   "cell_type": "code",
   "execution_count": 3,
   "id": "05e30185",
   "metadata": {},
   "outputs": [],
   "source": [
    "import heapq"
   ]
  },
  {
   "cell_type": "code",
   "execution_count": 4,
   "id": "4d023e1b",
   "metadata": {},
   "outputs": [],
   "source": [
    "def fx(nums,k):\n",
    "    heapq.heapify(nums)\n",
    "    for i in range(len(nums)):\n",
    "        if k==0:break\n",
    "        cur=heapq.heappop(nums)\n",
    "        if cur<0:\n",
    "            cur=abs(cur)\n",
    "            heapq.heappush(nums,cur)\n",
    "            k-=1\n",
    "        elif cur>=0:\n",
    "            heapq.heappush(nums,cur)\n",
    "            break\n",
    "    while True:\n",
    "        if k>0:\n",
    "            cur=-heapq.heappop(nums)\n",
    "            heapq.heappush(nums,cur)\n",
    "            k-=1\n",
    "        else:break\n",
    "    # print(nums)\n",
    "    return sum(nums)"
   ]
  },
  {
   "cell_type": "code",
   "execution_count": 5,
   "id": "d693fae3",
   "metadata": {},
   "outputs": [
    {
     "data": {
      "text/plain": [
       "15"
      ]
     },
     "execution_count": 5,
     "metadata": {},
     "output_type": "execute_result"
    }
   ],
   "source": [
    "fx([2,3,-1,0,-4,5],3)"
   ]
  },
  {
   "cell_type": "code",
   "execution_count": null,
   "id": "58a6ce1f",
   "metadata": {},
   "outputs": [],
   "source": [
    "`"
   ]
  }
 ],
 "metadata": {
  "kernelspec": {
   "display_name": "Python 3 (ipykernel)",
   "language": "python",
   "name": "python3"
  },
  "language_info": {
   "codemirror_mode": {
    "name": "ipython",
    "version": 3
   },
   "file_extension": ".py",
   "mimetype": "text/x-python",
   "name": "python",
   "nbconvert_exporter": "python",
   "pygments_lexer": "ipython3",
   "version": "3.10.6"
  }
 },
 "nbformat": 4,
 "nbformat_minor": 5
}
