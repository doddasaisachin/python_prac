{
 "cells": [
  {
   "cell_type": "markdown",
   "id": "e76d64a1",
   "metadata": {},
   "source": [
    "Given an array A of N integers, find any 3 elements in it such that A[i] < A[j] < A[k] and i < j < k."
   ]
  },
  {
   "cell_type": "markdown",
   "id": "2b4e5bd9",
   "metadata": {},
   "source": [
    "##### Example 1:\n",
    "\n",
    "Input:\n",
    "N = 5\n",
    "\n",
    "A[] = [[1,2,1,1,3]\n",
    "       \n",
    "Output: [1,2,3]"
   ]
  },
  {
   "cell_type": "markdown",
   "id": "dae2bec8",
   "metadata": {},
   "source": [
    "##### Example 2:\n",
    "\n",
    "Input:\n",
    "N = 3\n",
    "\n",
    "A[] = [1,1,3]\n",
    "\n",
    "Output: 0\n",
    "    \n",
    "Explanation: no such sub-sequence exist."
   ]
  },
  {
   "cell_type": "code",
   "execution_count": 17,
   "id": "6c439c84",
   "metadata": {},
   "outputs": [],
   "source": [
    "def func(n,arr):\n",
    "    for i in range(1,n-1):\n",
    "        pre=arr[:i]\n",
    "        post=arr[i+1:]\n",
    "        if ((min(pre)<arr[i]) and (arr[i]<(max(post)))):\n",
    "            return [min(pre),arr[i],max(post)]\n",
    "    return []"
   ]
  },
  {
   "cell_type": "code",
   "execution_count": 18,
   "id": "a58e3a96",
   "metadata": {},
   "outputs": [
    {
     "data": {
      "text/plain": [
       "[1, 2, 3]"
      ]
     },
     "execution_count": 18,
     "metadata": {},
     "output_type": "execute_result"
    }
   ],
   "source": [
    "func(5,[1,2,1,1,3])"
   ]
  },
  {
   "cell_type": "code",
   "execution_count": 19,
   "id": "14bb5a03",
   "metadata": {},
   "outputs": [
    {
     "data": {
      "text/plain": [
       "[]"
      ]
     },
     "execution_count": 19,
     "metadata": {},
     "output_type": "execute_result"
    }
   ],
   "source": [
    "func(3,[1,1,3])"
   ]
  }
 ],
 "metadata": {
  "kernelspec": {
   "display_name": "Python 3 (ipykernel)",
   "language": "python",
   "name": "python3"
  },
  "language_info": {
   "codemirror_mode": {
    "name": "ipython",
    "version": 3
   },
   "file_extension": ".py",
   "mimetype": "text/x-python",
   "name": "python",
   "nbconvert_exporter": "python",
   "pygments_lexer": "ipython3",
   "version": "3.10.6"
  }
 },
 "nbformat": 4,
 "nbformat_minor": 5
}
