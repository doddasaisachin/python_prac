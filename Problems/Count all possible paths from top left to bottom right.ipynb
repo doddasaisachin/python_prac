{
 "cells": [
  {
   "cell_type": "markdown",
   "id": "9f9c7428",
   "metadata": {},
   "source": [
    "The task is to count all the possible paths from top left to bottom right of a m X n matrix with the constraints that from each cell you can either move only to right or down."
   ]
  },
  {
   "cell_type": "code",
   "execution_count": 3,
   "id": "d7aba1cf",
   "metadata": {},
   "outputs": [],
   "source": [
    "def fx(m,n):\n",
    "    dp=[[1]*n for i in range(m)]\n",
    "    for i in range(1,m):\n",
    "        for j in range(1,n):\n",
    "            dp[i][j]=dp[i-1][j]+dp[i][j-1]\n",
    "#     for i in dp:\n",
    "#         for j in i:\n",
    "#             print(j,end=' ')\n",
    "#         print()\n",
    "    return dp[-1][-1]"
   ]
  },
  {
   "cell_type": "code",
   "execution_count": 5,
   "id": "ab49ba71",
   "metadata": {},
   "outputs": [
    {
     "data": {
      "text/plain": [
       "6"
      ]
     },
     "execution_count": 5,
     "metadata": {},
     "output_type": "execute_result"
    }
   ],
   "source": [
    "fx(3,3)"
   ]
  },
  {
   "cell_type": "code",
   "execution_count": 4,
   "id": "c5dced66",
   "metadata": {},
   "outputs": [
    {
     "data": {
      "text/plain": [
       "15"
      ]
     },
     "execution_count": 4,
     "metadata": {},
     "output_type": "execute_result"
    }
   ],
   "source": [
    "fx(5,3)"
   ]
  }
 ],
 "metadata": {
  "kernelspec": {
   "display_name": "Python 3 (ipykernel)",
   "language": "python",
   "name": "python3"
  },
  "language_info": {
   "codemirror_mode": {
    "name": "ipython",
    "version": 3
   },
   "file_extension": ".py",
   "mimetype": "text/x-python",
   "name": "python",
   "nbconvert_exporter": "python",
   "pygments_lexer": "ipython3",
   "version": "3.10.6"
  }
 },
 "nbformat": 4,
 "nbformat_minor": 5
}
