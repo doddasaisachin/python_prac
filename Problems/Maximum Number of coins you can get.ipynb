{
 "cells": [
  {
   "cell_type": "markdown",
   "id": "3d83fb36",
   "metadata": {},
   "source": [
    "There are 3n piles of coins of varying size, you and your friends will take piles of coins as follows:\n",
    "\n",
    "In each step, you will choose any 3 piles of coins (not necessarily consecutive).\n",
    "Of your choice, Alice will pick the pile with the maximum number of coins.\n",
    "You will pick the next pile with the maximum number of coins.\n",
    "Your friend Bob will pick the last pile.\n",
    "Repeat until there are no more piles of coins.\n",
    "Given an array of integers piles where piles[i] is the number of coins in the ith pile.\n",
    "\n",
    "Return the maximum number of coins that you can have."
   ]
  },
  {
   "cell_type": "markdown",
   "id": "079db7d6",
   "metadata": {},
   "source": [
    "Example 1:\n",
    "\n",
    "Input: piles = [2,4,1,2,7,8]\n",
    "Output: 9\n",
    "Explanation: Choose the triplet (2, 7, 8), Alice Pick the pile with 8 coins, you the pile with 7 coins and Bob the last one.\n",
    "Choose the triplet (1, 2, 4), Alice Pick the pile with 4 coins, you the pile with 2 coins and Bob the last one.\n",
    "The maximum number of coins which you can have are: 7 + 2 = 9.\n",
    "On the other hand if we choose this arrangement (1, 2, 8), (2, 4, 7) you only get 2 + 4 = 6 coins which is not optimal.\n",
    "\n",
    "Example 2:\n",
    "\n",
    "Input: piles = [2,4,5]\n",
    "Output: 4\n",
    "    \n",
    "Example 3:\n",
    "\n",
    "Input: piles = [9,8,7,6,5,1,2,3,4]\n",
    "Output: 18"
   ]
  },
  {
   "cell_type": "code",
   "execution_count": 39,
   "id": "02ec1368",
   "metadata": {},
   "outputs": [],
   "source": [
    "def function(array):\n",
    "    pairs=len(array)//3\n",
    "    array.sort(reverse=True)\n",
    "    idx=1\n",
    "    count=0\n",
    "    final=0\n",
    "    while count<pairs:\n",
    "        final=final+array[idx]\n",
    "        idx=idx+2\n",
    "        count+=1\n",
    "    return final"
   ]
  },
  {
   "cell_type": "code",
   "execution_count": 40,
   "id": "a5acec45",
   "metadata": {
    "scrolled": true
   },
   "outputs": [
    {
     "data": {
      "text/plain": [
       "18"
      ]
     },
     "execution_count": 40,
     "metadata": {},
     "output_type": "execute_result"
    }
   ],
   "source": [
    "function([9,8,7,6,5,1,2,3,4])"
   ]
  },
  {
   "cell_type": "code",
   "execution_count": 41,
   "id": "e0df2dfc",
   "metadata": {},
   "outputs": [
    {
     "data": {
      "text/plain": [
       "9"
      ]
     },
     "execution_count": 41,
     "metadata": {},
     "output_type": "execute_result"
    }
   ],
   "source": [
    "function([2,4,1,2,7,8])"
   ]
  },
  {
   "cell_type": "code",
   "execution_count": 42,
   "id": "673c253f",
   "metadata": {},
   "outputs": [
    {
     "data": {
      "text/plain": [
       "4"
      ]
     },
     "execution_count": 42,
     "metadata": {},
     "output_type": "execute_result"
    }
   ],
   "source": [
    "function([2,4,5])"
   ]
  },
  {
   "cell_type": "code",
   "execution_count": null,
   "id": "893302fa",
   "metadata": {},
   "outputs": [],
   "source": []
  }
 ],
 "metadata": {
  "kernelspec": {
   "display_name": "Python 3 (ipykernel)",
   "language": "python",
   "name": "python3"
  },
  "language_info": {
   "codemirror_mode": {
    "name": "ipython",
    "version": 3
   },
   "file_extension": ".py",
   "mimetype": "text/x-python",
   "name": "python",
   "nbconvert_exporter": "python",
   "pygments_lexer": "ipython3",
   "version": "3.10.6"
  }
 },
 "nbformat": 4,
 "nbformat_minor": 5
}
