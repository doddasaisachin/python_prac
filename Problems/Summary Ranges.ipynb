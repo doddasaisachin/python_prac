{
 "cells": [
  {
   "cell_type": "markdown",
   "id": "e0a1baef",
   "metadata": {},
   "source": [
    "You are given a sorted unique integer array nums.\n",
    "\n",
    "A range [a,b] is the set of all integers from a to b (inclusive).\n",
    "\n",
    "Return the smallest sorted list of ranges that cover all the numbers in the array exactly. That is, each element of nums is covered by exactly one of the ranges, and there is no integer x such that x is in one of the ranges but not in nums.\n",
    "\n",
    "Each range [a,b] in the list should be output as:\n",
    "\n",
    "\"a->b\" if a != b\n",
    "\"a\" if a == b\n",
    " \n",
    "\n",
    "Example 1:\n",
    "\n",
    "Input: nums = [0,1,2,4,5,7]\n",
    "Output: [\"0->2\",\"4->5\",\"7\"]\n",
    "Explanation: The ranges are:\n",
    "[0,2] --> \"0->2\"\n",
    "[4,5] --> \"4->5\"\n",
    "[7,7] --> \"7\"\n",
    "\n",
    "Example 2:\n",
    "\n",
    "Input: nums = [0,2,3,4,6,8,9]\n",
    "Output: [\"0\",\"2->4\",\"6\",\"8->9\"]\n",
    "Explanation: The ranges are:\n",
    "[0,0] --> \"0\"\n",
    "[2,4] --> \"2->4\"\n",
    "[6,6] --> \"6\"\n",
    "[8,9] --> \"8->9\""
   ]
  },
  {
   "cell_type": "code",
   "execution_count": 74,
   "id": "41793537",
   "metadata": {},
   "outputs": [],
   "source": [
    "def function(array):\n",
    "    idx=0\n",
    "    pointer=0\n",
    "    final=[]\n",
    "    if len(array)==1:\n",
    "        temp=[]\n",
    "        temp.append(f\"{array[0]}\")\n",
    "        return temp\n",
    "    while idx<len(array)-1:\n",
    "        while (idx!=len(array)-1) and array[idx+1]==array[idx]+1:\n",
    "            if idx<len(array)-1:\n",
    "                idx+=1\n",
    "            else:\n",
    "                break\n",
    "        if pointer!=idx:\n",
    "            final.append(f\"{array[pointer]}->{array[idx]}\")\n",
    "        else:\n",
    "            final.append(f\"{array[idx]}\")\n",
    "        if (idx==len(array)-2):\n",
    "            final.append(f\"{array[idx+1]}\")\n",
    "        idx+=1\n",
    "        pointer=idx\n",
    "    return final"
   ]
  },
  {
   "cell_type": "code",
   "execution_count": 75,
   "id": "fceea2c1",
   "metadata": {
    "scrolled": true
   },
   "outputs": [
    {
     "data": {
      "text/plain": [
       "['0->2', '4->5', '7']"
      ]
     },
     "execution_count": 75,
     "metadata": {},
     "output_type": "execute_result"
    }
   ],
   "source": [
    "function([0,1,2,4,5,7])"
   ]
  },
  {
   "cell_type": "code",
   "execution_count": 76,
   "id": "46a3bce9",
   "metadata": {
    "scrolled": true
   },
   "outputs": [
    {
     "data": {
      "text/plain": [
       "['0', '2->4', '6', '8->9']"
      ]
     },
     "execution_count": 76,
     "metadata": {},
     "output_type": "execute_result"
    }
   ],
   "source": [
    "function([0,2,3,4,6,8,9])"
   ]
  },
  {
   "cell_type": "code",
   "execution_count": 77,
   "id": "76366ad1",
   "metadata": {
    "scrolled": true
   },
   "outputs": [
    {
     "data": {
      "text/plain": [
       "['5']"
      ]
     },
     "execution_count": 77,
     "metadata": {},
     "output_type": "execute_result"
    }
   ],
   "source": [
    "function([5])"
   ]
  },
  {
   "cell_type": "code",
   "execution_count": 78,
   "id": "69cf6357",
   "metadata": {
    "scrolled": true
   },
   "outputs": [
    {
     "data": {
      "text/plain": [
       "['0->1']"
      ]
     },
     "execution_count": 78,
     "metadata": {},
     "output_type": "execute_result"
    }
   ],
   "source": [
    "function([0,1])"
   ]
  },
  {
   "cell_type": "code",
   "execution_count": null,
   "id": "e15ef3a0",
   "metadata": {},
   "outputs": [],
   "source": []
  }
 ],
 "metadata": {
  "kernelspec": {
   "display_name": "Python 3 (ipykernel)",
   "language": "python",
   "name": "python3"
  },
  "language_info": {
   "codemirror_mode": {
    "name": "ipython",
    "version": 3
   },
   "file_extension": ".py",
   "mimetype": "text/x-python",
   "name": "python",
   "nbconvert_exporter": "python",
   "pygments_lexer": "ipython3",
   "version": "3.10.6"
  }
 },
 "nbformat": 4,
 "nbformat_minor": 5
}
