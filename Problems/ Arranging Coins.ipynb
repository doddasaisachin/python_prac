{
 "cells": [
  {
   "cell_type": "markdown",
   "id": "22bea1c6",
   "metadata": {},
   "source": [
    "You have n coins and you want to build a staircase with these coins. The staircase consists of k rows where the ith row has exactly i coins. The last row of the staircase may be incomplete.\n",
    "\n",
    "Given the integer n, return the number of complete rows of the staircase you will build."
   ]
  },
  {
   "cell_type": "code",
   "execution_count": 1,
   "id": "f377a7e4",
   "metadata": {},
   "outputs": [],
   "source": [
    "def func(n):\n",
    "    idx=1\n",
    "    c=0\n",
    "    while idx<=n:\n",
    "        c+=1\n",
    "        n=n-idx\n",
    "        idx+=1\n",
    "    return c"
   ]
  },
  {
   "cell_type": "code",
   "execution_count": 3,
   "id": "bbd1833f",
   "metadata": {},
   "outputs": [
    {
     "data": {
      "text/plain": [
       "2"
      ]
     },
     "execution_count": 3,
     "metadata": {},
     "output_type": "execute_result"
    }
   ],
   "source": [
    "func(5)"
   ]
  },
  {
   "cell_type": "code",
   "execution_count": 4,
   "id": "80a986ce",
   "metadata": {},
   "outputs": [
    {
     "data": {
      "text/plain": [
       "3"
      ]
     },
     "execution_count": 4,
     "metadata": {},
     "output_type": "execute_result"
    }
   ],
   "source": [
    "func(8)"
   ]
  },
  {
   "cell_type": "code",
   "execution_count": 7,
   "id": "5c38efe5",
   "metadata": {},
   "outputs": [],
   "source": [
    "def fkYou(n):\n",
    "    c=0\n",
    "    for i in range(1,n+1):\n",
    "        if ((i)*(i+1))/2 >n:\n",
    "            return i-1\n",
    "    return 1"
   ]
  },
  {
   "cell_type": "code",
   "execution_count": 8,
   "id": "3b7a1059",
   "metadata": {},
   "outputs": [
    {
     "data": {
      "text/plain": [
       "3"
      ]
     },
     "execution_count": 8,
     "metadata": {},
     "output_type": "execute_result"
    }
   ],
   "source": [
    "fkYou(8)"
   ]
  },
  {
   "cell_type": "code",
   "execution_count": null,
   "id": "d8831945",
   "metadata": {},
   "outputs": [],
   "source": []
  }
 ],
 "metadata": {
  "kernelspec": {
   "display_name": "Python 3 (ipykernel)",
   "language": "python",
   "name": "python3"
  },
  "language_info": {
   "codemirror_mode": {
    "name": "ipython",
    "version": 3
   },
   "file_extension": ".py",
   "mimetype": "text/x-python",
   "name": "python",
   "nbconvert_exporter": "python",
   "pygments_lexer": "ipython3",
   "version": "3.10.6"
  }
 },
 "nbformat": 4,
 "nbformat_minor": 5
}
