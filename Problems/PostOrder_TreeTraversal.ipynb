{
 "cells": [
  {
   "cell_type": "code",
   "execution_count": 14,
   "id": "d901c35f",
   "metadata": {},
   "outputs": [],
   "source": [
    "class Binarysearchtree:\n",
    "    def __init__(self,data):\n",
    "        self.data=data\n",
    "        self.left=None\n",
    "        self.right=None\n",
    "    def add_child(self,val):\n",
    "        if self.data==val:\n",
    "            return\n",
    "        if val<self.data:\n",
    "            if self.left:\n",
    "                return self.left.add_child(val)\n",
    "            else:\n",
    "                self.left=Binarysearchtree(val)\n",
    "        if val>self.data:\n",
    "            if self.right:\n",
    "                return self.right.add_child(val)\n",
    "            else:\n",
    "                self.right=Binarysearchtree(val)"
   ]
  },
  {
   "cell_type": "code",
   "execution_count": 15,
   "id": "5e79fc25",
   "metadata": {},
   "outputs": [],
   "source": [
    "root=Binarysearchtree(10)"
   ]
  },
  {
   "cell_type": "code",
   "execution_count": 16,
   "id": "accb4732",
   "metadata": {},
   "outputs": [],
   "source": [
    "for i in [8,9,10,11,12,13]:\n",
    "    root.add_child(i)"
   ]
  },
  {
   "cell_type": "code",
   "execution_count": 17,
   "id": "2f8f9197",
   "metadata": {},
   "outputs": [],
   "source": [
    "def post_order(root):\n",
    "    if root is None:\n",
    "        return\n",
    "    res=[]\n",
    "    if root.left:\n",
    "        res=res+post_order(root.left)\n",
    "    if root.right:\n",
    "        res=res+post_order(root.right)\n",
    "    res.append(root.data)\n",
    "    return res"
   ]
  },
  {
   "cell_type": "code",
   "execution_count": 18,
   "id": "f69fa158",
   "metadata": {},
   "outputs": [
    {
     "data": {
      "text/plain": [
       "[9, 8, 13, 12, 11, 10]"
      ]
     },
     "execution_count": 18,
     "metadata": {},
     "output_type": "execute_result"
    }
   ],
   "source": [
    "post_order(root)"
   ]
  },
  {
   "cell_type": "code",
   "execution_count": null,
   "id": "5b1f38ba",
   "metadata": {},
   "outputs": [],
   "source": []
  }
 ],
 "metadata": {
  "kernelspec": {
   "display_name": "Python 3 (ipykernel)",
   "language": "python",
   "name": "python3"
  },
  "language_info": {
   "codemirror_mode": {
    "name": "ipython",
    "version": 3
   },
   "file_extension": ".py",
   "mimetype": "text/x-python",
   "name": "python",
   "nbconvert_exporter": "python",
   "pygments_lexer": "ipython3",
   "version": "3.10.6"
  }
 },
 "nbformat": 4,
 "nbformat_minor": 5
}
