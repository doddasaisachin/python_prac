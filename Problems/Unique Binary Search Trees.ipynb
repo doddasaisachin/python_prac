{
 "cells": [
  {
   "cell_type": "markdown",
   "id": "4e88dfac",
   "metadata": {},
   "source": [
    "Given an integer n, return the number of structurally unique BST's (binary search trees) which has exactly n nodes of unique values from 1 to n."
   ]
  },
  {
   "cell_type": "code",
   "execution_count": 1,
   "id": "cd535c28",
   "metadata": {},
   "outputs": [],
   "source": [
    "def fx(n):\n",
    "    dp=[1 for i in range(n+1)]\n",
    "    for i in range(2,n+1):\n",
    "        temp=0\n",
    "        idx=i-1\n",
    "        for j in range(i):\n",
    "            temp=temp+(dp[j]*dp[idx])\n",
    "            idx-=1\n",
    "        dp[i]=temp\n",
    "    return dp[-1]"
   ]
  },
  {
   "cell_type": "code",
   "execution_count": 6,
   "id": "62e4efe6",
   "metadata": {},
   "outputs": [
    {
     "data": {
      "text/plain": [
       "5"
      ]
     },
     "execution_count": 6,
     "metadata": {},
     "output_type": "execute_result"
    }
   ],
   "source": [
    "fx(3)"
   ]
  },
  {
   "cell_type": "code",
   "execution_count": null,
   "id": "a7c07b9f",
   "metadata": {},
   "outputs": [],
   "source": []
  }
 ],
 "metadata": {
  "kernelspec": {
   "display_name": "Python 3 (ipykernel)",
   "language": "python",
   "name": "python3"
  },
  "language_info": {
   "codemirror_mode": {
    "name": "ipython",
    "version": 3
   },
   "file_extension": ".py",
   "mimetype": "text/x-python",
   "name": "python",
   "nbconvert_exporter": "python",
   "pygments_lexer": "ipython3",
   "version": "3.10.6"
  }
 },
 "nbformat": 4,
 "nbformat_minor": 5
}
