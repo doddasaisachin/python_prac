{
 "cells": [
  {
   "cell_type": "markdown",
   "id": "24a0fe51",
   "metadata": {},
   "source": [
    "Given an array A of n positive numbers. The task is to find the first Equilibrium Point in an array. \n",
    "Equilibrium Point in an array is a position such that the sum of elements before it is equal to the sum of elements after it."
   ]
  },
  {
   "cell_type": "markdown",
   "id": "f694e398",
   "metadata": {},
   "source": [
    "##### Example 1:\n",
    "\n",
    "Input: \n",
    "n = 5 \n",
    "A[] = [1,3,5,2,2]\n",
    "\n",
    "Output: 3 \n",
    "    \n",
    "Explanation:  \n",
    "equilibrium point is at position 3 \n",
    "as elements before it (1+3) = \n",
    "elements after it (2+2)."
   ]
  },
  {
   "cell_type": "code",
   "execution_count": 32,
   "id": "4ccbe9c9",
   "metadata": {},
   "outputs": [],
   "source": [
    "def func(arr):\n",
    "    tot=sum(arr)\n",
    "    if len(arr)==1:\n",
    "        return 1\n",
    "    ls=0\n",
    "    for i in range(1,len(arr)-1):\n",
    "        ls=ls+arr[i-1]\n",
    "        if ls==(tot-ls-arr[i]):\n",
    "            return i+1\n",
    "    return -1"
   ]
  },
  {
   "cell_type": "code",
   "execution_count": 33,
   "id": "1edd820b",
   "metadata": {},
   "outputs": [
    {
     "data": {
      "text/plain": [
       "3"
      ]
     },
     "execution_count": 33,
     "metadata": {},
     "output_type": "execute_result"
    }
   ],
   "source": [
    "func([1,3,5,2,2])"
   ]
  },
  {
   "cell_type": "code",
   "execution_count": 34,
   "id": "82fe0f38",
   "metadata": {},
   "outputs": [
    {
     "data": {
      "text/plain": [
       "1"
      ]
     },
     "execution_count": 34,
     "metadata": {},
     "output_type": "execute_result"
    }
   ],
   "source": [
    "func([1])"
   ]
  },
  {
   "cell_type": "code",
   "execution_count": 35,
   "id": "573dd0b1",
   "metadata": {},
   "outputs": [
    {
     "data": {
      "text/plain": [
       "-1"
      ]
     },
     "execution_count": 35,
     "metadata": {},
     "output_type": "execute_result"
    }
   ],
   "source": [
    "func([1,2,3,4,5])"
   ]
  },
  {
   "cell_type": "code",
   "execution_count": 36,
   "id": "267978b3",
   "metadata": {},
   "outputs": [
    {
     "data": {
      "text/plain": [
       "5"
      ]
     },
     "execution_count": 36,
     "metadata": {},
     "output_type": "execute_result"
    }
   ],
   "source": [
    "func([1,2,3,4,5,4,3,2,1])"
   ]
  }
 ],
 "metadata": {
  "kernelspec": {
   "display_name": "Python 3 (ipykernel)",
   "language": "python",
   "name": "python3"
  },
  "language_info": {
   "codemirror_mode": {
    "name": "ipython",
    "version": 3
   },
   "file_extension": ".py",
   "mimetype": "text/x-python",
   "name": "python",
   "nbconvert_exporter": "python",
   "pygments_lexer": "ipython3",
   "version": "3.10.6"
  }
 },
 "nbformat": 4,
 "nbformat_minor": 5
}
