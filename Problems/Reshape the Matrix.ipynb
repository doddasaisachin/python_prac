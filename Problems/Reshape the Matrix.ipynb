{
 "cells": [
  {
   "cell_type": "markdown",
   "id": "d652dda7",
   "metadata": {},
   "source": [
    "You are given an m x n matrix mat and two integers r and c representing the number of rows and the number of columns of the wanted reshaped matrix.\n",
    "\n",
    "The reshaped matrix should be filled with all the elements of the original matrix in the same row-traversing order as they were.\n",
    "\n",
    "If the reshape operation with given parameters is possible and legal, output the new reshaped matrix; Otherwise, output the original matrix.\n",
    "\n",
    " \n",
    "\n",
    "Example 1:\n",
    "\n",
    "Input: mat = [[1,2],[3,4]], r = 1, c = 4\n",
    "Output: [[1,2,3,4]]\n",
    "    \n",
    "Example 2:\n",
    "\n",
    "Input: mat = [[1,2],[3,4]], r = 2, c = 4\n",
    "Output: [[1,2],[3,4]]"
   ]
  },
  {
   "cell_type": "code",
   "execution_count": 25,
   "id": "ddf416ad",
   "metadata": {},
   "outputs": [],
   "source": [
    "def fx(mat,r,c):\n",
    "    if (len(mat)*len(mat[0]))!=r*c:\n",
    "        return mat\n",
    "    ans,temp=[],[]\n",
    "    for i in range(len(mat)):\n",
    "        for j in range(len(mat[0])):\n",
    "            if len(temp)<c:\n",
    "                temp.append(mat[i][j])\n",
    "            else:\n",
    "                ans.append(temp)\n",
    "                temp=[]\n",
    "                temp=[mat[i][j]]\n",
    "    ans.append(temp)\n",
    "    return ans"
   ]
  },
  {
   "cell_type": "code",
   "execution_count": 26,
   "id": "e7686105",
   "metadata": {},
   "outputs": [
    {
     "data": {
      "text/plain": [
       "[[1, 2, 3, 4]]"
      ]
     },
     "execution_count": 26,
     "metadata": {},
     "output_type": "execute_result"
    }
   ],
   "source": [
    "fx([[1,2],[3,4]],1,4)"
   ]
  },
  {
   "cell_type": "code",
   "execution_count": 27,
   "id": "77b4b0db",
   "metadata": {},
   "outputs": [
    {
     "data": {
      "text/plain": [
       "[[1], [2], [3], [4]]"
      ]
     },
     "execution_count": 27,
     "metadata": {},
     "output_type": "execute_result"
    }
   ],
   "source": [
    "fx([[1,2],[3,4]],4,1)"
   ]
  },
  {
   "cell_type": "code",
   "execution_count": null,
   "id": "07755c28",
   "metadata": {},
   "outputs": [],
   "source": []
  }
 ],
 "metadata": {
  "kernelspec": {
   "display_name": "Python 3 (ipykernel)",
   "language": "python",
   "name": "python3"
  },
  "language_info": {
   "codemirror_mode": {
    "name": "ipython",
    "version": 3
   },
   "file_extension": ".py",
   "mimetype": "text/x-python",
   "name": "python",
   "nbconvert_exporter": "python",
   "pygments_lexer": "ipython3",
   "version": "3.10.6"
  }
 },
 "nbformat": 4,
 "nbformat_minor": 5
}
