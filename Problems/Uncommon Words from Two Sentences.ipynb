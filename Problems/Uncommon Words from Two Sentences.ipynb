{
 "cells": [
  {
   "cell_type": "markdown",
   "id": "abb95222",
   "metadata": {},
   "source": [
    "A sentence is a string of single-space separated words where each word consists only of lowercase letters.\n",
    "\n",
    "A word is uncommon if it appears exactly once in one of the sentences, and does not appear in the other sentence.\n",
    "\n",
    "Given two sentences s1 and s2, return a list of all the uncommon words. You may return the answer in any order.\n",
    "\n",
    " \n",
    "\n",
    "Example 1:\n",
    "\n",
    "Input: s1 = \"this apple is sweet\", s2 = \"this apple is sour\"\n",
    "Output: [\"sweet\",\"sour\"]\n",
    "    \n",
    "Example 2:\n",
    "\n",
    "Input: s1 = \"apple apple\", s2 = \"banana\"\n",
    "Output: [\"banana\"]"
   ]
  },
  {
   "cell_type": "code",
   "execution_count": 1,
   "id": "2e409e7f",
   "metadata": {},
   "outputs": [],
   "source": [
    "def fx(s1,s2):\n",
    "    d1=dict()\n",
    "    d2=dict()\n",
    "    res=[]\n",
    "    arr1=s1.split()\n",
    "    arr2=s2.split()\n",
    "    for i in arr1:\n",
    "        if i not in d1.keys():\n",
    "            d1[i]=1\n",
    "        else:\n",
    "            d1[i]+=1\n",
    "    for i in arr2:\n",
    "        if i not in d2.keys():\n",
    "            d2[i]=1\n",
    "        else:\n",
    "            d2[i]+=1\n",
    "    for j in d1.keys():\n",
    "        if d1[j]==1:\n",
    "            if j not in d2.keys():\n",
    "                res.append(j)\n",
    "    for j in d2.keys():\n",
    "        if d2[j]==1:\n",
    "            if j not in d1.keys():\n",
    "                res.append(j)\n",
    "    return res"
   ]
  },
  {
   "cell_type": "code",
   "execution_count": 2,
   "id": "9ca81bdf",
   "metadata": {},
   "outputs": [
    {
     "data": {
      "text/plain": [
       "['sweet', 'sour']"
      ]
     },
     "execution_count": 2,
     "metadata": {},
     "output_type": "execute_result"
    }
   ],
   "source": [
    "fx(\"this apple is sweet\",\"this apple is sour\")"
   ]
  },
  {
   "cell_type": "code",
   "execution_count": 3,
   "id": "8ac14b5b",
   "metadata": {},
   "outputs": [
    {
     "data": {
      "text/plain": [
       "['banana']"
      ]
     },
     "execution_count": 3,
     "metadata": {},
     "output_type": "execute_result"
    }
   ],
   "source": [
    "fx(\"apple apple\",\"banana\")"
   ]
  },
  {
   "cell_type": "code",
   "execution_count": null,
   "id": "1f405638",
   "metadata": {},
   "outputs": [],
   "source": []
  }
 ],
 "metadata": {
  "kernelspec": {
   "display_name": "Python 3 (ipykernel)",
   "language": "python",
   "name": "python3"
  },
  "language_info": {
   "codemirror_mode": {
    "name": "ipython",
    "version": 3
   },
   "file_extension": ".py",
   "mimetype": "text/x-python",
   "name": "python",
   "nbconvert_exporter": "python",
   "pygments_lexer": "ipython3",
   "version": "3.10.6"
  }
 },
 "nbformat": 4,
 "nbformat_minor": 5
}
