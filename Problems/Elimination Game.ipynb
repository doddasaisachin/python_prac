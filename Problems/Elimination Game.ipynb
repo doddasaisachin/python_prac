{
 "cells": [
  {
   "cell_type": "markdown",
   "id": "2ebb9c45",
   "metadata": {},
   "source": [
    "You have a list arr of all integers in the range [1, n] sorted in a strictly increasing order. Apply the following algorithm on arr:\n",
    "\n",
    "* Starting from left to right, remove the first number and every other number afterward until you reach the end of the list.\n",
    "*Repeat the previous step again, but this time from right to left, remove the rightmost number and every other number from the remaining numbers.\n",
    "*Keep repeating the steps again, alternating left to right and right to left, until a single number remains.\n",
    "\n",
    "Given the integer n, return the last number that remains in arr."
   ]
  },
  {
   "cell_type": "raw",
   "id": "b9b7a244",
   "metadata": {},
   "source": [
    "Input: n = 9\n",
    "Output: 6\n",
    "Explanation:\n",
    "arr = [1, 2, 3, 4, 5, 6, 7, 8, 9]\n",
    "arr = [2, 4, 6, 8]\n",
    "arr = [2, 6]\n",
    "arr = [6]"
   ]
  },
  {
   "cell_type": "code",
   "execution_count": 47,
   "id": "1862b427",
   "metadata": {},
   "outputs": [],
   "source": [
    "def fx(arr,path='l_to_r'):\n",
    "    print(arr,path)\n",
    "    if len(arr)==1:\n",
    "        return arr[0]\n",
    "    if path=='l_to_r':\n",
    "        idx=0\n",
    "        n=len(arr)\n",
    "        while idx<n:\n",
    "            arr.pop(idx)\n",
    "            idx+=1\n",
    "            n-=1\n",
    "        return fx(arr,'r_to_l')\n",
    "    else:\n",
    "        idx=len(arr)-1\n",
    "        while idx>=0:\n",
    "            arr.pop(idx)\n",
    "            idx-=2\n",
    "        return fx(arr,'l_to_r')"
   ]
  },
  {
   "cell_type": "code",
   "execution_count": 49,
   "id": "3ac8716f",
   "metadata": {},
   "outputs": [
    {
     "name": "stdout",
     "output_type": "stream",
     "text": [
      "[1, 2, 3, 4, 5, 6, 7, 8, 9, 10, 11, 12, 13, 14, 15, 16, 17, 18, 19, 20] l_to_r\n",
      "[2, 4, 6, 8, 10, 12, 14, 16, 18, 20] r_to_l\n",
      "[2, 6, 10, 14, 18] l_to_r\n",
      "[6, 14] r_to_l\n",
      "[6] l_to_r\n"
     ]
    },
    {
     "data": {
      "text/plain": [
       "6"
      ]
     },
     "execution_count": 49,
     "metadata": {},
     "output_type": "execute_result"
    }
   ],
   "source": [
    "fx([i for i in range(1,20+1)])"
   ]
  },
  {
   "cell_type": "code",
   "execution_count": null,
   "id": "6f1c0d11",
   "metadata": {},
   "outputs": [],
   "source": []
  }
 ],
 "metadata": {
  "kernelspec": {
   "display_name": "Python 3 (ipykernel)",
   "language": "python",
   "name": "python3"
  },
  "language_info": {
   "codemirror_mode": {
    "name": "ipython",
    "version": 3
   },
   "file_extension": ".py",
   "mimetype": "text/x-python",
   "name": "python",
   "nbconvert_exporter": "python",
   "pygments_lexer": "ipython3",
   "version": "3.10.6"
  }
 },
 "nbformat": 4,
 "nbformat_minor": 5
}
