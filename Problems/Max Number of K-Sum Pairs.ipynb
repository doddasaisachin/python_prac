{
 "cells": [
  {
   "cell_type": "markdown",
   "id": "fe518d84",
   "metadata": {},
   "source": [
    "You are given an integer array nums and an integer k.\n",
    "\n",
    "In one operation, you can pick two numbers from the array whose sum equals k and remove them from the array.\n",
    "\n",
    "Return the maximum number of operations you can perform on the array."
   ]
  },
  {
   "cell_type": "code",
   "execution_count": 36,
   "id": "cefdc9e5",
   "metadata": {},
   "outputs": [],
   "source": [
    "def fx(nums,k):\n",
    "    left=0\n",
    "    right=len(nums)-1\n",
    "    c=0\n",
    "    nums.sort()\n",
    "    while left<right:\n",
    "        if (nums[left]+nums[right]==k):\n",
    "            c+=1\n",
    "            left+=1\n",
    "            right-=1\n",
    "        elif (nums[left]+nums[right]<k):\n",
    "            left+=1\n",
    "        else:\n",
    "            right-=1\n",
    "    return c"
   ]
  },
  {
   "cell_type": "code",
   "execution_count": 37,
   "id": "ec24dec9",
   "metadata": {},
   "outputs": [
    {
     "data": {
      "text/plain": [
       "2"
      ]
     },
     "execution_count": 37,
     "metadata": {},
     "output_type": "execute_result"
    }
   ],
   "source": [
    "fx([1,2,3,4],5)"
   ]
  },
  {
   "cell_type": "code",
   "execution_count": 38,
   "id": "6bd1e5ec",
   "metadata": {},
   "outputs": [
    {
     "data": {
      "text/plain": [
       "2"
      ]
     },
     "execution_count": 38,
     "metadata": {},
     "output_type": "execute_result"
    }
   ],
   "source": [
    "fx([3,1,2,4,3],6)"
   ]
  },
  {
   "cell_type": "code",
   "execution_count": null,
   "id": "67b87a1b",
   "metadata": {},
   "outputs": [],
   "source": []
  }
 ],
 "metadata": {
  "kernelspec": {
   "display_name": "Python 3 (ipykernel)",
   "language": "python",
   "name": "python3"
  },
  "language_info": {
   "codemirror_mode": {
    "name": "ipython",
    "version": 3
   },
   "file_extension": ".py",
   "mimetype": "text/x-python",
   "name": "python",
   "nbconvert_exporter": "python",
   "pygments_lexer": "ipython3",
   "version": "3.10.6"
  }
 },
 "nbformat": 4,
 "nbformat_minor": 5
}
