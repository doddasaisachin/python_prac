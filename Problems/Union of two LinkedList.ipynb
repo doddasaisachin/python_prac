{
 "cells": [
  {
   "cell_type": "code",
   "execution_count": 1,
   "id": "8600f3d3",
   "metadata": {},
   "outputs": [],
   "source": [
    "def linked_list_to_list(LinkedList):\n",
    "    res=[]\n",
    "    temp=LinkedList\n",
    "    while temp is not None:\n",
    "        res.append(temp.data)\n",
    "        temp=temp.next\n",
    "    return res\n",
    "    \n",
    "def merge(l1,l2):\n",
    "    l1.extend(l2)\n",
    "    temp=set(l1)\n",
    "    arr=list(temp)\n",
    "    arr.sort()\n",
    "    return arr\n",
    "    \n",
    "class LinkedList:\n",
    "    def __init__(self):\n",
    "        self.head=None\n",
    "        self.tail=None\n",
    "    def insert(self,data):\n",
    "        if self.head is None:\n",
    "            self.head=Node(data)\n",
    "            self.tail=self.head\n",
    "        else:\n",
    "            self.tail.next=Node(data)\n",
    "            self.tail=self.tail.next\n",
    "            \n",
    "class Solution:\n",
    "    def union(self, head1,head2):\n",
    "        arr=merge(linked_list_to_list(head1),linked_list_to_list(head2))\n",
    "        f=LinkedList()\n",
    "        for i in arr:\n",
    "            f.insert(i)\n",
    "        return f.head\n"
   ]
  },
  {
   "cell_type": "code",
   "execution_count": null,
   "id": "56374208",
   "metadata": {},
   "outputs": [],
   "source": []
  }
 ],
 "metadata": {
  "kernelspec": {
   "display_name": "Python 3 (ipykernel)",
   "language": "python",
   "name": "python3"
  },
  "language_info": {
   "codemirror_mode": {
    "name": "ipython",
    "version": 3
   },
   "file_extension": ".py",
   "mimetype": "text/x-python",
   "name": "python",
   "nbconvert_exporter": "python",
   "pygments_lexer": "ipython3",
   "version": "3.10.6"
  }
 },
 "nbformat": 4,
 "nbformat_minor": 5
}
