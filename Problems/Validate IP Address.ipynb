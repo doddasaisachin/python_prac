{
 "cells": [
  {
   "cell_type": "markdown",
   "id": "930e8464",
   "metadata": {},
   "source": [
    "Given a string queryIP, return \"IPv4\" if IP is a valid IPv4 address, \"IPv6\" if IP is a valid IPv6 address or \"Neither\" if IP is not a correct IP of any type.\n",
    "\n",
    "A valid IPv4 address is an IP in the form \"x1.x2.x3.x4\" where 0 <= xi <= 255 and xi cannot contain leading zeros. For example, \"192.168.1.1\" and \"192.168.1.0\" are valid IPv4 addresses while \"192.168.01.1\", \"192.168.1.00\", and \"192.168@1.1\" are invalid IPv4 addresses.\n",
    "\n",
    "A valid IPv6 address is an IP in the form \"x1:x2:x3:x4:x5:x6:x7:x8\" where:\n",
    "\n",
    "* 1 <= xi.length <= 4\n",
    "* xi is a hexadecimal string which may contain digits, lowercase English letter ('a' to 'f') and upper-case English letters ('A' to 'F').\n",
    "* Leading zeros are allowed in xi.\n",
    "\n",
    "For example, \"2001:0db8:85a3:0000:0000:8a2e:0370:7334\" and \"2001:db8:85a3:0:0:8A2E:0370:7334\" are valid IPv6 addresses, while \"2001:0db8:85a3::8A2E:037j:7334\" and \"02001:0db8:85a3:0000:0000:8a2e:0370:7334\" are invalid IPv6 addresses."
   ]
  },
  {
   "cell_type": "code",
   "execution_count": 2,
   "id": "d544b0cc",
   "metadata": {},
   "outputs": [],
   "source": [
    "def validIPAddress(ip: str) -> str:\n",
    "    ipv4=True\n",
    "    for i in ip:\n",
    "        if i=='.':\n",
    "            break\n",
    "        elif i==':':\n",
    "            ipv4=False\n",
    "            break\n",
    "    if ipv4:\n",
    "        arr=ip.split('.')\n",
    "        if len(arr)!=4:return \"Neither\"\n",
    "        for ele in arr:\n",
    "            if ele=='':return \"Neither\"\n",
    "            if len(ele)>1 and ele[0]=='0':\n",
    "                return \"Neither\"\n",
    "            for i in ele:\n",
    "                if not i.isdigit():\n",
    "                    return \"Neither\"\n",
    "            if int(ele)>255:\n",
    "                return \"Neither\"\n",
    "        return \"IPv4\"\n",
    "    else:\n",
    "        arr=ip.split(':')\n",
    "        if len(arr)!=8:return \"Neither\"\n",
    "        for ele in arr:\n",
    "            if ele=='':return \"Neither\"\n",
    "            if len(ele)>4:return \"Neither\"\n",
    "            for i in ele:\n",
    "                if i.isalpha():\n",
    "                    if i.lower() not in 'abcdef':\n",
    "                        return \"Neither\"\n",
    "                elif i.isdigit():\n",
    "                    pass\n",
    "                else:\n",
    "                    return \"Neither\"\n",
    "        return \"IPv6\""
   ]
  },
  {
   "cell_type": "code",
   "execution_count": 3,
   "id": "7ebfa6c8",
   "metadata": {},
   "outputs": [
    {
     "data": {
      "text/plain": [
       "'IPv6'"
      ]
     },
     "execution_count": 3,
     "metadata": {},
     "output_type": "execute_result"
    }
   ],
   "source": [
    "validIPAddress(\"2001:0db8:85a3:0:0:8A2E:0370:7334\")"
   ]
  },
  {
   "cell_type": "code",
   "execution_count": null,
   "id": "72c0f896",
   "metadata": {},
   "outputs": [],
   "source": []
  }
 ],
 "metadata": {
  "kernelspec": {
   "display_name": "Python 3 (ipykernel)",
   "language": "python",
   "name": "python3"
  },
  "language_info": {
   "codemirror_mode": {
    "name": "ipython",
    "version": 3
   },
   "file_extension": ".py",
   "mimetype": "text/x-python",
   "name": "python",
   "nbconvert_exporter": "python",
   "pygments_lexer": "ipython3",
   "version": "3.10.6"
  }
 },
 "nbformat": 4,
 "nbformat_minor": 5
}
