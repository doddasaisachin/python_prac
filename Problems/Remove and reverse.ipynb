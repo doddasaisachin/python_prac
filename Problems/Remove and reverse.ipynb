{
 "cells": [
  {
   "cell_type": "code",
   "execution_count": 3,
   "id": "410e62b9",
   "metadata": {},
   "outputs": [
    {
     "data": {
      "text/plain": [
       "\"''Given a string S which consists of only lowercase English alphabets, you have to perform the below operations:\\nIf the string S contains any repeating character, remove the first repeating character and reverse the string \\nand again perform the above operation on the modified string, otherwise, you stop.\\nYou have to find the final string\""
      ]
     },
     "execution_count": 3,
     "metadata": {},
     "output_type": "execute_result"
    }
   ],
   "source": [
    "'''''Given a string S which consists of only lowercase English alphabets, you have to perform the below operations:\n",
    "If the string S contains any repeating character, remove the first repeating character and reverse the string \n",
    "and again perform the above operation on the modified string, otherwise, you stop.\n",
    "You have to find the final string'''\n",
    "\n",
    "# Input: S = \"abab\"\n",
    "# Output: ba"
   ]
  },
  {
   "cell_type": "code",
   "execution_count": 1,
   "id": "f01c4cd2",
   "metadata": {},
   "outputs": [],
   "source": [
    "def func(s):\n",
    "    em=[]\n",
    "    idx=0\n",
    "    for i in s:\n",
    "        if i not in em:\n",
    "            em.append(i)\n",
    "            idx+=1\n",
    "        else:\n",
    "            em.append(i)\n",
    "            idx+=1\n",
    "            break\n",
    "    pop_idx=s.find(i)\n",
    "    em.pop(pop_idx)\n",
    "    k=0\n",
    "    for j in s:\n",
    "        if k<idx:\n",
    "            k+=1\n",
    "            pass\n",
    "        else:\n",
    "            em.append(j)\n",
    "        \n",
    "    em.reverse()\n",
    "    return join(em)\n",
    "\n",
    "def rep(s):\n",
    "    t=[]\n",
    "    for i in s:\n",
    "        if i not in t:\n",
    "            t.append(i)\n",
    "        else: \n",
    "            return True\n",
    "    return False\n",
    "\n",
    "def join(l):\n",
    "    res=''\n",
    "    for ele in l:\n",
    "        res=res+ele\n",
    "    return res\n",
    "\n",
    "def main(Str):\n",
    "    while rep(Str):\n",
    "        tem=func(Str)\n",
    "        Str=tem\n",
    "    return Str"
   ]
  },
  {
   "cell_type": "code",
   "execution_count": 5,
   "id": "809408b6",
   "metadata": {},
   "outputs": [
    {
     "data": {
      "text/plain": [
       "'ba'"
      ]
     },
     "execution_count": 5,
     "metadata": {},
     "output_type": "execute_result"
    }
   ],
   "source": [
    "main('abab')"
   ]
  }
 ],
 "metadata": {
  "kernelspec": {
   "display_name": "Python 3 (ipykernel)",
   "language": "python",
   "name": "python3"
  },
  "language_info": {
   "codemirror_mode": {
    "name": "ipython",
    "version": 3
   },
   "file_extension": ".py",
   "mimetype": "text/x-python",
   "name": "python",
   "nbconvert_exporter": "python",
   "pygments_lexer": "ipython3",
   "version": "3.10.6"
  }
 },
 "nbformat": 4,
 "nbformat_minor": 5
}
