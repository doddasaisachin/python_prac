{
 "cells": [
  {
   "cell_type": "markdown",
   "id": "8e39a948",
   "metadata": {},
   "source": [
    "Given two strings ransomNote and magazine, return true if ransomNote can be constructed by using the letters from magazine and false otherwise.\n",
    "\n",
    "Each letter in magazine can only be used once in ransomNote."
   ]
  },
  {
   "cell_type": "markdown",
   "id": "75a85865",
   "metadata": {},
   "source": [
    "Example 1:\n",
    "\n",
    "Input: ransomNote = \"a\", magazine = \"b\"\n",
    "Output: false\n",
    "    \n",
    "Example 2:\n",
    "\n",
    "Input: ransomNote = \"aa\", magazine = \"ab\"\n",
    "Output: false\n",
    "    \n",
    "Example 3:\n",
    "\n",
    "Input: ransomNote = \"aa\", magazine = \"aab\"\n",
    "Output: true"
   ]
  },
  {
   "cell_type": "code",
   "execution_count": 2,
   "id": "b044f2c9",
   "metadata": {},
   "outputs": [],
   "source": [
    "def func(a,b):\n",
    "    d=dict()\n",
    "    for i in set(b):\n",
    "        d[i]=b.count(i)\n",
    "    for i in set(a):\n",
    "        if i not in d.keys():\n",
    "            return False\n",
    "        else:\n",
    "            if a.count(i)>d[i]:\n",
    "                return False\n",
    "    return True"
   ]
  },
  {
   "cell_type": "code",
   "execution_count": 3,
   "id": "a95d40a7",
   "metadata": {},
   "outputs": [
    {
     "data": {
      "text/plain": [
       "False"
      ]
     },
     "execution_count": 3,
     "metadata": {},
     "output_type": "execute_result"
    }
   ],
   "source": [
    "func('a','b')"
   ]
  },
  {
   "cell_type": "code",
   "execution_count": 4,
   "id": "49b36d54",
   "metadata": {},
   "outputs": [
    {
     "data": {
      "text/plain": [
       "True"
      ]
     },
     "execution_count": 4,
     "metadata": {},
     "output_type": "execute_result"
    }
   ],
   "source": [
    "func('aa','aab')"
   ]
  },
  {
   "cell_type": "code",
   "execution_count": null,
   "id": "58ac1906",
   "metadata": {},
   "outputs": [],
   "source": []
  }
 ],
 "metadata": {
  "kernelspec": {
   "display_name": "Python 3 (ipykernel)",
   "language": "python",
   "name": "python3"
  },
  "language_info": {
   "codemirror_mode": {
    "name": "ipython",
    "version": 3
   },
   "file_extension": ".py",
   "mimetype": "text/x-python",
   "name": "python",
   "nbconvert_exporter": "python",
   "pygments_lexer": "ipython3",
   "version": "3.10.6"
  }
 },
 "nbformat": 4,
 "nbformat_minor": 5
}
