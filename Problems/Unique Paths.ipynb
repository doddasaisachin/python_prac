{
 "cells": [
  {
   "cell_type": "markdown",
   "id": "6d6eb63c",
   "metadata": {},
   "source": [
    "There is a robot on an m x n grid. The robot is initially located at the top-left corner (i.e., grid[0][0]). The robot tries to move to the bottom-right corner (i.e., grid[m - 1][n - 1]). The robot can only move either down or right at any point in time.\n",
    "\n",
    "Given the two integers m and n, return the number of possible unique paths that the robot can take to reach the bottom-right corner.\n",
    "\n",
    "The test cases are generated so that the answer will be less than or equal to 2 * 109.\n",
    "\n",
    "Example 1:\n",
    "\n",
    "Input: m = 3, n = 7\n",
    "Output: 28\n",
    "    \n",
    "Example 2:\n",
    "\n",
    "Input: m = 3, n = 2\n",
    "Output: 3\n",
    "Explanation: From the top-left corner, there are a total of 3 ways to reach the bottom-right corner:\n",
    "1. Right -> Down -> Down\n",
    "2. Down -> Down -> Right\n",
    "3. Down -> Right -> Down"
   ]
  },
  {
   "cell_type": "code",
   "execution_count": 1,
   "id": "9adfec2f",
   "metadata": {},
   "outputs": [],
   "source": [
    "def fx(m,n):\n",
    "    mat=[[0 for _ in range(n)] for k in range(m)]\n",
    "    for i in range(m):\n",
    "        mat[i][0]=1\n",
    "    for i in range(1,n):\n",
    "        mat[0][i]=1\n",
    "    for i in range(1,m):\n",
    "        for j in range(1,n):\n",
    "            mat[i][j]=mat[i-1][j]+mat[i][j-1]\n",
    "    return mat[-1][-1]"
   ]
  },
  {
   "cell_type": "code",
   "execution_count": 2,
   "id": "e680570f",
   "metadata": {},
   "outputs": [
    {
     "data": {
      "text/plain": [
       "3"
      ]
     },
     "execution_count": 2,
     "metadata": {},
     "output_type": "execute_result"
    }
   ],
   "source": [
    "fx(3,2)"
   ]
  },
  {
   "cell_type": "code",
   "execution_count": null,
   "id": "89b5c015",
   "metadata": {},
   "outputs": [],
   "source": []
  }
 ],
 "metadata": {
  "kernelspec": {
   "display_name": "Python 3 (ipykernel)",
   "language": "python",
   "name": "python3"
  },
  "language_info": {
   "codemirror_mode": {
    "name": "ipython",
    "version": 3
   },
   "file_extension": ".py",
   "mimetype": "text/x-python",
   "name": "python",
   "nbconvert_exporter": "python",
   "pygments_lexer": "ipython3",
   "version": "3.10.6"
  }
 },
 "nbformat": 4,
 "nbformat_minor": 5
}
