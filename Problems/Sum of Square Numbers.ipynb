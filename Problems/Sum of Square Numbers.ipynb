{
 "cells": [
  {
   "cell_type": "markdown",
   "id": "9896f9d8",
   "metadata": {},
   "source": [
    "Given a non-negative integer c, decide whether there're two integers a and b such that a2 + b2 = c."
   ]
  },
  {
   "cell_type": "code",
   "execution_count": 15,
   "id": "91e727ad",
   "metadata": {},
   "outputs": [],
   "source": [
    "import math\n",
    "def judgeSquareSum( c: int) -> bool:\n",
    "    n=math.ceil(math.sqrt(c))+1\n",
    "    left=0\n",
    "    right=n\n",
    "    while left<=right:\n",
    "        temp=left**2+right**2\n",
    "        if temp==c:\n",
    "            return True\n",
    "        elif temp>c:\n",
    "            right-=1\n",
    "        else:\n",
    "            left+=1\n",
    "    return False"
   ]
  },
  {
   "cell_type": "code",
   "execution_count": 16,
   "id": "16ad509e",
   "metadata": {},
   "outputs": [
    {
     "data": {
      "text/plain": [
       "True"
      ]
     },
     "execution_count": 16,
     "metadata": {},
     "output_type": "execute_result"
    }
   ],
   "source": [
    "judgeSquareSum(4)"
   ]
  },
  {
   "cell_type": "code",
   "execution_count": 17,
   "id": "4b292775",
   "metadata": {},
   "outputs": [
    {
     "data": {
      "text/plain": [
       "True"
      ]
     },
     "execution_count": 17,
     "metadata": {},
     "output_type": "execute_result"
    }
   ],
   "source": [
    "judgeSquareSum(5)"
   ]
  },
  {
   "cell_type": "code",
   "execution_count": 18,
   "id": "813f432a",
   "metadata": {},
   "outputs": [
    {
     "data": {
      "text/plain": [
       "False"
      ]
     },
     "execution_count": 18,
     "metadata": {},
     "output_type": "execute_result"
    }
   ],
   "source": [
    "judgeSquareSum(3)"
   ]
  },
  {
   "cell_type": "code",
   "execution_count": null,
   "id": "8dd73120",
   "metadata": {},
   "outputs": [],
   "source": []
  }
 ],
 "metadata": {
  "kernelspec": {
   "display_name": "Python 3 (ipykernel)",
   "language": "python",
   "name": "python3"
  },
  "language_info": {
   "codemirror_mode": {
    "name": "ipython",
    "version": 3
   },
   "file_extension": ".py",
   "mimetype": "text/x-python",
   "name": "python",
   "nbconvert_exporter": "python",
   "pygments_lexer": "ipython3",
   "version": "3.11.7"
  }
 },
 "nbformat": 4,
 "nbformat_minor": 5
}
