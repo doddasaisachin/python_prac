{
 "cells": [
  {
   "cell_type": "markdown",
   "id": "8009f8a5",
   "metadata": {},
   "source": [
    "Given the roots of two binary trees p and q, write a function to check if they are the same or not.\n",
    "\n",
    "Two binary trees are considered the same if they are structurally identical, and the nodes have the same value.\n",
    "\n",
    " "
   ]
  },
  {
   "cell_type": "markdown",
   "id": "f8fe5b95",
   "metadata": {},
   "source": [
    "Input: p = [1,2,3], q = [1,2,3]\n",
    "Output: true"
   ]
  },
  {
   "cell_type": "markdown",
   "id": "59487853",
   "metadata": {},
   "source": [
    "Input: p = [1,2], q = [1,null,2]\n",
    "Output: false"
   ]
  },
  {
   "cell_type": "markdown",
   "id": "d014f9f1",
   "metadata": {},
   "source": [
    "Input: p = [1,2,1], q = [1,1,2]\n",
    "Output: false"
   ]
  },
  {
   "cell_type": "code",
   "execution_count": 13,
   "id": "12f24574",
   "metadata": {},
   "outputs": [],
   "source": [
    "class Solution:\n",
    "    def inorder(self,root):\n",
    "        res=[]\n",
    "        if root is None:\n",
    "            return \n",
    "        if root.left:\n",
    "            res=res+self.inorder(root.left)\n",
    "        res.append(root.val)\n",
    "        if root.right:\n",
    "            res=res+self.inorder(root.right)\n",
    "        return res\n",
    "\n",
    "    def isSameTree(self, p,q):\n",
    "        p_inorder=self.inorder(p)\n",
    "        q_inorder=self.inorder(q)\n",
    "        if p_inorder==q_inorder:\n",
    "            return True\n",
    "        else:\n",
    "            return False"
   ]
  },
  {
   "cell_type": "markdown",
   "id": "04f1d5fe",
   "metadata": {},
   "source": [
    "Above solution is failing for some test cases so,"
   ]
  },
  {
   "cell_type": "markdown",
   "id": "05126102",
   "metadata": {},
   "source": [
    "Hope this will work :)"
   ]
  },
  {
   "cell_type": "code",
   "execution_count": 15,
   "id": "1e66e8ec",
   "metadata": {},
   "outputs": [],
   "source": [
    "class Solution:\n",
    "    def isSameTree(self, p,q):\n",
    "        if (p is None) or (q is None):\n",
    "            return p==q\n",
    "        else:\n",
    "            return (p.val==q.val) and self.isSameTree(p.left,q.left) and (self.isSameTree(p.right,q.right))"
   ]
  },
  {
   "cell_type": "code",
   "execution_count": null,
   "id": "0f57375e",
   "metadata": {},
   "outputs": [],
   "source": []
  }
 ],
 "metadata": {
  "kernelspec": {
   "display_name": "Python 3 (ipykernel)",
   "language": "python",
   "name": "python3"
  },
  "language_info": {
   "codemirror_mode": {
    "name": "ipython",
    "version": 3
   },
   "file_extension": ".py",
   "mimetype": "text/x-python",
   "name": "python",
   "nbconvert_exporter": "python",
   "pygments_lexer": "ipython3",
   "version": "3.10.6"
  }
 },
 "nbformat": 4,
 "nbformat_minor": 5
}
