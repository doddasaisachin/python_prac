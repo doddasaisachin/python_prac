{
 "cells": [
  {
   "cell_type": "markdown",
   "id": "c73ca30c",
   "metadata": {},
   "source": [
    "You are given a 0-indexed integer array nums of even length consisting of an equal number of positive and negative integers.\n",
    "\n",
    "You should rearrange the elements of nums such that the modified array follows the given conditions:\n",
    "\n",
    "Every consecutive pair of integers have opposite signs.\n",
    "For all integers with the same sign, the order in which they were present in nums is preserved.\n",
    "The rearranged array begins with a positive integer.\n",
    "Return the modified array after rearranging the elements to satisfy the aforementioned conditions."
   ]
  },
  {
   "cell_type": "code",
   "execution_count": 69,
   "id": "49821988",
   "metadata": {},
   "outputs": [],
   "source": [
    "def fx(nums):\n",
    "    res=[None for i in range(len(nums))]\n",
    "    pos,neg=0,1\n",
    "    for i in range(len(nums)):\n",
    "        if nums[i]<0:\n",
    "            res[neg]=nums[i] \n",
    "            neg+=2\n",
    "        else:\n",
    "            res[pos]=nums[i]\n",
    "            pos+=2\n",
    "    return res"
   ]
  },
  {
   "cell_type": "code",
   "execution_count": 70,
   "id": "12768ae5",
   "metadata": {},
   "outputs": [
    {
     "data": {
      "text/plain": [
       "[3, -2, 1, -5, 2, -4]"
      ]
     },
     "execution_count": 70,
     "metadata": {},
     "output_type": "execute_result"
    }
   ],
   "source": [
    "fx([3,1,-2,-5,2,-4])"
   ]
  },
  {
   "cell_type": "code",
   "execution_count": 71,
   "id": "e417f695",
   "metadata": {
    "scrolled": true
   },
   "outputs": [
    {
     "data": {
      "text/plain": [
       "[28, -41, 22, -8, 46, -37, 35, -9, 18, -6, 19, -26, 15, -37, 14, -10, 31, -9]"
      ]
     },
     "execution_count": 71,
     "metadata": {},
     "output_type": "execute_result"
    }
   ],
   "source": [
    "fx([28,-41,22,-8,-37,46,35,-9,18,-6,19,-26,-37,-10,-9,15,14,31])"
   ]
  },
  {
   "cell_type": "code",
   "execution_count": null,
   "id": "606f8f78",
   "metadata": {},
   "outputs": [],
   "source": []
  }
 ],
 "metadata": {
  "kernelspec": {
   "display_name": "Python 3 (ipykernel)",
   "language": "python",
   "name": "python3"
  },
  "language_info": {
   "codemirror_mode": {
    "name": "ipython",
    "version": 3
   },
   "file_extension": ".py",
   "mimetype": "text/x-python",
   "name": "python",
   "nbconvert_exporter": "python",
   "pygments_lexer": "ipython3",
   "version": "3.10.6"
  }
 },
 "nbformat": 4,
 "nbformat_minor": 5
}
