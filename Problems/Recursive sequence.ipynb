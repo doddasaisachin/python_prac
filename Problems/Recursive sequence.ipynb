{
 "cells": [
  {
   "cell_type": "markdown",
   "id": "506b4d19",
   "metadata": {},
   "source": [
    "A function F is defined as follows F(n)= (1) +(2*3) + (4*5*6) ... upto n terms (look at the examples for better clarity). Given an integer n, determine the F(n).\n",
    "\n",
    "Note: As the answer can be very large, return the answer modulo 109+7."
   ]
  },
  {
   "cell_type": "code",
   "execution_count": 1,
   "id": "b22b6890",
   "metadata": {},
   "outputs": [],
   "source": [
    "def sequence(self, n):\n",
    "    # code here\n",
    "    ans=1\n",
    "    idx=2\n",
    "    first=2\n",
    "    while idx<=n:\n",
    "        temp=1\n",
    "        for i in range(first,first+idx):\n",
    "            temp=temp*i\n",
    "        ans+=temp\n",
    "        first=first+idx\n",
    "        idx+=1\n",
    "    return ans%(10**9+7)"
   ]
  },
  {
   "cell_type": "code",
   "execution_count": null,
   "id": "8ebfce61",
   "metadata": {},
   "outputs": [],
   "source": []
  }
 ],
 "metadata": {
  "kernelspec": {
   "display_name": "Python 3 (ipykernel)",
   "language": "python",
   "name": "python3"
  },
  "language_info": {
   "codemirror_mode": {
    "name": "ipython",
    "version": 3
   },
   "file_extension": ".py",
   "mimetype": "text/x-python",
   "name": "python",
   "nbconvert_exporter": "python",
   "pygments_lexer": "ipython3",
   "version": "3.10.6"
  }
 },
 "nbformat": 4,
 "nbformat_minor": 5
}
