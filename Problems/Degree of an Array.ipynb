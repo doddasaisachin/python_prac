{
 "cells": [
  {
   "cell_type": "markdown",
   "id": "ba0a3e0b",
   "metadata": {},
   "source": [
    "Given a non-empty array of non-negative integers nums, the degree of this array is defined as the maximum frequency of any one of its elements.\n",
    "\n",
    "Your task is to find the smallest possible length of a (contiguous) subarray of nums, that has the same degree as nums.\n",
    "\n",
    " \n",
    "\n",
    "Example 1:\n",
    "\n",
    "Input: nums = [1,2,2,3,1]\n",
    "Output: 2\n",
    "Explanation: \n",
    "The input array has a degree of 2 because both elements 1 and 2 appear twice.\n",
    "Of the subarrays that have the same degree:\n",
    "[1, 2, 2, 3, 1], [1, 2, 2, 3], [2, 2, 3, 1], [1, 2, 2], [2, 2, 3], [2, 2]\n",
    "The shortest length is 2. So return 2.\n",
    "\n",
    "Example 2:\n",
    "\n",
    "Input: nums = [1,2,2,3,1,4,2]\n",
    "Output: 6\n",
    "Explanation: \n",
    "The degree is 3 because the element 2 is repeated 3 times.\n",
    "So [2,2,3,1,4,2] is the shortest subarray, therefore returning 6."
   ]
  },
  {
   "cell_type": "code",
   "execution_count": 10,
   "id": "1cb2f60f",
   "metadata": {},
   "outputs": [],
   "source": [
    "def fx(nums):\n",
    "    d=dict()\n",
    "    for i in nums:\n",
    "        if i not in d.keys():\n",
    "            d[i]=1\n",
    "        else:\n",
    "            d[i]+=1\n",
    "    sd=sorted(d,key=lambda x : d[x],reverse=True)\n",
    "    arr=[]\n",
    "    stop_val=d[sd[0]]\n",
    "    if stop_val==1:\n",
    "        return 1\n",
    "    for i in sd:\n",
    "        if d[i]==stop_val:\n",
    "            arr.append(i)\n",
    "        else:\n",
    "            break\n",
    "    fin=50000\n",
    "    for i in range(len(arr)):\n",
    "        ele=arr[i]\n",
    "        c=0\n",
    "        for i in range(len(nums)):\n",
    "            if nums[i]==ele and c==0:\n",
    "                c+=1\n",
    "                st=i\n",
    "            elif nums[i]==ele and c<stop_val:\n",
    "                c+=1\n",
    "            if c==stop_val:\n",
    "                fin=min(fin,len(nums[st:i+1]))\n",
    "    return fin"
   ]
  },
  {
   "cell_type": "code",
   "execution_count": 11,
   "id": "49fbe3c6",
   "metadata": {
    "scrolled": true
   },
   "outputs": [
    {
     "data": {
      "text/plain": [
       "2"
      ]
     },
     "execution_count": 11,
     "metadata": {},
     "output_type": "execute_result"
    }
   ],
   "source": [
    "fx([1,2,2,3,1])"
   ]
  },
  {
   "cell_type": "code",
   "execution_count": 12,
   "id": "44757455",
   "metadata": {
    "scrolled": true
   },
   "outputs": [
    {
     "data": {
      "text/plain": [
       "6"
      ]
     },
     "execution_count": 12,
     "metadata": {},
     "output_type": "execute_result"
    }
   ],
   "source": [
    "fx([1,2,2,3,1,4,2])"
   ]
  },
  {
   "cell_type": "code",
   "execution_count": null,
   "id": "84f7b2e7",
   "metadata": {},
   "outputs": [],
   "source": []
  }
 ],
 "metadata": {
  "kernelspec": {
   "display_name": "Python 3 (ipykernel)",
   "language": "python",
   "name": "python3"
  },
  "language_info": {
   "codemirror_mode": {
    "name": "ipython",
    "version": 3
   },
   "file_extension": ".py",
   "mimetype": "text/x-python",
   "name": "python",
   "nbconvert_exporter": "python",
   "pygments_lexer": "ipython3",
   "version": "3.10.6"
  }
 },
 "nbformat": 4,
 "nbformat_minor": 5
}
