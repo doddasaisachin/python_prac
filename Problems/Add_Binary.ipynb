{
 "cells": [
  {
   "cell_type": "markdown",
   "id": "ab6ed422",
   "metadata": {},
   "source": [
    "Given two binary strings a and b, return their sum as a binary string.\n",
    "\n",
    " \n",
    "\n",
    "### Example 1:\n",
    "\n",
    "Input: a = \"11\", b = \"1\"\n",
    "Output: \"100\"\n",
    "    \n",
    "### Example 2:\n",
    "\n",
    "Input: a = \"1010\", b = \"1011\"\n",
    "Output: \"10101\""
   ]
  },
  {
   "cell_type": "code",
   "execution_count": 7,
   "id": "412eadd1",
   "metadata": {},
   "outputs": [],
   "source": [
    "def binary_to_int(binary : str ) ->int:\n",
    "    result=0\n",
    "    binary=binary[::-1]\n",
    "    for i in range(len(binary)):\n",
    "        if binary[i]=='1':\n",
    "            result+=2**i\n",
    "    return result"
   ]
  },
  {
   "cell_type": "code",
   "execution_count": 12,
   "id": "8064adb5",
   "metadata": {},
   "outputs": [],
   "source": [
    "def addBinary(a:str , b:str) -> str:\n",
    "    a_num=binary_to_int(a)\n",
    "    b_num=binary_to_int(b)\n",
    "    Sum=a_num+b_num\n",
    "    return bin(Sum)[2:]"
   ]
  },
  {
   "cell_type": "code",
   "execution_count": 13,
   "id": "2caeac08",
   "metadata": {},
   "outputs": [
    {
     "data": {
      "text/plain": [
       "'100'"
      ]
     },
     "execution_count": 13,
     "metadata": {},
     "output_type": "execute_result"
    }
   ],
   "source": [
    "addBinary('11','1')"
   ]
  },
  {
   "cell_type": "code",
   "execution_count": 14,
   "id": "ab62fa7f",
   "metadata": {},
   "outputs": [
    {
     "data": {
      "text/plain": [
       "'10101'"
      ]
     },
     "execution_count": 14,
     "metadata": {},
     "output_type": "execute_result"
    }
   ],
   "source": [
    "addBinary('1010','1011')"
   ]
  },
  {
   "cell_type": "code",
   "execution_count": null,
   "id": "b05377e9",
   "metadata": {},
   "outputs": [],
   "source": []
  }
 ],
 "metadata": {
  "kernelspec": {
   "display_name": "Python 3 (ipykernel)",
   "language": "python",
   "name": "python3"
  },
  "language_info": {
   "codemirror_mode": {
    "name": "ipython",
    "version": 3
   },
   "file_extension": ".py",
   "mimetype": "text/x-python",
   "name": "python",
   "nbconvert_exporter": "python",
   "pygments_lexer": "ipython3",
   "version": "3.10.6"
  }
 },
 "nbformat": 4,
 "nbformat_minor": 5
}
