{
 "cells": [
  {
   "cell_type": "markdown",
   "id": "24f651cd",
   "metadata": {},
   "source": [
    "Given two sorted arrays array1 and array2 of size m and n respectively. Find the median of the two sorted arrays."
   ]
  },
  {
   "cell_type": "markdown",
   "id": "20f8728b",
   "metadata": {},
   "source": [
    "##### Example 1:\n",
    "\n",
    "Input:\n",
    "m = 3, n = 4\n",
    "array1[] = {1,5,9}\n",
    "array2[] = {2,3,6,7}\n",
    "Output: 5\n",
    "Explanation: The middle element for\n",
    "{1,2,3,5,6,7,9} is 5"
   ]
  },
  {
   "cell_type": "markdown",
   "id": "9e1c5ecc",
   "metadata": {},
   "source": [
    "##### Example 2:\n",
    "\n",
    "Input:\n",
    "m = 2, n = 4\n",
    "array1[] = {4,6}\n",
    "array2[] = {1,2,3,5}\n",
    "Output: 3.5"
   ]
  },
  {
   "cell_type": "code",
   "execution_count": 37,
   "id": "61933ddf",
   "metadata": {},
   "outputs": [],
   "source": [
    "def func(array1, array2):\n",
    "        array1.extend(array2)\n",
    "        array1.sort()\n",
    "        if(len(array1)%2)!=0:\n",
    "            idx=len(array1)//2\n",
    "            return (array1[idx])\n",
    "        else:\n",
    "            idx=((len(array1)//2))\n",
    "            ele=str((array1[idx-1]+array1[idx])/2)\n",
    "            idx=ele.index('.')\n",
    "            if int(ele[idx+1:]) == 0:\n",
    "                return int(ele[:idx])\n",
    "            else:\n",
    "                return float(ele)"
   ]
  },
  {
   "cell_type": "code",
   "execution_count": null,
   "id": "102bf327",
   "metadata": {},
   "outputs": [],
   "source": []
  }
 ],
 "metadata": {
  "kernelspec": {
   "display_name": "Python 3 (ipykernel)",
   "language": "python",
   "name": "python3"
  },
  "language_info": {
   "codemirror_mode": {
    "name": "ipython",
    "version": 3
   },
   "file_extension": ".py",
   "mimetype": "text/x-python",
   "name": "python",
   "nbconvert_exporter": "python",
   "pygments_lexer": "ipython3",
   "version": "3.10.6"
  }
 },
 "nbformat": 4,
 "nbformat_minor": 5
}
