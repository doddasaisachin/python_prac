{
 "cells": [
  {
   "cell_type": "markdown",
   "id": "9b882127",
   "metadata": {},
   "source": [
    "You are given a Linked list of size n. The list is in alternating ascending and descending orders. Sort the given linked list in non-decreasing order."
   ]
  },
  {
   "cell_type": "code",
   "execution_count": 1,
   "id": "953297cd",
   "metadata": {},
   "outputs": [],
   "source": [
    "class Node:\n",
    "    def __init__(self,data):\n",
    "        self.data=data\n",
    "        self.next=None"
   ]
  },
  {
   "cell_type": "code",
   "execution_count": 2,
   "id": "3aa5d548",
   "metadata": {},
   "outputs": [],
   "source": [
    "def sort(h1):\n",
    "    arr1=[]\n",
    "    arr2=[]\n",
    "    m,n=0,0\n",
    "    itr=h1\n",
    "    while itr is not None:\n",
    "        arr1.append(itr.data)\n",
    "        m+=1\n",
    "        itr=itr.next\n",
    "        if itr is not None:\n",
    "            arr2.append(itr.data)\n",
    "            n+=1\n",
    "            itr=itr.next\n",
    "    arr2=arr2[::-1]\n",
    "    if arr1[0]<arr2[0]:\n",
    "        head=Node(arr1[0])\n",
    "        temp=head\n",
    "        idx1=1\n",
    "        idx2=0\n",
    "    else:\n",
    "        head=Node(arr2[0])\n",
    "        temp=head\n",
    "        idx1=0\n",
    "        idx2=1\n",
    "    while idx1<m and idx2<n:\n",
    "        if arr1[idx1]<arr2[idx2]:\n",
    "            temp.next=Node(arr1[idx1])\n",
    "            idx1+=1\n",
    "            temp=temp.next\n",
    "        else:\n",
    "            temp.next=Node(arr2[idx2])\n",
    "            idx2+=1\n",
    "            temp=temp.next\n",
    "    while idx1<m:\n",
    "            temp.next=Node(arr1[idx1])\n",
    "            idx1+=1\n",
    "            temp=temp.next\n",
    "    while idx2<n:\n",
    "            temp.next=Node(arr2[idx2])\n",
    "            idx2+=1\n",
    "            temp=temp.next\n",
    "    return head"
   ]
  },
  {
   "cell_type": "code",
   "execution_count": null,
   "id": "faa9fb09",
   "metadata": {},
   "outputs": [],
   "source": []
  }
 ],
 "metadata": {
  "kernelspec": {
   "display_name": "Python 3 (ipykernel)",
   "language": "python",
   "name": "python3"
  },
  "language_info": {
   "codemirror_mode": {
    "name": "ipython",
    "version": 3
   },
   "file_extension": ".py",
   "mimetype": "text/x-python",
   "name": "python",
   "nbconvert_exporter": "python",
   "pygments_lexer": "ipython3",
   "version": "3.10.6"
  }
 },
 "nbformat": 4,
 "nbformat_minor": 5
}
