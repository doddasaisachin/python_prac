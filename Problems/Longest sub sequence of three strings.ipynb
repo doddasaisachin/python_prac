{
 "cells": [
  {
   "cell_type": "markdown",
   "id": "32a9b4f6",
   "metadata": {},
   "source": [
    "Given 3 strings A, B and C, the task is to find the length of the longest sub-sequence that is common in all the three given strings."
   ]
  },
  {
   "cell_type": "code",
   "execution_count": 43,
   "id": "cd390b5e",
   "metadata": {},
   "outputs": [],
   "source": [
    "A = \"geeks\"\n",
    "B = \"geeksfor\"\n",
    "C = \"geeksforgeeks\""
   ]
  },
  {
   "cell_type": "code",
   "execution_count": 44,
   "id": "5d0cb3fd",
   "metadata": {},
   "outputs": [],
   "source": [
    "i,j,k=len(A)-1,len(B)-1,len(C)-1"
   ]
  },
  {
   "cell_type": "code",
   "execution_count": 45,
   "id": "0c0c9203",
   "metadata": {},
   "outputs": [],
   "source": [
    "def rec_fx(a,b,c,i,j,k):\n",
    "    if i==-1 or j==-1 or k==-1:\n",
    "        return 0\n",
    "    elif a[i]==b[j]==c[k]:\n",
    "        return 1+func(a,b,c,i-1,j-1,k-1)\n",
    "    else:\n",
    "        return max(func(a,b,c,i-1,j,k),func(a,b,c,i,j-1,k),func(a,b,c,i,j,k-1))"
   ]
  },
  {
   "cell_type": "code",
   "execution_count": 50,
   "id": "ad221183",
   "metadata": {},
   "outputs": [],
   "source": [
    "def func(a,b,c):\n",
    "    mat=[[[0 for i in range(len(c)+1)] for j in range(len(b)+1)] for k in range(len(a)+1)]\n",
    "    for i in range(1,len(a)+1):\n",
    "        for j in range(1,len(b)+1):\n",
    "            for k in range(1,len(c)+1):\n",
    "                if a[i-1]==b[j-1]==c[k-1]:\n",
    "                    mat[i][j][k]=1+mat[i-1][j-1][k-1]\n",
    "                else:\n",
    "                    mat[i][j][k]=max(mat[i-1][j][k],mat[i][j-1][k],mat[i][j][k-1])\n",
    "    return mat[-1][-1][-1]"
   ]
  },
  {
   "cell_type": "code",
   "execution_count": 51,
   "id": "bf45e023",
   "metadata": {},
   "outputs": [
    {
     "data": {
      "text/plain": [
       "5"
      ]
     },
     "execution_count": 51,
     "metadata": {},
     "output_type": "execute_result"
    }
   ],
   "source": [
    "func('geeks','geeksfor','geeksforgeeks')"
   ]
  },
  {
   "cell_type": "code",
   "execution_count": null,
   "id": "ae8ed82d",
   "metadata": {},
   "outputs": [],
   "source": []
  }
 ],
 "metadata": {
  "kernelspec": {
   "display_name": "Python 3 (ipykernel)",
   "language": "python",
   "name": "python3"
  },
  "language_info": {
   "codemirror_mode": {
    "name": "ipython",
    "version": 3
   },
   "file_extension": ".py",
   "mimetype": "text/x-python",
   "name": "python",
   "nbconvert_exporter": "python",
   "pygments_lexer": "ipython3",
   "version": "3.10.6"
  }
 },
 "nbformat": 4,
 "nbformat_minor": 5
}
