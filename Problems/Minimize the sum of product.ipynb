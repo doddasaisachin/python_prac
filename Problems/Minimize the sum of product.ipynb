{
 "cells": [
  {
   "cell_type": "markdown",
   "id": "59a21a32",
   "metadata": {},
   "source": [
    "You are given two arrays, A and B, of equal size N. The task is to find the minimum value of A[0] * B[0] + A[1] * B[1] + .... + A[N-1] * B[N-1], where shuffling of elements of arrays A and B is allowed."
   ]
  },
  {
   "cell_type": "markdown",
   "id": "5c3c0aff",
   "metadata": {},
   "source": [
    "Example 1:\n",
    "\n",
    "Input:\n",
    "N = 3 \n",
    "A[] = {3, 1, 1}\n",
    "B[] = {6, 5, 4}\n",
    "Output:\n",
    "23 \n",
    "Explanation:\n",
    "1*6+1*5+3*4 = 6+5+12\n",
    "= 23 is the minimum sum"
   ]
  },
  {
   "cell_type": "markdown",
   "id": "b5da1c95",
   "metadata": {},
   "source": [
    "Example 2:\n",
    "\n",
    "Input:\n",
    "N = 5\n",
    "A[] = {6, 1, 9, 5, 4}\n",
    "B[] = {3, 4, 8, 2, 4}\n",
    "Output:\n",
    "80\n",
    "Explanation:\n",
    "2*9+3*6+4*5+4*4+8*1\n",
    "=18+18+20+16+8\n",
    "= 80 is the minimum sum"
   ]
  },
  {
   "cell_type": "code",
   "execution_count": 29,
   "id": "f9228f95",
   "metadata": {},
   "outputs": [],
   "source": [
    "def func(arr1,arr2):\n",
    "    sort_arr1=sorted(arr1)\n",
    "#     rev1=sorted(arr1,reverse=True)\n",
    "#     sort_arr2=sorted(arr2)\n",
    "    rev2=sorted(arr2,reverse=True)\n",
    "    res1=0\n",
    "    res2=0\n",
    "    for i in range(len(arr1)):\n",
    "        res1=res1+(sort_arr1[i]*rev2[i])\n",
    "#         res2=res2+(rev1[i]*sort_arr2[i])\n",
    "#     return (res1,res2)\n",
    "    return res1"
   ]
  },
  {
   "cell_type": "code",
   "execution_count": 30,
   "id": "190dce77",
   "metadata": {},
   "outputs": [
    {
     "data": {
      "text/plain": [
       "23"
      ]
     },
     "execution_count": 30,
     "metadata": {},
     "output_type": "execute_result"
    }
   ],
   "source": [
    "func([3,1,1],[6,5,4])"
   ]
  },
  {
   "cell_type": "code",
   "execution_count": 31,
   "id": "1b26b438",
   "metadata": {},
   "outputs": [
    {
     "data": {
      "text/plain": [
       "80"
      ]
     },
     "execution_count": 31,
     "metadata": {},
     "output_type": "execute_result"
    }
   ],
   "source": [
    "func([6,1,9,5,4],[3,4,8,2,4])"
   ]
  }
 ],
 "metadata": {
  "kernelspec": {
   "display_name": "Python 3 (ipykernel)",
   "language": "python",
   "name": "python3"
  },
  "language_info": {
   "codemirror_mode": {
    "name": "ipython",
    "version": 3
   },
   "file_extension": ".py",
   "mimetype": "text/x-python",
   "name": "python",
   "nbconvert_exporter": "python",
   "pygments_lexer": "ipython3",
   "version": "3.10.6"
  }
 },
 "nbformat": 4,
 "nbformat_minor": 5
}
