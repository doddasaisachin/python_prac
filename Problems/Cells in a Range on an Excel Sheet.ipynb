{
 "cells": [
  {
   "cell_type": "markdown",
   "id": "ef63e866",
   "metadata": {},
   "source": [
    "A cell (r, c) of an excel sheet is represented as a string \"<col><row>\" where:\n",
    "\n",
    "<col> denotes the column number c of the cell. It is represented by alphabetical letters.\n",
    "For example, the 1st column is denoted by 'A', the 2nd by 'B', the 3rd by 'C', and so on.\n",
    "<row> is the row number r of the cell. The rth row is represented by the integer r.\n",
    "You are given a string s in the format \"<col1><row1>:<col2><row2>\", where <col1> represents the column c1, <row1> represents the row r1, <col2> represents the column c2, and <row2> represents the row r2, such that r1 <= r2 and c1 <= c2.\n",
    "\n",
    "Return the list of cells (x, y) such that r1 <= x <= r2 and c1 <= y <= c2. The cells should be represented as strings in the format mentioned above and be sorted in non-decreasing order first by columns and then by rows."
   ]
  },
  {
   "cell_type": "code",
   "execution_count": 4,
   "id": "8a2201e1",
   "metadata": {},
   "outputs": [],
   "source": [
    "def fx(s):\n",
    "    st=ord(s[0])\n",
    "    end=ord(s[-2])\n",
    "    res=[]\n",
    "    for i in range(st,end+1):\n",
    "        for j in range(int(s[1]),int(s[-1])+1):\n",
    "            res.append(chr(i)+str(j))\n",
    "    return res"
   ]
  },
  {
   "cell_type": "code",
   "execution_count": 5,
   "id": "a0463180",
   "metadata": {},
   "outputs": [
    {
     "data": {
      "text/plain": [
       "['K1', 'K2', 'L1', 'L2']"
      ]
     },
     "execution_count": 5,
     "metadata": {},
     "output_type": "execute_result"
    }
   ],
   "source": [
    "fx(\"K1:L2\")"
   ]
  },
  {
   "cell_type": "code",
   "execution_count": null,
   "id": "f0c9a85c",
   "metadata": {},
   "outputs": [],
   "source": []
  }
 ],
 "metadata": {
  "kernelspec": {
   "display_name": "Python 3 (ipykernel)",
   "language": "python",
   "name": "python3"
  },
  "language_info": {
   "codemirror_mode": {
    "name": "ipython",
    "version": 3
   },
   "file_extension": ".py",
   "mimetype": "text/x-python",
   "name": "python",
   "nbconvert_exporter": "python",
   "pygments_lexer": "ipython3",
   "version": "3.10.6"
  }
 },
 "nbformat": 4,
 "nbformat_minor": 5
}
