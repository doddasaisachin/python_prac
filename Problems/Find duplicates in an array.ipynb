{
 "cells": [
  {
   "cell_type": "markdown",
   "id": "18dda86a",
   "metadata": {},
   "source": [
    "Given an array a[] of size N which contains elements from 0 to N-1, you need to find all the elements occurring more than once in the given array."
   ]
  },
  {
   "cell_type": "markdown",
   "id": "822449c4",
   "metadata": {},
   "source": [
    "##### Example 1:\n",
    "\n",
    "Input:\n",
    "N = 4\n",
    "a[] = [0,3,1,2]\n",
    "\n",
    "Output: -1\n",
    "    \n",
    "Explanation: N=4 and all elements from 0\n",
    "to (N-1 = 3) are present in the given\n",
    "array. Therefore output is -1."
   ]
  },
  {
   "cell_type": "markdown",
   "id": "909e881c",
   "metadata": {},
   "source": [
    "##### Example 2:\n",
    "\n",
    "Input:\n",
    "N = 5\n",
    "a[] = [2,3,1,2,3]\n",
    "\n",
    "Output: 2 3 \n",
    "    \n",
    "Explanation: 2 and 3 occur more than once\n",
    "in the given array."
   ]
  },
  {
   "cell_type": "code",
   "execution_count": 65,
   "id": "e75b708a",
   "metadata": {},
   "outputs": [],
   "source": [
    "def func(n,arr):\n",
    "    res=[]\n",
    "    for i in range(1,n):\n",
    "        if arr[i] in arr[:i]:\n",
    "            res.append(arr[i])\n",
    "    res=(set(res))\n",
    "    if len(res)<1:\n",
    "        return [-1]\n",
    "    return list(res)"
   ]
  },
  {
   "cell_type": "code",
   "execution_count": 66,
   "id": "5deec2ce",
   "metadata": {},
   "outputs": [
    {
     "data": {
      "text/plain": [
       "[-1]"
      ]
     },
     "execution_count": 66,
     "metadata": {},
     "output_type": "execute_result"
    }
   ],
   "source": [
    "func(4,[0,3,1,2])"
   ]
  },
  {
   "cell_type": "code",
   "execution_count": 67,
   "id": "07d479ac",
   "metadata": {},
   "outputs": [
    {
     "data": {
      "text/plain": [
       "[2, 3]"
      ]
     },
     "execution_count": 67,
     "metadata": {},
     "output_type": "execute_result"
    }
   ],
   "source": [
    "func(5,[2,3,1,2,3])"
   ]
  }
 ],
 "metadata": {
  "kernelspec": {
   "display_name": "Python 3 (ipykernel)",
   "language": "python",
   "name": "python3"
  },
  "language_info": {
   "codemirror_mode": {
    "name": "ipython",
    "version": 3
   },
   "file_extension": ".py",
   "mimetype": "text/x-python",
   "name": "python",
   "nbconvert_exporter": "python",
   "pygments_lexer": "ipython3",
   "version": "3.10.6"
  }
 },
 "nbformat": 4,
 "nbformat_minor": 5
}
