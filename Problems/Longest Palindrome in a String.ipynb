{
 "cells": [
  {
   "cell_type": "markdown",
   "id": "df85e012",
   "metadata": {},
   "source": [
    "Given a string S, find the longest palindromic substring in S.\n",
    "Substring of string S: S[ i . . . . j ] where 0 ≤ i ≤ j < len(S).\n",
    "Palindrome string: A string which reads the same backwards\n",
    "More formally, S is palindrome if reverse(S) = S. Incase of conflict,\n",
    "return the substring which occurs first ( with the least starting index)."
   ]
  },
  {
   "cell_type": "markdown",
   "id": "481cdff3",
   "metadata": {},
   "source": [
    "Input:\n",
    "S = \"aaaabbaa\"\n",
    "Output: aabbaa\n",
    "Explanation: The longest Palindromic\n",
    "substring is \"aabbaa\"."
   ]
  },
  {
   "cell_type": "markdown",
   "id": "72278e74",
   "metadata": {},
   "source": [
    "Input: \n",
    "S = \"abc\"\n",
    "Output: a\n",
    "Explanation: \"a\", \"b\" and \"c\" are the \n",
    "longest palindromes with same length.\n",
    "The result is the one with the least\n",
    "starting index."
   ]
  },
  {
   "cell_type": "code",
   "execution_count": 183,
   "id": "68eccef8",
   "metadata": {},
   "outputs": [],
   "source": [
    "def sub_strings(s):\n",
    "    sub_str=[]\n",
    "    for i in range(len(s)):\n",
    "        sub_str.append(s[i])\n",
    "        for j in range(i+1,len(s)):\n",
    "            sub=s[i]+s[i+1:j+1]\n",
    "            sub_str.append(sub)\n",
    "    return sub_str\n",
    "\n",
    "def find_max(sub_list):\n",
    "    ln=[]\n",
    "    for ele in sub_list:\n",
    "        rev=ele[::-1]\n",
    "        if rev==ele:\n",
    "            ln.append(ele)\n",
    "    return ln\n",
    "\n",
    "def main(String):\n",
    "    sub_list=sub_strings(String)\n",
    "    len_list=find_max(sub_list)\n",
    "    len_list.sort(key=len)\n",
    "    Max=len(len_list[-1])\n",
    "    if len(len_list)>1:\n",
    "        for i in range(-1,-len(len_list),-1):\n",
    "            if abs(i-1)<len(len_list):\n",
    "                if len(len_list[i-1])!=len(len_list[i]):\n",
    "                    return len_list[i]\n",
    "            else:\n",
    "                return len_list[0]\n",
    "    else:\n",
    "        return len_list[0]"
   ]
  },
  {
   "cell_type": "code",
   "execution_count": 229,
   "id": "6cb61ae9",
   "metadata": {
    "scrolled": false
   },
   "outputs": [
    {
     "data": {
      "text/plain": [
       "'aabbaa'"
      ]
     },
     "execution_count": 229,
     "metadata": {},
     "output_type": "execute_result"
    }
   ],
   "source": [
    "main('aaaabbaa')"
   ]
  },
  {
   "cell_type": "code",
   "execution_count": 262,
   "id": "2bd025d3",
   "metadata": {},
   "outputs": [
    {
     "data": {
      "text/plain": [
       "'a'"
      ]
     },
     "execution_count": 262,
     "metadata": {},
     "output_type": "execute_result"
    }
   ],
   "source": [
    "main('abc')"
   ]
  },
  {
   "cell_type": "code",
   "execution_count": 309,
   "id": "da052395",
   "metadata": {},
   "outputs": [
    {
     "data": {
      "text/plain": [
       "'o'"
      ]
     },
     "execution_count": 309,
     "metadata": {},
     "output_type": "execute_result"
    }
   ],
   "source": [
    "main('o')"
   ]
  }
 ],
 "metadata": {
  "kernelspec": {
   "display_name": "Python 3 (ipykernel)",
   "language": "python",
   "name": "python3"
  },
  "language_info": {
   "codemirror_mode": {
    "name": "ipython",
    "version": 3
   },
   "file_extension": ".py",
   "mimetype": "text/x-python",
   "name": "python",
   "nbconvert_exporter": "python",
   "pygments_lexer": "ipython3",
   "version": "3.10.1"
  }
 },
 "nbformat": 4,
 "nbformat_minor": 5
}
