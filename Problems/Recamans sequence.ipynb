{
 "cells": [
  {
   "cell_type": "markdown",
   "id": "25f478d4",
   "metadata": {},
   "source": [
    "Given an integer n, return the first n elements of Recaman’s sequence.\n",
    "It is a function with domain and co-domain as whole numbers. It is recursively defined as below:\n",
    "Specifically, let a(n) denote the (n+1)th term. (0 being the 1st term).\n",
    "The rule says:\n",
    "* a(0) = 0\n",
    "* a(n) = a(n-1) - n, if a(n-1) - n > 0 and is not included in the sequence previously\n",
    "       =  a(n-1) + n otherwise."
   ]
  },
  {
   "cell_type": "code",
   "execution_count": 41,
   "id": "1aaac6ae",
   "metadata": {},
   "outputs": [],
   "source": [
    "def fx( n):\n",
    "    dp=[0]\n",
    "    seen=set(dp)\n",
    "    for i in range(1,n):\n",
    "        x=dp[i-1]-i\n",
    "        if x<0 or x in seen:\n",
    "            dp.append(x+i+i)\n",
    "            seen.add(x+i+i)\n",
    "        else:\n",
    "            dp.append(x)\n",
    "            seen.add(x)\n",
    "    return dp"
   ]
  },
  {
   "cell_type": "code",
   "execution_count": 46,
   "id": "496aba0f",
   "metadata": {},
   "outputs": [
    {
     "data": {
      "text/plain": [
       "[0, 1, 3, 6, 2, 7, 13, 20, 12, 21, 11, 22, 10, 23, 9, 24, 8, 25, 43, 62]"
      ]
     },
     "execution_count": 46,
     "metadata": {},
     "output_type": "execute_result"
    }
   ],
   "source": [
    "fx(20)"
   ]
  },
  {
   "cell_type": "code",
   "execution_count": null,
   "id": "9cf3b379",
   "metadata": {},
   "outputs": [],
   "source": []
  }
 ],
 "metadata": {
  "kernelspec": {
   "display_name": "Python 3 (ipykernel)",
   "language": "python",
   "name": "python3"
  },
  "language_info": {
   "codemirror_mode": {
    "name": "ipython",
    "version": 3
   },
   "file_extension": ".py",
   "mimetype": "text/x-python",
   "name": "python",
   "nbconvert_exporter": "python",
   "pygments_lexer": "ipython3",
   "version": "3.10.6"
  }
 },
 "nbformat": 4,
 "nbformat_minor": 5
}
