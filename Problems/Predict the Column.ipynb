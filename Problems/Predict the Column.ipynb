{
 "cells": [
  {
   "cell_type": "markdown",
   "id": "83741b5a",
   "metadata": {},
   "source": [
    "Given a matrix(2D array) M of size N*N consisting of 0s and 1s only. The task is to find the column with maximum number of 0s. If more than one column exists, print the one which comes first. If the maximum number of 0s is 0 then return -1."
   ]
  },
  {
   "cell_type": "code",
   "execution_count": 25,
   "id": "705eae70",
   "metadata": {},
   "outputs": [],
   "source": [
    "def function(mat):\n",
    "    col_dic={}\n",
    "    for row in range(len(mat)):\n",
    "        for col in range(len(mat[0])):\n",
    "            if col in col_dic.keys():\n",
    "                if mat[row][col]==0:\n",
    "                    col_dic[col]+=1\n",
    "            else:\n",
    "                if mat[row][col]==0:\n",
    "                    col_dic[col]=1\n",
    "    new=sorted(col_dic,key=lambda x : col_dic[x],reverse=True)\n",
    "    return new[0]"
   ]
  },
  {
   "cell_type": "code",
   "execution_count": 26,
   "id": "5da247ad",
   "metadata": {},
   "outputs": [
    {
     "data": {
      "text/plain": [
       "0"
      ]
     },
     "execution_count": 26,
     "metadata": {},
     "output_type": "execute_result"
    }
   ],
   "source": [
    "function([[0,0,0],[1,0,1],[0,1,1]])"
   ]
  },
  {
   "cell_type": "code",
   "execution_count": null,
   "id": "a2af5835",
   "metadata": {},
   "outputs": [],
   "source": []
  }
 ],
 "metadata": {
  "kernelspec": {
   "display_name": "Python 3 (ipykernel)",
   "language": "python",
   "name": "python3"
  },
  "language_info": {
   "codemirror_mode": {
    "name": "ipython",
    "version": 3
   },
   "file_extension": ".py",
   "mimetype": "text/x-python",
   "name": "python",
   "nbconvert_exporter": "python",
   "pygments_lexer": "ipython3",
   "version": "3.10.6"
  }
 },
 "nbformat": 4,
 "nbformat_minor": 5
}
