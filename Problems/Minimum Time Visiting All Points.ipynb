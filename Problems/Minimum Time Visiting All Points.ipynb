{
 "cells": [
  {
   "cell_type": "markdown",
   "id": "465199ed",
   "metadata": {},
   "source": [
    "On a 2D plane, there are n points with integer coordinates points[i] = [xi, yi]. Return the minimum time in seconds to visit all the points in the order given by points.\n",
    "\n",
    "You can move according to these rules:\n",
    "\n",
    "In 1 second, you can either:\n",
    "move vertically by one unit,\n",
    "move horizontally by one unit, or\n",
    "move diagonally sqrt(2) units (in other words, move one unit vertically then one unit horizontally in 1 second).\n",
    "You have to visit the points in the same order as they appear in the array.\n",
    "You are allowed to pass through points that appear later in the order, but these do not count as visits."
   ]
  },
  {
   "cell_type": "markdown",
   "id": "b54967de",
   "metadata": {},
   "source": [
    "Example 1:\n",
    "    \n",
    "Input: points = [[1,1],[3,4],[-1,0]]\n",
    "Output: 7\n",
    "Explanation: One optimal path is [1,1] -> [2,2] -> [3,3] -> [3,4] -> [2,3] -> [1,2] -> [0,1] -> [-1,0]   \n",
    "Time from [1,1] to [3,4] = 3 seconds \n",
    "Time from [3,4] to [-1,0] = 4 seconds\n",
    "Total time = 7 seconds\n",
    "\n",
    "Example 2:\n",
    "\n",
    "Input: points = [[3,2],[-2,2]]\n",
    "Output: 5"
   ]
  },
  {
   "cell_type": "code",
   "execution_count": 17,
   "id": "3eb8e973",
   "metadata": {},
   "outputs": [],
   "source": [
    "def func(array) -> int:\n",
    "    c=0\n",
    "    idx=0\n",
    "    while idx<len(array)-1:\n",
    "        c+=max(abs(array[idx][0]-array[idx+1][0]),abs(array[idx][1]-array[idx+1][1]))\n",
    "        idx+=1\n",
    "    return c"
   ]
  },
  {
   "cell_type": "code",
   "execution_count": 18,
   "id": "b6ed6391",
   "metadata": {},
   "outputs": [
    {
     "data": {
      "text/plain": [
       "7"
      ]
     },
     "execution_count": 18,
     "metadata": {},
     "output_type": "execute_result"
    }
   ],
   "source": [
    "func([[1,1],[3,4],[-1,0]])"
   ]
  },
  {
   "cell_type": "code",
   "execution_count": 19,
   "id": "0d08e6db",
   "metadata": {},
   "outputs": [
    {
     "data": {
      "text/plain": [
       "5"
      ]
     },
     "execution_count": 19,
     "metadata": {},
     "output_type": "execute_result"
    }
   ],
   "source": [
    "func([[3,2],[-2,2]])"
   ]
  },
  {
   "cell_type": "code",
   "execution_count": null,
   "id": "0ca1abae",
   "metadata": {},
   "outputs": [],
   "source": []
  }
 ],
 "metadata": {
  "kernelspec": {
   "display_name": "Python 3 (ipykernel)",
   "language": "python",
   "name": "python3"
  },
  "language_info": {
   "codemirror_mode": {
    "name": "ipython",
    "version": 3
   },
   "file_extension": ".py",
   "mimetype": "text/x-python",
   "name": "python",
   "nbconvert_exporter": "python",
   "pygments_lexer": "ipython3",
   "version": "3.10.6"
  }
 },
 "nbformat": 4,
 "nbformat_minor": 5
}
