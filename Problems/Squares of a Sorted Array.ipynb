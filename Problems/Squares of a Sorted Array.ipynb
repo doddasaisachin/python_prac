{
 "cells": [
  {
   "cell_type": "markdown",
   "id": "2375b392",
   "metadata": {},
   "source": [
    "Given an integer array nums sorted in non-decreasing order, return an array of the squares of each number sorted in non-decreasing order.\n"
   ]
  },
  {
   "cell_type": "code",
   "execution_count": 2,
   "id": "deffe9bd",
   "metadata": {},
   "outputs": [],
   "source": [
    "import heapq"
   ]
  },
  {
   "cell_type": "code",
   "execution_count": 3,
   "id": "31c4f0e1",
   "metadata": {},
   "outputs": [],
   "source": [
    "def fx(nums):\n",
    "    for i in range(len(nums)):\n",
    "        nums[i]=abs(nums[i])\n",
    "    heapq.heapify(nums)\n",
    "    res=[None for i in range(len(nums))]\n",
    "    idx=0\n",
    "    while len(nums)>0:\n",
    "        cur=heapq.heappop(nums)\n",
    "        res[idx]=cur*cur\n",
    "        idx+=1\n",
    "    return res"
   ]
  },
  {
   "cell_type": "code",
   "execution_count": 4,
   "id": "99caa79c",
   "metadata": {},
   "outputs": [
    {
     "data": {
      "text/plain": [
       "[0, 1, 9, 16, 100]"
      ]
     },
     "execution_count": 4,
     "metadata": {},
     "output_type": "execute_result"
    }
   ],
   "source": [
    "fx([-4,-1,0,3,10])"
   ]
  },
  {
   "cell_type": "code",
   "execution_count": 5,
   "id": "a0fe25d1",
   "metadata": {},
   "outputs": [
    {
     "data": {
      "text/plain": [
       "[4, 9, 9, 49, 121]"
      ]
     },
     "execution_count": 5,
     "metadata": {},
     "output_type": "execute_result"
    }
   ],
   "source": [
    "fx([-7,-3,2,3,11])"
   ]
  },
  {
   "cell_type": "code",
   "execution_count": null,
   "id": "0cd651bf",
   "metadata": {},
   "outputs": [],
   "source": []
  }
 ],
 "metadata": {
  "kernelspec": {
   "display_name": "Python 3 (ipykernel)",
   "language": "python",
   "name": "python3"
  },
  "language_info": {
   "codemirror_mode": {
    "name": "ipython",
    "version": 3
   },
   "file_extension": ".py",
   "mimetype": "text/x-python",
   "name": "python",
   "nbconvert_exporter": "python",
   "pygments_lexer": "ipython3",
   "version": "3.10.6"
  }
 },
 "nbformat": 4,
 "nbformat_minor": 5
}
