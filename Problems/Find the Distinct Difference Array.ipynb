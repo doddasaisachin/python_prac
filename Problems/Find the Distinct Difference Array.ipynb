{
 "cells": [
  {
   "cell_type": "markdown",
   "id": "ca2a89d3",
   "metadata": {},
   "source": [
    "You are given a 0-indexed array nums of length n.\n",
    "\n",
    "The distinct difference array of nums is an array diff of length n such that diff[i] is equal to the number of distinct elements in the suffix nums[i + 1, ..., n - 1] subtracted from the number of distinct elements in the prefix nums[0, ..., i].\n",
    "\n",
    "Return the distinct difference array of nums.\n",
    "\n",
    "Note that nums[i, ..., j] denotes the subarray of nums starting at index i and ending at index j inclusive. Particularly, if i > j then nums[i, ..., j] denotes an empty subarray."
   ]
  },
  {
   "cell_type": "code",
   "execution_count": 1,
   "id": "b885049c",
   "metadata": {},
   "outputs": [],
   "source": [
    "def fx(nums):\n",
    "    res=[]\n",
    "    for i in range(len(nums)):\n",
    "        res.append(len(set(nums[:i+1]))-len(set(nums[i+1:])))\n",
    "    return res"
   ]
  },
  {
   "cell_type": "code",
   "execution_count": 2,
   "id": "867f81cd",
   "metadata": {},
   "outputs": [
    {
     "data": {
      "text/plain": [
       "[-2, -1, 0, 2, 3]"
      ]
     },
     "execution_count": 2,
     "metadata": {},
     "output_type": "execute_result"
    }
   ],
   "source": [
    "fx([3,2,3,4,2])"
   ]
  },
  {
   "cell_type": "code",
   "execution_count": null,
   "id": "e1e29d4f",
   "metadata": {},
   "outputs": [],
   "source": []
  }
 ],
 "metadata": {
  "kernelspec": {
   "display_name": "Python 3 (ipykernel)",
   "language": "python",
   "name": "python3"
  },
  "language_info": {
   "codemirror_mode": {
    "name": "ipython",
    "version": 3
   },
   "file_extension": ".py",
   "mimetype": "text/x-python",
   "name": "python",
   "nbconvert_exporter": "python",
   "pygments_lexer": "ipython3",
   "version": "3.10.6"
  }
 },
 "nbformat": 4,
 "nbformat_minor": 5
}
