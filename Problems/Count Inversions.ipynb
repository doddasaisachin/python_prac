{
 "cells": [
  {
   "cell_type": "markdown",
   "id": "2cb4cc87",
   "metadata": {},
   "source": [
    "Given an array of integers. Find the Inversion Count in the array. \n",
    "\n",
    "Inversion Count: For an array, inversion count indicates how far (or close) the array is from being sorted. If array is already sorted then the inversion count is 0. If an array is sorted in the reverse order then the inversion count is the maximum. \n",
    "Formally, two elements a[i] and a[j] form an inversion if a[i] > a[j] and i < j."
   ]
  },
  {
   "cell_type": "markdown",
   "id": "344fbc32",
   "metadata": {},
   "source": [
    "### Example 1:\n",
    "Input: N = 5\n",
    "\n",
    "arr[] = {2, 4, 1, 3, 5}\n",
    "    \n",
    "Output: 3\n",
    "Explanation: The sequence 2, 4, 1, 3, 5 \n",
    "has three inversions (2, 1), (4, 1), (4, 3)."
   ]
  },
  {
   "cell_type": "markdown",
   "id": "a572fa51",
   "metadata": {},
   "source": [
    "### Example 2:\n",
    "\n",
    "Input: N = 5\n",
    "    \n",
    "arr[] = {2, 3, 4, 5, 6}\n",
    "\n",
    "Output: 0\n",
    "    \n",
    "Explanation: As the sequence is already \n",
    "sorted so there is no inversion count."
   ]
  },
  {
   "cell_type": "markdown",
   "id": "22966ecb",
   "metadata": {},
   "source": [
    "### Example 3:\n",
    "\n",
    "Input: N = 3 \n",
    "    \n",
    "arr[] = {10, 10, 10}\n",
    "\n",
    "Output: 0\n",
    "    \n",
    "Explanation: As all the elements of array \n",
    "are same, so there is no inversion count."
   ]
  },
  {
   "cell_type": "code",
   "execution_count": 39,
   "id": "032b87d6",
   "metadata": {},
   "outputs": [],
   "source": [
    "def func(arr):\n",
    "    res=0\n",
    "    for i in range(len(arr)):\n",
    "        for j in range(i,len(arr)):\n",
    "            if arr[j]<arr[i]:\n",
    "                res=res+1\n",
    "            else:\n",
    "                pass\n",
    "    return res"
   ]
  },
  {
   "cell_type": "code",
   "execution_count": 40,
   "id": "89650ad5",
   "metadata": {},
   "outputs": [
    {
     "data": {
      "text/plain": [
       "3"
      ]
     },
     "execution_count": 40,
     "metadata": {},
     "output_type": "execute_result"
    }
   ],
   "source": [
    "a=[2,4,1,3,5]\n",
    "\n",
    "func(a)"
   ]
  },
  {
   "cell_type": "code",
   "execution_count": 41,
   "id": "06235dc3",
   "metadata": {},
   "outputs": [
    {
     "data": {
      "text/plain": [
       "0"
      ]
     },
     "execution_count": 41,
     "metadata": {},
     "output_type": "execute_result"
    }
   ],
   "source": [
    "b=[2,3,4,5,6]\n",
    "\n",
    "func(b)"
   ]
  },
  {
   "cell_type": "code",
   "execution_count": 42,
   "id": "d1f7fd22",
   "metadata": {},
   "outputs": [
    {
     "data": {
      "text/plain": [
       "0"
      ]
     },
     "execution_count": 42,
     "metadata": {},
     "output_type": "execute_result"
    }
   ],
   "source": [
    "func([10,10,10])"
   ]
  },
  {
   "cell_type": "code",
   "execution_count": null,
   "id": "18890767",
   "metadata": {},
   "outputs": [],
   "source": []
  }
 ],
 "metadata": {
  "kernelspec": {
   "display_name": "Python 3 (ipykernel)",
   "language": "python",
   "name": "python3"
  },
  "language_info": {
   "codemirror_mode": {
    "name": "ipython",
    "version": 3
   },
   "file_extension": ".py",
   "mimetype": "text/x-python",
   "name": "python",
   "nbconvert_exporter": "python",
   "pygments_lexer": "ipython3",
   "version": "3.10.6"
  }
 },
 "nbformat": 4,
 "nbformat_minor": 5
}
