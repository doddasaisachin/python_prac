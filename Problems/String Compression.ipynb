{
 "cells": [
  {
   "cell_type": "markdown",
   "id": "d3a42fe7",
   "metadata": {},
   "source": [
    "Given an array of characters chars, compress it using the following algorithm:\n",
    "\n",
    "Begin with an empty string s. For each group of consecutive repeating characters in chars:\n",
    "\n",
    "If the group's length is 1, append the character to s.\n",
    "Otherwise, append the character followed by the group's length.\n",
    "Note that group lengths that are 10 or longer will be split into multiple characters in chars.\n",
    "\n",
    "return the new length of the array."
   ]
  },
  {
   "cell_type": "markdown",
   "id": "5df270d5",
   "metadata": {},
   "source": [
    "* Example\n",
    "Input: chars = [\"a\",\"a\",\"b\",\"b\",\"c\",\"c\",\"c\"]\n",
    "    \n",
    "    \n",
    "Output: Return 6, \n",
    "           and the first 6 characters of the input array should be: [\"a\",\"2\",\"b\",\"2\",\"c\",\"3\"]"
   ]
  },
  {
   "cell_type": "code",
   "execution_count": 38,
   "id": "8c9d0d7b",
   "metadata": {},
   "outputs": [],
   "source": [
    "def fx(chars):\n",
    "    idx=0\n",
    "    res=[]\n",
    "    while idx<len(chars)-1:\n",
    "        c=1\n",
    "        first=idx\n",
    "        while idx+1<len(chars) and chars[idx]==chars[idx+1]:\n",
    "            c+=1\n",
    "            idx+=1\n",
    "        if c==1:\n",
    "            res.append(chars[idx])\n",
    "        else:\n",
    "            res.append(chars[idx])\n",
    "            res+=list(str(c))\n",
    "        idx+=1\n",
    "    if idx==len(chars)-1:\n",
    "        res.append(chars[idx])\n",
    "    print(res)\n",
    "    return len(res)"
   ]
  },
  {
   "cell_type": "code",
   "execution_count": 39,
   "id": "0109ba9c",
   "metadata": {},
   "outputs": [
    {
     "name": "stdout",
     "output_type": "stream",
     "text": [
      "['a', '2', 'b', '2', 'c', '3']\n"
     ]
    },
    {
     "data": {
      "text/plain": [
       "6"
      ]
     },
     "execution_count": 39,
     "metadata": {},
     "output_type": "execute_result"
    }
   ],
   "source": [
    "fx([\"a\",\"a\",\"b\",\"b\",\"c\",\"c\",\"c\"])"
   ]
  },
  {
   "cell_type": "code",
   "execution_count": 40,
   "id": "530b5a67",
   "metadata": {},
   "outputs": [
    {
     "name": "stdout",
     "output_type": "stream",
     "text": [
      "['a', 'b', '2', 'c']\n"
     ]
    },
    {
     "data": {
      "text/plain": [
       "4"
      ]
     },
     "execution_count": 40,
     "metadata": {},
     "output_type": "execute_result"
    }
   ],
   "source": [
    "fx([\"a\",\"b\",\"b\",\"c\"])"
   ]
  },
  {
   "cell_type": "code",
   "execution_count": 41,
   "id": "b5882b56",
   "metadata": {},
   "outputs": [
    {
     "name": "stdout",
     "output_type": "stream",
     "text": [
      "['a', 'b', '1', '2']\n"
     ]
    },
    {
     "data": {
      "text/plain": [
       "4"
      ]
     },
     "execution_count": 41,
     "metadata": {},
     "output_type": "execute_result"
    }
   ],
   "source": [
    "fx([\"a\",\"b\",\"b\",\"b\",\"b\",\"b\",\"b\",\"b\",\"b\",\"b\",\"b\",\"b\",\"b\"])"
   ]
  },
  {
   "cell_type": "code",
   "execution_count": null,
   "id": "6150f250",
   "metadata": {},
   "outputs": [],
   "source": []
  }
 ],
 "metadata": {
  "kernelspec": {
   "display_name": "Python 3 (ipykernel)",
   "language": "python",
   "name": "python3"
  },
  "language_info": {
   "codemirror_mode": {
    "name": "ipython",
    "version": 3
   },
   "file_extension": ".py",
   "mimetype": "text/x-python",
   "name": "python",
   "nbconvert_exporter": "python",
   "pygments_lexer": "ipython3",
   "version": "3.10.6"
  }
 },
 "nbformat": 4,
 "nbformat_minor": 5
}
