{
 "cells": [
  {
   "cell_type": "markdown",
   "id": "eaac2d4e",
   "metadata": {},
   "source": [
    "You are given two strings s and t of the same length and an integer maxCost.\n",
    "\n",
    "You want to change s to t. Changing the ith character of s to ith character of t costs |s[i] - t[i]| (i.e., the absolute difference between the ASCII values of the characters).\n",
    "\n",
    "Return the maximum length of a substring of s that can be changed to be the same as the corresponding substring of t with a cost less than or equal to maxCost. If there is no substring from s that can be changed to its corresponding substring from t, return 0."
   ]
  },
  {
   "cell_type": "code",
   "execution_count": 7,
   "id": "d22302f3",
   "metadata": {},
   "outputs": [],
   "source": [
    "class Solution:\n",
    "    def equalSubstring(self, s: str, t: str, maxCost: int) -> int:\n",
    "        ans=0\n",
    "        n=len(s)\n",
    "        idx=0\n",
    "        while idx<n:\n",
    "            res=0\n",
    "            temp=maxCost\n",
    "            for i in range(idx,n):\n",
    "                k=abs(ord(s[i])-ord(t[i]))\n",
    "                if k<=temp:\n",
    "                    res+=1\n",
    "                    temp=temp-k\n",
    "                else:\n",
    "                    break\n",
    "            ans=max(ans,res)\n",
    "            idx+=1\n",
    "        return ans"
   ]
  },
  {
   "cell_type": "code",
   "execution_count": 8,
   "id": "95a039d7",
   "metadata": {},
   "outputs": [
    {
     "data": {
      "text/plain": [
       "3"
      ]
     },
     "execution_count": 8,
     "metadata": {},
     "output_type": "execute_result"
    }
   ],
   "source": [
    "equalSubstring(s = \"abcd\", t = \"bcdf\", maxCost = 3)"
   ]
  },
  {
   "cell_type": "code",
   "execution_count": null,
   "id": "9e7914a1",
   "metadata": {},
   "outputs": [],
   "source": []
  }
 ],
 "metadata": {
  "kernelspec": {
   "display_name": "Python 3 (ipykernel)",
   "language": "python",
   "name": "python3"
  },
  "language_info": {
   "codemirror_mode": {
    "name": "ipython",
    "version": 3
   },
   "file_extension": ".py",
   "mimetype": "text/x-python",
   "name": "python",
   "nbconvert_exporter": "python",
   "pygments_lexer": "ipython3",
   "version": "3.11.7"
  }
 },
 "nbformat": 4,
 "nbformat_minor": 5
}
