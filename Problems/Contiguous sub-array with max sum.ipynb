{
 "cells": [
  {
   "cell_type": "markdown",
   "id": "df978e4f",
   "metadata": {},
   "source": [
    "Given an array Arr[] of N integers. Find the contiguous sub-array(containing at least one number) which has the maximum sum and return its sum."
   ]
  },
  {
   "cell_type": "markdown",
   "id": "08af3eee",
   "metadata": {},
   "source": [
    "### Example 1:\n",
    "\n",
    "Input:\n",
    "N = 5\n",
    "Arr[] = {1,2,3,-2,5}\n",
    "\n",
    "Output:\n",
    "9\n",
    "\n",
    "Explanation:\n",
    "Max subarray sum is 9\n",
    "of elements (1, 2, 3, -2, 5) which \n",
    "is a contiguous subarray."
   ]
  },
  {
   "cell_type": "markdown",
   "id": "a7c9f277",
   "metadata": {},
   "source": [
    "### Example 2:\n",
    "\n",
    "Input:\n",
    "N = 4\n",
    "Arr[] = {-1,-2,-3,-4}\n",
    "\n",
    "Output:\n",
    "-1\n",
    "\n",
    "Explanation:\n",
    "Max subarray sum is -1 \n",
    "of element (-1)"
   ]
  },
  {
   "cell_type": "code",
   "execution_count": 1,
   "id": "d7f15e57",
   "metadata": {},
   "outputs": [],
   "source": [
    "def func(n,arr):\n",
    "    res=[]\n",
    "    for i in range(n):\n",
    "        temp=[]\n",
    "        res.append(arr[i])\n",
    "        for j in range(i+1,n):\n",
    "            res.append(sum(arr[i:j+1]))\n",
    "    return max(res)"
   ]
  },
  {
   "cell_type": "code",
   "execution_count": 5,
   "id": "086316f0",
   "metadata": {},
   "outputs": [
    {
     "data": {
      "text/plain": [
       "10"
      ]
     },
     "execution_count": 5,
     "metadata": {},
     "output_type": "execute_result"
    }
   ],
   "source": [
    "func(4,[1,2,3,4])"
   ]
  },
  {
   "cell_type": "code",
   "execution_count": 6,
   "id": "e9e08afa",
   "metadata": {},
   "outputs": [
    {
     "data": {
      "text/plain": [
       "13"
      ]
     },
     "execution_count": 6,
     "metadata": {},
     "output_type": "execute_result"
    }
   ],
   "source": [
    "func(5,[1,-4,5,-2,10])"
   ]
  }
 ],
 "metadata": {
  "kernelspec": {
   "display_name": "Python 3 (ipykernel)",
   "language": "python",
   "name": "python3"
  },
  "language_info": {
   "codemirror_mode": {
    "name": "ipython",
    "version": 3
   },
   "file_extension": ".py",
   "mimetype": "text/x-python",
   "name": "python",
   "nbconvert_exporter": "python",
   "pygments_lexer": "ipython3",
   "version": "3.10.6"
  }
 },
 "nbformat": 4,
 "nbformat_minor": 5
}
