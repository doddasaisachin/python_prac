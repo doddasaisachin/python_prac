{
 "cells": [
  {
   "cell_type": "markdown",
   "id": "77437fe9",
   "metadata": {},
   "source": [
    "Given a string path, where path[i] = 'N', 'S', 'E' or 'W', each representing moving one unit north, south, east, or west, respectively. You start at the origin (0, 0) on a 2D plane and walk on the path specified by path.\n",
    "\n",
    "Return true if the path crosses itself at any point, that is, if at any time you are on a location you have previously visited. Return false otherwise."
   ]
  },
  {
   "cell_type": "markdown",
   "id": "c471b33b",
   "metadata": {},
   "source": [
    "Example 1:\n",
    "    \n",
    "Input: path = \"NES\"\n",
    "Output: false \n",
    "Explanation: Notice that the path doesn't cross any point more than once.\n",
    "    \n",
    "Example 2:\n",
    "    \n",
    "Input: path = \"NESWW\"\n",
    "Output: true\n",
    "Explanation: Notice that the path visits the origin twice."
   ]
  },
  {
   "cell_type": "code",
   "execution_count": 2,
   "id": "6a9a815d",
   "metadata": {},
   "outputs": [],
   "source": [
    "def fx(path):\n",
    "    arr=[(0,0)]\n",
    "    for i in path:\n",
    "        if i=='N':\n",
    "            arr.append((arr[-1][0],arr[-1][1]+1))\n",
    "        elif i=='S':\n",
    "            arr.append((arr[-1][0],arr[-1][1]-1))\n",
    "        elif i=='E':\n",
    "            arr.append((arr[-1][0]+1,arr[-1][1]))\n",
    "        else:\n",
    "            arr.append((arr[-1][0]-1,arr[-1][1]))\n",
    "        if arr[-1] in arr[:-1]:\n",
    "            return True\n",
    "    return False"
   ]
  },
  {
   "cell_type": "code",
   "execution_count": 3,
   "id": "3cb130ae",
   "metadata": {},
   "outputs": [
    {
     "data": {
      "text/plain": [
       "False"
      ]
     },
     "execution_count": 3,
     "metadata": {},
     "output_type": "execute_result"
    }
   ],
   "source": [
    "fx('NES')"
   ]
  },
  {
   "cell_type": "code",
   "execution_count": 4,
   "id": "6ae11c5c",
   "metadata": {},
   "outputs": [
    {
     "data": {
      "text/plain": [
       "True"
      ]
     },
     "execution_count": 4,
     "metadata": {},
     "output_type": "execute_result"
    }
   ],
   "source": [
    "fx('NESWW')"
   ]
  },
  {
   "cell_type": "code",
   "execution_count": null,
   "id": "247808ec",
   "metadata": {},
   "outputs": [],
   "source": []
  }
 ],
 "metadata": {
  "kernelspec": {
   "display_name": "Python 3 (ipykernel)",
   "language": "python",
   "name": "python3"
  },
  "language_info": {
   "codemirror_mode": {
    "name": "ipython",
    "version": 3
   },
   "file_extension": ".py",
   "mimetype": "text/x-python",
   "name": "python",
   "nbconvert_exporter": "python",
   "pygments_lexer": "ipython3",
   "version": "3.10.6"
  }
 },
 "nbformat": 4,
 "nbformat_minor": 5
}
