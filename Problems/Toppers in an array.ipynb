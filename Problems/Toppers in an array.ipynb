{
 "cells": [
  {
   "cell_type": "code",
   "execution_count": 7,
   "id": "7040eba9",
   "metadata": {},
   "outputs": [],
   "source": [
    "def func(arr):\n",
    "    res=[]\n",
    "    arr.reverse()\n",
    "    ele=arr[0]\n",
    "    res.append(ele)\n",
    "    for i in range(1,len(arr)):\n",
    "        if arr[i]>ele:\n",
    "            ele=arr[i]\n",
    "            res.append(arr[i])\n",
    "    res.reverse()\n",
    "    return res"
   ]
  },
  {
   "cell_type": "code",
   "execution_count": 8,
   "id": "a5180dd4",
   "metadata": {},
   "outputs": [
    {
     "data": {
      "text/plain": [
       "[17, 5, 2]"
      ]
     },
     "execution_count": 8,
     "metadata": {},
     "output_type": "execute_result"
    }
   ],
   "source": [
    "func([16,17,4,3,5,2])"
   ]
  },
  {
   "cell_type": "code",
   "execution_count": 9,
   "id": "1a0acb5c",
   "metadata": {},
   "outputs": [
    {
     "data": {
      "text/plain": [
       "[4, 0]"
      ]
     },
     "execution_count": 9,
     "metadata": {},
     "output_type": "execute_result"
    }
   ],
   "source": [
    "func([1,2,3,4,0])"
   ]
  },
  {
   "cell_type": "code",
   "execution_count": null,
   "id": "ce0b8abb",
   "metadata": {},
   "outputs": [],
   "source": []
  }
 ],
 "metadata": {
  "kernelspec": {
   "display_name": "Python 3 (ipykernel)",
   "language": "python",
   "name": "python3"
  },
  "language_info": {
   "codemirror_mode": {
    "name": "ipython",
    "version": 3
   },
   "file_extension": ".py",
   "mimetype": "text/x-python",
   "name": "python",
   "nbconvert_exporter": "python",
   "pygments_lexer": "ipython3",
   "version": "3.10.6"
  }
 },
 "nbformat": 4,
 "nbformat_minor": 5
}
