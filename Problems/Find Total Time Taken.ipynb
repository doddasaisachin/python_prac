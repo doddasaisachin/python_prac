{
 "cells": [
  {
   "cell_type": "markdown",
   "id": "3166d0d1",
   "metadata": {},
   "source": [
    "You are given an array arr of size n, containing the values in between 1 to n & time of size n, containing time in sec, you are asked to determine the total time taken in order to pick all the array elements from left to right but there is a condition, If from left, previous elements are different it takes 1 Sec to pick & if element got repeated then it will take time[arr[i]]."
   ]
  },
  {
   "cell_type": "markdown",
   "id": "70fdbf97",
   "metadata": {},
   "source": [
    "#### NOTE:\n",
    "1. It takes 1 sec to move from index i to i+1 (1 <= i < n).\n",
    "2. 1-based indexing."
   ]
  },
  {
   "cell_type": "markdown",
   "id": "27917b54",
   "metadata": {},
   "source": [
    "#### Example 1:\n",
    "\n",
    "Input:\n",
    "n = 4\n",
    "arr = [1, 2, 3, 3]\n",
    "time = [1, 2, 3, 4]\n",
    "\n",
    "Output:\n",
    "5\n",
    "\n",
    "Explanation:\n",
    "for 1st element(1) = 0 Sec-> total = 0\n",
    "    2nd element(2) = 1 Sec-> total = 1+0=1\n",
    "    3rd element(3) = 1 Sec-> total = 1+1=2\n",
    "    4th element(3) : here element 3 is repeated\n",
    "    so we have to calculate time by time[arr[i]]\n",
    "    : time[arr[4]] => time[3] => 3 -> total = 2+3 =5\n",
    "here you can see 4th element(3) is repeated\n",
    "so time will be not 1 sec & we have to\n",
    "calculate time by this: time[arr[i]],there\n",
    "Index is 4 which means arr[4] gives 3 & then\n",
    "time[3]=3."
   ]
  },
  {
   "cell_type": "markdown",
   "id": "4798b098",
   "metadata": {},
   "source": [
    "#### Example 2:\n",
    "\n",
    "Input:\n",
    "n = 4\n",
    "arr = {1, 2, 3, 4}\n",
    "time = {1, 2, 3, 4}\n",
    "\n",
    "Output:\n",
    "3\n",
    "\n",
    "Explanation:\n",
    "for 1st element(1) = 0 Sec-> total = 0\n",
    "    2nd element(2) = 1 Sec-> total = 1\n",
    "    3rd element(3) = 1 Sec-> total = 2\n",
    "    4th element(4) = 1 Sec-> total = 3\n",
    "here you can see no elements are repeated\n",
    "so time will be 1 sec else will have to \n",
    "calculate time by this: time[arr[i]]."
   ]
  },
  {
   "cell_type": "markdown",
   "id": "18dbef9d",
   "metadata": {},
   "source": [
    "#### Example 3:\n",
    "\n",
    "Input:\n",
    "n = 8\n",
    "arr = {6, 6, 1, 8, 1, 1, 3, 1}\n",
    "time ={8, 4, 1, 5, 2, 8, 9, 3}\n",
    "\n",
    "Output:\n",
    "35\n",
    "\n",
    "Explanation:\n",
    "for 1st element(6) = 0 Sec-> total = 0\n",
    "    2nd element(6) = repeated element so\n",
    "    time[arr[i]] = time[6] = 8 Sec-> total=8+0=8\n",
    "    3rd element(1) = 1 Sec-> total = 8+1=9\n",
    "    4th element(8) = 1 Sec-> total = 9+1=10\n",
    "    5th element(1) = repeated \n",
    "    So, time[arr[i]] =time[1]=8 Sec-> total = 8+10 = 18\n",
    "    6th element(1) = again repeated = 8 sec\n",
    "    total = 18+8 = 26\n",
    "    7th element(3) = 1 sec-> total = 26+1=27\n",
    "    8th element(1) = 8 Sec (repeated)->\n",
    "    total = 27+8 = 35"
   ]
  },
  {
   "cell_type": "code",
   "execution_count": 66,
   "id": "12cbc6b0",
   "metadata": {},
   "outputs": [],
   "source": [
    "def func(arr,time):\n",
    "    res=-1\n",
    "    def rep(a,ele):\n",
    "        if ele in a:\n",
    "            return True\n",
    "        return False\n",
    "    for i in range(len(arr)):\n",
    "        if rep(arr[:i],arr[i]):\n",
    "            res=res+time[arr[i]-1]\n",
    "        else:\n",
    "            res=res+1\n",
    "    return res"
   ]
  },
  {
   "cell_type": "code",
   "execution_count": 67,
   "id": "7dd66f1f",
   "metadata": {},
   "outputs": [
    {
     "data": {
      "text/plain": [
       "5"
      ]
     },
     "execution_count": 67,
     "metadata": {},
     "output_type": "execute_result"
    }
   ],
   "source": [
    "func([1,2,3,3],[1,2,3,4])"
   ]
  },
  {
   "cell_type": "code",
   "execution_count": 68,
   "id": "732820db",
   "metadata": {},
   "outputs": [
    {
     "data": {
      "text/plain": [
       "3"
      ]
     },
     "execution_count": 68,
     "metadata": {},
     "output_type": "execute_result"
    }
   ],
   "source": [
    "func([1,2,3,4],[1,2,3,4])"
   ]
  },
  {
   "cell_type": "code",
   "execution_count": 69,
   "id": "7709a19c",
   "metadata": {
    "scrolled": true
   },
   "outputs": [
    {
     "data": {
      "text/plain": [
       "35"
      ]
     },
     "execution_count": 69,
     "metadata": {},
     "output_type": "execute_result"
    }
   ],
   "source": [
    "func([6,6,1,8,1,1,3,1],[8,4,1,5,2,8,9,3])"
   ]
  },
  {
   "cell_type": "code",
   "execution_count": 72,
   "id": "57cd4178",
   "metadata": {},
   "outputs": [],
   "source": [
    "def func(arr,time):    \n",
    "    res=0\n",
    "    s=set()\n",
    "    for i in range(1,len(arr)):\n",
    "        s.add(arr[i-1])\n",
    "        if arr[i] in s:\n",
    "            res=res+time[arr[i]-1]\n",
    "        else:\n",
    "            res=res+1\n",
    "    return res"
   ]
  },
  {
   "cell_type": "code",
   "execution_count": 73,
   "id": "4b9f85b6",
   "metadata": {},
   "outputs": [
    {
     "data": {
      "text/plain": [
       "5"
      ]
     },
     "execution_count": 73,
     "metadata": {},
     "output_type": "execute_result"
    }
   ],
   "source": [
    "func([1,2,3,3],[1,2,3,4])"
   ]
  },
  {
   "cell_type": "code",
   "execution_count": 74,
   "id": "9c9238bc",
   "metadata": {},
   "outputs": [
    {
     "data": {
      "text/plain": [
       "3"
      ]
     },
     "execution_count": 74,
     "metadata": {},
     "output_type": "execute_result"
    }
   ],
   "source": [
    "func([1,2,3,4],[1,2,3,4])"
   ]
  },
  {
   "cell_type": "code",
   "execution_count": 75,
   "id": "19c4e5fc",
   "metadata": {},
   "outputs": [
    {
     "data": {
      "text/plain": [
       "35"
      ]
     },
     "execution_count": 75,
     "metadata": {},
     "output_type": "execute_result"
    }
   ],
   "source": [
    "func([6,6,1,8,1,1,3,1],[8,4,1,5,2,8,9,3])"
   ]
  }
 ],
 "metadata": {
  "kernelspec": {
   "display_name": "Python 3 (ipykernel)",
   "language": "python",
   "name": "python3"
  },
  "language_info": {
   "codemirror_mode": {
    "name": "ipython",
    "version": 3
   },
   "file_extension": ".py",
   "mimetype": "text/x-python",
   "name": "python",
   "nbconvert_exporter": "python",
   "pygments_lexer": "ipython3",
   "version": "3.10.6"
  }
 },
 "nbformat": 4,
 "nbformat_minor": 5
}
