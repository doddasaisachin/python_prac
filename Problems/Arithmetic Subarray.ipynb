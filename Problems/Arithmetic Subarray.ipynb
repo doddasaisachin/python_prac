{
 "cells": [
  {
   "cell_type": "markdown",
   "id": "b9ae6371",
   "metadata": {},
   "source": [
    "A sequence of numbers is called arithmetic if it consists of at least two elements, and the difference between every two consecutive elements is the same. More formally, a sequence s is arithmetic if and only if s[i+1] - s[i] == s[1] - s[0] for all valid i.\n",
    "\n",
    "For example, these are arithmetic sequences:\n",
    "\n",
    "1, 3, 5, 7, 9\n",
    "7, 7, 7, 7\n",
    "3, -1, -5, -9\n",
    "The following sequence is not arithmetic:\n",
    "\n",
    "1, 1, 2, 5, 7\n",
    "You are given an array of n integers, nums, and two arrays of m integers each, l and r, representing the m range queries, where the ith query is the range [l[i], r[i]]. All the arrays are 0-indexed.\n",
    "\n",
    "Return a list of boolean elements answer, where answer[i] is true if the subarray nums[l[i]], nums[l[i]+1], ... , nums[r[i]] can be rearranged to form an arithmetic sequence, and false otherwise."
   ]
  },
  {
   "cell_type": "markdown",
   "id": "c445c4d4",
   "metadata": {},
   "source": [
    "\n",
    "Example 1:\n",
    "\n",
    "Input: nums = [4,6,5,9,3,7], l = [0,0,2], r = [2,3,5]\n",
    "Output: [true,false,true]\n",
    "Explanation:\n",
    "In the 0th query, the subarray is [4,6,5]. This can be rearranged as [6,5,4], which is an arithmetic sequence.\n",
    "In the 1st query, the subarray is [4,6,5,9]. This cannot be rearranged as an arithmetic sequence.\n",
    "In the 2nd query, the subarray is [5,9,3,7]. This can be rearranged as [3,5,7,9], which is an arithmetic sequence.\n",
    "\n",
    "Example 2:\n",
    "\n",
    "Input: nums = [-12,-9,-3,-12,-6,15,20,-25,-20,-15,-10], l = [0,1,6,4,8,7], r = [4,4,9,7,9,10]\n",
    "Output: [false,true,false,false,true,true]"
   ]
  },
  {
   "cell_type": "code",
   "execution_count": 32,
   "id": "5cdfd911",
   "metadata": {},
   "outputs": [],
   "source": [
    "def function(array,left,right):\n",
    "    idx=0\n",
    "    result=[]\n",
    "    while idx<len(left):\n",
    "        temp=array[left[idx]:right[idx]+1]\n",
    "        idx+=1\n",
    "        temp.sort()\n",
    "        diff=temp[1]-temp[0]\n",
    "        itr=0\n",
    "        arithmetic=True\n",
    "        while itr<len(temp)-1:\n",
    "            if not (temp[itr+1]-temp[itr]==diff):\n",
    "                arithmetic=False\n",
    "                break\n",
    "            itr+=1\n",
    "        result.append(arithmetic)\n",
    "    return result"
   ]
  },
  {
   "cell_type": "code",
   "execution_count": 33,
   "id": "6c341385",
   "metadata": {},
   "outputs": [
    {
     "data": {
      "text/plain": [
       "[True, False, True]"
      ]
     },
     "execution_count": 33,
     "metadata": {},
     "output_type": "execute_result"
    }
   ],
   "source": [
    "function([4,6,5,9,3,7],[0,0,2],[2,3,5])"
   ]
  },
  {
   "cell_type": "code",
   "execution_count": 34,
   "id": "1a05ad14",
   "metadata": {},
   "outputs": [
    {
     "data": {
      "text/plain": [
       "[False, True, False, False, True, True]"
      ]
     },
     "execution_count": 34,
     "metadata": {},
     "output_type": "execute_result"
    }
   ],
   "source": [
    "function([-12,-9,-3,-12,-6,15,20,-25,-20,-15,-10],[0,1,6,4,8,7], [4,4,9,7,9,10])"
   ]
  },
  {
   "cell_type": "code",
   "execution_count": null,
   "id": "4f2f99ed",
   "metadata": {},
   "outputs": [],
   "source": []
  }
 ],
 "metadata": {
  "kernelspec": {
   "display_name": "Python 3 (ipykernel)",
   "language": "python",
   "name": "python3"
  },
  "language_info": {
   "codemirror_mode": {
    "name": "ipython",
    "version": 3
   },
   "file_extension": ".py",
   "mimetype": "text/x-python",
   "name": "python",
   "nbconvert_exporter": "python",
   "pygments_lexer": "ipython3",
   "version": "3.10.6"
  }
 },
 "nbformat": 4,
 "nbformat_minor": 5
}
