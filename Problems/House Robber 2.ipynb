{
 "cells": [
  {
   "cell_type": "markdown",
   "id": "e0a845ce",
   "metadata": {},
   "source": [
    "You are a professional robber planning to rob houses along a street. Each house has a certain amount of money stashed. All houses at this place are arranged in a circle. That means the first house is the neighbor of the last one. Meanwhile, adjacent houses have a security system connected, and it will automatically contact the police if two adjacent houses were broken into on the same night.\n",
    "\n",
    "Given an integer array nums representing the amount of money of each house, return the maximum amount of money you can rob tonight without alerting the police."
   ]
  },
  {
   "cell_type": "code",
   "execution_count": 1,
   "id": "4a3b716a",
   "metadata": {},
   "outputs": [],
   "source": [
    "def fx(nums):\n",
    "    if len(nums)==1:\n",
    "        return nums[0]\n",
    "    def fx(house):\n",
    "        dp=[None]*len(house)\n",
    "        if len(house)==1:\n",
    "            return house[0]\n",
    "        dp[0]=house[0]\n",
    "        dp[1]=max(dp[0],house[1])\n",
    "        for i in range(2,len(house)):\n",
    "            dp[i]=max(house[i]+dp[i-2],dp[i-1])\n",
    "        return dp[-1] \n",
    "    t1=fx(nums[1:len(nums)+1])\n",
    "    t2=fx(nums[:len(nums)-1])\n",
    "    return max(t1,t2)"
   ]
  },
  {
   "cell_type": "code",
   "execution_count": 2,
   "id": "0ef19a0b",
   "metadata": {},
   "outputs": [
    {
     "data": {
      "text/plain": [
       "4"
      ]
     },
     "execution_count": 2,
     "metadata": {},
     "output_type": "execute_result"
    }
   ],
   "source": [
    "fx([1,2,3,1])"
   ]
  },
  {
   "cell_type": "code",
   "execution_count": null,
   "id": "0c06513e",
   "metadata": {},
   "outputs": [],
   "source": []
  }
 ],
 "metadata": {
  "kernelspec": {
   "display_name": "Python 3 (ipykernel)",
   "language": "python",
   "name": "python3"
  },
  "language_info": {
   "codemirror_mode": {
    "name": "ipython",
    "version": 3
   },
   "file_extension": ".py",
   "mimetype": "text/x-python",
   "name": "python",
   "nbconvert_exporter": "python",
   "pygments_lexer": "ipython3",
   "version": "3.10.6"
  }
 },
 "nbformat": 4,
 "nbformat_minor": 5
}
