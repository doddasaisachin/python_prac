{
 "cells": [
  {
   "cell_type": "code",
   "execution_count": 32,
   "id": "f4b5175f",
   "metadata": {},
   "outputs": [],
   "source": [
    "def func(arr):\n",
    "    res=[]\n",
    "    idx=0\n",
    "    arr.sort()\n",
    "    if len(arr)>1:\n",
    "        while idx<len(arr)-1:\n",
    "            if arr[idx]==arr[idx+1]:\n",
    "                ele=arr.pop(idx)\n",
    "                res.append(ele)\n",
    "            idx+=1\n",
    "    if len(res)==0:\n",
    "        return [-1]\n",
    "    fin=list(set(res ))\n",
    "    fin.sort()\n",
    "    return fin"
   ]
  },
  {
   "cell_type": "code",
   "execution_count": 33,
   "id": "d16cd086",
   "metadata": {},
   "outputs": [
    {
     "data": {
      "text/plain": [
       "[-1]"
      ]
     },
     "execution_count": 33,
     "metadata": {},
     "output_type": "execute_result"
    }
   ],
   "source": [
    "func([0,3,1,2])"
   ]
  },
  {
   "cell_type": "code",
   "execution_count": 34,
   "id": "cb350c2e",
   "metadata": {},
   "outputs": [
    {
     "data": {
      "text/plain": [
       "[2, 3]"
      ]
     },
     "execution_count": 34,
     "metadata": {},
     "output_type": "execute_result"
    }
   ],
   "source": [
    "func([2,3,1,2,3])"
   ]
  },
  {
   "cell_type": "code",
   "execution_count": 35,
   "id": "bc967bef",
   "metadata": {},
   "outputs": [
    {
     "data": {
      "text/plain": [
       "[1, 3, 5, 9]"
      ]
     },
     "execution_count": 35,
     "metadata": {},
     "output_type": "execute_result"
    }
   ],
   "source": [
    "func([9,1,7,3,1,3,47,9,5,5])"
   ]
  },
  {
   "cell_type": "code",
   "execution_count": 36,
   "id": "3d976d34",
   "metadata": {},
   "outputs": [
    {
     "data": {
      "text/plain": [
       "[5, 15, 16, 18, 23]"
      ]
     },
     "execution_count": 36,
     "metadata": {},
     "output_type": "execute_result"
    }
   ],
   "source": [
    "func([16 ,7 ,5 ,23, 5, 18, 23, 15, 5 ,13, 18, 10, 22, 5, 17, 14, 5, 3, 15, 5, 12, 11, 15 ,16, 9, 4 ,15])"
   ]
  },
  {
   "cell_type": "code",
   "execution_count": null,
   "id": "ea76fc57",
   "metadata": {},
   "outputs": [],
   "source": []
  }
 ],
 "metadata": {
  "kernelspec": {
   "display_name": "Python 3 (ipykernel)",
   "language": "python",
   "name": "python3"
  },
  "language_info": {
   "codemirror_mode": {
    "name": "ipython",
    "version": 3
   },
   "file_extension": ".py",
   "mimetype": "text/x-python",
   "name": "python",
   "nbconvert_exporter": "python",
   "pygments_lexer": "ipython3",
   "version": "3.10.6"
  }
 },
 "nbformat": 4,
 "nbformat_minor": 5
}
