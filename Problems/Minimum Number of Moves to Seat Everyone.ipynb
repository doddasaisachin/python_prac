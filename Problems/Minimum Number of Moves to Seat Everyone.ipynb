{
 "cells": [
  {
   "cell_type": "markdown",
   "id": "6be15539",
   "metadata": {},
   "source": [
    "There are n seats and n students in a room. You are given an array seats of length n, where seats[i] is the position of the ith seat. You are also given the array students of length n, where students[j] is the position of the jth student.\n",
    "\n",
    "You may perform the following move any number of times:\n",
    "\n",
    "Increase or decrease the position of the ith student by 1 (i.e., moving the ith student from position x to x + 1 or x - 1)\n",
    "Return the minimum number of moves required to move each student to a seat such that no two students are in the same seat.\n",
    "\n",
    "Note that there may be multiple seats or students in the same position at the beginning."
   ]
  },
  {
   "cell_type": "code",
   "execution_count": 1,
   "id": "bd9dd625",
   "metadata": {},
   "outputs": [],
   "source": [
    "def minMovesToSeat(seats , students) -> int:\n",
    "    seats.sort()\n",
    "    students.sort()\n",
    "    ans=0\n",
    "    for i in range(len(seats)):\n",
    "        ans=ans+abs(seats[i]-students[i])\n",
    "    return  ans"
   ]
  },
  {
   "cell_type": "code",
   "execution_count": 2,
   "id": "51789d8e",
   "metadata": {},
   "outputs": [
    {
     "data": {
      "text/plain": [
       "4"
      ]
     },
     "execution_count": 2,
     "metadata": {},
     "output_type": "execute_result"
    }
   ],
   "source": [
    "minMovesToSeat(seats = [3,1,5], students = [2,7,4])"
   ]
  },
  {
   "cell_type": "code",
   "execution_count": null,
   "id": "682da41f",
   "metadata": {},
   "outputs": [],
   "source": []
  }
 ],
 "metadata": {
  "kernelspec": {
   "display_name": "Python 3 (ipykernel)",
   "language": "python",
   "name": "python3"
  },
  "language_info": {
   "codemirror_mode": {
    "name": "ipython",
    "version": 3
   },
   "file_extension": ".py",
   "mimetype": "text/x-python",
   "name": "python",
   "nbconvert_exporter": "python",
   "pygments_lexer": "ipython3",
   "version": "3.11.7"
  }
 },
 "nbformat": 4,
 "nbformat_minor": 5
}
