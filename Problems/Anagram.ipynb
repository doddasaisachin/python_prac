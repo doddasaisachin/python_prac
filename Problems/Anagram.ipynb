{
 "cells": [
  {
   "cell_type": "markdown",
   "id": "071a702d",
   "metadata": {},
   "source": [
    "Given two strings a and b consisting of lowercase characters. The task is to check whether two given strings are an anagram of each other or not. An anagram of a string is another string that contains the same characters, only the order of characters can be different. For example, act and tac are an anagram of each other."
   ]
  },
  {
   "cell_type": "markdown",
   "id": "04dfaff3",
   "metadata": {},
   "source": [
    "##### Example 1:\n",
    "\n",
    "Input:a = geeksforgeeks, b = forgeeksgeeks\n",
    "    \n",
    "Output: YES\n",
    "    \n",
    "Explanation: Both the string have same characters with\n",
    "        same frequency. So, both are anagrams."
   ]
  },
  {
   "cell_type": "markdown",
   "id": "5a0988f1",
   "metadata": {},
   "source": [
    "##### Example 2:\n",
    "\n",
    "Input:a = allergy, b = allergic\n",
    "    \n",
    "Output: NO\n",
    "    \n",
    "Explanation: Characters in both the strings are \n",
    "        not same, so they are not anagrams."
   ]
  },
  {
   "cell_type": "code",
   "execution_count": 45,
   "id": "a62acf31",
   "metadata": {},
   "outputs": [],
   "source": [
    "def func(a,b):\n",
    "    ad={}\n",
    "    for i in a:\n",
    "        ad[i]=a.count(i)\n",
    "    bd={}\n",
    "    for i in b:\n",
    "        bd[i]=b.count(i)\n",
    "    if ad==bd:\n",
    "        return True\n",
    "    return False"
   ]
  },
  {
   "cell_type": "code",
   "execution_count": 91,
   "id": "56aad52b",
   "metadata": {},
   "outputs": [
    {
     "data": {
      "text/plain": [
       "True"
      ]
     },
     "execution_count": 91,
     "metadata": {},
     "output_type": "execute_result"
    }
   ],
   "source": [
    "func('geeksforgeeks','forgeeksgeeks')"
   ]
  },
  {
   "cell_type": "code",
   "execution_count": 92,
   "id": "c00abc66",
   "metadata": {},
   "outputs": [
    {
     "data": {
      "text/plain": [
       "False"
      ]
     },
     "execution_count": 92,
     "metadata": {},
     "output_type": "execute_result"
    }
   ],
   "source": [
    "func('alergy','slergic')"
   ]
  },
  {
   "cell_type": "code",
   "execution_count": 89,
   "id": "f49e9a4e",
   "metadata": {},
   "outputs": [],
   "source": [
    "def func(a,b):\n",
    "    if len(a)!=len(b):\n",
    "        return False\n",
    "    for i in b:\n",
    "        if b.count(i)!=a.count(i):\n",
    "            return False\n",
    "    return True"
   ]
  },
  {
   "cell_type": "code",
   "execution_count": 93,
   "id": "9b72ea9d",
   "metadata": {},
   "outputs": [
    {
     "data": {
      "text/plain": [
       "True"
      ]
     },
     "execution_count": 93,
     "metadata": {},
     "output_type": "execute_result"
    }
   ],
   "source": [
    "func('geeksforgeeks','forgeeksgeeks')"
   ]
  },
  {
   "cell_type": "code",
   "execution_count": 95,
   "id": "11405bb7",
   "metadata": {},
   "outputs": [
    {
     "data": {
      "text/plain": [
       "False"
      ]
     },
     "execution_count": 95,
     "metadata": {},
     "output_type": "execute_result"
    }
   ],
   "source": [
    "func('alergy','slergic')"
   ]
  },
  {
   "cell_type": "code",
   "execution_count": 96,
   "id": "9aa60dcd",
   "metadata": {},
   "outputs": [],
   "source": [
    "def func(a,b):\n",
    "    if len(a)!=len(b):\n",
    "        return False\n",
    "    for i in set(b):\n",
    "        if b.count(i)!=a.count(i):\n",
    "            return False\n",
    "    return True"
   ]
  },
  {
   "cell_type": "code",
   "execution_count": 97,
   "id": "c60b0988",
   "metadata": {},
   "outputs": [
    {
     "data": {
      "text/plain": [
       "True"
      ]
     },
     "execution_count": 97,
     "metadata": {},
     "output_type": "execute_result"
    }
   ],
   "source": [
    "func('geeksforgeeks','forgeeksgeeks')"
   ]
  },
  {
   "cell_type": "code",
   "execution_count": 98,
   "id": "7bff0fd8",
   "metadata": {},
   "outputs": [
    {
     "data": {
      "text/plain": [
       "False"
      ]
     },
     "execution_count": 98,
     "metadata": {},
     "output_type": "execute_result"
    }
   ],
   "source": [
    "func('alergy','slergic')"
   ]
  },
  {
   "cell_type": "code",
   "execution_count": null,
   "id": "e400347e",
   "metadata": {},
   "outputs": [],
   "source": []
  }
 ],
 "metadata": {
  "kernelspec": {
   "display_name": "Python 3 (ipykernel)",
   "language": "python",
   "name": "python3"
  },
  "language_info": {
   "codemirror_mode": {
    "name": "ipython",
    "version": 3
   },
   "file_extension": ".py",
   "mimetype": "text/x-python",
   "name": "python",
   "nbconvert_exporter": "python",
   "pygments_lexer": "ipython3",
   "version": "3.10.6"
  }
 },
 "nbformat": 4,
 "nbformat_minor": 5
}
