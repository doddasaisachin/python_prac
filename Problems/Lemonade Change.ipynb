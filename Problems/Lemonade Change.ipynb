{
 "cells": [
  {
   "cell_type": "markdown",
   "id": "b37adcdf",
   "metadata": {},
   "source": [
    "At a lemonade stand, each lemonade costs 5. Customers are standing in a queue to buy from you and order one at a time (in the order specified by bills). Each customer will only buy one lemonade and pay with either a 5, 10, or 20 bill. You must provide the correct change to each customer so that the net transaction is that the customer pays 5.\n",
    "\n",
    "Note that you do not have any change in hand at first.\n",
    "\n",
    "Given an integer array bills where bills[i] is the bill the ith customer pays, return true if you can provide every customer with the correct change, or false otherwise.\n",
    "\n",
    " \n",
    "\n",
    "Example 1:\n",
    "\n",
    "Input: bills = [5,5,5,10,20]\n",
    "Output: true\n",
    "Explanation: \n",
    "From the first 3 customers, we collect three 5 bills in order.\n",
    "From the fourth customer, we collect a 10 bill and give back a 5.\n",
    "From the fifth customer, we give a 10 bill and a 5 bill.\n",
    "Since all customers got correct change, we output true.\n",
    "\n",
    "Example 2:\n",
    "\n",
    "Input: bills = [5,5,10,10,20]\n",
    "Output: false\n",
    "Explanation: \n",
    "From the first two customers in order, we collect two 5 bills.\n",
    "For the next two customers in order, we collect a 10 bill and give back a 5 bill.\n",
    "For the last customer, we can not give the change of 15 back because we only have two 10 bills.\n",
    "Since not every customer received the correct change, the answer is false."
   ]
  },
  {
   "cell_type": "code",
   "execution_count": 5,
   "id": "43cb7625",
   "metadata": {},
   "outputs": [],
   "source": [
    "def fx(bills):\n",
    "    c5,c10,c20=0,0,0\n",
    "    for i in bills:\n",
    "        if i==5:\n",
    "            c5+=1\n",
    "        elif i==10:\n",
    "            if c5>0:\n",
    "                c5=c5-1\n",
    "                c10=c10+1\n",
    "            else:\n",
    "                return False\n",
    "        else:\n",
    "            if (c5>0 and c10>0):\n",
    "                c20+=1\n",
    "                c5-=1\n",
    "                c10-=1\n",
    "            elif c5>=3:\n",
    "                c5-=3\n",
    "            else:\n",
    "                return False                \n",
    "    return True"
   ]
  },
  {
   "cell_type": "code",
   "execution_count": 6,
   "id": "1e05770d",
   "metadata": {},
   "outputs": [
    {
     "data": {
      "text/plain": [
       "True"
      ]
     },
     "execution_count": 6,
     "metadata": {},
     "output_type": "execute_result"
    }
   ],
   "source": [
    "fx(bills = [5,5,5,10,20])"
   ]
  },
  {
   "cell_type": "code",
   "execution_count": 7,
   "id": "610946b9",
   "metadata": {},
   "outputs": [
    {
     "data": {
      "text/plain": [
       "False"
      ]
     },
     "execution_count": 7,
     "metadata": {},
     "output_type": "execute_result"
    }
   ],
   "source": [
    "fx([5,5,10,10,20])"
   ]
  },
  {
   "cell_type": "code",
   "execution_count": null,
   "id": "fddcffd9",
   "metadata": {},
   "outputs": [],
   "source": []
  }
 ],
 "metadata": {
  "kernelspec": {
   "display_name": "Python 3 (ipykernel)",
   "language": "python",
   "name": "python3"
  },
  "language_info": {
   "codemirror_mode": {
    "name": "ipython",
    "version": 3
   },
   "file_extension": ".py",
   "mimetype": "text/x-python",
   "name": "python",
   "nbconvert_exporter": "python",
   "pygments_lexer": "ipython3",
   "version": "3.10.6"
  }
 },
 "nbformat": 4,
 "nbformat_minor": 5
}
