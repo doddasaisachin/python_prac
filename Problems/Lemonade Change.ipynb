{
 "cells": [
  {
   "cell_type": "markdown",
   "id": "d7a00fc1",
   "metadata": {},
   "source": [
    "You are an owner of lemonade island, each lemonade costs 5. Customers are standing in a queue to buy from you and order one at a time (in the order specified by given array bills[]). Each customer will only buy one lemonade and pay with either a 5, 10, or 20 bill. You must provide the correct change to each customer so that the net transaction is that the customer pays 5.\n",
    "\n",
    "NOTE: At first, you do not have any bill to provide changes with. You can provide changes from the bills that you get from the previous customers.\n",
    "\n",
    "Given an integer array bills of size N where bills [ i ] is the bill the ith customer pays, return true if you can provide every customer with the correct change, or false otherwise."
   ]
  },
  {
   "cell_type": "markdown",
   "id": "3a9366be",
   "metadata": {},
   "source": [
    "Example 1:\n",
    "\n",
    "Input:\n",
    "N = 5\n",
    "bills [ ] = {5, 5, 5, 10, 20}\n",
    "Output: True\n",
    "Explanation: \n",
    "From the first 3 customers, we collect three 5 bills in order.\n",
    "From the fourth customer, we collect a 10 bill and give back a 5.\n",
    "From the fifth customer, we give a 10 bill and a 5 bill.\n",
    "Since all customers got correct change we return true."
   ]
  },
  {
   "cell_type": "markdown",
   "id": "5d603d43",
   "metadata": {},
   "source": [
    "Example 2:\n",
    "\n",
    "Input:\n",
    "N = 5\n",
    "bills [ ] = {5, 5, 10, 10, 20}\n",
    "Output: False\n",
    "Explanation: \n",
    "From the first two customers in order, we collect two 5 bills.\n",
    "For the next two customers in order, we collect a 10 bill and give back a 5 bill.\n",
    "For the last customer, we can not give the change of 15 back because we only have two 10 bills.\n",
    "Since not every customer received the correct change, the answer is false."
   ]
  },
  {
   "cell_type": "code",
   "execution_count": 7,
   "id": "567abbf2",
   "metadata": {},
   "outputs": [],
   "source": [
    "def iselements(arr):\n",
    "    if len(arr)>0:\n",
    "        return True\n",
    "    return False\n",
    "def func(arr):\n",
    "    five=[]\n",
    "    ten=[]\n",
    "    if len(arr) > 1:\n",
    "        if arr[0] != 5:\n",
    "            return False\n",
    "    for i in arr:\n",
    "        if i==5:\n",
    "            five.append(5)\n",
    "        elif i==10:\n",
    "            ten.append(5)\n",
    "            if iselements(five):\n",
    "                five.pop()\n",
    "            else:\n",
    "                return False\n",
    "        else:\n",
    "            if iselements(ten) and iselements(five):\n",
    "                ten.pop()\n",
    "                five.pop()\n",
    "            elif len(five)>2:\n",
    "                five.pop()\n",
    "                five.pop()\n",
    "                five.pop()\n",
    "            else:\n",
    "                return False\n",
    "    return True"
   ]
  },
  {
   "cell_type": "code",
   "execution_count": 8,
   "id": "df5747e6",
   "metadata": {},
   "outputs": [
    {
     "data": {
      "text/plain": [
       "True"
      ]
     },
     "execution_count": 8,
     "metadata": {},
     "output_type": "execute_result"
    }
   ],
   "source": [
    "func([5,5,5,10,20])"
   ]
  },
  {
   "cell_type": "code",
   "execution_count": 6,
   "id": "74c28ac8",
   "metadata": {},
   "outputs": [
    {
     "data": {
      "text/plain": [
       "False"
      ]
     },
     "execution_count": 6,
     "metadata": {},
     "output_type": "execute_result"
    }
   ],
   "source": [
    "func([5,5,10,10,20])"
   ]
  }
 ],
 "metadata": {
  "kernelspec": {
   "display_name": "Python 3 (ipykernel)",
   "language": "python",
   "name": "python3"
  },
  "language_info": {
   "codemirror_mode": {
    "name": "ipython",
    "version": 3
   },
   "file_extension": ".py",
   "mimetype": "text/x-python",
   "name": "python",
   "nbconvert_exporter": "python",
   "pygments_lexer": "ipython3",
   "version": "3.10.6"
  }
 },
 "nbformat": 4,
 "nbformat_minor": 5
}
