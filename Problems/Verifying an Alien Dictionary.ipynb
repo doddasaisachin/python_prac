{
 "cells": [
  {
   "cell_type": "markdown",
   "id": "4e20a9ad",
   "metadata": {},
   "source": [
    "In an alien language, surprisingly, they also use English lowercase letters, but possibly in a different order. The order of the alphabet is some permutation of lowercase letters.\n",
    "\n",
    "Given a sequence of words written in the alien language, and the order of the alphabet, return true if and only if the given words are sorted lexicographically in this alien language."
   ]
  },
  {
   "cell_type": "raw",
   "id": "c3fe0e31",
   "metadata": {},
   "source": [
    " words = [\"hello\",\"leetcode\"], order = \"hlabcdefgijkmnopqrstuvwxyz\""
   ]
  },
  {
   "cell_type": "code",
   "execution_count": 30,
   "id": "52952839",
   "metadata": {},
   "outputs": [],
   "source": [
    "def fx(words,order):\n",
    "    d=dict()\n",
    "    for i in range(len(order)):\n",
    "        d[order[i]]=i\n",
    "#     print(d)\n",
    "    idx=0\n",
    "    while idx<len(words)-1:\n",
    "        for i in range(min(len(words[idx]),len(words[idx+1]))):\n",
    "            if d[words[idx][i]]<d[words[idx+1][i]]:\n",
    "                break\n",
    "            if d[words[idx][i]]>d[words[idx+1][i]]:\n",
    "                return False\n",
    "        if words[idx+1] in words[idx]:\n",
    "            if len(words[idx])>len(words[idx+1]):\n",
    "                return False\n",
    "        idx+=1\n",
    "    return True"
   ]
  },
  {
   "cell_type": "code",
   "execution_count": 31,
   "id": "b07f17c2",
   "metadata": {},
   "outputs": [
    {
     "data": {
      "text/plain": [
       "True"
      ]
     },
     "execution_count": 31,
     "metadata": {},
     "output_type": "execute_result"
    }
   ],
   "source": [
    "fx( words = [\"hello\",\"leetcode\"], order = \"hlabcdefgijkmnopqrstuvwxyz\")"
   ]
  },
  {
   "cell_type": "code",
   "execution_count": 32,
   "id": "839aa80d",
   "metadata": {},
   "outputs": [
    {
     "data": {
      "text/plain": [
       "False"
      ]
     },
     "execution_count": 32,
     "metadata": {},
     "output_type": "execute_result"
    }
   ],
   "source": [
    "fx([\"word\",\"world\",\"row\"], order = \"worldabcefghijkmnpqstuvxyz\")"
   ]
  },
  {
   "cell_type": "code",
   "execution_count": 33,
   "id": "df0b7400",
   "metadata": {},
   "outputs": [
    {
     "data": {
      "text/plain": [
       "False"
      ]
     },
     "execution_count": 33,
     "metadata": {},
     "output_type": "execute_result"
    }
   ],
   "source": [
    "fx([\"apple\",\"app\"], order = \"abcdefghijklmnopqrstuvwxyz\")"
   ]
  },
  {
   "cell_type": "code",
   "execution_count": null,
   "id": "cf34a36b",
   "metadata": {},
   "outputs": [],
   "source": []
  }
 ],
 "metadata": {
  "kernelspec": {
   "display_name": "Python 3 (ipykernel)",
   "language": "python",
   "name": "python3"
  },
  "language_info": {
   "codemirror_mode": {
    "name": "ipython",
    "version": 3
   },
   "file_extension": ".py",
   "mimetype": "text/x-python",
   "name": "python",
   "nbconvert_exporter": "python",
   "pygments_lexer": "ipython3",
   "version": "3.10.6"
  }
 },
 "nbformat": 4,
 "nbformat_minor": 5
}
