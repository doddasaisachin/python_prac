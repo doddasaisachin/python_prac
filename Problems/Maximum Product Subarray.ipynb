{
 "cells": [
  {
   "cell_type": "markdown",
   "id": "2b7632e8",
   "metadata": {},
   "source": [
    "Example 1:\n",
    "\n",
    "Input: nums = [2,3,-2,4]\n",
    "Output: 6\n",
    "Explanation: [2,3] has the largest product 6.\n",
    "    \n",
    "Example 2:\n",
    "\n",
    "Input: nums = [-2,0,-1]\n",
    "Output: 0"
   ]
  },
  {
   "cell_type": "code",
   "execution_count": 5,
   "id": "7a0774db",
   "metadata": {},
   "outputs": [],
   "source": [
    "def function(array):\n",
    "    fix=len(array)-1\n",
    "    itr=fix\n",
    "    Max=-999999999999\n",
    "    while itr>=0:\n",
    "        temp=1\n",
    "        while itr>=0:\n",
    "            temp=temp*array[itr]\n",
    "            if temp>Max:\n",
    "                Max=temp\n",
    "            if array[itr]==0:\n",
    "                break\n",
    "            itr=itr-1\n",
    "        fix-=1\n",
    "        itr=fix\n",
    "    return Max"
   ]
  },
  {
   "cell_type": "code",
   "execution_count": 6,
   "id": "ecf4fadb",
   "metadata": {},
   "outputs": [
    {
     "data": {
      "text/plain": [
       "6"
      ]
     },
     "execution_count": 6,
     "metadata": {},
     "output_type": "execute_result"
    }
   ],
   "source": [
    "function([2,3,-2,4])"
   ]
  },
  {
   "cell_type": "code",
   "execution_count": 7,
   "id": "4d65e096",
   "metadata": {},
   "outputs": [
    {
     "data": {
      "text/plain": [
       "0"
      ]
     },
     "execution_count": 7,
     "metadata": {},
     "output_type": "execute_result"
    }
   ],
   "source": [
    "function([-2,0,-1])"
   ]
  },
  {
   "cell_type": "markdown",
   "id": "fe0200c4",
   "metadata": {},
   "source": [
    "## Most Optimized"
   ]
  },
  {
   "cell_type": "code",
   "execution_count": 3,
   "id": "abda71ba",
   "metadata": {},
   "outputs": [],
   "source": [
    "def most_optimised(array):\n",
    "    m=-9999999\n",
    "    temp=1\n",
    "    for i in range(len(array)):\n",
    "        temp=temp*array[i]\n",
    "        m=max(m,temp)\n",
    "        if temp==0:\n",
    "            temp=1\n",
    "    temp=1\n",
    "    for j in range(len(array)-1,-1,-1):\n",
    "        temp=temp*array[j]\n",
    "        m=max(m,temp)\n",
    "        if temp==0:\n",
    "            temp=1\n",
    "    return m"
   ]
  },
  {
   "cell_type": "code",
   "execution_count": 6,
   "id": "f747f6e4",
   "metadata": {},
   "outputs": [
    {
     "data": {
      "text/plain": [
       "16"
      ]
     },
     "execution_count": 6,
     "metadata": {},
     "output_type": "execute_result"
    }
   ],
   "source": [
    "most_optimised([2,3,-1,16])"
   ]
  },
  {
   "cell_type": "code",
   "execution_count": null,
   "id": "0e17957e",
   "metadata": {},
   "outputs": [],
   "source": []
  }
 ],
 "metadata": {
  "kernelspec": {
   "display_name": "Python 3 (ipykernel)",
   "language": "python",
   "name": "python3"
  },
  "language_info": {
   "codemirror_mode": {
    "name": "ipython",
    "version": 3
   },
   "file_extension": ".py",
   "mimetype": "text/x-python",
   "name": "python",
   "nbconvert_exporter": "python",
   "pygments_lexer": "ipython3",
   "version": "3.10.6"
  }
 },
 "nbformat": 4,
 "nbformat_minor": 5
}
