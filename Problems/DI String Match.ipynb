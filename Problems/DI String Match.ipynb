{
 "cells": [
  {
   "cell_type": "markdown",
   "id": "a7621eab",
   "metadata": {},
   "source": [
    "A permutation perm of n + 1 integers of all the integers in the range [0, n] can be represented as a string s of length n where:\n",
    "\n",
    "* s[i] == 'I' if perm[i] < perm[i + 1], and\n",
    "* s[i] == 'D' if perm[i] > perm[i + 1].\n",
    "\n",
    "Given a string s, reconstruct the permutation perm and return it. If there are multiple valid permutations perm, return any of them."
   ]
  },
  {
   "cell_type": "code",
   "execution_count": 1,
   "id": "967f10f0",
   "metadata": {},
   "outputs": [],
   "source": [
    "def fx(s):\n",
    "    arr=[0]*(len(s)+1)\n",
    "    if s[0]=='D':\n",
    "        ic,dc=0,len(s)\n",
    "        for i in range(len(s)):\n",
    "            if s[i]=='D':\n",
    "                arr[i]=dc\n",
    "                dc-=1\n",
    "            else:\n",
    "                arr[i]=ic\n",
    "                ic+=1\n",
    "        arr[-1]=ic\n",
    "    else:\n",
    "        ic,dc=0,len(s)\n",
    "        for i in range(len(s)):\n",
    "            if s[i]=='I':\n",
    "                arr[i]=ic\n",
    "                ic+=1\n",
    "            else:\n",
    "                arr[i]=dc\n",
    "                dc-=1\n",
    "        arr[-1]=dc\n",
    "    return arr"
   ]
  },
  {
   "cell_type": "code",
   "execution_count": 2,
   "id": "bdaac9ab",
   "metadata": {},
   "outputs": [
    {
     "data": {
      "text/plain": [
       "[0, 4, 1, 3, 2]"
      ]
     },
     "execution_count": 2,
     "metadata": {},
     "output_type": "execute_result"
    }
   ],
   "source": [
    "fx( \"IDID\")"
   ]
  },
  {
   "cell_type": "code",
   "execution_count": 3,
   "id": "0928856f",
   "metadata": {},
   "outputs": [
    {
     "data": {
      "text/plain": [
       "[0, 1, 2, 3]"
      ]
     },
     "execution_count": 3,
     "metadata": {},
     "output_type": "execute_result"
    }
   ],
   "source": [
    "fx(\"III\")"
   ]
  },
  {
   "cell_type": "code",
   "execution_count": 4,
   "id": "5d57d9d4",
   "metadata": {},
   "outputs": [
    {
     "data": {
      "text/plain": [
       "[3, 2, 0, 1]"
      ]
     },
     "execution_count": 4,
     "metadata": {},
     "output_type": "execute_result"
    }
   ],
   "source": [
    "fx(\"DDI\")"
   ]
  },
  {
   "cell_type": "code",
   "execution_count": null,
   "id": "6f6746f6",
   "metadata": {},
   "outputs": [],
   "source": []
  }
 ],
 "metadata": {
  "kernelspec": {
   "display_name": "Python 3 (ipykernel)",
   "language": "python",
   "name": "python3"
  },
  "language_info": {
   "codemirror_mode": {
    "name": "ipython",
    "version": 3
   },
   "file_extension": ".py",
   "mimetype": "text/x-python",
   "name": "python",
   "nbconvert_exporter": "python",
   "pygments_lexer": "ipython3",
   "version": "3.10.6"
  }
 },
 "nbformat": 4,
 "nbformat_minor": 5
}
