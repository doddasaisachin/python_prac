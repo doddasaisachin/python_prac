{
 "cells": [
  {
   "cell_type": "code",
   "execution_count": 9,
   "id": "ed76b36d",
   "metadata": {},
   "outputs": [],
   "source": [
    "class BinarySearchTree:\n",
    "    def __init__(self,data):\n",
    "        self.data=data\n",
    "        self.left=None\n",
    "        self.right=None\n",
    "    def add_child(self,new_data):\n",
    "        if self.data==new_data:\n",
    "            return\n",
    "        if new_data>self.data:\n",
    "            if self.right:\n",
    "                self.right.add_child(new_data)\n",
    "            else:\n",
    "                self.right=BinarySearchTree(new_data)\n",
    "        if new_data<self.data:\n",
    "            if self.left:\n",
    "                self.left.add_child(new_data)\n",
    "            else:\n",
    "                self.left=BinarySearchTree(new_data)\n",
    "    def preorder(self):\n",
    "        res=[]\n",
    "        res.append(self.data)\n",
    "        if self.left:\n",
    "            res=res+self.left.preorder()\n",
    "        if self.right:\n",
    "            res=res+self.right.preorder()\n",
    "        return res"
   ]
  },
  {
   "cell_type": "code",
   "execution_count": 10,
   "id": "d2f1736d",
   "metadata": {},
   "outputs": [],
   "source": [
    "root=BinarySearchTree(10)"
   ]
  },
  {
   "cell_type": "code",
   "execution_count": 11,
   "id": "1bcb2f35",
   "metadata": {},
   "outputs": [],
   "source": [
    "for i in [7,8,9,11,12,13]:\n",
    "    root.add_child(i)"
   ]
  },
  {
   "cell_type": "code",
   "execution_count": 12,
   "id": "9c5059b0",
   "metadata": {},
   "outputs": [
    {
     "data": {
      "text/plain": [
       "[10, 7, 8, 9, 11, 12, 13]"
      ]
     },
     "execution_count": 12,
     "metadata": {},
     "output_type": "execute_result"
    }
   ],
   "source": [
    "root.preorder()"
   ]
  },
  {
   "cell_type": "code",
   "execution_count": null,
   "id": "7f473af2",
   "metadata": {},
   "outputs": [],
   "source": []
  }
 ],
 "metadata": {
  "kernelspec": {
   "display_name": "Python 3 (ipykernel)",
   "language": "python",
   "name": "python3"
  },
  "language_info": {
   "codemirror_mode": {
    "name": "ipython",
    "version": 3
   },
   "file_extension": ".py",
   "mimetype": "text/x-python",
   "name": "python",
   "nbconvert_exporter": "python",
   "pygments_lexer": "ipython3",
   "version": "3.10.6"
  }
 },
 "nbformat": 4,
 "nbformat_minor": 5
}
