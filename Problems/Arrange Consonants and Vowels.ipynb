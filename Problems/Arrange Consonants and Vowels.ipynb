{
 "cells": [
  {
   "cell_type": "markdown",
   "id": "21b61516",
   "metadata": {},
   "source": [
    "Given a singly linked list having n nodes containing english alphabets ('a'-'z'). Rearrange the linked list in such a way that all the vowels come before the consonants while maintaining the order of their arrival. "
   ]
  },
  {
   "cell_type": "code",
   "execution_count": 1,
   "id": "15c17573",
   "metadata": {},
   "outputs": [],
   "source": [
    "def arrangeCV( head):\n",
    "    def check_vow(data):\n",
    "        if data in ['a','e','i','o','u']:\n",
    "            return True\n",
    "        return False\n",
    "    itr=head\n",
    "    prev=None\n",
    "    vow_head=None\n",
    "    vow_itr=None\n",
    "    while itr is not None and check_vow(itr.data):\n",
    "        if vow_head is None:\n",
    "            vow_head=Node(itr.data)\n",
    "            vow_itr=vow_head\n",
    "        else:\n",
    "            vow_itr.next=Node(itr.data)\n",
    "            vow_itr=vow_itr.next\n",
    "        itr=itr.next\n",
    "    head=itr\n",
    "    while itr:\n",
    "        if check_vow(itr.data):\n",
    "            if vow_head is None:\n",
    "                vow_head=Node(itr.data)\n",
    "                vow_itr=vow_head\n",
    "            else:\n",
    "                vow_itr.next=Node(itr.data)\n",
    "                vow_itr=vow_itr.next\n",
    "            prev.next=itr.next\n",
    "            itr=itr.next\n",
    "            continue\n",
    "        prev=itr\n",
    "        itr=itr.next\n",
    "    if vow_itr is None:\n",
    "        return head\n",
    "    vow_itr.next=head\n",
    "    return vow_head\n"
   ]
  },
  {
   "cell_type": "code",
   "execution_count": null,
   "id": "c1cb2de9",
   "metadata": {},
   "outputs": [],
   "source": []
  }
 ],
 "metadata": {
  "kernelspec": {
   "display_name": "Python 3 (ipykernel)",
   "language": "python",
   "name": "python3"
  },
  "language_info": {
   "codemirror_mode": {
    "name": "ipython",
    "version": 3
   },
   "file_extension": ".py",
   "mimetype": "text/x-python",
   "name": "python",
   "nbconvert_exporter": "python",
   "pygments_lexer": "ipython3",
   "version": "3.11.7"
  }
 },
 "nbformat": 4,
 "nbformat_minor": 5
}
