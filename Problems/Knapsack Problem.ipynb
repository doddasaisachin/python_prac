{
 "cells": [
  {
   "cell_type": "markdown",
   "id": "f29478d2",
   "metadata": {},
   "source": [
    "You are given weights and values of N items, put these items in a knapsack of capacity W to get the maximum total value in the knapsack. Note that we have only one quantity of each item.\n",
    "In other words, given two integer arrays val[0..N-1] and wt[0..N-1] which represent values and weights associated with N items respectively. Also given an integer W which represents knapsack capacity, find out the maximum value subset of val[] such that sum of the weights of this subset is smaller than or equal to W. You cannot break an item, either pick the complete item or dont pick it (0-1 property).\n",
    "\n",
    "Example 1:\n",
    "\n",
    "Input:\n",
    "N = 3\n",
    "W = 4\n",
    "values[] = {1,2,3}\n",
    "weight[] = {4,5,1}\n",
    "\n",
    "Output: 3\n",
    "\n",
    "Explanation: Choose the last item that weighs 1 unit and holds a value of 3. \n",
    "\n",
    "Example 2:\n",
    "\n",
    "Input:\n",
    "N = 3\n",
    "W = 3\n",
    "values[] = {1,2,3}\n",
    "weight[] = {4,5,6}\n",
    "\n",
    "Output: 0\n",
    "\n",
    "Explanation: Every item has a weight exceeding the knapsack's capacity (3)."
   ]
  },
  {
   "cell_type": "code",
   "execution_count": 29,
   "id": "a627cbd9",
   "metadata": {},
   "outputs": [],
   "source": [
    "def knapsack_using_recursion(w,p,i,c):\n",
    "    if i==0:\n",
    "        if w[i]<=c:\n",
    "            return p[i]\n",
    "        else:\n",
    "            return 0\n",
    "    not_take=knapsack(w,p,i-1,c)\n",
    "    take=0\n",
    "    if (w[i]<=c):\n",
    "        take=p[i] + knapsack(w,p,i,c-w[i])\n",
    "    return max(take,not_take)"
   ]
  },
  {
   "cell_type": "code",
   "execution_count": 34,
   "id": "a68d394d",
   "metadata": {},
   "outputs": [],
   "source": [
    "def knapsack(wt, pro,n,c):\n",
    "    if n==1:\n",
    "        return pro[0]\n",
    "    mat=[[0 for i in range(c+1)] for j in range(n)]\n",
    "    for i in range(n):\n",
    "        for j in range(c+1):\n",
    "            if i==0:\n",
    "                if wt[i]<=j:\n",
    "                    mat[i][j]=pro[i]\n",
    "                else:\n",
    "                    mat[i][j]=0\n",
    "            n=mat[i-1][j]\n",
    "            t=0\n",
    "            if wt[i]<=j:\n",
    "                t=pro[i]+mat[i-1][j-wt[i]]\n",
    "            mat[i][j]=max(t,n)\n",
    "    return mat[i][j]"
   ]
  },
  {
   "cell_type": "code",
   "execution_count": 36,
   "id": "8969cdb4",
   "metadata": {},
   "outputs": [],
   "source": [
    "N = 3\n",
    "W = 4\n",
    "pro = [1,2,3]\n",
    "weight = [4,5,1]"
   ]
  },
  {
   "cell_type": "code",
   "execution_count": 39,
   "id": "610277a5",
   "metadata": {},
   "outputs": [
    {
     "data": {
      "text/plain": [
       "3"
      ]
     },
     "execution_count": 39,
     "metadata": {},
     "output_type": "execute_result"
    }
   ],
   "source": [
    "knapsack(weight,pro,N,W)"
   ]
  },
  {
   "cell_type": "code",
   "execution_count": 40,
   "id": "106db89d",
   "metadata": {},
   "outputs": [],
   "source": [
    "N = 3\n",
    "W = 3\n",
    "pro = [1,2,3]\n",
    "weight =[4,5,6]"
   ]
  },
  {
   "cell_type": "code",
   "execution_count": 41,
   "id": "44012625",
   "metadata": {},
   "outputs": [
    {
     "data": {
      "text/plain": [
       "0"
      ]
     },
     "execution_count": 41,
     "metadata": {},
     "output_type": "execute_result"
    }
   ],
   "source": [
    "knapsack(weight,pro,N,W)"
   ]
  },
  {
   "cell_type": "code",
   "execution_count": null,
   "id": "fbc6d892",
   "metadata": {},
   "outputs": [],
   "source": []
  }
 ],
 "metadata": {
  "kernelspec": {
   "display_name": "Python 3 (ipykernel)",
   "language": "python",
   "name": "python3"
  },
  "language_info": {
   "codemirror_mode": {
    "name": "ipython",
    "version": 3
   },
   "file_extension": ".py",
   "mimetype": "text/x-python",
   "name": "python",
   "nbconvert_exporter": "python",
   "pygments_lexer": "ipython3",
   "version": "3.10.6"
  }
 },
 "nbformat": 4,
 "nbformat_minor": 5
}
