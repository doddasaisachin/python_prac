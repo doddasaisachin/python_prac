{
 "cells": [
  {
   "cell_type": "markdown",
   "id": "f02f3502",
   "metadata": {},
   "source": [
    "You are given an integer n, denoting the number of people who needs to be seated, and a list of m integers seats, where 0 represents a vacant seat and 1 represents an already occupied seat.\n",
    "\n",
    "Find whether all n people can find a seat, provided that no two people can sit next to each other."
   ]
  },
  {
   "cell_type": "markdown",
   "id": "5c550c5a",
   "metadata": {},
   "source": [
    "##### Example 1:\n",
    "\n",
    "Input:\n",
    "n = 2\n",
    "m = 7\n",
    "seats[] = {0, 0, 1, 0, 0, 0, 1}\n",
    "Output:\n",
    "Yes\n",
    "Explanation:\n",
    "The two people can sit at index 0 and 4."
   ]
  },
  {
   "cell_type": "markdown",
   "id": "c537da40",
   "metadata": {},
   "source": [
    "##### Example 2:\n",
    "\n",
    "Input:\n",
    "n = 1\n",
    "m = 3\n",
    "seats[] = {0, 1, 0}\n",
    "Output:\n",
    "No\n",
    "Explanation:\n",
    "There is no way to get a seat for one person."
   ]
  },
  {
   "cell_type": "code",
   "execution_count": 1,
   "id": "532e7d9d",
   "metadata": {},
   "outputs": [],
   "source": [
    "def isempty(ele):\n",
    "    if ele==0:\n",
    "        return True\n",
    "    return False"
   ]
  },
  {
   "cell_type": "code",
   "execution_count": 66,
   "id": "bceee6b5",
   "metadata": {},
   "outputs": [],
   "source": [
    "def func(arr,m):\n",
    "    if len(arr)==1:\n",
    "        if isempty(arr[0]):\n",
    "            m=m-1\n",
    "            arr[0]=1\n",
    "        if m==0:\n",
    "            return True\n",
    "        return False\n",
    "    if len(arr)==2:\n",
    "        if arr[0]==0 and isempty(arr[1]):\n",
    "            m=m-1\n",
    "            arr[0]=1\n",
    "        if m==0:\n",
    "            return True\n",
    "        return False\n",
    "    if arr[0]==0 and isempty(arr[1]):\n",
    "        m=m-1\n",
    "        arr[0]=1\n",
    "    for i in range(1,len(arr)-1):\n",
    "        if isempty(arr[i-1]) and isempty(arr[i+1]) and isempty(arr[i]):\n",
    "            m=m-1\n",
    "            arr[i]=1\n",
    "    if isempty(arr[i]) and isempty(arr[i+1]):\n",
    "        m=m-1\n",
    "        arr[i+1]=1\n",
    "    if m<0:\n",
    "        m=0\n",
    "    if m==0:\n",
    "        return True\n",
    "    return False"
   ]
  },
  {
   "cell_type": "code",
   "execution_count": 67,
   "id": "751a3c28",
   "metadata": {},
   "outputs": [
    {
     "data": {
      "text/plain": [
       "True"
      ]
     },
     "execution_count": 67,
     "metadata": {},
     "output_type": "execute_result"
    }
   ],
   "source": [
    "func([0,0,1,0,0,0,1],2)"
   ]
  },
  {
   "cell_type": "code",
   "execution_count": 68,
   "id": "e514b223",
   "metadata": {},
   "outputs": [
    {
     "data": {
      "text/plain": [
       "False"
      ]
     },
     "execution_count": 68,
     "metadata": {},
     "output_type": "execute_result"
    }
   ],
   "source": [
    "func([0,1,0],1)"
   ]
  },
  {
   "cell_type": "code",
   "execution_count": 69,
   "id": "38677c73",
   "metadata": {},
   "outputs": [
    {
     "data": {
      "text/plain": [
       "False"
      ]
     },
     "execution_count": 69,
     "metadata": {},
     "output_type": "execute_result"
    }
   ],
   "source": [
    "func([1,0,1,0,1,0,0],2)"
   ]
  },
  {
   "cell_type": "code",
   "execution_count": 70,
   "id": "a9e16bd8",
   "metadata": {},
   "outputs": [
    {
     "data": {
      "text/plain": [
       "True"
      ]
     },
     "execution_count": 70,
     "metadata": {},
     "output_type": "execute_result"
    }
   ],
   "source": [
    "func([0,0],1)"
   ]
  },
  {
   "cell_type": "code",
   "execution_count": 71,
   "id": "d9277435",
   "metadata": {},
   "outputs": [
    {
     "data": {
      "text/plain": [
       "False"
      ]
     },
     "execution_count": 71,
     "metadata": {},
     "output_type": "execute_result"
    }
   ],
   "source": [
    "func([0,1,0],1)"
   ]
  },
  {
   "cell_type": "code",
   "execution_count": 72,
   "id": "4b70105f",
   "metadata": {},
   "outputs": [
    {
     "data": {
      "text/plain": [
       "True"
      ]
     },
     "execution_count": 72,
     "metadata": {},
     "output_type": "execute_result"
    }
   ],
   "source": [
    "func([0,0,0],2)"
   ]
  }
 ],
 "metadata": {
  "kernelspec": {
   "display_name": "Python 3 (ipykernel)",
   "language": "python",
   "name": "python3"
  },
  "language_info": {
   "codemirror_mode": {
    "name": "ipython",
    "version": 3
   },
   "file_extension": ".py",
   "mimetype": "text/x-python",
   "name": "python",
   "nbconvert_exporter": "python",
   "pygments_lexer": "ipython3",
   "version": "3.10.6"
  }
 },
 "nbformat": 4,
 "nbformat_minor": 5
}
