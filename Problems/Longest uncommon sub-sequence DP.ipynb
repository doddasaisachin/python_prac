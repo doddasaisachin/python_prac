{
 "cells": [
  {
   "cell_type": "code",
   "execution_count": 45,
   "id": "7dfc1c58",
   "metadata": {},
   "outputs": [],
   "source": [
    "def fx(a,b):\n",
    "    dp=[[0]*(len(a)+1) for i in range(len(b)+1)]\n",
    "    for i in range(1,len(b)+1):\n",
    "        for j in range(1,len(a)+1):\n",
    "            if a[j-1]==b[i-1]:\n",
    "                dp[i][j]=1+dp[i-1][j-1]\n",
    "            else:\n",
    "                dp[i][j]=max(dp[i-1][j],dp[i][j-1])\n",
    "    if dp[-1][-1]==len(a)==len(b):\n",
    "        return -1\n",
    "    return max(len(a),len(b))"
   ]
  },
  {
   "cell_type": "code",
   "execution_count": 46,
   "id": "3f551ebf",
   "metadata": {},
   "outputs": [
    {
     "data": {
      "text/plain": [
       "17"
      ]
     },
     "execution_count": 46,
     "metadata": {},
     "output_type": "execute_result"
    }
   ],
   "source": [
    "fx(\"aefawfawfawfaw\",\"aefawfeawfwafwaef\")"
   ]
  },
  {
   "cell_type": "code",
   "execution_count": null,
   "id": "ae1b8b4c",
   "metadata": {},
   "outputs": [],
   "source": []
  }
 ],
 "metadata": {
  "kernelspec": {
   "display_name": "Python 3 (ipykernel)",
   "language": "python",
   "name": "python3"
  },
  "language_info": {
   "codemirror_mode": {
    "name": "ipython",
    "version": 3
   },
   "file_extension": ".py",
   "mimetype": "text/x-python",
   "name": "python",
   "nbconvert_exporter": "python",
   "pygments_lexer": "ipython3",
   "version": "3.10.6"
  }
 },
 "nbformat": 4,
 "nbformat_minor": 5
}
