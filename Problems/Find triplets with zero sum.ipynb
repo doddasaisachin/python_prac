{
 "cells": [
  {
   "cell_type": "markdown",
   "id": "6afd3460",
   "metadata": {},
   "source": [
    "Given an array arr[] of n integers. Check whether it contains a triplet that sums up to zero. "
   ]
  },
  {
   "cell_type": "markdown",
   "id": "3885e3cb",
   "metadata": {},
   "source": [
    "##### Example 1:\n",
    "\n",
    "Input: n = 5, arr[] = {0, -1, 2, -3, 1}\n",
    "Output: 1\n",
    "Explanation: 0, -1 and 1 forms a triplet\n",
    "with sum equal to 0."
   ]
  },
  {
   "cell_type": "markdown",
   "id": "a31cd52f",
   "metadata": {},
   "source": [
    "##### Example 2:\n",
    "\n",
    "Input: n = 3, arr[] = {1, 2, 3}\n",
    "Output: 0\n",
    "Explanation: No triplet with zero sum exists. "
   ]
  },
  {
   "cell_type": "code",
   "execution_count": 19,
   "id": "7c7fed19",
   "metadata": {},
   "outputs": [],
   "source": [
    "def func(arr):\n",
    "    for i in range(len(arr)):\n",
    "        for j in range(i+1,len(arr)):\n",
    "            for k in range(j+1,len(arr)):\n",
    "                if (arr[i]+arr[j]+arr[k])==0:\n",
    "                    return True\n",
    "    return False"
   ]
  },
  {
   "cell_type": "code",
   "execution_count": 22,
   "id": "604029c8",
   "metadata": {},
   "outputs": [
    {
     "data": {
      "text/plain": [
       "True"
      ]
     },
     "execution_count": 22,
     "metadata": {},
     "output_type": "execute_result"
    }
   ],
   "source": [
    "func([0,-1,2,-3,1])"
   ]
  },
  {
   "cell_type": "code",
   "execution_count": 23,
   "id": "acb36040",
   "metadata": {},
   "outputs": [
    {
     "data": {
      "text/plain": [
       "False"
      ]
     },
     "execution_count": 23,
     "metadata": {},
     "output_type": "execute_result"
    }
   ],
   "source": [
    "func([1,2,3])"
   ]
  },
  {
   "cell_type": "code",
   "execution_count": null,
   "id": "dc6bf5c1",
   "metadata": {},
   "outputs": [],
   "source": []
  }
 ],
 "metadata": {
  "kernelspec": {
   "display_name": "Python 3 (ipykernel)",
   "language": "python",
   "name": "python3"
  },
  "language_info": {
   "codemirror_mode": {
    "name": "ipython",
    "version": 3
   },
   "file_extension": ".py",
   "mimetype": "text/x-python",
   "name": "python",
   "nbconvert_exporter": "python",
   "pygments_lexer": "ipython3",
   "version": "3.10.6"
  }
 },
 "nbformat": 4,
 "nbformat_minor": 5
}
