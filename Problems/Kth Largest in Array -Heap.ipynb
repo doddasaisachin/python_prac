{
 "cells": [
  {
   "cell_type": "markdown",
   "id": "62fdc888",
   "metadata": {},
   "source": [
    "Given an integer array nums and an integer k, return the kth largest element in the array.\n",
    "\n",
    "Note that it is the kth largest element in the sorted order, not the kth distinct element.\n",
    "\n",
    "Can you solve it without sorting?"
   ]
  },
  {
   "cell_type": "code",
   "execution_count": 1,
   "id": "281d297a",
   "metadata": {},
   "outputs": [],
   "source": [
    "\n",
    "def heapify(arr,n,i):\n",
    "    largest=i\n",
    "    left=2*i+1\n",
    "    right=2*i+2\n",
    "    if left<n and arr[left]>arr[largest]:\n",
    "        largest=left\n",
    "    if right<n and arr[right]>arr[largest]:\n",
    "        largest=right\n",
    "    if largest!=i:\n",
    "        arr[largest],arr[i]=arr[i],arr[largest]\n",
    "        heapify(arr,n,largest)\n",
    "\n",
    "def findKthLargest(nums, k: int) -> int:\n",
    "    n=len(nums)\n",
    "    for i in range(len(nums)//2-1,-1,-1):\n",
    "        heapify(nums,n,i)\n",
    "    idx=0\n",
    "    for i in range(len(nums)-1,-1,-1):\n",
    "        nums[0],nums[i]=nums[i],nums[0]\n",
    "        idx+=1\n",
    "        if idx==k:\n",
    "            return nums[i]\n",
    "        heapify(nums,i,0)"
   ]
  },
  {
   "cell_type": "code",
   "execution_count": 3,
   "id": "8ba9f003",
   "metadata": {},
   "outputs": [
    {
     "data": {
      "text/plain": [
       "4"
      ]
     },
     "execution_count": 3,
     "metadata": {},
     "output_type": "execute_result"
    }
   ],
   "source": [
    "findKthLargest(nums = [3,2,3,1,2,4,5,5,6], k = 4)"
   ]
  },
  {
   "cell_type": "code",
   "execution_count": null,
   "id": "73f22ac2",
   "metadata": {},
   "outputs": [],
   "source": []
  }
 ],
 "metadata": {
  "kernelspec": {
   "display_name": "Python 3 (ipykernel)",
   "language": "python",
   "name": "python3"
  },
  "language_info": {
   "codemirror_mode": {
    "name": "ipython",
    "version": 3
   },
   "file_extension": ".py",
   "mimetype": "text/x-python",
   "name": "python",
   "nbconvert_exporter": "python",
   "pygments_lexer": "ipython3",
   "version": "3.10.6"
  }
 },
 "nbformat": 4,
 "nbformat_minor": 5
}
