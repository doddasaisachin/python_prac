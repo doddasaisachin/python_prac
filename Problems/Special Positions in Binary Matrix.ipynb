{
 "cells": [
  {
   "cell_type": "markdown",
   "id": "e4e9fbd6",
   "metadata": {},
   "source": [
    "Given an m x n binary matrix mat, return the number of special positions in mat.\n",
    "\n",
    "A position (i, j) is called special if mat[i][j] == 1 and all other elements in row i and column j are 0 (rows and columns are 0-indexed).\n",
    "\n",
    " \n",
    "\n",
    "Example 1:\n",
    "\n",
    "Input: mat = [[1,0,0],[0,0,1],[1,0,0]]\n",
    "Output: 1\n",
    "Explanation: (1, 2) is a special position because mat[1][2] == 1 and all other elements in row 1 and column 2 are 0.\n",
    "    \n",
    "Example 2:\n",
    "\n",
    "Input: mat = [[1,0,0],[0,1,0],[0,0,1]]\n",
    "Output: 3\n",
    "Explanation: (0, 0), (1, 1) and (2, 2) are special positions."
   ]
  },
  {
   "cell_type": "code",
   "execution_count": 14,
   "id": "f2b34c50",
   "metadata": {},
   "outputs": [],
   "source": [
    "def fx(mat):\n",
    "    res=0\n",
    "    def col_check(mat,j):\n",
    "        ans=0\n",
    "        for x in range(len(mat)):\n",
    "            if mat[x][j]==1:\n",
    "                ans+=1\n",
    "                if ans>1:\n",
    "                    return False\n",
    "        return True\n",
    "    for i in range(len(mat)):\n",
    "        if mat[i].count(1)==1:\n",
    "            idx=mat[i].index(1)\n",
    "            if col_check(mat,idx):\n",
    "                res+=1\n",
    "    return res"
   ]
  },
  {
   "cell_type": "code",
   "execution_count": 15,
   "id": "a5215688",
   "metadata": {},
   "outputs": [
    {
     "data": {
      "text/plain": [
       "1"
      ]
     },
     "execution_count": 15,
     "metadata": {},
     "output_type": "execute_result"
    }
   ],
   "source": [
    "fx([[1,0,0],[0,0,1],[1,0,0]])"
   ]
  },
  {
   "cell_type": "code",
   "execution_count": 16,
   "id": "22e0d9a7",
   "metadata": {},
   "outputs": [
    {
     "data": {
      "text/plain": [
       "3"
      ]
     },
     "execution_count": 16,
     "metadata": {},
     "output_type": "execute_result"
    }
   ],
   "source": [
    "fx([[1,0,0],[0,1,0],[0,0,1]])"
   ]
  },
  {
   "cell_type": "code",
   "execution_count": null,
   "id": "fa68f3c5",
   "metadata": {},
   "outputs": [],
   "source": []
  }
 ],
 "metadata": {
  "kernelspec": {
   "display_name": "Python 3 (ipykernel)",
   "language": "python",
   "name": "python3"
  },
  "language_info": {
   "codemirror_mode": {
    "name": "ipython",
    "version": 3
   },
   "file_extension": ".py",
   "mimetype": "text/x-python",
   "name": "python",
   "nbconvert_exporter": "python",
   "pygments_lexer": "ipython3",
   "version": "3.10.6"
  }
 },
 "nbformat": 4,
 "nbformat_minor": 5
}
