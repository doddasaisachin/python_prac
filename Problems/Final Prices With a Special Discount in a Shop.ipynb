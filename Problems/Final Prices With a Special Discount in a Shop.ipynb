{
 "cells": [
  {
   "cell_type": "markdown",
   "id": "6ed29bae",
   "metadata": {},
   "source": [
    "You are given an integer array prices where prices[i] is the price of the ith item in a shop.\n",
    "\n",
    "There is a special discount for items in the shop. If you buy the ith item, then you will receive a discount equivalent to prices[j] where j is the minimum index such that j > i and prices[j] <= prices[i]. Otherwise, you will not receive any discount at all.\n",
    "\n",
    "Return an integer array answer where answer[i] is the final price you will pay for the ith item of the shop, considering the special discount.\n",
    "\n",
    " "
   ]
  },
  {
   "cell_type": "code",
   "execution_count": 2,
   "id": "6b841e7a",
   "metadata": {},
   "outputs": [],
   "source": [
    "def fx(prices):\n",
    "    for i in range(len(prices)-1):\n",
    "        for j in range(i+1,len(prices)):\n",
    "            if prices[i]>=prices[j]:\n",
    "                prices[i]-=prices[j]\n",
    "                break\n",
    "    return prices"
   ]
  },
  {
   "cell_type": "code",
   "execution_count": 3,
   "id": "cb369cfd",
   "metadata": {},
   "outputs": [
    {
     "data": {
      "text/plain": [
       "[4, 2, 4, 2, 3]"
      ]
     },
     "execution_count": 3,
     "metadata": {},
     "output_type": "execute_result"
    }
   ],
   "source": [
    "fx([8,4,6,2,3])"
   ]
  },
  {
   "cell_type": "code",
   "execution_count": null,
   "id": "c9cb86fe",
   "metadata": {},
   "outputs": [],
   "source": []
  }
 ],
 "metadata": {
  "kernelspec": {
   "display_name": "Python 3 (ipykernel)",
   "language": "python",
   "name": "python3"
  },
  "language_info": {
   "codemirror_mode": {
    "name": "ipython",
    "version": 3
   },
   "file_extension": ".py",
   "mimetype": "text/x-python",
   "name": "python",
   "nbconvert_exporter": "python",
   "pygments_lexer": "ipython3",
   "version": "3.10.6"
  }
 },
 "nbformat": 4,
 "nbformat_minor": 5
}
