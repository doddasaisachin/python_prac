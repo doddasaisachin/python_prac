{
 "cells": [
  {
   "cell_type": "markdown",
   "id": "36914848",
   "metadata": {},
   "source": [
    "Given the root of a binary search tree, and an integer k, return the kth smallest value (1-indexed) of all the values of the nodes in the tree."
   ]
  },
  {
   "cell_type": "code",
   "execution_count": 7,
   "id": "9aa8b24a",
   "metadata": {},
   "outputs": [],
   "source": [
    "class TreeNode:\n",
    "    def __init__(self, val=0, left=None, right=None):\n",
    "        self.val = val\n",
    "        self.left = left\n",
    "        self.right = right\n",
    "\n",
    "def inorder(root):\n",
    "    res=[]\n",
    "    if root.left:\n",
    "        res=res+inorder(root.left)\n",
    "    res.append(root.val)\n",
    "    if root.right:\n",
    "        res+=inorder(root.right)\n",
    "    return res\n",
    "\n",
    "def kthSmallest( root, k: int) -> int:\n",
    "    res=inorder(root)\n",
    "    return res[k-1]\n"
   ]
  },
  {
   "cell_type": "code",
   "execution_count": 8,
   "id": "b1dc8c5f",
   "metadata": {},
   "outputs": [],
   "source": [
    "obj1=TreeNode(3)\n",
    "obj1.left=TreeNode(1)\n",
    "obj1.left.right=TreeNode(2)\n",
    "obj1.right=TreeNode(4)"
   ]
  },
  {
   "cell_type": "code",
   "execution_count": 9,
   "id": "bb0e1e46",
   "metadata": {},
   "outputs": [
    {
     "data": {
      "text/plain": [
       "1"
      ]
     },
     "execution_count": 9,
     "metadata": {},
     "output_type": "execute_result"
    }
   ],
   "source": [
    "kthSmallest(obj1,1)"
   ]
  },
  {
   "cell_type": "code",
   "execution_count": null,
   "id": "657dac7e",
   "metadata": {},
   "outputs": [],
   "source": []
  }
 ],
 "metadata": {
  "kernelspec": {
   "display_name": "Python 3 (ipykernel)",
   "language": "python",
   "name": "python3"
  },
  "language_info": {
   "codemirror_mode": {
    "name": "ipython",
    "version": 3
   },
   "file_extension": ".py",
   "mimetype": "text/x-python",
   "name": "python",
   "nbconvert_exporter": "python",
   "pygments_lexer": "ipython3",
   "version": "3.10.6"
  }
 },
 "nbformat": 4,
 "nbformat_minor": 5
}
