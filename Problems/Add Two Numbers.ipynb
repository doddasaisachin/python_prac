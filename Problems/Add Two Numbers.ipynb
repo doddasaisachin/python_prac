{
 "cells": [
  {
   "cell_type": "markdown",
   "id": "c74a2d3c",
   "metadata": {},
   "source": [
    "You are given two non-empty linked lists representing two non-negative integers. The digits are stored in reverse order, and each of their nodes contains a single digit. Add the two numbers and return the sum as a linked list.\n",
    "\n",
    "You may assume the two numbers do not contain any leading zero, except the number 0 itself.\n",
    "\n",
    " \n",
    "\n",
    "##### Example 1:\n",
    "\n",
    "##### Input: l1 = [2,4,3], l2 = [5,6,4]\n",
    "##### Output: [7,0,8]\n",
    "##### Explanation: 342 + 465 = 807.\n",
    "    \n",
    "Example 2:\n",
    "\n",
    "Input: l1 = [0], l2 = [0]\n",
    "Output: [0]\n",
    "    \n",
    "Example 3:\n",
    "\n",
    "Input: l1 = [9,9,9,9,9,9,9], l2 = [9,9,9,9]\n",
    "Output: [8,9,9,9,0,0,0,1]"
   ]
  },
  {
   "cell_type": "code",
   "execution_count": 2,
   "id": "3bf0b761",
   "metadata": {},
   "outputs": [],
   "source": [
    "class ListNode:\n",
    "    def __init__(self, val=0, next=None):\n",
    "        self.val = val\n",
    "        self.next = next\n",
    "def fx(root):\n",
    "    res=[]\n",
    "    if root is None : return 0\n",
    "    temp=root\n",
    "    while temp.next is not None:\n",
    "        res.append(str(temp.val))\n",
    "        temp=temp.next\n",
    "    res.append(str(temp.val))\n",
    "    ans=''.join(res)\n",
    "    ans=ans[::-1]\n",
    "    return int(ans)\n",
    "def addTwoNumbers(l1, l2) :\n",
    "        fin=str(fx(l1)+fx(l2))[::-1]\n",
    "        root=ListNode(int(fin[0]))\n",
    "        itr=root\n",
    "        idx=1\n",
    "        while idx<len(fin):\n",
    "            temp=ListNode(int(fin[idx]))\n",
    "            itr.next=temp\n",
    "            itr=temp\n",
    "            idx+=1\n",
    "        return root "
   ]
  },
  {
   "cell_type": "code",
   "execution_count": 7,
   "id": "9442bd4a",
   "metadata": {},
   "outputs": [],
   "source": [
    "l1=ListNode(2)\n",
    "l1.next=ListNode(4)\n",
    "l1.next.next=ListNode(3)"
   ]
  },
  {
   "cell_type": "code",
   "execution_count": 8,
   "id": "adae592d",
   "metadata": {},
   "outputs": [],
   "source": [
    "l2=ListNode(5)\n",
    "l2.next=ListNode(6)\n",
    "l2.next.next=ListNode(4)"
   ]
  },
  {
   "cell_type": "code",
   "execution_count": 11,
   "id": "5e88c5bd",
   "metadata": {},
   "outputs": [
    {
     "data": {
      "text/plain": [
       "(7, 0, 8)"
      ]
     },
     "execution_count": 11,
     "metadata": {},
     "output_type": "execute_result"
    }
   ],
   "source": [
    "addTwoNumbers(l1,l2).val,addTwoNumbers(l1,l2).next.val,addTwoNumbers(l1,l2).next.next.val"
   ]
  },
  {
   "cell_type": "code",
   "execution_count": null,
   "id": "322f6f57",
   "metadata": {},
   "outputs": [],
   "source": []
  }
 ],
 "metadata": {
  "kernelspec": {
   "display_name": "Python 3 (ipykernel)",
   "language": "python",
   "name": "python3"
  },
  "language_info": {
   "codemirror_mode": {
    "name": "ipython",
    "version": 3
   },
   "file_extension": ".py",
   "mimetype": "text/x-python",
   "name": "python",
   "nbconvert_exporter": "python",
   "pygments_lexer": "ipython3",
   "version": "3.10.6"
  }
 },
 "nbformat": 4,
 "nbformat_minor": 5
}
