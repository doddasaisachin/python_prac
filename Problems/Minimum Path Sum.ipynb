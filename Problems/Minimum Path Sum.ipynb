{
 "cells": [
  {
   "cell_type": "markdown",
   "id": "f5b6dd3e",
   "metadata": {},
   "source": [
    "Given a m x n grid filled with non-negative numbers, find a path from top left to bottom right, which minimizes the sum of all numbers along its path.\n",
    "\n",
    "Note: You can only move either down or right at any point in time.\n",
    " \n",
    "##### Example 1:\n",
    "\n",
    "Input: grid = [[1,3,1],[1,5,1],[4,2,1]]\n",
    "    \n",
    "Output: 7\n",
    "    \n",
    "Explanation: Because the path 1 → 3 → 1 → 1 → 1 minimizes the sum.\n",
    "    \n",
    "##### Example 2:\n",
    "\n",
    "Input: grid = [[1,2,3],[4,5,6]]\n",
    "    \n",
    "Output: 12"
   ]
  },
  {
   "cell_type": "code",
   "execution_count": 1,
   "id": "f314309b",
   "metadata": {},
   "outputs": [],
   "source": [
    "def fx(grid):\n",
    "    dp=[[0]*len(grid[0]) for i in range(len(grid))]\n",
    "    for i in range(len(grid)):\n",
    "        if i==0:\n",
    "            dp[i][0]=grid[i][0]\n",
    "        else:\n",
    "            dp[i][0]=grid[i][0]+dp[i-1][0]\n",
    "    for i in range(len(grid[0])):\n",
    "        if i==0:\n",
    "            dp[0][i]=grid[0][i]\n",
    "        else:\n",
    "            dp[0][i]=grid[0][i]+dp[0][i-1]\n",
    "    for i in range(1,len(grid)):\n",
    "        for j in range(1,len(grid[0])):\n",
    "            dp[i][j]=grid[i][j]+min(dp[i][j-1],dp[i-1][j])\n",
    "    # print(dp)\n",
    "    return dp[-1][-1]"
   ]
  },
  {
   "cell_type": "code",
   "execution_count": 2,
   "id": "507b1b7e",
   "metadata": {},
   "outputs": [
    {
     "data": {
      "text/plain": [
       "7"
      ]
     },
     "execution_count": 2,
     "metadata": {},
     "output_type": "execute_result"
    }
   ],
   "source": [
    "fx([[1,3,1],[1,5,1],[4,2,1]])"
   ]
  },
  {
   "cell_type": "code",
   "execution_count": 3,
   "id": "a9bb3d85",
   "metadata": {},
   "outputs": [
    {
     "data": {
      "text/plain": [
       "12"
      ]
     },
     "execution_count": 3,
     "metadata": {},
     "output_type": "execute_result"
    }
   ],
   "source": [
    "fx([[1,2,3],[4,5,6]])"
   ]
  },
  {
   "cell_type": "code",
   "execution_count": null,
   "id": "319800db",
   "metadata": {},
   "outputs": [],
   "source": []
  }
 ],
 "metadata": {
  "kernelspec": {
   "display_name": "Python 3 (ipykernel)",
   "language": "python",
   "name": "python3"
  },
  "language_info": {
   "codemirror_mode": {
    "name": "ipython",
    "version": 3
   },
   "file_extension": ".py",
   "mimetype": "text/x-python",
   "name": "python",
   "nbconvert_exporter": "python",
   "pygments_lexer": "ipython3",
   "version": "3.10.6"
  }
 },
 "nbformat": 4,
 "nbformat_minor": 5
}
