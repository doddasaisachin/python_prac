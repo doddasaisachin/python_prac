{
 "cells": [
  {
   "cell_type": "markdown",
   "id": "111189e8",
   "metadata": {},
   "source": [
    "You are given an integer n indicating there are n people numbered from 0 to n - 1. You are also given a 0-indexed 2D integer array meetings where meetings[i] = [xi, yi, timei] indicates that person xi and person yi have a meeting at timei. A person may attend multiple meetings at the same time. Finally, you are given an integer firstPerson.\n",
    "\n",
    "Person 0 has a secret and initially shares the secret with a person firstPerson at time 0. This secret is then shared every time a meeting takes place with a person that has the secret. More formally, for every meeting, if a person xi has the secret at timei, then they will share the secret with person yi, and vice versa.\n",
    "\n",
    "The secrets are shared instantaneously. That is, a person may receive the secret and share it with people in other meetings within the same time frame.\n",
    "\n",
    "Return a list of all the people that have the secret after all the meetings have taken place. You may return the answer in any order."
   ]
  },
  {
   "cell_type": "code",
   "execution_count": 209,
   "id": "527657ad",
   "metadata": {},
   "outputs": [],
   "source": [
    "def fx(n,meetings,firstPerson):\n",
    "    sec = set()\n",
    "    sec.add(0)\n",
    "    sec.add(firstPerson)\n",
    "    d = dict()\n",
    "    for i in meetings:\n",
    "        if i[2] not in d.keys():\n",
    "            d[i[2]] = [[i[0], i[1]]]\n",
    "        else:\n",
    "            d[i[2]].append([i[0], i[1]])\n",
    "    sorted_idx=sorted(d)\n",
    "    new_d=dict()\n",
    "    for i in sorted_idx:\n",
    "        new_d[i]=d[i]\n",
    "#     print(new_d)\n",
    "    temp=c=len(sec)\n",
    "    for val in new_d.values():\n",
    "        while True:\n",
    "            for x,y in val:\n",
    "                if x in sec or y in sec:\n",
    "                        sec.add(x)\n",
    "                        sec.add(y)\n",
    "                        c=len(sec)\n",
    "            for x,y in val[::-1]:\n",
    "                if x in sec or y in sec:\n",
    "                    sec.add(x)\n",
    "                    sec.add(y)\n",
    "                    c=len(sec)\n",
    "            if c==temp:\n",
    "                break\n",
    "            else:\n",
    "                temp=c\n",
    "    return sec"
   ]
  },
  {
   "cell_type": "code",
   "execution_count": 210,
   "id": "8a8093f2",
   "metadata": {},
   "outputs": [
    {
     "data": {
      "text/plain": [
       "{0, 1, 2, 3, 4, 5, 6, 7, 8}"
      ]
     },
     "execution_count": 210,
     "metadata": {},
     "output_type": "execute_result"
    }
   ],
   "source": [
    "fx(9,[[8,7,1],[6,3,1],[2,1,1],[0,1,1],[3,2,1],[7,6,1],[4,2,2]],5)"
   ]
  },
  {
   "cell_type": "code",
   "execution_count": 211,
   "id": "1bd56c67",
   "metadata": {
    "scrolled": true
   },
   "outputs": [
    {
     "data": {
      "text/plain": [
       "{0, 1, 2, 3}"
      ]
     },
     "execution_count": 211,
     "metadata": {},
     "output_type": "execute_result"
    }
   ],
   "source": [
    "fx(6,[[0,2,1],[1,3,1],[4,5,1]],1)"
   ]
  },
  {
   "cell_type": "code",
   "execution_count": 212,
   "id": "3801b552",
   "metadata": {},
   "outputs": [
    {
     "data": {
      "text/plain": [
       "{0, 1, 3, 4}"
      ]
     },
     "execution_count": 212,
     "metadata": {},
     "output_type": "execute_result"
    }
   ],
   "source": [
    "fx(5,[[1,4,3],[0,4,3]],3)"
   ]
  },
  {
   "cell_type": "code",
   "execution_count": 213,
   "id": "d33314e9",
   "metadata": {},
   "outputs": [
    {
     "data": {
      "text/plain": [
       "{0, 1, 4, 5}"
      ]
     },
     "execution_count": 213,
     "metadata": {},
     "output_type": "execute_result"
    }
   ],
   "source": [
    "fx(11,[[5,1,4],[0,4,18]],1)"
   ]
  },
  {
   "cell_type": "code",
   "execution_count": 214,
   "id": "3802be4f",
   "metadata": {},
   "outputs": [
    {
     "data": {
      "text/plain": [
       "{0, 1, 2, 3, 5}"
      ]
     },
     "execution_count": 214,
     "metadata": {},
     "output_type": "execute_result"
    }
   ],
   "source": [
    "fx(n = 6, meetings = [[1,2,5],[2,3,8],[1,5,10]], firstPerson = 1)"
   ]
  },
  {
   "cell_type": "code",
   "execution_count": 215,
   "id": "7f109ec9",
   "metadata": {},
   "outputs": [
    {
     "data": {
      "text/plain": [
       "{0, 1, 3}"
      ]
     },
     "execution_count": 215,
     "metadata": {},
     "output_type": "execute_result"
    }
   ],
   "source": [
    "fx(n = 4, meetings = [[3,1,3],[1,2,2],[0,3,3]], firstPerson = 3)"
   ]
  },
  {
   "cell_type": "code",
   "execution_count": 216,
   "id": "f13a54e3",
   "metadata": {},
   "outputs": [
    {
     "data": {
      "text/plain": [
       "{0, 1, 2, 3, 4}"
      ]
     },
     "execution_count": 216,
     "metadata": {},
     "output_type": "execute_result"
    }
   ],
   "source": [
    "fx(n = 5, meetings = [[3,4,2],[1,2,1],[2,3,1]], firstPerson = 1)"
   ]
  },
  {
   "cell_type": "code",
   "execution_count": null,
   "id": "35f9d7a1",
   "metadata": {},
   "outputs": [],
   "source": []
  },
  {
   "cell_type": "code",
   "execution_count": null,
   "id": "35e87f49",
   "metadata": {},
   "outputs": [],
   "source": []
  }
 ],
 "metadata": {
  "kernelspec": {
   "display_name": "Python 3 (ipykernel)",
   "language": "python",
   "name": "python3"
  },
  "language_info": {
   "codemirror_mode": {
    "name": "ipython",
    "version": 3
   },
   "file_extension": ".py",
   "mimetype": "text/x-python",
   "name": "python",
   "nbconvert_exporter": "python",
   "pygments_lexer": "ipython3",
   "version": "3.10.6"
  }
 },
 "nbformat": 4,
 "nbformat_minor": 5
}
