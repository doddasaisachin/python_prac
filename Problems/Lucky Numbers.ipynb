{
 "cells": [
  {
   "cell_type": "markdown",
   "id": "9f4db6f5",
   "metadata": {},
   "source": [
    "Lucky numbers are subset of integers. Rather than going into much theory, let us see the process of arriving at lucky numbers,\n",
    "Take the set of integers\n",
    "1, 2, 3, 4, 5, 6, 7, 8, 9, 10, 11, 12, 13, 14, 15, 16, 17, 18, 19,……\n",
    "First, delete every second number, we get following reduced set.\n",
    "1, 3, 5, 7, 9, 11, 13, 15, 17, 19,…………\n",
    "Now, delete every third number, we get\n",
    "1, 3, 7, 9, 13, 15, 19,….….\n",
    "Continue this process indefinitely……\n",
    "Any number that does NOT get deleted due to above process is called “lucky”.\n",
    "\n",
    "You are given a number N, you need to tell whether the number is lucky or not. If the number is lucky return 1 otherwise 0."
   ]
  },
  {
   "cell_type": "markdown",
   "id": "41ab6284",
   "metadata": {},
   "source": [
    "### Example 1:\n",
    "\n",
    "Input:\n",
    "N = 5\n",
    "Output: 0\n",
    "Explanation: 5 is not a lucky number \n",
    "as it gets deleted in the second \n",
    "iteration.\n",
    "\n",
    "\n",
    "### Example 2:\n",
    "\n",
    "Input:\n",
    "N = 19\n",
    "Output: 1\n",
    "Explanation: 19 is a lucky number because \n",
    "it does not get deleted throughout the process"
   ]
  },
  {
   "cell_type": "code",
   "execution_count": 55,
   "id": "7eb678aa",
   "metadata": {},
   "outputs": [],
   "source": [
    "from typing import List\n",
    "import math"
   ]
  },
  {
   "cell_type": "code",
   "execution_count": 56,
   "id": "06131353",
   "metadata": {},
   "outputs": [],
   "source": [
    "def function(n:int) -> bool:\n",
    "    array=[i for i in range(1,n+2)]\n",
    "    temp=2\n",
    "    if n==1:\n",
    "        return 1\n",
    "    while temp<=math.ceil(math.sqrt(n))+1:\n",
    "        idx=0\n",
    "        cur=[]\n",
    "        while idx<len(array):\n",
    "            if (idx+1)%temp!=0:\n",
    "                cur.append(array[idx])\n",
    "            idx+=1\n",
    "        array=cur\n",
    "        temp+=1\n",
    "    if array[-1]==n:\n",
    "        return True\n",
    "    return False"
   ]
  },
  {
   "cell_type": "code",
   "execution_count": 57,
   "id": "6b98bf65",
   "metadata": {},
   "outputs": [
    {
     "data": {
      "text/plain": [
       "True"
      ]
     },
     "execution_count": 57,
     "metadata": {},
     "output_type": "execute_result"
    }
   ],
   "source": [
    "function(19)"
   ]
  },
  {
   "cell_type": "code",
   "execution_count": 58,
   "id": "21aa5318",
   "metadata": {},
   "outputs": [
    {
     "data": {
      "text/plain": [
       "False"
      ]
     },
     "execution_count": 58,
     "metadata": {},
     "output_type": "execute_result"
    }
   ],
   "source": [
    "function(5)"
   ]
  }
 ],
 "metadata": {
  "kernelspec": {
   "display_name": "Python 3 (ipykernel)",
   "language": "python",
   "name": "python3"
  },
  "language_info": {
   "codemirror_mode": {
    "name": "ipython",
    "version": 3
   },
   "file_extension": ".py",
   "mimetype": "text/x-python",
   "name": "python",
   "nbconvert_exporter": "python",
   "pygments_lexer": "ipython3",
   "version": "3.10.6"
  }
 },
 "nbformat": 4,
 "nbformat_minor": 5
}
