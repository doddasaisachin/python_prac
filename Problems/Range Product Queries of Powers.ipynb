{
 "cells": [
  {
   "cell_type": "markdown",
   "id": "128f89ea",
   "metadata": {},
   "source": [
    "Given a positive integer n, there exists a 0-indexed array called powers, composed of the minimum number of powers of 2 that sum to n. The array is sorted in non-decreasing order, and there is only one way to form the array.\n",
    "\n",
    "You are also given a 0-indexed 2D integer array queries, where queries[i] = [lefti, righti]. Each queries[i] represents a query where you have to find the product of all powers[j] with lefti <= j <= righti.\n",
    "\n",
    "Return an array answers, equal in length to queries, where answers[i] is the answer to the ith query. Since the answer to the ith query may be too large, each answers[i] should be returned modulo 109 + 7."
   ]
  },
  {
   "cell_type": "code",
   "execution_count": 3,
   "id": "705824f4",
   "metadata": {},
   "outputs": [],
   "source": [
    "from math import log2 as log"
   ]
  },
  {
   "cell_type": "code",
   "execution_count": 16,
   "id": "56eb40cf",
   "metadata": {},
   "outputs": [],
   "source": [
    "def fx(n,queries):\n",
    "    arr=[]\n",
    "    while n>0:\n",
    "        q=int(log(n))\n",
    "        p=2**q\n",
    "        arr.append(p)\n",
    "        n=n-p\n",
    "    arr=arr[::-1]\n",
    "    ans=[]\n",
    "    for x,y in queries:\n",
    "        temp=1\n",
    "        for val in arr[x:y+1]:\n",
    "            temp=temp*val\n",
    "        ans.append(temp)\n",
    "    return ans"
   ]
  },
  {
   "cell_type": "code",
   "execution_count": 17,
   "id": "c9631495",
   "metadata": {},
   "outputs": [
    {
     "data": {
      "text/plain": [
       "[2, 4, 64]"
      ]
     },
     "execution_count": 17,
     "metadata": {},
     "output_type": "execute_result"
    }
   ],
   "source": [
    "fx(15,[[0,1],[2,2],[0,3]])"
   ]
  },
  {
   "cell_type": "code",
   "execution_count": 19,
   "id": "7c0c4c7f",
   "metadata": {},
   "outputs": [
    {
     "data": {
      "text/plain": [
       "[2]"
      ]
     },
     "execution_count": 19,
     "metadata": {},
     "output_type": "execute_result"
    }
   ],
   "source": [
    "fx(2,[[0,0]])"
   ]
  },
  {
   "cell_type": "code",
   "execution_count": null,
   "id": "d64d0d83",
   "metadata": {},
   "outputs": [],
   "source": []
  }
 ],
 "metadata": {
  "kernelspec": {
   "display_name": "Python 3 (ipykernel)",
   "language": "python",
   "name": "python3"
  },
  "language_info": {
   "codemirror_mode": {
    "name": "ipython",
    "version": 3
   },
   "file_extension": ".py",
   "mimetype": "text/x-python",
   "name": "python",
   "nbconvert_exporter": "python",
   "pygments_lexer": "ipython3",
   "version": "3.10.6"
  }
 },
 "nbformat": 4,
 "nbformat_minor": 5
}
