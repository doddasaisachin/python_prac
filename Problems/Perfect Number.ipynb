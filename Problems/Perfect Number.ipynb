{
 "cells": [
  {
   "cell_type": "markdown",
   "id": "bd395acd",
   "metadata": {},
   "source": [
    "A perfect number is a positive integer that is equal to the sum of its positive divisors, excluding the number itself. A divisor of an integer x is an integer that can divide x evenly.\n",
    "\n",
    "Given an integer n, return true if n is a perfect number, otherwise return false.\n",
    "\n",
    " \n",
    "\n",
    "Example 1:\n",
    "\n",
    "Input: num = 28\n",
    "Output: true\n",
    "Explanation: 28 = 1 + 2 + 4 + 7 + 14\n",
    "1, 2, 4, 7, and 14 are all divisors of 28.\n",
    "\n",
    "Example 2:\n",
    "\n",
    "Input: num = 7\n",
    "Output: false"
   ]
  },
  {
   "cell_type": "code",
   "execution_count": 1,
   "id": "27819ca4",
   "metadata": {},
   "outputs": [],
   "source": [
    "import math\n",
    "def fx(num):\n",
    "    ans=1\n",
    "    if num==1:\n",
    "        return False\n",
    "    for i in range(2,math.ceil(math.sqrt(num))):\n",
    "        if num%i==0:\n",
    "            ans+=i+num//i\n",
    "    return ans==num"
   ]
  },
  {
   "cell_type": "code",
   "execution_count": 2,
   "id": "88c97db8",
   "metadata": {},
   "outputs": [
    {
     "data": {
      "text/plain": [
       "False"
      ]
     },
     "execution_count": 2,
     "metadata": {},
     "output_type": "execute_result"
    }
   ],
   "source": [
    "fx(7)"
   ]
  },
  {
   "cell_type": "code",
   "execution_count": 3,
   "id": "15ebd7f3",
   "metadata": {},
   "outputs": [
    {
     "data": {
      "text/plain": [
       "True"
      ]
     },
     "execution_count": 3,
     "metadata": {},
     "output_type": "execute_result"
    }
   ],
   "source": [
    "fx(28)"
   ]
  },
  {
   "cell_type": "code",
   "execution_count": null,
   "id": "76d5fdce",
   "metadata": {},
   "outputs": [],
   "source": []
  }
 ],
 "metadata": {
  "kernelspec": {
   "display_name": "Python 3 (ipykernel)",
   "language": "python",
   "name": "python3"
  },
  "language_info": {
   "codemirror_mode": {
    "name": "ipython",
    "version": 3
   },
   "file_extension": ".py",
   "mimetype": "text/x-python",
   "name": "python",
   "nbconvert_exporter": "python",
   "pygments_lexer": "ipython3",
   "version": "3.10.6"
  }
 },
 "nbformat": 4,
 "nbformat_minor": 5
}
