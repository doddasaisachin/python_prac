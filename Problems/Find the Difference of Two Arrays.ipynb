{
 "cells": [
  {
   "cell_type": "markdown",
   "id": "5a1f2c57",
   "metadata": {},
   "source": [
    "Given two 0-indexed integer arrays nums1 and nums2, return a list answer of size 2 where:\n",
    "\n",
    "* answer[0] is a list of all distinct integers in nums1 which are not present in nums2.\n",
    "* answer[1] is a list of all distinct integers in nums2 which are not present in nums1.\n",
    "\n",
    "Note that the integers in the lists may be returned in any order."
   ]
  },
  {
   "cell_type": "code",
   "execution_count": 9,
   "id": "3b13bcc8",
   "metadata": {},
   "outputs": [],
   "source": [
    "def fx(nums1,nums2):\n",
    "    a,b=set(nums1),set(nums2)\n",
    "    return [list(a.difference(b)),list(b.difference(a))]"
   ]
  },
  {
   "cell_type": "code",
   "execution_count": 11,
   "id": "65d2be38",
   "metadata": {},
   "outputs": [
    {
     "data": {
      "text/plain": [
       "[[3, 4], []]"
      ]
     },
     "execution_count": 11,
     "metadata": {},
     "output_type": "execute_result"
    }
   ],
   "source": [
    "fx([1,2,3,4],[1,1,2,2])"
   ]
  },
  {
   "cell_type": "code",
   "execution_count": null,
   "id": "8141eb87",
   "metadata": {},
   "outputs": [],
   "source": []
  }
 ],
 "metadata": {
  "kernelspec": {
   "display_name": "Python 3 (ipykernel)",
   "language": "python",
   "name": "python3"
  },
  "language_info": {
   "codemirror_mode": {
    "name": "ipython",
    "version": 3
   },
   "file_extension": ".py",
   "mimetype": "text/x-python",
   "name": "python",
   "nbconvert_exporter": "python",
   "pygments_lexer": "ipython3",
   "version": "3.10.6"
  }
 },
 "nbformat": 4,
 "nbformat_minor": 5
}
