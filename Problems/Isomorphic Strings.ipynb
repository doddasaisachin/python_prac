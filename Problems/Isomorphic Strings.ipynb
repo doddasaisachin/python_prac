{
 "cells": [
  {
   "cell_type": "code",
   "execution_count": 36,
   "id": "0f14d4ca",
   "metadata": {},
   "outputs": [],
   "source": [
    "def isomorphic(a,b):\n",
    "    d=dict()\n",
    "    if len(a)!=len(b):\n",
    "        return False\n",
    "    for i in range(len(a)):\n",
    "        if a[i] not in d.keys():\n",
    "            d[a[i]]=b[i]\n",
    "        else:\n",
    "            if d[a[i]]!=b[i]:\n",
    "                return False\n",
    "    return True"
   ]
  },
  {
   "cell_type": "code",
   "execution_count": 37,
   "id": "7e242253",
   "metadata": {},
   "outputs": [
    {
     "data": {
      "text/plain": [
       "True"
      ]
     },
     "execution_count": 37,
     "metadata": {},
     "output_type": "execute_result"
    }
   ],
   "source": [
    "isomorphic('paper','totle')"
   ]
  },
  {
   "cell_type": "code",
   "execution_count": 39,
   "id": "49498b9a",
   "metadata": {},
   "outputs": [
    {
     "data": {
      "text/plain": [
       "False"
      ]
     },
     "execution_count": 39,
     "metadata": {},
     "output_type": "execute_result"
    }
   ],
   "source": [
    "isomorphic('egg','bpt')"
   ]
  },
  {
   "cell_type": "code",
   "execution_count": null,
   "id": "b948b914",
   "metadata": {},
   "outputs": [],
   "source": []
  }
 ],
 "metadata": {
  "kernelspec": {
   "display_name": "Python 3 (ipykernel)",
   "language": "python",
   "name": "python3"
  },
  "language_info": {
   "codemirror_mode": {
    "name": "ipython",
    "version": 3
   },
   "file_extension": ".py",
   "mimetype": "text/x-python",
   "name": "python",
   "nbconvert_exporter": "python",
   "pygments_lexer": "ipython3",
   "version": "3.10.6"
  }
 },
 "nbformat": 4,
 "nbformat_minor": 5
}
