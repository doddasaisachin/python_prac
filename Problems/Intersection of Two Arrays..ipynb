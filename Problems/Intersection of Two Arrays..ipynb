{
 "cells": [
  {
   "cell_type": "markdown",
   "id": "73a8b803",
   "metadata": {},
   "source": [
    "Given two integer arrays nums1 and nums2, return an array of their intersection. Each element in the result must be unique and you may return the result in any order.\n",
    "\n",
    " \n",
    "\n",
    "Example 1:\n",
    "\n",
    "Input: nums1 = [1,2,2,1], nums2 = [2,2]\n",
    "Output: [2]\n",
    "    \n",
    "Example 2:\n",
    "\n",
    "Input: nums1 = [4,9,5], nums2 = [9,4,9,8,4]\n",
    "Output: [9,4]\n",
    "Explanation: [4,9] is also accepted."
   ]
  },
  {
   "cell_type": "code",
   "execution_count": 2,
   "id": "a82c2ceb",
   "metadata": {},
   "outputs": [],
   "source": [
    "def func(num1,num2):\n",
    "    return list(set(num1)&(set(num2)))"
   ]
  },
  {
   "cell_type": "code",
   "execution_count": 4,
   "id": "4f164394",
   "metadata": {},
   "outputs": [
    {
     "data": {
      "text/plain": [
       "[2]"
      ]
     },
     "execution_count": 4,
     "metadata": {},
     "output_type": "execute_result"
    }
   ],
   "source": [
    "func(num1 = [1,2,2,1], num2 = [2,2])"
   ]
  },
  {
   "cell_type": "code",
   "execution_count": 5,
   "id": "399ab8b3",
   "metadata": {},
   "outputs": [
    {
     "data": {
      "text/plain": [
       "[9, 4]"
      ]
     },
     "execution_count": 5,
     "metadata": {},
     "output_type": "execute_result"
    }
   ],
   "source": [
    "func([4,9,5], num2 = [9,4,9,8,4])"
   ]
  }
 ],
 "metadata": {
  "kernelspec": {
   "display_name": "Python 3 (ipykernel)",
   "language": "python",
   "name": "python3"
  },
  "language_info": {
   "codemirror_mode": {
    "name": "ipython",
    "version": 3
   },
   "file_extension": ".py",
   "mimetype": "text/x-python",
   "name": "python",
   "nbconvert_exporter": "python",
   "pygments_lexer": "ipython3",
   "version": "3.10.6"
  }
 },
 "nbformat": 4,
 "nbformat_minor": 5
}
