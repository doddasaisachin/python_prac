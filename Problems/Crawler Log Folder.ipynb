{
 "cells": [
  {
   "cell_type": "markdown",
   "id": "b6501f56",
   "metadata": {},
   "source": [
    "The Leetcode file system keeps a log each time some user performs a change folder operation.\n",
    "\n",
    "The operations are described below:\n",
    "\n",
    "\"../\" : Move to the parent folder of the current folder. (If you are already in the main folder, remain in the same folder).\n",
    "\"./\" : Remain in the same folder.\n",
    "\"x/\" : Move to the child folder named x (This folder is guaranteed to always exist).\n",
    "You are given a list of strings logs where logs[i] is the operation performed by the user at the ith step.\n",
    "\n",
    "The file system starts in the main folder, then the operations in logs are performed.\n",
    "\n",
    "Return the minimum number of operations needed to go back to the main folder after the change folder operations."
   ]
  },
  {
   "cell_type": "code",
   "execution_count": 1,
   "id": "33450503",
   "metadata": {},
   "outputs": [],
   "source": [
    "def minOperations(logs) -> int:\n",
    "    stack=[]\n",
    "    for i in logs:\n",
    "        if i=='../':\n",
    "            if len(stack)>0:\n",
    "                stack.pop()\n",
    "        elif i[0]=='.':\n",
    "            pass\n",
    "        else:\n",
    "            stack.append(i)\n",
    "    # print(stack)\n",
    "    return len(stack)"
   ]
  },
  {
   "cell_type": "code",
   "execution_count": null,
   "id": "8369d72d",
   "metadata": {},
   "outputs": [],
   "source": []
  }
 ],
 "metadata": {
  "kernelspec": {
   "display_name": "Python 3 (ipykernel)",
   "language": "python",
   "name": "python3"
  },
  "language_info": {
   "codemirror_mode": {
    "name": "ipython",
    "version": 3
   },
   "file_extension": ".py",
   "mimetype": "text/x-python",
   "name": "python",
   "nbconvert_exporter": "python",
   "pygments_lexer": "ipython3",
   "version": "3.11.7"
  }
 },
 "nbformat": 4,
 "nbformat_minor": 5
}
