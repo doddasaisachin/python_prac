{
 "cells": [
  {
   "cell_type": "markdown",
   "id": "7f0df635",
   "metadata": {},
   "source": [
    "Given an array A of N elements. Find the majority element in the array. A majority element in an array A of size N is an element that appears more than N/2 times in the array.\n",
    " "
   ]
  },
  {
   "cell_type": "markdown",
   "id": "fc1b4ac6",
   "metadata": {},
   "source": [
    "#### Example 1:\n",
    "\n",
    "Input:\n",
    "N = 3 \n",
    "A[] = {1,2,3} \n",
    "\n",
    "Output:\n",
    "-1\n",
    "\n",
    "Explanation:\n",
    "Since, each element in \n",
    "{1,2,3} appears only once so there \n",
    "is no majority element."
   ]
  },
  {
   "cell_type": "markdown",
   "id": "94622889",
   "metadata": {},
   "source": [
    "#### Example 2:\n",
    "\n",
    "Input:\n",
    "N = 5 \n",
    "A[] = {3,1,3,3,2} \n",
    "\n",
    "Output:\n",
    "3\n",
    "\n",
    "Explanation:\n",
    "Since, 3 is present more\n",
    "than N/2 times, so it is \n",
    "the majority element."
   ]
  },
  {
   "cell_type": "code",
   "execution_count": 71,
   "id": "e2683413",
   "metadata": {},
   "outputs": [],
   "source": [
    "\n",
    "def func(n,arr):\n",
    "    limit=n/2\n",
    "    for i in arr:\n",
    "        count=0\n",
    "        for j in arr:\n",
    "            if i==j:\n",
    "                count+=1\n",
    "            if count>limit:\n",
    "                return i\n",
    "    return -1"
   ]
  },
  {
   "cell_type": "code",
   "execution_count": 77,
   "id": "f5dadcb4",
   "metadata": {},
   "outputs": [],
   "source": [
    "arr=[1,3,3,2,3]"
   ]
  },
  {
   "cell_type": "code",
   "execution_count": 89,
   "id": "6a5bac69",
   "metadata": {},
   "outputs": [
    {
     "data": {
      "text/plain": [
       "3"
      ]
     },
     "execution_count": 89,
     "metadata": {},
     "output_type": "execute_result"
    }
   ],
   "source": [
    "func(len(arr),arr)"
   ]
  },
  {
   "cell_type": "code",
   "execution_count": 90,
   "id": "0fd0044c",
   "metadata": {},
   "outputs": [
    {
     "data": {
      "text/plain": [
       "-1"
      ]
     },
     "execution_count": 90,
     "metadata": {},
     "output_type": "execute_result"
    }
   ],
   "source": [
    "func(3,[1,2,3])"
   ]
  },
  {
   "cell_type": "code",
   "execution_count": 91,
   "id": "48031dd7",
   "metadata": {},
   "outputs": [
    {
     "data": {
      "text/plain": [
       "1"
      ]
     },
     "execution_count": 91,
     "metadata": {},
     "output_type": "execute_result"
    }
   ],
   "source": [
    "func(6,[1,2,1,1,1,2])"
   ]
  }
 ],
 "metadata": {
  "kernelspec": {
   "display_name": "Python 3 (ipykernel)",
   "language": "python",
   "name": "python3"
  },
  "language_info": {
   "codemirror_mode": {
    "name": "ipython",
    "version": 3
   },
   "file_extension": ".py",
   "mimetype": "text/x-python",
   "name": "python",
   "nbconvert_exporter": "python",
   "pygments_lexer": "ipython3",
   "version": "3.10.6"
  }
 },
 "nbformat": 4,
 "nbformat_minor": 5
}
