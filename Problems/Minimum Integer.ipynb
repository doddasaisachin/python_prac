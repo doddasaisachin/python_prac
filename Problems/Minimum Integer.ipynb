{
 "cells": [
  {
   "cell_type": "markdown",
   "id": "b4fc6a88",
   "metadata": {},
   "source": [
    "You are given an array A of size N. Let us denote S as the sum of all integers present in the array. Among all integers present in the array, find the minimum integer X such that S ≤ N*X."
   ]
  },
  {
   "cell_type": "markdown",
   "id": "67678844",
   "metadata": {},
   "source": [
    "#### Example 1:\n",
    "\n",
    "Input:\n",
    "N = 3,\n",
    "A = { 1, 3, 2}\n",
    "\n",
    "Output:\n",
    "2\n",
    "\n",
    "Explanation:\n",
    "Sum of integers in the array is 6.\n",
    "since 6 ≤ 3*2, therefore 2 is the answer."
   ]
  },
  {
   "cell_type": "markdown",
   "id": "36782863",
   "metadata": {},
   "source": [
    "#### Example 2:\n",
    "\n",
    "Input:\n",
    "N = 1,\n",
    "A = { 3 }\n",
    "\n",
    "Output:\n",
    "3\n",
    "\n",
    "Explanation:\n",
    "3 is the only possible answer"
   ]
  },
  {
   "cell_type": "code",
   "execution_count": 10,
   "id": "0c9c92d3",
   "metadata": {},
   "outputs": [],
   "source": [
    "def func(n,arr):\n",
    "    res=[]\n",
    "    s=sum(arr)\n",
    "    for i in range(n):\n",
    "        if (arr[i]*n )>=s:\n",
    "            res.append(arr[i])\n",
    "    return min(res)"
   ]
  },
  {
   "cell_type": "code",
   "execution_count": 11,
   "id": "1b712e37",
   "metadata": {},
   "outputs": [
    {
     "data": {
      "text/plain": [
       "2"
      ]
     },
     "execution_count": 11,
     "metadata": {},
     "output_type": "execute_result"
    }
   ],
   "source": [
    "func(3,[1,3,2])"
   ]
  },
  {
   "cell_type": "code",
   "execution_count": 12,
   "id": "c81c48cf",
   "metadata": {},
   "outputs": [
    {
     "data": {
      "text/plain": [
       "3"
      ]
     },
     "execution_count": 12,
     "metadata": {},
     "output_type": "execute_result"
    }
   ],
   "source": [
    "func(1,[3])"
   ]
  }
 ],
 "metadata": {
  "kernelspec": {
   "display_name": "Python 3 (ipykernel)",
   "language": "python",
   "name": "python3"
  },
  "language_info": {
   "codemirror_mode": {
    "name": "ipython",
    "version": 3
   },
   "file_extension": ".py",
   "mimetype": "text/x-python",
   "name": "python",
   "nbconvert_exporter": "python",
   "pygments_lexer": "ipython3",
   "version": "3.10.6"
  }
 },
 "nbformat": 4,
 "nbformat_minor": 5
}
