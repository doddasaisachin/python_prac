{
 "cells": [
  {
   "cell_type": "markdown",
   "id": "bb630380",
   "metadata": {},
   "source": [
    "Given an array of points where points[i] = [xi, yi] represents a point on the X-Y plane and an integer k, return the k closest points to the origin (0, 0).\n",
    "\n",
    "The distance between two points on the X-Y plane is the Euclidean distance (i.e., √(x1 - x2)2 + (y1 - y2)2).\n",
    "\n",
    "You may return the answer in any order. The answer is guaranteed to be unique (except for the order that it is in)."
   ]
  },
  {
   "cell_type": "code",
   "execution_count": 1,
   "id": "941e3cfa",
   "metadata": {},
   "outputs": [],
   "source": [
    "import math\n",
    "def dist(x):\n",
    "    x1,y1=x[0],x[1]\n",
    "    return math.sqrt((x1)**2+(y1)**2)\n",
    "\n",
    "def kClosest(points, k: int) :\n",
    "    d=dict()\n",
    "    arr=[]\n",
    "    for i in points:\n",
    "        arr.append((i,dist(i)))\n",
    "    temp=sorted(arr,key=lambda x:x[1])\n",
    "    ans=temp[:k]\n",
    "    res=[]\n",
    "    for i in ans:\n",
    "        res.append(i[0])\n",
    "    return res"
   ]
  },
  {
   "cell_type": "code",
   "execution_count": 2,
   "id": "b3cb2c7b",
   "metadata": {},
   "outputs": [
    {
     "data": {
      "text/plain": [
       "[[3, 3], [-2, 4]]"
      ]
     },
     "execution_count": 2,
     "metadata": {},
     "output_type": "execute_result"
    }
   ],
   "source": [
    "kClosest([[3,3],[5,-1],[-2,4]], k = 2)"
   ]
  },
  {
   "cell_type": "code",
   "execution_count": null,
   "id": "b3d78e04",
   "metadata": {},
   "outputs": [],
   "source": []
  }
 ],
 "metadata": {
  "kernelspec": {
   "display_name": "Python 3 (ipykernel)",
   "language": "python",
   "name": "python3"
  },
  "language_info": {
   "codemirror_mode": {
    "name": "ipython",
    "version": 3
   },
   "file_extension": ".py",
   "mimetype": "text/x-python",
   "name": "python",
   "nbconvert_exporter": "python",
   "pygments_lexer": "ipython3",
   "version": "3.11.7"
  }
 },
 "nbformat": 4,
 "nbformat_minor": 5
}
