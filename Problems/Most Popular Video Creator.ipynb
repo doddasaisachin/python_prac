{
 "cells": [
  {
   "cell_type": "markdown",
   "id": "e419f32e",
   "metadata": {},
   "source": [
    "You are given two string arrays creators and ids, and an integer array views, all of length n. The ith video on a platform was created by creator[i], has an id of ids[i], and has views[i] views.\n",
    "\n",
    "The popularity of a creator is the sum of the number of views on all of the creator's videos. Find the creator with the highest popularity and the id of their most viewed video.\n",
    "\n",
    "If multiple creators have the highest popularity, find all of them.\n",
    "If multiple videos have the highest view count for a creator, find the lexicographically smallest id.\n",
    "Return a 2D array of strings answer where answer[i] = [creatori, idi] means that creatori has the highest popularity and idi is the id of their most popular video. The answer can be returned in any order."
   ]
  },
  {
   "cell_type": "code",
   "execution_count": 138,
   "id": "1d4be4e8",
   "metadata": {},
   "outputs": [],
   "source": [
    "def fx(creators,views,ids):\n",
    "    d=dict()\n",
    "    for i in range(len(creators)):\n",
    "        if creators[i] not in d.keys():\n",
    "            d[creators[i]]=[[ views[i],ids[i],views[i] ]]\n",
    "        else:\n",
    "            tot=d[creators[i]][-1][-1]+views[i]\n",
    "            d[creators[i]].append([ views[i],ids[i],tot ])\n",
    "    x=sorted(d,key=lambda x:d[x][-1][-1],reverse=True)\n",
    "    check=d[x[0]][-1][-1]\n",
    "    res=[]\n",
    "    for i in x:\n",
    "        if d[i][-1][-1]==check:\n",
    "            res.append([i,None])\n",
    "    idx=0\n",
    "    for key,x in res:\n",
    "        temp=d[key]\n",
    "        arr=sorted(temp,key=lambda x : x[0],reverse=True)\n",
    "        chick=arr[0][0]\n",
    "        final=[]\n",
    "        for x,y,z in arr:\n",
    "            if x==chick:\n",
    "                final.append(y)\n",
    "            else:\n",
    "                break\n",
    "        final.sort()\n",
    "        res[idx][1]=final[0]\n",
    "        idx+=1\n",
    "    return res"
   ]
  },
  {
   "cell_type": "code",
   "execution_count": 139,
   "id": "d7cb7d5c",
   "metadata": {},
   "outputs": [
    {
     "data": {
      "text/plain": [
       "[['a', 'a']]"
      ]
     },
     "execution_count": 139,
     "metadata": {},
     "output_type": "execute_result"
    }
   ],
   "source": [
    "fx([\"a\",\"a\"],[5,5],[\"aa\",\"a\"])"
   ]
  },
  {
   "cell_type": "code",
   "execution_count": 140,
   "id": "d10954d9",
   "metadata": {},
   "outputs": [
    {
     "data": {
      "text/plain": [
       "[['d', 'f']]"
      ]
     },
     "execution_count": 140,
     "metadata": {},
     "output_type": "execute_result"
    }
   ],
   "source": [
    "fx(creat,view,idss)"
   ]
  },
  {
   "cell_type": "code",
   "execution_count": 141,
   "id": "fd34a72b",
   "metadata": {},
   "outputs": [
    {
     "data": {
      "text/plain": [
       "[['alice', 'one'], ['bob', 'two']]"
      ]
     },
     "execution_count": 141,
     "metadata": {},
     "output_type": "execute_result"
    }
   ],
   "source": [
    "fx(creators = [\"alice\",\"bob\",\"alice\",\"chris\"],\n",
    "   ids = [\"one\",\"two\",\"three\",\"four\"],\n",
    "   views = [5,10,5,4])"
   ]
  },
  {
   "cell_type": "code",
   "execution_count": 142,
   "id": "4646c43d",
   "metadata": {},
   "outputs": [
    {
     "data": {
      "text/plain": [
       "[['alice', 'b']]"
      ]
     },
     "execution_count": 142,
     "metadata": {},
     "output_type": "execute_result"
    }
   ],
   "source": [
    "fx(creators = [\"alice\",\"alice\",\"alice\"], ids = [\"a\",\"b\",\"c\"], views = [1,2,2])"
   ]
  },
  {
   "cell_type": "code",
   "execution_count": null,
   "id": "b5a4219f",
   "metadata": {},
   "outputs": [],
   "source": []
  },
  {
   "cell_type": "code",
   "execution_count": null,
   "id": "efeefbcc",
   "metadata": {},
   "outputs": [],
   "source": []
  }
 ],
 "metadata": {
  "kernelspec": {
   "display_name": "Python 3 (ipykernel)",
   "language": "python",
   "name": "python3"
  },
  "language_info": {
   "codemirror_mode": {
    "name": "ipython",
    "version": 3
   },
   "file_extension": ".py",
   "mimetype": "text/x-python",
   "name": "python",
   "nbconvert_exporter": "python",
   "pygments_lexer": "ipython3",
   "version": "3.10.6"
  }
 },
 "nbformat": 4,
 "nbformat_minor": 5
}
