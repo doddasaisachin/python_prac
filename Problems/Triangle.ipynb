{
 "cells": [
  {
   "cell_type": "markdown",
   "id": "54980c28",
   "metadata": {},
   "source": [
    "Given a triangle array, return the minimum path sum from top to bottom.\n",
    "\n",
    "For each step, you may move to an adjacent number of the row below. More formally, if you are on index i on the current row, you may move to either index i or index i + 1 on the next row.\n",
    "\n",
    " \n",
    "\n",
    "Example 1:\n",
    "\n",
    "Input: triangle = [[2],[3,4],[6,5,7],[4,1,8,3]] Output: 11\n",
    "\n",
    "\n",
    "Example 2:\n",
    "\n",
    "Input: triangle = [[-10]]\n",
    "Output: -10\n",
    " "
   ]
  },
  {
   "cell_type": "raw",
   "id": "dc5ff3a4",
   "metadata": {},
   "source": [
    "Example 1:\n",
    "\n",
    "Input: triangle = [[2],[3,4],[6,5,7],[4,1,8,3]]\n",
    "Output: 11\n",
    "Explanation: The triangle looks like:\n",
    "   2\n",
    "  3 4\n",
    " 6 5 7\n",
    "4 1 8 3\n",
    "The minimum path sum from top to bottom is 2 + 3 + 5 + 1 = 11 ."
   ]
  },
  {
   "cell_type": "code",
   "execution_count": 115,
   "id": "27ec691a",
   "metadata": {},
   "outputs": [],
   "source": [
    "def fx(triangle):\n",
    "    dp=triangle\n",
    "    for i in range(1,len(dp)):\n",
    "        dp[i][0]=dp[i][0]+dp[i-1][0]\n",
    "        dp[i][-1]=dp[i][-1]+dp[i-1][-1]\n",
    "    for i in range(2,len(dp)):\n",
    "        for j in range(1,i):\n",
    "            dp[i][j]+=min(dp[i-1][j],dp[i-1][j-1])\n",
    "    return min(dp[-1])"
   ]
  },
  {
   "cell_type": "code",
   "execution_count": 116,
   "id": "761a68e1",
   "metadata": {},
   "outputs": [
    {
     "data": {
      "text/plain": [
       "11"
      ]
     },
     "execution_count": 116,
     "metadata": {},
     "output_type": "execute_result"
    }
   ],
   "source": [
    "fx([[2],[3,4],[6,5,7],[4,1,8,3]])"
   ]
  },
  {
   "cell_type": "code",
   "execution_count": 114,
   "id": "cd81ed13",
   "metadata": {},
   "outputs": [
    {
     "data": {
      "text/plain": [
       "-1"
      ]
     },
     "execution_count": 114,
     "metadata": {},
     "output_type": "execute_result"
    }
   ],
   "source": [
    "fx([[-1],[2,3],[1,-1,-3]])"
   ]
  },
  {
   "cell_type": "code",
   "execution_count": null,
   "id": "ab60bed6",
   "metadata": {},
   "outputs": [],
   "source": []
  }
 ],
 "metadata": {
  "kernelspec": {
   "display_name": "Python 3 (ipykernel)",
   "language": "python",
   "name": "python3"
  },
  "language_info": {
   "codemirror_mode": {
    "name": "ipython",
    "version": 3
   },
   "file_extension": ".py",
   "mimetype": "text/x-python",
   "name": "python",
   "nbconvert_exporter": "python",
   "pygments_lexer": "ipython3",
   "version": "3.10.6"
  }
 },
 "nbformat": 4,
 "nbformat_minor": 5
}
