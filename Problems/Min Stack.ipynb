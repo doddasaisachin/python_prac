{
 "cells": [
  {
   "cell_type": "markdown",
   "id": "eb3eba12",
   "metadata": {},
   "source": [
    "Design a stack that supports push, pop, top, and retrieving the minimum element\n",
    "\n",
    "Implement the MinStack class:\n",
    "\n",
    "* MinStack() initializes the stack object.\n",
    "*void push(int val) pushes the element val onto the stack.\n",
    "*void pop() removes the element on the top of the stack.\n",
    "*int top() gets the top element of the stack.\n",
    "*int getMin() retrieves the minimum element in the stack."
   ]
  },
  {
   "cell_type": "code",
   "execution_count": 1,
   "id": "71f49433",
   "metadata": {},
   "outputs": [],
   "source": [
    "class MinStack:\n",
    "    def __init__(self):\n",
    "        self.arr=[]\n",
    "        self.Min=float('inf')\n",
    "    def push(self, val: int) -> None:\n",
    "        self.arr.append(val)\n",
    "        self.Min=min(self.Min,val)\n",
    "    def pop(self) -> None:\n",
    "        self.arr.pop()\n",
    "        self.Min=float('inf')\n",
    "        for i in self.arr:\n",
    "            self.Min=min(self.Min,i)\n",
    "        return self.Min\n",
    "    def top(self) -> int:\n",
    "        return self.arr[-1]\n",
    "    def getMin(self) -> int:\n",
    "        return self.Min"
   ]
  },
  {
   "cell_type": "code",
   "execution_count": null,
   "id": "2f0a8346",
   "metadata": {},
   "outputs": [],
   "source": []
  }
 ],
 "metadata": {
  "kernelspec": {
   "display_name": "Python 3 (ipykernel)",
   "language": "python",
   "name": "python3"
  },
  "language_info": {
   "codemirror_mode": {
    "name": "ipython",
    "version": 3
   },
   "file_extension": ".py",
   "mimetype": "text/x-python",
   "name": "python",
   "nbconvert_exporter": "python",
   "pygments_lexer": "ipython3",
   "version": "3.10.6"
  }
 },
 "nbformat": 4,
 "nbformat_minor": 5
}
