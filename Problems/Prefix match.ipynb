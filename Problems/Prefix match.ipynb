{
 "cells": [
  {
   "cell_type": "markdown",
   "id": "cbca6417",
   "metadata": {},
   "source": [
    "Given an array of strings arr[] of size n, a string str and an integer k. The task is to find the count of strings in arr[] whose prefix of length k matches with the k-length prefix of str."
   ]
  },
  {
   "cell_type": "markdown",
   "id": "bc57e7c1",
   "metadata": {},
   "source": [
    "Example 1:\n",
    "\n",
    "Input:\n",
    "n = 6\n",
    "arr[] = {“abba”, “abbb”, “abbc”, “abbd”, \n",
    "“abaa”, “abca”}\n",
    "str = “abbg”\n",
    "k = 3\n",
    "Output: \n",
    "4 \n",
    "Explanation:\n",
    "“abba”, “abbb”, “abbc” and “abbd” have their prefix of length 3 equal to 3-length prefix of str i.e., \"abb\"."
   ]
  },
  {
   "cell_type": "code",
   "execution_count": 5,
   "id": "c1f1d608",
   "metadata": {},
   "outputs": [],
   "source": [
    "def func(arr,string,k):\n",
    "    ele=string[:k]\n",
    "    result=0\n",
    "    if k>len(string):\n",
    "        return 0\n",
    "    for words in arr:\n",
    "        if words[:k]==ele:\n",
    "            result+=1\n",
    "    return result"
   ]
  },
  {
   "cell_type": "code",
   "execution_count": 6,
   "id": "b5c37b77",
   "metadata": {},
   "outputs": [
    {
     "data": {
      "text/plain": [
       "4"
      ]
     },
     "execution_count": 6,
     "metadata": {},
     "output_type": "execute_result"
    }
   ],
   "source": [
    "func(['abba','abbb','abbc','abbd'],'abbg',3)"
   ]
  },
  {
   "cell_type": "code",
   "execution_count": 7,
   "id": "6bc479f3",
   "metadata": {},
   "outputs": [
    {
     "data": {
      "text/plain": [
       "2"
      ]
     },
     "execution_count": 7,
     "metadata": {},
     "output_type": "execute_result"
    }
   ],
   "source": [
    "func(['geeks', 'geeksforgeeks', 'forgeeks'],'geeks',2)"
   ]
  }
 ],
 "metadata": {
  "kernelspec": {
   "display_name": "Python 3 (ipykernel)",
   "language": "python",
   "name": "python3"
  },
  "language_info": {
   "codemirror_mode": {
    "name": "ipython",
    "version": 3
   },
   "file_extension": ".py",
   "mimetype": "text/x-python",
   "name": "python",
   "nbconvert_exporter": "python",
   "pygments_lexer": "ipython3",
   "version": "3.10.6"
  }
 },
 "nbformat": 4,
 "nbformat_minor": 5
}
