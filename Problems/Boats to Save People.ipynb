{
 "cells": [
  {
   "cell_type": "markdown",
   "id": "c3fd807e",
   "metadata": {},
   "source": [
    "You are given an array people where people[i] is the weight of the ith person, and an infinite number of boats where each boat can carry a maximum weight of limit. Each boat carries at most two people at the same time, provided the sum of the weight of those people is at most limit.\n",
    "\n",
    "Return the minimum number of boats to carry every given person."
   ]
  },
  {
   "cell_type": "code",
   "execution_count": 1,
   "id": "08ccf505",
   "metadata": {},
   "outputs": [],
   "source": [
    "def fx(people,limit):\n",
    "    people.sort()\n",
    "    left=0\n",
    "    right=len(people)-1\n",
    "    res=0\n",
    "    while left<=right:\n",
    "        if people[left]+people[right]<=limit:\n",
    "            res+=1\n",
    "            left+=1\n",
    "            right-=1\n",
    "        else:\n",
    "            res+=1\n",
    "            right-=1\n",
    "    return res"
   ]
  },
  {
   "cell_type": "code",
   "execution_count": 2,
   "id": "25fac563",
   "metadata": {},
   "outputs": [
    {
     "data": {
      "text/plain": [
       "1"
      ]
     },
     "execution_count": 2,
     "metadata": {},
     "output_type": "execute_result"
    }
   ],
   "source": [
    "fx(people = [1,2], limit = 3)"
   ]
  },
  {
   "cell_type": "code",
   "execution_count": 3,
   "id": "fc07e187",
   "metadata": {},
   "outputs": [
    {
     "data": {
      "text/plain": [
       "3"
      ]
     },
     "execution_count": 3,
     "metadata": {},
     "output_type": "execute_result"
    }
   ],
   "source": [
    "fx([3,2,2,1], limit = 3)"
   ]
  },
  {
   "cell_type": "code",
   "execution_count": null,
   "id": "f93863a3",
   "metadata": {},
   "outputs": [],
   "source": []
  }
 ],
 "metadata": {
  "kernelspec": {
   "display_name": "Python 3 (ipykernel)",
   "language": "python",
   "name": "python3"
  },
  "language_info": {
   "codemirror_mode": {
    "name": "ipython",
    "version": 3
   },
   "file_extension": ".py",
   "mimetype": "text/x-python",
   "name": "python",
   "nbconvert_exporter": "python",
   "pygments_lexer": "ipython3",
   "version": "3.11.7"
  }
 },
 "nbformat": 4,
 "nbformat_minor": 5
}
