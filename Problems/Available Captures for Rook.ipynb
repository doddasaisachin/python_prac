{
 "cells": [
  {
   "cell_type": "markdown",
   "id": "fe00edfe",
   "metadata": {},
   "source": [
    "On an 8 x 8 chessboard, there is exactly one white rook 'R' and some number of white bishops 'B', black pawns 'p', and empty squares '.'.\n",
    "\n",
    "When the rook moves, it chooses one of four cardinal directions (north, east, south, or west), then moves in that direction until it chooses to stop, reaches the edge of the board, captures a black pawn, or is blocked by a white bishop. A rook is considered attacking a pawn if the rook can capture the pawn on the rook's turn. The number of available captures for the white rook is the number of pawns that the rook is attacking.\n",
    "\n",
    "Return the number of available captures for the white rook."
   ]
  },
  {
   "cell_type": "code",
   "execution_count": 1,
   "id": "0a542f93",
   "metadata": {},
   "outputs": [],
   "source": [
    "def fx(board):\n",
    "    m=n=8\n",
    "    ans=0\n",
    "    found=False\n",
    "    for i in range(m):\n",
    "        for j in range(n):\n",
    "            if board[i][j]=='R':\n",
    "                found=True\n",
    "                break\n",
    "        if found:break\n",
    "    def count_ans(start,stop,step,col):\n",
    "        if col:\n",
    "            for k in range(start,stop,step):\n",
    "                if board[i][k]=='p':\n",
    "                    return 1\n",
    "                elif board[i][k]=='B':\n",
    "                    return 0\n",
    "            return 0\n",
    "        else:\n",
    "            for k in range(start,stop,step):\n",
    "                if board[k][j]=='p':\n",
    "                    return 1\n",
    "                elif board[k][j]=='B':\n",
    "                    return 0\n",
    "            return 0        \n",
    "    ans=count_ans(j+1,n,1,col=True)+count_ans(i+1,m,1,col=False)+count_ans(j-1,-1,-1,col=True)+count_ans(i-1,-1,-1,col=False)\n",
    "    return ans"
   ]
  },
  {
   "cell_type": "code",
   "execution_count": null,
   "id": "9143d612",
   "metadata": {},
   "outputs": [],
   "source": []
  }
 ],
 "metadata": {
  "kernelspec": {
   "display_name": "Python 3 (ipykernel)",
   "language": "python",
   "name": "python3"
  },
  "language_info": {
   "codemirror_mode": {
    "name": "ipython",
    "version": 3
   },
   "file_extension": ".py",
   "mimetype": "text/x-python",
   "name": "python",
   "nbconvert_exporter": "python",
   "pygments_lexer": "ipython3",
   "version": "3.10.6"
  }
 },
 "nbformat": 4,
 "nbformat_minor": 5
}
