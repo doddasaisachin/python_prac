{
 "cells": [
  {
   "cell_type": "markdown",
   "id": "b77781c5",
   "metadata": {},
   "source": [
    "Given the root of a binary search tree, rearrange the tree in in-order so that the leftmost node in the tree is now the root of the tree, and every node has no left child and only one right child."
   ]
  },
  {
   "cell_type": "code",
   "execution_count": 8,
   "id": "92ec8bf0",
   "metadata": {},
   "outputs": [],
   "source": [
    "class TreeNode:\n",
    "    def __init__(self, val=0, left=None, right=None):\n",
    "        self.val = val\n",
    "        self.left = left\n",
    "        self.right = right\n",
    "    def append(self,child):\n",
    "        if self.val==child:\n",
    "            return\n",
    "        elif child<self.val:\n",
    "            if self.left:\n",
    "                self.left.append(child)\n",
    "            else:\n",
    "                self.left=TreeNode(child)\n",
    "        else:\n",
    "            if self.right:\n",
    "                self.right.append(child)\n",
    "            else:\n",
    "                self.right=TreeNode(child)"
   ]
  },
  {
   "cell_type": "code",
   "execution_count": 9,
   "id": "259df222",
   "metadata": {},
   "outputs": [],
   "source": [
    "def inorder(root):\n",
    "    res=[]\n",
    "    if root.val is None: return\n",
    "    if root.left:\n",
    "        res=res+inorder(root.left)\n",
    "    res.append(root.val)\n",
    "    if root.right:\n",
    "        res=res+inorder(root.right)\n",
    "    return res\n",
    "def increasingBST(root):\n",
    "    arr=inorder(root)\n",
    "    r1=TreeNode(arr[0])\n",
    "    itr=r1\n",
    "    for i in arr[1:]:\n",
    "        temp=TreeNode(i)\n",
    "        itr.right=temp\n",
    "        itr=itr.right\n",
    "    return r1"
   ]
  },
  {
   "cell_type": "code",
   "execution_count": null,
   "id": "d72b6ae0",
   "metadata": {},
   "outputs": [],
   "source": []
  }
 ],
 "metadata": {
  "kernelspec": {
   "display_name": "Python 3 (ipykernel)",
   "language": "python",
   "name": "python3"
  },
  "language_info": {
   "codemirror_mode": {
    "name": "ipython",
    "version": 3
   },
   "file_extension": ".py",
   "mimetype": "text/x-python",
   "name": "python",
   "nbconvert_exporter": "python",
   "pygments_lexer": "ipython3",
   "version": "3.10.6"
  }
 },
 "nbformat": 4,
 "nbformat_minor": 5
}
