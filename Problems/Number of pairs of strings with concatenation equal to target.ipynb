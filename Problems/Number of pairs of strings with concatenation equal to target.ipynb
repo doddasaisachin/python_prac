{
 "cells": [
  {
   "cell_type": "markdown",
   "id": "b3238700",
   "metadata": {},
   "source": [
    "Given an array of digit strings nums and a digit string target, return the number of pairs of indices (i, j) (where i != j) such that the concatenation of nums[i] + nums[j] equals target.\n",
    "\n",
    " \n",
    "\n",
    "Example 1:\n",
    "\n",
    "Input: nums = [\"777\",\"7\",\"77\",\"77\"], target = \"7777\"\n",
    "Output: 4\n",
    "Explanation: Valid pairs are:\n",
    "- (0, 1): \"777\" + \"7\"\n",
    "- (1, 0): \"7\" + \"777\"\n",
    "- (2, 3): \"77\" + \"77\"\n",
    "- (3, 2): \"77\" + \"77\"\n",
    "    \n",
    "    \n",
    "Example 2:\n",
    "\n",
    "Input: nums = [\"123\",\"4\",\"12\",\"34\"], target = \"1234\"\n",
    "Output: 2\n",
    "Explanation: Valid pairs are:\n",
    "- (0, 1): \"123\" + \"4\"\n",
    "- (2, 3): \"12\" + \"34\"\n",
    "    \n",
    "    \n",
    "Example 3:\n",
    "\n",
    "Input: nums = [\"1\",\"1\",\"1\"], target = \"11\"\n",
    "Output: 6\n",
    "Explanation: Valid pairs are:\n",
    "- (0, 1): \"1\" + \"1\"\n",
    "- (1, 0): \"1\" + \"1\"\n",
    "- (0, 2): \"1\" + \"1\"\n",
    "- (2, 0): \"1\" + \"1\"\n",
    "- (1, 2): \"1\" + \"1\"\n",
    "- (2, 1): \"1\" + \"1\""
   ]
  },
  {
   "cell_type": "code",
   "execution_count": 31,
   "id": "787efbda",
   "metadata": {},
   "outputs": [],
   "source": [
    "def function(array,target):\n",
    "    idx=0\n",
    "    final=len(array)-1\n",
    "    count=0\n",
    "    while idx<len(array):\n",
    "        if idx==final:\n",
    "            final=final-1\n",
    "        if array[idx]+array[final]==target and final>=0:\n",
    "            count+=1\n",
    "            if final>0:\n",
    "                final-=1\n",
    "            else:\n",
    "                final=len(array)-1\n",
    "                idx+=1\n",
    "        else:\n",
    "            if final>0:\n",
    "                final-=1\n",
    "            else:\n",
    "                idx+=1\n",
    "                final=len(array)-1\n",
    "    return count"
   ]
  },
  {
   "cell_type": "code",
   "execution_count": 32,
   "id": "1fe3250f",
   "metadata": {},
   "outputs": [
    {
     "data": {
      "text/plain": [
       "4"
      ]
     },
     "execution_count": 32,
     "metadata": {},
     "output_type": "execute_result"
    }
   ],
   "source": [
    "function([\"777\",\"7\",\"77\",\"77\"],'7777')"
   ]
  },
  {
   "cell_type": "code",
   "execution_count": 33,
   "id": "ee21e9a3",
   "metadata": {},
   "outputs": [
    {
     "data": {
      "text/plain": [
       "2"
      ]
     },
     "execution_count": 33,
     "metadata": {},
     "output_type": "execute_result"
    }
   ],
   "source": [
    "function([\"123\",\"4\",\"12\",\"34\"],'1234')"
   ]
  },
  {
   "cell_type": "code",
   "execution_count": 34,
   "id": "dfeaa261",
   "metadata": {},
   "outputs": [
    {
     "data": {
      "text/plain": [
       "6"
      ]
     },
     "execution_count": 34,
     "metadata": {},
     "output_type": "execute_result"
    }
   ],
   "source": [
    "function(['1','1','1'],'11')"
   ]
  },
  {
   "cell_type": "code",
   "execution_count": null,
   "id": "0ceec9c5",
   "metadata": {},
   "outputs": [],
   "source": []
  }
 ],
 "metadata": {
  "kernelspec": {
   "display_name": "Python 3 (ipykernel)",
   "language": "python",
   "name": "python3"
  },
  "language_info": {
   "codemirror_mode": {
    "name": "ipython",
    "version": 3
   },
   "file_extension": ".py",
   "mimetype": "text/x-python",
   "name": "python",
   "nbconvert_exporter": "python",
   "pygments_lexer": "ipython3",
   "version": "3.10.6"
  }
 },
 "nbformat": 4,
 "nbformat_minor": 5
}
