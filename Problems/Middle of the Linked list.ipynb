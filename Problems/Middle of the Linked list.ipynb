{
 "cells": [
  {
   "cell_type": "code",
   "execution_count": 8,
   "id": "9ba0cc47",
   "metadata": {},
   "outputs": [],
   "source": [
    "class linkedlist:\n",
    "    def __init__(self,val):\n",
    "        self.val=val\n",
    "        self.next=None"
   ]
  },
  {
   "cell_type": "code",
   "execution_count": 33,
   "id": "7fe21bb0",
   "metadata": {},
   "outputs": [],
   "source": [
    "def fx(head):\n",
    "    c=0\n",
    "    itr=head\n",
    "    while itr is not None:\n",
    "#         print(itr.val)\n",
    "        c+=1\n",
    "        itr=itr.next\n",
    "    tar=c//2\n",
    "    temp=0\n",
    "    itr=head\n",
    "    while temp!=tar:\n",
    "        itr=itr.next\n",
    "        temp+=1\n",
    "    return itr"
   ]
  },
  {
   "cell_type": "code",
   "execution_count": 34,
   "id": "ee018cc1",
   "metadata": {},
   "outputs": [],
   "source": [
    "obj=linkedlist(5)\n",
    "\n",
    "obj.next=linkedlist(6)\n",
    "\n",
    "obj.next.next=linkedlist(7)\n",
    "\n",
    "obj.next.next.next=linkedlist(8)\n",
    "\n",
    "obj.next.next.next.next=linkedlist(9)"
   ]
  },
  {
   "cell_type": "code",
   "execution_count": 37,
   "id": "60823671",
   "metadata": {},
   "outputs": [
    {
     "data": {
      "text/plain": [
       "<__main__.linkedlist at 0x266513c44f0>"
      ]
     },
     "execution_count": 37,
     "metadata": {},
     "output_type": "execute_result"
    }
   ],
   "source": [
    "fx(obj)"
   ]
  },
  {
   "cell_type": "code",
   "execution_count": 38,
   "id": "daaac0c7",
   "metadata": {},
   "outputs": [
    {
     "data": {
      "text/plain": [
       "7"
      ]
     },
     "execution_count": 38,
     "metadata": {},
     "output_type": "execute_result"
    }
   ],
   "source": [
    "fx(obj).val"
   ]
  },
  {
   "cell_type": "code",
   "execution_count": null,
   "id": "a44e2e0b",
   "metadata": {},
   "outputs": [],
   "source": []
  }
 ],
 "metadata": {
  "kernelspec": {
   "display_name": "Python 3 (ipykernel)",
   "language": "python",
   "name": "python3"
  },
  "language_info": {
   "codemirror_mode": {
    "name": "ipython",
    "version": 3
   },
   "file_extension": ".py",
   "mimetype": "text/x-python",
   "name": "python",
   "nbconvert_exporter": "python",
   "pygments_lexer": "ipython3",
   "version": "3.10.6"
  }
 },
 "nbformat": 4,
 "nbformat_minor": 5
}
