{
 "cells": [
  {
   "cell_type": "markdown",
   "id": "b6d2b401",
   "metadata": {},
   "source": [
    "You are given an array of characters letters that is sorted in non-decreasing order, and a character target. There are at least two different characters in letters.\n",
    "\n",
    "Return the smallest character in letters that is lexicographically greater than target. If such a character does not exist, return the first character in letters.\n",
    "\n",
    " \n",
    "\n",
    "Example 1:\n",
    "\n",
    "Input: letters = [\"c\",\"f\",\"j\"], target = \"a\"\n",
    "    \n",
    "Output: \"c\"\n",
    "    \n",
    "Explanation: The smallest character that is lexicographically greater than 'a' in letters is 'c'.\n",
    "    \n",
    "Example 2:\n",
    "\n",
    "Input: letters = [\"c\",\"f\",\"j\"], target = \"c\"\n",
    "    \n",
    "Output: \"f\"\n",
    "    \n",
    "Explanation: The smallest character that is lexicographically greater than 'c' in letters is 'f'.\n",
    "    \n",
    "Example 3:\n",
    "\n",
    "Input: letters = [\"x\",\"x\",\"y\",\"y\"], target = \"z\"\n",
    "    \n",
    "Output: \"x\"\n",
    "    \n",
    "Explanation: There are no characters in letters that is lexicographically greater than 'z' so we return letters[0]."
   ]
  },
  {
   "cell_type": "code",
   "execution_count": 47,
   "id": "3ffc578a",
   "metadata": {},
   "outputs": [],
   "source": [
    "def fx(arr,target):\n",
    "    for i in arr:\n",
    "        if ord(i)>ord(target):\n",
    "            return i\n",
    "    return arr[0]"
   ]
  },
  {
   "cell_type": "code",
   "execution_count": 48,
   "id": "663565cd",
   "metadata": {},
   "outputs": [
    {
     "data": {
      "text/plain": [
       "'c'"
      ]
     },
     "execution_count": 48,
     "metadata": {},
     "output_type": "execute_result"
    }
   ],
   "source": [
    "fx([\"c\",\"f\",\"j\"], target = \"a\")"
   ]
  },
  {
   "cell_type": "code",
   "execution_count": 49,
   "id": "01a33380",
   "metadata": {},
   "outputs": [
    {
     "data": {
      "text/plain": [
       "'f'"
      ]
     },
     "execution_count": 49,
     "metadata": {},
     "output_type": "execute_result"
    }
   ],
   "source": [
    "fx([\"c\",\"f\",\"j\"], target = \"c\")"
   ]
  },
  {
   "cell_type": "code",
   "execution_count": 50,
   "id": "2b0f7f07",
   "metadata": {},
   "outputs": [
    {
     "data": {
      "text/plain": [
       "'x'"
      ]
     },
     "execution_count": 50,
     "metadata": {},
     "output_type": "execute_result"
    }
   ],
   "source": [
    "fx([\"x\",\"x\",\"y\",\"y\"], target = \"z\")"
   ]
  },
  {
   "cell_type": "code",
   "execution_count": null,
   "id": "2b468472",
   "metadata": {},
   "outputs": [],
   "source": []
  }
 ],
 "metadata": {
  "kernelspec": {
   "display_name": "Python 3 (ipykernel)",
   "language": "python",
   "name": "python3"
  },
  "language_info": {
   "codemirror_mode": {
    "name": "ipython",
    "version": 3
   },
   "file_extension": ".py",
   "mimetype": "text/x-python",
   "name": "python",
   "nbconvert_exporter": "python",
   "pygments_lexer": "ipython3",
   "version": "3.10.6"
  }
 },
 "nbformat": 4,
 "nbformat_minor": 5
}
