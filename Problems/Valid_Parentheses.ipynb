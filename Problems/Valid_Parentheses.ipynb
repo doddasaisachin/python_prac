{
 "cells": [
  {
   "cell_type": "code",
   "execution_count": 1,
   "id": "ed3a0cc8",
   "metadata": {},
   "outputs": [],
   "source": [
    "from typing import List"
   ]
  },
  {
   "cell_type": "code",
   "execution_count": 41,
   "id": "3a278632",
   "metadata": {},
   "outputs": [],
   "source": [
    "def valid_brackets(strings:List)->bool:\n",
    "    stack=[]\n",
    "    if len(strings)>0:\n",
    "        if strings[0]==')' or strings[0]==']' or strings[0]=='}':\n",
    "            return False\n",
    "    for i in strings:\n",
    "        if i=='(' or i=='[' or i=='{':\n",
    "            stack.append(i)\n",
    "        if i==')':\n",
    "            stack.append(')')\n",
    "            try:\n",
    "                if len(stack)>0 and stack[-2]=='(':\n",
    "                    stack.pop()\n",
    "                    stack.pop()\n",
    "            except:\n",
    "                return False\n",
    "        if i==']':\n",
    "            stack.append(']')\n",
    "            try:\n",
    "                if len(stack)>0 and stack[-2]=='[':\n",
    "                    stack.pop()\n",
    "                    stack.pop()\n",
    "            except:\n",
    "                return False\n",
    "        if i=='}':\n",
    "            stack.append('}')\n",
    "            try:\n",
    "                if len(stack)>0 and stack[-2]=='{':\n",
    "                    stack.pop()\n",
    "                    stack.pop()\n",
    "            except:\n",
    "                return False\n",
    "    return not bool(len(stack))"
   ]
  },
  {
   "cell_type": "code",
   "execution_count": 42,
   "id": "fd39b796",
   "metadata": {},
   "outputs": [
    {
     "data": {
      "text/plain": [
       "True"
      ]
     },
     "execution_count": 42,
     "metadata": {},
     "output_type": "execute_result"
    }
   ],
   "source": [
    "valid_brackets('[]')"
   ]
  },
  {
   "cell_type": "code",
   "execution_count": 43,
   "id": "b7778ef0",
   "metadata": {},
   "outputs": [
    {
     "data": {
      "text/plain": [
       "True"
      ]
     },
     "execution_count": 43,
     "metadata": {},
     "output_type": "execute_result"
    }
   ],
   "source": [
    "valid_brackets('[{()}]')"
   ]
  },
  {
   "cell_type": "code",
   "execution_count": 44,
   "id": "bad03202",
   "metadata": {},
   "outputs": [
    {
     "data": {
      "text/plain": [
       "False"
      ]
     },
     "execution_count": 44,
     "metadata": {},
     "output_type": "execute_result"
    }
   ],
   "source": [
    "valid_brackets('[(]')"
   ]
  },
  {
   "cell_type": "code",
   "execution_count": 45,
   "id": "c5cfdb34",
   "metadata": {},
   "outputs": [
    {
     "data": {
      "text/plain": [
       "False"
      ]
     },
     "execution_count": 45,
     "metadata": {},
     "output_type": "execute_result"
    }
   ],
   "source": [
    "valid_brackets(']')"
   ]
  },
  {
   "cell_type": "code",
   "execution_count": 46,
   "id": "9d323edf",
   "metadata": {},
   "outputs": [
    {
     "data": {
      "text/plain": [
       "False"
      ]
     },
     "execution_count": 46,
     "metadata": {},
     "output_type": "execute_result"
    }
   ],
   "source": [
    "valid_brackets('(]})')"
   ]
  },
  {
   "cell_type": "code",
   "execution_count": 47,
   "id": "adead081",
   "metadata": {},
   "outputs": [
    {
     "data": {
      "text/plain": [
       "False"
      ]
     },
     "execution_count": 47,
     "metadata": {},
     "output_type": "execute_result"
    }
   ],
   "source": [
    "valid_brackets(\"(){}}{\")"
   ]
  },
  {
   "cell_type": "code",
   "execution_count": null,
   "id": "eb2b4aca",
   "metadata": {},
   "outputs": [],
   "source": []
  }
 ],
 "metadata": {
  "kernelspec": {
   "display_name": "Python 3 (ipykernel)",
   "language": "python",
   "name": "python3"
  },
  "language_info": {
   "codemirror_mode": {
    "name": "ipython",
    "version": 3
   },
   "file_extension": ".py",
   "mimetype": "text/x-python",
   "name": "python",
   "nbconvert_exporter": "python",
   "pygments_lexer": "ipython3",
   "version": "3.10.6"
  }
 },
 "nbformat": 4,
 "nbformat_minor": 5
}
