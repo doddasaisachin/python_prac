{
 "cells": [
  {
   "cell_type": "markdown",
   "id": "d1685962",
   "metadata": {},
   "source": [
    "Given a binary array nums, return the maximum length of a contiguous subarray with an equal number of 0 and 1.\n",
    "\n"
   ]
  },
  {
   "cell_type": "code",
   "execution_count": 17,
   "id": "0f5e1ce0",
   "metadata": {},
   "outputs": [],
   "source": [
    "def fx(nums):\n",
    "    d={0:-1}\n",
    "    c,m=0,0\n",
    "    for i in range(len(nums)):\n",
    "        if nums[i]==0:\n",
    "            c-=1\n",
    "        elif nums[i]==1:\n",
    "            c+=1\n",
    "            \n",
    "        if c in d.keys():\n",
    "            m=max(m,i-d[c])\n",
    "        else:\n",
    "            d[c]=i\n",
    "    return m"
   ]
  },
  {
   "cell_type": "code",
   "execution_count": 18,
   "id": "051bfef4",
   "metadata": {
    "scrolled": true
   },
   "outputs": [
    {
     "data": {
      "text/plain": [
       "10"
      ]
     },
     "execution_count": 18,
     "metadata": {},
     "output_type": "execute_result"
    }
   ],
   "source": [
    "fx([0,0,1,0,0,0,1,1,1,1,1,1,1,1,])"
   ]
  }
 ],
 "metadata": {
  "kernelspec": {
   "display_name": "Python 3 (ipykernel)",
   "language": "python",
   "name": "python3"
  },
  "language_info": {
   "codemirror_mode": {
    "name": "ipython",
    "version": 3
   },
   "file_extension": ".py",
   "mimetype": "text/x-python",
   "name": "python",
   "nbconvert_exporter": "python",
   "pygments_lexer": "ipython3",
   "version": "3.10.6"
  }
 },
 "nbformat": 4,
 "nbformat_minor": 5
}
