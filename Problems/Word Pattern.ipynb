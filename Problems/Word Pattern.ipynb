{
 "cells": [
  {
   "cell_type": "markdown",
   "id": "40e2a9cf",
   "metadata": {},
   "source": [
    "Given a pattern and a string s, find if s follows the same pattern.\n",
    "\n",
    "Here follow means a full match, such that there is a bijection between a letter in pattern and a non-empty word in s.\n",
    "\n",
    " \n",
    "\n",
    "Example 1:\n",
    "\n",
    "Input: pattern = \"abba\", s = \"dog cat cat dog\"\n",
    "Output: true\n",
    "\n",
    "Example 2:\n",
    "\n",
    "Input: pattern = \"abba\", s = \"dog cat cat fish\"\n",
    "Output: false\n",
    "\n",
    "Example 3:\n",
    "\n",
    "Input: pattern = \"aaaa\", s = \"dog cat cat dog\"\n",
    "Output: false"
   ]
  },
  {
   "cell_type": "code",
   "execution_count": 30,
   "id": "b7b3831e",
   "metadata": {},
   "outputs": [],
   "source": [
    "def function(pattern,s):\n",
    "    d=dict()\n",
    "    array=s.split(' ')\n",
    "    if len(pattern)!=len(array):\n",
    "        return False\n",
    "    for i in range(len(array)):\n",
    "        if pattern[i] not in d.keys() and (array[i] not in d.values()):\n",
    "            d[pattern[i]]=array[i]\n",
    "        else:\n",
    "            try:\n",
    "                if d[pattern[i]]!=array[i]:\n",
    "                    return False\n",
    "            except:\n",
    "                return False\n",
    "    return True"
   ]
  },
  {
   "cell_type": "code",
   "execution_count": 31,
   "id": "80cf5226",
   "metadata": {},
   "outputs": [
    {
     "data": {
      "text/plain": [
       "True"
      ]
     },
     "execution_count": 31,
     "metadata": {},
     "output_type": "execute_result"
    }
   ],
   "source": [
    "function(pattern = \"abba\", s = \"dog cat cat dog\")"
   ]
  },
  {
   "cell_type": "code",
   "execution_count": 32,
   "id": "f62390c4",
   "metadata": {},
   "outputs": [
    {
     "data": {
      "text/plain": [
       "False"
      ]
     },
     "execution_count": 32,
     "metadata": {},
     "output_type": "execute_result"
    }
   ],
   "source": [
    "function(pattern = \"abba\", s = \"dog cat cat fish\")"
   ]
  },
  {
   "cell_type": "code",
   "execution_count": 34,
   "id": "85499043",
   "metadata": {},
   "outputs": [
    {
     "data": {
      "text/plain": [
       "False"
      ]
     },
     "execution_count": 34,
     "metadata": {},
     "output_type": "execute_result"
    }
   ],
   "source": [
    "function(pattern =\"abba\",s =\"dog dog dog dog\")"
   ]
  },
  {
   "cell_type": "code",
   "execution_count": 35,
   "id": "7c075cdb",
   "metadata": {},
   "outputs": [],
   "source": [
    "def optimized(pattern,s):\n",
    "    d=dict()\n",
    "    array=s.split(' ')\n",
    "    if len(list(set(pattern)))!=len(list(set(array))):\n",
    "        return False\n",
    "    if len(pattern)!=len(array):\n",
    "        return False\n",
    "    for i in range(len(array)):\n",
    "        if pattern[i] not in d.keys():\n",
    "            d[pattern[i]]=array[i]\n",
    "        else:\n",
    "            if d[pattern[i]]!=array[i]:\n",
    "                return False\n",
    "    return True"
   ]
  },
  {
   "cell_type": "code",
   "execution_count": 36,
   "id": "ecca49bb",
   "metadata": {},
   "outputs": [
    {
     "data": {
      "text/plain": [
       "True"
      ]
     },
     "execution_count": 36,
     "metadata": {},
     "output_type": "execute_result"
    }
   ],
   "source": [
    "optimized(pattern = \"abba\", s = \"dog cat cat dog\")"
   ]
  }
 ],
 "metadata": {
  "kernelspec": {
   "display_name": "Python 3 (ipykernel)",
   "language": "python",
   "name": "python3"
  },
  "language_info": {
   "codemirror_mode": {
    "name": "ipython",
    "version": 3
   },
   "file_extension": ".py",
   "mimetype": "text/x-python",
   "name": "python",
   "nbconvert_exporter": "python",
   "pygments_lexer": "ipython3",
   "version": "3.10.6"
  }
 },
 "nbformat": 4,
 "nbformat_minor": 5
}
