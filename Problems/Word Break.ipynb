{
 "cells": [
  {
   "cell_type": "markdown",
   "id": "9c333d1c",
   "metadata": {},
   "source": [
    "Given a string s and a dictionary of strings wordDict, return true if s can be segmented into a space-separated sequence of one or more dictionary words.\n",
    "\n",
    "Note that the same word in the dictionary may be reused multiple times in the segmentation."
   ]
  },
  {
   "cell_type": "code",
   "execution_count": 6,
   "id": "5270e6b7",
   "metadata": {},
   "outputs": [],
   "source": [
    "def fx(s,wordDict):\n",
    "    dp=[False]*(len(s)+1)\n",
    "    dp[-1]=True\n",
    "    for i in range(len(s)-1,-1,-1):\n",
    "        for word in wordDict:\n",
    "            if (len(word)+i<=len(s)) and word==s[i:i+len(word)]:\n",
    "                dp[i]=dp[i+len(word)]\n",
    "            if dp[i]:\n",
    "                break\n",
    "#     print(dp)\n",
    "    return dp[0]"
   ]
  },
  {
   "cell_type": "code",
   "execution_count": 7,
   "id": "4d896aa0",
   "metadata": {},
   "outputs": [
    {
     "data": {
      "text/plain": [
       "True"
      ]
     },
     "execution_count": 7,
     "metadata": {},
     "output_type": "execute_result"
    }
   ],
   "source": [
    "fx(\"leetcodeleetleetleetcode\",[\"leet\",\"code\"])"
   ]
  },
  {
   "cell_type": "code",
   "execution_count": null,
   "id": "ce017339",
   "metadata": {},
   "outputs": [],
   "source": []
  }
 ],
 "metadata": {
  "kernelspec": {
   "display_name": "Python 3 (ipykernel)",
   "language": "python",
   "name": "python3"
  },
  "language_info": {
   "codemirror_mode": {
    "name": "ipython",
    "version": 3
   },
   "file_extension": ".py",
   "mimetype": "text/x-python",
   "name": "python",
   "nbconvert_exporter": "python",
   "pygments_lexer": "ipython3",
   "version": "3.10.6"
  }
 },
 "nbformat": 4,
 "nbformat_minor": 5
}
