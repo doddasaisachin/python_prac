{
 "cells": [
  {
   "cell_type": "markdown",
   "id": "a43fe9c1",
   "metadata": {},
   "source": [
    "The complement of an integer is the integer you get when you flip all the 0's to 1's and all the 1's to 0's in its binary representation.\n",
    "\n",
    "* For example, The integer 5 is \"101\" in binary and its complement is \"010\" which is the integer 2.\n",
    "\n",
    "Given an integer n, return its complement."
   ]
  },
  {
   "cell_type": "code",
   "execution_count": 1,
   "id": "a894a52d",
   "metadata": {},
   "outputs": [],
   "source": [
    "def fx( n: int) -> int:\n",
    "    s=bin(n)[2:]\n",
    "    arr=''\n",
    "    for i in s:\n",
    "        if i=='0':\n",
    "            arr+='1'\n",
    "        else:\n",
    "            arr+='0' \n",
    "    res=0\n",
    "    for i in range(len(arr)-1,-1,-1):\n",
    "        res=res+(int(arr[i])* 2**(len(arr)-i-1))\n",
    "    return res"
   ]
  },
  {
   "cell_type": "code",
   "execution_count": 4,
   "id": "95c8dee2",
   "metadata": {},
   "outputs": [
    {
     "data": {
      "text/plain": [
       "5"
      ]
     },
     "execution_count": 4,
     "metadata": {},
     "output_type": "execute_result"
    }
   ],
   "source": [
    "fx(10)"
   ]
  },
  {
   "cell_type": "code",
   "execution_count": null,
   "id": "a1931c61",
   "metadata": {},
   "outputs": [],
   "source": []
  }
 ],
 "metadata": {
  "kernelspec": {
   "display_name": "Python 3 (ipykernel)",
   "language": "python",
   "name": "python3"
  },
  "language_info": {
   "codemirror_mode": {
    "name": "ipython",
    "version": 3
   },
   "file_extension": ".py",
   "mimetype": "text/x-python",
   "name": "python",
   "nbconvert_exporter": "python",
   "pygments_lexer": "ipython3",
   "version": "3.10.6"
  }
 },
 "nbformat": 4,
 "nbformat_minor": 5
}
