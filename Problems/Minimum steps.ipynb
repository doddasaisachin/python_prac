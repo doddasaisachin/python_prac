{
 "cells": [
  {
   "cell_type": "markdown",
   "id": "6f0c9bb3",
   "metadata": {},
   "source": [
    "Given an array a[] of size n where each element signifies the number of cells which can be skipped, find the minimum number of steps taken to reach the last cell of the array. One has to start at index 0 and always move forward either by skipping cells by number given or by one."
   ]
  },
  {
   "cell_type": "raw",
   "id": "29927ad6",
   "metadata": {},
   "source": [
    "[2, 4, 1, 2, 1, 1]"
   ]
  },
  {
   "cell_type": "code",
   "execution_count": 33,
   "id": "d86134a7",
   "metadata": {},
   "outputs": [],
   "source": [
    "def recurion(arr,i):\n",
    "#     print(i)\n",
    "    if i>=len(arr)-1:\n",
    "        return 0\n",
    "    val=9999999\n",
    "    for k in range(1,arr[i]+1):\n",
    "        val= min(val,1+recurion(arr,i+k))\n",
    "    return val"
   ]
  },
  {
   "cell_type": "code",
   "execution_count": 79,
   "id": "3f79acd7",
   "metadata": {},
   "outputs": [
    {
     "data": {
      "text/plain": [
       "2"
      ]
     },
     "execution_count": 79,
     "metadata": {},
     "output_type": "execute_result"
    }
   ],
   "source": [
    "recurion([1,1,1],0)"
   ]
  },
  {
   "cell_type": "code",
   "execution_count": 78,
   "id": "e7550878",
   "metadata": {
    "scrolled": true
   },
   "outputs": [
    {
     "data": {
      "text/plain": [
       "2"
      ]
     },
     "execution_count": 78,
     "metadata": {},
     "output_type": "execute_result"
    }
   ],
   "source": [
    "recurion([2, 4, 1, 2, 1, 1],0)"
   ]
  },
  {
   "cell_type": "code",
   "execution_count": 172,
   "id": "a5eeaf6d",
   "metadata": {},
   "outputs": [],
   "source": [
    "def fx(arr):\n",
    "    dp=[None]*len(arr)\n",
    "    dp[-1]=0\n",
    "    for i in range(len(arr)-2,-1,-1):\n",
    "        val=float('inf')\n",
    "        for k in range(1,arr[i]+1):\n",
    "            if i+k>=len(arr)-1:\n",
    "                val=1\n",
    "            else:\n",
    "                val=min(val,1+dp[i+k])\n",
    "        dp[i]=val\n",
    "    return dp[0]"
   ]
  },
  {
   "cell_type": "code",
   "execution_count": 173,
   "id": "3ac48a8b",
   "metadata": {},
   "outputs": [
    {
     "data": {
      "text/plain": [
       "1"
      ]
     },
     "execution_count": 173,
     "metadata": {},
     "output_type": "execute_result"
    }
   ],
   "source": [
    "fx([1,1])"
   ]
  },
  {
   "cell_type": "code",
   "execution_count": 174,
   "id": "2f4e74ac",
   "metadata": {},
   "outputs": [
    {
     "data": {
      "text/plain": [
       "1"
      ]
     },
     "execution_count": 174,
     "metadata": {},
     "output_type": "execute_result"
    }
   ],
   "source": [
    "fx([6,5,4,3,2,1])"
   ]
  },
  {
   "cell_type": "code",
   "execution_count": 175,
   "id": "1a06e069",
   "metadata": {},
   "outputs": [
    {
     "data": {
      "text/plain": [
       "2"
      ]
     },
     "execution_count": 175,
     "metadata": {},
     "output_type": "execute_result"
    }
   ],
   "source": [
    "fx([2, 4, 1, 2, 1, 1])"
   ]
  },
  {
   "cell_type": "code",
   "execution_count": 176,
   "id": "9e88a4c2",
   "metadata": {},
   "outputs": [
    {
     "data": {
      "text/plain": [
       "2"
      ]
     },
     "execution_count": 176,
     "metadata": {},
     "output_type": "execute_result"
    }
   ],
   "source": [
    "fx([1,1,1])"
   ]
  },
  {
   "cell_type": "code",
   "execution_count": null,
   "id": "af5bae81",
   "metadata": {},
   "outputs": [],
   "source": []
  }
 ],
 "metadata": {
  "kernelspec": {
   "display_name": "Python 3 (ipykernel)",
   "language": "python",
   "name": "python3"
  },
  "language_info": {
   "codemirror_mode": {
    "name": "ipython",
    "version": 3
   },
   "file_extension": ".py",
   "mimetype": "text/x-python",
   "name": "python",
   "nbconvert_exporter": "python",
   "pygments_lexer": "ipython3",
   "version": "3.10.6"
  }
 },
 "nbformat": 4,
 "nbformat_minor": 5
}
