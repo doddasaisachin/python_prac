{
 "cells": [
  {
   "cell_type": "markdown",
   "id": "fe851c55",
   "metadata": {},
   "source": [
    "Your friend is typing his name into a keyboard. Sometimes, when typing a character c, the key might get long pressed, and the character will be typed 1 or more times.\n",
    "\n",
    "You examine the typed characters of the keyboard. Return True if it is possible that it was your friends name, with some characters (possibly none) being long pressed.\n",
    "\n",
    " \n",
    "\n",
    "Example 1:\n",
    "\n",
    "Input: name = \"alex\", typed = \"aaleex\"\n",
    "Output: true\n",
    "Explanation: 'a' and 'e' in 'alex' were long pressed.\n",
    "    \n",
    "Example 2:\n",
    "\n",
    "Input: name = \"saeed\", typed = \"ssaaedd\"\n",
    "Output: false\n",
    "Explanation: 'e' must have been pressed twice, but it was not in the typed output."
   ]
  },
  {
   "cell_type": "code",
   "execution_count": 51,
   "id": "a8951b21",
   "metadata": {},
   "outputs": [],
   "source": [
    "def fx(name,typed):\n",
    "    idx=0\n",
    "    idx2=0\n",
    "    if len(name)>len(typed):\n",
    "        return False\n",
    "    while idx<len(name):\n",
    "        c1,c2=0,0\n",
    "        if idx2>=len(typed):\n",
    "            return False\n",
    "        if name[idx]!=typed[idx2]:\n",
    "            return False\n",
    "        while idx+1<len(name) and name[idx]==name[idx+1]:\n",
    "            idx+=1\n",
    "            c1+=1\n",
    "        while idx2+1<len(typed) and typed[idx2]==typed[idx2+1] :\n",
    "            idx2+=1\n",
    "            c2+=1\n",
    "        if len(name)>1 and idx+1==len(name) and name[-1]!=name[-2]:\n",
    "            c2=0\n",
    "            while idx2+1<len(typed) and typed[idx2]==typed[idx2+1]:\n",
    "                idx2+=1\n",
    "                c2+=1\n",
    "        if c1>c2:\n",
    "            return False\n",
    "        idx+=1\n",
    "        idx2+=1\n",
    "    if idx2!=len(typed):\n",
    "        return False\n",
    "    return True"
   ]
  },
  {
   "cell_type": "code",
   "execution_count": 52,
   "id": "1af88bf7",
   "metadata": {},
   "outputs": [
    {
     "data": {
      "text/plain": [
       "True"
      ]
     },
     "execution_count": 52,
     "metadata": {},
     "output_type": "execute_result"
    }
   ],
   "source": [
    "fx(\"leelee\",\"lleeelee\")"
   ]
  },
  {
   "cell_type": "code",
   "execution_count": 53,
   "id": "d224aa89",
   "metadata": {
    "scrolled": true
   },
   "outputs": [
    {
     "data": {
      "text/plain": [
       "False"
      ]
     },
     "execution_count": 53,
     "metadata": {},
     "output_type": "execute_result"
    }
   ],
   "source": [
    "fx(\"alex\",\"aaleexeex\")"
   ]
  },
  {
   "cell_type": "code",
   "execution_count": 54,
   "id": "f45e11cf",
   "metadata": {},
   "outputs": [
    {
     "data": {
      "text/plain": [
       "False"
      ]
     },
     "execution_count": 54,
     "metadata": {},
     "output_type": "execute_result"
    }
   ],
   "source": [
    "fx(\"rick\",\"kric\")"
   ]
  },
  {
   "cell_type": "code",
   "execution_count": 55,
   "id": "27409d58",
   "metadata": {},
   "outputs": [
    {
     "data": {
      "text/plain": [
       "True"
      ]
     },
     "execution_count": 55,
     "metadata": {},
     "output_type": "execute_result"
    }
   ],
   "source": [
    "fx(\"name\",\"nnnnaaaaaaaammmmmmmmmeeeeeeeeeee\")"
   ]
  }
 ],
 "metadata": {
  "kernelspec": {
   "display_name": "Python 3 (ipykernel)",
   "language": "python",
   "name": "python3"
  },
  "language_info": {
   "codemirror_mode": {
    "name": "ipython",
    "version": 3
   },
   "file_extension": ".py",
   "mimetype": "text/x-python",
   "name": "python",
   "nbconvert_exporter": "python",
   "pygments_lexer": "ipython3",
   "version": "3.10.6"
  }
 },
 "nbformat": 4,
 "nbformat_minor": 5
}
