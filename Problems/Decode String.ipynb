{
 "cells": [
  {
   "cell_type": "markdown",
   "id": "2d527a5a",
   "metadata": {},
   "source": [
    "Given an encoded string, return its decoded string.\n",
    "\n",
    "The encoding rule is: k[encoded_string], where the encoded_string inside the square brackets is being repeated exactly k times. Note that k is guaranteed to be a positive integer.\n",
    "\n",
    "You may assume that the input string is always valid; there are no extra white spaces, square brackets are well-formed, etc. Furthermore, you may assume that the original data does not contain any digits and that digits are only for those repeat numbers, k. For example, there will not be input like 3a or 2[4].\n",
    "\n",
    "The test cases are generated so that the length of the output will never exceed 105.\n",
    "\n",
    " \n",
    "\n",
    "Example 1:\n",
    "\n",
    "Input: s = \"3[a]2[bc]\"\n",
    "\n",
    "Output: \"aaabcbc\"\n",
    "\n",
    "Example 2:\n",
    "\n",
    "Input: s = \"3[a2[c]]\"\n",
    "\n",
    "Output: \"accaccacc\"\n",
    "\n",
    "Example 3:\n",
    "\n",
    "Input: s = \"2[abc]3[cd]ef\"\n",
    "\n",
    "Output: \"abcabccdcdcdef\""
   ]
  },
  {
   "cell_type": "code",
   "execution_count": 174,
   "id": "5266ae4e",
   "metadata": {},
   "outputs": [],
   "source": [
    "def check(s):\n",
    "    if '[' in s:\n",
    "        return True\n",
    "    return False"
   ]
  },
  {
   "cell_type": "code",
   "execution_count": 177,
   "id": "ff91540d",
   "metadata": {},
   "outputs": [],
   "source": [
    "def fx(s):\n",
    "    arr=list(s)\n",
    "    res=\"\"\n",
    "    while check(arr):\n",
    "        i,j=0,0\n",
    "        while i<len(arr) and arr[i]!=']':\n",
    "            i+=1\n",
    "        j=i\n",
    "        while j<len(arr) and arr[j]!='[':\n",
    "            j-=1\n",
    "        c=''\n",
    "        idx=j-1\n",
    "        while arr[idx].isdigit():\n",
    "            c+=arr[idx]\n",
    "            idx-=1\n",
    "        c=int(c[::-1])\n",
    "        temp=''.join(c*arr[j+1:i])\n",
    "        for k in range(idx+1,i+1):\n",
    "            arr.pop(idx+1)\n",
    "        arr.insert(idx+1,temp)\n",
    "        res=res+\"\"\n",
    "    return ''.join(arr)"
   ]
  },
  {
   "cell_type": "code",
   "execution_count": 178,
   "id": "28b05f1f",
   "metadata": {},
   "outputs": [
    {
     "data": {
      "text/plain": [
       "'abcbcbcbcbcbcbcbcbcbcabcbcbcbcbcbcbcbcbcbcabcbcbcbcbcbcbcbcbcbc'"
      ]
     },
     "execution_count": 178,
     "metadata": {},
     "output_type": "execute_result"
    }
   ],
   "source": [
    "fx(\"3[a10[bc]]\")"
   ]
  },
  {
   "cell_type": "code",
   "execution_count": 179,
   "id": "256c478a",
   "metadata": {},
   "outputs": [
    {
     "data": {
      "text/plain": [
       "'aaabcbc'"
      ]
     },
     "execution_count": 179,
     "metadata": {},
     "output_type": "execute_result"
    }
   ],
   "source": [
    "fx(\"3[a]2[bc]\")"
   ]
  },
  {
   "cell_type": "code",
   "execution_count": 180,
   "id": "c44a295e",
   "metadata": {},
   "outputs": [
    {
     "data": {
      "text/plain": [
       "'accaccacc'"
      ]
     },
     "execution_count": 180,
     "metadata": {},
     "output_type": "execute_result"
    }
   ],
   "source": [
    "fx(\"3[a2[c]]\")"
   ]
  },
  {
   "cell_type": "code",
   "execution_count": 173,
   "id": "10d56c54",
   "metadata": {},
   "outputs": [
    {
     "data": {
      "text/plain": [
       "'abcabccdcdcdef'"
      ]
     },
     "execution_count": 173,
     "metadata": {},
     "output_type": "execute_result"
    }
   ],
   "source": [
    "fx(\"2[abc]3[cd]ef\")"
   ]
  },
  {
   "cell_type": "code",
   "execution_count": null,
   "id": "bdbfbe37",
   "metadata": {},
   "outputs": [],
   "source": []
  }
 ],
 "metadata": {
  "kernelspec": {
   "display_name": "Python 3 (ipykernel)",
   "language": "python",
   "name": "python3"
  },
  "language_info": {
   "codemirror_mode": {
    "name": "ipython",
    "version": 3
   },
   "file_extension": ".py",
   "mimetype": "text/x-python",
   "name": "python",
   "nbconvert_exporter": "python",
   "pygments_lexer": "ipython3",
   "version": "3.10.6"
  }
 },
 "nbformat": 4,
 "nbformat_minor": 5
}
