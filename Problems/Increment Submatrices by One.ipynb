{
 "cells": [
  {
   "cell_type": "markdown",
   "id": "695eeaaf",
   "metadata": {},
   "source": [
    "You are given a positive integer n, indicating that we initially have an n x n 0-indexed integer matrix mat filled with zeroes.\n",
    "\n",
    "You are also given a 2D integer array query. For each query[i] = [row1i, col1i, row2i, col2i], you should do the following operation:\n",
    "\n",
    "Add 1 to every element in the submatrix with the top left corner (row1i, col1i) and the bottom right corner (row2i, col2i). That is, add 1 to mat[x][y] for all row1i <= x <= row2i and col1i <= y <= col2i.\n",
    "Return the matrix mat after performing every query."
   ]
  },
  {
   "cell_type": "markdown",
   "id": "c0231e36",
   "metadata": {},
   "source": [
    "### Brute Force (Not Optimal)"
   ]
  },
  {
   "cell_type": "code",
   "execution_count": 3,
   "id": "521ce336",
   "metadata": {},
   "outputs": [],
   "source": [
    "def fx(n,queries):\n",
    "    mat=[[0]*n for i in range(n)]\n",
    "    def fill_ones(i1,j1,i2,j2):\n",
    "        for i in range(min(i1,i2),max(i1,i2)+1):\n",
    "            for j in range(min(j1,j2),max(j1,j2)+1):\n",
    "                mat[i][j]=mat[i][j]+1\n",
    "    for a,b,c,d in queries:\n",
    "        fill_ones(a,b,c,d)\n",
    "    return mat"
   ]
  },
  {
   "cell_type": "code",
   "execution_count": 4,
   "id": "40142442",
   "metadata": {},
   "outputs": [
    {
     "data": {
      "text/plain": [
       "[[1, 1, 0], [1, 2, 1], [0, 1, 1]]"
      ]
     },
     "execution_count": 4,
     "metadata": {},
     "output_type": "execute_result"
    }
   ],
   "source": [
    "fx(3,[[1,1,2,2],[0,0,1,1]])"
   ]
  }
 ],
 "metadata": {
  "kernelspec": {
   "display_name": "Python 3 (ipykernel)",
   "language": "python",
   "name": "python3"
  },
  "language_info": {
   "codemirror_mode": {
    "name": "ipython",
    "version": 3
   },
   "file_extension": ".py",
   "mimetype": "text/x-python",
   "name": "python",
   "nbconvert_exporter": "python",
   "pygments_lexer": "ipython3",
   "version": "3.10.6"
  }
 },
 "nbformat": 4,
 "nbformat_minor": 5
}
