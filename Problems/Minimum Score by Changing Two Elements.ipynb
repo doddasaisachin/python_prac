{
 "cells": [
  {
   "cell_type": "markdown",
   "id": "4fe4c55d",
   "metadata": {},
   "source": [
    "You are given a 0-indexed integer array nums.\n",
    "\n",
    "The low score of nums is the minimum value of |nums[i] - nums[j]| over all 0 <= i < j < nums.length.\n",
    "The high score of nums is the maximum value of |nums[i] - nums[j]| over all 0 <= i < j < nums.length.\n",
    "The score of nums is the sum of the high and low scores of nums.\n",
    "To minimize the score of nums, we can change the value of at most two elements of nums.\n",
    "\n",
    "Return the minimum possible score after changing the value of at most two elements of nums.\n",
    "\n",
    "Note that |x| denotes the absolute value of x.`"
   ]
  },
  {
   "cell_type": "code",
   "execution_count": 1,
   "id": "4a5cfda1",
   "metadata": {},
   "outputs": [],
   "source": [
    "def fx(nums):\n",
    "    nums.sort()\n",
    "    return min(nums[-2]-nums[1],nums[-3]-nums[0],nums[-1]-nums[2])\n",
    "    print(nums)"
   ]
  },
  {
   "cell_type": "code",
   "execution_count": 2,
   "id": "f99b7c97",
   "metadata": {},
   "outputs": [
    {
     "data": {
      "text/plain": [
       "24"
      ]
     },
     "execution_count": 2,
     "metadata": {},
     "output_type": "execute_result"
    }
   ],
   "source": [
    "fx([59,27,9,81,33])"
   ]
  },
  {
   "cell_type": "code",
   "execution_count": 3,
   "id": "1d3181ad",
   "metadata": {},
   "outputs": [
    {
     "data": {
      "text/plain": [
       "14"
      ]
     },
     "execution_count": 3,
     "metadata": {},
     "output_type": "execute_result"
    }
   ],
   "source": [
    "fx([31,25,72,79,74,65])"
   ]
  },
  {
   "cell_type": "code",
   "execution_count": 4,
   "id": "376d55b6",
   "metadata": {},
   "outputs": [
    {
     "data": {
      "text/plain": [
       "0"
      ]
     },
     "execution_count": 4,
     "metadata": {},
     "output_type": "execute_result"
    }
   ],
   "source": [
    "fx([1,4,3])"
   ]
  },
  {
   "cell_type": "code",
   "execution_count": 5,
   "id": "bdd80fa2",
   "metadata": {},
   "outputs": [
    {
     "data": {
      "text/plain": [
       "3"
      ]
     },
     "execution_count": 5,
     "metadata": {},
     "output_type": "execute_result"
    }
   ],
   "source": [
    "fx([1,4,7,8,5])"
   ]
  },
  {
   "cell_type": "code",
   "execution_count": null,
   "id": "02ecd9d4",
   "metadata": {},
   "outputs": [],
   "source": []
  },
  {
   "cell_type": "code",
   "execution_count": null,
   "id": "6d06aafb",
   "metadata": {},
   "outputs": [],
   "source": []
  }
 ],
 "metadata": {
  "kernelspec": {
   "display_name": "Python 3 (ipykernel)",
   "language": "python",
   "name": "python3"
  },
  "language_info": {
   "codemirror_mode": {
    "name": "ipython",
    "version": 3
   },
   "file_extension": ".py",
   "mimetype": "text/x-python",
   "name": "python",
   "nbconvert_exporter": "python",
   "pygments_lexer": "ipython3",
   "version": "3.10.6"
  }
 },
 "nbformat": 4,
 "nbformat_minor": 5
}
