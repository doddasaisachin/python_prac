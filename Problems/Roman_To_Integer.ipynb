{
 "cells": [
  {
   "cell_type": "code",
   "execution_count": 27,
   "id": "69292d06",
   "metadata": {},
   "outputs": [],
   "source": [
    "def romanToInt(s:str)->int:\n",
    "    roman_to_number={\n",
    "    'I':1,\n",
    "    'V':5,\n",
    "    'X':10,\n",
    "    'L':50,\n",
    "    'C':100,\n",
    "    'D':500,\n",
    "    'M':1000,\n",
    "    'IV':4,\n",
    "    'IX':9,\n",
    "    'XL':40,\n",
    "    'XC':90,\n",
    "    'CD':400,\n",
    "    'CM':900\n",
    "    }\n",
    "    idx=0\n",
    "    result_int=0\n",
    "    while idx<len(s):\n",
    "        roman=s[idx]\n",
    "        if idx+1<len(s) and (s[idx:idx+2] in roman_to_number.keys()):\n",
    "                result_int+=roman_to_number[s[idx:idx+2]]\n",
    "                idx+=2\n",
    "        else:\n",
    "            result_int+=roman_to_number[roman]\n",
    "            idx+=1\n",
    "    return result_int"
   ]
  },
  {
   "cell_type": "code",
   "execution_count": 28,
   "id": "2cd46f4f",
   "metadata": {
    "scrolled": true
   },
   "outputs": [
    {
     "data": {
      "text/plain": [
       "3"
      ]
     },
     "execution_count": 28,
     "metadata": {},
     "output_type": "execute_result"
    }
   ],
   "source": [
    "romanToInt('III')"
   ]
  },
  {
   "cell_type": "code",
   "execution_count": 29,
   "id": "c05cd922",
   "metadata": {
    "scrolled": true
   },
   "outputs": [
    {
     "data": {
      "text/plain": [
       "58"
      ]
     },
     "execution_count": 29,
     "metadata": {},
     "output_type": "execute_result"
    }
   ],
   "source": [
    "romanToInt('LVIII')"
   ]
  },
  {
   "cell_type": "code",
   "execution_count": 30,
   "id": "6e6c452d",
   "metadata": {
    "scrolled": false
   },
   "outputs": [
    {
     "data": {
      "text/plain": [
       "1994"
      ]
     },
     "execution_count": 30,
     "metadata": {},
     "output_type": "execute_result"
    }
   ],
   "source": [
    "romanToInt('MCMXCIV')"
   ]
  },
  {
   "cell_type": "code",
   "execution_count": null,
   "id": "0fe89371",
   "metadata": {},
   "outputs": [],
   "source": []
  }
 ],
 "metadata": {
  "kernelspec": {
   "display_name": "Python 3 (ipykernel)",
   "language": "python",
   "name": "python3"
  },
  "language_info": {
   "codemirror_mode": {
    "name": "ipython",
    "version": 3
   },
   "file_extension": ".py",
   "mimetype": "text/x-python",
   "name": "python",
   "nbconvert_exporter": "python",
   "pygments_lexer": "ipython3",
   "version": "3.10.6"
  }
 },
 "nbformat": 4,
 "nbformat_minor": 5
}
