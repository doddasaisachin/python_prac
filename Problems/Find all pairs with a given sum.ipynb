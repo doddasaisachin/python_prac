{
 "cells": [
  {
   "cell_type": "markdown",
   "id": "5d418d4e",
   "metadata": {},
   "source": [
    "Given two unsorted arrays A of size N and B of size M of distinct elements, the task is to find all pairs from both arrays whose sum is equal to X.\n",
    "\n",
    "Note: All pairs should be printed in increasing order of u. For eg. for two pairs (u1,v1) and (u2,v2), if u1 < u2 then\n",
    "(u1,v1) should be printed first else second."
   ]
  },
  {
   "cell_type": "markdown",
   "id": "167f12e8",
   "metadata": {},
   "source": [
    "###### Example 1:\n",
    "\n",
    "Input:\n",
    "A[] = {1, 2, 4, 5, 7}\n",
    "B[] = {5, 6, 3, 4, 8} \n",
    "X = 9 \n",
    "\n",
    "Output: \n",
    "    \n",
    "1 8\n",
    "\n",
    "4 5 \n",
    "\n",
    "5 4\n",
    "\n",
    "Explanation:\n",
    "(1, 8), (4, 5), (5, 4) are the\n",
    "pairs which sum to 9."
   ]
  },
  {
   "cell_type": "markdown",
   "id": "697daf62",
   "metadata": {},
   "source": [
    "##### Example 2:\n",
    "Input:\n",
    "A[] = {-1, -2, 4, -6, 5, 7}\n",
    "B[] = {6, 3, 4, 0} \n",
    "X = 8 \n",
    "\n",
    "Output:\n",
    "4 4 \n",
    "\n",
    "5 3"
   ]
  },
  {
   "cell_type": "code",
   "execution_count": 13,
   "id": "647eb9bf",
   "metadata": {},
   "outputs": [],
   "source": [
    "def func(arr1,arr2,s):\n",
    "    res=[]\n",
    "    for i in arr1:\n",
    "        for j in arr2:\n",
    "            if i+j==s:\n",
    "                res.append((i,j))\n",
    "    res.sort(key=lambda x : x[0])\n",
    "    return res"
   ]
  },
  {
   "cell_type": "code",
   "execution_count": 14,
   "id": "675cb855",
   "metadata": {},
   "outputs": [
    {
     "data": {
      "text/plain": [
       "[(1, 8), (4, 5), (5, 4)]"
      ]
     },
     "execution_count": 14,
     "metadata": {},
     "output_type": "execute_result"
    }
   ],
   "source": [
    "func([1,2,4,5,7],[5,6,3,4,8],9)"
   ]
  },
  {
   "cell_type": "code",
   "execution_count": 15,
   "id": "344c1f37",
   "metadata": {},
   "outputs": [
    {
     "data": {
      "text/plain": [
       "[(4, 4), (5, 3)]"
      ]
     },
     "execution_count": 15,
     "metadata": {},
     "output_type": "execute_result"
    }
   ],
   "source": [
    "func([-1,-2,4,-6,5,7],[6,3,4,0],8)"
   ]
  },
  {
   "cell_type": "code",
   "execution_count": null,
   "id": "a7233c73",
   "metadata": {},
   "outputs": [],
   "source": []
  }
 ],
 "metadata": {
  "kernelspec": {
   "display_name": "Python 3 (ipykernel)",
   "language": "python",
   "name": "python3"
  },
  "language_info": {
   "codemirror_mode": {
    "name": "ipython",
    "version": 3
   },
   "file_extension": ".py",
   "mimetype": "text/x-python",
   "name": "python",
   "nbconvert_exporter": "python",
   "pygments_lexer": "ipython3",
   "version": "3.10.6"
  }
 },
 "nbformat": 4,
 "nbformat_minor": 5
}
