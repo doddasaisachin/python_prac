{
 "cells": [
  {
   "cell_type": "markdown",
   "id": "dabf9a48",
   "metadata": {},
   "source": [
    "Example 1:\n",
    "\n",
    "Input: num = 3\n",
    "Output: \"III\"\n",
    "Explanation: 3 is represented as 3 ones.\n",
    "    \n",
    "Example 2:\n",
    "\n",
    "Input: num = 58\n",
    "Output: \"LVIII\"\n",
    "Explanation: L = 50, V = 5, III = 3.\n",
    "    \n",
    "Example 3:\n",
    "\n",
    "Input: num = 1994\n",
    "Output: \"MCMXCIV\"\n",
    "Explanation: M = 1000, CM = 900, XC = 90 and IV = 4."
   ]
  },
  {
   "cell_type": "code",
   "execution_count": 44,
   "id": "f310ec65",
   "metadata": {},
   "outputs": [],
   "source": [
    "d={\n",
    "    1000: 'M',\n",
    "    500: 'D',\n",
    "    100: 'C',\n",
    "    50: 'L',\n",
    "    10: 'X',\n",
    "    5: 'V',\n",
    "    1: 'I'\n",
    "}"
   ]
  },
  {
   "cell_type": "code",
   "execution_count": 49,
   "id": "5eb7f31a",
   "metadata": {},
   "outputs": [],
   "source": [
    "def fx(n):\n",
    "    res=''\n",
    "    while n>0:\n",
    "        for i in d.keys():\n",
    "            if n>=900 and n<1000:\n",
    "                res+=\"CM\"\n",
    "                n=n-900\n",
    "                break\n",
    "            if n>=400 and n<500:\n",
    "                res+=\"CD\"\n",
    "                n=n-400\n",
    "                break\n",
    "            if n>=40 and n<50:\n",
    "                res+=\"XL\"\n",
    "                n=n-40\n",
    "                break\n",
    "            if n>=90 and n<100:\n",
    "                res+=\"XC\"\n",
    "                n=n-90\n",
    "                break\n",
    "            if n==4:\n",
    "                res+='IV'\n",
    "                n=n-4\n",
    "            if n==9:\n",
    "                res+='IX'\n",
    "                n=n-9\n",
    "            if n//i>=1:\n",
    "                res+=(n//i*d[i])\n",
    "                n=n%i\n",
    "                break\n",
    "    return res"
   ]
  },
  {
   "cell_type": "code",
   "execution_count": 50,
   "id": "e45568c3",
   "metadata": {},
   "outputs": [
    {
     "data": {
      "text/plain": [
       "'III'"
      ]
     },
     "execution_count": 50,
     "metadata": {},
     "output_type": "execute_result"
    }
   ],
   "source": [
    "fx(3)"
   ]
  },
  {
   "cell_type": "code",
   "execution_count": 51,
   "id": "5d935f9a",
   "metadata": {},
   "outputs": [
    {
     "data": {
      "text/plain": [
       "'LVIII'"
      ]
     },
     "execution_count": 51,
     "metadata": {},
     "output_type": "execute_result"
    }
   ],
   "source": [
    "fx(58)"
   ]
  },
  {
   "cell_type": "code",
   "execution_count": 52,
   "id": "bbb7579d",
   "metadata": {},
   "outputs": [
    {
     "data": {
      "text/plain": [
       "'MCMXCIV'"
      ]
     },
     "execution_count": 52,
     "metadata": {},
     "output_type": "execute_result"
    }
   ],
   "source": [
    "fx(1994)"
   ]
  },
  {
   "cell_type": "code",
   "execution_count": null,
   "id": "2579a867",
   "metadata": {},
   "outputs": [],
   "source": []
  }
 ],
 "metadata": {
  "kernelspec": {
   "display_name": "Python 3 (ipykernel)",
   "language": "python",
   "name": "python3"
  },
  "language_info": {
   "codemirror_mode": {
    "name": "ipython",
    "version": 3
   },
   "file_extension": ".py",
   "mimetype": "text/x-python",
   "name": "python",
   "nbconvert_exporter": "python",
   "pygments_lexer": "ipython3",
   "version": "3.10.6"
  }
 },
 "nbformat": 4,
 "nbformat_minor": 5
}
