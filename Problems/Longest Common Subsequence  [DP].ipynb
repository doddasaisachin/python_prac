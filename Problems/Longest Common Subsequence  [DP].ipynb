{
 "cells": [
  {
   "cell_type": "markdown",
   "id": "7d01a5ec",
   "metadata": {},
   "source": [
    "#### Recursive Solution"
   ]
  },
  {
   "cell_type": "code",
   "execution_count": 38,
   "id": "44e61419",
   "metadata": {},
   "outputs": [],
   "source": [
    "def func(s1,s2,i,j):\n",
    "    if i<0 or j<0:\n",
    "        return 0\n",
    "    elif s1[i]==s2[j]:\n",
    "        return 1+func(s1,s2,i-1,j-1)\n",
    "    else:\n",
    "        return max(func(s1,s2,i-1,j),func(s1,s2,i,j-1))"
   ]
  },
  {
   "cell_type": "markdown",
   "id": "b464b169",
   "metadata": {},
   "source": [
    "#### Dynamic Programming"
   ]
  },
  {
   "cell_type": "code",
   "execution_count": 36,
   "id": "93d2ce13",
   "metadata": {},
   "outputs": [],
   "source": [
    "def fx(s1,s2,i,j):\n",
    "    mat=[[0]*(len(s2)+1) for _ in range(len(s1)+1)]\n",
    "    m,n=len(s1),len(s2)\n",
    "    for i in range(m+1):\n",
    "        mat[i][0]=0\n",
    "    for i in range(n+1):\n",
    "        mat[0][i]=0\n",
    "    temp1=0\n",
    "    for i in range(1,m+1):\n",
    "        temp2=0\n",
    "        for j in range(1,n+1):\n",
    "            if s1[temp1]==s2[temp2]:\n",
    "                mat[i][j]=1+mat[i-1][j-1]\n",
    "            else:\n",
    "                mat[i][j]=max(mat[i-1][j],mat[i][j-1])\n",
    "            temp2+=1\n",
    "        temp1+=1\n",
    "    return mat[-1][-1]"
   ]
  },
  {
   "cell_type": "code",
   "execution_count": 37,
   "id": "ceb459a9",
   "metadata": {},
   "outputs": [
    {
     "data": {
      "text/plain": [
       "3"
      ]
     },
     "execution_count": 37,
     "metadata": {},
     "output_type": "execute_result"
    }
   ],
   "source": [
    "fx('sachin','sai',5,2)"
   ]
  },
  {
   "cell_type": "code",
   "execution_count": 34,
   "id": "2d560f12",
   "metadata": {},
   "outputs": [],
   "source": [
    "text1 = \"abc\"\n",
    "text2 = \"ace\" "
   ]
  },
  {
   "cell_type": "code",
   "execution_count": 35,
   "id": "f73f318d",
   "metadata": {},
   "outputs": [
    {
     "data": {
      "text/plain": [
       "2"
      ]
     },
     "execution_count": 35,
     "metadata": {},
     "output_type": "execute_result"
    }
   ],
   "source": [
    "fx(text1,text2,len(text1)-1,len(text2)-1)"
   ]
  },
  {
   "cell_type": "code",
   "execution_count": null,
   "id": "1f44ef82",
   "metadata": {},
   "outputs": [],
   "source": []
  }
 ],
 "metadata": {
  "kernelspec": {
   "display_name": "Python 3 (ipykernel)",
   "language": "python",
   "name": "python3"
  },
  "language_info": {
   "codemirror_mode": {
    "name": "ipython",
    "version": 3
   },
   "file_extension": ".py",
   "mimetype": "text/x-python",
   "name": "python",
   "nbconvert_exporter": "python",
   "pygments_lexer": "ipython3",
   "version": "3.10.6"
  }
 },
 "nbformat": 4,
 "nbformat_minor": 5
}
