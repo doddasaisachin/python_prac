{
 "cells": [
  {
   "cell_type": "markdown",
   "id": "c72e0ec1",
   "metadata": {},
   "source": [
    "Given an array(0-based indexing), you have to find the max sum of i*A[i] where A[i] is the element at index i in the array. The only operation allowed is to rotate(clock-wise or counter clock-wise) the array any number of times."
   ]
  },
  {
   "cell_type": "markdown",
   "id": "173e46d0",
   "metadata": {},
   "source": [
    "#### Example 1:\n",
    "\n",
    "Input:\n",
    "N = 4\n",
    "A[] = [8,3,1,2]\n",
    "\n",
    "Output: 29\n",
    "\n",
    "Explanation: Above the configuration\n",
    "possible by rotating elements are\n",
    "\n",
    "3 1 2 8 here sum is 3*0+1*1+2*2+8*3 = 29\n",
    "\n",
    "1 2 8 3 here sum is 1*0+2*1+8*2+3*3 = 27\n",
    "\n",
    "2 8 3 1 here sum is 2*0+8*1+3*2+1*3 = 17\n",
    "\n",
    "8 3 1 2 here sum is 8*0+3*1+1*2+2*3 = 11\n",
    "\n",
    "Here the max sum is 29 "
   ]
  },
  {
   "cell_type": "code",
   "execution_count": 27,
   "id": "32f1a2fb",
   "metadata": {},
   "outputs": [],
   "source": [
    "def func(n,a):\n",
    "    tot=[]\n",
    "    for i in range(n):\n",
    "        pre=a[:i]\n",
    "        post=a[i:]\n",
    "        post.extend(pre)\n",
    "        s=0\n",
    "        for j in range(n):\n",
    "            s=s+((j)*post[j])\n",
    "        tot.append(s)\n",
    "        \n",
    "    return max(tot)"
   ]
  },
  {
   "cell_type": "code",
   "execution_count": 46,
   "id": "61c88564",
   "metadata": {},
   "outputs": [],
   "source": [
    "a=[8,3,1,2]"
   ]
  },
  {
   "cell_type": "code",
   "execution_count": 47,
   "id": "b7fad595",
   "metadata": {},
   "outputs": [
    {
     "data": {
      "text/plain": [
       "29"
      ]
     },
     "execution_count": 47,
     "metadata": {},
     "output_type": "execute_result"
    }
   ],
   "source": [
    "func(4,a)"
   ]
  },
  {
   "cell_type": "code",
   "execution_count": 24,
   "id": "3e5dfa1d",
   "metadata": {},
   "outputs": [],
   "source": [
    "def func(n,arr):\n",
    "    tot=[]\n",
    "    for i in range(n):\n",
    "        pre=arr[:i]\n",
    "        post=arr[i:]\n",
    "        post.extend(pre)\n",
    "        tot.append(post)\n",
    "    count=[]\n",
    "    for j in tot:\n",
    "        count.append(sum(list(map(lambda x : ((j.index(x))*x),j))))\n",
    "    return max(count)"
   ]
  },
  {
   "cell_type": "code",
   "execution_count": 45,
   "id": "2fb598b7",
   "metadata": {
    "scrolled": true
   },
   "outputs": [
    {
     "data": {
      "text/plain": [
       "20"
      ]
     },
     "execution_count": 45,
     "metadata": {},
     "output_type": "execute_result"
    }
   ],
   "source": [
    "func(4,[1,2,3,4])"
   ]
  },
  {
   "cell_type": "code",
   "execution_count": 59,
   "id": "842fa16c",
   "metadata": {},
   "outputs": [],
   "source": [
    "def func(n,a):\n",
    "    tot=[]\n",
    "    for i in range(n):\n",
    "        pre=a[:i]\n",
    "        post=a[i:]\n",
    "        post.extend(pre)\n",
    "        s=0\n",
    "        for j in range(n):\n",
    "            s=s+((j)*post[j])\n",
    "        tot.append(s)\n",
    "        \n",
    "    return max(tot)"
   ]
  },
  {
   "cell_type": "code",
   "execution_count": null,
   "id": "76bb6900",
   "metadata": {},
   "outputs": [],
   "source": []
  }
 ],
 "metadata": {
  "kernelspec": {
   "display_name": "Python 3 (ipykernel)",
   "language": "python",
   "name": "python3"
  },
  "language_info": {
   "codemirror_mode": {
    "name": "ipython",
    "version": 3
   },
   "file_extension": ".py",
   "mimetype": "text/x-python",
   "name": "python",
   "nbconvert_exporter": "python",
   "pygments_lexer": "ipython3",
   "version": "3.10.6"
  }
 },
 "nbformat": 4,
 "nbformat_minor": 5
}
