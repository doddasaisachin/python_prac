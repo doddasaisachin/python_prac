{
 "cells": [
  {
   "cell_type": "markdown",
   "id": "84b4c017",
   "metadata": {},
   "source": [
    "Given an array arr of n elements that is first strictly increasing and then maybe strictly decreasing, find the maximum element in the array.\n",
    "Note: If the array is increasing then just print the last element will be the maximum value."
   ]
  },
  {
   "cell_type": "markdown",
   "id": "ab06b10f",
   "metadata": {},
   "source": [
    "##### Example 1:\n",
    "\n",
    "Input: \n",
    "n = 9\n",
    "arr[] = [1,15,25,45,42,21,17,12,11]\n",
    "\n",
    "Output: 45\n",
    "\n",
    "Explanation: Maximum element is 45."
   ]
  },
  {
   "cell_type": "markdown",
   "id": "be6b29d9",
   "metadata": {},
   "source": [
    "##### Example 2:\n",
    "\n",
    "Input: \n",
    "n = 5\n",
    "arr[] = [1, 45, 47, 50, 5]\n",
    "\n",
    "Output: 50\n",
    "    \n",
    "Explanation: Maximum element is 50."
   ]
  },
  {
   "cell_type": "code",
   "execution_count": 60,
   "id": "a39dbd89",
   "metadata": {},
   "outputs": [],
   "source": [
    "def func(n,arr):\n",
    "    for i in range(1,n):\n",
    "        if i+1==n:\n",
    "            return i+1\n",
    "        if (arr[i-1]<arr[i]) and (arr[i]>arr[i+1]):\n",
    "            return arr[i]"
   ]
  },
  {
   "cell_type": "code",
   "execution_count": 61,
   "id": "e4a37da0",
   "metadata": {},
   "outputs": [
    {
     "data": {
      "text/plain": [
       "50"
      ]
     },
     "execution_count": 61,
     "metadata": {},
     "output_type": "execute_result"
    }
   ],
   "source": [
    "func(5,[1,45,47,50,5])"
   ]
  },
  {
   "cell_type": "code",
   "execution_count": 62,
   "id": "35c886ee",
   "metadata": {},
   "outputs": [
    {
     "data": {
      "text/plain": [
       "45"
      ]
     },
     "execution_count": 62,
     "metadata": {},
     "output_type": "execute_result"
    }
   ],
   "source": [
    "func(9,list([1,15,25,45,42,21,17,12,11]))"
   ]
  },
  {
   "cell_type": "code",
   "execution_count": 63,
   "id": "304fdfd4",
   "metadata": {},
   "outputs": [
    {
     "data": {
      "text/plain": [
       "10"
      ]
     },
     "execution_count": 63,
     "metadata": {},
     "output_type": "execute_result"
    }
   ],
   "source": [
    "func(10,[1,2,3,4,5,6,7,8,9,10])"
   ]
  },
  {
   "cell_type": "code",
   "execution_count": null,
   "id": "ac0e6869",
   "metadata": {},
   "outputs": [],
   "source": []
  }
 ],
 "metadata": {
  "kernelspec": {
   "display_name": "Python 3 (ipykernel)",
   "language": "python",
   "name": "python3"
  },
  "language_info": {
   "codemirror_mode": {
    "name": "ipython",
    "version": 3
   },
   "file_extension": ".py",
   "mimetype": "text/x-python",
   "name": "python",
   "nbconvert_exporter": "python",
   "pygments_lexer": "ipython3",
   "version": "3.10.6"
  }
 },
 "nbformat": 4,
 "nbformat_minor": 5
}
