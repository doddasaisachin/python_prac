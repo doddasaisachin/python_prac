{
 "cells": [
  {
   "cell_type": "markdown",
   "id": "be59d065",
   "metadata": {},
   "source": [
    "Hercy wants to save money for his first car. He puts money in the Leetcode bank every day.\n",
    "\n",
    "He starts by putting in $1 on Monday, the first day. Every day from Tuesday to Sunday, he will put in $1 more than the day before. On every subsequent Monday, he will put in $1 more than the previous Monday.\n",
    "Given n, return the total amount of money he will have in the Leetcode bank at the end of the nth day.\n",
    "\n",
    " \n",
    "\n",
    "Example 1:\n",
    "\n",
    "Input: n = 4\n",
    "Output: 10\n",
    "Explanation: After the 4th day, the total is 1 + 2 + 3 + 4 = 10.\n",
    "    \n",
    "Example 2:\n",
    "\n",
    "Input: n = 10\n",
    "Output: 37\n",
    "Explanation: After the 10th day, the total is (1 + 2 + 3 + 4 + 5 + 6 + 7) + (2 + 3 + 4) = 37. Notice that on the 2nd Monday, Hercy only puts in $2.\n",
    "    \n",
    "Example 3:\n",
    "\n",
    "Input: n = 20\n",
    "Output: 96\n",
    "Explanation: After the 20th day, the total is (1 + 2 + 3 + 4 + 5 + 6 + 7) + (2 + 3 + 4 + 5 + 6 + 7 + 8) + (3 + 4 + 5 + 6 + 7 + 8) = 96."
   ]
  },
  {
   "cell_type": "code",
   "execution_count": 1,
   "id": "c8045078",
   "metadata": {},
   "outputs": [],
   "source": [
    "def fx(n):\n",
    "    ans=0\n",
    "    temp=1\n",
    "    dif=1\n",
    "    for i in range(1,n+1):\n",
    "        if i<=(7*dif):\n",
    "            ans+=temp\n",
    "            temp+=1\n",
    "        else:\n",
    "            dif+=1\n",
    "            ans+=dif\n",
    "            temp=dif+1\n",
    "    return ans"
   ]
  },
  {
   "cell_type": "code",
   "execution_count": 2,
   "id": "04b81a38",
   "metadata": {},
   "outputs": [
    {
     "data": {
      "text/plain": [
       "10"
      ]
     },
     "execution_count": 2,
     "metadata": {},
     "output_type": "execute_result"
    }
   ],
   "source": [
    "fx(4)"
   ]
  },
  {
   "cell_type": "code",
   "execution_count": 3,
   "id": "b0bae52e",
   "metadata": {},
   "outputs": [
    {
     "data": {
      "text/plain": [
       "37"
      ]
     },
     "execution_count": 3,
     "metadata": {},
     "output_type": "execute_result"
    }
   ],
   "source": [
    "fx(10)"
   ]
  },
  {
   "cell_type": "code",
   "execution_count": 4,
   "id": "a62803cf",
   "metadata": {},
   "outputs": [
    {
     "data": {
      "text/plain": [
       "96"
      ]
     },
     "execution_count": 4,
     "metadata": {},
     "output_type": "execute_result"
    }
   ],
   "source": [
    "fx(20)"
   ]
  },
  {
   "cell_type": "code",
   "execution_count": null,
   "id": "68ee61e5",
   "metadata": {},
   "outputs": [],
   "source": []
  }
 ],
 "metadata": {
  "kernelspec": {
   "display_name": "Python 3 (ipykernel)",
   "language": "python",
   "name": "python3"
  },
  "language_info": {
   "codemirror_mode": {
    "name": "ipython",
    "version": 3
   },
   "file_extension": ".py",
   "mimetype": "text/x-python",
   "name": "python",
   "nbconvert_exporter": "python",
   "pygments_lexer": "ipython3",
   "version": "3.10.6"
  }
 },
 "nbformat": 4,
 "nbformat_minor": 5
}
