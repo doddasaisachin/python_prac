{
 "cells": [
  {
   "cell_type": "markdown",
   "id": "40232578",
   "metadata": {},
   "source": [
    "Given a string s and a string array dictionary, return the longest string in the dictionary that can be formed by deleting some of the given string characters. If there is more than one possible result, return the longest word with the smallest lexicographical order. If there is no possible result, return the empty string"
   ]
  },
  {
   "cell_type": "code",
   "execution_count": 1,
   "id": "805b6d28",
   "metadata": {},
   "outputs": [],
   "source": [
    "def find(s,word):\n",
    "    idx=0\n",
    "    for i in s:\n",
    "        if i==word[idx]:\n",
    "            if idx+1==len(word):\n",
    "                return True\n",
    "            idx+=1\n",
    "    return False"
   ]
  },
  {
   "cell_type": "code",
   "execution_count": 15,
   "id": "c70a5cb6",
   "metadata": {},
   "outputs": [],
   "source": [
    "def main(s,words):\n",
    "    seen=''\n",
    "    for i in words:\n",
    "        if find(s,i):\n",
    "            if len(i)>len(seen):\n",
    "                seen=i\n",
    "            elif len(i)==len(seen) and i<seen:\n",
    "                seen=i\n",
    "    return seen"
   ]
  },
  {
   "cell_type": "code",
   "execution_count": 16,
   "id": "42a97921",
   "metadata": {},
   "outputs": [
    {
     "data": {
      "text/plain": [
       "'a'"
      ]
     },
     "execution_count": 16,
     "metadata": {},
     "output_type": "execute_result"
    }
   ],
   "source": [
    "main(\"abpcplea\",['a','b','c'])"
   ]
  },
  {
   "cell_type": "code",
   "execution_count": 17,
   "id": "ee672016",
   "metadata": {},
   "outputs": [
    {
     "data": {
      "text/plain": [
       "'apple'"
      ]
     },
     "execution_count": 17,
     "metadata": {},
     "output_type": "execute_result"
    }
   ],
   "source": [
    "main(\"abpcplea\",[\"ale\",\"apple\",\"monkey\",\"plea\"])"
   ]
  },
  {
   "cell_type": "code",
   "execution_count": null,
   "id": "4dedaab0",
   "metadata": {},
   "outputs": [],
   "source": []
  }
 ],
 "metadata": {
  "kernelspec": {
   "display_name": "Python 3 (ipykernel)",
   "language": "python",
   "name": "python3"
  },
  "language_info": {
   "codemirror_mode": {
    "name": "ipython",
    "version": 3
   },
   "file_extension": ".py",
   "mimetype": "text/x-python",
   "name": "python",
   "nbconvert_exporter": "python",
   "pygments_lexer": "ipython3",
   "version": "3.10.6"
  }
 },
 "nbformat": 4,
 "nbformat_minor": 5
}
