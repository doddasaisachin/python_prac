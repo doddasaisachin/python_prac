{
 "cells": [
  {
   "cell_type": "code",
   "execution_count": 1,
   "id": "05c66557",
   "metadata": {},
   "outputs": [],
   "source": [
    "class binary_search_tree:\n",
    "    def __init__(self,data):\n",
    "        self.data=data\n",
    "        self.left=None\n",
    "        self.right=None\n",
    "    def insert(self,new_data):\n",
    "        if self.data==new_data:\n",
    "            return\n",
    "        if new_data<self.data:\n",
    "            if self.left:\n",
    "                self.left.insert(new_data)\n",
    "            else:\n",
    "                self.left=binary_search_tree(new_data)\n",
    "        else:\n",
    "            if self.right:\n",
    "                self.right.insert(new_data)\n",
    "            else:\n",
    "                self.right=binary_search_tree(new_data)\n",
    "    def inorder(self):\n",
    "        res=[]\n",
    "        if self.left:\n",
    "            res=res+self.left.inorder()\n",
    "        res.append(self.data)\n",
    "        if self.right:\n",
    "            res=res+self.right.inorder()\n",
    "        return res"
   ]
  },
  {
   "cell_type": "code",
   "execution_count": 4,
   "id": "81d523e9",
   "metadata": {},
   "outputs": [],
   "source": [
    "root=binary_search_tree(10)"
   ]
  },
  {
   "cell_type": "code",
   "execution_count": 5,
   "id": "f8cda087",
   "metadata": {},
   "outputs": [],
   "source": [
    "for i in range(7,15):\n",
    "    root.insert(i)"
   ]
  },
  {
   "cell_type": "code",
   "execution_count": 6,
   "id": "d709c777",
   "metadata": {},
   "outputs": [
    {
     "data": {
      "text/plain": [
       "[7, 8, 9, 10, 11, 12, 13, 14]"
      ]
     },
     "execution_count": 6,
     "metadata": {},
     "output_type": "execute_result"
    }
   ],
   "source": [
    "root.inorder()"
   ]
  },
  {
   "cell_type": "code",
   "execution_count": 7,
   "id": "dc416c79",
   "metadata": {},
   "outputs": [],
   "source": [
    "def max_depth(root):\n",
    "    if root is None:\n",
    "        return 0\n",
    "    else:\n",
    "        ldepth=max_depth(root.left)\n",
    "        rdepth=max_depth(root.right)\n",
    "        if ldepth>rdepth:\n",
    "            return ldepth+1\n",
    "        else:\n",
    "            return rdepth+1"
   ]
  },
  {
   "cell_type": "code",
   "execution_count": 8,
   "id": "c5b3f6ea",
   "metadata": {},
   "outputs": [
    {
     "data": {
      "text/plain": [
       "5"
      ]
     },
     "execution_count": 8,
     "metadata": {},
     "output_type": "execute_result"
    }
   ],
   "source": [
    "max_depth(root)"
   ]
  },
  {
   "cell_type": "code",
   "execution_count": 9,
   "id": "cd6842b0",
   "metadata": {},
   "outputs": [],
   "source": [
    "r2=binary_search_tree(0)"
   ]
  },
  {
   "cell_type": "code",
   "execution_count": 13,
   "id": "96d23284",
   "metadata": {},
   "outputs": [],
   "source": [
    "for i in [-10,-3,5,9]:\n",
    "    r2.insert(i)"
   ]
  },
  {
   "cell_type": "code",
   "execution_count": 14,
   "id": "068c962a",
   "metadata": {},
   "outputs": [
    {
     "data": {
      "text/plain": [
       "[-10, -3, 0, 5, 9]"
      ]
     },
     "execution_count": 14,
     "metadata": {},
     "output_type": "execute_result"
    }
   ],
   "source": [
    "r2.inorder()"
   ]
  },
  {
   "cell_type": "code",
   "execution_count": 15,
   "id": "b73d5720",
   "metadata": {},
   "outputs": [
    {
     "data": {
      "text/plain": [
       "3"
      ]
     },
     "execution_count": 15,
     "metadata": {},
     "output_type": "execute_result"
    }
   ],
   "source": [
    "max_depth(r2)"
   ]
  },
  {
   "cell_type": "code",
   "execution_count": null,
   "id": "2d845590",
   "metadata": {},
   "outputs": [],
   "source": []
  }
 ],
 "metadata": {
  "kernelspec": {
   "display_name": "Python 3 (ipykernel)",
   "language": "python",
   "name": "python3"
  },
  "language_info": {
   "codemirror_mode": {
    "name": "ipython",
    "version": 3
   },
   "file_extension": ".py",
   "mimetype": "text/x-python",
   "name": "python",
   "nbconvert_exporter": "python",
   "pygments_lexer": "ipython3",
   "version": "3.10.6"
  }
 },
 "nbformat": 4,
 "nbformat_minor": 5
}
