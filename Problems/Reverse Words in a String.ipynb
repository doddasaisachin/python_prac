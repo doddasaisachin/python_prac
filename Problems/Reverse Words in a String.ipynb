{
 "cells": [
  {
   "cell_type": "markdown",
   "id": "a49be7b8",
   "metadata": {},
   "source": [
    "##### Note that S may contain leading or trailing spaces or multiple spaces between two words. "
   ]
  },
  {
   "cell_type": "markdown",
   "id": "489312c5",
   "metadata": {},
   "source": [
    "Example 1:\n",
    "Input: s = \"the sky is blue\"\n",
    "Output: \"blue is sky the\"\n",
    "    \n",
    "Example 2:\n",
    "Input: s = \"  hello world  \"\n",
    "Output: \"world hello\"\n",
    "\n",
    "Example 3:\n",
    "Input: s = \"a good   example\"\n",
    "Output: \"example good a\""
   ]
  },
  {
   "cell_type": "code",
   "execution_count": 13,
   "id": "74e1af68",
   "metadata": {},
   "outputs": [],
   "source": [
    "def func(s):\n",
    "    return ' '.join(list(reversed(s.split())))"
   ]
  },
  {
   "cell_type": "code",
   "execution_count": 16,
   "id": "a08a9b23",
   "metadata": {},
   "outputs": [
    {
     "data": {
      "text/plain": [
       "'Mornin good Hello'"
      ]
     },
     "execution_count": 16,
     "metadata": {},
     "output_type": "execute_result"
    }
   ],
   "source": [
    "func('Hello         good Mornin')"
   ]
  },
  {
   "cell_type": "code",
   "execution_count": 18,
   "id": "a63a5b71",
   "metadata": {},
   "outputs": [
    {
     "data": {
      "text/plain": [
       "'Blue is sky The'"
      ]
     },
     "execution_count": 18,
     "metadata": {},
     "output_type": "execute_result"
    }
   ],
   "source": [
    "func('The   sky is       Blue')"
   ]
  },
  {
   "cell_type": "code",
   "execution_count": null,
   "id": "bf07bd82",
   "metadata": {},
   "outputs": [],
   "source": []
  }
 ],
 "metadata": {
  "kernelspec": {
   "display_name": "Python 3 (ipykernel)",
   "language": "python",
   "name": "python3"
  },
  "language_info": {
   "codemirror_mode": {
    "name": "ipython",
    "version": 3
   },
   "file_extension": ".py",
   "mimetype": "text/x-python",
   "name": "python",
   "nbconvert_exporter": "python",
   "pygments_lexer": "ipython3",
   "version": "3.10.6"
  }
 },
 "nbformat": 4,
 "nbformat_minor": 5
}
