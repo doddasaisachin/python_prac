{
 "cells": [
  {
   "cell_type": "markdown",
   "id": "82620900",
   "metadata": {},
   "source": [
    "Determine if a 9 x 9 Sudoku board is valid. Only the filled cells need to be validated according to the following rules:\n",
    "\n",
    "1. Each row must contain the digits 1-9 without repetition.\n",
    "2. Each column must contain the digits 1-9 without repetition.\n",
    "3. Each of the nine 3 x 3 sub-boxes of the grid must contain the digits 1-9 without repetition"
   ]
  },
  {
   "cell_type": "code",
   "execution_count": 1,
   "id": "b2c17d84",
   "metadata": {},
   "outputs": [],
   "source": [
    "def check_row(mat,i):\n",
    "    seen=[]\n",
    "    for i in mat[i]:\n",
    "        if i==\".\":\n",
    "            pass\n",
    "        elif i not in seen:\n",
    "            seen.append(i)\n",
    "        else:\n",
    "            return False\n",
    "    return True\n",
    "def check_column(mat,j):\n",
    "    seen=[]\n",
    "    for k in range(9):\n",
    "        if mat[k][j]==\".\":\n",
    "            pass\n",
    "        elif mat[k][j] not in seen:\n",
    "            seen.append(mat[k][j])\n",
    "        else:\n",
    "            return False\n",
    "    return True\n",
    "def check_grid(mat,st,end):\n",
    "    seen=[]\n",
    "    for i in range(st,st+3):\n",
    "        for j in range(end,end+3):\n",
    "            if mat[i][j]==\".\":\n",
    "                pass\n",
    "            elif mat[i][j] not in seen:\n",
    "                seen.append(mat[i][j])\n",
    "            else:\n",
    "                return False\n",
    "    return True\n",
    "\n",
    "def isValidSudoku(mat) -> bool:\n",
    "    r,c,g=True,True,True\n",
    "    for i in range(9):\n",
    "        r= r and check_row(mat,i)\n",
    "    for j in range(9):\n",
    "        c=c and check_column(mat,j)\n",
    "    for i in range(3):\n",
    "        for j in range(3):\n",
    "            s,e=i*3,j*3\n",
    "            g=g and check_grid(mat,s,e)\n",
    "    return r and c and g"
   ]
  },
  {
   "cell_type": "code",
   "execution_count": 3,
   "id": "9a90ed07",
   "metadata": {},
   "outputs": [],
   "source": [
    "mat=[[\"5\",\"3\",\".\",\".\",\"7\",\".\",\".\",\".\",\".\"]\n",
    ",[\"6\",\".\",\".\",\"1\",\"9\",\"5\",\".\",\".\",\".\"]\n",
    ",[\".\",\"9\",\"8\",\".\",\".\",\".\",\".\",\"6\",\".\"]\n",
    ",[\"8\",\".\",\".\",\".\",\"6\",\".\",\".\",\".\",\"3\"]\n",
    ",[\"4\",\".\",\".\",\"8\",\".\",\"3\",\".\",\".\",\"1\"]\n",
    ",[\"7\",\".\",\".\",\".\",\"2\",\".\",\".\",\".\",\"6\"]\n",
    ",[\".\",\"6\",\".\",\".\",\".\",\".\",\"2\",\"8\",\".\"]\n",
    ",[\".\",\".\",\".\",\"4\",\"1\",\"9\",\".\",\".\",\"5\"]\n",
    ",[\".\",\".\",\".\",\".\",\"8\",\".\",\".\",\"7\",\"9\"]]"
   ]
  },
  {
   "cell_type": "code",
   "execution_count": 4,
   "id": "f1951d61",
   "metadata": {},
   "outputs": [
    {
     "data": {
      "text/plain": [
       "True"
      ]
     },
     "execution_count": 4,
     "metadata": {},
     "output_type": "execute_result"
    }
   ],
   "source": [
    "isValidSudoku(mat)"
   ]
  },
  {
   "cell_type": "code",
   "execution_count": 5,
   "id": "06134761",
   "metadata": {},
   "outputs": [],
   "source": [
    "mat=[[\"8\",\"3\",\".\",\".\",\"7\",\".\",\".\",\".\",\".\"]\n",
    ",[\"6\",\".\",\".\",\"1\",\"9\",\"5\",\".\",\".\",\".\"]\n",
    ",[\".\",\"9\",\"8\",\".\",\".\",\".\",\".\",\"6\",\".\"]\n",
    ",[\"8\",\".\",\".\",\".\",\"6\",\".\",\".\",\".\",\"3\"]\n",
    ",[\"4\",\".\",\".\",\"8\",\".\",\"3\",\".\",\".\",\"1\"]\n",
    ",[\"7\",\".\",\".\",\".\",\"2\",\".\",\".\",\".\",\"6\"]\n",
    ",[\".\",\"6\",\".\",\".\",\".\",\".\",\"2\",\"8\",\".\"]\n",
    ",[\".\",\".\",\".\",\"4\",\"1\",\"9\",\".\",\".\",\"5\"]\n",
    ",[\".\",\".\",\".\",\".\",\"8\",\".\",\".\",\"7\",\"9\"]]"
   ]
  },
  {
   "cell_type": "code",
   "execution_count": 6,
   "id": "11f7e382",
   "metadata": {},
   "outputs": [
    {
     "data": {
      "text/plain": [
       "False"
      ]
     },
     "execution_count": 6,
     "metadata": {},
     "output_type": "execute_result"
    }
   ],
   "source": [
    "isValidSudoku(mat)"
   ]
  },
  {
   "cell_type": "code",
   "execution_count": null,
   "id": "0c46f0a9",
   "metadata": {},
   "outputs": [],
   "source": []
  }
 ],
 "metadata": {
  "kernelspec": {
   "display_name": "Python 3 (ipykernel)",
   "language": "python",
   "name": "python3"
  },
  "language_info": {
   "codemirror_mode": {
    "name": "ipython",
    "version": 3
   },
   "file_extension": ".py",
   "mimetype": "text/x-python",
   "name": "python",
   "nbconvert_exporter": "python",
   "pygments_lexer": "ipython3",
   "version": "3.10.6"
  }
 },
 "nbformat": 4,
 "nbformat_minor": 5
}
