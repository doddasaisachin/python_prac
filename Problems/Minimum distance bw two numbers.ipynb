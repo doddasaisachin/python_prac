{
 "cells": [
  {
   "cell_type": "markdown",
   "id": "7a0e8ca3",
   "metadata": {},
   "source": [
    "You are given an array A, of N elements. Find minimum index based distance between two elements of the array, x and y such that (x!=y)."
   ]
  },
  {
   "cell_type": "markdown",
   "id": "9321422e",
   "metadata": {},
   "source": [
    "##### Example 1:\n",
    "\n",
    "Input:\n",
    "N = 4\n",
    "A[] = [1,2,3,2]\n",
    "x = 1, y = 2\n",
    "\n",
    "Output: 1\n",
    "    \n",
    "Explanation: x = 1 and y = 2. There are\n",
    "two distances between x and y, which are\n",
    "1 and 3 out of which the least is 1"
   ]
  },
  {
   "cell_type": "markdown",
   "id": "6b5aae6e",
   "metadata": {},
   "source": [
    "##### Example 2:\n",
    "\n",
    "Input:\n",
    "N = 7\n",
    "A[] = [86,39,90,67,84,66,62]\n",
    "x = 42, y = 12\n",
    "\n",
    "Output: -1\n",
    "    \n",
    "Explanation: x = 42 and y = 12. We return\n",
    "-1 as x and y don't exist in the array."
   ]
  },
  {
   "cell_type": "code",
   "execution_count": 50,
   "id": "32aad74c",
   "metadata": {},
   "outputs": [],
   "source": [
    "def function(n,arr,x,y):\n",
    "    xlist=[]\n",
    "    ylist=[]\n",
    "    res=[]\n",
    "    for i in range(n):\n",
    "        if arr[i]==x:\n",
    "            xlist.append(i+1)\n",
    "    for j in range(n):\n",
    "        if arr[j]==y:\n",
    "            ylist.append(j+1)\n",
    "    if len(xlist)<1 or len(ylist)<1:\n",
    "        return -1\n",
    "    for ele in xlist:\n",
    "        for tem in ylist:\n",
    "            res.append(abs(tem-ele))\n",
    "    return min(res)"
   ]
  },
  {
   "cell_type": "code",
   "execution_count": 55,
   "id": "5a295d1c",
   "metadata": {},
   "outputs": [
    {
     "data": {
      "text/plain": [
       "1"
      ]
     },
     "execution_count": 55,
     "metadata": {},
     "output_type": "execute_result"
    }
   ],
   "source": [
    "function(4,[1,2,3,2],1,2)"
   ]
  },
  {
   "cell_type": "code",
   "execution_count": 62,
   "id": "201cc2a0",
   "metadata": {},
   "outputs": [
    {
     "data": {
      "text/plain": [
       "2"
      ]
     },
     "execution_count": 62,
     "metadata": {},
     "output_type": "execute_result"
    }
   ],
   "source": [
    "function(7,[5,2,4,6,9,8,5],4,9)"
   ]
  }
 ],
 "metadata": {
  "kernelspec": {
   "display_name": "Python 3 (ipykernel)",
   "language": "python",
   "name": "python3"
  },
  "language_info": {
   "codemirror_mode": {
    "name": "ipython",
    "version": 3
   },
   "file_extension": ".py",
   "mimetype": "text/x-python",
   "name": "python",
   "nbconvert_exporter": "python",
   "pygments_lexer": "ipython3",
   "version": "3.10.6"
  }
 },
 "nbformat": 4,
 "nbformat_minor": 5
}
