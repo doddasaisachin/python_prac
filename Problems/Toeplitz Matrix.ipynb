{
 "cells": [
  {
   "cell_type": "markdown",
   "id": "92b6a992",
   "metadata": {},
   "source": [
    "Given an m x n matrix, return true if the matrix is Toeplitz. Otherwise, return false.\n",
    "\n",
    "A matrix is Toeplitz if every diagonal from top-left to bottom-right has the same elements.\n",
    "\n",
    "Example 1:\n",
    "\n",
    "Input: matrix = [[1,2,3,4],[5,1,2,3],[9,5,1,2]]\n",
    "    \n",
    "Output: true\n",
    "    \n",
    "Explanation:\n",
    "In the above grid, the diagonals are:\n",
    "\"[9]\", \"[5, 5]\", \"[1, 1, 1]\", \"[2, 2, 2]\", \"[3, 3]\", \"[4]\".\n",
    "In each diagonal all elements are the same, so the answer is True.\n",
    "\n",
    "Example 2:\n",
    "\n",
    "\n",
    "Input: matrix = [[1,2],[2,2]]\n",
    "Output: false\n",
    "Explanation:\n",
    "The diagonal \"[1, 2]\" has different elements."
   ]
  },
  {
   "cell_type": "code",
   "execution_count": 53,
   "id": "fed139bf",
   "metadata": {},
   "outputs": [],
   "source": [
    "def isToeplitzMatrix(mat) -> bool:\n",
    "    for i in range(len(mat)-1):\n",
    "        for j in range(len(mat[0])-1):\n",
    "            if mat[i][j]!=mat[i+1][j+1]:\n",
    "                return False\n",
    "    return True"
   ]
  },
  {
   "cell_type": "code",
   "execution_count": 54,
   "id": "3640bdb5",
   "metadata": {},
   "outputs": [
    {
     "data": {
      "text/plain": [
       "True"
      ]
     },
     "execution_count": 54,
     "metadata": {},
     "output_type": "execute_result"
    }
   ],
   "source": [
    "isToeplitzMatrix([[1,2,3,4],[5,1,2,3],[9,5,1,2]])"
   ]
  },
  {
   "cell_type": "code",
   "execution_count": 55,
   "id": "c6a1c39e",
   "metadata": {},
   "outputs": [
    {
     "data": {
      "text/plain": [
       "False"
      ]
     },
     "execution_count": 55,
     "metadata": {},
     "output_type": "execute_result"
    }
   ],
   "source": [
    "isToeplitzMatrix([[1,2],[2,2]])"
   ]
  },
  {
   "cell_type": "code",
   "execution_count": null,
   "id": "461e982f",
   "metadata": {},
   "outputs": [],
   "source": []
  }
 ],
 "metadata": {
  "kernelspec": {
   "display_name": "Python 3 (ipykernel)",
   "language": "python",
   "name": "python3"
  },
  "language_info": {
   "codemirror_mode": {
    "name": "ipython",
    "version": 3
   },
   "file_extension": ".py",
   "mimetype": "text/x-python",
   "name": "python",
   "nbconvert_exporter": "python",
   "pygments_lexer": "ipython3",
   "version": "3.10.6"
  }
 },
 "nbformat": 4,
 "nbformat_minor": 5
}
