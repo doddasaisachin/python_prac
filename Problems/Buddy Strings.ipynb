{
 "cells": [
  {
   "cell_type": "markdown",
   "id": "b394bb0f",
   "metadata": {},
   "source": [
    "Given two strings s and goal, return true if you can swap two letters in s so the result is equal to goal, otherwise, return false.\n",
    "\n",
    "Swapping letters is defined as taking two indices i and j (0-indexed) such that i != j and swapping the characters at s[i] and s[j].\n",
    "\n",
    "For example, swapping at indices 0 and 2 in \"abcd\" results in \"cbad\".\n",
    " \n",
    "\n",
    "Example 1:\n",
    "\n",
    "Input: s = \"ab\", goal = \"ba\"\n",
    "Output: true\n",
    "Explanation: You can swap s[0] = 'a' and s[1] = 'b' to get \"ba\", which is equal to goal.\n",
    "    \n",
    "Example 2:\n",
    "\n",
    "Input: s = \"ab\", goal = \"ab\"\n",
    "Output: false\n",
    "Explanation: The only letters you can swap are s[0] = 'a' and s[1] = 'b', which results in \"ba\" != goal.\n",
    "    \n",
    "Example 3:\n",
    "\n",
    "Input: s = \"aa\", goal = \"aa\"\n",
    "Output: true\n",
    "Explanation: You can swap s[0] = 'a' and s[1] = 'a' to get \"aa\", which is equal to goal."
   ]
  },
  {
   "cell_type": "code",
   "execution_count": 22,
   "id": "553aad4e",
   "metadata": {},
   "outputs": [],
   "source": [
    "def fx(s,goal):\n",
    "    if len(s)!=len(goal):\n",
    "        return False\n",
    "    if s==goal and len(set(s))<len(s):\n",
    "        return True\n",
    "    c=0\n",
    "    arr1=[]\n",
    "    arr2=[]\n",
    "    for i in range(len(s)):\n",
    "        if s[i]!=goal[i]:\n",
    "            arr1.append(s[i])\n",
    "            arr2.append(goal[i])\n",
    "            c+=1\n",
    "        if c>2:\n",
    "            return False\n",
    "    arr1.sort()\n",
    "    arr2.sort()\n",
    "    return c==2 and arr1==arr2"
   ]
  },
  {
   "cell_type": "code",
   "execution_count": null,
   "id": "39f2215c",
   "metadata": {},
   "outputs": [],
   "source": []
  }
 ],
 "metadata": {
  "kernelspec": {
   "display_name": "Python 3 (ipykernel)",
   "language": "python",
   "name": "python3"
  },
  "language_info": {
   "codemirror_mode": {
    "name": "ipython",
    "version": 3
   },
   "file_extension": ".py",
   "mimetype": "text/x-python",
   "name": "python",
   "nbconvert_exporter": "python",
   "pygments_lexer": "ipython3",
   "version": "3.10.6"
  }
 },
 "nbformat": 4,
 "nbformat_minor": 5
}
