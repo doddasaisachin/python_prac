{
 "cells": [
  {
   "cell_type": "markdown",
   "id": "ca297fcc",
   "metadata": {},
   "source": [
    "You are given an integer array nums of size n and a positive integer k.\n",
    "\n",
    "Divide the array into one or more arrays of size 3 satisfying the following conditions:\n",
    "\n",
    "Each element of nums should be in exactly one array.\n",
    "The difference between any two elements in one array is less than or equal to k.\n",
    "Return a 2D array containing all the arrays. If it is impossible to satisfy the conditions, return an empty array. And if there are multiple answers, return any of them.\n",
    "\n",
    " \n",
    "\n",
    "Example 1:\n",
    "\n",
    "Input: nums = [1,3,4,8,7,9,3,5,1], k = 2\n",
    "Output: [[1,1,3],[3,4,5],[7,8,9]]\n",
    "Explanation: We can divide the array into the following arrays: [1,1,3], [3,4,5] and [7,8,9].\n",
    "The difference between any two elements in each array is less than or equal to 2.\n",
    "Note that the order of elements is not important.\n",
    "\n",
    "Example 2:\n",
    "\n",
    "Input: nums = [1,3,3,2,7,3], k = 3\n",
    "Output: []\n",
    "Explanation: It is not possible to divide the array satisfying all the conditions."
   ]
  },
  {
   "cell_type": "code",
   "execution_count": 1,
   "id": "9762ec3a",
   "metadata": {},
   "outputs": [],
   "source": [
    "def divideArray( nums, k: int):\n",
    "    nums.sort()\n",
    "    res=[]\n",
    "    for i in range(len(nums)//3):\n",
    "        temp=nums[i*3:i*3+3]\n",
    "        if temp[-1]-temp[0]>k:\n",
    "            return []\n",
    "        else:\n",
    "            res.append(temp)\n",
    "    return res\n"
   ]
  },
  {
   "cell_type": "code",
   "execution_count": 2,
   "id": "610afbb0",
   "metadata": {},
   "outputs": [
    {
     "data": {
      "text/plain": [
       "[[1, 1, 3], [3, 4, 5], [7, 8, 9]]"
      ]
     },
     "execution_count": 2,
     "metadata": {},
     "output_type": "execute_result"
    }
   ],
   "source": [
    "divideArray([1,3,4,8,7,9,3,5,1], k = 2)"
   ]
  },
  {
   "cell_type": "code",
   "execution_count": 3,
   "id": "d48bc365",
   "metadata": {},
   "outputs": [],
   "source": [
    "def fx(nums,k):\n",
    "    while idx<len(nums):\n",
    "        itr=idx\n",
    "        if len(nums)-itr<3:\n",
    "            break\n",
    "        temp=[]\n",
    "        while len(temp)<3:\n",
    "            temp.append(nums[itr])\n",
    "            itr+=1\n",
    "        if temp[-1]-temp[0]<=k:\n",
    "            res.append(temp)\n",
    "            idx=itr\n",
    "        else:\n",
    "            return []\n",
    "            idx+=1\n",
    "    return res"
   ]
  },
  {
   "cell_type": "code",
   "execution_count": 4,
   "id": "75f747f1",
   "metadata": {},
   "outputs": [],
   "source": [
    "def func(nums,k):\n",
    "    while idx<len(nums):\n",
    "        temp=[]\n",
    "        for i in range(idx,idx+3):\n",
    "            temp.append(nums[i])\n",
    "        print(temp)\n",
    "        if temp[-1]-temp[0]>k:\n",
    "            return []\n",
    "        else:\n",
    "            res.append(temp)\n",
    "        idx=i+1\n",
    "    return res"
   ]
  },
  {
   "cell_type": "code",
   "execution_count": null,
   "id": "239e288f",
   "metadata": {},
   "outputs": [],
   "source": []
  }
 ],
 "metadata": {
  "kernelspec": {
   "display_name": "Python 3 (ipykernel)",
   "language": "python",
   "name": "python3"
  },
  "language_info": {
   "codemirror_mode": {
    "name": "ipython",
    "version": 3
   },
   "file_extension": ".py",
   "mimetype": "text/x-python",
   "name": "python",
   "nbconvert_exporter": "python",
   "pygments_lexer": "ipython3",
   "version": "3.10.6"
  }
 },
 "nbformat": 4,
 "nbformat_minor": 5
}
