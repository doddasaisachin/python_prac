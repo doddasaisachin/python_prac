{
 "cells": [
  {
   "cell_type": "markdown",
   "id": "df962757",
   "metadata": {},
   "source": [
    "You are given an integer array deck where deck[i] represents the number written on the ith card.\n",
    "\n",
    "Partition the cards into one or more groups such that:\n",
    "\n",
    "1. Each group has exactly x cards where x > 1, and\n",
    "2. All the cards in one group have the same integer written on them.\n",
    "Return true if such partition is possible, or false otherwise."
   ]
  },
  {
   "cell_type": "code",
   "execution_count": 2,
   "id": "e2dba0be",
   "metadata": {},
   "outputs": [],
   "source": [
    "def func(deck):\n",
    "    d=dict()\n",
    "    tot=0\n",
    "    for i in deck:\n",
    "        if i not in d.keys():\n",
    "            d[i]=1\n",
    "            tot+=1\n",
    "        else:\n",
    "            d[i]=d[i]+1\n",
    "    ans=d[deck[0]]\n",
    "    if ans<=1:\n",
    "        return False\n",
    "    if len(set(d.values()))==1:\n",
    "        return True\n",
    "    for k in [2,3,5,7]:\n",
    "        temp=0\n",
    "        for i in d.values():\n",
    "            if i%k==0:\n",
    "                temp+=1\n",
    "        if temp==tot:\n",
    "            return True\n",
    "    return False"
   ]
  },
  {
   "cell_type": "code",
   "execution_count": 3,
   "id": "ac42bd41",
   "metadata": {},
   "outputs": [
    {
     "data": {
      "text/plain": [
       "True"
      ]
     },
     "execution_count": 3,
     "metadata": {},
     "output_type": "execute_result"
    }
   ],
   "source": [
    "func([1,2,3,4,4,3,2,1])"
   ]
  },
  {
   "cell_type": "code",
   "execution_count": 4,
   "id": "128c57c9",
   "metadata": {},
   "outputs": [
    {
     "data": {
      "text/plain": [
       "False"
      ]
     },
     "execution_count": 4,
     "metadata": {},
     "output_type": "execute_result"
    }
   ],
   "source": [
    "func([1,1,1,2,2,2,3,3])"
   ]
  },
  {
   "cell_type": "code",
   "execution_count": null,
   "id": "86b3b17e",
   "metadata": {},
   "outputs": [],
   "source": []
  }
 ],
 "metadata": {
  "kernelspec": {
   "display_name": "Python 3 (ipykernel)",
   "language": "python",
   "name": "python3"
  },
  "language_info": {
   "codemirror_mode": {
    "name": "ipython",
    "version": 3
   },
   "file_extension": ".py",
   "mimetype": "text/x-python",
   "name": "python",
   "nbconvert_exporter": "python",
   "pygments_lexer": "ipython3",
   "version": "3.10.6"
  }
 },
 "nbformat": 4,
 "nbformat_minor": 5
}
