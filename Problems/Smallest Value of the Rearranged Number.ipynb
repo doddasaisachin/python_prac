{
 "cells": [
  {
   "cell_type": "markdown",
   "id": "3d75207e",
   "metadata": {},
   "source": [
    "You are given an integer num. Rearrange the digits of num such that its value is minimized and it does not contain any leading zeros.\n",
    "\n",
    "Return the rearranged number with minimal value.\n",
    "\n",
    "Note that the sign of the number does not change after rearranging the digits."
   ]
  },
  {
   "cell_type": "code",
   "execution_count": 32,
   "id": "9496ba19",
   "metadata": {},
   "outputs": [],
   "source": [
    "\n",
    "def smallestNumber( num: int) -> int:\n",
    "    if num==0:\n",
    "        return 0\n",
    "    arr=list(str(num))\n",
    "    arr.sort(reverse=True)\n",
    "    if arr[-1]=='-':\n",
    "        Min=int(''.join(arr[:-1]))\n",
    "        Min=-Min\n",
    "    else:\n",
    "        z=''\n",
    "        Min=''\n",
    "        for i in range(len(arr)-1,-1,-1):\n",
    "            if arr[i]=='0':\n",
    "                z+=arr[i]\n",
    "            elif arr[i]!='0' and Min=='':\n",
    "                Min+=arr[i]+z\n",
    "            else:\n",
    "                Min+=arr[i]\n",
    "        Min=int(Min)\n",
    "    return Min"
   ]
  },
  {
   "cell_type": "code",
   "execution_count": 33,
   "id": "75eed53f",
   "metadata": {},
   "outputs": [
    {
     "data": {
      "text/plain": [
       "103"
      ]
     },
     "execution_count": 33,
     "metadata": {},
     "output_type": "execute_result"
    }
   ],
   "source": [
    "smallestNumber(103)"
   ]
  },
  {
   "cell_type": "code",
   "execution_count": 34,
   "id": "5c32f5c2",
   "metadata": {},
   "outputs": [
    {
     "data": {
      "text/plain": [
       "-7650"
      ]
     },
     "execution_count": 34,
     "metadata": {},
     "output_type": "execute_result"
    }
   ],
   "source": [
    "smallestNumber(-7605)"
   ]
  },
  {
   "cell_type": "code",
   "execution_count": null,
   "id": "f17bf0f5",
   "metadata": {},
   "outputs": [],
   "source": []
  }
 ],
 "metadata": {
  "kernelspec": {
   "display_name": "Python 3 (ipykernel)",
   "language": "python",
   "name": "python3"
  },
  "language_info": {
   "codemirror_mode": {
    "name": "ipython",
    "version": 3
   },
   "file_extension": ".py",
   "mimetype": "text/x-python",
   "name": "python",
   "nbconvert_exporter": "python",
   "pygments_lexer": "ipython3",
   "version": "3.10.6"
  }
 },
 "nbformat": 4,
 "nbformat_minor": 5
}
