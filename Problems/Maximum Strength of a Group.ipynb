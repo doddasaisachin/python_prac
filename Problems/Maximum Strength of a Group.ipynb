{
 "cells": [
  {
   "cell_type": "markdown",
   "id": "721b583f",
   "metadata": {},
   "source": [
    "You are given a 0-indexed integer array nums representing the score of students in an exam. The teacher would like to form one non-empty group of students with maximal strength, where the strength of a group of students of indices i0, i1, i2, ... , ik is defined as nums[i0] * nums[i1] * nums[i2] * ... * nums[ik​].\n",
    "\n",
    "Return the maximum strength of a group the teacher can create."
   ]
  },
  {
   "cell_type": "code",
   "execution_count": 86,
   "id": "31b0b4c2",
   "metadata": {},
   "outputs": [],
   "source": [
    "def fx(nums):\n",
    "    nums.sort()\n",
    "    neg_idx=0\n",
    "    neg_group=1\n",
    "    for i in range(len(nums)):\n",
    "        if nums[i]<0:\n",
    "            neg_group*=nums[i]\n",
    "            neg_idx+=1\n",
    "        else:\n",
    "            break\n",
    "    if neg_idx<=1:\n",
    "        neg_group=0\n",
    "    if neg_idx%2!=0:\n",
    "        neg_group=neg_group//nums[neg_idx-1]\n",
    "    pos_group=0\n",
    "    while i<len(nums):\n",
    "        if nums[i]>0 and pos_group==0:\n",
    "            pos_group=nums[i]\n",
    "        elif nums[i]>0:\n",
    "            pos_group*=nums[i]\n",
    "        i+=1\n",
    "    if min(neg_group,pos_group)==0:\n",
    "        return max(neg_group,pos_group)\n",
    "    else:\n",
    "        return neg_group*pos_group"
   ]
  },
  {
   "cell_type": "code",
   "execution_count": 87,
   "id": "7b890ee4",
   "metadata": {},
   "outputs": [
    {
     "data": {
      "text/plain": [
       "1008"
      ]
     },
     "execution_count": 87,
     "metadata": {},
     "output_type": "execute_result"
    }
   ],
   "source": [
    "fx([2,2,7,0,-4,9,4])"
   ]
  },
  {
   "cell_type": "code",
   "execution_count": 88,
   "id": "e5d8b39c",
   "metadata": {},
   "outputs": [
    {
     "data": {
      "text/plain": [
       "0"
      ]
     },
     "execution_count": 88,
     "metadata": {},
     "output_type": "execute_result"
    }
   ],
   "source": [
    "fx([0,-1])"
   ]
  },
  {
   "cell_type": "code",
   "execution_count": 89,
   "id": "1b9a0d3b",
   "metadata": {},
   "outputs": [
    {
     "data": {
      "text/plain": [
       "1350"
      ]
     },
     "execution_count": 89,
     "metadata": {},
     "output_type": "execute_result"
    }
   ],
   "source": [
    "fx([3,-1,-5,2,5,-9])"
   ]
  },
  {
   "cell_type": "code",
   "execution_count": 90,
   "id": "7a537884",
   "metadata": {},
   "outputs": [
    {
     "data": {
      "text/plain": [
       "20"
      ]
     },
     "execution_count": 90,
     "metadata": {},
     "output_type": "execute_result"
    }
   ],
   "source": [
    "fx([-4,-5,-4])"
   ]
  },
  {
   "cell_type": "code",
   "execution_count": null,
   "id": "71ca3578",
   "metadata": {},
   "outputs": [],
   "source": []
  }
 ],
 "metadata": {
  "kernelspec": {
   "display_name": "Python 3 (ipykernel)",
   "language": "python",
   "name": "python3"
  },
  "language_info": {
   "codemirror_mode": {
    "name": "ipython",
    "version": 3
   },
   "file_extension": ".py",
   "mimetype": "text/x-python",
   "name": "python",
   "nbconvert_exporter": "python",
   "pygments_lexer": "ipython3",
   "version": "3.10.6"
  }
 },
 "nbformat": 4,
 "nbformat_minor": 5
}
