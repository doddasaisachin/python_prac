{
 "cells": [
  {
   "cell_type": "markdown",
   "id": "5d131a63",
   "metadata": {},
   "source": [
    "International Morse Code defines a standard encoding where each letter is mapped to a series of dots and dashes, as follows:\n",
    "\n",
    "'a' maps to \".-\",\n",
    "'b' maps to \"-...\",\n",
    "'c' maps to \"-.-.\", and so on.\n",
    "For convenience, the full table for the 26 letters of the English alphabet is given below:\n",
    "\n",
    "[\".-\",\"-...\",\"-.-.\",\"-..\",\".\",\"..-.\",\"--.\",\"....\",\"..\",\".---\",\"-.-\",\".-..\",\"--\",\"-.\",\"---\",\".--.\",\"--.-\",\".-.\",\"...\",\"-\",\"..-\",\"...-\",\".--\",\"-..-\",\"-.--\",\"--..\"]\n",
    "Given an array of strings words where each word can be written as a concatenation of the Morse code of each letter.\n",
    "\n",
    "For example, \"cab\" can be written as \"-.-..--...\", which is the concatenation of \"-.-.\", \".-\", and \"-...\". We will call such a concatenation the transformation of a word.\n",
    "Return the number of different transformations among all words we have.\n",
    "\n",
    " \n",
    "\n",
    "Example 1:\n",
    "\n",
    "Input: words = [\"gin\",\"zen\",\"gig\",\"msg\"]\n",
    "Output: 2\n",
    "Explanation: The transformation of each word is:\n",
    "\"gin\" -> \"--...-.\"\n",
    "\"zen\" -> \"--...-.\"\n",
    "\"gig\" -> \"--...--.\"\n",
    "\"msg\" -> \"--...--.\"\n",
    "There are 2 different transformations: \"--...-.\" and \"--...--.\".\n",
    "    \n",
    "Example 2:\n",
    "\n",
    "Input: words = [\"a\"]\n",
    "Output: 1"
   ]
  },
  {
   "cell_type": "code",
   "execution_count": 1,
   "id": "a5823806",
   "metadata": {},
   "outputs": [],
   "source": [
    "def fx(words:str)->str:\n",
    "    arr=[\".-\",\"-...\",\"-.-.\",\"-..\",\".\",\"..-.\",\"--.\",\"....\",\"..\",\n",
    "    \".---\",\"-.-\",\".-..\",\"--\",\"-.\",\"---\",\".--.\",\"--.-\",\".-.\",\n",
    "    \"...\",\"-\",\"..-\",\"...-\",\".--\",\"-..-\",\"-.--\",\"--..\"]\n",
    "    res=[]\n",
    "    for i in words:\n",
    "        temp=''\n",
    "        for ele in i:\n",
    "            idx=ord(ele)-97\n",
    "            temp+=arr[idx]\n",
    "        res.append(temp)\n",
    "    return len(set(res))"
   ]
  },
  {
   "cell_type": "code",
   "execution_count": 3,
   "id": "8d0689bf",
   "metadata": {},
   "outputs": [
    {
     "data": {
      "text/plain": [
       "2"
      ]
     },
     "execution_count": 3,
     "metadata": {},
     "output_type": "execute_result"
    }
   ],
   "source": [
    "fx([\"gin\",\"zen\",\"gig\",\"msg\"])"
   ]
  },
  {
   "cell_type": "code",
   "execution_count": 4,
   "id": "e7ee07f0",
   "metadata": {},
   "outputs": [
    {
     "data": {
      "text/plain": [
       "1"
      ]
     },
     "execution_count": 4,
     "metadata": {},
     "output_type": "execute_result"
    }
   ],
   "source": [
    "fx(['a'])"
   ]
  }
 ],
 "metadata": {
  "kernelspec": {
   "display_name": "Python 3 (ipykernel)",
   "language": "python",
   "name": "python3"
  },
  "language_info": {
   "codemirror_mode": {
    "name": "ipython",
    "version": 3
   },
   "file_extension": ".py",
   "mimetype": "text/x-python",
   "name": "python",
   "nbconvert_exporter": "python",
   "pygments_lexer": "ipython3",
   "version": "3.10.6"
  }
 },
 "nbformat": 4,
 "nbformat_minor": 5
}
