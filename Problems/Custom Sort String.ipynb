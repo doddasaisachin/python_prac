{
 "cells": [
  {
   "cell_type": "markdown",
   "id": "cb2c4658",
   "metadata": {},
   "source": [
    "You are given two strings order and s. All the characters of order are unique and were sorted in some custom order previously.\n",
    "\n",
    "Permute the characters of s so that they match the order that order was sorted. More specifically, if a character x occurs before a character y in order, then x should occur before y in the permuted string.\n",
    "\n",
    "Return any permutation of s that satisfies this property.\n",
    "\n",
    " "
   ]
  },
  {
   "cell_type": "code",
   "execution_count": 21,
   "id": "3ada932d",
   "metadata": {},
   "outputs": [],
   "source": [
    "def fx(order: str, s: str) -> str:\n",
    "    d=dict()\n",
    "    for i in range(len(order)):\n",
    "        d[order[i]]=i\n",
    "    arr=[]\n",
    "    extra=''\n",
    "    for i in s:\n",
    "        if i in d.keys():\n",
    "            arr.append(i)\n",
    "        else:\n",
    "            extra+=i\n",
    "    return ''.join(sorted(arr,key=lambda x : d[x]))+extra"
   ]
  },
  {
   "cell_type": "code",
   "execution_count": 22,
   "id": "79553edd",
   "metadata": {},
   "outputs": [
    {
     "data": {
      "text/plain": [
       "'bcad'"
      ]
     },
     "execution_count": 22,
     "metadata": {},
     "output_type": "execute_result"
    }
   ],
   "source": [
    "fx(order = \"bcafg\", s = \"abcd\" )"
   ]
  },
  {
   "cell_type": "code",
   "execution_count": null,
   "id": "7a14f33d",
   "metadata": {},
   "outputs": [],
   "source": []
  }
 ],
 "metadata": {
  "kernelspec": {
   "display_name": "Python 3 (ipykernel)",
   "language": "python",
   "name": "python3"
  },
  "language_info": {
   "codemirror_mode": {
    "name": "ipython",
    "version": 3
   },
   "file_extension": ".py",
   "mimetype": "text/x-python",
   "name": "python",
   "nbconvert_exporter": "python",
   "pygments_lexer": "ipython3",
   "version": "3.10.6"
  }
 },
 "nbformat": 4,
 "nbformat_minor": 5
}
