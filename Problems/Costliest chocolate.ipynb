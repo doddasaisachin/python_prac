{
 "cells": [
  {
   "cell_type": "markdown",
   "id": "9041b7cc",
   "metadata": {},
   "source": [
    "Geek went to buy some chocolates from a nearby shop with k coins in his pocket.\n",
    "He found that the shop contains n chocolates which are arranged in sorted order (increasing) of their prices.\n",
    "Now geek wants to taste costlier chocolates so he decided that he will buy the costliest chocolate \n",
    "(of course among the ones that he can afford)\n",
    "till there exists at least one type of chocolate he can afford. \n",
    "You may assume that there is an infinite supply of chocolates in the shop Geek visited."
   ]
  },
  {
   "cell_type": "markdown",
   "id": "12e85854",
   "metadata": {},
   "source": [
    "Example 1:\n",
    "\n",
    "Input:\n",
    "3 5 \n",
    "\n",
    "[2 ,4 ,6]\n",
    "\n",
    "Output:\n",
    "1\n"
   ]
  },
  {
   "cell_type": "markdown",
   "id": "d7912ae2",
   "metadata": {},
   "source": [
    "Example 2:\n",
    "\n",
    "Input:\n",
    "4 9\n",
    "\n",
    "[1, 2, 3, 4]\n",
    "\n",
    "Output:\n",
    "3\n"
   ]
  },
  {
   "cell_type": "code",
   "execution_count": 14,
   "id": "f6166f22",
   "metadata": {},
   "outputs": [],
   "source": [
    "def func(arr,k):\n",
    "    Min=arr[0]\n",
    "    res=0\n",
    "    while k>=Min:\n",
    "        for i in range(len(arr)-1,-1,-1):\n",
    "            if k>=arr[i]:\n",
    "                res+=1\n",
    "                k-=arr[i]\n",
    "                break\n",
    "    return res"
   ]
  },
  {
   "cell_type": "code",
   "execution_count": 15,
   "id": "76463b75",
   "metadata": {},
   "outputs": [
    {
     "data": {
      "text/plain": [
       "3"
      ]
     },
     "execution_count": 15,
     "metadata": {},
     "output_type": "execute_result"
    }
   ],
   "source": [
    "func([1,2,3,4],9)"
   ]
  },
  {
   "cell_type": "code",
   "execution_count": 16,
   "id": "8a825f7e",
   "metadata": {},
   "outputs": [
    {
     "data": {
      "text/plain": [
       "1"
      ]
     },
     "execution_count": 16,
     "metadata": {},
     "output_type": "execute_result"
    }
   ],
   "source": [
    "func([2,4,6],5)"
   ]
  }
 ],
 "metadata": {
  "kernelspec": {
   "display_name": "Python 3 (ipykernel)",
   "language": "python",
   "name": "python3"
  },
  "language_info": {
   "codemirror_mode": {
    "name": "ipython",
    "version": 3
   },
   "file_extension": ".py",
   "mimetype": "text/x-python",
   "name": "python",
   "nbconvert_exporter": "python",
   "pygments_lexer": "ipython3",
   "version": "3.10.6"
  }
 },
 "nbformat": 4,
 "nbformat_minor": 5
}
