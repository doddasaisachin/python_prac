{
 "cells": [
  {
   "cell_type": "markdown",
   "id": "926eaf33",
   "metadata": {},
   "source": [
    "Given a string s which contains only lower alphabetic characters, check if it is possible to remove at most one character from this string in such a way that frequency of each distinct character becomes same in the string. Return true if it is possible to do else return false.\n"
   ]
  },
  {
   "cell_type": "code",
   "execution_count": 1,
   "id": "195abbbb",
   "metadata": {},
   "outputs": [],
   "source": [
    "def sameFreq( s):\n",
    "    # code here\n",
    "    d=dict()\n",
    "    for i in s:\n",
    "        if i not in d:\n",
    "            d[i]=1\n",
    "        else:\n",
    "            d[i]+=1\n",
    "    if len(set(d.values()))==1:\n",
    "        return True\n",
    "    arr=list(d.values())\n",
    "    arr.sort()\n",
    "    arr=arr[::-1]\n",
    "    temp=arr.copy()\n",
    "    idx=0\n",
    "    while idx<len(arr)-1:\n",
    "        if arr[idx]!=arr[idx+1]:\n",
    "            arr[idx]-=1\n",
    "            temp[idx+1]-=1\n",
    "            break\n",
    "        idx+=1\n",
    "    c=len(set(arr))\n",
    "    d=len(set(temp))\n",
    "    for i in set(arr):\n",
    "        if i==0:\n",
    "            c-=1\n",
    "    for j in set(temp):\n",
    "        if j==0:\n",
    "            d-=1\n",
    "    if c==1 or d==1:\n",
    "        return True\n",
    "    return False"
   ]
  },
  {
   "cell_type": "code",
   "execution_count": 2,
   "id": "ae2d252b",
   "metadata": {},
   "outputs": [
    {
     "data": {
      "text/plain": [
       "True"
      ]
     },
     "execution_count": 2,
     "metadata": {},
     "output_type": "execute_result"
    }
   ],
   "source": [
    "sameFreq('xxyz')"
   ]
  },
  {
   "cell_type": "code",
   "execution_count": null,
   "id": "969e6d82",
   "metadata": {},
   "outputs": [],
   "source": []
  }
 ],
 "metadata": {
  "kernelspec": {
   "display_name": "Python 3 (ipykernel)",
   "language": "python",
   "name": "python3"
  },
  "language_info": {
   "codemirror_mode": {
    "name": "ipython",
    "version": 3
   },
   "file_extension": ".py",
   "mimetype": "text/x-python",
   "name": "python",
   "nbconvert_exporter": "python",
   "pygments_lexer": "ipython3",
   "version": "3.10.6"
  }
 },
 "nbformat": 4,
 "nbformat_minor": 5
}
