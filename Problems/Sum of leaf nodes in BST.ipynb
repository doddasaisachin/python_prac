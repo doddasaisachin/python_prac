{
 "cells": [
  {
   "cell_type": "markdown",
   "id": "3687a74d",
   "metadata": {},
   "source": [
    "Given a Binary Search Tree with n nodes, find the sum of all leaf nodes. BST has the following property (duplicate nodes are possible):\n",
    "\n",
    "* The left subtree of a node contains only nodes with keys less than the node’s key.\n",
    "* The right subtree of a node contains only nodes with keys greater than or equal to the node’s key.\n",
    "\n",
    "Your task is to determine the total sum of the values of the leaf nodes."
   ]
  },
  {
   "cell_type": "code",
   "execution_count": 1,
   "id": "a92857d3",
   "metadata": {},
   "outputs": [],
   "source": [
    "def sumOfLeafNodes( root):\n",
    "    def preorder(r):\n",
    "        if r is None : return\n",
    "        if r.left==None and r.right==None:\n",
    "            s[0]+=r.data\n",
    "        else:\n",
    "            preorder(r.left)\n",
    "            preorder(r.right)\n",
    "    s=[0]\n",
    "    preorder(root)\n",
    "    return s[0]"
   ]
  },
  {
   "cell_type": "code",
   "execution_count": null,
   "id": "b2be498a",
   "metadata": {},
   "outputs": [],
   "source": []
  }
 ],
 "metadata": {
  "kernelspec": {
   "display_name": "Python 3 (ipykernel)",
   "language": "python",
   "name": "python3"
  },
  "language_info": {
   "codemirror_mode": {
    "name": "ipython",
    "version": 3
   },
   "file_extension": ".py",
   "mimetype": "text/x-python",
   "name": "python",
   "nbconvert_exporter": "python",
   "pygments_lexer": "ipython3",
   "version": "3.10.6"
  }
 },
 "nbformat": 4,
 "nbformat_minor": 5
}
