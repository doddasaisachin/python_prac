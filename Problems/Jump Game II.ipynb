{
 "cells": [
  {
   "cell_type": "markdown",
   "id": "3142ab52",
   "metadata": {},
   "source": [
    "You are given a 0-indexed array of integers nums of length n. You are initially positioned at nums[0].\n",
    "\n",
    "Each element nums[i] represents the maximum length of a forward jump from index i. In other words, if you are at nums[i], you can jump to any nums[i + j] where:\n",
    "\n",
    "* 0 <= j <= nums[i] and\n",
    "* i + j < n\n",
    "\n",
    "Return the minimum number of jumps to reach nums[n - 1]. The test cases are generated such that you can reach nums[n - 1]."
   ]
  },
  {
   "cell_type": "markdown",
   "id": "43cfb402",
   "metadata": {},
   "source": [
    "### Recursive Solution"
   ]
  },
  {
   "cell_type": "code",
   "execution_count": 98,
   "id": "fea90cb7",
   "metadata": {},
   "outputs": [],
   "source": [
    "def fx(arr,i):\n",
    "    if i>=len(arr)-1:\n",
    "        return 0\n",
    "    temp=[float('inf')]\n",
    "    for j in range(1,arr[i]+1):\n",
    "        temp.append(1+fx(arr,i+j))\n",
    "    ans=min(temp)\n",
    "    return ans"
   ]
  },
  {
   "cell_type": "code",
   "execution_count": 99,
   "id": "9dcb1a33",
   "metadata": {},
   "outputs": [
    {
     "data": {
      "text/plain": [
       "1"
      ]
     },
     "execution_count": 99,
     "metadata": {},
     "output_type": "execute_result"
    }
   ],
   "source": [
    "fx([2,1],0)"
   ]
  },
  {
   "cell_type": "code",
   "execution_count": 100,
   "id": "541e70bf",
   "metadata": {},
   "outputs": [
    {
     "data": {
      "text/plain": [
       "2"
      ]
     },
     "execution_count": 100,
     "metadata": {},
     "output_type": "execute_result"
    }
   ],
   "source": [
    "fx([2,3,0,1,4],0)"
   ]
  },
  {
   "cell_type": "code",
   "execution_count": 101,
   "id": "c29500d3",
   "metadata": {},
   "outputs": [
    {
     "data": {
      "text/plain": [
       "2"
      ]
     },
     "execution_count": 101,
     "metadata": {},
     "output_type": "execute_result"
    }
   ],
   "source": [
    "fx([2,3,1,1,4],0)"
   ]
  },
  {
   "cell_type": "code",
   "execution_count": null,
   "id": "72e693ef",
   "metadata": {},
   "outputs": [],
   "source": []
  }
 ],
 "metadata": {
  "kernelspec": {
   "display_name": "Python 3 (ipykernel)",
   "language": "python",
   "name": "python3"
  },
  "language_info": {
   "codemirror_mode": {
    "name": "ipython",
    "version": 3
   },
   "file_extension": ".py",
   "mimetype": "text/x-python",
   "name": "python",
   "nbconvert_exporter": "python",
   "pygments_lexer": "ipython3",
   "version": "3.11.7"
  }
 },
 "nbformat": 4,
 "nbformat_minor": 5
}
