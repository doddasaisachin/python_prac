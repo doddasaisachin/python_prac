{
 "cells": [
  {
   "cell_type": "markdown",
   "id": "3e86a444",
   "metadata": {},
   "source": [
    "Given a string S. The task is to count the number of substrings which contains equal number of lowercase and uppercase letters. "
   ]
  },
  {
   "cell_type": "markdown",
   "id": "1ca7d86b",
   "metadata": {},
   "source": [
    "### Example 1:\n",
    "\n",
    "Input:\n",
    "S = \"gEEk\"\n",
    "\n",
    "Output: 3\n",
    "    \n",
    "Explanation: There are 3 substrings of\n",
    "the given string which satisfy the\n",
    "condition. They are \"gE\", \"gEEk\" and \"Ek\"."
   ]
  },
  {
   "cell_type": "markdown",
   "id": "1bba4d51",
   "metadata": {},
   "source": [
    "### Example 2:\n",
    "\n",
    "Input:\n",
    "S = \"WomensDAY\"\n",
    "\n",
    "Output: 4\n",
    "    \n",
    "Explanation: There are 4 substrings of \n",
    "the given string which satisfy the\n",
    "condition. They are \"Wo\", \"ensDAY\", \n",
    "\"nsDA\" and \"sD\""
   ]
  },
  {
   "cell_type": "code",
   "execution_count": 74,
   "id": "809844d6",
   "metadata": {},
   "outputs": [],
   "source": [
    "def func(string):\n",
    "    lis=[]\n",
    "    for i in range(len(string)):\n",
    "        sam=''+string[i]\n",
    "        for j in string[i+1:]:\n",
    "            sam=sam+j\n",
    "            lis.append(sam)\n",
    "    return lis\n",
    "\n",
    "def main(lis):\n",
    "    res=0\n",
    "    for i in lis:\n",
    "        lc,uc=0,0\n",
    "        for ele in i:\n",
    "            if ele.islower():\n",
    "                lc+=1\n",
    "            elif ele.isupper():\n",
    "                uc+=1\n",
    "        if lc==uc:\n",
    "            res=res+1\n",
    "        else:\n",
    "            pass\n",
    "    return res"
   ]
  },
  {
   "cell_type": "code",
   "execution_count": 136,
   "id": "b38ae544",
   "metadata": {},
   "outputs": [],
   "source": [
    "def main(lis):\n",
    "    res=0\n",
    "    for i in lis:\n",
    "        lc,uc=0,0\n",
    "        for ele in i:\n",
    "            if ele.islower():\n",
    "                lc+=1\n",
    "            elif ele.isupper():\n",
    "                uc+=1\n",
    "        if lc==uc:\n",
    "            res=res+1\n",
    "        else:\n",
    "            pass\n",
    "    return res"
   ]
  },
  {
   "cell_type": "code",
   "execution_count": 215,
   "id": "5b5fd1f3",
   "metadata": {},
   "outputs": [],
   "source": [
    "def countsubstring(String):\n",
    "    l=func(String)\n",
    "    result=main(l)\n",
    "    return result"
   ]
  },
  {
   "cell_type": "code",
   "execution_count": 216,
   "id": "b2e25ba5",
   "metadata": {},
   "outputs": [
    {
     "data": {
      "text/plain": [
       "3"
      ]
     },
     "execution_count": 216,
     "metadata": {},
     "output_type": "execute_result"
    }
   ],
   "source": [
    "countsubstring(\"gEEk\")"
   ]
  },
  {
   "cell_type": "code",
   "execution_count": 217,
   "id": "3ef66834",
   "metadata": {},
   "outputs": [
    {
     "data": {
      "text/plain": [
       "4"
      ]
     },
     "execution_count": 217,
     "metadata": {},
     "output_type": "execute_result"
    }
   ],
   "source": [
    "countsubstring(\"WomensDAY\")"
   ]
  }
 ],
 "metadata": {
  "kernelspec": {
   "display_name": "Python 3 (ipykernel)",
   "language": "python",
   "name": "python3"
  },
  "language_info": {
   "codemirror_mode": {
    "name": "ipython",
    "version": 3
   },
   "file_extension": ".py",
   "mimetype": "text/x-python",
   "name": "python",
   "nbconvert_exporter": "python",
   "pygments_lexer": "ipython3",
   "version": "3.10.6"
  }
 },
 "nbformat": 4,
 "nbformat_minor": 5
}
