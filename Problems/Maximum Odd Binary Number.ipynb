{
 "cells": [
  {
   "cell_type": "markdown",
   "id": "dee1d8e1",
   "metadata": {},
   "source": [
    "You are given a binary string s that contains at least one '1'.\n",
    "\n",
    "You have to rearrange the bits in such a way that the resulting binary number is the maximum odd binary number that can be created from this combination.\n",
    "\n",
    "Return a string representing the maximum odd binary number that can be created from the given combination.\n",
    "\n",
    "Note that the resulting string can have leading zeros.\n",
    "\n",
    " \n",
    "\n",
    "Example 1:\n",
    "\n",
    "Input: s = \"010\"\n",
    "Output: \"001\"\n",
    "Explanation: Because there is just one '1', it must be in the last position. So the answer is \"001\". \n",
    "    \n",
    "Example 2:\n",
    "\n",
    "Input: s = \"0101\"\n",
    "Output: \"1001\"\n",
    "Explanation: One of the '1's must be in the last position. The maximum number that can be made with the remaining digits is \"100\". So the answer is \"1001\"."
   ]
  },
  {
   "cell_type": "code",
   "execution_count": 91,
   "id": "5415b26f",
   "metadata": {},
   "outputs": [],
   "source": [
    "def fx(s):\n",
    "    ones,n,idx=0,0,0\n",
    "    for i in s:\n",
    "        n=n+1\n",
    "        if i=='1':\n",
    "            ones+=1\n",
    "    arr=['0' for _ in range(n)]\n",
    "    if ones>=1:\n",
    "        arr[-1]='1'\n",
    "        ones-=1\n",
    "    for j in range(ones):\n",
    "        arr[idx]='1'\n",
    "        idx+=1\n",
    "    res=''.join(arr)\n",
    "    return res"
   ]
  },
  {
   "cell_type": "code",
   "execution_count": 92,
   "id": "c33c9cfb",
   "metadata": {},
   "outputs": [
    {
     "data": {
      "text/plain": [
       "'001'"
      ]
     },
     "execution_count": 92,
     "metadata": {},
     "output_type": "execute_result"
    }
   ],
   "source": [
    "fx(\"010\")"
   ]
  },
  {
   "cell_type": "code",
   "execution_count": 93,
   "id": "e7a551b0",
   "metadata": {},
   "outputs": [
    {
     "data": {
      "text/plain": [
       "'1001'"
      ]
     },
     "execution_count": 93,
     "metadata": {},
     "output_type": "execute_result"
    }
   ],
   "source": [
    "fx(\"0101\")"
   ]
  },
  {
   "cell_type": "code",
   "execution_count": 100,
   "id": "cdf03b74",
   "metadata": {},
   "outputs": [],
   "source": [
    "def fy(s):\n",
    "    ones,idx=0,0\n",
    "    arr=['0' for _ in range(len(s))]\n",
    "    temp=-2\n",
    "    for i in s:\n",
    "        if i=='1' and temp==-2:\n",
    "            arr[-1]='1'\n",
    "            temp=0\n",
    "        elif i=='1' and temp==0:\n",
    "            arr[idx]='1'\n",
    "            idx+=1\n",
    "    res=''.join(arr)\n",
    "    return res"
   ]
  },
  {
   "cell_type": "code",
   "execution_count": 101,
   "id": "3116adfb",
   "metadata": {},
   "outputs": [
    {
     "data": {
      "text/plain": [
       "'001'"
      ]
     },
     "execution_count": 101,
     "metadata": {},
     "output_type": "execute_result"
    }
   ],
   "source": [
    "fy(\"010\")"
   ]
  },
  {
   "cell_type": "code",
   "execution_count": null,
   "id": "80d70e31",
   "metadata": {},
   "outputs": [],
   "source": []
  }
 ],
 "metadata": {
  "kernelspec": {
   "display_name": "Python 3 (ipykernel)",
   "language": "python",
   "name": "python3"
  },
  "language_info": {
   "codemirror_mode": {
    "name": "ipython",
    "version": 3
   },
   "file_extension": ".py",
   "mimetype": "text/x-python",
   "name": "python",
   "nbconvert_exporter": "python",
   "pygments_lexer": "ipython3",
   "version": "3.10.6"
  }
 },
 "nbformat": 4,
 "nbformat_minor": 5
}
