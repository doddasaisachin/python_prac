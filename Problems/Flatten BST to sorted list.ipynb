{
 "cells": [
  {
   "cell_type": "markdown",
   "id": "5b6fd0f1",
   "metadata": {},
   "source": [
    "You are given a Binary Search Tree (BST) with n nodes, each node has a distinct value assigned to it. The goal is to flatten the tree such that, the left child of each element points to nothing (NULL), and the right child points to the next element in the sorted list of elements of the BST (look at the examples for clarity). You must accomplish this without using any extra storage, except for recursive calls, which are allowed.\n",
    "\n",
    "Note: If your BST does have a left child, then the system will print a -1 and will skip it, resulting in an incorrect solution."
   ]
  },
  {
   "cell_type": "code",
   "execution_count": 1,
   "id": "c73d700a",
   "metadata": {},
   "outputs": [],
   "source": [
    "class Node:\n",
    "    def __init__(self, val):\n",
    "        self.data = val\n",
    "        self.left = None\n",
    "        self.right = None"
   ]
  },
  {
   "cell_type": "code",
   "execution_count": 2,
   "id": "8b580694",
   "metadata": {},
   "outputs": [],
   "source": [
    "def inorder(root):\n",
    "    res=[]\n",
    "    if root.left:\n",
    "        res=res+inorder(root.left)\n",
    "    res.append(root.data)\n",
    "    if root.right:\n",
    "        res=res+inorder(root.right)\n",
    "    return res\n",
    "def flattenBST( root):\n",
    "    arr=inorder(root)\n",
    "    head=Node(arr[0])\n",
    "    itr=head\n",
    "    for i in range(1,len(arr)):\n",
    "        temp=Node(arr[i])\n",
    "        itr.right=temp\n",
    "        itr=temp\n",
    "    return head"
   ]
  },
  {
   "cell_type": "code",
   "execution_count": null,
   "id": "42b4ad0a",
   "metadata": {},
   "outputs": [],
   "source": []
  }
 ],
 "metadata": {
  "kernelspec": {
   "display_name": "Python 3 (ipykernel)",
   "language": "python",
   "name": "python3"
  },
  "language_info": {
   "codemirror_mode": {
    "name": "ipython",
    "version": 3
   },
   "file_extension": ".py",
   "mimetype": "text/x-python",
   "name": "python",
   "nbconvert_exporter": "python",
   "pygments_lexer": "ipython3",
   "version": "3.10.6"
  }
 },
 "nbformat": 4,
 "nbformat_minor": 5
}
