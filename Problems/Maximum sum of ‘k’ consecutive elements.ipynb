{
 "cells": [
  {
   "cell_type": "markdown",
   "id": "73426fe6",
   "metadata": {},
   "source": [
    "### Sliding Window"
   ]
  },
  {
   "cell_type": "markdown",
   "id": "0fb7bdbf",
   "metadata": {},
   "source": [
    "Example: Given an array of integers of size ‘n’, Our aim is to calculate the maximum sum of ‘k’ consecutive elements in the array.\n",
    "\n",
    "Input  : arr[] = {100, 200, 300, 400}, k = 2\n",
    "    \n",
    "Output : 700\n",
    "\n",
    "Input  : arr[] = {1, 4, 2, 10, 23, 3, 1, 0, 20}, k = 4 \n",
    "    \n",
    "Output : 39"
   ]
  },
  {
   "cell_type": "code",
   "execution_count": 34,
   "id": "ff310c9c",
   "metadata": {},
   "outputs": [],
   "source": [
    "def fx(arr,k):\n",
    "    temp,s=0,0\n",
    "    c=0\n",
    "    for i in range(len(arr)):\n",
    "        if c<k:\n",
    "            temp+=arr[i]\n",
    "            c+=1\n",
    "        else:\n",
    "            if temp>s:\n",
    "                s=temp\n",
    "            temp+=arr[i]\n",
    "            temp=temp-arr[i-k]\n",
    "    if temp>s:\n",
    "        s=temp\n",
    "    return s"
   ]
  },
  {
   "cell_type": "code",
   "execution_count": 35,
   "id": "f198d4d4",
   "metadata": {},
   "outputs": [
    {
     "data": {
      "text/plain": [
       "1200"
      ]
     },
     "execution_count": 35,
     "metadata": {},
     "output_type": "execute_result"
    }
   ],
   "source": [
    "fx([1000,200,300,400],2)"
   ]
  },
  {
   "cell_type": "code",
   "execution_count": 36,
   "id": "1a51baac",
   "metadata": {},
   "outputs": [
    {
     "data": {
      "text/plain": [
       "39"
      ]
     },
     "execution_count": 36,
     "metadata": {},
     "output_type": "execute_result"
    }
   ],
   "source": [
    "fx([1, 4, 2, 10, 23, 3, 1, 0, 20], k = 4)"
   ]
  },
  {
   "cell_type": "code",
   "execution_count": null,
   "id": "de99c883",
   "metadata": {},
   "outputs": [],
   "source": []
  }
 ],
 "metadata": {
  "kernelspec": {
   "display_name": "Python 3 (ipykernel)",
   "language": "python",
   "name": "python3"
  },
  "language_info": {
   "codemirror_mode": {
    "name": "ipython",
    "version": 3
   },
   "file_extension": ".py",
   "mimetype": "text/x-python",
   "name": "python",
   "nbconvert_exporter": "python",
   "pygments_lexer": "ipython3",
   "version": "3.10.6"
  }
 },
 "nbformat": 4,
 "nbformat_minor": 5
}
