{
 "cells": [
  {
   "cell_type": "markdown",
   "id": "744a172d",
   "metadata": {},
   "source": [
    "There are n people in a line queuing to buy tickets, where the 0th person is at the front of the line and the (n - 1)th person is at the back of the line.\n",
    "\n",
    "You are given a 0-indexed integer array tickets of length n where the number of tickets that the ith person would like to buy is tickets[i].\n",
    "\n",
    "Each person takes exactly 1 second to buy a ticket. A person can only buy 1 ticket at a time and has to go back to the end of the line (which happens instantaneously) in order to buy more tickets. If a person does not have any tickets left to buy, the person will leave the line.\n",
    "\n",
    "Return the time taken for the person at position k (0-indexed) to finish buying tickets."
   ]
  },
  {
   "cell_type": "code",
   "execution_count": 28,
   "id": "a3f7bf1a",
   "metadata": {},
   "outputs": [],
   "source": [
    "def timeRequiredToBuy( tickets, k) :\n",
    "    res=0\n",
    "    while True:\n",
    "        idx=0\n",
    "        n=len(tickets)\n",
    "        while idx<n:\n",
    "            if tickets[idx]==0:\n",
    "                pass\n",
    "            else:\n",
    "                tickets[idx]-=1\n",
    "                res+=1\n",
    "            if idx==k and tickets[idx]==0:\n",
    "                return res\n",
    "            idx+=1\n",
    "        if tickets[k]==0:\n",
    "            break\n",
    "    return res"
   ]
  },
  {
   "cell_type": "code",
   "execution_count": 29,
   "id": "b8909031",
   "metadata": {},
   "outputs": [
    {
     "data": {
      "text/plain": [
       "8"
      ]
     },
     "execution_count": 29,
     "metadata": {},
     "output_type": "execute_result"
    }
   ],
   "source": [
    "timeRequiredToBuy(tickets = [5,1,1,1], k = 0)"
   ]
  },
  {
   "cell_type": "code",
   "execution_count": 30,
   "id": "60844f04",
   "metadata": {},
   "outputs": [
    {
     "data": {
      "text/plain": [
       "6"
      ]
     },
     "execution_count": 30,
     "metadata": {},
     "output_type": "execute_result"
    }
   ],
   "source": [
    "timeRequiredToBuy(tickets = [2,3,2], k = 2)"
   ]
  },
  {
   "cell_type": "code",
   "execution_count": 31,
   "id": "a4dedf0c",
   "metadata": {},
   "outputs": [
    {
     "data": {
      "text/plain": [
       "154"
      ]
     },
     "execution_count": 31,
     "metadata": {},
     "output_type": "execute_result"
    }
   ],
   "source": [
    "timeRequiredToBuy([84,49,5,24,70,77,87,8],3)"
   ]
  },
  {
   "cell_type": "code",
   "execution_count": null,
   "id": "fe1c365b",
   "metadata": {},
   "outputs": [],
   "source": []
  }
 ],
 "metadata": {
  "kernelspec": {
   "display_name": "Python 3 (ipykernel)",
   "language": "python",
   "name": "python3"
  },
  "language_info": {
   "codemirror_mode": {
    "name": "ipython",
    "version": 3
   },
   "file_extension": ".py",
   "mimetype": "text/x-python",
   "name": "python",
   "nbconvert_exporter": "python",
   "pygments_lexer": "ipython3",
   "version": "3.11.7"
  }
 },
 "nbformat": 4,
 "nbformat_minor": 5
}
