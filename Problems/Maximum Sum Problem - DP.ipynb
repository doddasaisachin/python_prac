{
 "cells": [
  {
   "cell_type": "markdown",
   "id": "4b49f0f4",
   "metadata": {},
   "source": [
    "A number n can be broken into three parts n/2, n/3, and n/4 (consider only the integer part). Each number obtained in this process can be divided further recursively. Find the maximum sum that can be obtained by summing up the divided parts together.\n",
    "\n",
    "Note: It is possible that we don't divide the number at all."
   ]
  },
  {
   "cell_type": "markdown",
   "id": "8e396436",
   "metadata": {},
   "source": [
    "### Recursion"
   ]
  },
  {
   "cell_type": "code",
   "execution_count": 59,
   "id": "199dbc15",
   "metadata": {},
   "outputs": [],
   "source": [
    "def fx(n):\n",
    "    if n==0:return 0\n",
    "    return max(fx(n//2)+fx(n//3)+fx(n//4),n)"
   ]
  },
  {
   "cell_type": "markdown",
   "id": "ff5f3277",
   "metadata": {},
   "source": [
    "### DP"
   ]
  },
  {
   "cell_type": "code",
   "execution_count": 55,
   "id": "b730cd8d",
   "metadata": {},
   "outputs": [],
   "source": [
    "def func(n):\n",
    "    dp=[0 for i in range(n+1)]\n",
    "    for i in range(1,n+1):\n",
    "        dp[i]=max(i,dp[i//2]+dp[i//3]+dp[i//4])\n",
    "    return dp[-1]"
   ]
  },
  {
   "cell_type": "code",
   "execution_count": 56,
   "id": "04255de9",
   "metadata": {},
   "outputs": [
    {
     "data": {
      "text/plain": [
       "7"
      ]
     },
     "execution_count": 56,
     "metadata": {},
     "output_type": "execute_result"
    }
   ],
   "source": [
    "func(7)"
   ]
  },
  {
   "cell_type": "code",
   "execution_count": 57,
   "id": "54f83585",
   "metadata": {
    "scrolled": true
   },
   "outputs": [
    {
     "data": {
      "text/plain": [
       "1755"
      ]
     },
     "execution_count": 57,
     "metadata": {},
     "output_type": "execute_result"
    }
   ],
   "source": [
    "func(1200)"
   ]
  },
  {
   "cell_type": "code",
   "execution_count": null,
   "id": "3994dac2",
   "metadata": {},
   "outputs": [],
   "source": []
  }
 ],
 "metadata": {
  "kernelspec": {
   "display_name": "Python 3 (ipykernel)",
   "language": "python",
   "name": "python3"
  },
  "language_info": {
   "codemirror_mode": {
    "name": "ipython",
    "version": 3
   },
   "file_extension": ".py",
   "mimetype": "text/x-python",
   "name": "python",
   "nbconvert_exporter": "python",
   "pygments_lexer": "ipython3",
   "version": "3.10.6"
  }
 },
 "nbformat": 4,
 "nbformat_minor": 5
}
