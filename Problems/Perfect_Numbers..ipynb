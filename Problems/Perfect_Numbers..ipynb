{
 "cells": [
  {
   "cell_type": "markdown",
   "id": "942f328d",
   "metadata": {},
   "source": [
    "Given a number N, check if a number is perfect or not. A number is said to be perfect if sum of all its factors excluding the number itself is equal to the number. Return 1 if the number is Perfect otherwise return 0.\n"
   ]
  },
  {
   "cell_type": "markdown",
   "id": "b68f7e7e",
   "metadata": {},
   "source": [
    "\n",
    "### Example 1:\n",
    "\n",
    "Input:\n",
    "N = 6\n",
    "Output:\n",
    "1 \n",
    "Explanation:\n",
    "Factors of 6 are 1, 2, 3 and 6.\n",
    "Excluding 6 their sum is 6 which\n",
    "is equal to N itself. So, it's a\n",
    "Perfect Number."
   ]
  },
  {
   "cell_type": "markdown",
   "id": "6af16813",
   "metadata": {},
   "source": [
    "### Example 2:\n",
    "\n",
    "Input:\n",
    "N = 10\n",
    "Output:\n",
    "0\n",
    "Explanation:\n",
    "Factors of 10 are 1, 2, 5 and 10.\n",
    "Excluding 10 their sum is 8 which\n",
    "is not equal to N itself. So, it's\n",
    "not a Perfect Number."
   ]
  },
  {
   "cell_type": "code",
   "execution_count": 5,
   "id": "6801c908",
   "metadata": {},
   "outputs": [],
   "source": [
    "import math"
   ]
  },
  {
   "cell_type": "code",
   "execution_count": 6,
   "id": "7a27d266",
   "metadata": {},
   "outputs": [],
   "source": [
    "def isPerfectNumber( N):\n",
    "    sum=1\n",
    "    if N==1:\n",
    "        return 0\n",
    "    for i in range(2,math.ceil(math.sqrt(N))):\n",
    "        if N%i==0:\n",
    "            sum+=i\n",
    "            sum+=N//i\n",
    "    return 1 if N==sum else 0"
   ]
  },
  {
   "cell_type": "code",
   "execution_count": 7,
   "id": "3c4c7773",
   "metadata": {},
   "outputs": [
    {
     "data": {
      "text/plain": [
       "1"
      ]
     },
     "execution_count": 7,
     "metadata": {},
     "output_type": "execute_result"
    }
   ],
   "source": [
    "isPerfectNumber(6)"
   ]
  },
  {
   "cell_type": "code",
   "execution_count": 8,
   "id": "7f783aae",
   "metadata": {},
   "outputs": [
    {
     "data": {
      "text/plain": [
       "0"
      ]
     },
     "execution_count": 8,
     "metadata": {},
     "output_type": "execute_result"
    }
   ],
   "source": [
    "isPerfectNumber(10)"
   ]
  }
 ],
 "metadata": {
  "kernelspec": {
   "display_name": "Python 3 (ipykernel)",
   "language": "python",
   "name": "python3"
  },
  "language_info": {
   "codemirror_mode": {
    "name": "ipython",
    "version": 3
   },
   "file_extension": ".py",
   "mimetype": "text/x-python",
   "name": "python",
   "nbconvert_exporter": "python",
   "pygments_lexer": "ipython3",
   "version": "3.10.6"
  }
 },
 "nbformat": 4,
 "nbformat_minor": 5
}
