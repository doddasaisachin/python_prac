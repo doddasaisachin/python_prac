{
 "cells": [
  {
   "cell_type": "markdown",
   "id": "4327b5c5",
   "metadata": {},
   "source": [
    "Imagine an imaginary array of length N containing balls. Given 2 arrays color and radius of length N each, where color[i] represents the color of the ith ball while radius[i] represents the radius of ith ball. If two consecutive balls have the same color and size, both are removed from the array. Geek wants to know the length of the final imaginary array."
   ]
  },
  {
   "cell_type": "markdown",
   "id": "d3543f46",
   "metadata": {},
   "source": [
    "##### Example 1:\n",
    "\n",
    "Input:\n",
    "N = 3\n",
    "color[] = [2, 2, 5]\n",
    "radius[] = [3, 3, 4]\n",
    "\n",
    "Output: \n",
    "1\n",
    "\n",
    "Explanation: \n",
    "First ball and second ball have same color 2 and \n",
    "same radius 3.So,after removing only one ball \n",
    "is left.It could not be removed from the array. \n",
    "Hence, the final array has length 1."
   ]
  },
  {
   "cell_type": "markdown",
   "id": "eccfd8db",
   "metadata": {},
   "source": [
    "##### Example 2:\n",
    "\n",
    "Input:\n",
    "N = 4\n",
    "color[] = [1, 3, 3, 1]\n",
    "radius[] = [2, 5, 5, 2]\n",
    "\n",
    "Output:\n",
    "0\n",
    "\n",
    "Explanation:\n",
    "Ball 2 and ball 3 have same color 3 and same radius\n",
    "5.So,they are removed. Now, we have got our\n",
    "color[]={1, 1} and radius[]={2, 2}.Both the left\n",
    "balls are consecutive now and they are having\n",
    "same color and radius. So,these two balls are\n",
    "removed as well. Now,we are left with empty\n",
    "final array. Hence, the length of final array is 0."
   ]
  },
  {
   "cell_type": "code",
   "execution_count": 20,
   "id": "498c3fb2",
   "metadata": {},
   "outputs": [],
   "source": [
    "def func(n,col,rad):\n",
    "    ct=[]\n",
    "    rt=[]\n",
    "    for i in range(n):\n",
    "        if len(ct)>0 and col[i]==ct[-1] and rad[i]==rt[-1]:\n",
    "            ct.pop()\n",
    "            rt.pop()\n",
    "        else:\n",
    "            ct.append(col[i])\n",
    "            rt.append(rad[i])\n",
    "    return len(ct)"
   ]
  },
  {
   "cell_type": "code",
   "execution_count": 21,
   "id": "5ab5de5d",
   "metadata": {},
   "outputs": [
    {
     "data": {
      "text/plain": [
       "1"
      ]
     },
     "execution_count": 21,
     "metadata": {},
     "output_type": "execute_result"
    }
   ],
   "source": [
    "func(3,[2,2,5],[3,3,4])"
   ]
  },
  {
   "cell_type": "code",
   "execution_count": 22,
   "id": "48e5ccf8",
   "metadata": {},
   "outputs": [
    {
     "data": {
      "text/plain": [
       "0"
      ]
     },
     "execution_count": 22,
     "metadata": {},
     "output_type": "execute_result"
    }
   ],
   "source": [
    "func(4,[1,3,3,1],[2,5,5,2])"
   ]
  }
 ],
 "metadata": {
  "kernelspec": {
   "display_name": "Python 3 (ipykernel)",
   "language": "python",
   "name": "python3"
  },
  "language_info": {
   "codemirror_mode": {
    "name": "ipython",
    "version": 3
   },
   "file_extension": ".py",
   "mimetype": "text/x-python",
   "name": "python",
   "nbconvert_exporter": "python",
   "pygments_lexer": "ipython3",
   "version": "3.10.6"
  }
 },
 "nbformat": 4,
 "nbformat_minor": 5
}
