{
 "cells": [
  {
   "cell_type": "markdown",
   "id": "f0adda54",
   "metadata": {},
   "source": [
    "You are playing a simplified PAC-MAN game on an infinite 2-D grid. You start at the point [0, 0], and you are given a destination point target = [xtarget, ytarget] that you are trying to get to. There are several ghosts on the map with their starting positions given as a 2D array ghosts, where ghosts[i] = [xi, yi] represents the starting position of the ith ghost. All inputs are integral coordinates.\n",
    "\n",
    "Each turn, you and all the ghosts may independently choose to either move 1 unit in any of the four cardinal directions: north, east, south, or west, or stay still. All actions happen simultaneously.\n",
    "\n",
    "You escape if and only if you can reach the target before any ghost reaches you. If you reach any square (including the target) at the same time as a ghost, it does not count as an escape.\n",
    "\n",
    "Return true if it is possible to escape regardless of how the ghosts move, otherwise return false."
   ]
  },
  {
   "cell_type": "code",
   "execution_count": 3,
   "id": "0fd225c8",
   "metadata": {},
   "outputs": [],
   "source": [
    "def distance(i,j,x,y):\n",
    "    return abs(i-x)+abs(j-y)\n",
    "def fx(ghosts,target):\n",
    "    thresh=distance(0,0,target[0],target[1])\n",
    "    # print(thresh)\n",
    "    for i in ghosts:\n",
    "        # print(distance(i[0],i[1],target[0],target[1]))\n",
    "        if distance(i[0],i[1],target[0],target[1])<=thresh:\n",
    "            return False\n",
    "    return True\n"
   ]
  },
  {
   "cell_type": "code",
   "execution_count": 5,
   "id": "84ee274f",
   "metadata": {},
   "outputs": [
    {
     "data": {
      "text/plain": [
       "True"
      ]
     },
     "execution_count": 5,
     "metadata": {},
     "output_type": "execute_result"
    }
   ],
   "source": [
    "fx(ghosts = [[1,0],[0,3]], target = [0,1])"
   ]
  }
 ],
 "metadata": {
  "kernelspec": {
   "display_name": "Python 3 (ipykernel)",
   "language": "python",
   "name": "python3"
  },
  "language_info": {
   "codemirror_mode": {
    "name": "ipython",
    "version": 3
   },
   "file_extension": ".py",
   "mimetype": "text/x-python",
   "name": "python",
   "nbconvert_exporter": "python",
   "pygments_lexer": "ipython3",
   "version": "3.10.6"
  }
 },
 "nbformat": 4,
 "nbformat_minor": 5
}
