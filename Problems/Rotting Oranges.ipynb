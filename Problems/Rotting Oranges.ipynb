{
 "cells": [
  {
   "cell_type": "markdown",
   "id": "b69d7fe8",
   "metadata": {},
   "source": [
    "You are given an m x n grid where each cell can have one of three values:\n",
    "\n",
    "* 0 representing an empty cell,\n",
    "*1 representing a fresh orange, or\n",
    "*2 representing a rotten orange.\n",
    "\n",
    "Every minute, any fresh orange that is 4-directionally adjacent to a rotten orange becomes rotten.\n",
    "\n",
    "Return the minimum number of minutes that must elapse until no cell has a fresh orange. If this is impossible, return -1."
   ]
  },
  {
   "cell_type": "code",
   "execution_count": 68,
   "id": "56170b35",
   "metadata": {},
   "outputs": [],
   "source": [
    "def check_fresh(mat,r,c):\n",
    "    count=0\n",
    "    for i in range(r):\n",
    "        for j in range(c):\n",
    "            if mat[i][j]==1:\n",
    "                count+=1\n",
    "    return count\n",
    "\n",
    "def check_rotten(mat,r,c):\n",
    "    arr=[]\n",
    "    for i in range(r):\n",
    "        for j in range(c):\n",
    "            if mat[i][j]==2:\n",
    "                arr.append((i,j))\n",
    "    return arr\n",
    "\n",
    "def fill_tomato(mat,i,j,r,c):\n",
    "    arr=[]\n",
    "    d=0\n",
    "    if i-1>=0 and mat[i-1][j]==1:\n",
    "        mat[i-1][j]=2\n",
    "        d+=1\n",
    "        arr.append((i-1,j))\n",
    "    if j-1>=0 and mat[i][j-1]==1:\n",
    "        mat[i][j-1]=2\n",
    "        d+=1\n",
    "        arr.append((i,j-1))\n",
    "    if i+1<r and mat[i+1][j]==1:\n",
    "        mat[i+1][j]=2\n",
    "        d+=1\n",
    "        arr.append((i+1,j))\n",
    "    if j+1<c and mat[i][j+1]==1:\n",
    "        mat[i][j+1]=2\n",
    "        d+=1\n",
    "        arr.append((i,j+1))\n",
    "    return (arr,d)\n",
    "\n",
    "def fx(grid):\n",
    "    r=len(grid)\n",
    "    c=len(grid[0])\n",
    "    count=0\n",
    "    temp=0\n",
    "    fresh_tomato=check_fresh(grid,r,c)\n",
    "    arr=check_rotten(grid,r,c)\n",
    "    while len(arr)>0 and fresh_tomato>0:\n",
    "        extra=[]\n",
    "        for i,j in arr:\n",
    "            pack=fill_tomato(grid,i,j,r,c)\n",
    "            extra+=pack[0]\n",
    "            fresh_tomato-=pack[1]\n",
    "        count+=1\n",
    "        arr=extra\n",
    "    if fresh_tomato>0:\n",
    "        return -1\n",
    "    return count"
   ]
  },
  {
   "cell_type": "code",
   "execution_count": 65,
   "id": "2af59c49",
   "metadata": {},
   "outputs": [
    {
     "data": {
      "text/plain": [
       "0"
      ]
     },
     "execution_count": 65,
     "metadata": {},
     "output_type": "execute_result"
    }
   ],
   "source": [
    "fx([[0,2]])"
   ]
  },
  {
   "cell_type": "code",
   "execution_count": 66,
   "id": "4db5ce96",
   "metadata": {},
   "outputs": [
    {
     "data": {
      "text/plain": [
       "-1"
      ]
     },
     "execution_count": 66,
     "metadata": {},
     "output_type": "execute_result"
    }
   ],
   "source": [
    "fx([[2,1,1],[0,1,1],[1,0,1]])"
   ]
  },
  {
   "cell_type": "code",
   "execution_count": 67,
   "id": "8d5adf13",
   "metadata": {},
   "outputs": [
    {
     "data": {
      "text/plain": [
       "4"
      ]
     },
     "execution_count": 67,
     "metadata": {},
     "output_type": "execute_result"
    }
   ],
   "source": [
    "fx([[2,1,1],[1,1,0],[0,1,1]])"
   ]
  },
  {
   "cell_type": "code",
   "execution_count": null,
   "id": "308f118b",
   "metadata": {},
   "outputs": [],
   "source": []
  }
 ],
 "metadata": {
  "kernelspec": {
   "display_name": "Python 3 (ipykernel)",
   "language": "python",
   "name": "python3"
  },
  "language_info": {
   "codemirror_mode": {
    "name": "ipython",
    "version": 3
   },
   "file_extension": ".py",
   "mimetype": "text/x-python",
   "name": "python",
   "nbconvert_exporter": "python",
   "pygments_lexer": "ipython3",
   "version": "3.10.6"
  }
 },
 "nbformat": 4,
 "nbformat_minor": 5
}
