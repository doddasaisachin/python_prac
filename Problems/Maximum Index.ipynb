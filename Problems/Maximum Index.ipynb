{
 "cells": [
  {
   "cell_type": "markdown",
   "id": "3a46330f",
   "metadata": {},
   "source": [
    "Given an array A[] of N positive integers. The task is to find the maximum of j - i subjected to the constraint of A[i] < A[j] and i < j"
   ]
  },
  {
   "cell_type": "markdown",
   "id": "c15a448b",
   "metadata": {},
   "source": [
    "##### Example 1:\n",
    "\n",
    "Input:\n",
    "N = 2\n",
    "A[] = [1, 10]\n",
    "\n",
    "Output:\n",
    "1\n",
    "\n",
    "Explanation:\n",
    "A[0]<A[1] so (j-i) is 1-0 = 1."
   ]
  },
  {
   "cell_type": "markdown",
   "id": "5f161656",
   "metadata": {},
   "source": [
    "##### Example 2:\n",
    "\n",
    "Input:\n",
    "N = 9\n",
    "A[] = [34, 8, 10, 3, 2, 80, 30, 33, 1]\n",
    "\n",
    "Output:\n",
    "6\n",
    "\n",
    "Explanation:\n",
    "In the given array A[1] < A[7]\n",
    "satisfying the required \n",
    "condition(A[i] < A[j]) thus giving \n",
    "the maximum difference of j - i \n",
    "which is 6(7-1)."
   ]
  },
  {
   "cell_type": "code",
   "execution_count": 149,
   "id": "fbada87a",
   "metadata": {},
   "outputs": [],
   "source": [
    "def func(arr):\n",
    "    idx=0\n",
    "    res=[]\n",
    "    temp=len(arr)-1\n",
    "    while idx<temp:\n",
    "        if arr[idx]<=arr[temp]:\n",
    "            res.append(temp-idx)\n",
    "            temp=len(arr)-1\n",
    "            idx+=1\n",
    "        else:\n",
    "            temp=temp-1\n",
    "        if temp==idx:\n",
    "            idx+=1\n",
    "            temp=len(arr)-1\n",
    "    if len(res)<1:\n",
    "        return 0\n",
    "    return (res)"
   ]
  },
  {
   "cell_type": "code",
   "execution_count": 150,
   "id": "0a4da15d",
   "metadata": {},
   "outputs": [
    {
     "data": {
      "text/plain": [
       "[1]"
      ]
     },
     "execution_count": 150,
     "metadata": {},
     "output_type": "execute_result"
    }
   ],
   "source": [
    "func([1,10])"
   ]
  },
  {
   "cell_type": "code",
   "execution_count": 151,
   "id": "14eecfb7",
   "metadata": {},
   "outputs": [
    {
     "data": {
      "text/plain": [
       "[5, 6, 5, 4, 3, 1]"
      ]
     },
     "execution_count": 151,
     "metadata": {},
     "output_type": "execute_result"
    }
   ],
   "source": [
    "func([34,8,10,3,2,80,30,33,1])"
   ]
  },
  {
   "cell_type": "code",
   "execution_count": 152,
   "id": "a009f4f9",
   "metadata": {},
   "outputs": [
    {
     "data": {
      "text/plain": [
       "[14, 13, 6, 12, 4, 10, 8, 8, 5, 4, 1]"
      ]
     },
     "execution_count": 152,
     "metadata": {},
     "output_type": "execute_result"
    }
   ],
   "source": [
    "func([97, 65, 24, 84 ,10, 82, 2 ,51 ,1 ,91, 62 ,59 ,80 ,76, 26, 66, 11])"
   ]
  },
  {
   "cell_type": "code",
   "execution_count": 153,
   "id": "0dbe4f02",
   "metadata": {},
   "outputs": [
    {
     "data": {
      "text/plain": [
       "[6, 5, 4, 3, 2]"
      ]
     },
     "execution_count": 153,
     "metadata": {},
     "output_type": "execute_result"
    }
   ],
   "source": [
    "func([82, 63, 44, 74, 82 ,99 ,82])"
   ]
  },
  {
   "cell_type": "code",
   "execution_count": 154,
   "id": "6e3beb4c",
   "metadata": {},
   "outputs": [
    {
     "data": {
      "text/plain": [
       "[1]"
      ]
     },
     "execution_count": 154,
     "metadata": {},
     "output_type": "execute_result"
    }
   ],
   "source": [
    "func([46, 59, 39, 26, 19, 13])"
   ]
  },
  {
   "cell_type": "code",
   "execution_count": 155,
   "id": "1138ecf6",
   "metadata": {},
   "outputs": [],
   "source": [
    "def func(arr):\n",
    "    idx=0\n",
    "    res=0\n",
    "    temp=len(arr)-1\n",
    "    while idx<temp//2+1:\n",
    "        if arr[idx]<=arr[temp]:\n",
    "            if (temp-idx)>res:\n",
    "                res=temp-idx\n",
    "            temp=len(arr)-1\n",
    "            idx+=1\n",
    "        else:\n",
    "            temp=temp-1\n",
    "        if temp==idx:\n",
    "            idx+=1\n",
    "            temp=len(arr)-1\n",
    "    return (res)"
   ]
  },
  {
   "cell_type": "code",
   "execution_count": 156,
   "id": "c2f6f3ee",
   "metadata": {},
   "outputs": [
    {
     "data": {
      "text/plain": [
       "0"
      ]
     },
     "execution_count": 156,
     "metadata": {},
     "output_type": "execute_result"
    }
   ],
   "source": [
    "func([75,49])"
   ]
  },
  {
   "cell_type": "code",
   "execution_count": 157,
   "id": "d1df330d",
   "metadata": {},
   "outputs": [
    {
     "data": {
      "text/plain": [
       "1"
      ]
     },
     "execution_count": 157,
     "metadata": {},
     "output_type": "execute_result"
    }
   ],
   "source": [
    "func([1,10])"
   ]
  },
  {
   "cell_type": "code",
   "execution_count": 158,
   "id": "5c231b2d",
   "metadata": {},
   "outputs": [
    {
     "data": {
      "text/plain": [
       "6"
      ]
     },
     "execution_count": 158,
     "metadata": {},
     "output_type": "execute_result"
    }
   ],
   "source": [
    "func([34,8,10,3,2,80,30,33,1])"
   ]
  },
  {
   "cell_type": "code",
   "execution_count": 159,
   "id": "a5dbd995",
   "metadata": {},
   "outputs": [
    {
     "data": {
      "text/plain": [
       "14"
      ]
     },
     "execution_count": 159,
     "metadata": {},
     "output_type": "execute_result"
    }
   ],
   "source": [
    "func([97, 65, 24, 84 ,10, 82, 2 ,51 ,1 ,91, 62 ,59 ,80 ,76, 26, 66, 11])"
   ]
  },
  {
   "cell_type": "code",
   "execution_count": 160,
   "id": "130f08ac",
   "metadata": {},
   "outputs": [
    {
     "data": {
      "text/plain": [
       "6"
      ]
     },
     "execution_count": 160,
     "metadata": {},
     "output_type": "execute_result"
    }
   ],
   "source": [
    "func([82, 63, 44, 74, 82 ,99 ,82])"
   ]
  },
  {
   "cell_type": "code",
   "execution_count": 161,
   "id": "c5786d44",
   "metadata": {},
   "outputs": [
    {
     "data": {
      "text/plain": [
       "1"
      ]
     },
     "execution_count": 161,
     "metadata": {},
     "output_type": "execute_result"
    }
   ],
   "source": [
    "func([46, 59, 39, 26, 19, 13])"
   ]
  }
 ],
 "metadata": {
  "kernelspec": {
   "display_name": "Python 3 (ipykernel)",
   "language": "python",
   "name": "python3"
  },
  "language_info": {
   "codemirror_mode": {
    "name": "ipython",
    "version": 3
   },
   "file_extension": ".py",
   "mimetype": "text/x-python",
   "name": "python",
   "nbconvert_exporter": "python",
   "pygments_lexer": "ipython3",
   "version": "3.10.6"
  }
 },
 "nbformat": 4,
 "nbformat_minor": 5
}
