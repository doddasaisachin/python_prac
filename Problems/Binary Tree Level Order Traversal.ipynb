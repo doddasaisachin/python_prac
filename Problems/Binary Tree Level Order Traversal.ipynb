{
 "cells": [
  {
   "cell_type": "markdown",
   "id": "21580f50",
   "metadata": {},
   "source": [
    "Given the root of a binary tree, return the level order traversal of its nodes' values. (i.e., from left to right, level by level).\n",
    "\n",
    " "
   ]
  },
  {
   "cell_type": "code",
   "execution_count": 1,
   "id": "761d67e4",
   "metadata": {},
   "outputs": [],
   "source": [
    "def levelOrder(root):\n",
    "    if root is None:\n",
    "        return []\n",
    "    arr=[[root]]\n",
    "    res=[]\n",
    "    while len(arr[0])>0:\n",
    "        temp=arr.pop(0)\n",
    "        val=[]\n",
    "        nodes=[]\n",
    "        for i in temp:\n",
    "            val.append(i.val)\n",
    "            if i.left:\n",
    "                nodes.append(i.left)\n",
    "            if i.right:\n",
    "                nodes.append(i.right)\n",
    "        arr.append(nodes)\n",
    "        res.append(val)\n",
    "    return res"
   ]
  }
 ],
 "metadata": {
  "kernelspec": {
   "display_name": "Python 3 (ipykernel)",
   "language": "python",
   "name": "python3"
  },
  "language_info": {
   "codemirror_mode": {
    "name": "ipython",
    "version": 3
   },
   "file_extension": ".py",
   "mimetype": "text/x-python",
   "name": "python",
   "nbconvert_exporter": "python",
   "pygments_lexer": "ipython3",
   "version": "3.10.6"
  }
 },
 "nbformat": 4,
 "nbformat_minor": 5
}
