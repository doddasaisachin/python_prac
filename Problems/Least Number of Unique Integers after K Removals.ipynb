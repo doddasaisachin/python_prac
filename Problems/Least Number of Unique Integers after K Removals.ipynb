{
 "cells": [
  {
   "cell_type": "markdown",
   "id": "93cdc19d",
   "metadata": {},
   "source": [
    "Given an array of integers arr and an integer k. Find the least number of unique integers after removing exactly k elements.\n"
   ]
  },
  {
   "cell_type": "code",
   "execution_count": 1,
   "id": "01027a6f",
   "metadata": {},
   "outputs": [],
   "source": [
    "def fx(arr,k):\n",
    "    d=dict()\n",
    "    for i in arr:\n",
    "        if i not in d.keys():\n",
    "            d[i]=1\n",
    "        else:\n",
    "            d[i]+=1\n",
    "    arr=sorted(d,key=lambda x : d[x])\n",
    "    idx=0\n",
    "    for i in range(k):\n",
    "        if d[arr[idx]]==0:\n",
    "            idx+=1\n",
    "        d[arr[idx]]-=1\n",
    "    ans=len(d.keys())\n",
    "    for i in arr:\n",
    "        if d[i]!=0:\n",
    "            break\n",
    "        else:\n",
    "            ans-=1\n",
    "    return ans"
   ]
  },
  {
   "cell_type": "code",
   "execution_count": 2,
   "id": "3926ebf0",
   "metadata": {},
   "outputs": [
    {
     "data": {
      "text/plain": [
       "2"
      ]
     },
     "execution_count": 2,
     "metadata": {},
     "output_type": "execute_result"
    }
   ],
   "source": [
    "fx([4,3,1,1,3,3,2], k = 3)"
   ]
  },
  {
   "cell_type": "code",
   "execution_count": null,
   "id": "594c45b8",
   "metadata": {},
   "outputs": [],
   "source": []
  }
 ],
 "metadata": {
  "kernelspec": {
   "display_name": "Python 3 (ipykernel)",
   "language": "python",
   "name": "python3"
  },
  "language_info": {
   "codemirror_mode": {
    "name": "ipython",
    "version": 3
   },
   "file_extension": ".py",
   "mimetype": "text/x-python",
   "name": "python",
   "nbconvert_exporter": "python",
   "pygments_lexer": "ipython3",
   "version": "3.10.6"
  }
 },
 "nbformat": 4,
 "nbformat_minor": 5
}
