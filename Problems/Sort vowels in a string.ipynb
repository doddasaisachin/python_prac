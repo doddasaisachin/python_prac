{
 "cells": [
  {
   "cell_type": "markdown",
   "id": "d3eb7062",
   "metadata": {},
   "source": [
    "Given a 0-indexed string s, permute s to get a new string t such that:\n",
    "\n",
    "All consonants remain in their original places. More formally, if there is an index i with 0 <= i < s.length such that s[i] is a consonant, then t[i] = s[i].\n",
    "The vowels must be sorted in the nondecreasing order of their ASCII values. More formally, for pairs of indices i, j with 0 <= i < j < s.length such that s[i] and s[j] are vowels, then t[i] must not have a higher ASCII value than t[j].\n",
    "Return the resulting string.\n",
    "\n",
    "The vowels are 'a', 'e', 'i', 'o', and 'u', and they can appear in lowercase or uppercase. Consonants comprise all letters that are not vowels.\n",
    "\n",
    " "
   ]
  },
  {
   "cell_type": "markdown",
   "id": "c0843fcb",
   "metadata": {},
   "source": [
    "Example 1:\n",
    "\n",
    "Input: s = \"lEetcOde\"\n",
    "Output: \"lEOtcede\"\n",
    "Explanation: 'E', 'O', and 'e' are the vowels in s; 'l', 't', 'c', and 'd' are all consonants. The vowels are sorted according to their ASCII values, and the consonants remain in the same places."
   ]
  },
  {
   "cell_type": "markdown",
   "id": "b9f06946",
   "metadata": {},
   "source": [
    "Example 2:\n",
    "\n",
    "Input: s = \"lYmpH\"\n",
    "Output: \"lYmpH\"\n",
    "Explanation: There are no vowels in s (all characters in s are consonants), so we return \"lYmpH\"."
   ]
  },
  {
   "cell_type": "code",
   "execution_count": 28,
   "id": "6523a3fc",
   "metadata": {},
   "outputs": [],
   "source": [
    "def function(string):\n",
    "    vow=['a','e','i','o','u']\n",
    "    v=[]\n",
    "    for i in string:\n",
    "        if i.lower() in vow:\n",
    "            v.append(i)\n",
    "    t=''\n",
    "    v.sort()\n",
    "    idx=0\n",
    "    for i in string:\n",
    "        if i.lower() in vow:\n",
    "            t+=v[idx]\n",
    "            idx+=1\n",
    "        else:\n",
    "            t+=i\n",
    "    return t"
   ]
  },
  {
   "cell_type": "code",
   "execution_count": 29,
   "id": "d176b02c",
   "metadata": {},
   "outputs": [
    {
     "data": {
      "text/plain": [
       "'lEOtcede'"
      ]
     },
     "execution_count": 29,
     "metadata": {},
     "output_type": "execute_result"
    }
   ],
   "source": [
    "function(\"lEetcOde\")"
   ]
  },
  {
   "cell_type": "code",
   "execution_count": 30,
   "id": "e06a6fe2",
   "metadata": {},
   "outputs": [
    {
     "data": {
      "text/plain": [
       "'lYmpH'"
      ]
     },
     "execution_count": 30,
     "metadata": {},
     "output_type": "execute_result"
    }
   ],
   "source": [
    "function(\"lYmpH\")"
   ]
  },
  {
   "cell_type": "code",
   "execution_count": null,
   "id": "4419704b",
   "metadata": {},
   "outputs": [],
   "source": []
  }
 ],
 "metadata": {
  "kernelspec": {
   "display_name": "Python 3 (ipykernel)",
   "language": "python",
   "name": "python3"
  },
  "language_info": {
   "codemirror_mode": {
    "name": "ipython",
    "version": 3
   },
   "file_extension": ".py",
   "mimetype": "text/x-python",
   "name": "python",
   "nbconvert_exporter": "python",
   "pygments_lexer": "ipython3",
   "version": "3.10.6"
  }
 },
 "nbformat": 4,
 "nbformat_minor": 5
}
