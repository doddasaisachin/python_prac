{
 "cells": [
  {
   "cell_type": "raw",
   "id": "ac610dfb",
   "metadata": {},
   "source": [
    "Given an unsorted array A of size N that contains only positive integers,\n",
    "find a continuous sub-array that adds to a given number S and return the left and right index(1-based indexing) of that subarray\n",
    "In case of multiple subarrays, return the subarray indexes which come first on moving from left to right."
   ]
  },
  {
   "cell_type": "raw",
   "id": "c3da8148",
   "metadata": {},
   "source": [
    "Example 1:\n",
    "\n",
    "Input:\n",
    "N = 5, S = 12\n",
    "A[] = {1,2,3,7,5}\n",
    "Output: 2 4\n",
    "Explanation: The sum of elements \n",
    "from 2nd position to 4th position \n",
    "is 12."
   ]
  },
  {
   "cell_type": "code",
   "execution_count": 4,
   "id": "20dafd6e",
   "metadata": {},
   "outputs": [],
   "source": [
    "def func(s,li):\n",
    "    for i in range(len(li)):\n",
    "        sum=li[i]\n",
    "        temp=li[i+1:]\n",
    "        for j in range(len(temp)):\n",
    "            sum=sum+temp[j]\n",
    "            if sum==s:\n",
    "                return i+1,(i+1+j+1)"
   ]
  },
  {
   "cell_type": "code",
   "execution_count": 6,
   "id": "ca2a6c74",
   "metadata": {},
   "outputs": [
    {
     "data": {
      "text/plain": [
       "(3, 7)"
      ]
     },
     "execution_count": 6,
     "metadata": {},
     "output_type": "execute_result"
    }
   ],
   "source": [
    "func(30,[1,2,4,5,6,8,7,4,5,21,1,6,9,5])"
   ]
  }
 ],
 "metadata": {
  "kernelspec": {
   "display_name": "Python 3 (ipykernel)",
   "language": "python",
   "name": "python3"
  },
  "language_info": {
   "codemirror_mode": {
    "name": "ipython",
    "version": 3
   },
   "file_extension": ".py",
   "mimetype": "text/x-python",
   "name": "python",
   "nbconvert_exporter": "python",
   "pygments_lexer": "ipython3",
   "version": "3.10.6"
  }
 },
 "nbformat": 4,
 "nbformat_minor": 5
}
