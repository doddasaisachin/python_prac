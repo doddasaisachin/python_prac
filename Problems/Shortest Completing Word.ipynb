{
 "cells": [
  {
   "cell_type": "markdown",
   "id": "b2514f9c",
   "metadata": {},
   "source": [
    "Given a string licensePlate and an array of strings words, find the shortest completing word in words.\n",
    "\n",
    "A completing word is a word that contains all the letters in licensePlate. Ignore numbers and spaces in licensePlate, and treat letters as case insensitive. If a letter appears more than once in licensePlate, then it must appear in the word the same number of times or more.\n",
    "\n",
    "For example, if licensePlate = \"aBc 12c\", then it contains letters 'a', 'b' (ignoring case), and 'c' twice. Possible completing words are \"abccdef\", \"caaacab\", and \"cbca\".\n",
    "\n",
    "Return the shortest completing word in words. It is guaranteed an answer exists. If there are multiple shortest completing words, return the first one that occurs in words.\n",
    "\n",
    " \n",
    "\n",
    "Example 1:\n",
    "\n",
    "Input: licensePlate = \"1s3 PSt\", words = [\"step\",\"steps\",\"stripe\",\"stepple\"]\n",
    "Output: \"steps\"\n",
    "Explanation: licensePlate contains letters 's', 'p', 's' (ignoring case), and 't'.\n",
    "\"step\" contains 't' and 'p', but only contains 1 's'.\n",
    "\"steps\" contains 't', 'p', and both 's' characters.\n",
    "\"stripe\" is missing an 's'.\n",
    "\"stepple\" is missing an 's'.\n",
    "Since \"steps\" is the only word containing all the letters, that is the answer.\n",
    "\n",
    "Example 2:\n",
    "\n",
    "Input: licensePlate = \"1s3 456\", words = [\"looks\",\"pest\",\"stew\",\"show\"]\n",
    "Output: \"pest\"\n",
    "Explanation: licensePlate only contains the letter 's'. All the words contain 's', but among these \"pest\", \"stew\", and \"show\" are shortest. The answer is \"pest\" because it is the word that appears earliest of the 3."
   ]
  },
  {
   "cell_type": "code",
   "execution_count": 64,
   "id": "9171ec12",
   "metadata": {},
   "outputs": [],
   "source": [
    "def shortestCompletingWord(l, words):\n",
    "    d=dict()\n",
    "    for i in l:\n",
    "        if i.isalpha():\n",
    "            ele=i.lower()\n",
    "            if ele not in d.keys():\n",
    "                d[ele]=1\n",
    "            else:\n",
    "                d[ele]+=1\n",
    "    res=[]\n",
    "    for word in words:\n",
    "        found=True\n",
    "        for j in d.keys():\n",
    "            if j not in word:\n",
    "                found=False\n",
    "                break\n",
    "            elif d[j]>word.count(j):\n",
    "                found=False\n",
    "                break\n",
    "        if found==True:\n",
    "            res.append(word)\n",
    "    fin=sorted(res,key=lambda x:len(x))\n",
    "    return fin[0]"
   ]
  },
  {
   "cell_type": "code",
   "execution_count": 65,
   "id": "29623dfb",
   "metadata": {},
   "outputs": [
    {
     "data": {
      "text/plain": [
       "'according'"
      ]
     },
     "execution_count": 65,
     "metadata": {},
     "output_type": "execute_result"
    }
   ],
   "source": [
    "shortestCompletingWord(\"GrC8950\",[\"measure\",\"other\",\"every\",\"base\",\n",
    "                                  \"according\",\"level\",\"meeting\",\"none\",\n",
    "                                  \"marriage\",\"rest\"])"
   ]
  },
  {
   "cell_type": "code",
   "execution_count": 66,
   "id": "cfc12c08",
   "metadata": {},
   "outputs": [
    {
     "data": {
      "text/plain": [
       "'husband'"
      ]
     },
     "execution_count": 66,
     "metadata": {},
     "output_type": "execute_result"
    }
   ],
   "source": [
    "shortestCompletingWord(\"Ah71752\",[\"suggest\",\"letter\",\"of\",\"husband\",\"easy\",\n",
    "                                  \"education\",\"drug\",\"prevent\",\"writer\",\"old\"])"
   ]
  },
  {
   "cell_type": "code",
   "execution_count": 67,
   "id": "e4f0c390",
   "metadata": {
    "scrolled": true
   },
   "outputs": [
    {
     "data": {
      "text/plain": [
       "'steps'"
      ]
     },
     "execution_count": 67,
     "metadata": {},
     "output_type": "execute_result"
    }
   ],
   "source": [
    "shortestCompletingWord(\"1s3 PSt\", words = [\"step\",\"steps\",\"stripe\",\"stepple\"])"
   ]
  },
  {
   "cell_type": "code",
   "execution_count": null,
   "id": "2e75c4cd",
   "metadata": {},
   "outputs": [],
   "source": []
  }
 ],
 "metadata": {
  "kernelspec": {
   "display_name": "Python 3 (ipykernel)",
   "language": "python",
   "name": "python3"
  },
  "language_info": {
   "codemirror_mode": {
    "name": "ipython",
    "version": 3
   },
   "file_extension": ".py",
   "mimetype": "text/x-python",
   "name": "python",
   "nbconvert_exporter": "python",
   "pygments_lexer": "ipython3",
   "version": "3.10.6"
  }
 },
 "nbformat": 4,
 "nbformat_minor": 5
}
