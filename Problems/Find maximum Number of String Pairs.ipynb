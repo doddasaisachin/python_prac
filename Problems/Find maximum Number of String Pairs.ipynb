{
 "cells": [
  {
   "cell_type": "markdown",
   "id": "4ea8e38f",
   "metadata": {},
   "source": [
    "You are given a 0-indexed array words consisting of distinct strings.\n",
    "\n",
    "The string words[i] can be paired with the string words[j] if:\n",
    "\n",
    "The string words[i] is equal to the reversed string of words[j].\n",
    "0 <= i < j < words.length.\n",
    "Return the maximum number of pairs that can be formed from the array words.\n",
    "\n",
    "Note that each string can belong in at most one pair.\n",
    "\n",
    " \n",
    "\n",
    "Example 1:\n",
    "\n",
    "Input: words = [\"cd\",\"ac\",\"dc\",\"ca\",\"zz\"]\n",
    "Output: 2\n",
    "Explanation: In this example, we can form 2 pair of strings in the following way:\n",
    "- We pair the 0th string with the 2nd string, as the reversed string of word[0] is \"dc\" and is equal to words[2].\n",
    "- We pair the 1st string with the 3rd string, as the reversed string of word[1] is \"ca\" and is equal to words[3].\n",
    "It can be proven that 2 is the maximum number of pairs that can be formed.\n",
    "Example 2:\n",
    "\n",
    "Input: words = [\"ab\",\"ba\",\"cc\"]\n",
    "Output: 1\n",
    "Explanation: In this example, we can form 1 pair of strings in the following way:\n",
    "- We pair the 0th string with the 1st string, as the reversed string of words[1] is \"ab\" and is equal to words[0].\n",
    "It can be proven that 1 is the maximum number of pairs that can be formed.\n",
    "Example 3:\n",
    "\n",
    "Input: words = [\"aa\",\"ab\"]\n",
    "Output: 0\n",
    "Explanation: In this example, we are unable to form any pair of strings.`"
   ]
  },
  {
   "cell_type": "code",
   "execution_count": 79,
   "id": "52c68f0a",
   "metadata": {},
   "outputs": [],
   "source": [
    "def function(array):\n",
    "    idx=0\n",
    "    fin=-1\n",
    "    c=0\n",
    "    if len(array)<2:\n",
    "        return 0\n",
    "    if len(array)==2:\n",
    "        if array[1][::-1]==array[0]:\n",
    "            return 1\n",
    "        return 0\n",
    "    while idx<len(array)-1:\n",
    "        if (array[fin][::-1]==array[idx]):\n",
    "            c+=1\n",
    "            idx+=1\n",
    "            fin=-1\n",
    "        else:\n",
    "            if abs(fin-1)<len(array)-idx:\n",
    "                fin-=1\n",
    "            else:\n",
    "                idx+=1\n",
    "                fin=-1\n",
    "    return c"
   ]
  },
  {
   "cell_type": "code",
   "execution_count": 80,
   "id": "53619ddc",
   "metadata": {},
   "outputs": [
    {
     "data": {
      "text/plain": [
       "2"
      ]
     },
     "execution_count": 80,
     "metadata": {},
     "output_type": "execute_result"
    }
   ],
   "source": [
    "function([\"cd\",\"ac\",\"dc\",\"ca\",\"zz\"])"
   ]
  },
  {
   "cell_type": "code",
   "execution_count": 81,
   "id": "afa80469",
   "metadata": {},
   "outputs": [
    {
     "data": {
      "text/plain": [
       "1"
      ]
     },
     "execution_count": 81,
     "metadata": {},
     "output_type": "execute_result"
    }
   ],
   "source": [
    "function([\"ab\",\"ba\",\"cc\"])"
   ]
  },
  {
   "cell_type": "code",
   "execution_count": 82,
   "id": "c34f7bf0",
   "metadata": {},
   "outputs": [
    {
     "data": {
      "text/plain": [
       "0"
      ]
     },
     "execution_count": 82,
     "metadata": {},
     "output_type": "execute_result"
    }
   ],
   "source": [
    "function([\"aa\",\"ab\"])"
   ]
  },
  {
   "cell_type": "code",
   "execution_count": null,
   "id": "3e5d5bff",
   "metadata": {},
   "outputs": [],
   "source": []
  },
  {
   "cell_type": "code",
   "execution_count": null,
   "id": "7c3d8698",
   "metadata": {},
   "outputs": [],
   "source": []
  }
 ],
 "metadata": {
  "kernelspec": {
   "display_name": "Python 3 (ipykernel)",
   "language": "python",
   "name": "python3"
  },
  "language_info": {
   "codemirror_mode": {
    "name": "ipython",
    "version": 3
   },
   "file_extension": ".py",
   "mimetype": "text/x-python",
   "name": "python",
   "nbconvert_exporter": "python",
   "pygments_lexer": "ipython3",
   "version": "3.10.6"
  }
 },
 "nbformat": 4,
 "nbformat_minor": 5
}
