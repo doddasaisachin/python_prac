{
 "cells": [
  {
   "cell_type": "markdown",
   "id": "1b911e7f",
   "metadata": {},
   "source": [
    "You are given an array arr of n integers. For each index i, you have to find the sum of all integers present in the array with a value less than arr[i]."
   ]
  },
  {
   "cell_type": "markdown",
   "id": "26ccd374",
   "metadata": {},
   "source": [
    "##### Example 1:\n",
    "\n",
    "Input:\n",
    "n = 3\n",
    "arr = {1, 2, 3}\n",
    "Output:\n",
    "0 1 3\n",
    "Explanation:\n",
    "For 1, there are no elements lesser than itself.\n",
    "For 2, only 1 is lesser than 2.\n",
    "And for 3, 1 and 2 are lesser than 3, so the sum is 3"
   ]
  },
  {
   "cell_type": "markdown",
   "id": "629d8e8d",
   "metadata": {},
   "source": [
    "##### Example 2:\n",
    "\n",
    "Input:\n",
    "n = 2\n",
    "arr = {4, 4}\n",
    "Output:\n",
    "0 0\n",
    "Explanation:\n",
    "For 4, there are no elements lesser than itself. \n",
    "For 4, there are no elements lesser than itself.\n",
    "There are no smaller elements than 4."
   ]
  },
  {
   "cell_type": "code",
   "execution_count": 62,
   "id": "2c39e1d5",
   "metadata": {},
   "outputs": [],
   "source": [
    "def func(arr):\n",
    "    new=sorted(arr)\n",
    "    res=[]\n",
    "    for i in arr:\n",
    "        s=0\n",
    "        for j in new:\n",
    "            if j<i:\n",
    "                s+=j\n",
    "            else:\n",
    "                res.append(s)\n",
    "                break\n",
    "    return res"
   ]
  },
  {
   "cell_type": "code",
   "execution_count": 63,
   "id": "9885e0a7",
   "metadata": {},
   "outputs": [
    {
     "data": {
      "text/plain": [
       "[1, 4, 0, 9, 17]"
      ]
     },
     "execution_count": 63,
     "metadata": {},
     "output_type": "execute_result"
    }
   ],
   "source": [
    "func([3,5,1,8,9])"
   ]
  },
  {
   "cell_type": "code",
   "execution_count": 64,
   "id": "76b7bd43",
   "metadata": {},
   "outputs": [
    {
     "data": {
      "text/plain": [
       "[0, 0]"
      ]
     },
     "execution_count": 64,
     "metadata": {},
     "output_type": "execute_result"
    }
   ],
   "source": [
    "func([4,4])"
   ]
  },
  {
   "cell_type": "code",
   "execution_count": 65,
   "id": "dc9f4b74",
   "metadata": {},
   "outputs": [
    {
     "data": {
      "text/plain": [
       "[0, 1, 3]"
      ]
     },
     "execution_count": 65,
     "metadata": {},
     "output_type": "execute_result"
    }
   ],
   "source": [
    "func([1,2,3])"
   ]
  },
  {
   "cell_type": "code",
   "execution_count": 51,
   "id": "8acdaf3d",
   "metadata": {},
   "outputs": [],
   "source": [
    "def func(arr):\n",
    "    new=sorted(arr)\n",
    "    res=[]\n",
    "    new_res=[]\n",
    "    s=0\n",
    "    for i in range(len(new)):\n",
    "        res.append(s)\n",
    "        s=s+new[i]\n",
    "    idx,temp=0,0\n",
    "    while idx<len(arr):\n",
    "        if arr[idx]==new[temp]:\n",
    "            new_res.append(res[temp])\n",
    "            idx+=1\n",
    "            temp=0\n",
    "        elif temp<len(arr):\n",
    "            temp=temp+1\n",
    "            \n",
    "    return new_res"
   ]
  },
  {
   "cell_type": "code",
   "execution_count": 52,
   "id": "8f5b2732",
   "metadata": {},
   "outputs": [
    {
     "data": {
      "text/plain": [
       "[1, 4, 0, 9, 17]"
      ]
     },
     "execution_count": 52,
     "metadata": {},
     "output_type": "execute_result"
    }
   ],
   "source": [
    "func([3,5,1,8,9])"
   ]
  }
 ],
 "metadata": {
  "kernelspec": {
   "display_name": "Python 3 (ipykernel)",
   "language": "python",
   "name": "python3"
  },
  "language_info": {
   "codemirror_mode": {
    "name": "ipython",
    "version": 3
   },
   "file_extension": ".py",
   "mimetype": "text/x-python",
   "name": "python",
   "nbconvert_exporter": "python",
   "pygments_lexer": "ipython3",
   "version": "3.10.6"
  }
 },
 "nbformat": 4,
 "nbformat_minor": 5
}
