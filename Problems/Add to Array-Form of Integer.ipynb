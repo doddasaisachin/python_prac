{
 "cells": [
  {
   "cell_type": "markdown",
   "id": "afeb3fa8",
   "metadata": {},
   "source": [
    "The array-form of an integer num is an array representing its digits in left to right order.\n",
    "\n",
    "* For example, for num = 1321, the array form is [1,3,2,1].\n",
    "\n",
    "Given num, the array-form of an integer, and an integer k, return the array-form of the integer num + k.\n",
    "\n",
    " "
   ]
  },
  {
   "cell_type": "code",
   "execution_count": 122,
   "id": "3d696887",
   "metadata": {},
   "outputs": [],
   "source": [
    "def fx(num,k):\n",
    "    n=0\n",
    "    for i in num:\n",
    "        n=n*10+(i)\n",
    "    n=n+k\n",
    "    res=[]\n",
    "    while n>0:\n",
    "        ele=n%10\n",
    "        res.append(ele)\n",
    "        n=n//10\n",
    "    res=res[::-1]\n",
    "    return res"
   ]
  },
  {
   "cell_type": "code",
   "execution_count": 123,
   "id": "4a9824bf",
   "metadata": {},
   "outputs": [
    {
     "data": {
      "text/plain": [
       "[1, 0, 2, 1]"
      ]
     },
     "execution_count": 123,
     "metadata": {},
     "output_type": "execute_result"
    }
   ],
   "source": [
    "fx(num = [2,1,5], k = 806)"
   ]
  },
  {
   "cell_type": "code",
   "execution_count": 124,
   "id": "eda0a24a",
   "metadata": {},
   "outputs": [
    {
     "data": {
      "text/plain": [
       "[4, 5, 5]"
      ]
     },
     "execution_count": 124,
     "metadata": {},
     "output_type": "execute_result"
    }
   ],
   "source": [
    "fx(num = [2,7,4], k = 181)"
   ]
  },
  {
   "cell_type": "code",
   "execution_count": 125,
   "id": "7e363eba",
   "metadata": {},
   "outputs": [
    {
     "data": {
      "text/plain": [
       "[1, 2, 3, 4]"
      ]
     },
     "execution_count": 125,
     "metadata": {},
     "output_type": "execute_result"
    }
   ],
   "source": [
    "fx([1,2,0,0], k = 34)"
   ]
  }
 ],
 "metadata": {
  "kernelspec": {
   "display_name": "Python 3 (ipykernel)",
   "language": "python",
   "name": "python3"
  },
  "language_info": {
   "codemirror_mode": {
    "name": "ipython",
    "version": 3
   },
   "file_extension": ".py",
   "mimetype": "text/x-python",
   "name": "python",
   "nbconvert_exporter": "python",
   "pygments_lexer": "ipython3",
   "version": "3.10.6"
  }
 },
 "nbformat": 4,
 "nbformat_minor": 5
}
