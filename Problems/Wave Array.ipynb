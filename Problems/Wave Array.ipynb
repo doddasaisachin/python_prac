{
 "cells": [
  {
   "cell_type": "markdown",
   "id": "8d97c5d6",
   "metadata": {},
   "source": [
    "Given a sorted array arr[] of distinct integers. Sort the array into a wave-like array(In Place).\n",
    "In other words, arrange the elements into a sequence such that arr[1] >= arr[2] <= arr[3] >= arr[4] <= arr[5].....\n",
    "\n",
    "If there are multiple solutions, find the lexicographically smallest one.\n",
    "\n",
    "Note:The given array is sorted in ascending order, and you don't need to return anything to make changes in the original array itself."
   ]
  },
  {
   "cell_type": "markdown",
   "id": "5962803e",
   "metadata": {},
   "source": [
    "##### Example 1:\n",
    "\n",
    "Input:\n",
    "n = 5\n",
    "arr[] = [1,2,3,4,5]\n",
    "\n",
    "Output: 2 1 4 3 5\n",
    "    \n",
    "Explanation: Array elements after \n",
    "sorting it in wave form are \n",
    "2 1 4 3 5."
   ]
  },
  {
   "cell_type": "markdown",
   "id": "7bf5ce81",
   "metadata": {},
   "source": [
    "##### Example 2:\n",
    "\n",
    "Input:\n",
    "n = 6\n",
    "arr[] = [2,4,7,8,9,10]\n",
    "\n",
    "Output: 4 2 8 7 10 9\n",
    "    \n",
    "Explanation: Array elements after \n",
    "sorting it in wave form are \n",
    "4 2 8 7 10 9"
   ]
  },
  {
   "cell_type": "code",
   "execution_count": 27,
   "id": "a350a50a",
   "metadata": {},
   "outputs": [],
   "source": [
    "def func(n,arr):\n",
    "    if n==1:\n",
    "        return arr\n",
    "    if n%2==0:\n",
    "        for i in range(n):\n",
    "            if i%2==0:\n",
    "                temp=arr[i+1]\n",
    "                arr[i+1]=arr[i]\n",
    "                arr[i]=temp\n",
    "    else:\n",
    "        for i in range(n-1):\n",
    "            if i%2!=0:\n",
    "                temp=arr[i-1]\n",
    "                arr[i-1]=arr[i]\n",
    "                arr[i]=temp\n",
    "    return arr"
   ]
  },
  {
   "cell_type": "code",
   "execution_count": 28,
   "id": "b2c82a7a",
   "metadata": {},
   "outputs": [
    {
     "data": {
      "text/plain": [
       "[4, 2, 8, 7, 10, 9]"
      ]
     },
     "execution_count": 28,
     "metadata": {},
     "output_type": "execute_result"
    }
   ],
   "source": [
    "func(6,[2,4,7,8,9,10])"
   ]
  },
  {
   "cell_type": "code",
   "execution_count": 29,
   "id": "753983fe",
   "metadata": {},
   "outputs": [
    {
     "data": {
      "text/plain": [
       "[2, 1, 4, 3, 5]"
      ]
     },
     "execution_count": 29,
     "metadata": {},
     "output_type": "execute_result"
    }
   ],
   "source": [
    "func(5,[1,2,3,4,5])"
   ]
  },
  {
   "cell_type": "code",
   "execution_count": 30,
   "id": "28446fad",
   "metadata": {},
   "outputs": [
    {
     "data": {
      "text/plain": [
       "[2]"
      ]
     },
     "execution_count": 30,
     "metadata": {},
     "output_type": "execute_result"
    }
   ],
   "source": [
    "func(1,[2])"
   ]
  },
  {
   "cell_type": "code",
   "execution_count": 31,
   "id": "218cb6c7",
   "metadata": {},
   "outputs": [
    {
     "data": {
      "text/plain": [
       "[4, 3]"
      ]
     },
     "execution_count": 31,
     "metadata": {},
     "output_type": "execute_result"
    }
   ],
   "source": [
    "func(2,[3,4])"
   ]
  },
  {
   "cell_type": "code",
   "execution_count": 32,
   "id": "d8d164f4",
   "metadata": {},
   "outputs": [
    {
     "data": {
      "text/plain": [
       "[3, 1, 5]"
      ]
     },
     "execution_count": 32,
     "metadata": {},
     "output_type": "execute_result"
    }
   ],
   "source": [
    "func(3,[1,3,5])"
   ]
  }
 ],
 "metadata": {
  "kernelspec": {
   "display_name": "Python 3 (ipykernel)",
   "language": "python",
   "name": "python3"
  },
  "language_info": {
   "codemirror_mode": {
    "name": "ipython",
    "version": 3
   },
   "file_extension": ".py",
   "mimetype": "text/x-python",
   "name": "python",
   "nbconvert_exporter": "python",
   "pygments_lexer": "ipython3",
   "version": "3.10.6"
  }
 },
 "nbformat": 4,
 "nbformat_minor": 5
}
