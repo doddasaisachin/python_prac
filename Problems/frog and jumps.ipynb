{
 "cells": [
  {
   "cell_type": "code",
   "execution_count": 34,
   "id": "b9dd313c",
   "metadata": {},
   "outputs": [
    {
     "name": "stdout",
     "output_type": "stream",
     "text": [
      "\n"
     ]
    }
   ],
   "source": [
    "'''N frogs are positioned at one end of the pond.\n",
    "All frogs want to reach the other end of the pond as soon as possible.\n",
    "The pond has some leaves arranged in a straight line. \n",
    "Each frog has the strength to jump exactly K leaves. \n",
    "For example, a  frog having strength 2 will visit the leaves 2, 4, 6, ...  etc. while crossing the pond.\n",
    "\n",
    "Given the strength of each frog and the number of leaves,\n",
    "your task is to find the number of leaves that not be visited by any of the frogs when \n",
    "all frogs have reached the other end of the pond. '''\n",
    "print()"
   ]
  },
  {
   "cell_type": "code",
   "execution_count": 36,
   "id": "f20e446d",
   "metadata": {},
   "outputs": [
    {
     "name": "stdout",
     "output_type": "stream",
     "text": [
      "\n"
     ]
    }
   ],
   "source": [
    "'''Example 1:\n",
    "\n",
    "Input:\n",
    "N = 3\n",
    "leaves = 4\n",
    "frogs[] = {3, 2, 4} \n",
    "Output: 1\n",
    "Explanation:\n",
    "Leaf 1 will not be visited by any frog.\n",
    "\n",
    "\n",
    "Example 2:\n",
    "\n",
    "Input: \n",
    "N = 3\n",
    "leaves = 6\n",
    "frogs[] = {1, 3, 5} \n",
    "Output: 0\n",
    "Explanation: \n",
    "First frog will visit all the leaves so no \n",
    "leaf is left unvisited.'''\n",
    "print()"
   ]
  },
  {
   "cell_type": "code",
   "execution_count": 37,
   "id": "f13e2833",
   "metadata": {},
   "outputs": [],
   "source": [
    "def unvisited(n,leaf,frog):\n",
    "    leaves=[None for _ in range(leaf)]\n",
    "    for i in range(leaf):\n",
    "        a='leaf'+str(i)\n",
    "        leaves[i]=a\n",
    "    visit_list=[]\n",
    "    for i in range(len(frog)):\n",
    "        ele=frog[i]\n",
    "        for j in range(len(leaves)):\n",
    "            if (j+1)%ele==0:\n",
    "                visit_list.append(leaves[j])\n",
    "    return abs(len(set(visit_list))-leaf)"
   ]
  },
  {
   "cell_type": "code",
   "execution_count": 39,
   "id": "51254907",
   "metadata": {},
   "outputs": [
    {
     "data": {
      "text/plain": [
       "1"
      ]
     },
     "execution_count": 39,
     "metadata": {},
     "output_type": "execute_result"
    }
   ],
   "source": [
    "unvisited(3,4,[3,2,4])"
   ]
  },
  {
   "cell_type": "code",
   "execution_count": 38,
   "id": "0ef38684",
   "metadata": {},
   "outputs": [
    {
     "data": {
      "text/plain": [
       "0"
      ]
     },
     "execution_count": 38,
     "metadata": {},
     "output_type": "execute_result"
    }
   ],
   "source": [
    "unvisited(3,6,[1,3,5])"
   ]
  },
  {
   "cell_type": "code",
   "execution_count": null,
   "id": "151c38ef",
   "metadata": {},
   "outputs": [],
   "source": []
  }
 ],
 "metadata": {
  "kernelspec": {
   "display_name": "Python 3 (ipykernel)",
   "language": "python",
   "name": "python3"
  },
  "language_info": {
   "codemirror_mode": {
    "name": "ipython",
    "version": 3
   },
   "file_extension": ".py",
   "mimetype": "text/x-python",
   "name": "python",
   "nbconvert_exporter": "python",
   "pygments_lexer": "ipython3",
   "version": "3.10.6"
  }
 },
 "nbformat": 4,
 "nbformat_minor": 5
}
