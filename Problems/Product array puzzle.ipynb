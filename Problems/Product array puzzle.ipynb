{
 "cells": [
  {
   "cell_type": "markdown",
   "id": "2e4ee2ee",
   "metadata": {},
   "source": [
    "Given an array nums[] of size n, construct a Product Array P (of same size n) such that P[i] is equal to the product of all the elements of nums except nums[i]."
   ]
  },
  {
   "cell_type": "markdown",
   "id": "b2cd4e87",
   "metadata": {},
   "source": [
    "##### Example 1:\n",
    "\n",
    "Input:\n",
    "n = 5\n",
    "nums[] = [10, 3, 5, 6, 2]\n",
    "\n",
    "Output:\n",
    "180 600 360 300 900\n",
    "\n",
    "Explanation: \n",
    "For i=0, P[i] = 3*5*6*2 = 180.\n",
    "For i=1, P[i] = 10*5*6*2 = 600.\n",
    "For i=2, P[i] = 10*3*6*2 = 360.\n",
    "For i=3, P[i] = 10*3*5*2 = 300.\n",
    "For i=4, P[i] = 10*3*5*6 = 900."
   ]
  },
  {
   "cell_type": "markdown",
   "id": "002a1da1",
   "metadata": {},
   "source": [
    "##### Example 2:\n",
    "\n",
    "Input:\n",
    "n = 2\n",
    "\n",
    "nums[] = [12,0]\n",
    "\n",
    "Output:\n",
    "0 12"
   ]
  },
  {
   "cell_type": "code",
   "execution_count": 21,
   "id": "abfe211f",
   "metadata": {},
   "outputs": [],
   "source": [
    "def func(arr):\n",
    "    tot=1\n",
    "    for i in arr:\n",
    "        if i==0:\n",
    "            pass\n",
    "        else:\n",
    "            tot=tot*i\n",
    "    res=[]\n",
    "    if 0 in arr:\n",
    "        if arr.count(0)>1:\n",
    "            for i in arr:\n",
    "                res.append(0)\n",
    "        else:\n",
    "            for i in arr:\n",
    "                if i==0:\n",
    "                    res.append(tot)\n",
    "                else:\n",
    "                    res.append(0)\n",
    "    else:\n",
    "        for i in arr:\n",
    "            res.append(tot//i)\n",
    "    return res"
   ]
  },
  {
   "cell_type": "code",
   "execution_count": 22,
   "id": "ad4462e4",
   "metadata": {},
   "outputs": [
    {
     "data": {
      "text/plain": [
       "[180, 600, 360, 300, 900]"
      ]
     },
     "execution_count": 22,
     "metadata": {},
     "output_type": "execute_result"
    }
   ],
   "source": [
    "func([10,3,5,6,2])"
   ]
  },
  {
   "cell_type": "code",
   "execution_count": 23,
   "id": "4d7ebab5",
   "metadata": {},
   "outputs": [
    {
     "data": {
      "text/plain": [
       "[0, 1]"
      ]
     },
     "execution_count": 23,
     "metadata": {},
     "output_type": "execute_result"
    }
   ],
   "source": [
    "func([1,0])"
   ]
  },
  {
   "cell_type": "code",
   "execution_count": 24,
   "id": "df56d749",
   "metadata": {
    "scrolled": true
   },
   "outputs": [
    {
     "data": {
      "text/plain": [
       "[0, 0, 0, 720, 0, 0, 0]"
      ]
     },
     "execution_count": 24,
     "metadata": {},
     "output_type": "execute_result"
    }
   ],
   "source": [
    "func([1,2,3,0,4,5,6])"
   ]
  },
  {
   "cell_type": "code",
   "execution_count": 25,
   "id": "0784f8a7",
   "metadata": {},
   "outputs": [
    {
     "data": {
      "text/plain": [
       "[0, 0, 0, 0, 0, 0, 0, 0, 0]"
      ]
     },
     "execution_count": 25,
     "metadata": {},
     "output_type": "execute_result"
    }
   ],
   "source": [
    "func([1,2,3,0,4,5,0,6,8])"
   ]
  },
  {
   "cell_type": "code",
   "execution_count": 27,
   "id": "4afe36d1",
   "metadata": {},
   "outputs": [
    {
     "data": {
      "text/plain": [
       "[0, 0, 0, 0, 0, 0, 0]"
      ]
     },
     "execution_count": 27,
     "metadata": {},
     "output_type": "execute_result"
    }
   ],
   "source": [
    "func([0,0,0,0,0,0,0])"
   ]
  },
  {
   "cell_type": "code",
   "execution_count": null,
   "id": "c2926655",
   "metadata": {},
   "outputs": [],
   "source": []
  }
 ],
 "metadata": {
  "kernelspec": {
   "display_name": "Python 3 (ipykernel)",
   "language": "python",
   "name": "python3"
  },
  "language_info": {
   "codemirror_mode": {
    "name": "ipython",
    "version": 3
   },
   "file_extension": ".py",
   "mimetype": "text/x-python",
   "name": "python",
   "nbconvert_exporter": "python",
   "pygments_lexer": "ipython3",
   "version": "3.10.6"
  }
 },
 "nbformat": 4,
 "nbformat_minor": 5
}
