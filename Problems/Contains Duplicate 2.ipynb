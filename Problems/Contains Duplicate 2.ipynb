{
 "cells": [
  {
   "cell_type": "markdown",
   "id": "73c1e224",
   "metadata": {},
   "source": [
    "Given an integer array nums and an integer k, return true if there are two distinct indices i and j in the array such that nums[i] == nums[j] and abs(i - j) <= k.\n",
    "\n",
    " \n",
    "\n",
    "Example 1:\n",
    "\n",
    "Input: nums = [1,2,3,1], k = 3\n",
    "Output: true\n",
    "    \n",
    "Example 2:\n",
    "\n",
    "Input: nums = [1,0,1,1], k = 1\n",
    "Output: true\n",
    "    \n",
    "Example 3:\n",
    "\n",
    "Input: nums = [1,2,3,1,2,3], k = 2\n",
    "Output: false"
   ]
  },
  {
   "cell_type": "code",
   "execution_count": 40,
   "id": "af3d631e",
   "metadata": {},
   "outputs": [],
   "source": [
    "def function(array,k):\n",
    "    idx=0\n",
    "    fin=len(array)-1\n",
    "    while idx<len(array)-1:\n",
    "        if (array[idx]==array[fin]) and(abs(fin-idx)<=k):\n",
    "            return True\n",
    "        elif (fin>0) and(fin>idx+1):\n",
    "            fin=fin-1\n",
    "        else:\n",
    "            idx+=1\n",
    "            fin=len(array)-1\n",
    "    return False"
   ]
  },
  {
   "cell_type": "code",
   "execution_count": 41,
   "id": "b892fc73",
   "metadata": {},
   "outputs": [
    {
     "data": {
      "text/plain": [
       "True"
      ]
     },
     "execution_count": 41,
     "metadata": {},
     "output_type": "execute_result"
    }
   ],
   "source": [
    "function([1,2,3,1],3)"
   ]
  },
  {
   "cell_type": "code",
   "execution_count": 42,
   "id": "784ff0a3",
   "metadata": {},
   "outputs": [
    {
     "data": {
      "text/plain": [
       "True"
      ]
     },
     "execution_count": 42,
     "metadata": {},
     "output_type": "execute_result"
    }
   ],
   "source": [
    "function([1,0,1,1],1)"
   ]
  },
  {
   "cell_type": "code",
   "execution_count": 44,
   "id": "c87c00ae",
   "metadata": {
    "scrolled": true
   },
   "outputs": [
    {
     "data": {
      "text/plain": [
       "False"
      ]
     },
     "execution_count": 44,
     "metadata": {},
     "output_type": "execute_result"
    }
   ],
   "source": [
    "function([1,2,1],1)"
   ]
  },
  {
   "cell_type": "markdown",
   "id": "7a43664f",
   "metadata": {},
   "source": [
    "### Optimized Solution"
   ]
  },
  {
   "cell_type": "code",
   "execution_count": 50,
   "id": "a6d396c1",
   "metadata": {},
   "outputs": [],
   "source": [
    "def opt_fun(array,k):\n",
    "    d={}\n",
    "    for i,j in enumerate(array):\n",
    "        if j in d and (abs(d[j]-i)<=k):\n",
    "            return True\n",
    "        else:\n",
    "            d[j]=i\n",
    "    return False"
   ]
  },
  {
   "cell_type": "code",
   "execution_count": 51,
   "id": "5cbd2199",
   "metadata": {},
   "outputs": [
    {
     "data": {
      "text/plain": [
       "False"
      ]
     },
     "execution_count": 51,
     "metadata": {},
     "output_type": "execute_result"
    }
   ],
   "source": [
    "opt_fun([1,2,3],1)"
   ]
  },
  {
   "cell_type": "code",
   "execution_count": 52,
   "id": "83239c4e",
   "metadata": {},
   "outputs": [
    {
     "data": {
      "text/plain": [
       "True"
      ]
     },
     "execution_count": 52,
     "metadata": {},
     "output_type": "execute_result"
    }
   ],
   "source": [
    "opt_fun([1,0,1,1],1)"
   ]
  },
  {
   "cell_type": "code",
   "execution_count": null,
   "id": "9530a573",
   "metadata": {},
   "outputs": [],
   "source": []
  }
 ],
 "metadata": {
  "kernelspec": {
   "display_name": "Python 3 (ipykernel)",
   "language": "python",
   "name": "python3"
  },
  "language_info": {
   "codemirror_mode": {
    "name": "ipython",
    "version": 3
   },
   "file_extension": ".py",
   "mimetype": "text/x-python",
   "name": "python",
   "nbconvert_exporter": "python",
   "pygments_lexer": "ipython3",
   "version": "3.10.6"
  }
 },
 "nbformat": 4,
 "nbformat_minor": 5
}
