{
 "cells": [
  {
   "cell_type": "markdown",
   "id": "dcf3d11a",
   "metadata": {},
   "source": [
    "You are given an array nums consisting of positive integers.\n",
    "\n",
    "Return the total frequencies of elements in nums such that those elements all have the maximum frequency.\n",
    "\n",
    "The frequency of an element is the number of occurrences of that element in the array."
   ]
  },
  {
   "cell_type": "code",
   "execution_count": 1,
   "id": "f0c34720",
   "metadata": {},
   "outputs": [],
   "source": [
    "def maxFrequencyElements(nums) -> int:\n",
    "    d=dict()\n",
    "    for i in nums:\n",
    "        if i not in d:\n",
    "            d[i]=1\n",
    "        else:\n",
    "            d[i]+=1\n",
    "    arr=sorted(d,key=lambda x : d[x],reverse=True)\n",
    "    print(arr)\n",
    "    Max=d[arr[0]]\n",
    "    ans=0\n",
    "    for i in arr:\n",
    "        if d[i]==Max:\n",
    "            ans+=Max\n",
    "        else:\n",
    "            break\n",
    "    return ans"
   ]
  },
  {
   "cell_type": "code",
   "execution_count": 2,
   "id": "b96ea469",
   "metadata": {},
   "outputs": [
    {
     "name": "stdout",
     "output_type": "stream",
     "text": [
      "[1, 2, 3, 4]\n"
     ]
    },
    {
     "data": {
      "text/plain": [
       "4"
      ]
     },
     "execution_count": 2,
     "metadata": {},
     "output_type": "execute_result"
    }
   ],
   "source": [
    "maxFrequencyElements([1,2,2,3,1,4])"
   ]
  },
  {
   "cell_type": "code",
   "execution_count": null,
   "id": "4eb87e25",
   "metadata": {},
   "outputs": [],
   "source": []
  }
 ],
 "metadata": {
  "kernelspec": {
   "display_name": "Python 3 (ipykernel)",
   "language": "python",
   "name": "python3"
  },
  "language_info": {
   "codemirror_mode": {
    "name": "ipython",
    "version": 3
   },
   "file_extension": ".py",
   "mimetype": "text/x-python",
   "name": "python",
   "nbconvert_exporter": "python",
   "pygments_lexer": "ipython3",
   "version": "3.10.6"
  }
 },
 "nbformat": 4,
 "nbformat_minor": 5
}
