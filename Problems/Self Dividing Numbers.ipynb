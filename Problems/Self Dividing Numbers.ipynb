{
 "cells": [
  {
   "cell_type": "markdown",
   "id": "c9800ae6",
   "metadata": {},
   "source": [
    "A self-dividing number is a number that is divisible by every digit it contains.\n",
    "\n",
    "For example, 128 is a self-dividing number because 128 % 1 == 0, 128 % 2 == 0, and 128 % 8 == 0.\n",
    "A self-dividing number is not allowed to contain the digit zero.\n",
    "\n",
    "Given two integers left and right, return a list of all the self-dividing numbers in the range [left, right].\n",
    "\n",
    " \n",
    "\n",
    "Example 1:\n",
    "\n",
    "Input: left = 1, right = 22\n",
    "\n",
    "Output: [1,2,3,4,5,6,7,8,9,11,12,15,22]\n",
    "\n",
    "Example 2:\n",
    "\n",
    "Input: left = 47, right = 85\n",
    "\n",
    "Output: [48,55,66,77]"
   ]
  },
  {
   "cell_type": "code",
   "execution_count": 5,
   "id": "b855a43c",
   "metadata": {},
   "outputs": [],
   "source": [
    "def check(num):\n",
    "    for i in str(num):\n",
    "        if i=='0':\n",
    "            return False\n",
    "        if num%int(i)!=0:\n",
    "            return False\n",
    "    return True"
   ]
  },
  {
   "cell_type": "code",
   "execution_count": 6,
   "id": "5e8cecf4",
   "metadata": {},
   "outputs": [],
   "source": [
    "def main(left,right):\n",
    "    res=[]\n",
    "    for i in range(left,right+1):\n",
    "        if check(i):\n",
    "            res.append(i)\n",
    "    return res"
   ]
  },
  {
   "cell_type": "code",
   "execution_count": 7,
   "id": "4e31e731",
   "metadata": {},
   "outputs": [
    {
     "data": {
      "text/plain": [
       "[1, 2, 3, 4, 5, 6, 7, 8, 9, 11, 12, 15, 22]"
      ]
     },
     "execution_count": 7,
     "metadata": {},
     "output_type": "execute_result"
    }
   ],
   "source": [
    "main(1,22)"
   ]
  },
  {
   "cell_type": "code",
   "execution_count": 8,
   "id": "1c032829",
   "metadata": {},
   "outputs": [
    {
     "data": {
      "text/plain": [
       "[48, 55, 66, 77]"
      ]
     },
     "execution_count": 8,
     "metadata": {},
     "output_type": "execute_result"
    }
   ],
   "source": [
    "main(47,85)"
   ]
  },
  {
   "cell_type": "code",
   "execution_count": null,
   "id": "815b138c",
   "metadata": {},
   "outputs": [],
   "source": []
  }
 ],
 "metadata": {
  "kernelspec": {
   "display_name": "Python 3 (ipykernel)",
   "language": "python",
   "name": "python3"
  },
  "language_info": {
   "codemirror_mode": {
    "name": "ipython",
    "version": 3
   },
   "file_extension": ".py",
   "mimetype": "text/x-python",
   "name": "python",
   "nbconvert_exporter": "python",
   "pygments_lexer": "ipython3",
   "version": "3.10.6"
  }
 },
 "nbformat": 4,
 "nbformat_minor": 5
}
