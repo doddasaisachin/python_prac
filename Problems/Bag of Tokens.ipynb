{
 "cells": [
  {
   "cell_type": "markdown",
   "id": "62267fe4",
   "metadata": {},
   "source": [
    "You start with an initial power of power, an initial score of 0, and a bag of tokens given as an integer array tokens, where each tokens[i] donates the value of tokeni.\n",
    "\n",
    "Your goal is to maximize the total score by strategically playing these tokens. In one move, you can play an unplayed token in one of the two ways (but not both for the same token):\n",
    "\n",
    "* Face-up: If your current power is at least tokens[i], you may play tokeni, losing tokens[i] power and gaining 1 score.\n",
    "    \n",
    "* Face-down: If your current score is at least 1, you may play tokeni, gaining tokens[i] power and losing 1 score.\n",
    "    \n",
    "Return the maximum possible score you can achieve after playing any number of tokens."
   ]
  },
  {
   "cell_type": "code",
   "execution_count": 73,
   "id": "11b0f0c5",
   "metadata": {},
   "outputs": [],
   "source": [
    "def fx(arr,power):\n",
    "    if len(arr)==1:\n",
    "        if power>arr[0]:return 1\n",
    "        return 0\n",
    "    arr.sort()\n",
    "    left=0\n",
    "    ans,score=0,0\n",
    "    right=len(arr)-1\n",
    "    while left<right:\n",
    "        if arr[left]<=power:\n",
    "            score+=1\n",
    "            power-=arr[left]\n",
    "            left+=1\n",
    "        else:\n",
    "            if arr[right]==0:\n",
    "                right-=1\n",
    "            if score>0:\n",
    "                score-=1\n",
    "                power+=arr[right]\n",
    "                arr[right]=0\n",
    "            else:\n",
    "                return 0\n",
    "        ans=max(score,ans)\n",
    "    return ans"
   ]
  },
  {
   "cell_type": "code",
   "execution_count": 74,
   "id": "3c059caf",
   "metadata": {},
   "outputs": [
    {
     "data": {
      "text/plain": [
       "2"
      ]
     },
     "execution_count": 74,
     "metadata": {},
     "output_type": "execute_result"
    }
   ],
   "source": [
    "fx([68,85,34,25,60],44)"
   ]
  },
  {
   "cell_type": "code",
   "execution_count": 75,
   "id": "b00d814c",
   "metadata": {},
   "outputs": [
    {
     "data": {
      "text/plain": [
       "2"
      ]
     },
     "execution_count": 75,
     "metadata": {},
     "output_type": "execute_result"
    }
   ],
   "source": [
    "fx([91,4,75,70,66,71,91,64,37,54],20)"
   ]
  },
  {
   "cell_type": "code",
   "execution_count": 76,
   "id": "c4960779",
   "metadata": {},
   "outputs": [
    {
     "data": {
      "text/plain": [
       "0"
      ]
     },
     "execution_count": 76,
     "metadata": {},
     "output_type": "execute_result"
    }
   ],
   "source": [
    "fx([71,55,82],54)"
   ]
  },
  {
   "cell_type": "code",
   "execution_count": 77,
   "id": "c8fb469d",
   "metadata": {},
   "outputs": [
    {
     "data": {
      "text/plain": [
       "1"
      ]
     },
     "execution_count": 77,
     "metadata": {},
     "output_type": "execute_result"
    }
   ],
   "source": [
    "fx([10],20)"
   ]
  },
  {
   "cell_type": "code",
   "execution_count": null,
   "id": "eec23b70",
   "metadata": {},
   "outputs": [],
   "source": []
  }
 ],
 "metadata": {
  "kernelspec": {
   "display_name": "Python 3 (ipykernel)",
   "language": "python",
   "name": "python3"
  },
  "language_info": {
   "codemirror_mode": {
    "name": "ipython",
    "version": 3
   },
   "file_extension": ".py",
   "mimetype": "text/x-python",
   "name": "python",
   "nbconvert_exporter": "python",
   "pygments_lexer": "ipython3",
   "version": "3.10.1"
  }
 },
 "nbformat": 4,
 "nbformat_minor": 5
}
