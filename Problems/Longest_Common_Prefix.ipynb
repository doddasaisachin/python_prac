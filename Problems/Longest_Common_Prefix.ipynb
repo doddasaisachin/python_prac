{
 "cells": [
  {
   "cell_type": "code",
   "execution_count": 1,
   "id": "36159cdd",
   "metadata": {},
   "outputs": [],
   "source": [
    "from typing import List"
   ]
  },
  {
   "cell_type": "code",
   "execution_count": 96,
   "id": "7e4b720f",
   "metadata": {},
   "outputs": [],
   "source": [
    "def longestcommonprefix(strings:List[str])->str:\n",
    "    strings=sorted(strings,key=lambda x:len (x))\n",
    "    min_len=len(strings[0])\n",
    "    result_len=0\n",
    "    idx=1\n",
    "    if min_len==1:\n",
    "        temp=strings[0][0]\n",
    "        for k in strings:\n",
    "            if k[0]!=temp:\n",
    "                return ''\n",
    "        return temp\n",
    "    while idx<min_len:\n",
    "        temp=strings[0][:idx]\n",
    "        for ele in strings:\n",
    "            if ele[:idx]==temp:\n",
    "                pass\n",
    "            else:\n",
    "                return temp[:idx-1]\n",
    "        idx+=1\n",
    "    if idx==min_len:\n",
    "        temp=strings[0][:idx]\n",
    "        for ele in strings:\n",
    "            if ele[:idx]!=temp:\n",
    "                return ele[:idx-1]\n",
    "    return strings[0][:idx]"
   ]
  },
  {
   "cell_type": "code",
   "execution_count": 97,
   "id": "95aa5f78",
   "metadata": {},
   "outputs": [
    {
     "data": {
      "text/plain": [
       "'flow'"
      ]
     },
     "execution_count": 97,
     "metadata": {},
     "output_type": "execute_result"
    }
   ],
   "source": [
    "longestcommonprefix(['flowers','flow','flower'])"
   ]
  },
  {
   "cell_type": "code",
   "execution_count": 98,
   "id": "e36cc53b",
   "metadata": {},
   "outputs": [
    {
     "data": {
      "text/plain": [
       "''"
      ]
     },
     "execution_count": 98,
     "metadata": {},
     "output_type": "execute_result"
    }
   ],
   "source": [
    "longestcommonprefix(['a','b'])"
   ]
  },
  {
   "cell_type": "code",
   "execution_count": 99,
   "id": "131b0817",
   "metadata": {},
   "outputs": [
    {
     "data": {
      "text/plain": [
       "'a'"
      ]
     },
     "execution_count": 99,
     "metadata": {},
     "output_type": "execute_result"
    }
   ],
   "source": [
    "longestcommonprefix(['aa','ab'])"
   ]
  },
  {
   "cell_type": "code",
   "execution_count": 100,
   "id": "5c02650d",
   "metadata": {},
   "outputs": [
    {
     "data": {
      "text/plain": [
       "'aa'"
      ]
     },
     "execution_count": 100,
     "metadata": {},
     "output_type": "execute_result"
    }
   ],
   "source": [
    "longestcommonprefix(['aaa','aa','aaa'])"
   ]
  },
  {
   "cell_type": "code",
   "execution_count": 101,
   "id": "c04e37e7",
   "metadata": {},
   "outputs": [
    {
     "data": {
      "text/plain": [
       "''"
      ]
     },
     "execution_count": 101,
     "metadata": {},
     "output_type": "execute_result"
    }
   ],
   "source": [
    "longestcommonprefix(['abab','aba',''])"
   ]
  }
 ],
 "metadata": {
  "kernelspec": {
   "display_name": "Python 3 (ipykernel)",
   "language": "python",
   "name": "python3"
  },
  "language_info": {
   "codemirror_mode": {
    "name": "ipython",
    "version": 3
   },
   "file_extension": ".py",
   "mimetype": "text/x-python",
   "name": "python",
   "nbconvert_exporter": "python",
   "pygments_lexer": "ipython3",
   "version": "3.10.6"
  }
 },
 "nbformat": 4,
 "nbformat_minor": 5
}
