{
 "cells": [
  {
   "cell_type": "code",
   "execution_count": 207,
   "id": "0a3f4091",
   "metadata": {},
   "outputs": [],
   "source": [
    "d={\n",
    "    'I':1,\n",
    "    'IV':4,\n",
    "    'V':5,\n",
    "    'IX':9,\n",
    "    'X':10,\n",
    "    'XL':40,\n",
    "    'L':50,\n",
    "    'XC':90,\n",
    "    'C':100,\n",
    "    'CD':400,\n",
    "    'D':500,\n",
    "    'CM':900,\n",
    "    'M':1000\n",
    "}"
   ]
  },
  {
   "cell_type": "code",
   "execution_count": 252,
   "id": "dee11f07",
   "metadata": {},
   "outputs": [],
   "source": [
    "def function(n):\n",
    "    res=''\n",
    "    val=list(d.values())\n",
    "    keys=list(d.keys())\n",
    "    keys.reverse()\n",
    "    val.reverse()\n",
    "    for i in range(len(val)):\n",
    "        if val[i]<=n:\n",
    "            res+=keys[i]*(n//val[i])\n",
    "            n=n%val[i]\n",
    "    return res"
   ]
  },
  {
   "cell_type": "code",
   "execution_count": 253,
   "id": "afe33b36",
   "metadata": {
    "scrolled": true
   },
   "outputs": [
    {
     "data": {
      "text/plain": [
       "'MMMMDXXV'"
      ]
     },
     "execution_count": 253,
     "metadata": {},
     "output_type": "execute_result"
    }
   ],
   "source": [
    "function(4525)"
   ]
  },
  {
   "cell_type": "code",
   "execution_count": 254,
   "id": "0f9d7056",
   "metadata": {},
   "outputs": [
    {
     "data": {
      "text/plain": [
       "'MXXIV'"
      ]
     },
     "execution_count": 254,
     "metadata": {},
     "output_type": "execute_result"
    }
   ],
   "source": [
    "function(1024)"
   ]
  },
  {
   "cell_type": "code",
   "execution_count": 255,
   "id": "e1c2b484",
   "metadata": {},
   "outputs": [
    {
     "data": {
      "text/plain": [
       "'VII'"
      ]
     },
     "execution_count": 255,
     "metadata": {},
     "output_type": "execute_result"
    }
   ],
   "source": [
    "function(7)"
   ]
  },
  {
   "cell_type": "code",
   "execution_count": 256,
   "id": "3f749ea4",
   "metadata": {},
   "outputs": [
    {
     "data": {
      "text/plain": [
       "'XXIII'"
      ]
     },
     "execution_count": 256,
     "metadata": {},
     "output_type": "execute_result"
    }
   ],
   "source": [
    "function(23)"
   ]
  },
  {
   "cell_type": "code",
   "execution_count": 257,
   "id": "a8678311",
   "metadata": {},
   "outputs": [
    {
     "data": {
      "text/plain": [
       "'VI'"
      ]
     },
     "execution_count": 257,
     "metadata": {},
     "output_type": "execute_result"
    }
   ],
   "source": [
    "function(6)"
   ]
  },
  {
   "cell_type": "code",
   "execution_count": 258,
   "id": "6952e43f",
   "metadata": {
    "scrolled": true
   },
   "outputs": [
    {
     "data": {
      "text/plain": [
       "'IX'"
      ]
     },
     "execution_count": 258,
     "metadata": {},
     "output_type": "execute_result"
    }
   ],
   "source": [
    "function(9)"
   ]
  },
  {
   "cell_type": "code",
   "execution_count": 259,
   "id": "0595aa13",
   "metadata": {},
   "outputs": [
    {
     "data": {
      "text/plain": [
       "'XL'"
      ]
     },
     "execution_count": 259,
     "metadata": {},
     "output_type": "execute_result"
    }
   ],
   "source": [
    "function(40)"
   ]
  },
  {
   "cell_type": "code",
   "execution_count": 260,
   "id": "627e479d",
   "metadata": {},
   "outputs": [
    {
     "data": {
      "text/plain": [
       "'MCMIV'"
      ]
     },
     "execution_count": 260,
     "metadata": {},
     "output_type": "execute_result"
    }
   ],
   "source": [
    "function(1904)"
   ]
  },
  {
   "cell_type": "code",
   "execution_count": 261,
   "id": "8fe40d55",
   "metadata": {},
   "outputs": [
    {
     "data": {
      "text/plain": [
       "'XIX'"
      ]
     },
     "execution_count": 261,
     "metadata": {},
     "output_type": "execute_result"
    }
   ],
   "source": [
    "function(19)"
   ]
  },
  {
   "cell_type": "code",
   "execution_count": 248,
   "id": "88e693e1",
   "metadata": {},
   "outputs": [
    {
     "data": {
      "text/plain": [
       "'XVIII'"
      ]
     },
     "execution_count": 248,
     "metadata": {},
     "output_type": "execute_result"
    }
   ],
   "source": [
    "function(18)"
   ]
  },
  {
   "cell_type": "code",
   "execution_count": 249,
   "id": "b89bb353",
   "metadata": {},
   "outputs": [
    {
     "data": {
      "text/plain": [
       "'XVI'"
      ]
     },
     "execution_count": 249,
     "metadata": {},
     "output_type": "execute_result"
    }
   ],
   "source": [
    "function(16)"
   ]
  },
  {
   "cell_type": "code",
   "execution_count": 250,
   "id": "e66298a6",
   "metadata": {},
   "outputs": [
    {
     "data": {
      "text/plain": [
       "'C'"
      ]
     },
     "execution_count": 250,
     "metadata": {},
     "output_type": "execute_result"
    }
   ],
   "source": [
    "function(100)"
   ]
  },
  {
   "cell_type": "code",
   "execution_count": 251,
   "id": "cf3b43c9",
   "metadata": {},
   "outputs": [
    {
     "data": {
      "text/plain": [
       "'CLIII'"
      ]
     },
     "execution_count": 251,
     "metadata": {},
     "output_type": "execute_result"
    }
   ],
   "source": [
    "function(153)"
   ]
  },
  {
   "cell_type": "code",
   "execution_count": null,
   "id": "215d937a",
   "metadata": {},
   "outputs": [],
   "source": []
  }
 ],
 "metadata": {
  "kernelspec": {
   "display_name": "Python 3 (ipykernel)",
   "language": "python",
   "name": "python3"
  },
  "language_info": {
   "codemirror_mode": {
    "name": "ipython",
    "version": 3
   },
   "file_extension": ".py",
   "mimetype": "text/x-python",
   "name": "python",
   "nbconvert_exporter": "python",
   "pygments_lexer": "ipython3",
   "version": "3.10.6"
  }
 },
 "nbformat": 4,
 "nbformat_minor": 5
}
