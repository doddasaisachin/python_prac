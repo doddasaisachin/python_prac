{
 "cells": [
  {
   "cell_type": "markdown",
   "id": "883c9aa1",
   "metadata": {},
   "source": [
    "Given two integer arrays nums1 and nums2, sorted in non-decreasing order, return the minimum integer common to both arrays. If there is no common integer amongst nums1 and nums2, return -1.\n",
    "\n",
    "Note that an integer is said to be common to nums1 and nums2 if both arrays have at least one occurrence of that integer."
   ]
  },
  {
   "cell_type": "code",
   "execution_count": 12,
   "id": "ba64261b",
   "metadata": {},
   "outputs": [],
   "source": [
    "import heapq"
   ]
  },
  {
   "cell_type": "code",
   "execution_count": 13,
   "id": "3fc2af47",
   "metadata": {},
   "outputs": [],
   "source": [
    "def fx(nums1,nums2):\n",
    "    x=set(nums1)\n",
    "    y=set(nums2)\n",
    "    res=list(x.intersection(y))\n",
    "    if len(res)==0:\n",
    "        return -1\n",
    "    heapq.heapify(res)\n",
    "    return heapq.heappop(res)"
   ]
  },
  {
   "cell_type": "code",
   "execution_count": 14,
   "id": "2503f94e",
   "metadata": {},
   "outputs": [
    {
     "data": {
      "text/plain": [
       "2"
      ]
     },
     "execution_count": 14,
     "metadata": {},
     "output_type": "execute_result"
    }
   ],
   "source": [
    "fx([1,2,3],[2,4])"
   ]
  },
  {
   "cell_type": "code",
   "execution_count": null,
   "id": "6c227ab2",
   "metadata": {},
   "outputs": [],
   "source": []
  }
 ],
 "metadata": {
  "kernelspec": {
   "display_name": "Python 3 (ipykernel)",
   "language": "python",
   "name": "python3"
  },
  "language_info": {
   "codemirror_mode": {
    "name": "ipython",
    "version": 3
   },
   "file_extension": ".py",
   "mimetype": "text/x-python",
   "name": "python",
   "nbconvert_exporter": "python",
   "pygments_lexer": "ipython3",
   "version": "3.10.6"
  }
 },
 "nbformat": 4,
 "nbformat_minor": 5
}
