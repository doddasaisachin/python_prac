{
 "cells": [
  {
   "cell_type": "markdown",
   "id": "b694a0fb",
   "metadata": {},
   "source": [
    "Given an integer array nums, return true if there exists a triple of indices (i, j, k) such that i < j < k and nums[i] < nums[j] < nums[k]. If no such indices exists, return false."
   ]
  },
  {
   "cell_type": "code",
   "execution_count": 30,
   "id": "ac750b28",
   "metadata": {},
   "outputs": [],
   "source": [
    "def brute_force(nums):\n",
    "    temp=sorted(nums,reverse=True)\n",
    "    if temp==nums:\n",
    "        return False\n",
    "    d=[]\n",
    "    for i in range(len(nums)-1):\n",
    "        if nums[i]!=nums[i+1]:\n",
    "            d.append(nums[i])\n",
    "    d.append(nums[-1])\n",
    "    for i in range(len(d)-2):\n",
    "        for j in range(i+1,len(d)-1):\n",
    "            for k in range(j+1,len(d)):\n",
    "                if d[i]<d[j]<d[k]:\n",
    "                    return True\n",
    "    return False"
   ]
  },
  {
   "cell_type": "code",
   "execution_count": 44,
   "id": "840e0756",
   "metadata": {},
   "outputs": [],
   "source": [
    "def recur(arr,i,j,k):\n",
    "    if i<0 or j<i or k<2:\n",
    "        return False\n",
    "    print(i,j,k)\n",
    "    if k==2 :\n",
    "        return arr[i]<arr[j]<arr[k]\n",
    "    elif i==0:\n",
    "        if arr[i]<arr[j]<arr[k]:\n",
    "            return True\n",
    "        else:\n",
    "            return recur(arr,j-2,j-1,k)\n",
    "    elif j==1:\n",
    "        if arr[i]<arr[j]<arr[k]:\n",
    "            return True\n",
    "        else:\n",
    "            return recur(arr,k-3,k-2,k-1)\n",
    "    else:\n",
    "        if arr[i]<arr[j]<arr[k]:\n",
    "            return True\n",
    "        else:\n",
    "            return recur(arr,i-1,j,k) or  recur(arr,i-1,j-1,k) or recur(arr,i-1,j-1,k-1)"
   ]
  },
  {
   "cell_type": "code",
   "execution_count": 47,
   "id": "5b99193c",
   "metadata": {},
   "outputs": [],
   "source": [
    "def OPTIMIZED(nums):\n",
    "    f=s=float(\"inf\")\n",
    "    for i in nums:\n",
    "        if i<=f:\n",
    "            f=i\n",
    "        elif i<=s:\n",
    "            s=i\n",
    "        else:\n",
    "            return True\n",
    "    return False"
   ]
  },
  {
   "cell_type": "code",
   "execution_count": 49,
   "id": "d480cdee",
   "metadata": {},
   "outputs": [
    {
     "data": {
      "text/plain": [
       "True"
      ]
     },
     "execution_count": 49,
     "metadata": {},
     "output_type": "execute_result"
    }
   ],
   "source": [
    "OPTIMIZED([1,2,3,4,5,6,8])"
   ]
  },
  {
   "cell_type": "code",
   "execution_count": 50,
   "id": "5928ef06",
   "metadata": {},
   "outputs": [
    {
     "data": {
      "text/plain": [
       "True"
      ]
     },
     "execution_count": 50,
     "metadata": {},
     "output_type": "execute_result"
    }
   ],
   "source": [
    "OPTIMIZED([5,1,4,3,7])"
   ]
  },
  {
   "cell_type": "code",
   "execution_count": null,
   "id": "46415970",
   "metadata": {},
   "outputs": [],
   "source": []
  }
 ],
 "metadata": {
  "kernelspec": {
   "display_name": "Python 3 (ipykernel)",
   "language": "python",
   "name": "python3"
  },
  "language_info": {
   "codemirror_mode": {
    "name": "ipython",
    "version": 3
   },
   "file_extension": ".py",
   "mimetype": "text/x-python",
   "name": "python",
   "nbconvert_exporter": "python",
   "pygments_lexer": "ipython3",
   "version": "3.10.6"
  }
 },
 "nbformat": 4,
 "nbformat_minor": 5
}
