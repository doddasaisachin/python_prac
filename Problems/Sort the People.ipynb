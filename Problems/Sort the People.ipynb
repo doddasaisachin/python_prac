{
 "cells": [
  {
   "cell_type": "markdown",
   "id": "bd756eba",
   "metadata": {},
   "source": [
    "You are given an array of strings names, and an array heights that consists of distinct positive integers. Both arrays are of length n.\n",
    "\n",
    "For each index i, names[i] and heights[i] denote the name and height of the ith person.\n",
    "\n",
    "Return names sorted in descending order by the people's heights."
   ]
  },
  {
   "cell_type": "code",
   "execution_count": 3,
   "id": "628c22a2",
   "metadata": {},
   "outputs": [],
   "source": [
    "def fx(names,heights):\n",
    "    arr=[]\n",
    "    for i in range(len(heights)):\n",
    "        arr.append((i,heights[i]))\n",
    "    idxs=sorted(arr,key=lambda x : x[1],reverse=True)\n",
    "#     print(idxs)\n",
    "    ans=[]\n",
    "    for i in idxs:\n",
    "        ans.append(names[i[0]])\n",
    "        # print(names[i[0]])\n",
    "    return ans"
   ]
  },
  {
   "cell_type": "code",
   "execution_count": 4,
   "id": "c4283f46",
   "metadata": {},
   "outputs": [
    {
     "data": {
      "text/plain": [
       "['Mary', 'Emma', 'John']"
      ]
     },
     "execution_count": 4,
     "metadata": {},
     "output_type": "execute_result"
    }
   ],
   "source": [
    "fx(names = [\"Mary\",\"John\",\"Emma\"], heights = [180,165,170])"
   ]
  },
  {
   "cell_type": "code",
   "execution_count": null,
   "id": "7d756545",
   "metadata": {},
   "outputs": [],
   "source": []
  }
 ],
 "metadata": {
  "kernelspec": {
   "display_name": "Python 3 (ipykernel)",
   "language": "python",
   "name": "python3"
  },
  "language_info": {
   "codemirror_mode": {
    "name": "ipython",
    "version": 3
   },
   "file_extension": ".py",
   "mimetype": "text/x-python",
   "name": "python",
   "nbconvert_exporter": "python",
   "pygments_lexer": "ipython3",
   "version": "3.11.7"
  }
 },
 "nbformat": 4,
 "nbformat_minor": 5
}
