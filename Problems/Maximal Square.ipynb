{
 "cells": [
  {
   "cell_type": "markdown",
   "id": "440a7b78",
   "metadata": {},
   "source": [
    "Given an m x n binary matrix filled with 0's and 1's, find the largest square containing only 1's and return its area."
   ]
  },
  {
   "cell_type": "code",
   "execution_count": 1,
   "id": "1c3aabec",
   "metadata": {},
   "outputs": [],
   "source": [
    "def fx(matrix):\n",
    "    dp=[[0]*(len(matrix[0])) for i in range(len(matrix))]\n",
    "    ans=0\n",
    "    for i in range(len(matrix)):\n",
    "        for j in range(len(matrix[0])):\n",
    "            if i==0 or j==0:\n",
    "                dp[i][j]=int(matrix[i][j])\n",
    "            elif matrix[i][j]=='1':\n",
    "                dp[i][j]=1+min(dp[i-1][j],dp[i-1][j-1],dp[i][j-1]) \n",
    "            ans=max(ans,dp[i][j])\n",
    "    return ans*ans"
   ]
  },
  {
   "cell_type": "code",
   "execution_count": 2,
   "id": "cf319a94",
   "metadata": {},
   "outputs": [
    {
     "data": {
      "text/plain": [
       "4"
      ]
     },
     "execution_count": 2,
     "metadata": {},
     "output_type": "execute_result"
    }
   ],
   "source": [
    "fx([[\"1\",\"0\",\"1\",\"0\",\"0\"],[\"1\",\"0\",\"1\",\"1\",\"1\"],[\"1\",\"1\",\"1\",\"1\",\"1\"],[\"1\",\"0\",\"0\",\"1\",\"0\"]])"
   ]
  },
  {
   "cell_type": "code",
   "execution_count": null,
   "id": "3572c308",
   "metadata": {},
   "outputs": [],
   "source": []
  }
 ],
 "metadata": {
  "kernelspec": {
   "display_name": "Python 3 (ipykernel)",
   "language": "python",
   "name": "python3"
  },
  "language_info": {
   "codemirror_mode": {
    "name": "ipython",
    "version": 3
   },
   "file_extension": ".py",
   "mimetype": "text/x-python",
   "name": "python",
   "nbconvert_exporter": "python",
   "pygments_lexer": "ipython3",
   "version": "3.10.6"
  }
 },
 "nbformat": 4,
 "nbformat_minor": 5
}
