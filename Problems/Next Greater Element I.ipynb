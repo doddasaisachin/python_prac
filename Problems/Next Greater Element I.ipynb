{
 "cells": [
  {
   "cell_type": "markdown",
   "id": "1d689956",
   "metadata": {},
   "source": [
    "The next greater element of some element x in an array is the first greater element that is to the right of x in the same array.\n",
    "You are given two distinct 0-indexed integer arrays nums1 and nums2, where nums1 is a subset of nums2.\n",
    "For each 0 <= i < nums1.length, find the index j such that nums1[i] == nums2[j] and determine the next greater element of nums2[j] in nums2. If there is no next greater element, then the answer for this query is -1.\n",
    "\n",
    "Return an array ans of length nums1.length such that ans[i] is the next greater element as described above.\n",
    "\n",
    " \n",
    "\n",
    "##### Example 1:\n",
    "\n",
    "Input: nums1 = [4,1,2], nums2 = [1,3,4,2]\n",
    "Output: [-1,3,-1]\n",
    "Explanation: The next greater element for each value of nums1 is as follows:\n",
    "- 4 is underlined in nums2 = [1,3,4,2]. There is no next greater element, so the answer is -1.\n",
    "- 1 is underlined in nums2 = [1,3,4,2]. The next greater element is 3.\n",
    "- 2 is underlined in nums2 = [1,3,4,2]. There is no next greater element, so the answer is -1.\n",
    "\n",
    "##### Example 2:\n",
    "\n",
    "Input: nums1 = [2,4], nums2 = [1,2,3,4]\n",
    "Output: [3,-1]\n",
    "Explanation: The next greater element for each value of nums1 is as follows:\n",
    "- 2 is underlined in nums2 = [1,2,3,4]. The next greater element is 3.\n",
    "- 4 is underlined in nums2 = [1,2,3,4]. There is no next greater element, so the answer is -1."
   ]
  },
  {
   "cell_type": "code",
   "execution_count": 1,
   "id": "e296467f",
   "metadata": {},
   "outputs": [],
   "source": [
    "def fx(nums1,nums2):\n",
    "    ans=[]\n",
    "    for i in range(len(nums1)):\n",
    "        ele=nums1[i]\n",
    "        k=nums2.index(ele)\n",
    "        ad=-1\n",
    "        for j in range(k+1,len(nums2)):\n",
    "            if nums2[j]>ele:\n",
    "                ad=nums2[j]\n",
    "                break\n",
    "        ans.append(ad)\n",
    "    return ans"
   ]
  },
  {
   "cell_type": "code",
   "execution_count": 2,
   "id": "bb93910b",
   "metadata": {},
   "outputs": [
    {
     "data": {
      "text/plain": [
       "[-1, 3, -1]"
      ]
     },
     "execution_count": 2,
     "metadata": {},
     "output_type": "execute_result"
    }
   ],
   "source": [
    "fx(nums1 = [4,1,2], nums2 = [1,3,4,2])"
   ]
  },
  {
   "cell_type": "code",
   "execution_count": 3,
   "id": "8631dfc3",
   "metadata": {},
   "outputs": [
    {
     "data": {
      "text/plain": [
       "[3, -1]"
      ]
     },
     "execution_count": 3,
     "metadata": {},
     "output_type": "execute_result"
    }
   ],
   "source": [
    "fx(nums1 = [2,4], nums2 = [1,2,3,4])"
   ]
  },
  {
   "cell_type": "code",
   "execution_count": null,
   "id": "ac80b62a",
   "metadata": {},
   "outputs": [],
   "source": []
  }
 ],
 "metadata": {
  "kernelspec": {
   "display_name": "Python 3 (ipykernel)",
   "language": "python",
   "name": "python3"
  },
  "language_info": {
   "codemirror_mode": {
    "name": "ipython",
    "version": 3
   },
   "file_extension": ".py",
   "mimetype": "text/x-python",
   "name": "python",
   "nbconvert_exporter": "python",
   "pygments_lexer": "ipython3",
   "version": "3.10.6"
  }
 },
 "nbformat": 4,
 "nbformat_minor": 5
}
