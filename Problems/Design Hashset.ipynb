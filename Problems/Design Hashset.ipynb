{
 "cells": [
  {
   "cell_type": "markdown",
   "id": "8e89da2e",
   "metadata": {},
   "source": [
    "Design a HashSet without using any built-in hash table libraries.\n",
    "\n",
    "Implement MyHashSet class:\n",
    "\n",
    "1. void add(key) Inserts the value key into the HashSet.\n",
    "2. bool contains(key) Returns whether the value key exists in the HashSet or not.\n",
    "3. void remove(key) Removes the value key in the HashSet. If key does not exist in the HashSet, do nothing."
   ]
  },
  {
   "cell_type": "code",
   "execution_count": 48,
   "id": "62e86271",
   "metadata": {},
   "outputs": [],
   "source": [
    "class MyHashSet:\n",
    "    def __init__(self):\n",
    "        self.arr=[]\n",
    "    def add(self, key: int) -> None:\n",
    "        if key not in self.arr:\n",
    "            self.arr.append(key)\n",
    "    def remove(self, key: int) -> None:\n",
    "        if key in self.arr:\n",
    "            self.arr.remove(key)\n",
    "\n",
    "    def contains(self, key: int) -> bool:\n",
    "        if key in self.arr:\n",
    "            return True\n",
    "        return False"
   ]
  },
  {
   "cell_type": "code",
   "execution_count": null,
   "id": "f618b6a8",
   "metadata": {},
   "outputs": [],
   "source": []
  }
 ],
 "metadata": {
  "kernelspec": {
   "display_name": "Python 3 (ipykernel)",
   "language": "python",
   "name": "python3"
  },
  "language_info": {
   "codemirror_mode": {
    "name": "ipython",
    "version": 3
   },
   "file_extension": ".py",
   "mimetype": "text/x-python",
   "name": "python",
   "nbconvert_exporter": "python",
   "pygments_lexer": "ipython3",
   "version": "3.10.6"
  }
 },
 "nbformat": 4,
 "nbformat_minor": 5
}
