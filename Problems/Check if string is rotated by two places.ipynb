{
 "cells": [
  {
   "cell_type": "code",
   "execution_count": 3,
   "id": "b66fd843",
   "metadata": {},
   "outputs": [],
   "source": [
    "def isRotated(str1,str2):\n",
    "    if str1==str2:\n",
    "        return False\n",
    "    if str2==(str1[2:]+str1[:2]) or str2==(str1[:2]+str1[2:]):\n",
    "        return True\n",
    "    if str2==(str1[:-2]+str1[-2:]) or str2==(str1[-2:]+str1[:-2]):\n",
    "        return True\n",
    "    return False"
   ]
  },
  {
   "cell_type": "code",
   "execution_count": 4,
   "id": "e20631da",
   "metadata": {},
   "outputs": [],
   "source": [
    "a = 'amazon'\n",
    "b = 'azonam'"
   ]
  },
  {
   "cell_type": "code",
   "execution_count": 5,
   "id": "8766e077",
   "metadata": {},
   "outputs": [
    {
     "data": {
      "text/plain": [
       "True"
      ]
     },
     "execution_count": 5,
     "metadata": {},
     "output_type": "execute_result"
    }
   ],
   "source": [
    "isRotated(a,b)"
   ]
  }
 ],
 "metadata": {
  "kernelspec": {
   "display_name": "Python 3 (ipykernel)",
   "language": "python",
   "name": "python3"
  },
  "language_info": {
   "codemirror_mode": {
    "name": "ipython",
    "version": 3
   },
   "file_extension": ".py",
   "mimetype": "text/x-python",
   "name": "python",
   "nbconvert_exporter": "python",
   "pygments_lexer": "ipython3",
   "version": "3.10.6"
  }
 },
 "nbformat": 4,
 "nbformat_minor": 5
}
