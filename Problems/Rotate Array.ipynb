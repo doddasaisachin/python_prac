{
 "cells": [
  {
   "cell_type": "markdown",
   "id": "d636f5cb",
   "metadata": {},
   "source": [
    "Given an unsorted array arr[] of size N. Rotate the array to the left (counter-clockwise direction) by D steps, where D is a positive integer. \n",
    "\n",
    "* The array must be modified in-place without using extra space. "
   ]
  },
  {
   "cell_type": "markdown",
   "id": "7e75c03f",
   "metadata": {},
   "source": [
    "##### Example 1:\n",
    "\n",
    "Input:\n",
    "N = 5, D = 2\n",
    "arr[] = [1,2,3,4,5]\n",
    "\n",
    "Output: 3 4 5 1 2\n",
    "    \n",
    "Explanation: 1 2 3 4 5  when rotated\n",
    "by 2 elements, it becomes 3 4 5 1 2."
   ]
  },
  {
   "cell_type": "markdown",
   "id": "4a3d3632",
   "metadata": {},
   "source": [
    "##### Example 2:\n",
    "\n",
    "Input:\n",
    "N = 10, D = 3\n",
    "arr[] = [2,4,6,8,10,12,14,16,18,20]\n",
    "\n",
    "Output: 8 10 12 14 16 18 20 2 4 6\n",
    "    \n",
    "Explanation: 2 4 6 8 10 12 14 16 18 20 \n",
    "when rotated by 3 elements, it becomes \n",
    "8 10 12 14 16 18 20 2 4 6."
   ]
  },
  {
   "cell_type": "code",
   "execution_count": 240,
   "id": "e1f63c8a",
   "metadata": {},
   "outputs": [],
   "source": [
    "def func(n,d,arr):\n",
    "    if d>n:\n",
    "        d=d%n\n",
    "    pre=arr[d:]\n",
    "    post=arr[:d]\n",
    "    pre.extend(post)\n",
    "    for i in range(n):\n",
    "        arr[i]=pre[i]\n",
    "    return arr"
   ]
  },
  {
   "cell_type": "code",
   "execution_count": 241,
   "id": "06a4bf08",
   "metadata": {},
   "outputs": [
    {
     "data": {
      "text/plain": [
       "[3, 4, 5, 1, 2]"
      ]
     },
     "execution_count": 241,
     "metadata": {},
     "output_type": "execute_result"
    }
   ],
   "source": [
    "func(5,2,[1,2,3,4,5])"
   ]
  },
  {
   "cell_type": "code",
   "execution_count": 242,
   "id": "0abd06d1",
   "metadata": {},
   "outputs": [
    {
     "data": {
      "text/plain": [
       "[14, 16, 2, 4, 6, 8, 10, 12]"
      ]
     },
     "execution_count": 242,
     "metadata": {},
     "output_type": "execute_result"
    }
   ],
   "source": [
    "func(8,6,[2,4,6,8,10,12,14,16])"
   ]
  }
 ],
 "metadata": {
  "kernelspec": {
   "display_name": "Python 3 (ipykernel)",
   "language": "python",
   "name": "python3"
  },
  "language_info": {
   "codemirror_mode": {
    "name": "ipython",
    "version": 3
   },
   "file_extension": ".py",
   "mimetype": "text/x-python",
   "name": "python",
   "nbconvert_exporter": "python",
   "pygments_lexer": "ipython3",
   "version": "3.10.6"
  }
 },
 "nbformat": 4,
 "nbformat_minor": 5
}
