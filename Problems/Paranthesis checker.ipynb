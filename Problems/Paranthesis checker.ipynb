{
 "cells": [
  {
   "cell_type": "code",
   "execution_count": 38,
   "id": "4d80413f",
   "metadata": {},
   "outputs": [],
   "source": [
    "def func(exp):\n",
    "    stack=[]\n",
    "    for i in exp:\n",
    "        if i=='{' or i=='(' or i=='[':\n",
    "            stack.append(i)\n",
    "        elif len(stack)==0 and (i=='}' or i==']' or i==')'):\n",
    "            return False\n",
    "        elif i==')' and stack[-1]=='(':\n",
    "            stack.pop()\n",
    "        elif i==']' and stack[-1]=='[':\n",
    "            stack.pop()\n",
    "        elif i=='}' and stack[-1]=='{':\n",
    "            stack.pop()\n",
    "        else:\n",
    "            return False\n",
    "    if len(stack)>0:\n",
    "        return False\n",
    "    return True"
   ]
  },
  {
   "cell_type": "code",
   "execution_count": 39,
   "id": "370751ce",
   "metadata": {},
   "outputs": [
    {
     "data": {
      "text/plain": [
       "False"
      ]
     },
     "execution_count": 39,
     "metadata": {},
     "output_type": "execute_result"
    }
   ],
   "source": [
    "func('{}{(}))}')"
   ]
  },
  {
   "cell_type": "code",
   "execution_count": 40,
   "id": "4092ada1",
   "metadata": {},
   "outputs": [
    {
     "data": {
      "text/plain": [
       "True"
      ]
     },
     "execution_count": 40,
     "metadata": {},
     "output_type": "execute_result"
    }
   ],
   "source": [
    "func('{([])}')"
   ]
  },
  {
   "cell_type": "code",
   "execution_count": 41,
   "id": "03e3aee6",
   "metadata": {},
   "outputs": [
    {
     "data": {
      "text/plain": [
       "True"
      ]
     },
     "execution_count": 41,
     "metadata": {},
     "output_type": "execute_result"
    }
   ],
   "source": [
    "func('()')"
   ]
  },
  {
   "cell_type": "code",
   "execution_count": 42,
   "id": "f037cb82",
   "metadata": {},
   "outputs": [
    {
     "data": {
      "text/plain": [
       "False"
      ]
     },
     "execution_count": 42,
     "metadata": {},
     "output_type": "execute_result"
    }
   ],
   "source": [
    "func('[(])')"
   ]
  },
  {
   "cell_type": "code",
   "execution_count": null,
   "id": "4fd48b57",
   "metadata": {},
   "outputs": [],
   "source": []
  }
 ],
 "metadata": {
  "kernelspec": {
   "display_name": "Python 3 (ipykernel)",
   "language": "python",
   "name": "python3"
  },
  "language_info": {
   "codemirror_mode": {
    "name": "ipython",
    "version": 3
   },
   "file_extension": ".py",
   "mimetype": "text/x-python",
   "name": "python",
   "nbconvert_exporter": "python",
   "pygments_lexer": "ipython3",
   "version": "3.10.6"
  }
 },
 "nbformat": 4,
 "nbformat_minor": 5
}
