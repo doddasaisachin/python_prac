{
 "cells": [
  {
   "cell_type": "markdown",
   "id": "2fadf031",
   "metadata": {},
   "source": [
    "Given an integer array nums, your goal is to make all elements in nums equal. To complete one operation, follow these steps:\n",
    "\n",
    "Find the largest value in nums. Let its index be i (0-indexed) and its value be largest. If there are multiple elements with the largest value, pick the smallest i.\n",
    "Find the next largest value in nums strictly smaller than largest. Let its value be nextLargest.\n",
    "Reduce nums[i] to nextLargest.\n",
    "Return the number of operations to make all elements in nums equal."
   ]
  },
  {
   "cell_type": "markdown",
   "id": "12328abc",
   "metadata": {},
   "source": [
    "Example 1:\n",
    "\n",
    "Input: nums = [5,1,3]\n",
    "Output: 3\n",
    "Explanation: It takes 3 operations to make all elements in nums equal:\n",
    "1. largest = 5 at index 0. nextLargest = 3. Reduce nums[0] to 3. nums = [3,1,3].\n",
    "2. largest = 3 at index 0. nextLargest = 1. Reduce nums[0] to 1. nums = [1,1,3].\n",
    "3. largest = 3 at index 2. nextLargest = 1. Reduce nums[2] to 1. nums = [1,1,1]."
   ]
  },
  {
   "cell_type": "markdown",
   "id": "9ed7d2c7",
   "metadata": {},
   "source": [
    "Example 2:\n",
    "\n",
    "Input: nums = [1,1,1]\n",
    "Output: 0\n",
    "Explanation: All elements in nums are already equal.\n"
   ]
  },
  {
   "cell_type": "markdown",
   "id": "4b53bdb5",
   "metadata": {},
   "source": [
    "Example 3:\n",
    "\n",
    "Input: nums = [1,1,2,2,3]\n",
    "Output: 4\n",
    "Explanation: It takes 4 operations to make all elements in nums equal:\n",
    "1. largest = 3 at index 4. nextLargest = 2. Reduce nums[4] to 2. nums = [1,1,2,2,2].\n",
    "2. largest = 2 at index 2. nextLargest = 1. Reduce nums[2] to 1. nums = [1,1,1,2,2].\n",
    "3. largest = 2 at index 3. nextLargest = 1. Reduce nums[3] to 1. nums = [1,1,1,1,2].\n",
    "4. largest = 2 at index 4. nextLargest = 1. Reduce nums[4] to 1. nums = [1,1,1,1,1]."
   ]
  },
  {
   "cell_type": "code",
   "execution_count": 32,
   "id": "aa65b4ea",
   "metadata": {},
   "outputs": [],
   "source": [
    "def function(array):\n",
    "    sorted_array=sorted(array,reverse=True)\n",
    "    count=0\n",
    "    idx=0\n",
    "    while idx<len(sorted_array)-1:\n",
    "        if sorted_array[idx]!=sorted_array[idx+1]:\n",
    "            sorted_array[idx]=sorted_array[idx+1]\n",
    "            count+=idx+1\n",
    "            idx+=1\n",
    "        else:\n",
    "            idx+=1\n",
    "    return count"
   ]
  },
  {
   "cell_type": "code",
   "execution_count": 33,
   "id": "c884d55d",
   "metadata": {},
   "outputs": [
    {
     "data": {
      "text/plain": [
       "3"
      ]
     },
     "execution_count": 33,
     "metadata": {},
     "output_type": "execute_result"
    }
   ],
   "source": [
    "function([5,1,3])"
   ]
  },
  {
   "cell_type": "code",
   "execution_count": 34,
   "id": "e761821d",
   "metadata": {},
   "outputs": [
    {
     "data": {
      "text/plain": [
       "0"
      ]
     },
     "execution_count": 34,
     "metadata": {},
     "output_type": "execute_result"
    }
   ],
   "source": [
    "function([1,1,1])"
   ]
  },
  {
   "cell_type": "code",
   "execution_count": 35,
   "id": "40d5600c",
   "metadata": {},
   "outputs": [
    {
     "data": {
      "text/plain": [
       "4"
      ]
     },
     "execution_count": 35,
     "metadata": {},
     "output_type": "execute_result"
    }
   ],
   "source": [
    "function([1,1,2,2,3])"
   ]
  },
  {
   "cell_type": "code",
   "execution_count": null,
   "id": "bcbf6050",
   "metadata": {},
   "outputs": [],
   "source": []
  }
 ],
 "metadata": {
  "kernelspec": {
   "display_name": "Python 3 (ipykernel)",
   "language": "python",
   "name": "python3"
  },
  "language_info": {
   "codemirror_mode": {
    "name": "ipython",
    "version": 3
   },
   "file_extension": ".py",
   "mimetype": "text/x-python",
   "name": "python",
   "nbconvert_exporter": "python",
   "pygments_lexer": "ipython3",
   "version": "3.10.6"
  }
 },
 "nbformat": 4,
 "nbformat_minor": 5
}
