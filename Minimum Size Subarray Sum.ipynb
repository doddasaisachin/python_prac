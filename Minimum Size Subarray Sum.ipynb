{
 "cells": [
  {
   "cell_type": "markdown",
   "id": "56f53572",
   "metadata": {},
   "source": [
    "Given an array of positive integers nums and a positive integer target, return the minimal length of a \n",
    "subarray\n",
    " whose sum is greater than or equal to target. If there is no such subarray, return 0 instead."
   ]
  },
  {
   "cell_type": "code",
   "execution_count": 94,
   "id": "64254f6e",
   "metadata": {},
   "outputs": [],
   "source": [
    "def fx(target,nums):\n",
    "    ans=float('inf')\n",
    "    temp=0\n",
    "    count=0\n",
    "    i=0\n",
    "    first=0\n",
    "    while i<len(nums):\n",
    "        if temp<target:\n",
    "            temp=temp+nums[i]\n",
    "            count+=1\n",
    "            i+=1\n",
    "        if temp>=target:\n",
    "            ans=min(ans,count)\n",
    "            count-=1\n",
    "            temp=temp-nums[first]\n",
    "            first=first+1\n",
    "    \n",
    "    while temp>=target:\n",
    "        ans=min(ans,count)\n",
    "        count-=1\n",
    "        first+=1\n",
    "        temp-=nums[first]\n",
    "    return ans if ans!=float('inf') else 0"
   ]
  },
  {
   "cell_type": "code",
   "execution_count": 95,
   "id": "e95e068d",
   "metadata": {},
   "outputs": [
    {
     "data": {
      "text/plain": [
       "3"
      ]
     },
     "execution_count": 95,
     "metadata": {},
     "output_type": "execute_result"
    }
   ],
   "source": [
    "fx(11,[2,1,3,4,6])"
   ]
  },
  {
   "cell_type": "code",
   "execution_count": 96,
   "id": "519ac4e2",
   "metadata": {
    "scrolled": false
   },
   "outputs": [
    {
     "data": {
      "text/plain": [
       "3"
      ]
     },
     "execution_count": 96,
     "metadata": {},
     "output_type": "execute_result"
    }
   ],
   "source": [
    "fx(11,[1,2,3,4,5])"
   ]
  },
  {
   "cell_type": "code",
   "execution_count": 97,
   "id": "d75b61f8",
   "metadata": {},
   "outputs": [
    {
     "data": {
      "text/plain": [
       "2"
      ]
     },
     "execution_count": 97,
     "metadata": {},
     "output_type": "execute_result"
    }
   ],
   "source": [
    "fx(target = 7,nums = [2,3,1,2,4,3])"
   ]
  },
  {
   "cell_type": "code",
   "execution_count": 98,
   "id": "c136f637",
   "metadata": {},
   "outputs": [
    {
     "data": {
      "text/plain": [
       "1"
      ]
     },
     "execution_count": 98,
     "metadata": {},
     "output_type": "execute_result"
    }
   ],
   "source": [
    "fx( target = 4, nums = [1,4,4])"
   ]
  },
  {
   "cell_type": "code",
   "execution_count": 99,
   "id": "18839801",
   "metadata": {},
   "outputs": [
    {
     "data": {
      "text/plain": [
       "0"
      ]
     },
     "execution_count": 99,
     "metadata": {},
     "output_type": "execute_result"
    }
   ],
   "source": [
    "fx(target = 11, nums = [1,1,1,1,1,1,1,1])"
   ]
  },
  {
   "cell_type": "code",
   "execution_count": null,
   "id": "6ff43d26",
   "metadata": {},
   "outputs": [],
   "source": []
  },
  {
   "cell_type": "code",
   "execution_count": null,
   "id": "29bbba92",
   "metadata": {},
   "outputs": [],
   "source": []
  }
 ],
 "metadata": {
  "kernelspec": {
   "display_name": "Python 3 (ipykernel)",
   "language": "python",
   "name": "python3"
  },
  "language_info": {
   "codemirror_mode": {
    "name": "ipython",
    "version": 3
   },
   "file_extension": ".py",
   "mimetype": "text/x-python",
   "name": "python",
   "nbconvert_exporter": "python",
   "pygments_lexer": "ipython3",
   "version": "3.10.6"
  }
 },
 "nbformat": 4,
 "nbformat_minor": 5
}
