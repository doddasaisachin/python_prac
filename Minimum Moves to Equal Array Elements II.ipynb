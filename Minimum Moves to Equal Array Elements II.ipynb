{
 "cells": [
  {
   "cell_type": "markdown",
   "id": "93fbdd1e",
   "metadata": {},
   "source": [
    "Given an integer array nums of size n, return the minimum number of moves required to make all array elements equal.\n",
    "\n",
    "In one move, you can increment or decrement an element of the array by 1.\n",
    "\n",
    "Test cases are designed so that the answer will fit in a 32-bit integer."
   ]
  },
  {
   "cell_type": "code",
   "execution_count": 14,
   "id": "73152f70",
   "metadata": {},
   "outputs": [],
   "source": [
    "def fx(arr):\n",
    "    arr.sort()\n",
    "    n=len(arr)\n",
    "    if n%2==0:\n",
    "        med=(arr[n//2-1]+arr[n//2])//2\n",
    "    else:\n",
    "        med=arr[n//2]\n",
    "    res=0\n",
    "    for i in arr:\n",
    "        res+=abs(med-i)\n",
    "    return res"
   ]
  },
  {
   "cell_type": "code",
   "execution_count": 16,
   "id": "ac93971a",
   "metadata": {},
   "outputs": [
    {
     "data": {
      "text/plain": [
       "2"
      ]
     },
     "execution_count": 16,
     "metadata": {},
     "output_type": "execute_result"
    }
   ],
   "source": [
    "fx([1,2,3])"
   ]
  },
  {
   "cell_type": "code",
   "execution_count": 17,
   "id": "8259aeaf",
   "metadata": {},
   "outputs": [
    {
     "data": {
      "text/plain": [
       "622"
      ]
     },
     "execution_count": 17,
     "metadata": {},
     "output_type": "execute_result"
    }
   ],
   "source": [
    "622"
   ]
  },
  {
   "cell_type": "code",
   "execution_count": 18,
   "id": "99328bca",
   "metadata": {},
   "outputs": [
    {
     "data": {
      "text/plain": [
       "16"
      ]
     },
     "execution_count": 18,
     "metadata": {},
     "output_type": "execute_result"
    }
   ],
   "source": [
    "fx([1,9,2,10])"
   ]
  },
  {
   "cell_type": "code",
   "execution_count": null,
   "id": "28e93622",
   "metadata": {},
   "outputs": [],
   "source": []
  }
 ],
 "metadata": {
  "kernelspec": {
   "display_name": "Python 3 (ipykernel)",
   "language": "python",
   "name": "python3"
  },
  "language_info": {
   "codemirror_mode": {
    "name": "ipython",
    "version": 3
   },
   "file_extension": ".py",
   "mimetype": "text/x-python",
   "name": "python",
   "nbconvert_exporter": "python",
   "pygments_lexer": "ipython3",
   "version": "3.10.6"
  }
 },
 "nbformat": 4,
 "nbformat_minor": 5
}
